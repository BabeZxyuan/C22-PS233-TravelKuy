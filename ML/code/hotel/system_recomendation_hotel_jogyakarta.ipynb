{
 "cells": [
  {
   "cell_type": "markdown",
   "metadata": {
    "id": "H4dHySlIgs9p"
   },
   "source": [
    "# Import Package"
   ]
  },
  {
   "cell_type": "code",
   "execution_count": 1,
   "metadata": {
    "id": "UEw3gFdFgvR9"
   },
   "outputs": [
    {
     "name": "stderr",
     "output_type": "stream",
     "text": [
      "2022-06-09 21:08:14.172161: W tensorflow/stream_executor/platform/default/dso_loader.cc:64] Could not load dynamic library 'libcudart.so.11.0'; dlerror: libcudart.so.11.0: cannot open shared object file: No such file or directory\n",
      "2022-06-09 21:08:14.172199: I tensorflow/stream_executor/cuda/cudart_stub.cc:29] Ignore above cudart dlerror if you do not have a GPU set up on your machine.\n"
     ]
    }
   ],
   "source": [
    "import numpy as np\n",
    "import pandas as pd \n",
    "\n",
    "import tensorflow as tf\n",
    "from tensorflow import keras\n",
    "from tensorflow.keras import layers\n",
    "import pickle"
   ]
  },
  {
   "cell_type": "code",
   "execution_count": 2,
   "metadata": {
    "colab": {
     "base_uri": "https://localhost:8080/"
    },
    "id": "t4jpyklMTvVQ",
    "outputId": "bb2beb34-c8aa-4143-a6f2-380d7566fd51"
   },
   "outputs": [
    {
     "name": "stdout",
     "output_type": "stream",
     "text": [
      "\n",
      "1.22.4,\n",
      "1.4.2,\n",
      "2.9.1\n"
     ]
    }
   ],
   "source": [
    "print(f'''\n",
    "{np.__version__},\n",
    "{pd.__version__},\n",
    "{tf.__version__}''')"
   ]
  },
  {
   "cell_type": "code",
   "execution_count": 3,
   "metadata": {
    "colab": {
     "base_uri": "https://localhost:8080/"
    },
    "id": "UU1lEoQYVBYt",
    "outputId": "a7750daf-a242-45de-b81a-5b36116d5ab3"
   },
   "outputs": [
    {
     "name": "stdout",
     "output_type": "stream",
     "text": [
      "Python 3.8.10\r\n"
     ]
    }
   ],
   "source": [
    "!python --version"
   ]
  },
  {
   "cell_type": "markdown",
   "metadata": {
    "id": "VVF4rN5cgzPr"
   },
   "source": [
    "# Import Dataset"
   ]
  },
  {
   "cell_type": "code",
   "execution_count": 10,
   "metadata": {
    "id": "doIruLZpgxrz"
   },
   "outputs": [],
   "source": [
    "rating = pd.read_csv('../../data/rating.csv')\n",
    "hotel = pd.read_csv('../../data/hotel.csv')\n",
    "user = pd.read_csv('../../data/user.csv')"
   ]
  },
  {
   "cell_type": "code",
   "execution_count": 11,
   "metadata": {
    "colab": {
     "base_uri": "https://localhost:8080/"
    },
    "id": "9aXx38a0hWeM",
    "outputId": "e77ee68d-4db5-45b7-d410-8779c0ed712e"
   },
   "outputs": [
    {
     "name": "stdout",
     "output_type": "stream",
     "text": [
      "rating : (10000, 3)\n",
      "hotel : (110, 11)\n",
      "user : (300, 3)\n"
     ]
    }
   ],
   "source": [
    "# melihat ukuran data\n",
    "print(f'rating : {rating.shape}')\n",
    "print(f'hotel : {hotel.shape}')\n",
    "print(f'user : {user.shape}')"
   ]
  },
  {
   "cell_type": "markdown",
   "metadata": {
    "id": "To3P2Wgmjz88"
   },
   "source": [
    "# Persiapan Dataset"
   ]
  },
  {
   "cell_type": "code",
   "execution_count": 12,
   "metadata": {},
   "outputs": [
    {
     "data": {
      "text/html": [
       "<div>\n",
       "<style scoped>\n",
       "    .dataframe tbody tr th:only-of-type {\n",
       "        vertical-align: middle;\n",
       "    }\n",
       "\n",
       "    .dataframe tbody tr th {\n",
       "        vertical-align: top;\n",
       "    }\n",
       "\n",
       "    .dataframe thead th {\n",
       "        text-align: right;\n",
       "    }\n",
       "</style>\n",
       "<table border=\"1\" class=\"dataframe\">\n",
       "  <thead>\n",
       "    <tr style=\"text-align: right;\">\n",
       "      <th></th>\n",
       "      <th>id</th>\n",
       "      <th>Name</th>\n",
       "      <th>City</th>\n",
       "      <th>Ratings</th>\n",
       "      <th>Price</th>\n",
       "      <th>Addres</th>\n",
       "      <th>Coordinate</th>\n",
       "      <th>Description</th>\n",
       "      <th>Lat</th>\n",
       "      <th>Long</th>\n",
       "      <th>Images</th>\n",
       "    </tr>\n",
       "  </thead>\n",
       "  <tbody>\n",
       "    <tr>\n",
       "      <th>0</th>\n",
       "      <td>1</td>\n",
       "      <td>Artotel Suites Bianti Yogyakarta</td>\n",
       "      <td>Yogyakarta</td>\n",
       "      <td>5.0</td>\n",
       "      <td>625000</td>\n",
       "      <td>Jl. Urip Sumoharjo No.37, Klitren, Kec. Gondok...</td>\n",
       "      <td>-7.782655534201323, 110.38190546790418</td>\n",
       "      <td>Set among shops in the city center and offerin...</td>\n",
       "      <td>-7.782656</td>\n",
       "      <td>110.381906</td>\n",
       "      <td>https://asset.kompas.com/crops/bcek5vqNPwTfaEL...</td>\n",
       "    </tr>\n",
       "    <tr>\n",
       "      <th>1</th>\n",
       "      <td>2</td>\n",
       "      <td>The Phoenix Hotel Yogyakarta - MGallery Collec...</td>\n",
       "      <td>Yogyakarta</td>\n",
       "      <td>4.5</td>\n",
       "      <td>735390</td>\n",
       "      <td>Jl. Jend. Sudirman No.9, Cokrodiningratan, Kec...</td>\n",
       "      <td>-7.782368072882206, 110.36852501265078</td>\n",
       "      <td>Set in a colonial building dating from 1918, t...</td>\n",
       "      <td>-7.782368</td>\n",
       "      <td>110.368525</td>\n",
       "      <td>https://cf.bstatic.com/xdata/images/hotel/max1...</td>\n",
       "    </tr>\n",
       "    <tr>\n",
       "      <th>2</th>\n",
       "      <td>3</td>\n",
       "      <td>Hotel New Saphir Yogyakarta</td>\n",
       "      <td>Yogyakarta</td>\n",
       "      <td>3.5</td>\n",
       "      <td>398160</td>\n",
       "      <td>Jl. Laksda Adisucipto No.38, Demangan, Kec. Go...</td>\n",
       "      <td>-7.783321134572196, 110.3914155390688</td>\n",
       "      <td>This chic, palm-tree fronted hotel with views ...</td>\n",
       "      <td>-7.783321</td>\n",
       "      <td>110.391415</td>\n",
       "      <td>https://s-light.tiket.photos/t/01E25EBZS3W0FY9...</td>\n",
       "    </tr>\n",
       "    <tr>\n",
       "      <th>3</th>\n",
       "      <td>4</td>\n",
       "      <td>Lafayette Boutique Hotel Yogyakarta</td>\n",
       "      <td>Yogyakarta</td>\n",
       "      <td>4.5</td>\n",
       "      <td>649366</td>\n",
       "      <td>Manggung, Caturtunggal, Kec. Depok, Kabupaten ...</td>\n",
       "      <td>-7.759268574181231, 110.38734472557458</td>\n",
       "      <td>In a bustling commercial area, this upscale, s...</td>\n",
       "      <td>-7.759269</td>\n",
       "      <td>110.387345</td>\n",
       "      <td>https://ik.imagekit.io/tvlk/apr-asset/dgXfoyh2...</td>\n",
       "    </tr>\n",
       "    <tr>\n",
       "      <th>4</th>\n",
       "      <td>5</td>\n",
       "      <td>Grand Mercure Yogyakarta Adi Sucipto</td>\n",
       "      <td>Yogyakarta</td>\n",
       "      <td>4.5</td>\n",
       "      <td>532784</td>\n",
       "      <td>Jl. Laksda Adisucipto No.80, Demangan Baru, Ca...</td>\n",
       "      <td>-7.783529869615401, 110.39236054584215</td>\n",
       "      <td>Set in a commercial area and offering views of...</td>\n",
       "      <td>-7.783530</td>\n",
       "      <td>110.392360</td>\n",
       "      <td>https://cf.bstatic.com/xdata/images/hotel/max1...</td>\n",
       "    </tr>\n",
       "  </tbody>\n",
       "</table>\n",
       "</div>"
      ],
      "text/plain": [
       "   id                                               Name        City  Ratings  \\\n",
       "0   1                   Artotel Suites Bianti Yogyakarta  Yogyakarta      5.0   \n",
       "1   2  The Phoenix Hotel Yogyakarta - MGallery Collec...  Yogyakarta      4.5   \n",
       "2   3                        Hotel New Saphir Yogyakarta  Yogyakarta      3.5   \n",
       "3   4                Lafayette Boutique Hotel Yogyakarta  Yogyakarta      4.5   \n",
       "4   5               Grand Mercure Yogyakarta Adi Sucipto  Yogyakarta      4.5   \n",
       "\n",
       "    Price                                             Addres  \\\n",
       "0  625000  Jl. Urip Sumoharjo No.37, Klitren, Kec. Gondok...   \n",
       "1  735390  Jl. Jend. Sudirman No.9, Cokrodiningratan, Kec...   \n",
       "2  398160  Jl. Laksda Adisucipto No.38, Demangan, Kec. Go...   \n",
       "3  649366  Manggung, Caturtunggal, Kec. Depok, Kabupaten ...   \n",
       "4  532784  Jl. Laksda Adisucipto No.80, Demangan Baru, Ca...   \n",
       "\n",
       "                               Coordinate  \\\n",
       "0  -7.782655534201323, 110.38190546790418   \n",
       "1  -7.782368072882206, 110.36852501265078   \n",
       "2   -7.783321134572196, 110.3914155390688   \n",
       "3  -7.759268574181231, 110.38734472557458   \n",
       "4  -7.783529869615401, 110.39236054584215   \n",
       "\n",
       "                                         Description       Lat        Long  \\\n",
       "0  Set among shops in the city center and offerin... -7.782656  110.381906   \n",
       "1  Set in a colonial building dating from 1918, t... -7.782368  110.368525   \n",
       "2  This chic, palm-tree fronted hotel with views ... -7.783321  110.391415   \n",
       "3  In a bustling commercial area, this upscale, s... -7.759269  110.387345   \n",
       "4  Set in a commercial area and offering views of... -7.783530  110.392360   \n",
       "\n",
       "                                              Images  \n",
       "0  https://asset.kompas.com/crops/bcek5vqNPwTfaEL...  \n",
       "1  https://cf.bstatic.com/xdata/images/hotel/max1...  \n",
       "2  https://s-light.tiket.photos/t/01E25EBZS3W0FY9...  \n",
       "3  https://ik.imagekit.io/tvlk/apr-asset/dgXfoyh2...  \n",
       "4  https://cf.bstatic.com/xdata/images/hotel/max1...  "
      ]
     },
     "execution_count": 12,
     "metadata": {},
     "output_type": "execute_result"
    }
   ],
   "source": [
    "# Merubah data agar hanya dari Kota Yogyakarta\n",
    "\n",
    "hotel = hotel[hotel['City']=='Yogyakarta']\n",
    "hotel.head()"
   ]
  },
  {
   "cell_type": "code",
   "execution_count": 13,
   "metadata": {
    "colab": {
     "base_uri": "https://localhost:8080/",
     "height": 206
    },
    "id": "UXfR_jLyj11O",
    "outputId": "754a636b-6f58-4318-a1bd-1676acf48d4c"
   },
   "outputs": [
    {
     "data": {
      "text/html": [
       "<div>\n",
       "<style scoped>\n",
       "    .dataframe tbody tr th:only-of-type {\n",
       "        vertical-align: middle;\n",
       "    }\n",
       "\n",
       "    .dataframe tbody tr th {\n",
       "        vertical-align: top;\n",
       "    }\n",
       "\n",
       "    .dataframe thead th {\n",
       "        text-align: right;\n",
       "    }\n",
       "</style>\n",
       "<table border=\"1\" class=\"dataframe\">\n",
       "  <thead>\n",
       "    <tr style=\"text-align: right;\">\n",
       "      <th></th>\n",
       "      <th>User_Id</th>\n",
       "      <th>Place_Id</th>\n",
       "      <th>Place_Ratings</th>\n",
       "    </tr>\n",
       "  </thead>\n",
       "  <tbody>\n",
       "    <tr>\n",
       "      <th>0</th>\n",
       "      <td>1</td>\n",
       "      <td>179</td>\n",
       "      <td>3</td>\n",
       "    </tr>\n",
       "    <tr>\n",
       "      <th>1</th>\n",
       "      <td>1</td>\n",
       "      <td>344</td>\n",
       "      <td>2</td>\n",
       "    </tr>\n",
       "    <tr>\n",
       "      <th>2</th>\n",
       "      <td>1</td>\n",
       "      <td>5</td>\n",
       "      <td>5</td>\n",
       "    </tr>\n",
       "    <tr>\n",
       "      <th>3</th>\n",
       "      <td>1</td>\n",
       "      <td>373</td>\n",
       "      <td>3</td>\n",
       "    </tr>\n",
       "    <tr>\n",
       "      <th>4</th>\n",
       "      <td>1</td>\n",
       "      <td>101</td>\n",
       "      <td>4</td>\n",
       "    </tr>\n",
       "  </tbody>\n",
       "</table>\n",
       "</div>"
      ],
      "text/plain": [
       "   User_Id  Place_Id  Place_Ratings\n",
       "0        1       179              3\n",
       "1        1       344              2\n",
       "2        1         5              5\n",
       "3        1       373              3\n",
       "4        1       101              4"
      ]
     },
     "execution_count": 13,
     "metadata": {},
     "output_type": "execute_result"
    }
   ],
   "source": [
    "rating.head()"
   ]
  },
  {
   "cell_type": "code",
   "execution_count": 14,
   "metadata": {
    "id": "faQmImEHj7lr"
   },
   "outputs": [],
   "source": [
    "df = rating.copy()"
   ]
  },
  {
   "cell_type": "code",
   "execution_count": 15,
   "metadata": {
    "id": "Y2A8gEUfkBO1"
   },
   "outputs": [],
   "source": [
    "#ENCODING\n",
    "def dict_encoder(col, data=df):\n",
    "  unique_val = data[col].unique().tolist()\n",
    "  val_to_val_encoded = {x: i for i, x in enumerate(unique_val)}\n",
    "  val_encoded_to_val = {i: x for i, x in enumerate(unique_val)}\n",
    "  return val_to_val_encoded, val_encoded_to_val"
   ]
  },
  {
   "cell_type": "code",
   "execution_count": 16,
   "metadata": {
    "id": "am59S7y-kEc7"
   },
   "outputs": [],
   "source": [
    "user_to_user_encoded, user_encoded_to_user = dict_encoder('User_Id')\n",
    "df['user'] = df['User_Id'].map(user_to_user_encoded)"
   ]
  },
  {
   "cell_type": "code",
   "execution_count": 17,
   "metadata": {
    "id": "eQjVlgL7kJR1"
   },
   "outputs": [],
   "source": [
    "# Encoding Place_Id\n",
    "place_to_place_encoded, place_encoded_to_place = dict_encoder('Place_Id')\n",
    "\n",
    "# Mapping Place_Id ke dataframe place\n",
    "df['place'] = df['Place_Id'].map(place_to_place_encoded)"
   ]
  },
  {
   "cell_type": "code",
   "execution_count": 18,
   "metadata": {
    "id": "WnHUTDAHkLQt"
   },
   "outputs": [],
   "source": [
    "# Mendapatkan jumlah user dan hotel\n",
    "num_users, num_place = len(user_to_user_encoded), len(place_to_place_encoded)\n",
    "# mengubah nilai rating menjadi nilai float\n",
    "df['Place_Ratings'] = df['Place_Ratings'].values.astype(np.float32)\n",
    "# Mendapatkan nilai minimum dan maksimum rating\n",
    "min_rating, max_rating = min(df['Place_Ratings']), max(df['Place_Ratings'])"
   ]
  },
  {
   "cell_type": "code",
   "execution_count": 19,
   "metadata": {
    "colab": {
     "base_uri": "https://localhost:8080/"
    },
    "id": "0GoFMjOikPeh",
    "outputId": "c211da1b-cfbb-4e3b-99a0-b4a575bb7eab"
   },
   "outputs": [
    {
     "name": "stdout",
     "output_type": "stream",
     "text": [
      "Jumlah user : 300\n",
      "Jumlah Hotel : 437\n",
      "Rating minimum : 1.0\n",
      "Rating maximum : 5.0\n"
     ]
    }
   ],
   "source": [
    "print(f'Jumlah user : {num_users}')\n",
    "print(f'Jumlah Hotel : {num_place}')\n",
    "print(f'Rating minimum : {min_rating}')\n",
    "print(f'Rating maximum : {max_rating}')"
   ]
  },
  {
   "cell_type": "code",
   "execution_count": 20,
   "metadata": {
    "colab": {
     "base_uri": "https://localhost:8080/",
     "height": 206
    },
    "id": "LEh4cl9qkVCs",
    "outputId": "90e1fcc5-dc8f-4ff1-f50f-5e5bb232d5f9"
   },
   "outputs": [
    {
     "data": {
      "text/html": [
       "<div>\n",
       "<style scoped>\n",
       "    .dataframe tbody tr th:only-of-type {\n",
       "        vertical-align: middle;\n",
       "    }\n",
       "\n",
       "    .dataframe tbody tr th {\n",
       "        vertical-align: top;\n",
       "    }\n",
       "\n",
       "    .dataframe thead th {\n",
       "        text-align: right;\n",
       "    }\n",
       "</style>\n",
       "<table border=\"1\" class=\"dataframe\">\n",
       "  <thead>\n",
       "    <tr style=\"text-align: right;\">\n",
       "      <th></th>\n",
       "      <th>User_Id</th>\n",
       "      <th>Place_Id</th>\n",
       "      <th>Place_Ratings</th>\n",
       "      <th>user</th>\n",
       "      <th>place</th>\n",
       "    </tr>\n",
       "  </thead>\n",
       "  <tbody>\n",
       "    <tr>\n",
       "      <th>6252</th>\n",
       "      <td>188</td>\n",
       "      <td>207</td>\n",
       "      <td>3.0</td>\n",
       "      <td>187</td>\n",
       "      <td>262</td>\n",
       "    </tr>\n",
       "    <tr>\n",
       "      <th>4684</th>\n",
       "      <td>142</td>\n",
       "      <td>268</td>\n",
       "      <td>2.0</td>\n",
       "      <td>141</td>\n",
       "      <td>83</td>\n",
       "    </tr>\n",
       "    <tr>\n",
       "      <th>1731</th>\n",
       "      <td>54</td>\n",
       "      <td>103</td>\n",
       "      <td>3.0</td>\n",
       "      <td>53</td>\n",
       "      <td>10</td>\n",
       "    </tr>\n",
       "    <tr>\n",
       "      <th>4742</th>\n",
       "      <td>144</td>\n",
       "      <td>119</td>\n",
       "      <td>3.0</td>\n",
       "      <td>143</td>\n",
       "      <td>141</td>\n",
       "    </tr>\n",
       "    <tr>\n",
       "      <th>4521</th>\n",
       "      <td>138</td>\n",
       "      <td>288</td>\n",
       "      <td>5.0</td>\n",
       "      <td>137</td>\n",
       "      <td>283</td>\n",
       "    </tr>\n",
       "  </tbody>\n",
       "</table>\n",
       "</div>"
      ],
      "text/plain": [
       "      User_Id  Place_Id  Place_Ratings  user  place\n",
       "6252      188       207            3.0   187    262\n",
       "4684      142       268            2.0   141     83\n",
       "1731       54       103            3.0    53     10\n",
       "4742      144       119            3.0   143    141\n",
       "4521      138       288            5.0   137    283"
      ]
     },
     "execution_count": 20,
     "metadata": {},
     "output_type": "execute_result"
    }
   ],
   "source": [
    "# Mengacak dataset\n",
    "df = df.sample(frac=1, random_state=42)\n",
    "df.head()"
   ]
  },
  {
   "cell_type": "markdown",
   "metadata": {
    "id": "qa_3eNLukb7w"
   },
   "source": [
    "# Splitting Dataset"
   ]
  },
  {
   "cell_type": "code",
   "execution_count": 21,
   "metadata": {
    "colab": {
     "base_uri": "https://localhost:8080/"
    },
    "id": "HaAomUqQkd49",
    "outputId": "6c7e731c-9276-47d8-c1bb-f7160516dcde"
   },
   "outputs": [
    {
     "name": "stdout",
     "output_type": "stream",
     "text": [
      "x_train : (8000, 2)\n",
      "x_test : (2000, 2)\n",
      "y_train : (8000,)\n",
      "y_test : (2000,)\n"
     ]
    }
   ],
   "source": [
    "# Mambuat Variable x\n",
    "x = df[['user', 'place']].values\n",
    "# membuat Variable y\n",
    "y = df['Place_Ratings'].apply(lambda x: (x-min_rating)/(max_rating-min_rating)).values\n",
    "\n",
    "# split dataset\n",
    "indices = int(0.8*df.shape[0])\n",
    "x_train, x_test, y_train, y_test = (x[:indices],\n",
    "                                    x[indices:],\n",
    "                                    y[:indices],\n",
    "                                    y[indices:]\n",
    "                                    )\n",
    "print(f'x_train : {x_train.shape}')\n",
    "print(f'x_test : {x_test.shape}')\n",
    "print(f'y_train : {y_train.shape}')\n",
    "print(f'y_test : {y_test.shape}')"
   ]
  },
  {
   "cell_type": "code",
   "execution_count": 22,
   "metadata": {
    "id": "E2K4DOGpkivb"
   },
   "outputs": [],
   "source": [
    "class Recommended(keras.Model):\n",
    "  def __init__(self,num_users, num_places, embedding_size, **kwargs):\n",
    "    super(Recommended, self).__init__(**kwargs)\n",
    "    self.num_users = num_users\n",
    "    self.num_places = num_places\n",
    "    self.embedding_size = embedding_size\n",
    "    self.user_embedding = layers.Embedding(num_users,\n",
    "                                           embedding_size,\n",
    "                                           embeddings_initializer = 'he_normal',\n",
    "                                           embeddings_regularizer = keras.regularizers.l2(1e-6)\n",
    "    )\n",
    "    self.user_bias = layers.Embedding(num_users,1)\n",
    "    self.places_embedding = layers.Embedding(num_places,\n",
    "                                             embedding_size,\n",
    "                                             embeddings_initializer='he_normal',\n",
    "                                             embeddings_regularizer= keras.regularizers.l2(1e-6)\n",
    "                                             )\n",
    "    self.places_bias = layers.Embedding(num_places,1)\n",
    "\n",
    "  def call(self, inputs):\n",
    "    user_vec = self.user_embedding(inputs[:,0])\n",
    "    user_bias = self.user_bias(inputs[:,0])\n",
    "    places_vec = self.places_embedding(inputs[:,1])\n",
    "    places_bias = self.places_bias(inputs[:,1])\n",
    "\n",
    "    dot_user_places = tf.tensordot(user_vec, places_vec, 2)\n",
    "\n",
    "    x = dot_user_places + user_bias + places_bias\n",
    "\n",
    "    return tf.nn.sigmoid(x)\n"
   ]
  },
  {
   "cell_type": "code",
   "execution_count": 23,
   "metadata": {
    "id": "JiXUdNx6kmRB"
   },
   "outputs": [
    {
     "name": "stderr",
     "output_type": "stream",
     "text": [
      "2022-06-09 21:13:16.371077: W tensorflow/stream_executor/platform/default/dso_loader.cc:64] Could not load dynamic library 'libcuda.so.1'; dlerror: libcuda.so.1: cannot open shared object file: No such file or directory\n",
      "2022-06-09 21:13:16.371131: W tensorflow/stream_executor/cuda/cuda_driver.cc:269] failed call to cuInit: UNKNOWN ERROR (303)\n",
      "2022-06-09 21:13:16.371167: I tensorflow/stream_executor/cuda/cuda_diagnostics.cc:156] kernel driver does not appear to be running on this host (wan): /proc/driver/nvidia/version does not exist\n"
     ]
    }
   ],
   "source": [
    "model = Recommended(num_users, num_place, 50)\n",
    "\n",
    "model.compile(optimizer='adam', \n",
    "              loss='binary_crossentropy', \n",
    "              metrics=['accuracy']\n",
    "              )"
   ]
  },
  {
   "cell_type": "markdown",
   "metadata": {
    "id": "nRUMiWeVko_k"
   },
   "source": [
    "# training Model"
   ]
  },
  {
   "cell_type": "code",
   "execution_count": 24,
   "metadata": {
    "colab": {
     "base_uri": "https://localhost:8080/"
    },
    "id": "xROri4O9koRP",
    "outputId": "25fd1b58-1f5e-46e0-aa39-5d14236c1b96"
   },
   "outputs": [
    {
     "name": "stdout",
     "output_type": "stream",
     "text": [
      "Epoch 1/50\n",
      "250/250 [==============================] - 2s 4ms/step - loss: 0.6998 - accuracy: 0.1840 - val_loss: 0.7010 - val_accuracy: 0.1825\n",
      "Epoch 2/50\n",
      "250/250 [==============================] - 1s 3ms/step - loss: 0.6968 - accuracy: 0.1964 - val_loss: 0.6998 - val_accuracy: 0.1870\n",
      "Epoch 3/50\n",
      "250/250 [==============================] - 1s 3ms/step - loss: 0.6957 - accuracy: 0.2004 - val_loss: 0.7001 - val_accuracy: 0.1945\n",
      "Epoch 4/50\n",
      "250/250 [==============================] - 1s 3ms/step - loss: 0.6971 - accuracy: 0.2111 - val_loss: 0.6996 - val_accuracy: 0.1915\n",
      "Epoch 5/50\n",
      "250/250 [==============================] - 1s 3ms/step - loss: 0.6920 - accuracy: 0.2148 - val_loss: 0.6983 - val_accuracy: 0.1920\n",
      "Epoch 6/50\n",
      "250/250 [==============================] - 1s 3ms/step - loss: 0.6936 - accuracy: 0.2195 - val_loss: 0.6979 - val_accuracy: 0.1950\n",
      "Epoch 7/50\n",
      "250/250 [==============================] - 1s 3ms/step - loss: 0.6898 - accuracy: 0.2212 - val_loss: 0.6986 - val_accuracy: 0.1990\n",
      "Epoch 8/50\n",
      "250/250 [==============================] - 1s 3ms/step - loss: 0.6903 - accuracy: 0.2210 - val_loss: 0.6975 - val_accuracy: 0.1975\n",
      "Epoch 9/50\n",
      "250/250 [==============================] - 1s 3ms/step - loss: 0.6866 - accuracy: 0.2268 - val_loss: 0.6975 - val_accuracy: 0.1935\n",
      "Epoch 10/50\n",
      "250/250 [==============================] - 1s 3ms/step - loss: 0.6873 - accuracy: 0.2270 - val_loss: 0.6977 - val_accuracy: 0.1925\n",
      "Epoch 11/50\n",
      "250/250 [==============================] - 1s 3ms/step - loss: 0.6879 - accuracy: 0.2250 - val_loss: 0.6981 - val_accuracy: 0.1985\n",
      "Epoch 12/50\n",
      "250/250 [==============================] - 1s 3ms/step - loss: 0.6841 - accuracy: 0.2316 - val_loss: 0.6978 - val_accuracy: 0.1965\n",
      "Epoch 13/50\n",
      "250/250 [==============================] - 1s 3ms/step - loss: 0.6829 - accuracy: 0.2356 - val_loss: 0.6980 - val_accuracy: 0.1955\n",
      "Epoch 14/50\n",
      "250/250 [==============================] - 1s 3ms/step - loss: 0.6810 - accuracy: 0.2432 - val_loss: 0.6969 - val_accuracy: 0.1965\n",
      "Epoch 15/50\n",
      "250/250 [==============================] - 1s 3ms/step - loss: 0.6793 - accuracy: 0.2399 - val_loss: 0.6974 - val_accuracy: 0.1980\n",
      "Epoch 16/50\n",
      "250/250 [==============================] - 1s 3ms/step - loss: 0.6778 - accuracy: 0.2481 - val_loss: 0.6981 - val_accuracy: 0.2010\n",
      "Epoch 17/50\n",
      "250/250 [==============================] - 1s 3ms/step - loss: 0.6790 - accuracy: 0.2410 - val_loss: 0.6981 - val_accuracy: 0.2045\n",
      "Epoch 18/50\n",
      "250/250 [==============================] - 1s 3ms/step - loss: 0.6770 - accuracy: 0.2434 - val_loss: 0.6984 - val_accuracy: 0.2015\n",
      "Epoch 19/50\n",
      "250/250 [==============================] - 1s 3ms/step - loss: 0.6764 - accuracy: 0.2445 - val_loss: 0.6988 - val_accuracy: 0.2030\n",
      "Epoch 20/50\n",
      "250/250 [==============================] - 1s 3ms/step - loss: 0.6746 - accuracy: 0.2541 - val_loss: 0.6987 - val_accuracy: 0.2005\n",
      "Epoch 21/50\n",
      "250/250 [==============================] - 1s 3ms/step - loss: 0.6763 - accuracy: 0.2445 - val_loss: 0.6993 - val_accuracy: 0.2000\n",
      "Epoch 22/50\n",
      "250/250 [==============================] - 1s 3ms/step - loss: 0.6741 - accuracy: 0.2512 - val_loss: 0.7003 - val_accuracy: 0.2025\n",
      "Epoch 23/50\n",
      "250/250 [==============================] - 1s 3ms/step - loss: 0.6735 - accuracy: 0.2479 - val_loss: 0.7009 - val_accuracy: 0.1990\n",
      "Epoch 24/50\n",
      "250/250 [==============================] - 1s 3ms/step - loss: 0.6750 - accuracy: 0.2470 - val_loss: 0.7011 - val_accuracy: 0.2020\n",
      "Epoch 25/50\n",
      "250/250 [==============================] - 1s 3ms/step - loss: 0.6747 - accuracy: 0.2494 - val_loss: 0.7010 - val_accuracy: 0.1995\n",
      "Epoch 26/50\n",
      "250/250 [==============================] - 1s 3ms/step - loss: 0.6723 - accuracy: 0.2496 - val_loss: 0.7003 - val_accuracy: 0.2045\n",
      "Epoch 27/50\n",
      "250/250 [==============================] - 1s 3ms/step - loss: 0.6722 - accuracy: 0.2533 - val_loss: 0.7014 - val_accuracy: 0.2020\n",
      "Epoch 28/50\n",
      "250/250 [==============================] - 1s 3ms/step - loss: 0.6739 - accuracy: 0.2486 - val_loss: 0.7013 - val_accuracy: 0.2000\n",
      "Epoch 29/50\n",
      "250/250 [==============================] - 1s 3ms/step - loss: 0.6741 - accuracy: 0.2459 - val_loss: 0.7020 - val_accuracy: 0.2055\n",
      "Epoch 30/50\n",
      "250/250 [==============================] - 1s 3ms/step - loss: 0.6715 - accuracy: 0.2521 - val_loss: 0.7015 - val_accuracy: 0.1995\n",
      "Epoch 31/50\n",
      "250/250 [==============================] - 1s 3ms/step - loss: 0.6735 - accuracy: 0.2441 - val_loss: 0.7022 - val_accuracy: 0.2030\n",
      "Epoch 32/50\n",
      "250/250 [==============================] - 1s 3ms/step - loss: 0.6711 - accuracy: 0.2569 - val_loss: 0.7024 - val_accuracy: 0.2005\n",
      "Epoch 33/50\n",
      "250/250 [==============================] - 1s 3ms/step - loss: 0.6700 - accuracy: 0.2540 - val_loss: 0.7031 - val_accuracy: 0.1975\n",
      "Epoch 34/50\n",
      "250/250 [==============================] - 1s 4ms/step - loss: 0.6702 - accuracy: 0.2550 - val_loss: 0.7028 - val_accuracy: 0.2005\n",
      "Epoch 35/50\n",
      "250/250 [==============================] - 1s 4ms/step - loss: 0.6709 - accuracy: 0.2558 - val_loss: 0.7041 - val_accuracy: 0.2035\n",
      "Epoch 36/50\n",
      "250/250 [==============================] - 1s 5ms/step - loss: 0.6691 - accuracy: 0.2590 - val_loss: 0.7041 - val_accuracy: 0.1995\n",
      "Epoch 37/50\n",
      "250/250 [==============================] - 1s 4ms/step - loss: 0.6707 - accuracy: 0.2506 - val_loss: 0.7040 - val_accuracy: 0.2095\n",
      "Epoch 38/50\n",
      "250/250 [==============================] - 1s 4ms/step - loss: 0.6708 - accuracy: 0.2533 - val_loss: 0.7042 - val_accuracy: 0.2020\n",
      "Epoch 39/50\n",
      "250/250 [==============================] - 1s 3ms/step - loss: 0.6697 - accuracy: 0.2549 - val_loss: 0.7045 - val_accuracy: 0.2040\n",
      "Epoch 40/50\n",
      "250/250 [==============================] - 1s 3ms/step - loss: 0.6698 - accuracy: 0.2573 - val_loss: 0.7044 - val_accuracy: 0.2020\n",
      "Epoch 41/50\n",
      "250/250 [==============================] - 1s 4ms/step - loss: 0.6698 - accuracy: 0.2578 - val_loss: 0.7053 - val_accuracy: 0.2040\n",
      "Epoch 42/50\n",
      "250/250 [==============================] - 1s 3ms/step - loss: 0.6682 - accuracy: 0.2585 - val_loss: 0.7055 - val_accuracy: 0.2070\n",
      "Epoch 43/50\n",
      "250/250 [==============================] - 1s 3ms/step - loss: 0.6691 - accuracy: 0.2592 - val_loss: 0.7057 - val_accuracy: 0.2015\n",
      "Epoch 44/50\n",
      "250/250 [==============================] - 1s 3ms/step - loss: 0.6680 - accuracy: 0.2605 - val_loss: 0.7057 - val_accuracy: 0.2015\n",
      "Epoch 45/50\n",
      "250/250 [==============================] - 1s 3ms/step - loss: 0.6685 - accuracy: 0.2580 - val_loss: 0.7057 - val_accuracy: 0.2030\n",
      "Epoch 46/50\n",
      "250/250 [==============================] - 1s 3ms/step - loss: 0.6684 - accuracy: 0.2606 - val_loss: 0.7061 - val_accuracy: 0.2005\n",
      "Epoch 47/50\n",
      "250/250 [==============================] - 1s 4ms/step - loss: 0.6694 - accuracy: 0.2555 - val_loss: 0.7063 - val_accuracy: 0.2010\n",
      "Epoch 48/50\n",
      "250/250 [==============================] - 1s 4ms/step - loss: 0.6690 - accuracy: 0.2589 - val_loss: 0.7062 - val_accuracy: 0.2010\n",
      "Epoch 49/50\n",
      "250/250 [==============================] - 1s 4ms/step - loss: 0.6695 - accuracy: 0.2560 - val_loss: 0.7070 - val_accuracy: 0.2055\n",
      "Epoch 50/50\n",
      "250/250 [==============================] - 1s 3ms/step - loss: 0.6685 - accuracy: 0.2571 - val_loss: 0.7063 - val_accuracy: 0.2025\n"
     ]
    }
   ],
   "source": [
    "history = model.fit(\n",
    "    x = x_train,\n",
    "    y = y_train,\n",
    "    epochs = 50,\n",
    "    validation_data = (x_test, y_test)\n",
    ")"
   ]
  },
  {
   "cell_type": "markdown",
   "metadata": {
    "id": "czip3luik9Jk"
   },
   "source": [
    "# Evaluasi Model"
   ]
  },
  {
   "cell_type": "code",
   "execution_count": 25,
   "metadata": {
    "colab": {
     "base_uri": "https://localhost:8080/"
    },
    "id": "ipI2DcfYk8c8",
    "outputId": "fe06358a-cc42-4b68-ed5c-a648f2ca253b"
   },
   "outputs": [
    {
     "name": "stdout",
     "output_type": "stream",
     "text": [
      "63/63 [==============================] - 0s 2ms/step - loss: 0.7063 - accuracy: 0.2025\n"
     ]
    },
    {
     "data": {
      "text/plain": [
       "[0.7063391208648682, 0.20250000059604645]"
      ]
     },
     "execution_count": 25,
     "metadata": {},
     "output_type": "execute_result"
    }
   ],
   "source": [
    "model.evaluate(x=x_test, y=y_test)"
   ]
  },
  {
   "cell_type": "code",
   "execution_count": 26,
   "metadata": {
    "colab": {
     "base_uri": "https://localhost:8080/",
     "height": 295
    },
    "id": "rzwPRh8ZlDan",
    "outputId": "c40e1f25-f99f-4955-ad06-d2d82f85aabd"
   },
   "outputs": [
    {
     "data": {
      "image/png": "[encoded data removed]",
      "text/plain": [
       "<Figure size 432x288 with 1 Axes>"
      ]
     },
     "metadata": {
      "needs_background": "light"
     },
     "output_type": "display_data"
    }
   ],
   "source": [
    "import matplotlib.pyplot as plt\n",
    "\n",
    "plt.plot(history.history['accuracy'])\n",
    "plt.plot(history.history['val_accuracy'])\n",
    "plt.title('model_metrics')\n",
    "plt.ylabel('accuracy')\n",
    "plt.xlabel('epoch')\n",
    "plt.ylim(ymin=0, ymax=0.4)\n",
    "plt.legend(['train', 'test'], loc='center left')\n",
    "plt.show()"
   ]
  },
  {
   "cell_type": "markdown",
   "metadata": {
    "id": "JFBegpn4lHir"
   },
   "source": [
    "# Penerapan Model"
   ]
  },
  {
   "cell_type": "code",
   "execution_count": 27,
   "metadata": {
    "colab": {
     "base_uri": "https://localhost:8080/"
    },
    "id": "CdU-54iNlHOz",
    "outputId": "6f38d0d4-0dd7-4e0b-c429-74087337f5b5"
   },
   "outputs": [
    {
     "data": {
      "text/plain": [
       "Index(['id', 'Name', 'City', 'Ratings', 'Price', 'Addres', 'Coordinate',\n",
       "       'Description', 'Lat', 'Long', 'Images'],\n",
       "      dtype='object')"
      ]
     },
     "execution_count": 27,
     "metadata": {},
     "output_type": "execute_result"
    }
   ],
   "source": [
    "hotel.columns"
   ]
  },
  {
   "cell_type": "code",
   "execution_count": 28,
   "metadata": {
    "id": "lMfjsRSzlOHR"
   },
   "outputs": [],
   "source": [
    "place_df = hotel[['id', 'Name', 'City', 'Ratings', 'Price', 'Addres', 'Coordinate',\n",
    "       'Description', 'Lat', 'Long', 'Images']]\n",
    "place_df.columns = ['id', 'Name', 'City', 'Ratings', 'Price', 'Addres', 'Coordinate',\n",
    "       'Description', 'Lat', 'Long', 'Images']\n",
    "df = rating.copy()"
   ]
  },
  {
   "cell_type": "code",
   "execution_count": 29,
   "metadata": {
    "id": "c9w34r00lmN0"
   },
   "outputs": [],
   "source": [
    "# Mengambil sample user\n",
    "user_id = df.User_Id.sample(1).iloc[0]\n",
    "place_visited_by_user = df[df.User_Id == user_id]"
   ]
  },
  {
   "cell_type": "code",
   "execution_count": 30,
   "metadata": {
    "id": "KTkz9LKgloKK"
   },
   "outputs": [],
   "source": [
    "# Membuat data lokasi yang belum dikunjungi user\n",
    "place_not_visited = place_df[~place_df['id'].isin(place_visited_by_user.Place_Id.values)]['id'] \n",
    "place_not_visited = list(\n",
    "    set(place_not_visited).intersection(set(place_to_place_encoded.keys()))\n",
    ")\n",
    " \n",
    "place_not_visited = [[place_to_place_encoded.get(x)] for x in place_not_visited]\n",
    "user_encoder = user_to_user_encoded.get(user_id)\n",
    "user_place_array = np.hstack(\n",
    "    ([[user_encoder]] * len(place_not_visited), place_not_visited)\n",
    ")"
   ]
  },
  {
   "cell_type": "code",
   "execution_count": 31,
   "metadata": {
    "colab": {
     "base_uri": "https://localhost:8080/"
    },
    "id": "5VeNUi5QltQe",
    "outputId": "438770e7-30eb-4417-9b47-88f5772b1db9"
   },
   "outputs": [
    {
     "name": "stdout",
     "output_type": "stream",
     "text": [
      "2/2 [==============================] - 0s 7ms/step\n",
      "\n",
      "------------------------------------------------------------\n",
      "Top 5 place recommendation\n",
      "------------------------------------------------------------\n",
      "1 . Artotel Suites Bianti Yogyakarta \n",
      "     Jl. Urip Sumoharjo No.37, Klitren, Kec. Gondokusuman, Kota Yogyakarta, Daerah Istimewa Yogyakarta 55222 , Harga Tiket Masuk  625000 , Rating Wisata  5.0 \n",
      "\n",
      "2 . Grand Mercure Yogyakarta Adi Sucipto \n",
      "     Jl. Laksda Adisucipto No.80, Demangan Baru, Caturtunggal, Sleman, Kota Yogyakarta, Daerah Istimewa Yogyakarta 55281 , Harga Tiket Masuk  532784 , Rating Wisata  4.5 \n",
      "\n",
      "3 . Hotel Indah Palace Yogyakarta \n",
      "     Jl. Sisingamangaraja No.74, Brontokusuman, Kec. Mergangsan, Kota Yogyakarta, Daerah Istimewa Yogyakarta 55153 , Harga Tiket Masuk  327826 , Rating Wisata  3.5 \n",
      "\n",
      "4 . Hotel Surya Putri by RedDoorz \n",
      "     Jl. Tukangan No.29, Tegal Panggung, Kec. Danurejan, Kota Yogyakarta, Daerah Istimewa Yogyakarta 55212 , Harga Tiket Masuk  nan , Rating Wisata  3.5 \n",
      "\n",
      "5 . Ki Agung Prestise Hotel \n",
      "     Jl. Gerilya No.596A, Brontokusuman, Kec. Mergangsan, Kota Yogyakarta, Daerah Istimewa Yogyakarta 55153 , Harga Tiket Masuk  117810 , Rating Wisata  3.0 \n",
      "\n",
      "=============================================\n"
     ]
    }
   ],
   "source": [
    "# Mengambil top 5 recommendation\n",
    "ratings = model.predict(user_place_array).flatten()\n",
    "top_ratings_indices = ratings.argsort()[-5:][::-1]\n",
    "recommended_place_ids = [\n",
    "    place_encoded_to_place.get(place_not_visited[x][0]) for x in top_ratings_indices\n",
    "]\n",
    " \n",
    "\n",
    "print('')\n",
    "print('----' * 15)\n",
    "print('Top 5 place recommendation')\n",
    "print('----' * 15)\n",
    " \n",
    "recommended_place = place_df[place_df['id'].isin(recommended_place_ids)]\n",
    "for row, i in zip(recommended_place.itertuples(), range(1,8)):\n",
    "    print(i,'.', row.Name, '\\n    ', row.Addres, ',', 'Harga Tiket Masuk ', row.Price, ',', 'Rating Wisata ', row.Ratings,'\\n')\n",
    "\n",
    "print('==='*15)"
   ]
  },
  {
   "cell_type": "markdown",
   "metadata": {
    "id": "AhUrnLEPmNEF"
   },
   "source": [
    "# Save Model"
   ]
  },
  {
   "cell_type": "code",
   "execution_count": 36,
   "metadata": {
    "colab": {
     "base_uri": "https://localhost:8080/"
    },
    "id": "X2CsLQlNkQox",
    "outputId": "1f7de85f-2c09-49ee-da8e-bf1ff9654590"
   },
   "outputs": [
    {
     "name": "stdout",
     "output_type": "stream",
     "text": [
      "INFO:tensorflow:Assets written to: ram://f7f96333-cea4-4e82-8d8a-527081255d84/assets\n"
     ]
    }
   ],
   "source": [
    "filename = '../../model/hotel_jogyakarta.pkl'\n",
    "pickle.dump(model, open(filename, 'wb'))"
   ]
  },
  {
   "cell_type": "code",
   "execution_count": 37,
   "metadata": {
    "colab": {
     "base_uri": "https://localhost:8080/"
    },
    "id": "j0Y2p2RTklYO",
    "outputId": "39dfa3d0-7e9a-4eb6-b18e-026bbf03e6ee"
   },
   "outputs": [
    {
     "name": "stdout",
     "output_type": "stream",
     "text": [
      "63/63 [==============================] - 0s 2ms/step - loss: 0.7063 - accuracy: 0.2025\n"
     ]
    }
   ],
   "source": [
    "loaded_model = pickle.load(open(filename, 'rb'))\n",
    "result = loaded_model.evaluate(x=x_test, y=y_test)"
   ]
  },
  {
   "cell_type": "code",
   "execution_count": null,
   "metadata": {},
   "outputs": [],
   "source": []
  }
 ],
 "metadata": {
  "colab": {
   "collapsed_sections": [],
   "name": "system_recomendation_hotel_jogyakarta.ipynb",
   "provenance": []
  },
  "kernelspec": {
   "display_name": "Python 3 (ipykernel)",
   "language": "python",
   "name": "python3"
  },
  "language_info": {
   "codemirror_mode": {
    "name": "ipython",
    "version": 3
   },
   "file_extension": ".py",
   "mimetype": "text/x-python",
   "name": "python",
   "nbconvert_exporter": "python",
   "pygments_lexer": "ipython3",
   "version": "3.8.10"
  }
 },
 "nbformat": 4,
 "nbformat_minor": 1
}
