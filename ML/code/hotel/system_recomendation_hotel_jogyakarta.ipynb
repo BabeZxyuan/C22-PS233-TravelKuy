{
  "nbformat": 4,
  "nbformat_minor": 0,
  "metadata": {
    "colab": {
      "name": "system_recomendation_hotel_jogyakarta.ipynb",
      "provenance": [],
      "collapsed_sections": []
    },
    "kernelspec": {
      "name": "python3",
      "display_name": "Python 3"
    },
    "language_info": {
      "name": "python"
    }
  },
  "cells": [
    {
      "cell_type": "markdown",
      "source": [
        "# Import Package"
      ],
      "metadata": {
        "id": "H4dHySlIgs9p"
      }
    },
    {
      "cell_type": "code",
      "source": [
        "import numpy as np\n",
        "import pandas as pd \n",
        "\n",
        "import tensorflow as tf\n",
        "from tensorflow import keras\n",
        "from tensorflow.keras import layers\n",
        "import pickle"
      ],
      "metadata": {
        "id": "UEw3gFdFgvR9"
      },
      "execution_count": 1,
      "outputs": []
    },
    {
      "cell_type": "code",
      "source": [
        "print(f'''\n",
        "{np.__version__},\n",
        "{pd.__version__},\n",
        "{tf.__version__}''')"
      ],
      "metadata": {
        "colab": {
          "base_uri": "https://localhost:8080/"
        },
        "id": "t4jpyklMTvVQ",
        "outputId": "bb2beb34-c8aa-4143-a6f2-380d7566fd51"
      },
      "execution_count": 2,
      "outputs": [
        {
          "output_type": "stream",
          "name": "stdout",
          "text": [
            "\n",
            "1.21.6,\n",
            "1.3.5,\n",
            "2.8.2\n"
          ]
        }
      ]
    },
    {
      "cell_type": "code",
      "source": [
        "!python --version"
      ],
      "metadata": {
        "colab": {
          "base_uri": "https://localhost:8080/"
        },
        "id": "UU1lEoQYVBYt",
        "outputId": "a7750daf-a242-45de-b81a-5b36116d5ab3"
      },
      "execution_count": 3,
      "outputs": [
        {
          "output_type": "stream",
          "name": "stdout",
          "text": [
            "Python 3.7.13\n"
          ]
        }
      ]
    },
    {
      "cell_type": "markdown",
      "source": [
        "# Import Dataset"
      ],
      "metadata": {
        "id": "VVF4rN5cgzPr"
      }
    },
    {
      "cell_type": "code",
      "source": [
        "rating = pd.read_csv('/content/hotel_rating.csv')\n",
        "hotel = pd.read_csv('/content/dataset_hotel.csv')\n",
        "user = pd.read_csv('/content/user.csv')"
      ],
      "metadata": {
        "id": "doIruLZpgxrz"
      },
      "execution_count": 4,
      "outputs": []
    },
    {
      "cell_type": "code",
      "source": [
        "# melihat ukuran data\n",
        "print(f'rating : {rating.shape}')\n",
        "print(f'hotel : {hotel.shape}')\n",
        "print(f'user : {user.shape}')"
      ],
      "metadata": {
        "colab": {
          "base_uri": "https://localhost:8080/"
        },
        "id": "9aXx38a0hWeM",
        "outputId": "e77ee68d-4db5-45b7-d410-8779c0ed712e"
      },
      "execution_count": 5,
      "outputs": [
        {
          "output_type": "stream",
          "name": "stdout",
          "text": [
            "rating : (10000, 4)\n",
            "hotel : (60, 10)\n",
            "user : (300, 3)\n"
          ]
        }
      ]
    },
    {
      "cell_type": "markdown",
      "source": [
        "# Persiapan Dataset"
      ],
      "metadata": {
        "id": "To3P2Wgmjz88"
      }
    },
    {
      "cell_type": "code",
      "source": [
        "rating.head()"
      ],
      "metadata": {
        "colab": {
          "base_uri": "https://localhost:8080/",
          "height": 206
        },
        "id": "UXfR_jLyj11O",
        "outputId": "754a636b-6f58-4318-a1bd-1676acf48d4c"
      },
      "execution_count": 6,
      "outputs": [
        {
          "output_type": "execute_result",
          "data": {
            "text/plain": [
              "   Unnamed: 0  User_Id  Place_Id  Place_Ratings\n",
              "0           0        1        56              3\n",
              "1           1        1        15              2\n",
              "2           2        1        18              5\n",
              "3           3        1        13              3\n",
              "4           4        1         1              4"
            ],
            "text/html": [
              "\n",
              "  <div id=\"df-4857d2d9-4ddf-4fae-a749-db89ea6da3cc\">\n",
              "    <div class=\"colab-df-container\">\n",
              "      <div>\n",
              "<style scoped>\n",
              "    .dataframe tbody tr th:only-of-type {\n",
              "        vertical-align: middle;\n",
              "    }\n",
              "\n",
              "    .dataframe tbody tr th {\n",
              "        vertical-align: top;\n",
              "    }\n",
              "\n",
              "    .dataframe thead th {\n",
              "        text-align: right;\n",
              "    }\n",
              "</style>\n",
              "<table border=\"1\" class=\"dataframe\">\n",
              "  <thead>\n",
              "    <tr style=\"text-align: right;\">\n",
              "      <th></th>\n",
              "      <th>Unnamed: 0</th>\n",
              "      <th>User_Id</th>\n",
              "      <th>Place_Id</th>\n",
              "      <th>Place_Ratings</th>\n",
              "    </tr>\n",
              "  </thead>\n",
              "  <tbody>\n",
              "    <tr>\n",
              "      <th>0</th>\n",
              "      <td>0</td>\n",
              "      <td>1</td>\n",
              "      <td>56</td>\n",
              "      <td>3</td>\n",
              "    </tr>\n",
              "    <tr>\n",
              "      <th>1</th>\n",
              "      <td>1</td>\n",
              "      <td>1</td>\n",
              "      <td>15</td>\n",
              "      <td>2</td>\n",
              "    </tr>\n",
              "    <tr>\n",
              "      <th>2</th>\n",
              "      <td>2</td>\n",
              "      <td>1</td>\n",
              "      <td>18</td>\n",
              "      <td>5</td>\n",
              "    </tr>\n",
              "    <tr>\n",
              "      <th>3</th>\n",
              "      <td>3</td>\n",
              "      <td>1</td>\n",
              "      <td>13</td>\n",
              "      <td>3</td>\n",
              "    </tr>\n",
              "    <tr>\n",
              "      <th>4</th>\n",
              "      <td>4</td>\n",
              "      <td>1</td>\n",
              "      <td>1</td>\n",
              "      <td>4</td>\n",
              "    </tr>\n",
              "  </tbody>\n",
              "</table>\n",
              "</div>\n",
              "      <button class=\"colab-df-convert\" onclick=\"convertToInteractive('df-4857d2d9-4ddf-4fae-a749-db89ea6da3cc')\"\n",
              "              title=\"Convert this dataframe to an interactive table.\"\n",
              "              style=\"display:none;\">\n",
              "        \n",
              "  <svg xmlns=\"http://www.w3.org/2000/svg\" height=\"24px\"viewBox=\"0 0 24 24\"\n",
              "       width=\"24px\">\n",
              "    <path d=\"M0 0h24v24H0V0z\" fill=\"none\"/>\n",
              "    <path d=\"M18.56 5.44l.94 2.06.94-2.06 2.06-.94-2.06-.94-.94-2.06-.94 2.06-2.06.94zm-11 1L8.5 8.5l.94-2.06 2.06-.94-2.06-.94L8.5 2.5l-.94 2.06-2.06.94zm10 10l.94 2.06.94-2.06 2.06-.94-2.06-.94-.94-2.06-.94 2.06-2.06.94z\"/><path d=\"M17.41 7.96l-1.37-1.37c-.4-.4-.92-.59-1.43-.59-.52 0-1.04.2-1.43.59L10.3 9.45l-7.72 7.72c-.78.78-.78 2.05 0 2.83L4 21.41c.39.39.9.59 1.41.59.51 0 1.02-.2 1.41-.59l7.78-7.78 2.81-2.81c.8-.78.8-2.07 0-2.86zM5.41 20L4 18.59l7.72-7.72 1.47 1.35L5.41 20z\"/>\n",
              "  </svg>\n",
              "      </button>\n",
              "      \n",
              "  <style>\n",
              "    .colab-df-container {\n",
              "      display:flex;\n",
              "      flex-wrap:wrap;\n",
              "      gap: 12px;\n",
              "    }\n",
              "\n",
              "    .colab-df-convert {\n",
              "      background-color: #E8F0FE;\n",
              "      border: none;\n",
              "      border-radius: 50%;\n",
              "      cursor: pointer;\n",
              "      display: none;\n",
              "      fill: #1967D2;\n",
              "      height: 32px;\n",
              "      padding: 0 0 0 0;\n",
              "      width: 32px;\n",
              "    }\n",
              "\n",
              "    .colab-df-convert:hover {\n",
              "      background-color: #E2EBFA;\n",
              "      box-shadow: 0px 1px 2px rgba(60, 64, 67, 0.3), 0px 1px 3px 1px rgba(60, 64, 67, 0.15);\n",
              "      fill: #174EA6;\n",
              "    }\n",
              "\n",
              "    [theme=dark] .colab-df-convert {\n",
              "      background-color: #3B4455;\n",
              "      fill: #D2E3FC;\n",
              "    }\n",
              "\n",
              "    [theme=dark] .colab-df-convert:hover {\n",
              "      background-color: #434B5C;\n",
              "      box-shadow: 0px 1px 3px 1px rgba(0, 0, 0, 0.15);\n",
              "      filter: drop-shadow(0px 1px 2px rgba(0, 0, 0, 0.3));\n",
              "      fill: #FFFFFF;\n",
              "    }\n",
              "  </style>\n",
              "\n",
              "      <script>\n",
              "        const buttonEl =\n",
              "          document.querySelector('#df-4857d2d9-4ddf-4fae-a749-db89ea6da3cc button.colab-df-convert');\n",
              "        buttonEl.style.display =\n",
              "          google.colab.kernel.accessAllowed ? 'block' : 'none';\n",
              "\n",
              "        async function convertToInteractive(key) {\n",
              "          const element = document.querySelector('#df-4857d2d9-4ddf-4fae-a749-db89ea6da3cc');\n",
              "          const dataTable =\n",
              "            await google.colab.kernel.invokeFunction('convertToInteractive',\n",
              "                                                     [key], {});\n",
              "          if (!dataTable) return;\n",
              "\n",
              "          const docLinkHtml = 'Like what you see? Visit the ' +\n",
              "            '<a target=\"_blank\" href=https://colab.research.google.com/notebooks/data_table.ipynb>data table notebook</a>'\n",
              "            + ' to learn more about interactive tables.';\n",
              "          element.innerHTML = '';\n",
              "          dataTable['output_type'] = 'display_data';\n",
              "          await google.colab.output.renderOutput(dataTable, element);\n",
              "          const docLink = document.createElement('div');\n",
              "          docLink.innerHTML = docLinkHtml;\n",
              "          element.appendChild(docLink);\n",
              "        }\n",
              "      </script>\n",
              "    </div>\n",
              "  </div>\n",
              "  "
            ]
          },
          "metadata": {},
          "execution_count": 6
        }
      ]
    },
    {
      "cell_type": "code",
      "source": [
        "df = rating.copy()"
      ],
      "metadata": {
        "id": "faQmImEHj7lr"
      },
      "execution_count": 7,
      "outputs": []
    },
    {
      "cell_type": "code",
      "source": [
        "#ENCODING\n",
        "def dict_encoder(col, data=df):\n",
        "  unique_val = data[col].unique().tolist()\n",
        "  val_to_val_encoded = {x: i for i, x in enumerate(unique_val)}\n",
        "  val_encoded_to_val = {i: x for i, x in enumerate(unique_val)}\n",
        "  return val_to_val_encoded, val_encoded_to_val"
      ],
      "metadata": {
        "id": "Y2A8gEUfkBO1"
      },
      "execution_count": 8,
      "outputs": []
    },
    {
      "cell_type": "code",
      "source": [
        "user_to_user_encoded, user_encoded_to_user = dict_encoder('User_Id')\n",
        "df['user'] = df['User_Id'].map(user_to_user_encoded)"
      ],
      "metadata": {
        "id": "am59S7y-kEc7"
      },
      "execution_count": 9,
      "outputs": []
    },
    {
      "cell_type": "code",
      "source": [
        "# Encoding Place_Id\n",
        "place_to_place_encoded, place_encoded_to_place = dict_encoder('Place_Id')\n",
        "\n",
        "# Mapping Place_Id ke dataframe place\n",
        "df['place'] = df['Place_Id'].map(place_to_place_encoded)"
      ],
      "metadata": {
        "id": "eQjVlgL7kJR1"
      },
      "execution_count": 10,
      "outputs": []
    },
    {
      "cell_type": "code",
      "source": [
        "# Mendapatkan jumlah user dan hotel\n",
        "num_users, num_place = len(user_to_user_encoded), len(place_to_place_encoded)\n",
        "# mengubah nilai rating menjadi nilai float\n",
        "df['Place_Ratings'] = df['Place_Ratings'].values.astype(np.float32)\n",
        "# Mendapatkan nilai minimum dan maksimum rating\n",
        "min_rating, max_rating = min(df['Place_Ratings']), max(df['Place_Ratings'])"
      ],
      "metadata": {
        "id": "WnHUTDAHkLQt"
      },
      "execution_count": 11,
      "outputs": []
    },
    {
      "cell_type": "code",
      "source": [
        "print(f'Jumlah user : {num_users}')\n",
        "print(f'Jumlah Hotel : {num_place}')\n",
        "print(f'Rating minimum : {min_rating}')\n",
        "print(f'Rating maximum : {max_rating}')"
      ],
      "metadata": {
        "colab": {
          "base_uri": "https://localhost:8080/"
        },
        "id": "0GoFMjOikPeh",
        "outputId": "c211da1b-cfbb-4e3b-99a0-b4a575bb7eab"
      },
      "execution_count": 12,
      "outputs": [
        {
          "output_type": "stream",
          "name": "stdout",
          "text": [
            "Jumlah user : 300\n",
            "Jumlah Hotel : 59\n",
            "Rating minimum : 1.0\n",
            "Rating maximum : 5.0\n"
          ]
        }
      ]
    },
    {
      "cell_type": "code",
      "source": [
        "# Mengacak dataset\n",
        "df = df.sample(frac=1, random_state=42)\n",
        "df.head()"
      ],
      "metadata": {
        "colab": {
          "base_uri": "https://localhost:8080/",
          "height": 206
        },
        "id": "LEh4cl9qkVCs",
        "outputId": "90e1fcc5-dc8f-4ff1-f50f-5e5bb232d5f9"
      },
      "execution_count": 13,
      "outputs": [
        {
          "output_type": "execute_result",
          "data": {
            "text/plain": [
              "      Unnamed: 0  User_Id  Place_Id  Place_Ratings  user  place\n",
              "6252        6252      188        40            3.0   187      8\n",
              "4684        4684      142        31            2.0   141     45\n",
              "1731        1731       54        40            3.0    53      8\n",
              "4742        4742      144        50            3.0   143     50\n",
              "4521        4521      138        32            5.0   137      5"
            ],
            "text/html": [
              "\n",
              "  <div id=\"df-38410b7a-feb8-4865-927d-93b9b754f57b\">\n",
              "    <div class=\"colab-df-container\">\n",
              "      <div>\n",
              "<style scoped>\n",
              "    .dataframe tbody tr th:only-of-type {\n",
              "        vertical-align: middle;\n",
              "    }\n",
              "\n",
              "    .dataframe tbody tr th {\n",
              "        vertical-align: top;\n",
              "    }\n",
              "\n",
              "    .dataframe thead th {\n",
              "        text-align: right;\n",
              "    }\n",
              "</style>\n",
              "<table border=\"1\" class=\"dataframe\">\n",
              "  <thead>\n",
              "    <tr style=\"text-align: right;\">\n",
              "      <th></th>\n",
              "      <th>Unnamed: 0</th>\n",
              "      <th>User_Id</th>\n",
              "      <th>Place_Id</th>\n",
              "      <th>Place_Ratings</th>\n",
              "      <th>user</th>\n",
              "      <th>place</th>\n",
              "    </tr>\n",
              "  </thead>\n",
              "  <tbody>\n",
              "    <tr>\n",
              "      <th>6252</th>\n",
              "      <td>6252</td>\n",
              "      <td>188</td>\n",
              "      <td>40</td>\n",
              "      <td>3.0</td>\n",
              "      <td>187</td>\n",
              "      <td>8</td>\n",
              "    </tr>\n",
              "    <tr>\n",
              "      <th>4684</th>\n",
              "      <td>4684</td>\n",
              "      <td>142</td>\n",
              "      <td>31</td>\n",
              "      <td>2.0</td>\n",
              "      <td>141</td>\n",
              "      <td>45</td>\n",
              "    </tr>\n",
              "    <tr>\n",
              "      <th>1731</th>\n",
              "      <td>1731</td>\n",
              "      <td>54</td>\n",
              "      <td>40</td>\n",
              "      <td>3.0</td>\n",
              "      <td>53</td>\n",
              "      <td>8</td>\n",
              "    </tr>\n",
              "    <tr>\n",
              "      <th>4742</th>\n",
              "      <td>4742</td>\n",
              "      <td>144</td>\n",
              "      <td>50</td>\n",
              "      <td>3.0</td>\n",
              "      <td>143</td>\n",
              "      <td>50</td>\n",
              "    </tr>\n",
              "    <tr>\n",
              "      <th>4521</th>\n",
              "      <td>4521</td>\n",
              "      <td>138</td>\n",
              "      <td>32</td>\n",
              "      <td>5.0</td>\n",
              "      <td>137</td>\n",
              "      <td>5</td>\n",
              "    </tr>\n",
              "  </tbody>\n",
              "</table>\n",
              "</div>\n",
              "      <button class=\"colab-df-convert\" onclick=\"convertToInteractive('df-38410b7a-feb8-4865-927d-93b9b754f57b')\"\n",
              "              title=\"Convert this dataframe to an interactive table.\"\n",
              "              style=\"display:none;\">\n",
              "        \n",
              "  <svg xmlns=\"http://www.w3.org/2000/svg\" height=\"24px\"viewBox=\"0 0 24 24\"\n",
              "       width=\"24px\">\n",
              "    <path d=\"M0 0h24v24H0V0z\" fill=\"none\"/>\n",
              "    <path d=\"M18.56 5.44l.94 2.06.94-2.06 2.06-.94-2.06-.94-.94-2.06-.94 2.06-2.06.94zm-11 1L8.5 8.5l.94-2.06 2.06-.94-2.06-.94L8.5 2.5l-.94 2.06-2.06.94zm10 10l.94 2.06.94-2.06 2.06-.94-2.06-.94-.94-2.06-.94 2.06-2.06.94z\"/><path d=\"M17.41 7.96l-1.37-1.37c-.4-.4-.92-.59-1.43-.59-.52 0-1.04.2-1.43.59L10.3 9.45l-7.72 7.72c-.78.78-.78 2.05 0 2.83L4 21.41c.39.39.9.59 1.41.59.51 0 1.02-.2 1.41-.59l7.78-7.78 2.81-2.81c.8-.78.8-2.07 0-2.86zM5.41 20L4 18.59l7.72-7.72 1.47 1.35L5.41 20z\"/>\n",
              "  </svg>\n",
              "      </button>\n",
              "      \n",
              "  <style>\n",
              "    .colab-df-container {\n",
              "      display:flex;\n",
              "      flex-wrap:wrap;\n",
              "      gap: 12px;\n",
              "    }\n",
              "\n",
              "    .colab-df-convert {\n",
              "      background-color: #E8F0FE;\n",
              "      border: none;\n",
              "      border-radius: 50%;\n",
              "      cursor: pointer;\n",
              "      display: none;\n",
              "      fill: #1967D2;\n",
              "      height: 32px;\n",
              "      padding: 0 0 0 0;\n",
              "      width: 32px;\n",
              "    }\n",
              "\n",
              "    .colab-df-convert:hover {\n",
              "      background-color: #E2EBFA;\n",
              "      box-shadow: 0px 1px 2px rgba(60, 64, 67, 0.3), 0px 1px 3px 1px rgba(60, 64, 67, 0.15);\n",
              "      fill: #174EA6;\n",
              "    }\n",
              "\n",
              "    [theme=dark] .colab-df-convert {\n",
              "      background-color: #3B4455;\n",
              "      fill: #D2E3FC;\n",
              "    }\n",
              "\n",
              "    [theme=dark] .colab-df-convert:hover {\n",
              "      background-color: #434B5C;\n",
              "      box-shadow: 0px 1px 3px 1px rgba(0, 0, 0, 0.15);\n",
              "      filter: drop-shadow(0px 1px 2px rgba(0, 0, 0, 0.3));\n",
              "      fill: #FFFFFF;\n",
              "    }\n",
              "  </style>\n",
              "\n",
              "      <script>\n",
              "        const buttonEl =\n",
              "          document.querySelector('#df-38410b7a-feb8-4865-927d-93b9b754f57b button.colab-df-convert');\n",
              "        buttonEl.style.display =\n",
              "          google.colab.kernel.accessAllowed ? 'block' : 'none';\n",
              "\n",
              "        async function convertToInteractive(key) {\n",
              "          const element = document.querySelector('#df-38410b7a-feb8-4865-927d-93b9b754f57b');\n",
              "          const dataTable =\n",
              "            await google.colab.kernel.invokeFunction('convertToInteractive',\n",
              "                                                     [key], {});\n",
              "          if (!dataTable) return;\n",
              "\n",
              "          const docLinkHtml = 'Like what you see? Visit the ' +\n",
              "            '<a target=\"_blank\" href=https://colab.research.google.com/notebooks/data_table.ipynb>data table notebook</a>'\n",
              "            + ' to learn more about interactive tables.';\n",
              "          element.innerHTML = '';\n",
              "          dataTable['output_type'] = 'display_data';\n",
              "          await google.colab.output.renderOutput(dataTable, element);\n",
              "          const docLink = document.createElement('div');\n",
              "          docLink.innerHTML = docLinkHtml;\n",
              "          element.appendChild(docLink);\n",
              "        }\n",
              "      </script>\n",
              "    </div>\n",
              "  </div>\n",
              "  "
            ]
          },
          "metadata": {},
          "execution_count": 13
        }
      ]
    },
    {
      "cell_type": "markdown",
      "source": [
        "# Splitting Dataset"
      ],
      "metadata": {
        "id": "qa_3eNLukb7w"
      }
    },
    {
      "cell_type": "code",
      "source": [
        "# Mambuat Variable x\n",
        "x = df[['user', 'place']].values\n",
        "# membuat Variable y\n",
        "y = df['Place_Ratings'].apply(lambda x: (x-min_rating)/(max_rating-min_rating)).values\n",
        "\n",
        "# split dataset\n",
        "indices = int(0.8*df.shape[0])\n",
        "x_train, x_test, y_train, y_test = (x[:indices],\n",
        "                                    x[indices:],\n",
        "                                    y[:indices],\n",
        "                                    y[indices:]\n",
        "                                    )\n",
        "print(f'x_train : {x_train.shape}')\n",
        "print(f'x_test : {x_test.shape}')\n",
        "print(f'y_train : {y_train.shape}')\n",
        "print(f'y_test : {y_test.shape}')"
      ],
      "metadata": {
        "colab": {
          "base_uri": "https://localhost:8080/"
        },
        "id": "HaAomUqQkd49",
        "outputId": "6c7e731c-9276-47d8-c1bb-f7160516dcde"
      },
      "execution_count": 14,
      "outputs": [
        {
          "output_type": "stream",
          "name": "stdout",
          "text": [
            "x_train : (8000, 2)\n",
            "x_test : (2000, 2)\n",
            "y_train : (8000,)\n",
            "y_test : (2000,)\n"
          ]
        }
      ]
    },
    {
      "cell_type": "code",
      "source": [
        "class Recommended(keras.Model):\n",
        "  def __init__(self,num_users, num_places, embedding_size, **kwargs):\n",
        "    super(Recommended, self).__init__(**kwargs)\n",
        "    self.num_users = num_users\n",
        "    self.num_places = num_places\n",
        "    self.embedding_size = embedding_size\n",
        "    self.user_embedding = layers.Embedding(num_users,\n",
        "                                           embedding_size,\n",
        "                                           embeddings_initializer = 'he_normal',\n",
        "                                           embeddings_regularizer = keras.regularizers.l2(1e-6)\n",
        "    )\n",
        "    self.user_bias = layers.Embedding(num_users,1)\n",
        "    self.places_embedding = layers.Embedding(num_places,\n",
        "                                             embedding_size,\n",
        "                                             embeddings_initializer='he_normal',\n",
        "                                             embeddings_regularizer= keras.regularizers.l2(1e-6)\n",
        "                                             )\n",
        "    self.places_bias = layers.Embedding(num_places,1)\n",
        "\n",
        "  def call(self, inputs):\n",
        "    user_vec = self.user_embedding(inputs[:,0])\n",
        "    user_bias = self.user_bias(inputs[:,0])\n",
        "    places_vec = self.places_embedding(inputs[:,1])\n",
        "    places_bias = self.places_bias(inputs[:,1])\n",
        "\n",
        "    dot_user_places = tf.tensordot(user_vec, places_vec, 2)\n",
        "\n",
        "    x = dot_user_places + user_bias + places_bias\n",
        "\n",
        "    return tf.nn.sigmoid(x)\n"
      ],
      "metadata": {
        "id": "E2K4DOGpkivb"
      },
      "execution_count": 15,
      "outputs": []
    },
    {
      "cell_type": "code",
      "source": [
        "model = Recommended(num_users, num_place, 50)\n",
        "\n",
        "model.compile(optimizer='adam', \n",
        "              loss='binary_crossentropy', \n",
        "              metrics=['accuracy']\n",
        "              )"
      ],
      "metadata": {
        "id": "JiXUdNx6kmRB"
      },
      "execution_count": 22,
      "outputs": []
    },
    {
      "cell_type": "markdown",
      "source": [
        "# training Model"
      ],
      "metadata": {
        "id": "nRUMiWeVko_k"
      }
    },
    {
      "cell_type": "code",
      "source": [
        "history = model.fit(\n",
        "    x = x_train,\n",
        "    y = y_train,\n",
        "    epochs = 50,\n",
        "    validation_data = (x_test, y_test)\n",
        ")"
      ],
      "metadata": {
        "colab": {
          "base_uri": "https://localhost:8080/"
        },
        "id": "xROri4O9koRP",
        "outputId": "25fd1b58-1f5e-46e0-aa39-5d14236c1b96"
      },
      "execution_count": 23,
      "outputs": [
        {
          "output_type": "stream",
          "name": "stdout",
          "text": [
            "Epoch 1/50\n",
            "250/250 [==============================] - 2s 4ms/step - loss: 0.7419 - accuracy: 0.1841 - val_loss: 0.7369 - val_accuracy: 0.1805\n",
            "Epoch 2/50\n",
            "250/250 [==============================] - 1s 4ms/step - loss: 0.7292 - accuracy: 0.1931 - val_loss: 0.7404 - val_accuracy: 0.1805\n",
            "Epoch 3/50\n",
            "250/250 [==============================] - 1s 3ms/step - loss: 0.7318 - accuracy: 0.1920 - val_loss: 0.7330 - val_accuracy: 0.1840\n",
            "Epoch 4/50\n",
            "250/250 [==============================] - 1s 3ms/step - loss: 0.7277 - accuracy: 0.1984 - val_loss: 0.7373 - val_accuracy: 0.1880\n",
            "Epoch 5/50\n",
            "250/250 [==============================] - 1s 3ms/step - loss: 0.7168 - accuracy: 0.2026 - val_loss: 0.7354 - val_accuracy: 0.1820\n",
            "Epoch 6/50\n",
            "250/250 [==============================] - 1s 3ms/step - loss: 0.7191 - accuracy: 0.1951 - val_loss: 0.7419 - val_accuracy: 0.1835\n",
            "Epoch 7/50\n",
            "250/250 [==============================] - 1s 3ms/step - loss: 0.7149 - accuracy: 0.2019 - val_loss: 0.7381 - val_accuracy: 0.1815\n",
            "Epoch 8/50\n",
            "250/250 [==============================] - 1s 3ms/step - loss: 0.7132 - accuracy: 0.2020 - val_loss: 0.7376 - val_accuracy: 0.1795\n",
            "Epoch 9/50\n",
            "250/250 [==============================] - 1s 4ms/step - loss: 0.7083 - accuracy: 0.2085 - val_loss: 0.7360 - val_accuracy: 0.1840\n",
            "Epoch 10/50\n",
            "250/250 [==============================] - 1s 4ms/step - loss: 0.7067 - accuracy: 0.2081 - val_loss: 0.7348 - val_accuracy: 0.1870\n",
            "Epoch 11/50\n",
            "250/250 [==============================] - 1s 3ms/step - loss: 0.7020 - accuracy: 0.2114 - val_loss: 0.7299 - val_accuracy: 0.1840\n",
            "Epoch 12/50\n",
            "250/250 [==============================] - 1s 3ms/step - loss: 0.7052 - accuracy: 0.2109 - val_loss: 0.7291 - val_accuracy: 0.1830\n",
            "Epoch 13/50\n",
            "250/250 [==============================] - 1s 3ms/step - loss: 0.7015 - accuracy: 0.2126 - val_loss: 0.7299 - val_accuracy: 0.1855\n",
            "Epoch 14/50\n",
            "250/250 [==============================] - 1s 4ms/step - loss: 0.7027 - accuracy: 0.2110 - val_loss: 0.7224 - val_accuracy: 0.1830\n",
            "Epoch 15/50\n",
            "250/250 [==============================] - 1s 4ms/step - loss: 0.6963 - accuracy: 0.2200 - val_loss: 0.7212 - val_accuracy: 0.1825\n",
            "Epoch 16/50\n",
            "250/250 [==============================] - 1s 3ms/step - loss: 0.6945 - accuracy: 0.2186 - val_loss: 0.7201 - val_accuracy: 0.1805\n",
            "Epoch 17/50\n",
            "250/250 [==============================] - 1s 4ms/step - loss: 0.6948 - accuracy: 0.2190 - val_loss: 0.7134 - val_accuracy: 0.1860\n",
            "Epoch 18/50\n",
            "250/250 [==============================] - 1s 3ms/step - loss: 0.6944 - accuracy: 0.2189 - val_loss: 0.7153 - val_accuracy: 0.1815\n",
            "Epoch 19/50\n",
            "250/250 [==============================] - 1s 3ms/step - loss: 0.6939 - accuracy: 0.2202 - val_loss: 0.7135 - val_accuracy: 0.1895\n",
            "Epoch 20/50\n",
            "250/250 [==============================] - 1s 3ms/step - loss: 0.6897 - accuracy: 0.2289 - val_loss: 0.7139 - val_accuracy: 0.1845\n",
            "Epoch 21/50\n",
            "250/250 [==============================] - 1s 4ms/step - loss: 0.6917 - accuracy: 0.2265 - val_loss: 0.7128 - val_accuracy: 0.1935\n",
            "Epoch 22/50\n",
            "250/250 [==============================] - 1s 4ms/step - loss: 0.6906 - accuracy: 0.2261 - val_loss: 0.7114 - val_accuracy: 0.1940\n",
            "Epoch 23/50\n",
            "250/250 [==============================] - 1s 3ms/step - loss: 0.6880 - accuracy: 0.2309 - val_loss: 0.7118 - val_accuracy: 0.1985\n",
            "Epoch 24/50\n",
            "250/250 [==============================] - 1s 3ms/step - loss: 0.6904 - accuracy: 0.2253 - val_loss: 0.7103 - val_accuracy: 0.1925\n",
            "Epoch 25/50\n",
            "250/250 [==============================] - 1s 4ms/step - loss: 0.6890 - accuracy: 0.2288 - val_loss: 0.7111 - val_accuracy: 0.1960\n",
            "Epoch 26/50\n",
            "250/250 [==============================] - 1s 3ms/step - loss: 0.6889 - accuracy: 0.2264 - val_loss: 0.7109 - val_accuracy: 0.1925\n",
            "Epoch 27/50\n",
            "250/250 [==============================] - 1s 4ms/step - loss: 0.6875 - accuracy: 0.2296 - val_loss: 0.7124 - val_accuracy: 0.2000\n",
            "Epoch 28/50\n",
            "250/250 [==============================] - 1s 3ms/step - loss: 0.6868 - accuracy: 0.2351 - val_loss: 0.7099 - val_accuracy: 0.1960\n",
            "Epoch 29/50\n",
            "250/250 [==============================] - 1s 4ms/step - loss: 0.6865 - accuracy: 0.2309 - val_loss: 0.7079 - val_accuracy: 0.1990\n",
            "Epoch 30/50\n",
            "250/250 [==============================] - 1s 4ms/step - loss: 0.6853 - accuracy: 0.2336 - val_loss: 0.7089 - val_accuracy: 0.2020\n",
            "Epoch 31/50\n",
            "250/250 [==============================] - 1s 4ms/step - loss: 0.6857 - accuracy: 0.2330 - val_loss: 0.7094 - val_accuracy: 0.2035\n",
            "Epoch 32/50\n",
            "250/250 [==============================] - 1s 4ms/step - loss: 0.6839 - accuracy: 0.2389 - val_loss: 0.7103 - val_accuracy: 0.1990\n",
            "Epoch 33/50\n",
            "250/250 [==============================] - 1s 4ms/step - loss: 0.6835 - accuracy: 0.2281 - val_loss: 0.7102 - val_accuracy: 0.1995\n",
            "Epoch 34/50\n",
            "250/250 [==============================] - 1s 4ms/step - loss: 0.6840 - accuracy: 0.2330 - val_loss: 0.7102 - val_accuracy: 0.1945\n",
            "Epoch 35/50\n",
            "250/250 [==============================] - 1s 4ms/step - loss: 0.6843 - accuracy: 0.2390 - val_loss: 0.7098 - val_accuracy: 0.1985\n",
            "Epoch 36/50\n",
            "250/250 [==============================] - 1s 3ms/step - loss: 0.6818 - accuracy: 0.2387 - val_loss: 0.7097 - val_accuracy: 0.1980\n",
            "Epoch 37/50\n",
            "250/250 [==============================] - 1s 3ms/step - loss: 0.6824 - accuracy: 0.2364 - val_loss: 0.7106 - val_accuracy: 0.1980\n",
            "Epoch 38/50\n",
            "250/250 [==============================] - 1s 3ms/step - loss: 0.6834 - accuracy: 0.2354 - val_loss: 0.7109 - val_accuracy: 0.2005\n",
            "Epoch 39/50\n",
            "250/250 [==============================] - 1s 4ms/step - loss: 0.6830 - accuracy: 0.2336 - val_loss: 0.7087 - val_accuracy: 0.1955\n",
            "Epoch 40/50\n",
            "250/250 [==============================] - 1s 4ms/step - loss: 0.6826 - accuracy: 0.2390 - val_loss: 0.7093 - val_accuracy: 0.1950\n",
            "Epoch 41/50\n",
            "250/250 [==============================] - 1s 4ms/step - loss: 0.6826 - accuracy: 0.2338 - val_loss: 0.7084 - val_accuracy: 0.1885\n",
            "Epoch 42/50\n",
            "250/250 [==============================] - 1s 4ms/step - loss: 0.6817 - accuracy: 0.2349 - val_loss: 0.7078 - val_accuracy: 0.1915\n",
            "Epoch 43/50\n",
            "250/250 [==============================] - 1s 4ms/step - loss: 0.6834 - accuracy: 0.2340 - val_loss: 0.7071 - val_accuracy: 0.1950\n",
            "Epoch 44/50\n",
            "250/250 [==============================] - 1s 4ms/step - loss: 0.6829 - accuracy: 0.2360 - val_loss: 0.7065 - val_accuracy: 0.1945\n",
            "Epoch 45/50\n",
            "250/250 [==============================] - 1s 3ms/step - loss: 0.6820 - accuracy: 0.2381 - val_loss: 0.7078 - val_accuracy: 0.1910\n",
            "Epoch 46/50\n",
            "250/250 [==============================] - 1s 3ms/step - loss: 0.6794 - accuracy: 0.2416 - val_loss: 0.7081 - val_accuracy: 0.1950\n",
            "Epoch 47/50\n",
            "250/250 [==============================] - 1s 4ms/step - loss: 0.6805 - accuracy: 0.2410 - val_loss: 0.7078 - val_accuracy: 0.1930\n",
            "Epoch 48/50\n",
            "250/250 [==============================] - 1s 3ms/step - loss: 0.6806 - accuracy: 0.2395 - val_loss: 0.7072 - val_accuracy: 0.1950\n",
            "Epoch 49/50\n",
            "250/250 [==============================] - 1s 3ms/step - loss: 0.6814 - accuracy: 0.2419 - val_loss: 0.7059 - val_accuracy: 0.1950\n",
            "Epoch 50/50\n",
            "250/250 [==============================] - 1s 3ms/step - loss: 0.6817 - accuracy: 0.2373 - val_loss: 0.7055 - val_accuracy: 0.1975\n"
          ]
        }
      ]
    },
    {
      "cell_type": "markdown",
      "source": [
        "# Evaluasi Model"
      ],
      "metadata": {
        "id": "czip3luik9Jk"
      }
    },
    {
      "cell_type": "code",
      "source": [
        "model.evaluate(x=x_test, y=y_test)"
      ],
      "metadata": {
        "colab": {
          "base_uri": "https://localhost:8080/"
        },
        "id": "ipI2DcfYk8c8",
        "outputId": "fe06358a-cc42-4b68-ed5c-a648f2ca253b"
      },
      "execution_count": 24,
      "outputs": [
        {
          "output_type": "stream",
          "name": "stdout",
          "text": [
            "63/63 [==============================] - 0s 2ms/step - loss: 0.7055 - accuracy: 0.1975\n"
          ]
        },
        {
          "output_type": "execute_result",
          "data": {
            "text/plain": [
              "[0.705467939376831, 0.19750000536441803]"
            ]
          },
          "metadata": {},
          "execution_count": 24
        }
      ]
    },
    {
      "cell_type": "code",
      "source": [
        "import matplotlib.pyplot as plt\n",
        "\n",
        "plt.plot(history.history['accuracy'])\n",
        "plt.plot(history.history['val_accuracy'])\n",
        "plt.title('model_metrics')\n",
        "plt.ylabel('accuracy')\n",
        "plt.xlabel('epoch')\n",
        "plt.ylim(ymin=0, ymax=0.4)\n",
        "plt.legend(['train', 'test'], loc='center left')\n",
        "plt.show()"
      ],
      "metadata": {
        "colab": {
          "base_uri": "https://localhost:8080/",
          "height": 295
        },
        "id": "rzwPRh8ZlDan",
        "outputId": "c40e1f25-f99f-4955-ad06-d2d82f85aabd"
      },
      "execution_count": 26,
      "outputs": [
        {
          "output_type": "display_data",
          "data": {
            "text/plain": [
              "<Figure size 432x288 with 1 Axes>"
            ],
            "image/png": "[encoded data removed]"
          },
          "metadata": {
            "needs_background": "light"
          }
        }
      ]
    },
    {
      "cell_type": "markdown",
      "source": [
        "# Penerapan Model"
      ],
      "metadata": {
        "id": "JFBegpn4lHir"
      }
    },
    {
      "cell_type": "code",
      "source": [
        "hotel.columns"
      ],
      "metadata": {
        "colab": {
          "base_uri": "https://localhost:8080/"
        },
        "id": "CdU-54iNlHOz",
        "outputId": "6f38d0d4-0dd7-4e0b-c429-74087337f5b5"
      },
      "execution_count": 27,
      "outputs": [
        {
          "output_type": "execute_result",
          "data": {
            "text/plain": [
              "Index(['id', 'Name', 'Ratings', 'Price', 'Addres', 'Coordinate', 'Description',\n",
              "       'Lat', 'Long', 'Images'],\n",
              "      dtype='object')"
            ]
          },
          "metadata": {},
          "execution_count": 27
        }
      ]
    },
    {
      "cell_type": "code",
      "source": [
        "place_df = hotel[['id','Name','Ratings','Price', 'Addres']]\n",
        "place_df.columns = ['id','Name','Ratings','Price', 'Addres']\n",
        "df = rating.copy()"
      ],
      "metadata": {
        "id": "lMfjsRSzlOHR"
      },
      "execution_count": 28,
      "outputs": []
    },
    {
      "cell_type": "code",
      "source": [
        "# Mengambil sample user\n",
        "user_id = df.User_Id.sample(1).iloc[0]\n",
        "place_visited_by_user = df[df.User_Id == user_id]"
      ],
      "metadata": {
        "id": "c9w34r00lmN0"
      },
      "execution_count": 29,
      "outputs": []
    },
    {
      "cell_type": "code",
      "source": [
        "# Membuat data lokasi yang belum dikunjungi user\n",
        "place_not_visited = place_df[~place_df['id'].isin(place_visited_by_user.Place_Id.values)]['id'] \n",
        "place_not_visited = list(\n",
        "    set(place_not_visited).intersection(set(place_to_place_encoded.keys()))\n",
        ")\n",
        " \n",
        "place_not_visited = [[place_to_place_encoded.get(x)] for x in place_not_visited]\n",
        "user_encoder = user_to_user_encoded.get(user_id)\n",
        "user_place_array = np.hstack(\n",
        "    ([[user_encoder]] * len(place_not_visited), place_not_visited)\n",
        ")"
      ],
      "metadata": {
        "id": "KTkz9LKgloKK"
      },
      "execution_count": 30,
      "outputs": []
    },
    {
      "cell_type": "code",
      "source": [
        "# Mengambil top 5 recommendation\n",
        "ratings = model.predict(user_place_array).flatten()\n",
        "top_ratings_indices = ratings.argsort()[-5:][::-1]\n",
        "recommended_place_ids = [\n",
        "    place_encoded_to_place.get(place_not_visited[x][0]) for x in top_ratings_indices\n",
        "]\n",
        " \n",
        "\n",
        "print('')\n",
        "print('----' * 15)\n",
        "print('Top 5 place recommendation')\n",
        "print('----' * 15)\n",
        " \n",
        "recommended_place = place_df[place_df['id'].isin(recommended_place_ids)]\n",
        "for row, i in zip(recommended_place.itertuples(), range(1,8)):\n",
        "    print(i,'.', row.Name, '\\n    ', row.Addres, ',', 'Harga Tiket Masuk ', row.Price, ',', 'Rating Wisata ', row.Ratings,'\\n')\n",
        "\n",
        "print('==='*15)"
      ],
      "metadata": {
        "colab": {
          "base_uri": "https://localhost:8080/"
        },
        "id": "5VeNUi5QltQe",
        "outputId": "438770e7-30eb-4417-9b47-88f5772b1db9"
      },
      "execution_count": 31,
      "outputs": [
        {
          "output_type": "stream",
          "name": "stdout",
          "text": [
            "\n",
            "------------------------------------------------------------\n",
            "Top 5 place recommendation\n",
            "------------------------------------------------------------\n",
            "1 . Grand Keisha Yogyakarta \n",
            "     Jl. Affandi No.9, Gejayan, Condongcatur, Kec. Depok, Kabupaten Sleman, Daerah Istimewa Yogyakarta 55283 , Harga Tiket Masuk  426465.0 , Rating Wisata  4,5 \n",
            "\n",
            "2 . Best City Hotel \n",
            "     Jl. Tentara Pelajar No.44, Bumijo, Kec. Jetis, Kota Yogyakarta, Daerah Istimewa Yogyakarta 55231 , Harga Tiket Masuk  224456.0 , Rating Wisata  4,0 \n",
            "\n",
            "3 . De Laxston by Azana \n",
            "     Jl. Urip Sumoharjo No.139 A, Klitren, Kec. Gondokusuman, Kota Yogyakarta, Daerah Istimewa Yogyakarta 55222 , Harga Tiket Masuk  294820.0 , Rating Wisata  3,5 \n",
            "\n",
            "4 . Hotel Puspita \n",
            "     Jl. Mayjend Sutoyo No.64, Mantrijeron, Kec. Mantrijeron, Kota Yogyakarta, Daerah Istimewa Yogyakarta 55143 , Harga Tiket Masuk  114000.0 , Rating Wisata  3,5 \n",
            "\n",
            "5 . Hotel Pyrenees \n",
            "     Jl. Sosrowijayan No.1, Sosromenduran, Gedong Tengen, Kota Yogyakarta, Daerah Istimewa Yogyakarta 55271 , Harga Tiket Masuk  307609.0 , Rating Wisata  4,0 \n",
            "\n",
            "=============================================\n"
          ]
        }
      ]
    },
    {
      "cell_type": "markdown",
      "source": [
        "# Save Model"
      ],
      "metadata": {
        "id": "AhUrnLEPmNEF"
      }
    },
    {
      "cell_type": "code",
      "source": [
        "# converter = tf.lite.TFLiteConverter.from_keras_model(model)\n",
        "# tflite_model = converter.convert()\n",
        "\n",
        "# # Save the model.\n",
        "# with open('model.tflite', 'wb') as f:\n",
        "#   f.write(tflite_model)"
      ],
      "metadata": {
        "colab": {
          "base_uri": "https://localhost:8080/"
        },
        "id": "mNXwkrDjmMMs",
        "outputId": "73ef722c-efbc-4734-894a-ba251661b8f8"
      },
      "execution_count": null,
      "outputs": [
        {
          "output_type": "stream",
          "name": "stdout",
          "text": [
            "INFO:tensorflow:Assets written to: /tmp/tmpiqpaze92/assets\n"
          ]
        },
        {
          "output_type": "stream",
          "name": "stderr",
          "text": [
            "WARNING:absl:Buffer deduplication procedure will be skipped when flatbuffer library is not properly loaded\n"
          ]
        }
      ]
    },
    {
      "cell_type": "code",
      "source": [
        "filename = 'hotel_jogyakarta_model.pkl'\n",
        "pickle.dump(model, open(filename, 'wb'))"
      ],
      "metadata": {
        "colab": {
          "base_uri": "https://localhost:8080/"
        },
        "id": "X2CsLQlNkQox",
        "outputId": "1f7de85f-2c09-49ee-da8e-bf1ff9654590"
      },
      "execution_count": 32,
      "outputs": [
        {
          "output_type": "stream",
          "name": "stdout",
          "text": [
            "INFO:tensorflow:Assets written to: ram://37055409-0a9d-4483-994f-97204b20f021/assets\n"
          ]
        }
      ]
    },
    {
      "cell_type": "code",
      "source": [
        "loaded_model = pickle.load(open(filename, 'rb'))\n",
        "result = loaded_model.evaluate(x=x_test, y=y_test)"
      ],
      "metadata": {
        "colab": {
          "base_uri": "https://localhost:8080/"
        },
        "id": "j0Y2p2RTklYO",
        "outputId": "39dfa3d0-7e9a-4eb6-b18e-026bbf03e6ee"
      },
      "execution_count": 33,
      "outputs": [
        {
          "output_type": "stream",
          "name": "stdout",
          "text": [
            "63/63 [==============================] - 0s 2ms/step - loss: 0.7055 - accuracy: 0.1975\n"
          ]
        }
      ]
    }
  ]
}