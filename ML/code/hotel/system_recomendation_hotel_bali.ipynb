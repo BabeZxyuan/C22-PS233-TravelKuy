{
  "nbformat": 4,
  "nbformat_minor": 0,
  "metadata": {
    "colab": {
      "name": "system_recomendation_hotel_bali.ipynb",
      "provenance": [],
      "collapsed_sections": []
    },
    "kernelspec": {
      "name": "python3",
      "display_name": "Python 3"
    },
    "language_info": {
      "name": "python"
    }
  },
  "cells": [
    {
      "cell_type": "markdown",
      "source": [
        "# Import Package"
      ],
      "metadata": {
        "id": "H4dHySlIgs9p"
      }
    },
    {
      "cell_type": "code",
      "source": [
        "import numpy as np\n",
        "import pandas as pd \n",
        "\n",
        "import tensorflow as tf\n",
        "from tensorflow import keras\n",
        "from tensorflow.keras import layers\n",
        "import pickle"
      ],
      "metadata": {
        "id": "UEw3gFdFgvR9"
      },
      "execution_count": 1,
      "outputs": []
    },
    {
      "cell_type": "code",
      "source": [
        "print(f'''\n",
        "{np.__version__},\n",
        "{pd.__version__},\n",
        "{tf.__version__}''')"
      ],
      "metadata": {
        "colab": {
          "base_uri": "https://localhost:8080/"
        },
        "id": "t4jpyklMTvVQ",
        "outputId": "c9a1e534-3cde-4146-9aaf-7108781ad8db"
      },
      "execution_count": 2,
      "outputs": [
        {
          "output_type": "stream",
          "name": "stdout",
          "text": [
            "\n",
            "1.21.6,\n",
            "1.3.5,\n",
            "2.8.2\n"
          ]
        }
      ]
    },
    {
      "cell_type": "code",
      "source": [
        "!python --version"
      ],
      "metadata": {
        "colab": {
          "base_uri": "https://localhost:8080/"
        },
        "id": "UU1lEoQYVBYt",
        "outputId": "66e80a77-ad00-4c1f-e456-710fada18964"
      },
      "execution_count": 3,
      "outputs": [
        {
          "output_type": "stream",
          "name": "stdout",
          "text": [
            "Python 3.7.13\n"
          ]
        }
      ]
    },
    {
      "cell_type": "markdown",
      "source": [
        "# Import Dataset"
      ],
      "metadata": {
        "id": "VVF4rN5cgzPr"
      }
    },
    {
      "cell_type": "code",
      "source": [
        "rating = pd.read_csv('/content/hotel_rating.csv')\n",
        "hotel = pd.read_csv('/content/Dataset_hotel_Bali.csv')\n",
        "user = pd.read_csv('/content/user.csv')"
      ],
      "metadata": {
        "id": "doIruLZpgxrz"
      },
      "execution_count": 4,
      "outputs": []
    },
    {
      "cell_type": "code",
      "source": [
        "# melihat ukuran data\n",
        "print(f'rating : {rating.shape}')\n",
        "print(f'hotel : {hotel.shape}')\n",
        "print(f'user : {user.shape}')"
      ],
      "metadata": {
        "colab": {
          "base_uri": "https://localhost:8080/"
        },
        "id": "9aXx38a0hWeM",
        "outputId": "223f2dff-a911-465d-fe56-4c9e70f7f320"
      },
      "execution_count": 5,
      "outputs": [
        {
          "output_type": "stream",
          "name": "stdout",
          "text": [
            "rating : (10000, 3)\n",
            "hotel : (50, 12)\n",
            "user : (300, 3)\n"
          ]
        }
      ]
    },
    {
      "cell_type": "markdown",
      "source": [
        "# Persiapan Dataset"
      ],
      "metadata": {
        "id": "To3P2Wgmjz88"
      }
    },
    {
      "cell_type": "code",
      "source": [
        "rating.head()"
      ],
      "metadata": {
        "colab": {
          "base_uri": "https://localhost:8080/",
          "height": 206
        },
        "id": "UXfR_jLyj11O",
        "outputId": "98058d78-86c7-4e6a-8703-df6a16cd1635"
      },
      "execution_count": 6,
      "outputs": [
        {
          "output_type": "execute_result",
          "data": {
            "text/plain": [
              "   User_Id  Place_Id  Place_Ratings\n",
              "0        1        42              3\n",
              "1        1        22              2\n",
              "2        1         1              5\n",
              "3        1        15              3\n",
              "4        1        40              4"
            ],
            "text/html": [
              "\n",
              "  <div id=\"df-7e6fbd80-fcac-48ab-9c97-cb2fbba1b129\">\n",
              "    <div class=\"colab-df-container\">\n",
              "      <div>\n",
              "<style scoped>\n",
              "    .dataframe tbody tr th:only-of-type {\n",
              "        vertical-align: middle;\n",
              "    }\n",
              "\n",
              "    .dataframe tbody tr th {\n",
              "        vertical-align: top;\n",
              "    }\n",
              "\n",
              "    .dataframe thead th {\n",
              "        text-align: right;\n",
              "    }\n",
              "</style>\n",
              "<table border=\"1\" class=\"dataframe\">\n",
              "  <thead>\n",
              "    <tr style=\"text-align: right;\">\n",
              "      <th></th>\n",
              "      <th>User_Id</th>\n",
              "      <th>Place_Id</th>\n",
              "      <th>Place_Ratings</th>\n",
              "    </tr>\n",
              "  </thead>\n",
              "  <tbody>\n",
              "    <tr>\n",
              "      <th>0</th>\n",
              "      <td>1</td>\n",
              "      <td>42</td>\n",
              "      <td>3</td>\n",
              "    </tr>\n",
              "    <tr>\n",
              "      <th>1</th>\n",
              "      <td>1</td>\n",
              "      <td>22</td>\n",
              "      <td>2</td>\n",
              "    </tr>\n",
              "    <tr>\n",
              "      <th>2</th>\n",
              "      <td>1</td>\n",
              "      <td>1</td>\n",
              "      <td>5</td>\n",
              "    </tr>\n",
              "    <tr>\n",
              "      <th>3</th>\n",
              "      <td>1</td>\n",
              "      <td>15</td>\n",
              "      <td>3</td>\n",
              "    </tr>\n",
              "    <tr>\n",
              "      <th>4</th>\n",
              "      <td>1</td>\n",
              "      <td>40</td>\n",
              "      <td>4</td>\n",
              "    </tr>\n",
              "  </tbody>\n",
              "</table>\n",
              "</div>\n",
              "      <button class=\"colab-df-convert\" onclick=\"convertToInteractive('df-7e6fbd80-fcac-48ab-9c97-cb2fbba1b129')\"\n",
              "              title=\"Convert this dataframe to an interactive table.\"\n",
              "              style=\"display:none;\">\n",
              "        \n",
              "  <svg xmlns=\"http://www.w3.org/2000/svg\" height=\"24px\"viewBox=\"0 0 24 24\"\n",
              "       width=\"24px\">\n",
              "    <path d=\"M0 0h24v24H0V0z\" fill=\"none\"/>\n",
              "    <path d=\"M18.56 5.44l.94 2.06.94-2.06 2.06-.94-2.06-.94-.94-2.06-.94 2.06-2.06.94zm-11 1L8.5 8.5l.94-2.06 2.06-.94-2.06-.94L8.5 2.5l-.94 2.06-2.06.94zm10 10l.94 2.06.94-2.06 2.06-.94-2.06-.94-.94-2.06-.94 2.06-2.06.94z\"/><path d=\"M17.41 7.96l-1.37-1.37c-.4-.4-.92-.59-1.43-.59-.52 0-1.04.2-1.43.59L10.3 9.45l-7.72 7.72c-.78.78-.78 2.05 0 2.83L4 21.41c.39.39.9.59 1.41.59.51 0 1.02-.2 1.41-.59l7.78-7.78 2.81-2.81c.8-.78.8-2.07 0-2.86zM5.41 20L4 18.59l7.72-7.72 1.47 1.35L5.41 20z\"/>\n",
              "  </svg>\n",
              "      </button>\n",
              "      \n",
              "  <style>\n",
              "    .colab-df-container {\n",
              "      display:flex;\n",
              "      flex-wrap:wrap;\n",
              "      gap: 12px;\n",
              "    }\n",
              "\n",
              "    .colab-df-convert {\n",
              "      background-color: #E8F0FE;\n",
              "      border: none;\n",
              "      border-radius: 50%;\n",
              "      cursor: pointer;\n",
              "      display: none;\n",
              "      fill: #1967D2;\n",
              "      height: 32px;\n",
              "      padding: 0 0 0 0;\n",
              "      width: 32px;\n",
              "    }\n",
              "\n",
              "    .colab-df-convert:hover {\n",
              "      background-color: #E2EBFA;\n",
              "      box-shadow: 0px 1px 2px rgba(60, 64, 67, 0.3), 0px 1px 3px 1px rgba(60, 64, 67, 0.15);\n",
              "      fill: #174EA6;\n",
              "    }\n",
              "\n",
              "    [theme=dark] .colab-df-convert {\n",
              "      background-color: #3B4455;\n",
              "      fill: #D2E3FC;\n",
              "    }\n",
              "\n",
              "    [theme=dark] .colab-df-convert:hover {\n",
              "      background-color: #434B5C;\n",
              "      box-shadow: 0px 1px 3px 1px rgba(0, 0, 0, 0.15);\n",
              "      filter: drop-shadow(0px 1px 2px rgba(0, 0, 0, 0.3));\n",
              "      fill: #FFFFFF;\n",
              "    }\n",
              "  </style>\n",
              "\n",
              "      <script>\n",
              "        const buttonEl =\n",
              "          document.querySelector('#df-7e6fbd80-fcac-48ab-9c97-cb2fbba1b129 button.colab-df-convert');\n",
              "        buttonEl.style.display =\n",
              "          google.colab.kernel.accessAllowed ? 'block' : 'none';\n",
              "\n",
              "        async function convertToInteractive(key) {\n",
              "          const element = document.querySelector('#df-7e6fbd80-fcac-48ab-9c97-cb2fbba1b129');\n",
              "          const dataTable =\n",
              "            await google.colab.kernel.invokeFunction('convertToInteractive',\n",
              "                                                     [key], {});\n",
              "          if (!dataTable) return;\n",
              "\n",
              "          const docLinkHtml = 'Like what you see? Visit the ' +\n",
              "            '<a target=\"_blank\" href=https://colab.research.google.com/notebooks/data_table.ipynb>data table notebook</a>'\n",
              "            + ' to learn more about interactive tables.';\n",
              "          element.innerHTML = '';\n",
              "          dataTable['output_type'] = 'display_data';\n",
              "          await google.colab.output.renderOutput(dataTable, element);\n",
              "          const docLink = document.createElement('div');\n",
              "          docLink.innerHTML = docLinkHtml;\n",
              "          element.appendChild(docLink);\n",
              "        }\n",
              "      </script>\n",
              "    </div>\n",
              "  </div>\n",
              "  "
            ]
          },
          "metadata": {},
          "execution_count": 6
        }
      ]
    },
    {
      "cell_type": "code",
      "source": [
        "df = rating.copy()"
      ],
      "metadata": {
        "id": "faQmImEHj7lr"
      },
      "execution_count": 7,
      "outputs": []
    },
    {
      "cell_type": "code",
      "source": [
        "#ENCODING\n",
        "def dict_encoder(col, data=df):\n",
        "  unique_val = data[col].unique().tolist()\n",
        "  val_to_val_encoded = {x: i for i, x in enumerate(unique_val)}\n",
        "  val_encoded_to_val = {i: x for i, x in enumerate(unique_val)}\n",
        "  return val_to_val_encoded, val_encoded_to_val"
      ],
      "metadata": {
        "id": "Y2A8gEUfkBO1"
      },
      "execution_count": 8,
      "outputs": []
    },
    {
      "cell_type": "code",
      "source": [
        "user_to_user_encoded, user_encoded_to_user = dict_encoder('User_Id')\n",
        "df['user'] = df['User_Id'].map(user_to_user_encoded)"
      ],
      "metadata": {
        "id": "am59S7y-kEc7"
      },
      "execution_count": 9,
      "outputs": []
    },
    {
      "cell_type": "code",
      "source": [
        "# Encoding Place_Id\n",
        "place_to_place_encoded, place_encoded_to_place = dict_encoder('Place_Id')\n",
        "\n",
        "# Mapping Place_Id ke dataframe place\n",
        "df['place'] = df['Place_Id'].map(place_to_place_encoded)"
      ],
      "metadata": {
        "id": "eQjVlgL7kJR1"
      },
      "execution_count": 10,
      "outputs": []
    },
    {
      "cell_type": "code",
      "source": [
        "# Mendapatkan jumlah user dan hotel\n",
        "num_users, num_place = len(user_to_user_encoded), len(place_to_place_encoded)\n",
        "# mengubah nilai rating menjadi nilai float\n",
        "df['Place_Ratings'] = df['Place_Ratings'].values.astype(np.float32)\n",
        "# Mendapatkan nilai minimum dan maksimum rating\n",
        "min_rating, max_rating = min(df['Place_Ratings']), max(df['Place_Ratings'])"
      ],
      "metadata": {
        "id": "WnHUTDAHkLQt"
      },
      "execution_count": 11,
      "outputs": []
    },
    {
      "cell_type": "code",
      "source": [
        "print(f'Jumlah user : {num_users}')\n",
        "print(f'Jumlah Hotel : {num_place}')\n",
        "print(f'Rating minimum : {min_rating}')\n",
        "print(f'Rating maximum : {max_rating}')"
      ],
      "metadata": {
        "colab": {
          "base_uri": "https://localhost:8080/"
        },
        "id": "0GoFMjOikPeh",
        "outputId": "11c9fde7-ece0-4cdc-cfef-3f6df5ab53b0"
      },
      "execution_count": 12,
      "outputs": [
        {
          "output_type": "stream",
          "name": "stdout",
          "text": [
            "Jumlah user : 300\n",
            "Jumlah Hotel : 49\n",
            "Rating minimum : 1.0\n",
            "Rating maximum : 5.0\n"
          ]
        }
      ]
    },
    {
      "cell_type": "code",
      "source": [
        "# Mengacak dataset\n",
        "df = df.sample(frac=1, random_state=42)\n",
        "df.head()"
      ],
      "metadata": {
        "colab": {
          "base_uri": "https://localhost:8080/",
          "height": 206
        },
        "id": "LEh4cl9qkVCs",
        "outputId": "ab30acc9-d707-4aa1-d029-161ed2b6969a"
      },
      "execution_count": 13,
      "outputs": [
        {
          "output_type": "execute_result",
          "data": {
            "text/plain": [
              "      User_Id  Place_Id  Place_Ratings  user  place\n",
              "6252      188        20            3.0   187     27\n",
              "4684      142        11            2.0   141     37\n",
              "1731       54        33            3.0    53     47\n",
              "4742      144         4            3.0   143     40\n",
              "4521      138        20            5.0   137     27"
            ],
            "text/html": [
              "\n",
              "  <div id=\"df-4e5bf73b-4a2a-4124-be68-28bae94fce45\">\n",
              "    <div class=\"colab-df-container\">\n",
              "      <div>\n",
              "<style scoped>\n",
              "    .dataframe tbody tr th:only-of-type {\n",
              "        vertical-align: middle;\n",
              "    }\n",
              "\n",
              "    .dataframe tbody tr th {\n",
              "        vertical-align: top;\n",
              "    }\n",
              "\n",
              "    .dataframe thead th {\n",
              "        text-align: right;\n",
              "    }\n",
              "</style>\n",
              "<table border=\"1\" class=\"dataframe\">\n",
              "  <thead>\n",
              "    <tr style=\"text-align: right;\">\n",
              "      <th></th>\n",
              "      <th>User_Id</th>\n",
              "      <th>Place_Id</th>\n",
              "      <th>Place_Ratings</th>\n",
              "      <th>user</th>\n",
              "      <th>place</th>\n",
              "    </tr>\n",
              "  </thead>\n",
              "  <tbody>\n",
              "    <tr>\n",
              "      <th>6252</th>\n",
              "      <td>188</td>\n",
              "      <td>20</td>\n",
              "      <td>3.0</td>\n",
              "      <td>187</td>\n",
              "      <td>27</td>\n",
              "    </tr>\n",
              "    <tr>\n",
              "      <th>4684</th>\n",
              "      <td>142</td>\n",
              "      <td>11</td>\n",
              "      <td>2.0</td>\n",
              "      <td>141</td>\n",
              "      <td>37</td>\n",
              "    </tr>\n",
              "    <tr>\n",
              "      <th>1731</th>\n",
              "      <td>54</td>\n",
              "      <td>33</td>\n",
              "      <td>3.0</td>\n",
              "      <td>53</td>\n",
              "      <td>47</td>\n",
              "    </tr>\n",
              "    <tr>\n",
              "      <th>4742</th>\n",
              "      <td>144</td>\n",
              "      <td>4</td>\n",
              "      <td>3.0</td>\n",
              "      <td>143</td>\n",
              "      <td>40</td>\n",
              "    </tr>\n",
              "    <tr>\n",
              "      <th>4521</th>\n",
              "      <td>138</td>\n",
              "      <td>20</td>\n",
              "      <td>5.0</td>\n",
              "      <td>137</td>\n",
              "      <td>27</td>\n",
              "    </tr>\n",
              "  </tbody>\n",
              "</table>\n",
              "</div>\n",
              "      <button class=\"colab-df-convert\" onclick=\"convertToInteractive('df-4e5bf73b-4a2a-4124-be68-28bae94fce45')\"\n",
              "              title=\"Convert this dataframe to an interactive table.\"\n",
              "              style=\"display:none;\">\n",
              "        \n",
              "  <svg xmlns=\"http://www.w3.org/2000/svg\" height=\"24px\"viewBox=\"0 0 24 24\"\n",
              "       width=\"24px\">\n",
              "    <path d=\"M0 0h24v24H0V0z\" fill=\"none\"/>\n",
              "    <path d=\"M18.56 5.44l.94 2.06.94-2.06 2.06-.94-2.06-.94-.94-2.06-.94 2.06-2.06.94zm-11 1L8.5 8.5l.94-2.06 2.06-.94-2.06-.94L8.5 2.5l-.94 2.06-2.06.94zm10 10l.94 2.06.94-2.06 2.06-.94-2.06-.94-.94-2.06-.94 2.06-2.06.94z\"/><path d=\"M17.41 7.96l-1.37-1.37c-.4-.4-.92-.59-1.43-.59-.52 0-1.04.2-1.43.59L10.3 9.45l-7.72 7.72c-.78.78-.78 2.05 0 2.83L4 21.41c.39.39.9.59 1.41.59.51 0 1.02-.2 1.41-.59l7.78-7.78 2.81-2.81c.8-.78.8-2.07 0-2.86zM5.41 20L4 18.59l7.72-7.72 1.47 1.35L5.41 20z\"/>\n",
              "  </svg>\n",
              "      </button>\n",
              "      \n",
              "  <style>\n",
              "    .colab-df-container {\n",
              "      display:flex;\n",
              "      flex-wrap:wrap;\n",
              "      gap: 12px;\n",
              "    }\n",
              "\n",
              "    .colab-df-convert {\n",
              "      background-color: #E8F0FE;\n",
              "      border: none;\n",
              "      border-radius: 50%;\n",
              "      cursor: pointer;\n",
              "      display: none;\n",
              "      fill: #1967D2;\n",
              "      height: 32px;\n",
              "      padding: 0 0 0 0;\n",
              "      width: 32px;\n",
              "    }\n",
              "\n",
              "    .colab-df-convert:hover {\n",
              "      background-color: #E2EBFA;\n",
              "      box-shadow: 0px 1px 2px rgba(60, 64, 67, 0.3), 0px 1px 3px 1px rgba(60, 64, 67, 0.15);\n",
              "      fill: #174EA6;\n",
              "    }\n",
              "\n",
              "    [theme=dark] .colab-df-convert {\n",
              "      background-color: #3B4455;\n",
              "      fill: #D2E3FC;\n",
              "    }\n",
              "\n",
              "    [theme=dark] .colab-df-convert:hover {\n",
              "      background-color: #434B5C;\n",
              "      box-shadow: 0px 1px 3px 1px rgba(0, 0, 0, 0.15);\n",
              "      filter: drop-shadow(0px 1px 2px rgba(0, 0, 0, 0.3));\n",
              "      fill: #FFFFFF;\n",
              "    }\n",
              "  </style>\n",
              "\n",
              "      <script>\n",
              "        const buttonEl =\n",
              "          document.querySelector('#df-4e5bf73b-4a2a-4124-be68-28bae94fce45 button.colab-df-convert');\n",
              "        buttonEl.style.display =\n",
              "          google.colab.kernel.accessAllowed ? 'block' : 'none';\n",
              "\n",
              "        async function convertToInteractive(key) {\n",
              "          const element = document.querySelector('#df-4e5bf73b-4a2a-4124-be68-28bae94fce45');\n",
              "          const dataTable =\n",
              "            await google.colab.kernel.invokeFunction('convertToInteractive',\n",
              "                                                     [key], {});\n",
              "          if (!dataTable) return;\n",
              "\n",
              "          const docLinkHtml = 'Like what you see? Visit the ' +\n",
              "            '<a target=\"_blank\" href=https://colab.research.google.com/notebooks/data_table.ipynb>data table notebook</a>'\n",
              "            + ' to learn more about interactive tables.';\n",
              "          element.innerHTML = '';\n",
              "          dataTable['output_type'] = 'display_data';\n",
              "          await google.colab.output.renderOutput(dataTable, element);\n",
              "          const docLink = document.createElement('div');\n",
              "          docLink.innerHTML = docLinkHtml;\n",
              "          element.appendChild(docLink);\n",
              "        }\n",
              "      </script>\n",
              "    </div>\n",
              "  </div>\n",
              "  "
            ]
          },
          "metadata": {},
          "execution_count": 13
        }
      ]
    },
    {
      "cell_type": "markdown",
      "source": [
        "# Splitting Dataset"
      ],
      "metadata": {
        "id": "qa_3eNLukb7w"
      }
    },
    {
      "cell_type": "code",
      "source": [
        "# Mambuat Variable x\n",
        "x = df[['user', 'place']].values\n",
        "# membuat Variable y\n",
        "y = df['Place_Ratings'].apply(lambda x: (x-min_rating)/(max_rating-min_rating)).values\n",
        "\n",
        "# split dataset\n",
        "indices = int(0.8*df.shape[0])\n",
        "x_train, x_test, y_train, y_test = (x[:indices],\n",
        "                                    x[indices:],\n",
        "                                    y[:indices],\n",
        "                                    y[indices:]\n",
        "                                    )\n",
        "print(f'x_train : {x_train.shape}')\n",
        "print(f'x_test : {x_test.shape}')\n",
        "print(f'y_train : {y_train.shape}')\n",
        "print(f'y_test : {y_test.shape}')"
      ],
      "metadata": {
        "colab": {
          "base_uri": "https://localhost:8080/"
        },
        "id": "HaAomUqQkd49",
        "outputId": "7d33f672-91f5-4c74-ffd4-c18bc427ec18"
      },
      "execution_count": 14,
      "outputs": [
        {
          "output_type": "stream",
          "name": "stdout",
          "text": [
            "x_train : (8000, 2)\n",
            "x_test : (2000, 2)\n",
            "y_train : (8000,)\n",
            "y_test : (2000,)\n"
          ]
        }
      ]
    },
    {
      "cell_type": "code",
      "source": [
        "class Recommended(keras.Model):\n",
        "  def __init__(self,num_users, num_places, embedding_size, **kwargs):\n",
        "    super(Recommended, self).__init__(**kwargs)\n",
        "    self.num_users = num_users\n",
        "    self.num_places = num_places\n",
        "    self.embedding_size = embedding_size\n",
        "    self.user_embedding = layers.Embedding(num_users,\n",
        "                                           embedding_size,\n",
        "                                           embeddings_initializer = 'he_normal',\n",
        "                                           embeddings_regularizer = keras.regularizers.l2(1e-6)\n",
        "    )\n",
        "    self.user_bias = layers.Embedding(num_users,1)\n",
        "    self.places_embedding = layers.Embedding(num_places,\n",
        "                                             embedding_size,\n",
        "                                             embeddings_initializer='he_normal',\n",
        "                                             embeddings_regularizer= keras.regularizers.l2(1e-6)\n",
        "                                             )\n",
        "    self.places_bias = layers.Embedding(num_places,1)\n",
        "\n",
        "  def call(self, inputs):\n",
        "    user_vec = self.user_embedding(inputs[:,0])\n",
        "    user_bias = self.user_bias(inputs[:,0])\n",
        "    places_vec = self.places_embedding(inputs[:,1])\n",
        "    places_bias = self.places_bias(inputs[:,1])\n",
        "\n",
        "    dot_user_places = tf.tensordot(user_vec, places_vec, 2)\n",
        "\n",
        "    x = dot_user_places + user_bias + places_bias\n",
        "\n",
        "    return tf.nn.sigmoid(x)\n"
      ],
      "metadata": {
        "id": "E2K4DOGpkivb"
      },
      "execution_count": 15,
      "outputs": []
    },
    {
      "cell_type": "code",
      "source": [
        "model = Recommended(num_users, num_place, 50)\n",
        "\n",
        "model.compile(loss=tf.keras.losses.BinaryCrossentropy(), \n",
        "              optimizer=keras.optimizers.Adam(lr=0.0005),\n",
        "              metrics=['accuracy']\n",
        "              )"
      ],
      "metadata": {
        "id": "JiXUdNx6kmRB",
        "colab": {
          "base_uri": "https://localhost:8080/"
        },
        "outputId": "0e88d9dc-3503-49e4-d3f7-13e8b59b6d7f"
      },
      "execution_count": 24,
      "outputs": [
        {
          "output_type": "stream",
          "name": "stderr",
          "text": [
            "/usr/local/lib/python3.7/dist-packages/keras/optimizer_v2/adam.py:105: UserWarning: The `lr` argument is deprecated, use `learning_rate` instead.\n",
            "  super(Adam, self).__init__(name, **kwargs)\n"
          ]
        }
      ]
    },
    {
      "cell_type": "markdown",
      "source": [
        "# training Model"
      ],
      "metadata": {
        "id": "nRUMiWeVko_k"
      }
    },
    {
      "cell_type": "code",
      "source": [
        "history = model.fit(\n",
        "    x = x_train,\n",
        "    y = y_train,\n",
        "    epochs = 50,\n",
        "    validation_data = (x_test, y_test)\n",
        ")"
      ],
      "metadata": {
        "colab": {
          "base_uri": "https://localhost:8080/"
        },
        "id": "xROri4O9koRP",
        "outputId": "fc93065a-5513-422b-e312-c2062c582ce2"
      },
      "execution_count": 25,
      "outputs": [
        {
          "output_type": "stream",
          "name": "stdout",
          "text": [
            "Epoch 1/50\n",
            "250/250 [==============================] - 2s 4ms/step - loss: 0.7480 - accuracy: 0.1880 - val_loss: 0.7283 - val_accuracy: 0.1905\n",
            "Epoch 2/50\n",
            "250/250 [==============================] - 1s 3ms/step - loss: 0.7422 - accuracy: 0.1916 - val_loss: 0.7255 - val_accuracy: 0.1855\n",
            "Epoch 3/50\n",
            "250/250 [==============================] - 1s 2ms/step - loss: 0.7280 - accuracy: 0.1904 - val_loss: 0.7238 - val_accuracy: 0.1860\n",
            "Epoch 4/50\n",
            "250/250 [==============================] - 1s 3ms/step - loss: 0.7285 - accuracy: 0.1893 - val_loss: 0.7228 - val_accuracy: 0.1835\n",
            "Epoch 5/50\n",
            "250/250 [==============================] - 1s 2ms/step - loss: 0.7243 - accuracy: 0.1894 - val_loss: 0.7214 - val_accuracy: 0.1870\n",
            "Epoch 6/50\n",
            "250/250 [==============================] - 1s 2ms/step - loss: 0.7223 - accuracy: 0.1912 - val_loss: 0.7195 - val_accuracy: 0.1860\n",
            "Epoch 7/50\n",
            "250/250 [==============================] - 1s 3ms/step - loss: 0.7174 - accuracy: 0.1996 - val_loss: 0.7181 - val_accuracy: 0.1905\n",
            "Epoch 8/50\n",
            "250/250 [==============================] - 1s 2ms/step - loss: 0.7187 - accuracy: 0.1935 - val_loss: 0.7196 - val_accuracy: 0.1900\n",
            "Epoch 9/50\n",
            "250/250 [==============================] - 1s 3ms/step - loss: 0.7144 - accuracy: 0.1998 - val_loss: 0.7181 - val_accuracy: 0.1855\n",
            "Epoch 10/50\n",
            "250/250 [==============================] - 1s 3ms/step - loss: 0.7120 - accuracy: 0.1972 - val_loss: 0.7165 - val_accuracy: 0.1945\n",
            "Epoch 11/50\n",
            "250/250 [==============================] - 1s 3ms/step - loss: 0.7159 - accuracy: 0.1944 - val_loss: 0.7154 - val_accuracy: 0.1910\n",
            "Epoch 12/50\n",
            "250/250 [==============================] - 1s 2ms/step - loss: 0.7066 - accuracy: 0.2084 - val_loss: 0.7142 - val_accuracy: 0.1860\n",
            "Epoch 13/50\n",
            "250/250 [==============================] - 1s 2ms/step - loss: 0.7114 - accuracy: 0.2037 - val_loss: 0.7132 - val_accuracy: 0.1875\n",
            "Epoch 14/50\n",
            "250/250 [==============================] - 1s 3ms/step - loss: 0.7098 - accuracy: 0.2045 - val_loss: 0.7132 - val_accuracy: 0.1845\n",
            "Epoch 15/50\n",
            "250/250 [==============================] - 1s 3ms/step - loss: 0.7032 - accuracy: 0.2029 - val_loss: 0.7117 - val_accuracy: 0.1890\n",
            "Epoch 16/50\n",
            "250/250 [==============================] - 1s 3ms/step - loss: 0.6992 - accuracy: 0.2103 - val_loss: 0.7133 - val_accuracy: 0.1890\n",
            "Epoch 17/50\n",
            "250/250 [==============================] - 1s 3ms/step - loss: 0.6979 - accuracy: 0.2059 - val_loss: 0.7137 - val_accuracy: 0.1895\n",
            "Epoch 18/50\n",
            "250/250 [==============================] - 1s 3ms/step - loss: 0.6994 - accuracy: 0.2076 - val_loss: 0.7121 - val_accuracy: 0.1950\n",
            "Epoch 19/50\n",
            "250/250 [==============================] - 1s 2ms/step - loss: 0.6976 - accuracy: 0.2128 - val_loss: 0.7112 - val_accuracy: 0.1965\n",
            "Epoch 20/50\n",
            "250/250 [==============================] - 1s 2ms/step - loss: 0.6965 - accuracy: 0.2138 - val_loss: 0.7118 - val_accuracy: 0.1915\n",
            "Epoch 21/50\n",
            "250/250 [==============================] - 1s 2ms/step - loss: 0.6928 - accuracy: 0.2208 - val_loss: 0.7111 - val_accuracy: 0.1930\n",
            "Epoch 22/50\n",
            "250/250 [==============================] - 1s 2ms/step - loss: 0.6965 - accuracy: 0.2185 - val_loss: 0.7101 - val_accuracy: 0.1950\n",
            "Epoch 23/50\n",
            "250/250 [==============================] - 1s 2ms/step - loss: 0.6967 - accuracy: 0.2151 - val_loss: 0.7105 - val_accuracy: 0.1990\n",
            "Epoch 24/50\n",
            "250/250 [==============================] - 1s 2ms/step - loss: 0.6927 - accuracy: 0.2222 - val_loss: 0.7096 - val_accuracy: 0.2010\n",
            "Epoch 25/50\n",
            "250/250 [==============================] - 1s 3ms/step - loss: 0.6917 - accuracy: 0.2153 - val_loss: 0.7103 - val_accuracy: 0.2005\n",
            "Epoch 26/50\n",
            "250/250 [==============================] - 1s 2ms/step - loss: 0.6912 - accuracy: 0.2180 - val_loss: 0.7109 - val_accuracy: 0.1985\n",
            "Epoch 27/50\n",
            "250/250 [==============================] - 1s 3ms/step - loss: 0.6918 - accuracy: 0.2181 - val_loss: 0.7136 - val_accuracy: 0.1950\n",
            "Epoch 28/50\n",
            "250/250 [==============================] - 1s 3ms/step - loss: 0.6917 - accuracy: 0.2211 - val_loss: 0.7128 - val_accuracy: 0.1955\n",
            "Epoch 29/50\n",
            "250/250 [==============================] - 1s 2ms/step - loss: 0.6893 - accuracy: 0.2227 - val_loss: 0.7144 - val_accuracy: 0.1895\n",
            "Epoch 30/50\n",
            "250/250 [==============================] - 1s 2ms/step - loss: 0.6875 - accuracy: 0.2229 - val_loss: 0.7129 - val_accuracy: 0.1870\n",
            "Epoch 31/50\n",
            "250/250 [==============================] - 1s 3ms/step - loss: 0.6896 - accuracy: 0.2274 - val_loss: 0.7120 - val_accuracy: 0.1910\n",
            "Epoch 32/50\n",
            "250/250 [==============================] - 1s 3ms/step - loss: 0.6873 - accuracy: 0.2256 - val_loss: 0.7110 - val_accuracy: 0.1885\n",
            "Epoch 33/50\n",
            "250/250 [==============================] - 1s 2ms/step - loss: 0.6874 - accuracy: 0.2246 - val_loss: 0.7122 - val_accuracy: 0.1845\n",
            "Epoch 34/50\n",
            "250/250 [==============================] - 1s 2ms/step - loss: 0.6875 - accuracy: 0.2240 - val_loss: 0.7128 - val_accuracy: 0.1930\n",
            "Epoch 35/50\n",
            "250/250 [==============================] - 1s 2ms/step - loss: 0.6867 - accuracy: 0.2285 - val_loss: 0.7122 - val_accuracy: 0.1930\n",
            "Epoch 36/50\n",
            "250/250 [==============================] - 1s 3ms/step - loss: 0.6887 - accuracy: 0.2278 - val_loss: 0.7102 - val_accuracy: 0.1955\n",
            "Epoch 37/50\n",
            "250/250 [==============================] - 1s 2ms/step - loss: 0.6861 - accuracy: 0.2222 - val_loss: 0.7101 - val_accuracy: 0.1950\n",
            "Epoch 38/50\n",
            "250/250 [==============================] - 1s 3ms/step - loss: 0.6837 - accuracy: 0.2301 - val_loss: 0.7088 - val_accuracy: 0.1920\n",
            "Epoch 39/50\n",
            "250/250 [==============================] - 1s 3ms/step - loss: 0.6847 - accuracy: 0.2281 - val_loss: 0.7080 - val_accuracy: 0.1985\n",
            "Epoch 40/50\n",
            "250/250 [==============================] - 1s 3ms/step - loss: 0.6851 - accuracy: 0.2333 - val_loss: 0.7090 - val_accuracy: 0.1975\n",
            "Epoch 41/50\n",
            "250/250 [==============================] - 1s 3ms/step - loss: 0.6840 - accuracy: 0.2341 - val_loss: 0.7094 - val_accuracy: 0.1990\n",
            "Epoch 42/50\n",
            "250/250 [==============================] - 1s 2ms/step - loss: 0.6832 - accuracy: 0.2331 - val_loss: 0.7083 - val_accuracy: 0.2000\n",
            "Epoch 43/50\n",
            "250/250 [==============================] - 1s 2ms/step - loss: 0.6838 - accuracy: 0.2291 - val_loss: 0.7082 - val_accuracy: 0.2025\n",
            "Epoch 44/50\n",
            "250/250 [==============================] - 1s 2ms/step - loss: 0.6826 - accuracy: 0.2330 - val_loss: 0.7090 - val_accuracy: 0.2030\n",
            "Epoch 45/50\n",
            "250/250 [==============================] - 1s 3ms/step - loss: 0.6825 - accuracy: 0.2362 - val_loss: 0.7105 - val_accuracy: 0.2010\n",
            "Epoch 46/50\n",
            "250/250 [==============================] - 1s 2ms/step - loss: 0.6839 - accuracy: 0.2334 - val_loss: 0.7101 - val_accuracy: 0.2015\n",
            "Epoch 47/50\n",
            "250/250 [==============================] - 1s 3ms/step - loss: 0.6814 - accuracy: 0.2380 - val_loss: 0.7106 - val_accuracy: 0.2050\n",
            "Epoch 48/50\n",
            "250/250 [==============================] - 1s 3ms/step - loss: 0.6830 - accuracy: 0.2329 - val_loss: 0.7083 - val_accuracy: 0.2005\n",
            "Epoch 49/50\n",
            "250/250 [==============================] - 1s 2ms/step - loss: 0.6820 - accuracy: 0.2350 - val_loss: 0.7080 - val_accuracy: 0.2050\n",
            "Epoch 50/50\n",
            "250/250 [==============================] - 1s 2ms/step - loss: 0.6821 - accuracy: 0.2359 - val_loss: 0.7065 - val_accuracy: 0.2060\n"
          ]
        }
      ]
    },
    {
      "cell_type": "markdown",
      "source": [
        "# Evaluasi Model"
      ],
      "metadata": {
        "id": "czip3luik9Jk"
      }
    },
    {
      "cell_type": "code",
      "source": [
        "model.evaluate(x=x_test, y=y_test)"
      ],
      "metadata": {
        "colab": {
          "base_uri": "https://localhost:8080/"
        },
        "id": "ipI2DcfYk8c8",
        "outputId": "49e575f1-1984-4dac-a667-aa4c522be2f6"
      },
      "execution_count": 26,
      "outputs": [
        {
          "output_type": "stream",
          "name": "stdout",
          "text": [
            "63/63 [==============================] - 0s 1ms/step - loss: 0.7065 - accuracy: 0.2060\n"
          ]
        },
        {
          "output_type": "execute_result",
          "data": {
            "text/plain": [
              "[0.7065238356590271, 0.20600000023841858]"
            ]
          },
          "metadata": {},
          "execution_count": 26
        }
      ]
    },
    {
      "cell_type": "code",
      "source": [
        "import matplotlib.pyplot as plt\n",
        "\n",
        "plt.plot(history.history['accuracy'])\n",
        "plt.plot(history.history['val_accuracy'])\n",
        "plt.title('model_metrics')\n",
        "plt.ylabel('accuracy')\n",
        "plt.xlabel('epoch')\n",
        "plt.ylim(ymin=0, ymax=0.4)\n",
        "plt.legend(['train', 'test'], loc='center left')\n",
        "plt.show()"
      ],
      "metadata": {
        "colab": {
          "base_uri": "https://localhost:8080/",
          "height": 295
        },
        "id": "rzwPRh8ZlDan",
        "outputId": "b8b9a555-c516-4dc9-9b73-7e801a6a437f"
      },
      "execution_count": 27,
      "outputs": [
        {
          "output_type": "display_data",
          "data": {
            "text/plain": [
              "<Figure size 432x288 with 1 Axes>"
            ],
            "image/png": "[encoded data removed]"
          },
          "metadata": {
            "needs_background": "light"
          }
        }
      ]
    },
    {
      "cell_type": "markdown",
      "source": [
        "# Penerapan Model"
      ],
      "metadata": {
        "id": "JFBegpn4lHir"
      }
    },
    {
      "cell_type": "code",
      "source": [
        "hotel.columns"
      ],
      "metadata": {
        "colab": {
          "base_uri": "https://localhost:8080/"
        },
        "id": "CdU-54iNlHOz",
        "outputId": "0bdb3da5-8da4-445c-b328-ffdce6f07633"
      },
      "execution_count": 28,
      "outputs": [
        {
          "output_type": "execute_result",
          "data": {
            "text/plain": [
              "Index(['Unnamed: 0', 'Id', 'Name', 'Stars', 'Ratings', 'Price', 'Addres',\n",
              "       'Coordinate', 'Description', 'Lat', 'Long', 'Images'],\n",
              "      dtype='object')"
            ]
          },
          "metadata": {},
          "execution_count": 28
        }
      ]
    },
    {
      "cell_type": "code",
      "source": [
        "place_df = hotel[['Id', 'Name', 'Stars', 'Ratings', 'Price', 'Addres', 'Coordinate',\n",
        "       'Description', 'Lat', 'Long']]\n",
        "place_df.columns = ['Id', 'Name', 'Stars', 'Ratings', 'Price', 'Addres', 'Coordinate',\n",
        "       'Description', 'Lat', 'Long']\n",
        "df = rating.copy()"
      ],
      "metadata": {
        "id": "lMfjsRSzlOHR"
      },
      "execution_count": 30,
      "outputs": []
    },
    {
      "cell_type": "code",
      "source": [
        "# Mengambil sample user\n",
        "user_id = df.User_Id.sample(1).iloc[0]\n",
        "place_visited_by_user = df[df.User_Id == user_id]"
      ],
      "metadata": {
        "id": "c9w34r00lmN0"
      },
      "execution_count": 29,
      "outputs": []
    },
    {
      "cell_type": "code",
      "source": [
        "# Membuat data lokasi yang belum dikunjungi user\n",
        "place_not_visited = place_df[~place_df['Id'].isin(place_visited_by_user.Place_Id.values)]['Id'] \n",
        "place_not_visited = list(\n",
        "    set(place_not_visited).intersection(set(place_to_place_encoded.keys()))\n",
        ")\n",
        " \n",
        "place_not_visited = [[place_to_place_encoded.get(x)] for x in place_not_visited]\n",
        "user_encoder = user_to_user_encoded.get(user_id)\n",
        "user_place_array = np.hstack(\n",
        "    ([[user_encoder]] * len(place_not_visited), place_not_visited)\n",
        ")"
      ],
      "metadata": {
        "id": "KTkz9LKgloKK"
      },
      "execution_count": 31,
      "outputs": []
    },
    {
      "cell_type": "code",
      "source": [
        "# Mengambil top 5 recommendation\n",
        "ratings = model.predict(user_place_array).flatten()\n",
        "top_ratings_indices = ratings.argsort()[-5:][::-1]\n",
        "recommended_place_ids = [\n",
        "    place_encoded_to_place.get(place_not_visited[x][0]) for x in top_ratings_indices\n",
        "]\n",
        " \n",
        "\n",
        "print('')\n",
        "print('----' * 15)\n",
        "print('Top 5 place recommendation')\n",
        "print('----' * 15)\n",
        " \n",
        "recommended_place = place_df[place_df['Id'].isin(recommended_place_ids)]\n",
        "for row, i in zip(recommended_place.itertuples(), range(1,8)):\n",
        "    print(i,'.', row.Name, '\\n    ', row.Addres, ',', 'Harga Tiket Masuk ', row.Price, ',', 'Rating Wisata ', row.Ratings,'\\n')\n",
        "\n",
        "print('==='*15)"
      ],
      "metadata": {
        "colab": {
          "base_uri": "https://localhost:8080/"
        },
        "id": "5VeNUi5QltQe",
        "outputId": "c0ed825d-a8d7-4ed8-e714-0bdb3cb47f87"
      },
      "execution_count": 32,
      "outputs": [
        {
          "output_type": "stream",
          "name": "stdout",
          "text": [
            "\n",
            "------------------------------------------------------------\n",
            "Top 5 place recommendation\n",
            "------------------------------------------------------------\n",
            "1 . Quest San Hotel Denpasar by ASTON \n",
            "     Jl. Mahendradatta No.93, Padangsambian, Kec. Denpasar Bar., Kota Denpasar, Bali 80117 , Harga Tiket Masuk  243,832.00 , Rating Wisata  4.4 \n",
            "\n",
            "2 . Hadi Poetra Hotel \n",
            "     Jl. Raya Kuta No.323-378, Kuta, Kec. Kuta, Kabupaten Badung, Bali 80361 , Harga Tiket Masuk  187,789.00 , Rating Wisata  4.2 \n",
            "\n",
            "3 . Paditeras Boutique Hotel Seminyak \n",
            "     Jl. Lb. Sari No.19, Seminyak, Kec. Kuta Utara, Kabupaten Badung, Bali 80361 , Harga Tiket Masuk  Nan , Rating Wisata  4.3 \n",
            "\n",
            "4 . J Hotel Kuta \n",
            "     Jalan Raya Kuta No.88D, Kuta, Kec. Kuta, Kabupaten Badung, Bali 80361 , Harga Tiket Masuk  170,668.00 , Rating Wisata  4.2 \n",
            "\n",
            "5 . Golden Tulip Essential Denpasar \n",
            "     Jl. Gatot Subroto Barat No.101, Padangsambian Kaja, Kec. Denpasar Bar., Kota Denpasar, Bali 80118 , Harga Tiket Masuk  181,425.00 , Rating Wisata  4.2 \n",
            "\n",
            "=============================================\n"
          ]
        }
      ]
    },
    {
      "cell_type": "markdown",
      "source": [
        "# Save Model"
      ],
      "metadata": {
        "id": "AhUrnLEPmNEF"
      }
    },
    {
      "cell_type": "code",
      "source": [
        "# converter = tf.lite.TFLiteConverter.from_keras_model(model)\n",
        "# tflite_model = converter.convert()\n",
        "\n",
        "# # Save the model.\n",
        "# with open('model.tflite', 'wb') as f:\n",
        "#   f.write(tflite_model)"
      ],
      "metadata": {
        "colab": {
          "base_uri": "https://localhost:8080/"
        },
        "id": "mNXwkrDjmMMs",
        "outputId": "73ef722c-efbc-4734-894a-ba251661b8f8"
      },
      "execution_count": null,
      "outputs": [
        {
          "output_type": "stream",
          "name": "stdout",
          "text": [
            "INFO:tensorflow:Assets written to: /tmp/tmpiqpaze92/assets\n"
          ]
        },
        {
          "output_type": "stream",
          "name": "stderr",
          "text": [
            "WARNING:absl:Buffer deduplication procedure will be skipped when flatbuffer library is not properly loaded\n"
          ]
        }
      ]
    },
    {
      "cell_type": "code",
      "source": [
        "filename = 'hotel_bali_model.pkl'\n",
        "pickle.dump(model, open(filename, 'wb'))"
      ],
      "metadata": {
        "colab": {
          "base_uri": "https://localhost:8080/"
        },
        "id": "X2CsLQlNkQox",
        "outputId": "3eec4612-0a09-4ac6-ff9a-d05b2a9b8e79"
      },
      "execution_count": 33,
      "outputs": [
        {
          "output_type": "stream",
          "name": "stdout",
          "text": [
            "INFO:tensorflow:Assets written to: ram://c981e122-cc10-4dfe-9481-e8b008bb3fed/assets\n"
          ]
        }
      ]
    },
    {
      "cell_type": "code",
      "source": [
        "loaded_model = pickle.load(open(filename, 'rb'))\n",
        "result = loaded_model.evaluate(x=x_test, y=y_test)"
      ],
      "metadata": {
        "colab": {
          "base_uri": "https://localhost:8080/"
        },
        "id": "j0Y2p2RTklYO",
        "outputId": "593b7d41-7ffd-4a50-a754-d521dc73f1ce"
      },
      "execution_count": 34,
      "outputs": [
        {
          "output_type": "stream",
          "name": "stdout",
          "text": [
            "63/63 [==============================] - 0s 2ms/step - loss: 0.7065 - accuracy: 0.2060\n"
          ]
        }
      ]
    }
  ]
}