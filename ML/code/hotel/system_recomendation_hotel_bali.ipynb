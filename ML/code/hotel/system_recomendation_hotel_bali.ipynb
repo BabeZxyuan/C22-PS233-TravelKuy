{
 "cells": [
  {
   "cell_type": "markdown",
   "metadata": {
    "id": "H4dHySlIgs9p"
   },
   "source": [
    "# Import Package"
   ]
  },
  {
   "cell_type": "code",
   "execution_count": 1,
   "metadata": {
    "id": "UEw3gFdFgvR9"
   },
   "outputs": [
    {
     "name": "stderr",
     "output_type": "stream",
     "text": [
      "2022-06-09 21:18:34.283353: W tensorflow/stream_executor/platform/default/dso_loader.cc:64] Could not load dynamic library 'libcudart.so.11.0'; dlerror: libcudart.so.11.0: cannot open shared object file: No such file or directory\n",
      "2022-06-09 21:18:34.283400: I tensorflow/stream_executor/cuda/cudart_stub.cc:29] Ignore above cudart dlerror if you do not have a GPU set up on your machine.\n"
     ]
    }
   ],
   "source": [
    "import numpy as np\n",
    "import pandas as pd \n",
    "\n",
    "import tensorflow as tf\n",
    "from tensorflow import keras\n",
    "from tensorflow.keras import layers\n",
    "import pickle"
   ]
  },
  {
   "cell_type": "code",
   "execution_count": 2,
   "metadata": {
    "colab": {
     "base_uri": "https://localhost:8080/"
    },
    "id": "t4jpyklMTvVQ",
    "outputId": "c9a1e534-3cde-4146-9aaf-7108781ad8db"
   },
   "outputs": [
    {
     "name": "stdout",
     "output_type": "stream",
     "text": [
      "\n",
      "1.22.4,\n",
      "1.4.2,\n",
      "2.9.1\n"
     ]
    }
   ],
   "source": [
    "print(f'''\n",
    "{np.__version__},\n",
    "{pd.__version__},\n",
    "{tf.__version__}''')"
   ]
  },
  {
   "cell_type": "code",
   "execution_count": 3,
   "metadata": {
    "colab": {
     "base_uri": "https://localhost:8080/"
    },
    "id": "UU1lEoQYVBYt",
    "outputId": "66e80a77-ad00-4c1f-e456-710fada18964"
   },
   "outputs": [
    {
     "name": "stdout",
     "output_type": "stream",
     "text": [
      "Python 3.8.10\r\n"
     ]
    }
   ],
   "source": [
    "!python --version"
   ]
  },
  {
   "cell_type": "markdown",
   "metadata": {
    "id": "VVF4rN5cgzPr"
   },
   "source": [
    "# Import Dataset"
   ]
  },
  {
   "cell_type": "code",
   "execution_count": 8,
   "metadata": {
    "id": "doIruLZpgxrz"
   },
   "outputs": [],
   "source": [
    "rating = pd.read_csv('../../data/rating.csv')\n",
    "hotel = pd.read_csv('../../data/hotel.csv')\n",
    "user = pd.read_csv('../../data/user.csv')"
   ]
  },
  {
   "cell_type": "code",
   "execution_count": 9,
   "metadata": {
    "colab": {
     "base_uri": "https://localhost:8080/"
    },
    "id": "9aXx38a0hWeM",
    "outputId": "223f2dff-a911-465d-fe56-4c9e70f7f320"
   },
   "outputs": [
    {
     "name": "stdout",
     "output_type": "stream",
     "text": [
      "rating : (10000, 3)\n",
      "hotel : (110, 11)\n",
      "user : (300, 3)\n"
     ]
    }
   ],
   "source": [
    "# melihat ukuran data\n",
    "print(f'rating : {rating.shape}')\n",
    "print(f'hotel : {hotel.shape}')\n",
    "print(f'user : {user.shape}')"
   ]
  },
  {
   "cell_type": "markdown",
   "metadata": {
    "id": "To3P2Wgmjz88"
   },
   "source": [
    "# Persiapan Dataset"
   ]
  },
  {
   "cell_type": "code",
   "execution_count": 10,
   "metadata": {},
   "outputs": [
    {
     "data": {
      "text/html": [
       "<div>\n",
       "<style scoped>\n",
       "    .dataframe tbody tr th:only-of-type {\n",
       "        vertical-align: middle;\n",
       "    }\n",
       "\n",
       "    .dataframe tbody tr th {\n",
       "        vertical-align: top;\n",
       "    }\n",
       "\n",
       "    .dataframe thead th {\n",
       "        text-align: right;\n",
       "    }\n",
       "</style>\n",
       "<table border=\"1\" class=\"dataframe\">\n",
       "  <thead>\n",
       "    <tr style=\"text-align: right;\">\n",
       "      <th></th>\n",
       "      <th>id</th>\n",
       "      <th>Name</th>\n",
       "      <th>City</th>\n",
       "      <th>Ratings</th>\n",
       "      <th>Price</th>\n",
       "      <th>Addres</th>\n",
       "      <th>Coordinate</th>\n",
       "      <th>Description</th>\n",
       "      <th>Lat</th>\n",
       "      <th>Long</th>\n",
       "      <th>Images</th>\n",
       "    </tr>\n",
       "  </thead>\n",
       "  <tbody>\n",
       "    <tr>\n",
       "      <th>60</th>\n",
       "      <td>61</td>\n",
       "      <td>The Alea Hotel Seminyak</td>\n",
       "      <td>Bali</td>\n",
       "      <td>4.2</td>\n",
       "      <td>4,403,576.00</td>\n",
       "      <td>Jl. Cendrawasih No.78, Seminyak, Kec. Kuta Uta...</td>\n",
       "      <td>-8.67463167686094, 115.15341976860144</td>\n",
       "      <td>Set on a narrow, winding street, this upmarket...</td>\n",
       "      <td>-8.674632</td>\n",
       "      <td>115.153420</td>\n",
       "      <td>https://pix10.agoda.net/hotelImages/569/569051...</td>\n",
       "    </tr>\n",
       "    <tr>\n",
       "      <th>61</th>\n",
       "      <td>62</td>\n",
       "      <td>Atanaya Kuta Bali</td>\n",
       "      <td>Bali</td>\n",
       "      <td>4.4</td>\n",
       "      <td>275,705.00</td>\n",
       "      <td>Jl. Sunset Road No.88A, Kuta, Kec. Kuta, Kabup...</td>\n",
       "      <td>-8.70357015159306, 115.18059606116576</td>\n",
       "      <td>This modern, casual hotel is an 8-minute walk ...</td>\n",
       "      <td>-8.703570</td>\n",
       "      <td>115.180596</td>\n",
       "      <td>https://cf.bstatic.com/xdata/images/hotel/max1...</td>\n",
       "    </tr>\n",
       "    <tr>\n",
       "      <th>62</th>\n",
       "      <td>63</td>\n",
       "      <td>Grand Livio Kuta Hotel</td>\n",
       "      <td>Bali</td>\n",
       "      <td>4.4</td>\n",
       "      <td>176,762.00</td>\n",
       "      <td>Jl. Dewi Sri No.17, Kuta, Kec. Kuta, Kabupaten...</td>\n",
       "      <td>-8.707926067445976, 115.1789058788881</td>\n",
       "      <td>A 6 km drive from Bali Ngurah Rai Internationa...</td>\n",
       "      <td>-8.707926</td>\n",
       "      <td>115.178906</td>\n",
       "      <td>https://pix10.agoda.net/hotelImages/161/161264...</td>\n",
       "    </tr>\n",
       "    <tr>\n",
       "      <th>63</th>\n",
       "      <td>64</td>\n",
       "      <td>Mega Boutique Hotel &amp; Spa</td>\n",
       "      <td>Bali</td>\n",
       "      <td>4.3</td>\n",
       "      <td>305,266.00</td>\n",
       "      <td>SImpang Siur, Jl. Bypass Ngurah Rai No.259, Ku...</td>\n",
       "      <td>-8.721310373139259, 115.18644739196829</td>\n",
       "      <td>Among shops and eateries on a bustling commerc...</td>\n",
       "      <td>-8.721310</td>\n",
       "      <td>115.186447</td>\n",
       "      <td>https://s-light.tiket.photos/t/01E25EBZS3W0FY9...</td>\n",
       "    </tr>\n",
       "    <tr>\n",
       "      <th>64</th>\n",
       "      <td>65</td>\n",
       "      <td>The ONE Legian</td>\n",
       "      <td>Bali</td>\n",
       "      <td>4.3</td>\n",
       "      <td>283,500.00</td>\n",
       "      <td>Jl. Raya Legian No.117, Kuta, Kec. Kuta, Kabup...</td>\n",
       "      <td>-8.714040123752303, 115.17360076101478</td>\n",
       "      <td>In a tree-lined area near shops and restaurant...</td>\n",
       "      <td>-8.714040</td>\n",
       "      <td>115.173601</td>\n",
       "      <td>https://dynamic-media-cdn.tripadvisor.com/medi...</td>\n",
       "    </tr>\n",
       "  </tbody>\n",
       "</table>\n",
       "</div>"
      ],
      "text/plain": [
       "    id                       Name  City  Ratings         Price  \\\n",
       "60  61    The Alea Hotel Seminyak  Bali      4.2  4,403,576.00   \n",
       "61  62          Atanaya Kuta Bali  Bali      4.4    275,705.00   \n",
       "62  63     Grand Livio Kuta Hotel  Bali      4.4    176,762.00   \n",
       "63  64  Mega Boutique Hotel & Spa  Bali      4.3    305,266.00   \n",
       "64  65             The ONE Legian  Bali      4.3    283,500.00   \n",
       "\n",
       "                                               Addres  \\\n",
       "60  Jl. Cendrawasih No.78, Seminyak, Kec. Kuta Uta...   \n",
       "61  Jl. Sunset Road No.88A, Kuta, Kec. Kuta, Kabup...   \n",
       "62  Jl. Dewi Sri No.17, Kuta, Kec. Kuta, Kabupaten...   \n",
       "63  SImpang Siur, Jl. Bypass Ngurah Rai No.259, Ku...   \n",
       "64  Jl. Raya Legian No.117, Kuta, Kec. Kuta, Kabup...   \n",
       "\n",
       "                                Coordinate  \\\n",
       "60   -8.67463167686094, 115.15341976860144   \n",
       "61   -8.70357015159306, 115.18059606116576   \n",
       "62   -8.707926067445976, 115.1789058788881   \n",
       "63  -8.721310373139259, 115.18644739196829   \n",
       "64  -8.714040123752303, 115.17360076101478   \n",
       "\n",
       "                                          Description       Lat        Long  \\\n",
       "60  Set on a narrow, winding street, this upmarket... -8.674632  115.153420   \n",
       "61  This modern, casual hotel is an 8-minute walk ... -8.703570  115.180596   \n",
       "62  A 6 km drive from Bali Ngurah Rai Internationa... -8.707926  115.178906   \n",
       "63  Among shops and eateries on a bustling commerc... -8.721310  115.186447   \n",
       "64  In a tree-lined area near shops and restaurant... -8.714040  115.173601   \n",
       "\n",
       "                                               Images  \n",
       "60  https://pix10.agoda.net/hotelImages/569/569051...  \n",
       "61  https://cf.bstatic.com/xdata/images/hotel/max1...  \n",
       "62  https://pix10.agoda.net/hotelImages/161/161264...  \n",
       "63  https://s-light.tiket.photos/t/01E25EBZS3W0FY9...  \n",
       "64  https://dynamic-media-cdn.tripadvisor.com/medi...  "
      ]
     },
     "execution_count": 10,
     "metadata": {},
     "output_type": "execute_result"
    }
   ],
   "source": [
    "# Merubah data agar hanya dari Kota Bali\n",
    "\n",
    "hotel = hotel[hotel['City']=='Bali']\n",
    "hotel.head()"
   ]
  },
  {
   "cell_type": "code",
   "execution_count": 11,
   "metadata": {
    "colab": {
     "base_uri": "https://localhost:8080/",
     "height": 206
    },
    "id": "UXfR_jLyj11O",
    "outputId": "98058d78-86c7-4e6a-8703-df6a16cd1635"
   },
   "outputs": [
    {
     "data": {
      "text/html": [
       "<div>\n",
       "<style scoped>\n",
       "    .dataframe tbody tr th:only-of-type {\n",
       "        vertical-align: middle;\n",
       "    }\n",
       "\n",
       "    .dataframe tbody tr th {\n",
       "        vertical-align: top;\n",
       "    }\n",
       "\n",
       "    .dataframe thead th {\n",
       "        text-align: right;\n",
       "    }\n",
       "</style>\n",
       "<table border=\"1\" class=\"dataframe\">\n",
       "  <thead>\n",
       "    <tr style=\"text-align: right;\">\n",
       "      <th></th>\n",
       "      <th>User_Id</th>\n",
       "      <th>Place_Id</th>\n",
       "      <th>Place_Ratings</th>\n",
       "    </tr>\n",
       "  </thead>\n",
       "  <tbody>\n",
       "    <tr>\n",
       "      <th>0</th>\n",
       "      <td>1</td>\n",
       "      <td>179</td>\n",
       "      <td>3</td>\n",
       "    </tr>\n",
       "    <tr>\n",
       "      <th>1</th>\n",
       "      <td>1</td>\n",
       "      <td>344</td>\n",
       "      <td>2</td>\n",
       "    </tr>\n",
       "    <tr>\n",
       "      <th>2</th>\n",
       "      <td>1</td>\n",
       "      <td>5</td>\n",
       "      <td>5</td>\n",
       "    </tr>\n",
       "    <tr>\n",
       "      <th>3</th>\n",
       "      <td>1</td>\n",
       "      <td>373</td>\n",
       "      <td>3</td>\n",
       "    </tr>\n",
       "    <tr>\n",
       "      <th>4</th>\n",
       "      <td>1</td>\n",
       "      <td>101</td>\n",
       "      <td>4</td>\n",
       "    </tr>\n",
       "  </tbody>\n",
       "</table>\n",
       "</div>"
      ],
      "text/plain": [
       "   User_Id  Place_Id  Place_Ratings\n",
       "0        1       179              3\n",
       "1        1       344              2\n",
       "2        1         5              5\n",
       "3        1       373              3\n",
       "4        1       101              4"
      ]
     },
     "execution_count": 11,
     "metadata": {},
     "output_type": "execute_result"
    }
   ],
   "source": [
    "rating.head()"
   ]
  },
  {
   "cell_type": "code",
   "execution_count": 12,
   "metadata": {
    "id": "faQmImEHj7lr"
   },
   "outputs": [],
   "source": [
    "df = rating.copy()"
   ]
  },
  {
   "cell_type": "code",
   "execution_count": 13,
   "metadata": {
    "id": "Y2A8gEUfkBO1"
   },
   "outputs": [],
   "source": [
    "#ENCODING\n",
    "def dict_encoder(col, data=df):\n",
    "  unique_val = data[col].unique().tolist()\n",
    "  val_to_val_encoded = {x: i for i, x in enumerate(unique_val)}\n",
    "  val_encoded_to_val = {i: x for i, x in enumerate(unique_val)}\n",
    "  return val_to_val_encoded, val_encoded_to_val"
   ]
  },
  {
   "cell_type": "code",
   "execution_count": 14,
   "metadata": {
    "id": "am59S7y-kEc7"
   },
   "outputs": [],
   "source": [
    "user_to_user_encoded, user_encoded_to_user = dict_encoder('User_Id')\n",
    "df['user'] = df['User_Id'].map(user_to_user_encoded)"
   ]
  },
  {
   "cell_type": "code",
   "execution_count": 15,
   "metadata": {
    "id": "eQjVlgL7kJR1"
   },
   "outputs": [],
   "source": [
    "# Encoding Place_Id\n",
    "place_to_place_encoded, place_encoded_to_place = dict_encoder('Place_Id')\n",
    "\n",
    "# Mapping Place_Id ke dataframe place\n",
    "df['place'] = df['Place_Id'].map(place_to_place_encoded)"
   ]
  },
  {
   "cell_type": "code",
   "execution_count": 16,
   "metadata": {
    "id": "WnHUTDAHkLQt"
   },
   "outputs": [],
   "source": [
    "# Mendapatkan jumlah user dan hotel\n",
    "num_users, num_place = len(user_to_user_encoded), len(place_to_place_encoded)\n",
    "# mengubah nilai rating menjadi nilai float\n",
    "df['Place_Ratings'] = df['Place_Ratings'].values.astype(np.float32)\n",
    "# Mendapatkan nilai minimum dan maksimum rating\n",
    "min_rating, max_rating = min(df['Place_Ratings']), max(df['Place_Ratings'])"
   ]
  },
  {
   "cell_type": "code",
   "execution_count": 17,
   "metadata": {
    "colab": {
     "base_uri": "https://localhost:8080/"
    },
    "id": "0GoFMjOikPeh",
    "outputId": "11c9fde7-ece0-4cdc-cfef-3f6df5ab53b0"
   },
   "outputs": [
    {
     "name": "stdout",
     "output_type": "stream",
     "text": [
      "Jumlah user : 300\n",
      "Jumlah Hotel : 437\n",
      "Rating minimum : 1.0\n",
      "Rating maximum : 5.0\n"
     ]
    }
   ],
   "source": [
    "print(f'Jumlah user : {num_users}')\n",
    "print(f'Jumlah Hotel : {num_place}')\n",
    "print(f'Rating minimum : {min_rating}')\n",
    "print(f'Rating maximum : {max_rating}')"
   ]
  },
  {
   "cell_type": "code",
   "execution_count": 18,
   "metadata": {
    "colab": {
     "base_uri": "https://localhost:8080/",
     "height": 206
    },
    "id": "LEh4cl9qkVCs",
    "outputId": "ab30acc9-d707-4aa1-d029-161ed2b6969a"
   },
   "outputs": [
    {
     "data": {
      "text/html": [
       "<div>\n",
       "<style scoped>\n",
       "    .dataframe tbody tr th:only-of-type {\n",
       "        vertical-align: middle;\n",
       "    }\n",
       "\n",
       "    .dataframe tbody tr th {\n",
       "        vertical-align: top;\n",
       "    }\n",
       "\n",
       "    .dataframe thead th {\n",
       "        text-align: right;\n",
       "    }\n",
       "</style>\n",
       "<table border=\"1\" class=\"dataframe\">\n",
       "  <thead>\n",
       "    <tr style=\"text-align: right;\">\n",
       "      <th></th>\n",
       "      <th>User_Id</th>\n",
       "      <th>Place_Id</th>\n",
       "      <th>Place_Ratings</th>\n",
       "      <th>user</th>\n",
       "      <th>place</th>\n",
       "    </tr>\n",
       "  </thead>\n",
       "  <tbody>\n",
       "    <tr>\n",
       "      <th>6252</th>\n",
       "      <td>188</td>\n",
       "      <td>207</td>\n",
       "      <td>3.0</td>\n",
       "      <td>187</td>\n",
       "      <td>262</td>\n",
       "    </tr>\n",
       "    <tr>\n",
       "      <th>4684</th>\n",
       "      <td>142</td>\n",
       "      <td>268</td>\n",
       "      <td>2.0</td>\n",
       "      <td>141</td>\n",
       "      <td>83</td>\n",
       "    </tr>\n",
       "    <tr>\n",
       "      <th>1731</th>\n",
       "      <td>54</td>\n",
       "      <td>103</td>\n",
       "      <td>3.0</td>\n",
       "      <td>53</td>\n",
       "      <td>10</td>\n",
       "    </tr>\n",
       "    <tr>\n",
       "      <th>4742</th>\n",
       "      <td>144</td>\n",
       "      <td>119</td>\n",
       "      <td>3.0</td>\n",
       "      <td>143</td>\n",
       "      <td>141</td>\n",
       "    </tr>\n",
       "    <tr>\n",
       "      <th>4521</th>\n",
       "      <td>138</td>\n",
       "      <td>288</td>\n",
       "      <td>5.0</td>\n",
       "      <td>137</td>\n",
       "      <td>283</td>\n",
       "    </tr>\n",
       "  </tbody>\n",
       "</table>\n",
       "</div>"
      ],
      "text/plain": [
       "      User_Id  Place_Id  Place_Ratings  user  place\n",
       "6252      188       207            3.0   187    262\n",
       "4684      142       268            2.0   141     83\n",
       "1731       54       103            3.0    53     10\n",
       "4742      144       119            3.0   143    141\n",
       "4521      138       288            5.0   137    283"
      ]
     },
     "execution_count": 18,
     "metadata": {},
     "output_type": "execute_result"
    }
   ],
   "source": [
    "# Mengacak dataset\n",
    "df = df.sample(frac=1, random_state=42)\n",
    "df.head()"
   ]
  },
  {
   "cell_type": "markdown",
   "metadata": {
    "id": "qa_3eNLukb7w"
   },
   "source": [
    "# Splitting Dataset"
   ]
  },
  {
   "cell_type": "code",
   "execution_count": 19,
   "metadata": {
    "colab": {
     "base_uri": "https://localhost:8080/"
    },
    "id": "HaAomUqQkd49",
    "outputId": "7d33f672-91f5-4c74-ffd4-c18bc427ec18"
   },
   "outputs": [
    {
     "name": "stdout",
     "output_type": "stream",
     "text": [
      "x_train : (8000, 2)\n",
      "x_test : (2000, 2)\n",
      "y_train : (8000,)\n",
      "y_test : (2000,)\n"
     ]
    }
   ],
   "source": [
    "# Mambuat Variable x\n",
    "x = df[['user', 'place']].values\n",
    "# membuat Variable y\n",
    "y = df['Place_Ratings'].apply(lambda x: (x-min_rating)/(max_rating-min_rating)).values\n",
    "\n",
    "# split dataset\n",
    "indices = int(0.8*df.shape[0])\n",
    "x_train, x_test, y_train, y_test = (x[:indices],\n",
    "                                    x[indices:],\n",
    "                                    y[:indices],\n",
    "                                    y[indices:]\n",
    "                                    )\n",
    "print(f'x_train : {x_train.shape}')\n",
    "print(f'x_test : {x_test.shape}')\n",
    "print(f'y_train : {y_train.shape}')\n",
    "print(f'y_test : {y_test.shape}')"
   ]
  },
  {
   "cell_type": "code",
   "execution_count": 20,
   "metadata": {
    "id": "E2K4DOGpkivb"
   },
   "outputs": [],
   "source": [
    "class Recommended(keras.Model):\n",
    "  def __init__(self,num_users, num_places, embedding_size, **kwargs):\n",
    "    super(Recommended, self).__init__(**kwargs)\n",
    "    self.num_users = num_users\n",
    "    self.num_places = num_places\n",
    "    self.embedding_size = embedding_size\n",
    "    self.user_embedding = layers.Embedding(num_users,\n",
    "                                           embedding_size,\n",
    "                                           embeddings_initializer = 'he_normal',\n",
    "                                           embeddings_regularizer = keras.regularizers.l2(1e-6)\n",
    "    )\n",
    "    self.user_bias = layers.Embedding(num_users,1)\n",
    "    self.places_embedding = layers.Embedding(num_places,\n",
    "                                             embedding_size,\n",
    "                                             embeddings_initializer='he_normal',\n",
    "                                             embeddings_regularizer= keras.regularizers.l2(1e-6)\n",
    "                                             )\n",
    "    self.places_bias = layers.Embedding(num_places,1)\n",
    "\n",
    "  def call(self, inputs):\n",
    "    user_vec = self.user_embedding(inputs[:,0])\n",
    "    user_bias = self.user_bias(inputs[:,0])\n",
    "    places_vec = self.places_embedding(inputs[:,1])\n",
    "    places_bias = self.places_bias(inputs[:,1])\n",
    "\n",
    "    dot_user_places = tf.tensordot(user_vec, places_vec, 2)\n",
    "\n",
    "    x = dot_user_places + user_bias + places_bias\n",
    "\n",
    "    return tf.nn.sigmoid(x)\n"
   ]
  },
  {
   "cell_type": "code",
   "execution_count": 21,
   "metadata": {
    "colab": {
     "base_uri": "https://localhost:8080/"
    },
    "id": "JiXUdNx6kmRB",
    "outputId": "0e88d9dc-3503-49e4-d3f7-13e8b59b6d7f"
   },
   "outputs": [
    {
     "name": "stderr",
     "output_type": "stream",
     "text": [
      "2022-06-09 21:19:22.506273: W tensorflow/stream_executor/platform/default/dso_loader.cc:64] Could not load dynamic library 'libcuda.so.1'; dlerror: libcuda.so.1: cannot open shared object file: No such file or directory\n",
      "2022-06-09 21:19:22.506338: W tensorflow/stream_executor/cuda/cuda_driver.cc:269] failed call to cuInit: UNKNOWN ERROR (303)\n",
      "2022-06-09 21:19:22.506389: I tensorflow/stream_executor/cuda/cuda_diagnostics.cc:156] kernel driver does not appear to be running on this host (wan): /proc/driver/nvidia/version does not exist\n",
      "/home/wan/miniconda3/lib/python3.8/site-packages/keras/optimizers/optimizer_v2/adam.py:110: UserWarning: The `lr` argument is deprecated, use `learning_rate` instead.\n",
      "  super(Adam, self).__init__(name, **kwargs)\n"
     ]
    }
   ],
   "source": [
    "model = Recommended(num_users, num_place, 50)\n",
    "\n",
    "model.compile(loss=tf.keras.losses.BinaryCrossentropy(), \n",
    "              optimizer=keras.optimizers.Adam(lr=0.0005),\n",
    "              metrics=['accuracy']\n",
    "              )"
   ]
  },
  {
   "cell_type": "markdown",
   "metadata": {
    "id": "nRUMiWeVko_k"
   },
   "source": [
    "# training Model"
   ]
  },
  {
   "cell_type": "code",
   "execution_count": 22,
   "metadata": {
    "colab": {
     "base_uri": "https://localhost:8080/"
    },
    "id": "xROri4O9koRP",
    "outputId": "fc93065a-5513-422b-e312-c2062c582ce2"
   },
   "outputs": [
    {
     "name": "stdout",
     "output_type": "stream",
     "text": [
      "Epoch 1/50\n",
      "250/250 [==============================] - 2s 4ms/step - loss: 0.6993 - accuracy: 0.1839 - val_loss: 0.7006 - val_accuracy: 0.1740\n",
      "Epoch 2/50\n",
      "250/250 [==============================] - 1s 3ms/step - loss: 0.6973 - accuracy: 0.1941 - val_loss: 0.7006 - val_accuracy: 0.1740\n",
      "Epoch 3/50\n",
      "250/250 [==============================] - 1s 3ms/step - loss: 0.6946 - accuracy: 0.2024 - val_loss: 0.7007 - val_accuracy: 0.1810\n",
      "Epoch 4/50\n",
      "250/250 [==============================] - 1s 3ms/step - loss: 0.6930 - accuracy: 0.2051 - val_loss: 0.7004 - val_accuracy: 0.1870\n",
      "Epoch 5/50\n",
      "250/250 [==============================] - 1s 3ms/step - loss: 0.6927 - accuracy: 0.2091 - val_loss: 0.7001 - val_accuracy: 0.1850\n",
      "Epoch 6/50\n",
      "250/250 [==============================] - 1s 3ms/step - loss: 0.6904 - accuracy: 0.2154 - val_loss: 0.6996 - val_accuracy: 0.1825\n",
      "Epoch 7/50\n",
      "250/250 [==============================] - 1s 3ms/step - loss: 0.6904 - accuracy: 0.2141 - val_loss: 0.6990 - val_accuracy: 0.1820\n",
      "Epoch 8/50\n",
      "250/250 [==============================] - 1s 3ms/step - loss: 0.6878 - accuracy: 0.2234 - val_loss: 0.6987 - val_accuracy: 0.1890\n",
      "Epoch 9/50\n",
      "250/250 [==============================] - 1s 3ms/step - loss: 0.6861 - accuracy: 0.2234 - val_loss: 0.6990 - val_accuracy: 0.1875\n",
      "Epoch 10/50\n",
      "250/250 [==============================] - 1s 3ms/step - loss: 0.6870 - accuracy: 0.2206 - val_loss: 0.6986 - val_accuracy: 0.1895\n",
      "Epoch 11/50\n",
      "250/250 [==============================] - 1s 3ms/step - loss: 0.6844 - accuracy: 0.2333 - val_loss: 0.6988 - val_accuracy: 0.1940\n",
      "Epoch 12/50\n",
      "250/250 [==============================] - 1s 3ms/step - loss: 0.6848 - accuracy: 0.2317 - val_loss: 0.6990 - val_accuracy: 0.1925\n",
      "Epoch 13/50\n",
      "250/250 [==============================] - 1s 3ms/step - loss: 0.6827 - accuracy: 0.2340 - val_loss: 0.6987 - val_accuracy: 0.1965\n",
      "Epoch 14/50\n",
      "250/250 [==============================] - 1s 3ms/step - loss: 0.6827 - accuracy: 0.2368 - val_loss: 0.6987 - val_accuracy: 0.1980\n",
      "Epoch 15/50\n",
      "250/250 [==============================] - 1s 3ms/step - loss: 0.6811 - accuracy: 0.2370 - val_loss: 0.6985 - val_accuracy: 0.1970\n",
      "Epoch 16/50\n",
      "250/250 [==============================] - 1s 3ms/step - loss: 0.6793 - accuracy: 0.2421 - val_loss: 0.6987 - val_accuracy: 0.1975\n",
      "Epoch 17/50\n",
      "250/250 [==============================] - 1s 3ms/step - loss: 0.6795 - accuracy: 0.2395 - val_loss: 0.6983 - val_accuracy: 0.1990\n",
      "Epoch 18/50\n",
      "250/250 [==============================] - 1s 3ms/step - loss: 0.6781 - accuracy: 0.2403 - val_loss: 0.6990 - val_accuracy: 0.1955\n",
      "Epoch 19/50\n",
      "250/250 [==============================] - 1s 3ms/step - loss: 0.6776 - accuracy: 0.2450 - val_loss: 0.6993 - val_accuracy: 0.1940\n",
      "Epoch 20/50\n",
      "250/250 [==============================] - 1s 3ms/step - loss: 0.6781 - accuracy: 0.2396 - val_loss: 0.6995 - val_accuracy: 0.1945\n",
      "Epoch 21/50\n",
      "250/250 [==============================] - 1s 3ms/step - loss: 0.6764 - accuracy: 0.2479 - val_loss: 0.6995 - val_accuracy: 0.2000\n",
      "Epoch 22/50\n",
      "250/250 [==============================] - 1s 3ms/step - loss: 0.6760 - accuracy: 0.2440 - val_loss: 0.6990 - val_accuracy: 0.1970\n",
      "Epoch 23/50\n",
      "250/250 [==============================] - 1s 3ms/step - loss: 0.6758 - accuracy: 0.2442 - val_loss: 0.6994 - val_accuracy: 0.1970\n",
      "Epoch 24/50\n",
      "250/250 [==============================] - 1s 3ms/step - loss: 0.6744 - accuracy: 0.2500 - val_loss: 0.6991 - val_accuracy: 0.2015\n",
      "Epoch 25/50\n",
      "250/250 [==============================] - 1s 3ms/step - loss: 0.6742 - accuracy: 0.2528 - val_loss: 0.6990 - val_accuracy: 0.2025\n",
      "Epoch 26/50\n",
      "250/250 [==============================] - 1s 3ms/step - loss: 0.6756 - accuracy: 0.2503 - val_loss: 0.6999 - val_accuracy: 0.2025\n",
      "Epoch 27/50\n",
      "250/250 [==============================] - 1s 3ms/step - loss: 0.6737 - accuracy: 0.2520 - val_loss: 0.7002 - val_accuracy: 0.2035\n",
      "Epoch 28/50\n",
      "250/250 [==============================] - 1s 3ms/step - loss: 0.6723 - accuracy: 0.2559 - val_loss: 0.7003 - val_accuracy: 0.2040\n",
      "Epoch 29/50\n",
      "250/250 [==============================] - 1s 3ms/step - loss: 0.6738 - accuracy: 0.2481 - val_loss: 0.7003 - val_accuracy: 0.2040\n",
      "Epoch 30/50\n",
      "250/250 [==============================] - 1s 3ms/step - loss: 0.6726 - accuracy: 0.2541 - val_loss: 0.7004 - val_accuracy: 0.2030\n",
      "Epoch 31/50\n",
      "250/250 [==============================] - 1s 3ms/step - loss: 0.6715 - accuracy: 0.2573 - val_loss: 0.7008 - val_accuracy: 0.2035\n",
      "Epoch 32/50\n",
      "250/250 [==============================] - 1s 3ms/step - loss: 0.6717 - accuracy: 0.2526 - val_loss: 0.7012 - val_accuracy: 0.2020\n",
      "Epoch 33/50\n",
      "250/250 [==============================] - 1s 3ms/step - loss: 0.6701 - accuracy: 0.2584 - val_loss: 0.7013 - val_accuracy: 0.2025\n",
      "Epoch 34/50\n",
      "250/250 [==============================] - 1s 3ms/step - loss: 0.6700 - accuracy: 0.2546 - val_loss: 0.7010 - val_accuracy: 0.2040\n",
      "Epoch 35/50\n",
      "250/250 [==============================] - 1s 3ms/step - loss: 0.6718 - accuracy: 0.2595 - val_loss: 0.7013 - val_accuracy: 0.2050\n",
      "Epoch 36/50\n",
      "250/250 [==============================] - 1s 3ms/step - loss: 0.6700 - accuracy: 0.2570 - val_loss: 0.7012 - val_accuracy: 0.2060\n",
      "Epoch 37/50\n",
      "250/250 [==============================] - 1s 3ms/step - loss: 0.6691 - accuracy: 0.2570 - val_loss: 0.7013 - val_accuracy: 0.2015\n",
      "Epoch 38/50\n",
      "250/250 [==============================] - 1s 3ms/step - loss: 0.6704 - accuracy: 0.2571 - val_loss: 0.7020 - val_accuracy: 0.2005\n",
      "Epoch 39/50\n",
      "250/250 [==============================] - 1s 3ms/step - loss: 0.6699 - accuracy: 0.2548 - val_loss: 0.7020 - val_accuracy: 0.2015\n",
      "Epoch 40/50\n",
      "250/250 [==============================] - 1s 3ms/step - loss: 0.6694 - accuracy: 0.2560 - val_loss: 0.7023 - val_accuracy: 0.2005\n",
      "Epoch 41/50\n",
      "250/250 [==============================] - 1s 4ms/step - loss: 0.6682 - accuracy: 0.2612 - val_loss: 0.7023 - val_accuracy: 0.2005\n",
      "Epoch 42/50\n",
      "250/250 [==============================] - 1s 3ms/step - loss: 0.6701 - accuracy: 0.2581 - val_loss: 0.7027 - val_accuracy: 0.1955\n",
      "Epoch 43/50\n",
      "250/250 [==============================] - 1s 3ms/step - loss: 0.6667 - accuracy: 0.2611 - val_loss: 0.7028 - val_accuracy: 0.1980\n",
      "Epoch 44/50\n",
      "250/250 [==============================] - 1s 4ms/step - loss: 0.6670 - accuracy: 0.2614 - val_loss: 0.7031 - val_accuracy: 0.2030\n",
      "Epoch 45/50\n",
      "250/250 [==============================] - 1s 3ms/step - loss: 0.6685 - accuracy: 0.2550 - val_loss: 0.7028 - val_accuracy: 0.2020\n",
      "Epoch 46/50\n",
      "250/250 [==============================] - 1s 4ms/step - loss: 0.6667 - accuracy: 0.2592 - val_loss: 0.7030 - val_accuracy: 0.2005\n",
      "Epoch 47/50\n",
      "250/250 [==============================] - 1s 3ms/step - loss: 0.6675 - accuracy: 0.2609 - val_loss: 0.7039 - val_accuracy: 0.2045\n",
      "Epoch 48/50\n",
      "250/250 [==============================] - 1s 3ms/step - loss: 0.6669 - accuracy: 0.2605 - val_loss: 0.7046 - val_accuracy: 0.2020\n",
      "Epoch 49/50\n",
      "250/250 [==============================] - 1s 4ms/step - loss: 0.6689 - accuracy: 0.2571 - val_loss: 0.7045 - val_accuracy: 0.2035\n",
      "Epoch 50/50\n",
      "250/250 [==============================] - 1s 3ms/step - loss: 0.6669 - accuracy: 0.2594 - val_loss: 0.7049 - val_accuracy: 0.2015\n"
     ]
    }
   ],
   "source": [
    "history = model.fit(\n",
    "    x = x_train,\n",
    "    y = y_train,\n",
    "    epochs = 50,\n",
    "    validation_data = (x_test, y_test)\n",
    ")"
   ]
  },
  {
   "cell_type": "markdown",
   "metadata": {
    "id": "czip3luik9Jk"
   },
   "source": [
    "# Evaluasi Model"
   ]
  },
  {
   "cell_type": "code",
   "execution_count": 23,
   "metadata": {
    "colab": {
     "base_uri": "https://localhost:8080/"
    },
    "id": "ipI2DcfYk8c8",
    "outputId": "49e575f1-1984-4dac-a667-aa4c522be2f6"
   },
   "outputs": [
    {
     "name": "stdout",
     "output_type": "stream",
     "text": [
      "63/63 [==============================] - 0s 2ms/step - loss: 0.7049 - accuracy: 0.2015\n"
     ]
    },
    {
     "data": {
      "text/plain": [
       "[0.704879879951477, 0.20149999856948853]"
      ]
     },
     "execution_count": 23,
     "metadata": {},
     "output_type": "execute_result"
    }
   ],
   "source": [
    "model.evaluate(x=x_test, y=y_test)"
   ]
  },
  {
   "cell_type": "code",
   "execution_count": 24,
   "metadata": {
    "colab": {
     "base_uri": "https://localhost:8080/",
     "height": 295
    },
    "id": "rzwPRh8ZlDan",
    "outputId": "b8b9a555-c516-4dc9-9b73-7e801a6a437f"
   },
   "outputs": [
    {
     "data": {
      "image/png": "[encoded data removed]",
      "text/plain": [
       "<Figure size 432x288 with 1 Axes>"
      ]
     },
     "metadata": {
      "needs_background": "light"
     },
     "output_type": "display_data"
    }
   ],
   "source": [
    "import matplotlib.pyplot as plt\n",
    "\n",
    "plt.plot(history.history['accuracy'])\n",
    "plt.plot(history.history['val_accuracy'])\n",
    "plt.title('model_metrics')\n",
    "plt.ylabel('accuracy')\n",
    "plt.xlabel('epoch')\n",
    "plt.ylim(ymin=0, ymax=0.4)\n",
    "plt.legend(['train', 'test'], loc='center left')\n",
    "plt.show()"
   ]
  },
  {
   "cell_type": "markdown",
   "metadata": {
    "id": "JFBegpn4lHir"
   },
   "source": [
    "# Penerapan Model"
   ]
  },
  {
   "cell_type": "code",
   "execution_count": 25,
   "metadata": {
    "colab": {
     "base_uri": "https://localhost:8080/"
    },
    "id": "CdU-54iNlHOz",
    "outputId": "0bdb3da5-8da4-445c-b328-ffdce6f07633"
   },
   "outputs": [
    {
     "data": {
      "text/plain": [
       "Index(['id', 'Name', 'City', 'Ratings', 'Price', 'Addres', 'Coordinate',\n",
       "       'Description', 'Lat', 'Long', 'Images'],\n",
       "      dtype='object')"
      ]
     },
     "execution_count": 25,
     "metadata": {},
     "output_type": "execute_result"
    }
   ],
   "source": [
    "hotel.columns"
   ]
  },
  {
   "cell_type": "code",
   "execution_count": 32,
   "metadata": {
    "id": "lMfjsRSzlOHR"
   },
   "outputs": [],
   "source": [
    "place_df = hotel[['id', 'Name', 'City', 'Ratings', 'Price', 'Addres', 'Coordinate',\n",
    "       'Description', 'Lat', 'Long', 'Images']]\n",
    "place_df.columns = ['id', 'Name', 'City', 'Ratings', 'Price', 'Addres', 'Coordinate',\n",
    "       'Description', 'Lat', 'Long', 'Images']\n",
    "df = rating.copy()"
   ]
  },
  {
   "cell_type": "code",
   "execution_count": 33,
   "metadata": {
    "id": "c9w34r00lmN0"
   },
   "outputs": [],
   "source": [
    "# Mengambil sample user\n",
    "user_id = df.User_Id.sample(1).iloc[0]\n",
    "place_visited_by_user = df[df.User_Id == user_id]"
   ]
  },
  {
   "cell_type": "code",
   "execution_count": 35,
   "metadata": {
    "id": "KTkz9LKgloKK"
   },
   "outputs": [],
   "source": [
    "# Membuat data lokasi yang belum dikunjungi user\n",
    "place_not_visited = place_df[~place_df['id'].isin(place_visited_by_user.Place_Id.values)]['id'] \n",
    "place_not_visited = list(\n",
    "    set(place_not_visited).intersection(set(place_to_place_encoded.keys()))\n",
    ")\n",
    " \n",
    "place_not_visited = [[place_to_place_encoded.get(x)] for x in place_not_visited]\n",
    "user_encoder = user_to_user_encoded.get(user_id)\n",
    "user_place_array = np.hstack(\n",
    "    ([[user_encoder]] * len(place_not_visited), place_not_visited)\n",
    ")"
   ]
  },
  {
   "cell_type": "code",
   "execution_count": 37,
   "metadata": {
    "colab": {
     "base_uri": "https://localhost:8080/"
    },
    "id": "5VeNUi5QltQe",
    "outputId": "c0ed825d-a8d7-4ed8-e714-0bdb3cb47f87"
   },
   "outputs": [
    {
     "name": "stdout",
     "output_type": "stream",
     "text": [
      "2/2 [==============================] - 0s 4ms/step\n",
      "\n",
      "------------------------------------------------------------\n",
      "Top 5 place recommendation\n",
      "------------------------------------------------------------\n",
      "1 . Hadi Poetra Hotel \n",
      "     Jl. Raya Kuta No.323-378, Kuta, Kec. Kuta, Kabupaten Badung, Bali 80361 , Harga Tiket Masuk  187,789.00 , Rating Wisata  4.2 \n",
      "\n",
      "2 . Ramada Encore by Wyndham Bali Seminyak \n",
      "     Jl. Dewi Saraswati III, Seminyak, Kec. Kuta, Kota Denpasar, Bali 80361 , Harga Tiket Masuk  321,555.00 , Rating Wisata  4.3 \n",
      "\n",
      "3 . Aryaduta Bali \n",
      "     Jl. Kartika Plaza, Lingkungan Segara, Kec. Kuta, Kabupaten Badung, Bali 80361 , Harga Tiket Masuk  631,795.00 , Rating Wisata  4.6 \n",
      "\n",
      "4 . Hard Rock Hotel Bali \n",
      "     Jl. Pantai Kuta, Banjar Pande Mas, Kec. Kuta, Kabupaten Badung, Bali 80361 , Harga Tiket Masuk  1,689,076.00 , Rating Wisata  4.6 \n",
      "\n",
      "5 . Kutabex Beachfront Hotel \n",
      "     Jalan Pantai Kuta, Banjar Pande Mas, Kuta, Badung Regency, Bali 80361 , Harga Tiket Masuk  270,001.00 , Rating Wisata  4.2 \n",
      "\n",
      "=============================================\n"
     ]
    }
   ],
   "source": [
    "# Mengambil top 5 recommendation\n",
    "ratings = model.predict(user_place_array).flatten()\n",
    "top_ratings_indices = ratings.argsort()[-5:][::-1]\n",
    "recommended_place_ids = [\n",
    "    place_encoded_to_place.get(place_not_visited[x][0]) for x in top_ratings_indices\n",
    "]\n",
    " \n",
    "\n",
    "print('')\n",
    "print('----' * 15)\n",
    "print('Top 5 place recommendation')\n",
    "print('----' * 15)\n",
    " \n",
    "recommended_place = place_df[place_df['id'].isin(recommended_place_ids)]\n",
    "for row, i in zip(recommended_place.itertuples(), range(1,8)):\n",
    "    print(i,'.', row.Name, '\\n    ', row.Addres, ',', 'Harga Tiket Masuk ', row.Price, ',', 'Rating Wisata ', row.Ratings,'\\n')\n",
    "\n",
    "print('==='*15)"
   ]
  },
  {
   "cell_type": "markdown",
   "metadata": {
    "id": "AhUrnLEPmNEF"
   },
   "source": [
    "# Save Model"
   ]
  },
  {
   "cell_type": "code",
   "execution_count": 39,
   "metadata": {
    "colab": {
     "base_uri": "https://localhost:8080/"
    },
    "id": "X2CsLQlNkQox",
    "outputId": "3eec4612-0a09-4ac6-ff9a-d05b2a9b8e79"
   },
   "outputs": [
    {
     "name": "stdout",
     "output_type": "stream",
     "text": [
      "INFO:tensorflow:Assets written to: ram://1a1f17f2-80d5-497f-85ee-efab6c453710/assets\n"
     ]
    }
   ],
   "source": [
    "filename = '../../model/hotel_bali.pkl'\n",
    "pickle.dump(model, open(filename, 'wb'))"
   ]
  },
  {
   "cell_type": "code",
   "execution_count": 40,
   "metadata": {
    "colab": {
     "base_uri": "https://localhost:8080/"
    },
    "id": "j0Y2p2RTklYO",
    "outputId": "593b7d41-7ffd-4a50-a754-d521dc73f1ce"
   },
   "outputs": [
    {
     "name": "stdout",
     "output_type": "stream",
     "text": [
      "63/63 [==============================] - 0s 2ms/step - loss: 0.7049 - accuracy: 0.2015\n"
     ]
    }
   ],
   "source": [
    "loaded_model = pickle.load(open(filename, 'rb'))\n",
    "result = loaded_model.evaluate(x=x_test, y=y_test)"
   ]
  },
  {
   "cell_type": "code",
   "execution_count": null,
   "metadata": {},
   "outputs": [],
   "source": []
  }
 ],
 "metadata": {
  "colab": {
   "collapsed_sections": [],
   "name": "system_recomendation_hotel_bali.ipynb",
   "provenance": []
  },
  "kernelspec": {
   "display_name": "Python 3 (ipykernel)",
   "language": "python",
   "name": "python3"
  },
  "language_info": {
   "codemirror_mode": {
    "name": "ipython",
    "version": 3
   },
   "file_extension": ".py",
   "mimetype": "text/x-python",
   "name": "python",
   "nbconvert_exporter": "python",
   "pygments_lexer": "ipython3",
   "version": "3.8.10"
  }
 },
 "nbformat": 4,
 "nbformat_minor": 1
}
