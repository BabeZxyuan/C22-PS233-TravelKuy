{
 "cells": [
  {
   "cell_type": "markdown",
   "metadata": {
    "id": "H4dHySlIgs9p"
   },
   "source": [
    "# Import Package"
   ]
  },
  {
   "cell_type": "code",
   "execution_count": 1,
   "metadata": {
    "id": "UEw3gFdFgvR9"
   },
   "outputs": [
    {
     "name": "stderr",
     "output_type": "stream",
     "text": [
      "2022-06-09 21:03:50.599599: W tensorflow/stream_executor/platform/default/dso_loader.cc:64] Could not load dynamic library 'libcudart.so.11.0'; dlerror: libcudart.so.11.0: cannot open shared object file: No such file or directory\n",
      "2022-06-09 21:03:50.599632: I tensorflow/stream_executor/cuda/cudart_stub.cc:29] Ignore above cudart dlerror if you do not have a GPU set up on your machine.\n"
     ]
    }
   ],
   "source": [
    "import numpy as np\n",
    "import pandas as pd \n",
    "\n",
    "import tensorflow as tf\n",
    "from tensorflow import keras\n",
    "from tensorflow.keras import layers\n",
    "import pickle"
   ]
  },
  {
   "cell_type": "code",
   "execution_count": 2,
   "metadata": {
    "colab": {
     "base_uri": "https://localhost:8080/"
    },
    "id": "t4jpyklMTvVQ",
    "outputId": "a03f188e-3587-43c1-ff22-69cf853f7946"
   },
   "outputs": [
    {
     "name": "stdout",
     "output_type": "stream",
     "text": [
      "\n",
      "1.22.4,\n",
      "1.4.2,\n",
      "2.9.1\n"
     ]
    }
   ],
   "source": [
    "print(f'''\n",
    "{np.__version__},\n",
    "{pd.__version__},\n",
    "{tf.__version__}''')"
   ]
  },
  {
   "cell_type": "code",
   "execution_count": 3,
   "metadata": {
    "colab": {
     "base_uri": "https://localhost:8080/"
    },
    "id": "UU1lEoQYVBYt",
    "outputId": "f87de76f-4494-4dca-cd52-e28efa1b9401"
   },
   "outputs": [
    {
     "name": "stdout",
     "output_type": "stream",
     "text": [
      "Python 3.8.10\r\n"
     ]
    }
   ],
   "source": [
    "!python --version"
   ]
  },
  {
   "cell_type": "markdown",
   "metadata": {
    "id": "VVF4rN5cgzPr"
   },
   "source": [
    "# Import Dataset"
   ]
  },
  {
   "cell_type": "code",
   "execution_count": 4,
   "metadata": {
    "id": "doIruLZpgxrz"
   },
   "outputs": [],
   "source": [
    "rating = pd.read_csv('../../data/rating.csv')\n",
    "kuliner = pd.read_csv('../../data/kuliner.csv')\n",
    "user = pd.read_csv('../../data/user.csv')"
   ]
  },
  {
   "cell_type": "code",
   "execution_count": 5,
   "metadata": {
    "colab": {
     "base_uri": "https://localhost:8080/"
    },
    "id": "9aXx38a0hWeM",
    "outputId": "86030dc4-10be-4d06-ec69-6ce8d145cafb"
   },
   "outputs": [
    {
     "name": "stdout",
     "output_type": "stream",
     "text": [
      "rating : (10000, 3)\n",
      "kuliner : (81, 12)\n",
      "user : (300, 3)\n"
     ]
    }
   ],
   "source": [
    "# melihat ukuran data\n",
    "print(f'rating : {rating.shape}')\n",
    "print(f'kuliner : {kuliner.shape}')\n",
    "print(f'user : {user.shape}')"
   ]
  },
  {
   "cell_type": "markdown",
   "metadata": {
    "id": "To3P2Wgmjz88"
   },
   "source": [
    "# Persiapan Dataset"
   ]
  },
  {
   "cell_type": "code",
   "execution_count": 7,
   "metadata": {},
   "outputs": [
    {
     "data": {
      "text/html": [
       "<div>\n",
       "<style scoped>\n",
       "    .dataframe tbody tr th:only-of-type {\n",
       "        vertical-align: middle;\n",
       "    }\n",
       "\n",
       "    .dataframe tbody tr th {\n",
       "        vertical-align: top;\n",
       "    }\n",
       "\n",
       "    .dataframe thead th {\n",
       "        text-align: right;\n",
       "    }\n",
       "</style>\n",
       "<table border=\"1\" class=\"dataframe\">\n",
       "  <thead>\n",
       "    <tr style=\"text-align: right;\">\n",
       "      <th></th>\n",
       "      <th>Place_Id</th>\n",
       "      <th>Kuliner_Name</th>\n",
       "      <th>Description</th>\n",
       "      <th>Category</th>\n",
       "      <th>alamat</th>\n",
       "      <th>City</th>\n",
       "      <th>Rating</th>\n",
       "      <th>Coordinate</th>\n",
       "      <th>Lat</th>\n",
       "      <th>Long</th>\n",
       "      <th>Price</th>\n",
       "      <th>Images</th>\n",
       "    </tr>\n",
       "  </thead>\n",
       "  <tbody>\n",
       "    <tr>\n",
       "      <th>0</th>\n",
       "      <td>1</td>\n",
       "      <td>Kuliner Gudeg Pecel Pasar Beringharjo Bu Yamtini</td>\n",
       "      <td>Sarapan murah dan enak di jogja yang ada di da...</td>\n",
       "      <td>Makanan</td>\n",
       "      <td>Jl. Margo Mulyo Jl. Jend. Ahmad Yani, Ngupasan...</td>\n",
       "      <td>Yogyakarta</td>\n",
       "      <td>4.2</td>\n",
       "      <td>{'lat': -7.79871615565743, 'lng': 110.36495915...</td>\n",
       "      <td>-7.798.716.156</td>\n",
       "      <td>1.103.649.592</td>\n",
       "      <td>8000</td>\n",
       "      <td>https://i.ytimg.com/vi/s4uaKa0e_7o/mqdefault.jpg</td>\n",
       "    </tr>\n",
       "    <tr>\n",
       "      <th>1</th>\n",
       "      <td>2</td>\n",
       "      <td>Soto Sampah</td>\n",
       "      <td>Ada cerita tersendiri mengenai nama Soto Sampa...</td>\n",
       "      <td>Makanan</td>\n",
       "      <td>Jl. Kranggan No.2, Cokrodiningratan, Kec. Jeti...</td>\n",
       "      <td>Yogyakarta</td>\n",
       "      <td>4.3</td>\n",
       "      <td>{'lat': -7.78162635992033, 'lng': 110.36692378...</td>\n",
       "      <td>-778.162.636</td>\n",
       "      <td>1.103.669.238</td>\n",
       "      <td>6000</td>\n",
       "      <td>https://cdn.krjogja.com/wp-content/uploads/201...</td>\n",
       "    </tr>\n",
       "    <tr>\n",
       "      <th>2</th>\n",
       "      <td>3</td>\n",
       "      <td>Kuliner Lesehan Malioboro</td>\n",
       "      <td>Lesehan yang satu ini sih cocok buat para pemb...</td>\n",
       "      <td>Makanan</td>\n",
       "      <td>Jl. Malioboro No.143, Sosromenduran, Gedong Te...</td>\n",
       "      <td>Yogyakarta</td>\n",
       "      <td>4.3</td>\n",
       "      <td>{'lat': -7.79180460164656, 'lng': 110.36583623...</td>\n",
       "      <td>-7.791.804.602</td>\n",
       "      <td>1.103.658.362</td>\n",
       "      <td>20000</td>\n",
       "      <td>https://img.qraved.co/v2/image/data/main-photo...</td>\n",
       "    </tr>\n",
       "    <tr>\n",
       "      <th>3</th>\n",
       "      <td>4</td>\n",
       "      <td>Kuliner jogja Pendopo Sop</td>\n",
       "      <td>Pendopo Sop merupakan salah satu tempat wisata...</td>\n",
       "      <td>Makanan</td>\n",
       "      <td>Ngupasan, Kec. Gondomanan, Kota Yogyakarta, Da...</td>\n",
       "      <td>Yogyakarta</td>\n",
       "      <td>4.5</td>\n",
       "      <td>{'lat': -7.80320108368307, 'lng':110.363208002...</td>\n",
       "      <td>-7.803.201.084</td>\n",
       "      <td>110.363.208</td>\n",
       "      <td>30000</td>\n",
       "      <td>https://ik.imagekit.io/tvlk/cul-asset/guys1L+Y...</td>\n",
       "    </tr>\n",
       "    <tr>\n",
       "      <th>4</th>\n",
       "      <td>6</td>\n",
       "      <td>Pusat Kuliner Leyeh Leyeh</td>\n",
       "      <td>Leyeh Leyeh menawarkan hidangan yang beragam, ...</td>\n",
       "      <td>Makanan</td>\n",
       "      <td>Jl. P. Mangkubumi No.10, Cokrodiningratan, Kec...</td>\n",
       "      <td>Yogyakarta</td>\n",
       "      <td>4.5</td>\n",
       "      <td>{'lat': -7.78213066768978, 'lng': 110.36730232...</td>\n",
       "      <td>-7.782.130.668</td>\n",
       "      <td>1.103.673.023</td>\n",
       "      <td>50000</td>\n",
       "      <td>https://t-2.tstatic.net/jogja/foto/bank/images...</td>\n",
       "    </tr>\n",
       "  </tbody>\n",
       "</table>\n",
       "</div>"
      ],
      "text/plain": [
       "   Place_Id                                      Kuliner_Name  \\\n",
       "0         1  Kuliner Gudeg Pecel Pasar Beringharjo Bu Yamtini   \n",
       "1         2                                       Soto Sampah   \n",
       "2         3                         Kuliner Lesehan Malioboro   \n",
       "3         4                         Kuliner jogja Pendopo Sop   \n",
       "4         6                         Pusat Kuliner Leyeh Leyeh   \n",
       "\n",
       "                                         Description Category  \\\n",
       "0  Sarapan murah dan enak di jogja yang ada di da...  Makanan   \n",
       "1  Ada cerita tersendiri mengenai nama Soto Sampa...  Makanan   \n",
       "2  Lesehan yang satu ini sih cocok buat para pemb...  Makanan   \n",
       "3  Pendopo Sop merupakan salah satu tempat wisata...  Makanan   \n",
       "4  Leyeh Leyeh menawarkan hidangan yang beragam, ...  Makanan   \n",
       "\n",
       "                                              alamat        City  Rating  \\\n",
       "0  Jl. Margo Mulyo Jl. Jend. Ahmad Yani, Ngupasan...  Yogyakarta     4.2   \n",
       "1  Jl. Kranggan No.2, Cokrodiningratan, Kec. Jeti...  Yogyakarta     4.3   \n",
       "2  Jl. Malioboro No.143, Sosromenduran, Gedong Te...  Yogyakarta     4.3   \n",
       "3  Ngupasan, Kec. Gondomanan, Kota Yogyakarta, Da...  Yogyakarta     4.5   \n",
       "4  Jl. P. Mangkubumi No.10, Cokrodiningratan, Kec...  Yogyakarta     4.5   \n",
       "\n",
       "                                          Coordinate             Lat  \\\n",
       "0  {'lat': -7.79871615565743, 'lng': 110.36495915...  -7.798.716.156   \n",
       "1  {'lat': -7.78162635992033, 'lng': 110.36692378...    -778.162.636   \n",
       "2  {'lat': -7.79180460164656, 'lng': 110.36583623...  -7.791.804.602   \n",
       "3  {'lat': -7.80320108368307, 'lng':110.363208002...  -7.803.201.084   \n",
       "4  {'lat': -7.78213066768978, 'lng': 110.36730232...  -7.782.130.668   \n",
       "\n",
       "            Long  Price                                             Images  \n",
       "0  1.103.649.592   8000   https://i.ytimg.com/vi/s4uaKa0e_7o/mqdefault.jpg  \n",
       "1  1.103.669.238   6000  https://cdn.krjogja.com/wp-content/uploads/201...  \n",
       "2  1.103.658.362  20000  https://img.qraved.co/v2/image/data/main-photo...  \n",
       "3    110.363.208  30000  https://ik.imagekit.io/tvlk/cul-asset/guys1L+Y...  \n",
       "4  1.103.673.023  50000  https://t-2.tstatic.net/jogja/foto/bank/images...  "
      ]
     },
     "execution_count": 7,
     "metadata": {},
     "output_type": "execute_result"
    }
   ],
   "source": [
    "# Merubah data agar hanya dari Kota Yogyakarta\n",
    "\n",
    "kuliner = kuliner[kuliner['City']=='Yogyakarta']\n",
    "kuliner.head()\n"
   ]
  },
  {
   "cell_type": "code",
   "execution_count": 8,
   "metadata": {
    "colab": {
     "base_uri": "https://localhost:8080/",
     "height": 206
    },
    "id": "UXfR_jLyj11O",
    "outputId": "c128043b-9f89-4fd1-fddd-04464b02742f"
   },
   "outputs": [
    {
     "data": {
      "text/html": [
       "<div>\n",
       "<style scoped>\n",
       "    .dataframe tbody tr th:only-of-type {\n",
       "        vertical-align: middle;\n",
       "    }\n",
       "\n",
       "    .dataframe tbody tr th {\n",
       "        vertical-align: top;\n",
       "    }\n",
       "\n",
       "    .dataframe thead th {\n",
       "        text-align: right;\n",
       "    }\n",
       "</style>\n",
       "<table border=\"1\" class=\"dataframe\">\n",
       "  <thead>\n",
       "    <tr style=\"text-align: right;\">\n",
       "      <th></th>\n",
       "      <th>User_Id</th>\n",
       "      <th>Place_Id</th>\n",
       "      <th>Place_Ratings</th>\n",
       "    </tr>\n",
       "  </thead>\n",
       "  <tbody>\n",
       "    <tr>\n",
       "      <th>0</th>\n",
       "      <td>1</td>\n",
       "      <td>179</td>\n",
       "      <td>3</td>\n",
       "    </tr>\n",
       "    <tr>\n",
       "      <th>1</th>\n",
       "      <td>1</td>\n",
       "      <td>344</td>\n",
       "      <td>2</td>\n",
       "    </tr>\n",
       "    <tr>\n",
       "      <th>2</th>\n",
       "      <td>1</td>\n",
       "      <td>5</td>\n",
       "      <td>5</td>\n",
       "    </tr>\n",
       "    <tr>\n",
       "      <th>3</th>\n",
       "      <td>1</td>\n",
       "      <td>373</td>\n",
       "      <td>3</td>\n",
       "    </tr>\n",
       "    <tr>\n",
       "      <th>4</th>\n",
       "      <td>1</td>\n",
       "      <td>101</td>\n",
       "      <td>4</td>\n",
       "    </tr>\n",
       "  </tbody>\n",
       "</table>\n",
       "</div>"
      ],
      "text/plain": [
       "   User_Id  Place_Id  Place_Ratings\n",
       "0        1       179              3\n",
       "1        1       344              2\n",
       "2        1         5              5\n",
       "3        1       373              3\n",
       "4        1       101              4"
      ]
     },
     "execution_count": 8,
     "metadata": {},
     "output_type": "execute_result"
    }
   ],
   "source": [
    "rating.head()"
   ]
  },
  {
   "cell_type": "code",
   "execution_count": 9,
   "metadata": {
    "id": "faQmImEHj7lr"
   },
   "outputs": [],
   "source": [
    "df = rating.copy()"
   ]
  },
  {
   "cell_type": "code",
   "execution_count": 10,
   "metadata": {
    "id": "Y2A8gEUfkBO1"
   },
   "outputs": [],
   "source": [
    "#ENCODING\n",
    "def dict_encoder(col, data=df):\n",
    "  unique_val = data[col].unique().tolist()\n",
    "  val_to_val_encoded = {x: i for i, x in enumerate(unique_val)}\n",
    "  val_encoded_to_val = {i: x for i, x in enumerate(unique_val)}\n",
    "  return val_to_val_encoded, val_encoded_to_val"
   ]
  },
  {
   "cell_type": "code",
   "execution_count": 11,
   "metadata": {
    "id": "am59S7y-kEc7"
   },
   "outputs": [],
   "source": [
    "user_to_user_encoded, user_encoded_to_user = dict_encoder('User_Id')\n",
    "df['user'] = df['User_Id'].map(user_to_user_encoded)"
   ]
  },
  {
   "cell_type": "code",
   "execution_count": 12,
   "metadata": {
    "id": "eQjVlgL7kJR1"
   },
   "outputs": [],
   "source": [
    "# Encoding Place_Id\n",
    "place_to_place_encoded, place_encoded_to_place = dict_encoder('Place_Id')\n",
    "\n",
    "# Mapping Place_Id ke dataframe place\n",
    "df['place'] = df['Place_Id'].map(place_to_place_encoded)"
   ]
  },
  {
   "cell_type": "code",
   "execution_count": 13,
   "metadata": {
    "id": "WnHUTDAHkLQt"
   },
   "outputs": [],
   "source": [
    "# Mendapatkan jumlah user dan hotel\n",
    "num_users, num_place = len(user_to_user_encoded), len(place_to_place_encoded)\n",
    "# mengubah nilai rating menjadi nilai float\n",
    "df['Place_Ratings'] = df['Place_Ratings'].values.astype(np.float32)\n",
    "# Mendapatkan nilai minimum dan maksimum rating\n",
    "min_rating, max_rating = min(df['Place_Ratings']), max(df['Place_Ratings'])"
   ]
  },
  {
   "cell_type": "code",
   "execution_count": 14,
   "metadata": {
    "colab": {
     "base_uri": "https://localhost:8080/"
    },
    "id": "0GoFMjOikPeh",
    "outputId": "2e6d8ae1-9f31-493a-fd54-d80acd41bb34"
   },
   "outputs": [
    {
     "name": "stdout",
     "output_type": "stream",
     "text": [
      "Jumlah user : 300\n",
      "Jumlah kuliner : 437\n",
      "Rating minimum : 1.0\n",
      "Rating maximum : 5.0\n"
     ]
    }
   ],
   "source": [
    "print(f'Jumlah user : {num_users}')\n",
    "print(f'Jumlah kuliner : {num_place}')\n",
    "print(f'Rating minimum : {min_rating}')\n",
    "print(f'Rating maximum : {max_rating}')"
   ]
  },
  {
   "cell_type": "code",
   "execution_count": 15,
   "metadata": {
    "colab": {
     "base_uri": "https://localhost:8080/",
     "height": 206
    },
    "id": "LEh4cl9qkVCs",
    "outputId": "ab83e5a3-8094-4710-af5d-894c5469a6ba"
   },
   "outputs": [
    {
     "data": {
      "text/html": [
       "<div>\n",
       "<style scoped>\n",
       "    .dataframe tbody tr th:only-of-type {\n",
       "        vertical-align: middle;\n",
       "    }\n",
       "\n",
       "    .dataframe tbody tr th {\n",
       "        vertical-align: top;\n",
       "    }\n",
       "\n",
       "    .dataframe thead th {\n",
       "        text-align: right;\n",
       "    }\n",
       "</style>\n",
       "<table border=\"1\" class=\"dataframe\">\n",
       "  <thead>\n",
       "    <tr style=\"text-align: right;\">\n",
       "      <th></th>\n",
       "      <th>User_Id</th>\n",
       "      <th>Place_Id</th>\n",
       "      <th>Place_Ratings</th>\n",
       "      <th>user</th>\n",
       "      <th>place</th>\n",
       "    </tr>\n",
       "  </thead>\n",
       "  <tbody>\n",
       "    <tr>\n",
       "      <th>6252</th>\n",
       "      <td>188</td>\n",
       "      <td>207</td>\n",
       "      <td>3.0</td>\n",
       "      <td>187</td>\n",
       "      <td>262</td>\n",
       "    </tr>\n",
       "    <tr>\n",
       "      <th>4684</th>\n",
       "      <td>142</td>\n",
       "      <td>268</td>\n",
       "      <td>2.0</td>\n",
       "      <td>141</td>\n",
       "      <td>83</td>\n",
       "    </tr>\n",
       "    <tr>\n",
       "      <th>1731</th>\n",
       "      <td>54</td>\n",
       "      <td>103</td>\n",
       "      <td>3.0</td>\n",
       "      <td>53</td>\n",
       "      <td>10</td>\n",
       "    </tr>\n",
       "    <tr>\n",
       "      <th>4742</th>\n",
       "      <td>144</td>\n",
       "      <td>119</td>\n",
       "      <td>3.0</td>\n",
       "      <td>143</td>\n",
       "      <td>141</td>\n",
       "    </tr>\n",
       "    <tr>\n",
       "      <th>4521</th>\n",
       "      <td>138</td>\n",
       "      <td>288</td>\n",
       "      <td>5.0</td>\n",
       "      <td>137</td>\n",
       "      <td>283</td>\n",
       "    </tr>\n",
       "  </tbody>\n",
       "</table>\n",
       "</div>"
      ],
      "text/plain": [
       "      User_Id  Place_Id  Place_Ratings  user  place\n",
       "6252      188       207            3.0   187    262\n",
       "4684      142       268            2.0   141     83\n",
       "1731       54       103            3.0    53     10\n",
       "4742      144       119            3.0   143    141\n",
       "4521      138       288            5.0   137    283"
      ]
     },
     "execution_count": 15,
     "metadata": {},
     "output_type": "execute_result"
    }
   ],
   "source": [
    "# Mengacak dataset\n",
    "df = df.sample(frac=1, random_state=42)\n",
    "df.head()"
   ]
  },
  {
   "cell_type": "markdown",
   "metadata": {
    "id": "qa_3eNLukb7w"
   },
   "source": [
    "# Splitting Dataset"
   ]
  },
  {
   "cell_type": "code",
   "execution_count": 16,
   "metadata": {
    "colab": {
     "base_uri": "https://localhost:8080/"
    },
    "id": "HaAomUqQkd49",
    "outputId": "2ed00f76-efd9-4a55-e7c0-b134c406efc5"
   },
   "outputs": [
    {
     "name": "stdout",
     "output_type": "stream",
     "text": [
      "x_train : (8000, 2)\n",
      "x_test : (2000, 2)\n",
      "y_train : (8000,)\n",
      "y_test : (2000,)\n"
     ]
    }
   ],
   "source": [
    "# Mambuat Variable x\n",
    "x = df[['user', 'place']].values\n",
    "# membuat Variable y\n",
    "y = df['Place_Ratings'].apply(lambda x: (x-min_rating)/(max_rating-min_rating)).values\n",
    "\n",
    "# split dataset\n",
    "indices = int(0.8*df.shape[0])\n",
    "x_train, x_test, y_train, y_test = (x[:indices],\n",
    "                                    x[indices:],\n",
    "                                    y[:indices],\n",
    "                                    y[indices:]\n",
    "                                    )\n",
    "print(f'x_train : {x_train.shape}')\n",
    "print(f'x_test : {x_test.shape}')\n",
    "print(f'y_train : {y_train.shape}')\n",
    "print(f'y_test : {y_test.shape}')"
   ]
  },
  {
   "cell_type": "code",
   "execution_count": 17,
   "metadata": {
    "id": "E2K4DOGpkivb"
   },
   "outputs": [],
   "source": [
    "class Recommended(keras.Model):\n",
    "  def __init__(self,num_users, num_places, embedding_size, **kwargs):\n",
    "    super(Recommended, self).__init__(**kwargs)\n",
    "    self.num_users = num_users\n",
    "    self.num_places = num_places\n",
    "    self.embedding_size = embedding_size\n",
    "    self.user_embedding = layers.Embedding(num_users,\n",
    "                                           embedding_size,\n",
    "                                           embeddings_initializer = 'he_normal',\n",
    "                                           embeddings_regularizer = keras.regularizers.l2(1e-6)\n",
    "    )\n",
    "    self.user_bias = layers.Embedding(num_users,1)\n",
    "    self.places_embedding = layers.Embedding(num_places,\n",
    "                                             embedding_size,\n",
    "                                             embeddings_initializer='he_normal',\n",
    "                                             embeddings_regularizer= keras.regularizers.l2(1e-6)\n",
    "                                             )\n",
    "    self.places_bias = layers.Embedding(num_places,1)\n",
    "\n",
    "  def call(self, inputs):\n",
    "    user_vec = self.user_embedding(inputs[:,0])\n",
    "    user_bias = self.user_bias(inputs[:,0])\n",
    "    places_vec = self.places_embedding(inputs[:,1])\n",
    "    places_bias = self.places_bias(inputs[:,1])\n",
    "\n",
    "    dot_user_places = tf.tensordot(user_vec, places_vec, 2)\n",
    "\n",
    "    x = dot_user_places + user_bias + places_bias\n",
    "\n",
    "    return tf.nn.sigmoid(x)\n"
   ]
  },
  {
   "cell_type": "code",
   "execution_count": 18,
   "metadata": {
    "id": "JiXUdNx6kmRB"
   },
   "outputs": [
    {
     "name": "stderr",
     "output_type": "stream",
     "text": [
      "2022-06-09 21:04:18.610909: W tensorflow/stream_executor/platform/default/dso_loader.cc:64] Could not load dynamic library 'libcuda.so.1'; dlerror: libcuda.so.1: cannot open shared object file: No such file or directory\n",
      "2022-06-09 21:04:18.610954: W tensorflow/stream_executor/cuda/cuda_driver.cc:269] failed call to cuInit: UNKNOWN ERROR (303)\n",
      "2022-06-09 21:04:18.610988: I tensorflow/stream_executor/cuda/cuda_diagnostics.cc:156] kernel driver does not appear to be running on this host (wan): /proc/driver/nvidia/version does not exist\n"
     ]
    }
   ],
   "source": [
    "model = Recommended(num_users, num_place, 50)\n",
    "\n",
    "model.compile(loss = keras.losses.BinaryCrossentropy(),\n",
    "              optimizer= keras.optimizers.Adam(learning_rate=0.0004),\n",
    "              metrics=[keras.metrics.RootMeanSquaredError()]\n",
    "              )"
   ]
  },
  {
   "cell_type": "markdown",
   "metadata": {
    "id": "nRUMiWeVko_k"
   },
   "source": [
    "# training Model"
   ]
  },
  {
   "cell_type": "code",
   "execution_count": 19,
   "metadata": {
    "colab": {
     "base_uri": "https://localhost:8080/"
    },
    "id": "xROri4O9koRP",
    "outputId": "c5c2114e-44d8-43f0-92bf-b24d3388d132"
   },
   "outputs": [
    {
     "name": "stdout",
     "output_type": "stream",
     "text": [
      "Epoch 1/100\n",
      "250/250 [==============================] - 2s 4ms/step - loss: 0.7005 - root_mean_squared_error: 0.3505 - val_loss: 0.7005 - val_root_mean_squared_error: 0.3502\n",
      "Epoch 2/100\n",
      "250/250 [==============================] - 1s 3ms/step - loss: 0.6976 - root_mean_squared_error: 0.3485 - val_loss: 0.6998 - val_root_mean_squared_error: 0.3497\n",
      "Epoch 3/100\n",
      "250/250 [==============================] - 1s 3ms/step - loss: 0.6983 - root_mean_squared_error: 0.3489 - val_loss: 0.6995 - val_root_mean_squared_error: 0.3495\n",
      "Epoch 4/100\n",
      "250/250 [==============================] - 1s 3ms/step - loss: 0.6929 - root_mean_squared_error: 0.3451 - val_loss: 0.6997 - val_root_mean_squared_error: 0.3496\n",
      "Epoch 5/100\n",
      "250/250 [==============================] - 1s 3ms/step - loss: 0.6927 - root_mean_squared_error: 0.3450 - val_loss: 0.6998 - val_root_mean_squared_error: 0.3497\n",
      "Epoch 6/100\n",
      "250/250 [==============================] - 1s 3ms/step - loss: 0.6925 - root_mean_squared_error: 0.3448 - val_loss: 0.6993 - val_root_mean_squared_error: 0.3493\n",
      "Epoch 7/100\n",
      "250/250 [==============================] - 1s 3ms/step - loss: 0.6920 - root_mean_squared_error: 0.3445 - val_loss: 0.6991 - val_root_mean_squared_error: 0.3492\n",
      "Epoch 8/100\n",
      "250/250 [==============================] - 1s 3ms/step - loss: 0.6910 - root_mean_squared_error: 0.3437 - val_loss: 0.6988 - val_root_mean_squared_error: 0.3490\n",
      "Epoch 9/100\n",
      "250/250 [==============================] - 1s 3ms/step - loss: 0.6873 - root_mean_squared_error: 0.3411 - val_loss: 0.6986 - val_root_mean_squared_error: 0.3489\n",
      "Epoch 10/100\n",
      "250/250 [==============================] - 1s 4ms/step - loss: 0.6867 - root_mean_squared_error: 0.3406 - val_loss: 0.6989 - val_root_mean_squared_error: 0.3490\n",
      "Epoch 11/100\n",
      "250/250 [==============================] - 1s 3ms/step - loss: 0.6855 - root_mean_squared_error: 0.3398 - val_loss: 0.6990 - val_root_mean_squared_error: 0.3491\n",
      "Epoch 12/100\n",
      "250/250 [==============================] - 1s 3ms/step - loss: 0.6843 - root_mean_squared_error: 0.3389 - val_loss: 0.6992 - val_root_mean_squared_error: 0.3492\n",
      "Epoch 13/100\n",
      "250/250 [==============================] - 1s 3ms/step - loss: 0.6847 - root_mean_squared_error: 0.3392 - val_loss: 0.6994 - val_root_mean_squared_error: 0.3494\n",
      "Epoch 14/100\n",
      "250/250 [==============================] - 1s 3ms/step - loss: 0.6827 - root_mean_squared_error: 0.3377 - val_loss: 0.6999 - val_root_mean_squared_error: 0.3497\n",
      "Epoch 15/100\n",
      "250/250 [==============================] - 1s 3ms/step - loss: 0.6840 - root_mean_squared_error: 0.3387 - val_loss: 0.6998 - val_root_mean_squared_error: 0.3496\n",
      "Epoch 16/100\n",
      "250/250 [==============================] - 1s 3ms/step - loss: 0.6823 - root_mean_squared_error: 0.3374 - val_loss: 0.6997 - val_root_mean_squared_error: 0.3496\n",
      "Epoch 17/100\n",
      "250/250 [==============================] - 1s 3ms/step - loss: 0.6817 - root_mean_squared_error: 0.3370 - val_loss: 0.6998 - val_root_mean_squared_error: 0.3496\n",
      "Epoch 18/100\n",
      "250/250 [==============================] - 1s 3ms/step - loss: 0.6800 - root_mean_squared_error: 0.3358 - val_loss: 0.6999 - val_root_mean_squared_error: 0.3497\n",
      "Epoch 19/100\n",
      "250/250 [==============================] - 1s 3ms/step - loss: 0.6792 - root_mean_squared_error: 0.3352 - val_loss: 0.6997 - val_root_mean_squared_error: 0.3496\n",
      "Epoch 20/100\n",
      "250/250 [==============================] - 1s 3ms/step - loss: 0.6800 - root_mean_squared_error: 0.3358 - val_loss: 0.6998 - val_root_mean_squared_error: 0.3496\n",
      "Epoch 21/100\n",
      "250/250 [==============================] - 1s 3ms/step - loss: 0.6787 - root_mean_squared_error: 0.3349 - val_loss: 0.7001 - val_root_mean_squared_error: 0.3499\n",
      "Epoch 22/100\n",
      "250/250 [==============================] - 1s 3ms/step - loss: 0.6777 - root_mean_squared_error: 0.3341 - val_loss: 0.6999 - val_root_mean_squared_error: 0.3497\n",
      "Epoch 23/100\n",
      "250/250 [==============================] - 1s 3ms/step - loss: 0.6765 - root_mean_squared_error: 0.3332 - val_loss: 0.7000 - val_root_mean_squared_error: 0.3498\n",
      "Epoch 24/100\n",
      "250/250 [==============================] - 1s 3ms/step - loss: 0.6776 - root_mean_squared_error: 0.3340 - val_loss: 0.7001 - val_root_mean_squared_error: 0.3498\n",
      "Epoch 25/100\n",
      "250/250 [==============================] - 1s 3ms/step - loss: 0.6764 - root_mean_squared_error: 0.3331 - val_loss: 0.7003 - val_root_mean_squared_error: 0.3500\n",
      "Epoch 26/100\n",
      "250/250 [==============================] - 1s 4ms/step - loss: 0.6752 - root_mean_squared_error: 0.3323 - val_loss: 0.7003 - val_root_mean_squared_error: 0.3500\n",
      "Epoch 27/100\n",
      "250/250 [==============================] - 1s 3ms/step - loss: 0.6747 - root_mean_squared_error: 0.3319 - val_loss: 0.7003 - val_root_mean_squared_error: 0.3499\n",
      "Epoch 28/100\n",
      "250/250 [==============================] - 1s 3ms/step - loss: 0.6754 - root_mean_squared_error: 0.3324 - val_loss: 0.7004 - val_root_mean_squared_error: 0.3500\n",
      "Epoch 29/100\n",
      "250/250 [==============================] - 1s 3ms/step - loss: 0.6743 - root_mean_squared_error: 0.3316 - val_loss: 0.7004 - val_root_mean_squared_error: 0.3500\n",
      "Epoch 30/100\n",
      "250/250 [==============================] - 1s 3ms/step - loss: 0.6724 - root_mean_squared_error: 0.3302 - val_loss: 0.7003 - val_root_mean_squared_error: 0.3499\n",
      "Epoch 31/100\n",
      "250/250 [==============================] - 1s 3ms/step - loss: 0.6731 - root_mean_squared_error: 0.3307 - val_loss: 0.7006 - val_root_mean_squared_error: 0.3502\n",
      "Epoch 32/100\n",
      "250/250 [==============================] - 1s 3ms/step - loss: 0.6731 - root_mean_squared_error: 0.3307 - val_loss: 0.7002 - val_root_mean_squared_error: 0.3499\n",
      "Epoch 33/100\n",
      "250/250 [==============================] - 1s 3ms/step - loss: 0.6726 - root_mean_squared_error: 0.3303 - val_loss: 0.7008 - val_root_mean_squared_error: 0.3502\n",
      "Epoch 34/100\n",
      "250/250 [==============================] - 1s 3ms/step - loss: 0.6723 - root_mean_squared_error: 0.3302 - val_loss: 0.7007 - val_root_mean_squared_error: 0.3502\n",
      "Epoch 35/100\n",
      "250/250 [==============================] - 1s 3ms/step - loss: 0.6716 - root_mean_squared_error: 0.3296 - val_loss: 0.7009 - val_root_mean_squared_error: 0.3503\n",
      "Epoch 36/100\n",
      "250/250 [==============================] - 1s 3ms/step - loss: 0.6728 - root_mean_squared_error: 0.3305 - val_loss: 0.7014 - val_root_mean_squared_error: 0.3506\n",
      "Epoch 37/100\n",
      "250/250 [==============================] - 1s 4ms/step - loss: 0.6716 - root_mean_squared_error: 0.3297 - val_loss: 0.7014 - val_root_mean_squared_error: 0.3506\n",
      "Epoch 38/100\n",
      "250/250 [==============================] - 1s 3ms/step - loss: 0.6714 - root_mean_squared_error: 0.3295 - val_loss: 0.7012 - val_root_mean_squared_error: 0.3505\n",
      "Epoch 39/100\n",
      "250/250 [==============================] - 1s 3ms/step - loss: 0.6687 - root_mean_squared_error: 0.3275 - val_loss: 0.7016 - val_root_mean_squared_error: 0.3508\n",
      "Epoch 40/100\n",
      "250/250 [==============================] - 1s 3ms/step - loss: 0.6706 - root_mean_squared_error: 0.3289 - val_loss: 0.7015 - val_root_mean_squared_error: 0.3507\n",
      "Epoch 41/100\n",
      "250/250 [==============================] - 1s 3ms/step - loss: 0.6722 - root_mean_squared_error: 0.3301 - val_loss: 0.7017 - val_root_mean_squared_error: 0.3508\n",
      "Epoch 42/100\n",
      "250/250 [==============================] - 1s 4ms/step - loss: 0.6705 - root_mean_squared_error: 0.3289 - val_loss: 0.7019 - val_root_mean_squared_error: 0.3509\n",
      "Epoch 43/100\n",
      "250/250 [==============================] - 1s 3ms/step - loss: 0.6697 - root_mean_squared_error: 0.3283 - val_loss: 0.7019 - val_root_mean_squared_error: 0.3509\n",
      "Epoch 44/100\n",
      "250/250 [==============================] - 1s 4ms/step - loss: 0.6683 - root_mean_squared_error: 0.3272 - val_loss: 0.7016 - val_root_mean_squared_error: 0.3507\n",
      "Epoch 45/100\n",
      "250/250 [==============================] - 1s 3ms/step - loss: 0.6686 - root_mean_squared_error: 0.3275 - val_loss: 0.7019 - val_root_mean_squared_error: 0.3509\n",
      "Epoch 46/100\n",
      "250/250 [==============================] - 1s 3ms/step - loss: 0.6683 - root_mean_squared_error: 0.3272 - val_loss: 0.7018 - val_root_mean_squared_error: 0.3508\n",
      "Epoch 47/100\n",
      "250/250 [==============================] - 1s 3ms/step - loss: 0.6691 - root_mean_squared_error: 0.3278 - val_loss: 0.7016 - val_root_mean_squared_error: 0.3507\n",
      "Epoch 48/100\n"
     ]
    },
    {
     "name": "stdout",
     "output_type": "stream",
     "text": [
      "250/250 [==============================] - 1s 3ms/step - loss: 0.6692 - root_mean_squared_error: 0.3279 - val_loss: 0.7015 - val_root_mean_squared_error: 0.3506\n",
      "Epoch 49/100\n",
      "250/250 [==============================] - 1s 3ms/step - loss: 0.6674 - root_mean_squared_error: 0.3266 - val_loss: 0.7015 - val_root_mean_squared_error: 0.3506\n",
      "Epoch 50/100\n",
      "250/250 [==============================] - 1s 3ms/step - loss: 0.6681 - root_mean_squared_error: 0.3270 - val_loss: 0.7013 - val_root_mean_squared_error: 0.3505\n",
      "Epoch 51/100\n",
      "250/250 [==============================] - 1s 3ms/step - loss: 0.6676 - root_mean_squared_error: 0.3268 - val_loss: 0.7016 - val_root_mean_squared_error: 0.3507\n",
      "Epoch 52/100\n",
      "250/250 [==============================] - 1s 3ms/step - loss: 0.6680 - root_mean_squared_error: 0.3271 - val_loss: 0.7012 - val_root_mean_squared_error: 0.3504\n",
      "Epoch 53/100\n",
      "250/250 [==============================] - 1s 3ms/step - loss: 0.6677 - root_mean_squared_error: 0.3268 - val_loss: 0.7015 - val_root_mean_squared_error: 0.3506\n",
      "Epoch 54/100\n",
      "250/250 [==============================] - 1s 3ms/step - loss: 0.6659 - root_mean_squared_error: 0.3255 - val_loss: 0.7017 - val_root_mean_squared_error: 0.3507\n",
      "Epoch 55/100\n",
      "250/250 [==============================] - 1s 3ms/step - loss: 0.6671 - root_mean_squared_error: 0.3264 - val_loss: 0.7018 - val_root_mean_squared_error: 0.3508\n",
      "Epoch 56/100\n",
      "250/250 [==============================] - 1s 3ms/step - loss: 0.6673 - root_mean_squared_error: 0.3265 - val_loss: 0.7021 - val_root_mean_squared_error: 0.3510\n",
      "Epoch 57/100\n",
      "250/250 [==============================] - 1s 3ms/step - loss: 0.6665 - root_mean_squared_error: 0.3260 - val_loss: 0.7020 - val_root_mean_squared_error: 0.3509\n",
      "Epoch 58/100\n",
      "250/250 [==============================] - 1s 5ms/step - loss: 0.6662 - root_mean_squared_error: 0.3257 - val_loss: 0.7027 - val_root_mean_squared_error: 0.3513\n",
      "Epoch 59/100\n",
      "250/250 [==============================] - 1s 6ms/step - loss: 0.6669 - root_mean_squared_error: 0.3262 - val_loss: 0.7028 - val_root_mean_squared_error: 0.3514\n",
      "Epoch 60/100\n",
      "250/250 [==============================] - 1s 4ms/step - loss: 0.6661 - root_mean_squared_error: 0.3257 - val_loss: 0.7031 - val_root_mean_squared_error: 0.3516\n",
      "Epoch 61/100\n",
      "250/250 [==============================] - 1s 3ms/step - loss: 0.6670 - root_mean_squared_error: 0.3264 - val_loss: 0.7034 - val_root_mean_squared_error: 0.3518\n",
      "Epoch 62/100\n",
      "250/250 [==============================] - 1s 3ms/step - loss: 0.6669 - root_mean_squared_error: 0.3263 - val_loss: 0.7033 - val_root_mean_squared_error: 0.3518\n",
      "Epoch 63/100\n",
      "250/250 [==============================] - 1s 3ms/step - loss: 0.6652 - root_mean_squared_error: 0.3250 - val_loss: 0.7032 - val_root_mean_squared_error: 0.3517\n",
      "Epoch 64/100\n",
      "250/250 [==============================] - 1s 3ms/step - loss: 0.6659 - root_mean_squared_error: 0.3255 - val_loss: 0.7031 - val_root_mean_squared_error: 0.3516\n",
      "Epoch 65/100\n",
      "250/250 [==============================] - 1s 3ms/step - loss: 0.6661 - root_mean_squared_error: 0.3257 - val_loss: 0.7030 - val_root_mean_squared_error: 0.3516\n",
      "Epoch 66/100\n",
      "250/250 [==============================] - 1s 3ms/step - loss: 0.6668 - root_mean_squared_error: 0.3261 - val_loss: 0.7039 - val_root_mean_squared_error: 0.3522\n",
      "Epoch 67/100\n",
      "250/250 [==============================] - 1s 3ms/step - loss: 0.6651 - root_mean_squared_error: 0.3249 - val_loss: 0.7038 - val_root_mean_squared_error: 0.3520\n",
      "Epoch 68/100\n",
      "250/250 [==============================] - 1s 3ms/step - loss: 0.6648 - root_mean_squared_error: 0.3248 - val_loss: 0.7042 - val_root_mean_squared_error: 0.3524\n",
      "Epoch 69/100\n",
      "250/250 [==============================] - 1s 3ms/step - loss: 0.6665 - root_mean_squared_error: 0.3260 - val_loss: 0.7047 - val_root_mean_squared_error: 0.3526\n",
      "Epoch 70/100\n",
      "250/250 [==============================] - 1s 3ms/step - loss: 0.6660 - root_mean_squared_error: 0.3255 - val_loss: 0.7044 - val_root_mean_squared_error: 0.3525\n",
      "Epoch 71/100\n",
      "250/250 [==============================] - 1s 3ms/step - loss: 0.6653 - root_mean_squared_error: 0.3251 - val_loss: 0.7047 - val_root_mean_squared_error: 0.3526\n",
      "Epoch 72/100\n",
      "250/250 [==============================] - 1s 3ms/step - loss: 0.6654 - root_mean_squared_error: 0.3252 - val_loss: 0.7049 - val_root_mean_squared_error: 0.3528\n",
      "Epoch 73/100\n",
      "250/250 [==============================] - 1s 4ms/step - loss: 0.6644 - root_mean_squared_error: 0.3244 - val_loss: 0.7048 - val_root_mean_squared_error: 0.3527\n",
      "Epoch 74/100\n",
      "250/250 [==============================] - 1s 4ms/step - loss: 0.6643 - root_mean_squared_error: 0.3243 - val_loss: 0.7048 - val_root_mean_squared_error: 0.3527\n",
      "Epoch 75/100\n",
      "250/250 [==============================] - 1s 3ms/step - loss: 0.6649 - root_mean_squared_error: 0.3248 - val_loss: 0.7047 - val_root_mean_squared_error: 0.3526\n",
      "Epoch 76/100\n",
      "250/250 [==============================] - 1s 3ms/step - loss: 0.6633 - root_mean_squared_error: 0.3236 - val_loss: 0.7052 - val_root_mean_squared_error: 0.3529\n",
      "Epoch 77/100\n",
      "250/250 [==============================] - 1s 3ms/step - loss: 0.6651 - root_mean_squared_error: 0.3250 - val_loss: 0.7056 - val_root_mean_squared_error: 0.3532\n",
      "Epoch 78/100\n",
      "250/250 [==============================] - 1s 3ms/step - loss: 0.6639 - root_mean_squared_error: 0.3240 - val_loss: 0.7052 - val_root_mean_squared_error: 0.3529\n",
      "Epoch 79/100\n",
      "250/250 [==============================] - 1s 3ms/step - loss: 0.6638 - root_mean_squared_error: 0.3240 - val_loss: 0.7053 - val_root_mean_squared_error: 0.3530\n",
      "Epoch 80/100\n",
      "250/250 [==============================] - 1s 3ms/step - loss: 0.6659 - root_mean_squared_error: 0.3256 - val_loss: 0.7056 - val_root_mean_squared_error: 0.3532\n",
      "Epoch 81/100\n",
      "250/250 [==============================] - 1s 3ms/step - loss: 0.6640 - root_mean_squared_error: 0.3241 - val_loss: 0.7056 - val_root_mean_squared_error: 0.3532\n",
      "Epoch 82/100\n",
      "250/250 [==============================] - 1s 3ms/step - loss: 0.6642 - root_mean_squared_error: 0.3243 - val_loss: 0.7060 - val_root_mean_squared_error: 0.3534\n",
      "Epoch 83/100\n",
      "250/250 [==============================] - 1s 3ms/step - loss: 0.6630 - root_mean_squared_error: 0.3234 - val_loss: 0.7060 - val_root_mean_squared_error: 0.3534\n",
      "Epoch 84/100\n",
      "250/250 [==============================] - 1s 3ms/step - loss: 0.6638 - root_mean_squared_error: 0.3240 - val_loss: 0.7065 - val_root_mean_squared_error: 0.3538\n",
      "Epoch 85/100\n",
      "250/250 [==============================] - 1s 3ms/step - loss: 0.6633 - root_mean_squared_error: 0.3236 - val_loss: 0.7067 - val_root_mean_squared_error: 0.3539\n",
      "Epoch 86/100\n",
      "250/250 [==============================] - 1s 3ms/step - loss: 0.6639 - root_mean_squared_error: 0.3241 - val_loss: 0.7068 - val_root_mean_squared_error: 0.3540\n",
      "Epoch 87/100\n",
      "250/250 [==============================] - 1s 3ms/step - loss: 0.6634 - root_mean_squared_error: 0.3237 - val_loss: 0.7067 - val_root_mean_squared_error: 0.3539\n",
      "Epoch 88/100\n",
      "250/250 [==============================] - 1s 3ms/step - loss: 0.6654 - root_mean_squared_error: 0.3252 - val_loss: 0.7072 - val_root_mean_squared_error: 0.3542\n",
      "Epoch 89/100\n",
      "250/250 [==============================] - 1s 3ms/step - loss: 0.6638 - root_mean_squared_error: 0.3240 - val_loss: 0.7073 - val_root_mean_squared_error: 0.3543\n",
      "Epoch 90/100\n",
      "250/250 [==============================] - 1s 3ms/step - loss: 0.6638 - root_mean_squared_error: 0.3240 - val_loss: 0.7072 - val_root_mean_squared_error: 0.3542\n",
      "Epoch 91/100\n",
      "250/250 [==============================] - 1s 3ms/step - loss: 0.6640 - root_mean_squared_error: 0.3241 - val_loss: 0.7071 - val_root_mean_squared_error: 0.3542\n",
      "Epoch 92/100\n",
      "250/250 [==============================] - 1s 3ms/step - loss: 0.6647 - root_mean_squared_error: 0.3247 - val_loss: 0.7072 - val_root_mean_squared_error: 0.3542\n",
      "Epoch 93/100\n",
      "250/250 [==============================] - 1s 3ms/step - loss: 0.6637 - root_mean_squared_error: 0.3240 - val_loss: 0.7076 - val_root_mean_squared_error: 0.3545\n",
      "Epoch 94/100\n",
      "250/250 [==============================] - 1s 3ms/step - loss: 0.6635 - root_mean_squared_error: 0.3238 - val_loss: 0.7079 - val_root_mean_squared_error: 0.3547\n",
      "Epoch 95/100\n"
     ]
    },
    {
     "name": "stdout",
     "output_type": "stream",
     "text": [
      "250/250 [==============================] - 1s 3ms/step - loss: 0.6650 - root_mean_squared_error: 0.3249 - val_loss: 0.7083 - val_root_mean_squared_error: 0.3549\n",
      "Epoch 96/100\n",
      "250/250 [==============================] - 1s 3ms/step - loss: 0.6637 - root_mean_squared_error: 0.3239 - val_loss: 0.7083 - val_root_mean_squared_error: 0.3549\n",
      "Epoch 97/100\n",
      "250/250 [==============================] - 1s 3ms/step - loss: 0.6625 - root_mean_squared_error: 0.3231 - val_loss: 0.7080 - val_root_mean_squared_error: 0.3547\n",
      "Epoch 98/100\n",
      "250/250 [==============================] - 1s 3ms/step - loss: 0.6636 - root_mean_squared_error: 0.3239 - val_loss: 0.7083 - val_root_mean_squared_error: 0.3549\n",
      "Epoch 99/100\n",
      "250/250 [==============================] - 1s 3ms/step - loss: 0.6626 - root_mean_squared_error: 0.3231 - val_loss: 0.7086 - val_root_mean_squared_error: 0.3551\n",
      "Epoch 100/100\n",
      "250/250 [==============================] - 1s 3ms/step - loss: 0.6634 - root_mean_squared_error: 0.3237 - val_loss: 0.7092 - val_root_mean_squared_error: 0.3555\n"
     ]
    }
   ],
   "source": [
    "history = model.fit(\n",
    "    x = x_train,\n",
    "    y = y_train,\n",
    "    epochs = 100,\n",
    "    validation_data = (x_test, y_test)\n",
    ")"
   ]
  },
  {
   "cell_type": "markdown",
   "metadata": {
    "id": "czip3luik9Jk"
   },
   "source": [
    "# Evaluasi Model"
   ]
  },
  {
   "cell_type": "code",
   "execution_count": 20,
   "metadata": {
    "colab": {
     "base_uri": "https://localhost:8080/"
    },
    "id": "ipI2DcfYk8c8",
    "outputId": "7da3f534-37ae-4215-8c04-5954bdd95164"
   },
   "outputs": [
    {
     "name": "stdout",
     "output_type": "stream",
     "text": [
      "63/63 [==============================] - 0s 2ms/step - loss: 0.7092 - root_mean_squared_error: 0.3555\n"
     ]
    },
    {
     "data": {
      "text/plain": [
       "[0.7091940641403198, 0.35546624660491943]"
      ]
     },
     "execution_count": 20,
     "metadata": {},
     "output_type": "execute_result"
    }
   ],
   "source": [
    "model.evaluate(x=x_test, y=y_test)"
   ]
  },
  {
   "cell_type": "code",
   "execution_count": 21,
   "metadata": {
    "colab": {
     "base_uri": "https://localhost:8080/",
     "height": 295
    },
    "id": "rzwPRh8ZlDan",
    "outputId": "d1a275bc-3fa2-4c38-895b-be8171e17208"
   },
   "outputs": [
    {
     "data": {
      "image/png": "[encoded data removed]",
      "text/plain": [
       "<Figure size 432x288 with 1 Axes>"
      ]
     },
     "metadata": {
      "needs_background": "light"
     },
     "output_type": "display_data"
    }
   ],
   "source": [
    "import matplotlib.pyplot as plt\n",
    "\n",
    "plt.plot(history.history['root_mean_squared_error'])\n",
    "plt.plot(history.history['val_root_mean_squared_error'])\n",
    "plt.title('model_metrics')\n",
    "plt.ylabel('root_mean_squared_error')\n",
    "plt.xlabel('epoch')\n",
    "plt.ylim(ymin=0, ymax=0.4)\n",
    "plt.legend(['train', 'test'], loc='center left')\n",
    "plt.show()"
   ]
  },
  {
   "cell_type": "markdown",
   "metadata": {
    "id": "JFBegpn4lHir"
   },
   "source": [
    "# Penerapan Model"
   ]
  },
  {
   "cell_type": "code",
   "execution_count": 22,
   "metadata": {
    "colab": {
     "base_uri": "https://localhost:8080/"
    },
    "id": "CdU-54iNlHOz",
    "outputId": "a6284fec-5f15-476a-d336-0db077741b22"
   },
   "outputs": [
    {
     "data": {
      "text/plain": [
       "Index(['Place_Id', 'Kuliner_Name', 'Description', 'Category', 'alamat', 'City',\n",
       "       'Rating', 'Coordinate', 'Lat', 'Long', 'Price', 'Images'],\n",
       "      dtype='object')"
      ]
     },
     "execution_count": 22,
     "metadata": {},
     "output_type": "execute_result"
    }
   ],
   "source": [
    "kuliner.columns"
   ]
  },
  {
   "cell_type": "code",
   "execution_count": 23,
   "metadata": {
    "id": "lMfjsRSzlOHR"
   },
   "outputs": [],
   "source": [
    "place_df = kuliner[['Place_Id', 'Kuliner_Name', 'Description', 'Category', 'alamat', 'City',\n",
    "       'Rating', 'Coordinate', 'Lat', 'Long', 'Price', 'Images']]\n",
    "place_df.columns = ['Place_Id', 'Kuliner_Name', 'Description', 'Category', 'alamat', 'City',\n",
    "       'Rating', 'Coordinate', 'Lat', 'Long', 'Price', 'Images']\n",
    "df = rating.copy()"
   ]
  },
  {
   "cell_type": "code",
   "execution_count": 24,
   "metadata": {
    "id": "c9w34r00lmN0"
   },
   "outputs": [],
   "source": [
    "# Mengambil sample user\n",
    "user_id = df.User_Id.sample(1).iloc[0]\n",
    "place_visited_by_user = df[df.User_Id == user_id]"
   ]
  },
  {
   "cell_type": "code",
   "execution_count": 25,
   "metadata": {
    "id": "KTkz9LKgloKK"
   },
   "outputs": [],
   "source": [
    "# Membuat data lokasi yang belum dikunjungi user\n",
    "place_not_visited = place_df[~place_df['Place_Id'].isin(place_visited_by_user.Place_Id.values)]['Place_Id'] \n",
    "place_not_visited = list(\n",
    "    set(place_not_visited).intersection(set(place_to_place_encoded.keys()))\n",
    ")\n",
    " \n",
    "place_not_visited = [[place_to_place_encoded.get(x)] for x in place_not_visited]\n",
    "user_encoder = user_to_user_encoded.get(user_id)\n",
    "user_place_array = np.hstack(\n",
    "    ([[user_encoder]] * len(place_not_visited), place_not_visited)\n",
    ")"
   ]
  },
  {
   "cell_type": "code",
   "execution_count": 26,
   "metadata": {
    "colab": {
     "base_uri": "https://localhost:8080/"
    },
    "id": "5VeNUi5QltQe",
    "outputId": "5dedb481-aea2-404b-9ea9-e44929ea64f0"
   },
   "outputs": [
    {
     "name": "stdout",
     "output_type": "stream",
     "text": [
      "1/1 [==============================] - 0s 169ms/step\n",
      "\n",
      "------------------------------------------------------------\n",
      "Top 5 place recommendation\n",
      "------------------------------------------------------------\n",
      "1 . Kuliner Gudeg Pecel Pasar Beringharjo Bu Yamtini \n",
      "     Jl. Margo Mulyo Jl. Jend. Ahmad Yani, Ngupasan, Kec. Gondomanan, Kota Yogyakarta, Daerah Istimewa Yogyakarta 55122 , titik koordinat  {'lat': -7.79871615565743, 'lng': 110.364959159926} , Rating Wisata  4.2 \n",
      "\n",
      "2 . Bakmi Mbah Gito \n",
      "     Jl. Nyi Ageng Nis No.9, Rejowinangun, Kec. Kotagede, Kota Yogyakarta, Daerah Istimewa Yogyakarta 55171 , titik koordinat  {'lat': -7.81335650545829, 'lng': 110.397154007848} , Rating Wisata  4.3 \n",
      "\n",
      "3 . Lesehan Gudeg & Oseng-oseng \"bu Endang\" \n",
      "     Jl. Laksda Adisucipto No.264, Ambarukmo, Caturtunggal, Kec. Depok, Kabupaten Sleman, Daerah Istimewa Yogyakarta 55281 , titik koordinat  {'lat': -7.78308779704268, 'lng': 110.399850310542} , Rating Wisata  4.1 \n",
      "\n",
      "4 . Mie Ayam Bu Tumini Sari Rasa Jati Ayu \n",
      "     Jl. Imogiri Tim. No.187, Giwangan, Kec. Umbulharjo, Kota Yogyakarta, Daerah Istimewa Yogyakarta 55163 , titik koordinat  {'lat': -7.83377252757425, 'lng': 110.390716786114} , Rating Wisata  4.5 \n",
      "\n",
      "5 . Gudeg Bromo Bu Tekluk \n",
      "     Jl. Affandi No.2-A, Santren, Caturtunggal, Kec. Depok, Kabupaten Sleman, Daerah Istimewa Yogyakarta 55281 , titik koordinat  {'lat': -7.77372863478475, 'lng': 110.389590124126} , Rating Wisata  4.3 \n",
      "\n",
      "=============================================\n"
     ]
    }
   ],
   "source": [
    "# Mengambil top 5 recommendation\n",
    "ratings = model.predict(user_place_array).flatten()\n",
    "top_ratings_indices = ratings.argsort()[-5:][::-1]\n",
    "recommended_place_ids = [\n",
    "    place_encoded_to_place.get(place_not_visited[x][0]) for x in top_ratings_indices\n",
    "]\n",
    " \n",
    "\n",
    "print('')\n",
    "print('----' * 15)\n",
    "print('Top 5 place recommendation')\n",
    "print('----' * 15)\n",
    " \n",
    "recommended_place = place_df[place_df['Place_Id'].isin(recommended_place_ids)]\n",
    "for row, i in zip(recommended_place.itertuples(), range(1,8)):\n",
    "    print(i,'.', row.Kuliner_Name, '\\n    ', row.alamat, ',', 'titik koordinat ', row.Coordinate, ',', 'Rating Wisata ', row.Rating,'\\n')\n",
    "\n",
    "print('==='*15)"
   ]
  },
  {
   "cell_type": "markdown",
   "metadata": {
    "id": "AhUrnLEPmNEF"
   },
   "source": [
    "# Save Model"
   ]
  },
  {
   "cell_type": "code",
   "execution_count": 42,
   "metadata": {
    "colab": {
     "base_uri": "https://localhost:8080/"
    },
    "id": "mNXwkrDjmMMs",
    "outputId": "73ef722c-efbc-4734-894a-ba251661b8f8"
   },
   "outputs": [
    {
     "name": "stdout",
     "output_type": "stream",
     "text": [
      "INFO:tensorflow:Assets written to: /tmp/tmpiqpaze92/assets\n"
     ]
    },
    {
     "name": "stderr",
     "output_type": "stream",
     "text": [
      "WARNING:absl:Buffer deduplication procedure will be skipped when flatbuffer library is not properly loaded\n"
     ]
    }
   ],
   "source": [
    "# converter = tf.lite.TFLiteConverter.from_keras_model(model)\n",
    "# tflite_model = converter.convert()\n",
    "\n",
    "# # Save the model.\n",
    "# with open('model.tflite', 'wb') as f:\n",
    "#   f.write(tflite_model)"
   ]
  },
  {
   "cell_type": "code",
   "execution_count": 56,
   "metadata": {
    "colab": {
     "base_uri": "https://localhost:8080/"
    },
    "id": "X2CsLQlNkQox",
    "outputId": "02ce10d7-3651-46da-8a68-725dfa47e7e0"
   },
   "outputs": [
    {
     "name": "stdout",
     "output_type": "stream",
     "text": [
      "INFO:tensorflow:Assets written to: ram://7a5f6002-395b-4df0-84d3-2276807e66aa/assets\n"
     ]
    },
    {
     "name": "stderr",
     "output_type": "stream",
     "text": [
      "INFO:tensorflow:Assets written to: ram://7a5f6002-395b-4df0-84d3-2276807e66aa/assets\n"
     ]
    }
   ],
   "source": [
    "filename = '../../model/kuliner_bali.pkl'\n",
    "pickle.dump(model, open(filename, 'wb'))"
   ]
  },
  {
   "cell_type": "code",
   "execution_count": 57,
   "metadata": {
    "colab": {
     "base_uri": "https://localhost:8080/"
    },
    "id": "j0Y2p2RTklYO",
    "outputId": "aba1475e-013e-43cd-bdf2-79b40f7bb76f"
   },
   "outputs": [
    {
     "name": "stdout",
     "output_type": "stream",
     "text": [
      "63/63 [==============================] - 0s 2ms/step - loss: 0.7042 - root_mean_squared_error: 0.3523\n"
     ]
    }
   ],
   "source": [
    "loaded_model = pickle.load(open(filename, 'rb'))\n",
    "result = loaded_model.evaluate(x=x_test, y=y_test)"
   ]
  }
 ],
 "metadata": {
  "colab": {
   "collapsed_sections": [],
   "name": "system_recomendation_kuliner_jogja.ipynb",
   "provenance": []
  },
  "kernelspec": {
   "display_name": "Python 3 (ipykernel)",
   "language": "python",
   "name": "python3"
  },
  "language_info": {
   "codemirror_mode": {
    "name": "ipython",
    "version": 3
   },
   "file_extension": ".py",
   "mimetype": "text/x-python",
   "name": "python",
   "nbconvert_exporter": "python",
   "pygments_lexer": "ipython3",
   "version": "3.8.10"
  }
 },
 "nbformat": 4,
 "nbformat_minor": 1
}
