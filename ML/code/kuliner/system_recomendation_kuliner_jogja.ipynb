{
  "cells": [
    {
      "cell_type": "markdown",
      "metadata": {
        "id": "H4dHySlIgs9p"
      },
      "source": [
        "# Import Package"
      ]
    },
    {
      "cell_type": "code",
      "execution_count": 1,
      "metadata": {
        "id": "UEw3gFdFgvR9"
      },
      "outputs": [],
      "source": [
        "import numpy as np\n",
        "import pandas as pd \n",
        "\n",
        "import tensorflow as tf\n",
        "from tensorflow import keras\n",
        "from tensorflow.keras import layers"
      ]
    },
    {
      "cell_type": "code",
      "execution_count": null,
      "metadata": {
        "colab": {
          "base_uri": "https://localhost:8080/"
        },
        "id": "t4jpyklMTvVQ",
        "outputId": "a03f188e-3587-43c1-ff22-69cf853f7946"
      },
      "outputs": [
        {
          "name": "stdout",
          "output_type": "stream",
          "text": [
            "\n",
            "1.22.4,\n",
            "1.4.2,\n",
            "2.9.1\n"
          ]
        }
      ],
      "source": [
        "print(f'''\n",
        "{np.__version__},\n",
        "{pd.__version__},\n",
        "{tf.__version__}''')"
      ]
    },
    {
      "cell_type": "code",
      "execution_count": null,
      "metadata": {
        "colab": {
          "base_uri": "https://localhost:8080/"
        },
        "id": "UU1lEoQYVBYt",
        "outputId": "f87de76f-4494-4dca-cd52-e28efa1b9401"
      },
      "outputs": [
        {
          "name": "stdout",
          "output_type": "stream",
          "text": [
            "Python 3.8.10\r\n"
          ]
        }
      ],
      "source": [
        "!python --version"
      ]
    },
    {
      "cell_type": "markdown",
      "metadata": {
        "id": "VVF4rN5cgzPr"
      },
      "source": [
        "# Import Dataset"
      ]
    },
    {
      "cell_type": "code",
      "execution_count": 5,
      "metadata": {
        "id": "doIruLZpgxrz"
      },
      "outputs": [],
      "source": [
        "rating = pd.read_csv('./rating_kuliner_yogyakarta.csv')\n",
        "kuliner = pd.read_csv('./kuliner.csv')\n",
        "user = pd.read_csv('./user.csv')"
      ]
    },
    {
      "cell_type": "code",
      "execution_count": 6,
      "metadata": {
        "colab": {
          "base_uri": "https://localhost:8080/"
        },
        "id": "9aXx38a0hWeM",
        "outputId": "de96a838-f414-4bab-bb55-7fb4262d23e4"
      },
      "outputs": [
        {
          "output_type": "stream",
          "name": "stdout",
          "text": [
            "rating : (10000, 3)\n",
            "kuliner : (81, 12)\n",
            "user : (300, 3)\n"
          ]
        }
      ],
      "source": [
        "# melihat ukuran data\n",
        "print(f'rating : {rating.shape}')\n",
        "print(f'kuliner : {kuliner.shape}')\n",
        "print(f'user : {user.shape}')"
      ]
    },
    {
      "cell_type": "markdown",
      "metadata": {
        "id": "To3P2Wgmjz88"
      },
      "source": [
        "# Persiapan Dataset"
      ]
    },
    {
      "cell_type": "code",
      "execution_count": 7,
      "metadata": {
        "colab": {
          "base_uri": "https://localhost:8080/",
          "height": 635
        },
        "id": "__LHRJZUp3OU",
        "outputId": "03eff25b-b942-471e-cde1-8ecb5930cf54"
      },
      "outputs": [
        {
          "output_type": "execute_result",
          "data": {
            "text/plain": [
              "   Place_Id                                      Kuliner_Name  \\\n",
              "0         1  Kuliner Gudeg Pecel Pasar Beringharjo Bu Yamtini   \n",
              "1         2                                       Soto Sampah   \n",
              "2         3                         Kuliner Lesehan Malioboro   \n",
              "3         4                         Kuliner jogja Pendopo Sop   \n",
              "4         6                         Pusat Kuliner Leyeh Leyeh   \n",
              "\n",
              "                                         Description Category  \\\n",
              "0  Sarapan murah dan enak di jogja yang ada di da...  Makanan   \n",
              "1  Ada cerita tersendiri mengenai nama Soto Sampa...  Makanan   \n",
              "2  Lesehan yang satu ini sih cocok buat para pemb...  Makanan   \n",
              "3  Pendopo Sop merupakan salah satu tempat wisata...  Makanan   \n",
              "4  Leyeh Leyeh menawarkan hidangan yang beragam, ...  Makanan   \n",
              "\n",
              "                                              alamat        City  Rating  \\\n",
              "0  Jl. Margo Mulyo Jl. Jend. Ahmad Yani, Ngupasan...  Yogyakarta     4.2   \n",
              "1  Jl. Kranggan No.2, Cokrodiningratan, Kec. Jeti...  Yogyakarta     4.3   \n",
              "2  Jl. Malioboro No.143, Sosromenduran, Gedong Te...  Yogyakarta     4.3   \n",
              "3  Ngupasan, Kec. Gondomanan, Kota Yogyakarta, Da...  Yogyakarta     4.5   \n",
              "4  Jl. P. Mangkubumi No.10, Cokrodiningratan, Kec...  Yogyakarta     4.5   \n",
              "\n",
              "                                          Coordinate             Lat  \\\n",
              "0  {'lat': -7.79871615565743, 'lng': 110.36495915...  -7.798.716.156   \n",
              "1  {'lat': -7.78162635992033, 'lng': 110.36692378...    -778.162.636   \n",
              "2  {'lat': -7.79180460164656, 'lng': 110.36583623...  -7.791.804.602   \n",
              "3  {'lat': -7.80320108368307, 'lng':110.363208002...  -7.803.201.084   \n",
              "4  {'lat': -7.78213066768978, 'lng': 110.36730232...  -7.782.130.668   \n",
              "\n",
              "            Long  Price                                             Images  \n",
              "0  1.103.649.592   8000   https://i.ytimg.com/vi/s4uaKa0e_7o/mqdefault.jpg  \n",
              "1  1.103.669.238   6000  https://cdn.krjogja.com/wp-content/uploads/201...  \n",
              "2  1.103.658.362  20000  https://img.qraved.co/v2/image/data/main-photo...  \n",
              "3    110.363.208  30000  https://ik.imagekit.io/tvlk/cul-asset/guys1L+Y...  \n",
              "4  1.103.673.023  50000  https://t-2.tstatic.net/jogja/foto/bank/images...  "
            ],
            "text/html": [
              "\n",
              "  <div id=\"df-f26466b2-8401-47ee-9397-d64f633cda7f\">\n",
              "    <div class=\"colab-df-container\">\n",
              "      <div>\n",
              "<style scoped>\n",
              "    .dataframe tbody tr th:only-of-type {\n",
              "        vertical-align: middle;\n",
              "    }\n",
              "\n",
              "    .dataframe tbody tr th {\n",
              "        vertical-align: top;\n",
              "    }\n",
              "\n",
              "    .dataframe thead th {\n",
              "        text-align: right;\n",
              "    }\n",
              "</style>\n",
              "<table border=\"1\" class=\"dataframe\">\n",
              "  <thead>\n",
              "    <tr style=\"text-align: right;\">\n",
              "      <th></th>\n",
              "      <th>Place_Id</th>\n",
              "      <th>Kuliner_Name</th>\n",
              "      <th>Description</th>\n",
              "      <th>Category</th>\n",
              "      <th>alamat</th>\n",
              "      <th>City</th>\n",
              "      <th>Rating</th>\n",
              "      <th>Coordinate</th>\n",
              "      <th>Lat</th>\n",
              "      <th>Long</th>\n",
              "      <th>Price</th>\n",
              "      <th>Images</th>\n",
              "    </tr>\n",
              "  </thead>\n",
              "  <tbody>\n",
              "    <tr>\n",
              "      <th>0</th>\n",
              "      <td>1</td>\n",
              "      <td>Kuliner Gudeg Pecel Pasar Beringharjo Bu Yamtini</td>\n",
              "      <td>Sarapan murah dan enak di jogja yang ada di da...</td>\n",
              "      <td>Makanan</td>\n",
              "      <td>Jl. Margo Mulyo Jl. Jend. Ahmad Yani, Ngupasan...</td>\n",
              "      <td>Yogyakarta</td>\n",
              "      <td>4.2</td>\n",
              "      <td>{'lat': -7.79871615565743, 'lng': 110.36495915...</td>\n",
              "      <td>-7.798.716.156</td>\n",
              "      <td>1.103.649.592</td>\n",
              "      <td>8000</td>\n",
              "      <td>https://i.ytimg.com/vi/s4uaKa0e_7o/mqdefault.jpg</td>\n",
              "    </tr>\n",
              "    <tr>\n",
              "      <th>1</th>\n",
              "      <td>2</td>\n",
              "      <td>Soto Sampah</td>\n",
              "      <td>Ada cerita tersendiri mengenai nama Soto Sampa...</td>\n",
              "      <td>Makanan</td>\n",
              "      <td>Jl. Kranggan No.2, Cokrodiningratan, Kec. Jeti...</td>\n",
              "      <td>Yogyakarta</td>\n",
              "      <td>4.3</td>\n",
              "      <td>{'lat': -7.78162635992033, 'lng': 110.36692378...</td>\n",
              "      <td>-778.162.636</td>\n",
              "      <td>1.103.669.238</td>\n",
              "      <td>6000</td>\n",
              "      <td>https://cdn.krjogja.com/wp-content/uploads/201...</td>\n",
              "    </tr>\n",
              "    <tr>\n",
              "      <th>2</th>\n",
              "      <td>3</td>\n",
              "      <td>Kuliner Lesehan Malioboro</td>\n",
              "      <td>Lesehan yang satu ini sih cocok buat para pemb...</td>\n",
              "      <td>Makanan</td>\n",
              "      <td>Jl. Malioboro No.143, Sosromenduran, Gedong Te...</td>\n",
              "      <td>Yogyakarta</td>\n",
              "      <td>4.3</td>\n",
              "      <td>{'lat': -7.79180460164656, 'lng': 110.36583623...</td>\n",
              "      <td>-7.791.804.602</td>\n",
              "      <td>1.103.658.362</td>\n",
              "      <td>20000</td>\n",
              "      <td>https://img.qraved.co/v2/image/data/main-photo...</td>\n",
              "    </tr>\n",
              "    <tr>\n",
              "      <th>3</th>\n",
              "      <td>4</td>\n",
              "      <td>Kuliner jogja Pendopo Sop</td>\n",
              "      <td>Pendopo Sop merupakan salah satu tempat wisata...</td>\n",
              "      <td>Makanan</td>\n",
              "      <td>Ngupasan, Kec. Gondomanan, Kota Yogyakarta, Da...</td>\n",
              "      <td>Yogyakarta</td>\n",
              "      <td>4.5</td>\n",
              "      <td>{'lat': -7.80320108368307, 'lng':110.363208002...</td>\n",
              "      <td>-7.803.201.084</td>\n",
              "      <td>110.363.208</td>\n",
              "      <td>30000</td>\n",
              "      <td>https://ik.imagekit.io/tvlk/cul-asset/guys1L+Y...</td>\n",
              "    </tr>\n",
              "    <tr>\n",
              "      <th>4</th>\n",
              "      <td>6</td>\n",
              "      <td>Pusat Kuliner Leyeh Leyeh</td>\n",
              "      <td>Leyeh Leyeh menawarkan hidangan yang beragam, ...</td>\n",
              "      <td>Makanan</td>\n",
              "      <td>Jl. P. Mangkubumi No.10, Cokrodiningratan, Kec...</td>\n",
              "      <td>Yogyakarta</td>\n",
              "      <td>4.5</td>\n",
              "      <td>{'lat': -7.78213066768978, 'lng': 110.36730232...</td>\n",
              "      <td>-7.782.130.668</td>\n",
              "      <td>1.103.673.023</td>\n",
              "      <td>50000</td>\n",
              "      <td>https://t-2.tstatic.net/jogja/foto/bank/images...</td>\n",
              "    </tr>\n",
              "  </tbody>\n",
              "</table>\n",
              "</div>\n",
              "      <button class=\"colab-df-convert\" onclick=\"convertToInteractive('df-f26466b2-8401-47ee-9397-d64f633cda7f')\"\n",
              "              title=\"Convert this dataframe to an interactive table.\"\n",
              "              style=\"display:none;\">\n",
              "        \n",
              "  <svg xmlns=\"http://www.w3.org/2000/svg\" height=\"24px\"viewBox=\"0 0 24 24\"\n",
              "       width=\"24px\">\n",
              "    <path d=\"M0 0h24v24H0V0z\" fill=\"none\"/>\n",
              "    <path d=\"M18.56 5.44l.94 2.06.94-2.06 2.06-.94-2.06-.94-.94-2.06-.94 2.06-2.06.94zm-11 1L8.5 8.5l.94-2.06 2.06-.94-2.06-.94L8.5 2.5l-.94 2.06-2.06.94zm10 10l.94 2.06.94-2.06 2.06-.94-2.06-.94-.94-2.06-.94 2.06-2.06.94z\"/><path d=\"M17.41 7.96l-1.37-1.37c-.4-.4-.92-.59-1.43-.59-.52 0-1.04.2-1.43.59L10.3 9.45l-7.72 7.72c-.78.78-.78 2.05 0 2.83L4 21.41c.39.39.9.59 1.41.59.51 0 1.02-.2 1.41-.59l7.78-7.78 2.81-2.81c.8-.78.8-2.07 0-2.86zM5.41 20L4 18.59l7.72-7.72 1.47 1.35L5.41 20z\"/>\n",
              "  </svg>\n",
              "      </button>\n",
              "      \n",
              "  <style>\n",
              "    .colab-df-container {\n",
              "      display:flex;\n",
              "      flex-wrap:wrap;\n",
              "      gap: 12px;\n",
              "    }\n",
              "\n",
              "    .colab-df-convert {\n",
              "      background-color: #E8F0FE;\n",
              "      border: none;\n",
              "      border-radius: 50%;\n",
              "      cursor: pointer;\n",
              "      display: none;\n",
              "      fill: #1967D2;\n",
              "      height: 32px;\n",
              "      padding: 0 0 0 0;\n",
              "      width: 32px;\n",
              "    }\n",
              "\n",
              "    .colab-df-convert:hover {\n",
              "      background-color: #E2EBFA;\n",
              "      box-shadow: 0px 1px 2px rgba(60, 64, 67, 0.3), 0px 1px 3px 1px rgba(60, 64, 67, 0.15);\n",
              "      fill: #174EA6;\n",
              "    }\n",
              "\n",
              "    [theme=dark] .colab-df-convert {\n",
              "      background-color: #3B4455;\n",
              "      fill: #D2E3FC;\n",
              "    }\n",
              "\n",
              "    [theme=dark] .colab-df-convert:hover {\n",
              "      background-color: #434B5C;\n",
              "      box-shadow: 0px 1px 3px 1px rgba(0, 0, 0, 0.15);\n",
              "      filter: drop-shadow(0px 1px 2px rgba(0, 0, 0, 0.3));\n",
              "      fill: #FFFFFF;\n",
              "    }\n",
              "  </style>\n",
              "\n",
              "      <script>\n",
              "        const buttonEl =\n",
              "          document.querySelector('#df-f26466b2-8401-47ee-9397-d64f633cda7f button.colab-df-convert');\n",
              "        buttonEl.style.display =\n",
              "          google.colab.kernel.accessAllowed ? 'block' : 'none';\n",
              "\n",
              "        async function convertToInteractive(key) {\n",
              "          const element = document.querySelector('#df-f26466b2-8401-47ee-9397-d64f633cda7f');\n",
              "          const dataTable =\n",
              "            await google.colab.kernel.invokeFunction('convertToInteractive',\n",
              "                                                     [key], {});\n",
              "          if (!dataTable) return;\n",
              "\n",
              "          const docLinkHtml = 'Like what you see? Visit the ' +\n",
              "            '<a target=\"_blank\" href=https://colab.research.google.com/notebooks/data_table.ipynb>data table notebook</a>'\n",
              "            + ' to learn more about interactive tables.';\n",
              "          element.innerHTML = '';\n",
              "          dataTable['output_type'] = 'display_data';\n",
              "          await google.colab.output.renderOutput(dataTable, element);\n",
              "          const docLink = document.createElement('div');\n",
              "          docLink.innerHTML = docLinkHtml;\n",
              "          element.appendChild(docLink);\n",
              "        }\n",
              "      </script>\n",
              "    </div>\n",
              "  </div>\n",
              "  "
            ]
          },
          "metadata": {},
          "execution_count": 7
        }
      ],
      "source": [
        "# Merubah data agar hanya dari Kota Yogyakarta\n",
        "\n",
        "kuliner = kuliner[kuliner['City']=='Yogyakarta']\n",
        "kuliner.head()\n"
      ]
    },
    {
      "cell_type": "code",
      "execution_count": 8,
      "metadata": {
        "colab": {
          "base_uri": "https://localhost:8080/",
          "height": 206
        },
        "id": "UXfR_jLyj11O",
        "outputId": "298f27bc-45cf-4a6d-d76c-7c5dfb00a910"
      },
      "outputs": [
        {
          "output_type": "execute_result",
          "data": {
            "text/plain": [
              "   User_Id  Place_Id  Place_Ratings\n",
              "0        1        23              3\n",
              "1        1         5              2\n",
              "2        1        34              5\n",
              "3        1        16              3\n",
              "4        1        15              4"
            ],
            "text/html": [
              "\n",
              "  <div id=\"df-b56a99d1-2134-46d0-9139-3b855d17ec1f\">\n",
              "    <div class=\"colab-df-container\">\n",
              "      <div>\n",
              "<style scoped>\n",
              "    .dataframe tbody tr th:only-of-type {\n",
              "        vertical-align: middle;\n",
              "    }\n",
              "\n",
              "    .dataframe tbody tr th {\n",
              "        vertical-align: top;\n",
              "    }\n",
              "\n",
              "    .dataframe thead th {\n",
              "        text-align: right;\n",
              "    }\n",
              "</style>\n",
              "<table border=\"1\" class=\"dataframe\">\n",
              "  <thead>\n",
              "    <tr style=\"text-align: right;\">\n",
              "      <th></th>\n",
              "      <th>User_Id</th>\n",
              "      <th>Place_Id</th>\n",
              "      <th>Place_Ratings</th>\n",
              "    </tr>\n",
              "  </thead>\n",
              "  <tbody>\n",
              "    <tr>\n",
              "      <th>0</th>\n",
              "      <td>1</td>\n",
              "      <td>23</td>\n",
              "      <td>3</td>\n",
              "    </tr>\n",
              "    <tr>\n",
              "      <th>1</th>\n",
              "      <td>1</td>\n",
              "      <td>5</td>\n",
              "      <td>2</td>\n",
              "    </tr>\n",
              "    <tr>\n",
              "      <th>2</th>\n",
              "      <td>1</td>\n",
              "      <td>34</td>\n",
              "      <td>5</td>\n",
              "    </tr>\n",
              "    <tr>\n",
              "      <th>3</th>\n",
              "      <td>1</td>\n",
              "      <td>16</td>\n",
              "      <td>3</td>\n",
              "    </tr>\n",
              "    <tr>\n",
              "      <th>4</th>\n",
              "      <td>1</td>\n",
              "      <td>15</td>\n",
              "      <td>4</td>\n",
              "    </tr>\n",
              "  </tbody>\n",
              "</table>\n",
              "</div>\n",
              "      <button class=\"colab-df-convert\" onclick=\"convertToInteractive('df-b56a99d1-2134-46d0-9139-3b855d17ec1f')\"\n",
              "              title=\"Convert this dataframe to an interactive table.\"\n",
              "              style=\"display:none;\">\n",
              "        \n",
              "  <svg xmlns=\"http://www.w3.org/2000/svg\" height=\"24px\"viewBox=\"0 0 24 24\"\n",
              "       width=\"24px\">\n",
              "    <path d=\"M0 0h24v24H0V0z\" fill=\"none\"/>\n",
              "    <path d=\"M18.56 5.44l.94 2.06.94-2.06 2.06-.94-2.06-.94-.94-2.06-.94 2.06-2.06.94zm-11 1L8.5 8.5l.94-2.06 2.06-.94-2.06-.94L8.5 2.5l-.94 2.06-2.06.94zm10 10l.94 2.06.94-2.06 2.06-.94-2.06-.94-.94-2.06-.94 2.06-2.06.94z\"/><path d=\"M17.41 7.96l-1.37-1.37c-.4-.4-.92-.59-1.43-.59-.52 0-1.04.2-1.43.59L10.3 9.45l-7.72 7.72c-.78.78-.78 2.05 0 2.83L4 21.41c.39.39.9.59 1.41.59.51 0 1.02-.2 1.41-.59l7.78-7.78 2.81-2.81c.8-.78.8-2.07 0-2.86zM5.41 20L4 18.59l7.72-7.72 1.47 1.35L5.41 20z\"/>\n",
              "  </svg>\n",
              "      </button>\n",
              "      \n",
              "  <style>\n",
              "    .colab-df-container {\n",
              "      display:flex;\n",
              "      flex-wrap:wrap;\n",
              "      gap: 12px;\n",
              "    }\n",
              "\n",
              "    .colab-df-convert {\n",
              "      background-color: #E8F0FE;\n",
              "      border: none;\n",
              "      border-radius: 50%;\n",
              "      cursor: pointer;\n",
              "      display: none;\n",
              "      fill: #1967D2;\n",
              "      height: 32px;\n",
              "      padding: 0 0 0 0;\n",
              "      width: 32px;\n",
              "    }\n",
              "\n",
              "    .colab-df-convert:hover {\n",
              "      background-color: #E2EBFA;\n",
              "      box-shadow: 0px 1px 2px rgba(60, 64, 67, 0.3), 0px 1px 3px 1px rgba(60, 64, 67, 0.15);\n",
              "      fill: #174EA6;\n",
              "    }\n",
              "\n",
              "    [theme=dark] .colab-df-convert {\n",
              "      background-color: #3B4455;\n",
              "      fill: #D2E3FC;\n",
              "    }\n",
              "\n",
              "    [theme=dark] .colab-df-convert:hover {\n",
              "      background-color: #434B5C;\n",
              "      box-shadow: 0px 1px 3px 1px rgba(0, 0, 0, 0.15);\n",
              "      filter: drop-shadow(0px 1px 2px rgba(0, 0, 0, 0.3));\n",
              "      fill: #FFFFFF;\n",
              "    }\n",
              "  </style>\n",
              "\n",
              "      <script>\n",
              "        const buttonEl =\n",
              "          document.querySelector('#df-b56a99d1-2134-46d0-9139-3b855d17ec1f button.colab-df-convert');\n",
              "        buttonEl.style.display =\n",
              "          google.colab.kernel.accessAllowed ? 'block' : 'none';\n",
              "\n",
              "        async function convertToInteractive(key) {\n",
              "          const element = document.querySelector('#df-b56a99d1-2134-46d0-9139-3b855d17ec1f');\n",
              "          const dataTable =\n",
              "            await google.colab.kernel.invokeFunction('convertToInteractive',\n",
              "                                                     [key], {});\n",
              "          if (!dataTable) return;\n",
              "\n",
              "          const docLinkHtml = 'Like what you see? Visit the ' +\n",
              "            '<a target=\"_blank\" href=https://colab.research.google.com/notebooks/data_table.ipynb>data table notebook</a>'\n",
              "            + ' to learn more about interactive tables.';\n",
              "          element.innerHTML = '';\n",
              "          dataTable['output_type'] = 'display_data';\n",
              "          await google.colab.output.renderOutput(dataTable, element);\n",
              "          const docLink = document.createElement('div');\n",
              "          docLink.innerHTML = docLinkHtml;\n",
              "          element.appendChild(docLink);\n",
              "        }\n",
              "      </script>\n",
              "    </div>\n",
              "  </div>\n",
              "  "
            ]
          },
          "metadata": {},
          "execution_count": 8
        }
      ],
      "source": [
        "rating.head()"
      ]
    },
    {
      "cell_type": "code",
      "execution_count": 9,
      "metadata": {
        "id": "faQmImEHj7lr"
      },
      "outputs": [],
      "source": [
        "df = rating.copy()"
      ]
    },
    {
      "cell_type": "code",
      "execution_count": 10,
      "metadata": {
        "id": "Y2A8gEUfkBO1"
      },
      "outputs": [],
      "source": [
        "#ENCODING\n",
        "def dict_encoder(col, data=df):\n",
        "  unique_val = data[col].unique().tolist()\n",
        "  val_to_val_encoded = {x: i for i, x in enumerate(unique_val)}\n",
        "  val_encoded_to_val = {i: x for i, x in enumerate(unique_val)}\n",
        "  return val_to_val_encoded, val_encoded_to_val"
      ]
    },
    {
      "cell_type": "code",
      "execution_count": 11,
      "metadata": {
        "id": "am59S7y-kEc7"
      },
      "outputs": [],
      "source": [
        "user_to_user_encoded, user_encoded_to_user = dict_encoder('User_Id')\n",
        "df['user'] = df['User_Id'].map(user_to_user_encoded)"
      ]
    },
    {
      "cell_type": "code",
      "execution_count": 12,
      "metadata": {
        "id": "eQjVlgL7kJR1"
      },
      "outputs": [],
      "source": [
        "# Encoding Place_Id\n",
        "place_to_place_encoded, place_encoded_to_place = dict_encoder('Place_Id')\n",
        "\n",
        "# Mapping Place_Id ke dataframe place\n",
        "df['place'] = df['Place_Id'].map(place_to_place_encoded)"
      ]
    },
    {
      "cell_type": "code",
      "execution_count": 13,
      "metadata": {
        "id": "WnHUTDAHkLQt"
      },
      "outputs": [],
      "source": [
        "# Mendapatkan jumlah user dan hotel\n",
        "num_users, num_place = len(user_to_user_encoded), len(place_to_place_encoded)\n",
        "# mengubah nilai rating menjadi nilai float\n",
        "df['Place_Ratings'] = df['Place_Ratings'].values.astype(np.float32)\n",
        "# Mendapatkan nilai minimum dan maksimum rating\n",
        "min_rating, max_rating = min(df['Place_Ratings']), max(df['Place_Ratings'])"
      ]
    },
    {
      "cell_type": "code",
      "execution_count": 14,
      "metadata": {
        "colab": {
          "base_uri": "https://localhost:8080/"
        },
        "id": "0GoFMjOikPeh",
        "outputId": "717490ac-dc30-48b5-d5c1-d32fca2003da"
      },
      "outputs": [
        {
          "output_type": "stream",
          "name": "stdout",
          "text": [
            "Jumlah user : 300\n",
            "Jumlah kuliner : 39\n",
            "Rating minimum : 1.0\n",
            "Rating maximum : 5.0\n"
          ]
        }
      ],
      "source": [
        "print(f'Jumlah user : {num_users}')\n",
        "print(f'Jumlah kuliner : {num_place}')\n",
        "print(f'Rating minimum : {min_rating}')\n",
        "print(f'Rating maximum : {max_rating}')"
      ]
    },
    {
      "cell_type": "code",
      "execution_count": 15,
      "metadata": {
        "colab": {
          "base_uri": "https://localhost:8080/",
          "height": 206
        },
        "id": "LEh4cl9qkVCs",
        "outputId": "55399372-b632-4414-9aa8-2dab090638f1"
      },
      "outputs": [
        {
          "output_type": "execute_result",
          "data": {
            "text/plain": [
              "      User_Id  Place_Id  Place_Ratings  user  place\n",
              "6252      188        19            3.0   187     12\n",
              "4684      142        38            2.0   141     21\n",
              "1731       54        33            3.0    53     14\n",
              "4742      144         8            3.0   143     30\n",
              "4521      138        20            5.0   137     27"
            ],
            "text/html": [
              "\n",
              "  <div id=\"df-e510c460-c424-4ac0-be9e-7ab13615154d\">\n",
              "    <div class=\"colab-df-container\">\n",
              "      <div>\n",
              "<style scoped>\n",
              "    .dataframe tbody tr th:only-of-type {\n",
              "        vertical-align: middle;\n",
              "    }\n",
              "\n",
              "    .dataframe tbody tr th {\n",
              "        vertical-align: top;\n",
              "    }\n",
              "\n",
              "    .dataframe thead th {\n",
              "        text-align: right;\n",
              "    }\n",
              "</style>\n",
              "<table border=\"1\" class=\"dataframe\">\n",
              "  <thead>\n",
              "    <tr style=\"text-align: right;\">\n",
              "      <th></th>\n",
              "      <th>User_Id</th>\n",
              "      <th>Place_Id</th>\n",
              "      <th>Place_Ratings</th>\n",
              "      <th>user</th>\n",
              "      <th>place</th>\n",
              "    </tr>\n",
              "  </thead>\n",
              "  <tbody>\n",
              "    <tr>\n",
              "      <th>6252</th>\n",
              "      <td>188</td>\n",
              "      <td>19</td>\n",
              "      <td>3.0</td>\n",
              "      <td>187</td>\n",
              "      <td>12</td>\n",
              "    </tr>\n",
              "    <tr>\n",
              "      <th>4684</th>\n",
              "      <td>142</td>\n",
              "      <td>38</td>\n",
              "      <td>2.0</td>\n",
              "      <td>141</td>\n",
              "      <td>21</td>\n",
              "    </tr>\n",
              "    <tr>\n",
              "      <th>1731</th>\n",
              "      <td>54</td>\n",
              "      <td>33</td>\n",
              "      <td>3.0</td>\n",
              "      <td>53</td>\n",
              "      <td>14</td>\n",
              "    </tr>\n",
              "    <tr>\n",
              "      <th>4742</th>\n",
              "      <td>144</td>\n",
              "      <td>8</td>\n",
              "      <td>3.0</td>\n",
              "      <td>143</td>\n",
              "      <td>30</td>\n",
              "    </tr>\n",
              "    <tr>\n",
              "      <th>4521</th>\n",
              "      <td>138</td>\n",
              "      <td>20</td>\n",
              "      <td>5.0</td>\n",
              "      <td>137</td>\n",
              "      <td>27</td>\n",
              "    </tr>\n",
              "  </tbody>\n",
              "</table>\n",
              "</div>\n",
              "      <button class=\"colab-df-convert\" onclick=\"convertToInteractive('df-e510c460-c424-4ac0-be9e-7ab13615154d')\"\n",
              "              title=\"Convert this dataframe to an interactive table.\"\n",
              "              style=\"display:none;\">\n",
              "        \n",
              "  <svg xmlns=\"http://www.w3.org/2000/svg\" height=\"24px\"viewBox=\"0 0 24 24\"\n",
              "       width=\"24px\">\n",
              "    <path d=\"M0 0h24v24H0V0z\" fill=\"none\"/>\n",
              "    <path d=\"M18.56 5.44l.94 2.06.94-2.06 2.06-.94-2.06-.94-.94-2.06-.94 2.06-2.06.94zm-11 1L8.5 8.5l.94-2.06 2.06-.94-2.06-.94L8.5 2.5l-.94 2.06-2.06.94zm10 10l.94 2.06.94-2.06 2.06-.94-2.06-.94-.94-2.06-.94 2.06-2.06.94z\"/><path d=\"M17.41 7.96l-1.37-1.37c-.4-.4-.92-.59-1.43-.59-.52 0-1.04.2-1.43.59L10.3 9.45l-7.72 7.72c-.78.78-.78 2.05 0 2.83L4 21.41c.39.39.9.59 1.41.59.51 0 1.02-.2 1.41-.59l7.78-7.78 2.81-2.81c.8-.78.8-2.07 0-2.86zM5.41 20L4 18.59l7.72-7.72 1.47 1.35L5.41 20z\"/>\n",
              "  </svg>\n",
              "      </button>\n",
              "      \n",
              "  <style>\n",
              "    .colab-df-container {\n",
              "      display:flex;\n",
              "      flex-wrap:wrap;\n",
              "      gap: 12px;\n",
              "    }\n",
              "\n",
              "    .colab-df-convert {\n",
              "      background-color: #E8F0FE;\n",
              "      border: none;\n",
              "      border-radius: 50%;\n",
              "      cursor: pointer;\n",
              "      display: none;\n",
              "      fill: #1967D2;\n",
              "      height: 32px;\n",
              "      padding: 0 0 0 0;\n",
              "      width: 32px;\n",
              "    }\n",
              "\n",
              "    .colab-df-convert:hover {\n",
              "      background-color: #E2EBFA;\n",
              "      box-shadow: 0px 1px 2px rgba(60, 64, 67, 0.3), 0px 1px 3px 1px rgba(60, 64, 67, 0.15);\n",
              "      fill: #174EA6;\n",
              "    }\n",
              "\n",
              "    [theme=dark] .colab-df-convert {\n",
              "      background-color: #3B4455;\n",
              "      fill: #D2E3FC;\n",
              "    }\n",
              "\n",
              "    [theme=dark] .colab-df-convert:hover {\n",
              "      background-color: #434B5C;\n",
              "      box-shadow: 0px 1px 3px 1px rgba(0, 0, 0, 0.15);\n",
              "      filter: drop-shadow(0px 1px 2px rgba(0, 0, 0, 0.3));\n",
              "      fill: #FFFFFF;\n",
              "    }\n",
              "  </style>\n",
              "\n",
              "      <script>\n",
              "        const buttonEl =\n",
              "          document.querySelector('#df-e510c460-c424-4ac0-be9e-7ab13615154d button.colab-df-convert');\n",
              "        buttonEl.style.display =\n",
              "          google.colab.kernel.accessAllowed ? 'block' : 'none';\n",
              "\n",
              "        async function convertToInteractive(key) {\n",
              "          const element = document.querySelector('#df-e510c460-c424-4ac0-be9e-7ab13615154d');\n",
              "          const dataTable =\n",
              "            await google.colab.kernel.invokeFunction('convertToInteractive',\n",
              "                                                     [key], {});\n",
              "          if (!dataTable) return;\n",
              "\n",
              "          const docLinkHtml = 'Like what you see? Visit the ' +\n",
              "            '<a target=\"_blank\" href=https://colab.research.google.com/notebooks/data_table.ipynb>data table notebook</a>'\n",
              "            + ' to learn more about interactive tables.';\n",
              "          element.innerHTML = '';\n",
              "          dataTable['output_type'] = 'display_data';\n",
              "          await google.colab.output.renderOutput(dataTable, element);\n",
              "          const docLink = document.createElement('div');\n",
              "          docLink.innerHTML = docLinkHtml;\n",
              "          element.appendChild(docLink);\n",
              "        }\n",
              "      </script>\n",
              "    </div>\n",
              "  </div>\n",
              "  "
            ]
          },
          "metadata": {},
          "execution_count": 15
        }
      ],
      "source": [
        "# Mengacak dataset\n",
        "df = df.sample(frac=1, random_state=42)\n",
        "df.head()"
      ]
    },
    {
      "cell_type": "markdown",
      "metadata": {
        "id": "qa_3eNLukb7w"
      },
      "source": [
        "# Splitting Dataset"
      ]
    },
    {
      "cell_type": "code",
      "execution_count": 16,
      "metadata": {
        "colab": {
          "base_uri": "https://localhost:8080/"
        },
        "id": "HaAomUqQkd49",
        "outputId": "2c8696c3-93d2-4a06-f497-8cb7c44f8a74"
      },
      "outputs": [
        {
          "output_type": "stream",
          "name": "stdout",
          "text": [
            "x_train : (8000, 2)\n",
            "x_test : (2000, 2)\n",
            "y_train : (8000,)\n",
            "y_test : (2000,)\n"
          ]
        }
      ],
      "source": [
        "# Mambuat Variable x\n",
        "x = df[['user', 'place']].values\n",
        "# membuat Variable y\n",
        "y = df['Place_Ratings'].apply(lambda x: (x-min_rating)/(max_rating-min_rating)).values\n",
        "\n",
        "# split dataset\n",
        "indices = int(0.8*df.shape[0])\n",
        "x_train, x_test, y_train, y_test = (x[:indices],\n",
        "                                    x[indices:],\n",
        "                                    y[:indices],\n",
        "                                    y[indices:]\n",
        "                                    )\n",
        "print(f'x_train : {x_train.shape}')\n",
        "print(f'x_test : {x_test.shape}')\n",
        "print(f'y_train : {y_train.shape}')\n",
        "print(f'y_test : {y_test.shape}')"
      ]
    },
    {
      "cell_type": "code",
      "execution_count": 17,
      "metadata": {
        "id": "E2K4DOGpkivb"
      },
      "outputs": [],
      "source": [
        "class Recommended(keras.Model):\n",
        "  def __init__(self,num_users, num_places, embedding_size, **kwargs):\n",
        "    super(Recommended, self).__init__(**kwargs)\n",
        "    self.num_users = num_users\n",
        "    self.num_places = num_places\n",
        "    self.embedding_size = embedding_size\n",
        "    self.user_embedding = layers.Embedding(num_users,\n",
        "                                           embedding_size,\n",
        "                                           embeddings_initializer = 'he_normal',\n",
        "                                           embeddings_regularizer = keras.regularizers.l2(1e-6)\n",
        "    )\n",
        "    self.user_bias = layers.Embedding(num_users,1)\n",
        "    self.places_embedding = layers.Embedding(num_places,\n",
        "                                             embedding_size,\n",
        "                                             embeddings_initializer='he_normal',\n",
        "                                             embeddings_regularizer= keras.regularizers.l2(1e-6)\n",
        "                                             )\n",
        "    self.places_bias = layers.Embedding(num_places,1)\n",
        "\n",
        "  def call(self, inputs):\n",
        "    user_vec = self.user_embedding(inputs[:,0])\n",
        "    user_bias = self.user_bias(inputs[:,0])\n",
        "    places_vec = self.places_embedding(inputs[:,1])\n",
        "    places_bias = self.places_bias(inputs[:,1])\n",
        "\n",
        "    dot_user_places = tf.tensordot(user_vec, places_vec, 2)\n",
        "\n",
        "    x = dot_user_places + user_bias + places_bias\n",
        "\n",
        "    return tf.nn.sigmoid(x)\n"
      ]
    },
    {
      "cell_type": "code",
      "execution_count": 18,
      "metadata": {
        "id": "JiXUdNx6kmRB"
      },
      "outputs": [],
      "source": [
        "model = Recommended(num_users, num_place, 50)\n",
        "\n",
        "model.compile(loss = keras.losses.BinaryCrossentropy(),\n",
        "              optimizer= keras.optimizers.Adam(learning_rate=0.0004),\n",
        "              metrics=[keras.metrics.RootMeanSquaredError()]\n",
        "              )"
      ]
    },
    {
      "cell_type": "markdown",
      "metadata": {
        "id": "nRUMiWeVko_k"
      },
      "source": [
        "# training Model"
      ]
    },
    {
      "cell_type": "code",
      "execution_count": 19,
      "metadata": {
        "colab": {
          "base_uri": "https://localhost:8080/"
        },
        "id": "xROri4O9koRP",
        "outputId": "021bcbec-f624-4c6c-f68c-da78a7ce34a7"
      },
      "outputs": [
        {
          "output_type": "stream",
          "name": "stdout",
          "text": [
            "Epoch 1/100\n",
            "250/250 [==============================] - 2s 4ms/step - loss: 0.7530 - root_mean_squared_error: 0.3810 - val_loss: 0.7605 - val_root_mean_squared_error: 0.3841\n",
            "Epoch 2/100\n",
            "250/250 [==============================] - 1s 2ms/step - loss: 0.7490 - root_mean_squared_error: 0.3784 - val_loss: 0.7572 - val_root_mean_squared_error: 0.3825\n",
            "Epoch 3/100\n",
            "250/250 [==============================] - 1s 3ms/step - loss: 0.7482 - root_mean_squared_error: 0.3786 - val_loss: 0.7530 - val_root_mean_squared_error: 0.3805\n",
            "Epoch 4/100\n",
            "250/250 [==============================] - 1s 3ms/step - loss: 0.7427 - root_mean_squared_error: 0.3757 - val_loss: 0.7483 - val_root_mean_squared_error: 0.3780\n",
            "Epoch 5/100\n",
            "250/250 [==============================] - 1s 3ms/step - loss: 0.7425 - root_mean_squared_error: 0.3748 - val_loss: 0.7474 - val_root_mean_squared_error: 0.3775\n",
            "Epoch 6/100\n",
            "250/250 [==============================] - 1s 2ms/step - loss: 0.7323 - root_mean_squared_error: 0.3692 - val_loss: 0.7463 - val_root_mean_squared_error: 0.3769\n",
            "Epoch 7/100\n",
            "250/250 [==============================] - 1s 2ms/step - loss: 0.7311 - root_mean_squared_error: 0.3691 - val_loss: 0.7443 - val_root_mean_squared_error: 0.3760\n",
            "Epoch 8/100\n",
            "250/250 [==============================] - 1s 3ms/step - loss: 0.7314 - root_mean_squared_error: 0.3693 - val_loss: 0.7417 - val_root_mean_squared_error: 0.3749\n",
            "Epoch 9/100\n",
            "250/250 [==============================] - 1s 3ms/step - loss: 0.7304 - root_mean_squared_error: 0.3686 - val_loss: 0.7390 - val_root_mean_squared_error: 0.3734\n",
            "Epoch 10/100\n",
            "250/250 [==============================] - 1s 2ms/step - loss: 0.7267 - root_mean_squared_error: 0.3654 - val_loss: 0.7398 - val_root_mean_squared_error: 0.3738\n",
            "Epoch 11/100\n",
            "250/250 [==============================] - 1s 2ms/step - loss: 0.7176 - root_mean_squared_error: 0.3610 - val_loss: 0.7399 - val_root_mean_squared_error: 0.3739\n",
            "Epoch 12/100\n",
            "250/250 [==============================] - 1s 3ms/step - loss: 0.7179 - root_mean_squared_error: 0.3608 - val_loss: 0.7369 - val_root_mean_squared_error: 0.3722\n",
            "Epoch 13/100\n",
            "250/250 [==============================] - 1s 3ms/step - loss: 0.7171 - root_mean_squared_error: 0.3607 - val_loss: 0.7339 - val_root_mean_squared_error: 0.3705\n",
            "Epoch 14/100\n",
            "250/250 [==============================] - 1s 3ms/step - loss: 0.7116 - root_mean_squared_error: 0.3573 - val_loss: 0.7344 - val_root_mean_squared_error: 0.3707\n",
            "Epoch 15/100\n",
            "250/250 [==============================] - 1s 2ms/step - loss: 0.7121 - root_mean_squared_error: 0.3575 - val_loss: 0.7358 - val_root_mean_squared_error: 0.3714\n",
            "Epoch 16/100\n",
            "250/250 [==============================] - 1s 2ms/step - loss: 0.7120 - root_mean_squared_error: 0.3575 - val_loss: 0.7345 - val_root_mean_squared_error: 0.3707\n",
            "Epoch 17/100\n",
            "250/250 [==============================] - 1s 3ms/step - loss: 0.7120 - root_mean_squared_error: 0.3576 - val_loss: 0.7320 - val_root_mean_squared_error: 0.3693\n",
            "Epoch 18/100\n",
            "250/250 [==============================] - 1s 3ms/step - loss: 0.7056 - root_mean_squared_error: 0.3535 - val_loss: 0.7326 - val_root_mean_squared_error: 0.3696\n",
            "Epoch 19/100\n",
            "250/250 [==============================] - 1s 2ms/step - loss: 0.7056 - root_mean_squared_error: 0.3534 - val_loss: 0.7323 - val_root_mean_squared_error: 0.3696\n",
            "Epoch 20/100\n",
            "250/250 [==============================] - 1s 3ms/step - loss: 0.7020 - root_mean_squared_error: 0.3511 - val_loss: 0.7326 - val_root_mean_squared_error: 0.3695\n",
            "Epoch 21/100\n",
            "250/250 [==============================] - 1s 2ms/step - loss: 0.7039 - root_mean_squared_error: 0.3522 - val_loss: 0.7304 - val_root_mean_squared_error: 0.3683\n",
            "Epoch 22/100\n",
            "250/250 [==============================] - 1s 3ms/step - loss: 0.7011 - root_mean_squared_error: 0.3503 - val_loss: 0.7291 - val_root_mean_squared_error: 0.3674\n",
            "Epoch 23/100\n",
            "250/250 [==============================] - 1s 3ms/step - loss: 0.6993 - root_mean_squared_error: 0.3493 - val_loss: 0.7285 - val_root_mean_squared_error: 0.3670\n",
            "Epoch 24/100\n",
            "250/250 [==============================] - 1s 2ms/step - loss: 0.6985 - root_mean_squared_error: 0.3487 - val_loss: 0.7260 - val_root_mean_squared_error: 0.3654\n",
            "Epoch 25/100\n",
            "250/250 [==============================] - 1s 2ms/step - loss: 0.6991 - root_mean_squared_error: 0.3492 - val_loss: 0.7249 - val_root_mean_squared_error: 0.3648\n",
            "Epoch 26/100\n",
            "250/250 [==============================] - 1s 2ms/step - loss: 0.6983 - root_mean_squared_error: 0.3486 - val_loss: 0.7235 - val_root_mean_squared_error: 0.3640\n",
            "Epoch 27/100\n",
            "250/250 [==============================] - 1s 3ms/step - loss: 0.6999 - root_mean_squared_error: 0.3497 - val_loss: 0.7251 - val_root_mean_squared_error: 0.3650\n",
            "Epoch 28/100\n",
            "250/250 [==============================] - 1s 2ms/step - loss: 0.6957 - root_mean_squared_error: 0.3469 - val_loss: 0.7240 - val_root_mean_squared_error: 0.3643\n",
            "Epoch 29/100\n",
            "250/250 [==============================] - 1s 2ms/step - loss: 0.6929 - root_mean_squared_error: 0.3449 - val_loss: 0.7238 - val_root_mean_squared_error: 0.3641\n",
            "Epoch 30/100\n",
            "250/250 [==============================] - 1s 3ms/step - loss: 0.6940 - root_mean_squared_error: 0.3457 - val_loss: 0.7232 - val_root_mean_squared_error: 0.3638\n",
            "Epoch 31/100\n",
            "250/250 [==============================] - 1s 3ms/step - loss: 0.6897 - root_mean_squared_error: 0.3427 - val_loss: 0.7226 - val_root_mean_squared_error: 0.3635\n",
            "Epoch 32/100\n",
            "250/250 [==============================] - 1s 3ms/step - loss: 0.6933 - root_mean_squared_error: 0.3452 - val_loss: 0.7199 - val_root_mean_squared_error: 0.3618\n",
            "Epoch 33/100\n",
            "250/250 [==============================] - 1s 2ms/step - loss: 0.6890 - root_mean_squared_error: 0.3422 - val_loss: 0.7200 - val_root_mean_squared_error: 0.3619\n",
            "Epoch 34/100\n",
            "250/250 [==============================] - 1s 3ms/step - loss: 0.6912 - root_mean_squared_error: 0.3437 - val_loss: 0.7193 - val_root_mean_squared_error: 0.3615\n",
            "Epoch 35/100\n",
            "250/250 [==============================] - 1s 2ms/step - loss: 0.6896 - root_mean_squared_error: 0.3426 - val_loss: 0.7202 - val_root_mean_squared_error: 0.3619\n",
            "Epoch 36/100\n",
            "250/250 [==============================] - 1s 2ms/step - loss: 0.6876 - root_mean_squared_error: 0.3413 - val_loss: 0.7199 - val_root_mean_squared_error: 0.3617\n",
            "Epoch 37/100\n",
            "250/250 [==============================] - 1s 3ms/step - loss: 0.6870 - root_mean_squared_error: 0.3409 - val_loss: 0.7187 - val_root_mean_squared_error: 0.3608\n",
            "Epoch 38/100\n",
            "250/250 [==============================] - 1s 2ms/step - loss: 0.6871 - root_mean_squared_error: 0.3409 - val_loss: 0.7191 - val_root_mean_squared_error: 0.3612\n",
            "Epoch 39/100\n",
            "250/250 [==============================] - 1s 2ms/step - loss: 0.6879 - root_mean_squared_error: 0.3414 - val_loss: 0.7182 - val_root_mean_squared_error: 0.3605\n",
            "Epoch 40/100\n",
            "250/250 [==============================] - 1s 3ms/step - loss: 0.6877 - root_mean_squared_error: 0.3413 - val_loss: 0.7176 - val_root_mean_squared_error: 0.3603\n",
            "Epoch 41/100\n",
            "250/250 [==============================] - 1s 2ms/step - loss: 0.6900 - root_mean_squared_error: 0.3429 - val_loss: 0.7173 - val_root_mean_squared_error: 0.3604\n",
            "Epoch 42/100\n",
            "250/250 [==============================] - 1s 2ms/step - loss: 0.6888 - root_mean_squared_error: 0.3421 - val_loss: 0.7175 - val_root_mean_squared_error: 0.3607\n",
            "Epoch 43/100\n",
            "250/250 [==============================] - 1s 3ms/step - loss: 0.6881 - root_mean_squared_error: 0.3416 - val_loss: 0.7167 - val_root_mean_squared_error: 0.3601\n",
            "Epoch 44/100\n",
            "250/250 [==============================] - 1s 3ms/step - loss: 0.6863 - root_mean_squared_error: 0.3403 - val_loss: 0.7161 - val_root_mean_squared_error: 0.3598\n",
            "Epoch 45/100\n",
            "250/250 [==============================] - 1s 2ms/step - loss: 0.6870 - root_mean_squared_error: 0.3408 - val_loss: 0.7158 - val_root_mean_squared_error: 0.3597\n",
            "Epoch 46/100\n",
            "250/250 [==============================] - 1s 2ms/step - loss: 0.6856 - root_mean_squared_error: 0.3398 - val_loss: 0.7144 - val_root_mean_squared_error: 0.3588\n",
            "Epoch 47/100\n",
            "250/250 [==============================] - 1s 2ms/step - loss: 0.6840 - root_mean_squared_error: 0.3387 - val_loss: 0.7150 - val_root_mean_squared_error: 0.3592\n",
            "Epoch 48/100\n",
            "250/250 [==============================] - 1s 2ms/step - loss: 0.6865 - root_mean_squared_error: 0.3405 - val_loss: 0.7171 - val_root_mean_squared_error: 0.3605\n",
            "Epoch 49/100\n",
            "250/250 [==============================] - 1s 2ms/step - loss: 0.6853 - root_mean_squared_error: 0.3395 - val_loss: 0.7160 - val_root_mean_squared_error: 0.3598\n",
            "Epoch 50/100\n",
            "250/250 [==============================] - 1s 2ms/step - loss: 0.6845 - root_mean_squared_error: 0.3390 - val_loss: 0.7156 - val_root_mean_squared_error: 0.3596\n",
            "Epoch 51/100\n",
            "250/250 [==============================] - 1s 3ms/step - loss: 0.6831 - root_mean_squared_error: 0.3381 - val_loss: 0.7163 - val_root_mean_squared_error: 0.3599\n",
            "Epoch 52/100\n",
            "250/250 [==============================] - 1s 3ms/step - loss: 0.6851 - root_mean_squared_error: 0.3394 - val_loss: 0.7157 - val_root_mean_squared_error: 0.3595\n",
            "Epoch 53/100\n",
            "250/250 [==============================] - 1s 2ms/step - loss: 0.6848 - root_mean_squared_error: 0.3392 - val_loss: 0.7162 - val_root_mean_squared_error: 0.3597\n",
            "Epoch 54/100\n",
            "250/250 [==============================] - 1s 2ms/step - loss: 0.6843 - root_mean_squared_error: 0.3389 - val_loss: 0.7157 - val_root_mean_squared_error: 0.3595\n",
            "Epoch 55/100\n",
            "250/250 [==============================] - 1s 3ms/step - loss: 0.6848 - root_mean_squared_error: 0.3392 - val_loss: 0.7139 - val_root_mean_squared_error: 0.3585\n",
            "Epoch 56/100\n",
            "250/250 [==============================] - 1s 3ms/step - loss: 0.6842 - root_mean_squared_error: 0.3388 - val_loss: 0.7139 - val_root_mean_squared_error: 0.3586\n",
            "Epoch 57/100\n",
            "250/250 [==============================] - 1s 3ms/step - loss: 0.6825 - root_mean_squared_error: 0.3376 - val_loss: 0.7141 - val_root_mean_squared_error: 0.3587\n",
            "Epoch 58/100\n",
            "250/250 [==============================] - 1s 3ms/step - loss: 0.6821 - root_mean_squared_error: 0.3373 - val_loss: 0.7123 - val_root_mean_squared_error: 0.3576\n",
            "Epoch 59/100\n",
            "250/250 [==============================] - 1s 2ms/step - loss: 0.6823 - root_mean_squared_error: 0.3375 - val_loss: 0.7117 - val_root_mean_squared_error: 0.3572\n",
            "Epoch 60/100\n",
            "250/250 [==============================] - 1s 2ms/step - loss: 0.6849 - root_mean_squared_error: 0.3394 - val_loss: 0.7130 - val_root_mean_squared_error: 0.3580\n",
            "Epoch 61/100\n",
            "250/250 [==============================] - 1s 2ms/step - loss: 0.6820 - root_mean_squared_error: 0.3372 - val_loss: 0.7134 - val_root_mean_squared_error: 0.3582\n",
            "Epoch 62/100\n",
            "250/250 [==============================] - 1s 3ms/step - loss: 0.6821 - root_mean_squared_error: 0.3374 - val_loss: 0.7134 - val_root_mean_squared_error: 0.3583\n",
            "Epoch 63/100\n",
            "250/250 [==============================] - 1s 3ms/step - loss: 0.6829 - root_mean_squared_error: 0.3379 - val_loss: 0.7132 - val_root_mean_squared_error: 0.3582\n",
            "Epoch 64/100\n",
            "250/250 [==============================] - 1s 3ms/step - loss: 0.6826 - root_mean_squared_error: 0.3376 - val_loss: 0.7108 - val_root_mean_squared_error: 0.3567\n",
            "Epoch 65/100\n",
            "250/250 [==============================] - 1s 3ms/step - loss: 0.6826 - root_mean_squared_error: 0.3377 - val_loss: 0.7107 - val_root_mean_squared_error: 0.3566\n",
            "Epoch 66/100\n",
            "250/250 [==============================] - 1s 3ms/step - loss: 0.6805 - root_mean_squared_error: 0.3362 - val_loss: 0.7100 - val_root_mean_squared_error: 0.3562\n",
            "Epoch 67/100\n",
            "250/250 [==============================] - 1s 3ms/step - loss: 0.6820 - root_mean_squared_error: 0.3373 - val_loss: 0.7093 - val_root_mean_squared_error: 0.3558\n",
            "Epoch 68/100\n",
            "250/250 [==============================] - 1s 3ms/step - loss: 0.6808 - root_mean_squared_error: 0.3364 - val_loss: 0.7103 - val_root_mean_squared_error: 0.3563\n",
            "Epoch 69/100\n",
            "250/250 [==============================] - 1s 3ms/step - loss: 0.6827 - root_mean_squared_error: 0.3378 - val_loss: 0.7104 - val_root_mean_squared_error: 0.3565\n",
            "Epoch 70/100\n",
            "250/250 [==============================] - 1s 3ms/step - loss: 0.6826 - root_mean_squared_error: 0.3376 - val_loss: 0.7097 - val_root_mean_squared_error: 0.3560\n",
            "Epoch 71/100\n",
            "250/250 [==============================] - 1s 2ms/step - loss: 0.6829 - root_mean_squared_error: 0.3379 - val_loss: 0.7113 - val_root_mean_squared_error: 0.3570\n",
            "Epoch 72/100\n",
            "250/250 [==============================] - 1s 3ms/step - loss: 0.6831 - root_mean_squared_error: 0.3380 - val_loss: 0.7119 - val_root_mean_squared_error: 0.3574\n",
            "Epoch 73/100\n",
            "250/250 [==============================] - 1s 3ms/step - loss: 0.6794 - root_mean_squared_error: 0.3354 - val_loss: 0.7103 - val_root_mean_squared_error: 0.3564\n",
            "Epoch 74/100\n",
            "250/250 [==============================] - 1s 3ms/step - loss: 0.6796 - root_mean_squared_error: 0.3355 - val_loss: 0.7118 - val_root_mean_squared_error: 0.3574\n",
            "Epoch 75/100\n",
            "250/250 [==============================] - 1s 3ms/step - loss: 0.6806 - root_mean_squared_error: 0.3363 - val_loss: 0.7120 - val_root_mean_squared_error: 0.3575\n",
            "Epoch 76/100\n",
            "250/250 [==============================] - 1s 2ms/step - loss: 0.6809 - root_mean_squared_error: 0.3365 - val_loss: 0.7109 - val_root_mean_squared_error: 0.3568\n",
            "Epoch 77/100\n",
            "250/250 [==============================] - 1s 2ms/step - loss: 0.6802 - root_mean_squared_error: 0.3359 - val_loss: 0.7121 - val_root_mean_squared_error: 0.3576\n",
            "Epoch 78/100\n",
            "250/250 [==============================] - 1s 3ms/step - loss: 0.6808 - root_mean_squared_error: 0.3364 - val_loss: 0.7108 - val_root_mean_squared_error: 0.3568\n",
            "Epoch 79/100\n",
            "250/250 [==============================] - 1s 3ms/step - loss: 0.6817 - root_mean_squared_error: 0.3370 - val_loss: 0.7101 - val_root_mean_squared_error: 0.3564\n",
            "Epoch 80/100\n",
            "250/250 [==============================] - 1s 2ms/step - loss: 0.6808 - root_mean_squared_error: 0.3364 - val_loss: 0.7095 - val_root_mean_squared_error: 0.3560\n",
            "Epoch 81/100\n",
            "250/250 [==============================] - 1s 3ms/step - loss: 0.6810 - root_mean_squared_error: 0.3366 - val_loss: 0.7099 - val_root_mean_squared_error: 0.3562\n",
            "Epoch 82/100\n",
            "250/250 [==============================] - 1s 2ms/step - loss: 0.6792 - root_mean_squared_error: 0.3352 - val_loss: 0.7109 - val_root_mean_squared_error: 0.3568\n",
            "Epoch 83/100\n",
            "250/250 [==============================] - 1s 3ms/step - loss: 0.6809 - root_mean_squared_error: 0.3365 - val_loss: 0.7100 - val_root_mean_squared_error: 0.3562\n",
            "Epoch 84/100\n",
            "250/250 [==============================] - 1s 3ms/step - loss: 0.6798 - root_mean_squared_error: 0.3356 - val_loss: 0.7093 - val_root_mean_squared_error: 0.3558\n",
            "Epoch 85/100\n",
            "250/250 [==============================] - 1s 3ms/step - loss: 0.6805 - root_mean_squared_error: 0.3361 - val_loss: 0.7078 - val_root_mean_squared_error: 0.3548\n",
            "Epoch 86/100\n",
            "250/250 [==============================] - 1s 2ms/step - loss: 0.6808 - root_mean_squared_error: 0.3364 - val_loss: 0.7083 - val_root_mean_squared_error: 0.3552\n",
            "Epoch 87/100\n",
            "250/250 [==============================] - 1s 3ms/step - loss: 0.6813 - root_mean_squared_error: 0.3367 - val_loss: 0.7097 - val_root_mean_squared_error: 0.3560\n",
            "Epoch 88/100\n",
            "250/250 [==============================] - 1s 3ms/step - loss: 0.6793 - root_mean_squared_error: 0.3353 - val_loss: 0.7096 - val_root_mean_squared_error: 0.3560\n",
            "Epoch 89/100\n",
            "250/250 [==============================] - 1s 2ms/step - loss: 0.6789 - root_mean_squared_error: 0.3350 - val_loss: 0.7102 - val_root_mean_squared_error: 0.3564\n",
            "Epoch 90/100\n",
            "250/250 [==============================] - 1s 3ms/step - loss: 0.6802 - root_mean_squared_error: 0.3360 - val_loss: 0.7107 - val_root_mean_squared_error: 0.3568\n",
            "Epoch 91/100\n",
            "250/250 [==============================] - 1s 2ms/step - loss: 0.6800 - root_mean_squared_error: 0.3358 - val_loss: 0.7102 - val_root_mean_squared_error: 0.3564\n",
            "Epoch 92/100\n",
            "250/250 [==============================] - 1s 2ms/step - loss: 0.6792 - root_mean_squared_error: 0.3352 - val_loss: 0.7107 - val_root_mean_squared_error: 0.3567\n",
            "Epoch 93/100\n",
            "250/250 [==============================] - 1s 3ms/step - loss: 0.6805 - root_mean_squared_error: 0.3362 - val_loss: 0.7108 - val_root_mean_squared_error: 0.3567\n",
            "Epoch 94/100\n",
            "250/250 [==============================] - 1s 3ms/step - loss: 0.6801 - root_mean_squared_error: 0.3359 - val_loss: 0.7118 - val_root_mean_squared_error: 0.3574\n",
            "Epoch 95/100\n",
            "250/250 [==============================] - 1s 2ms/step - loss: 0.6791 - root_mean_squared_error: 0.3351 - val_loss: 0.7118 - val_root_mean_squared_error: 0.3574\n",
            "Epoch 96/100\n",
            "250/250 [==============================] - 1s 2ms/step - loss: 0.6804 - root_mean_squared_error: 0.3361 - val_loss: 0.7116 - val_root_mean_squared_error: 0.3572\n",
            "Epoch 97/100\n",
            "250/250 [==============================] - 1s 2ms/step - loss: 0.6804 - root_mean_squared_error: 0.3361 - val_loss: 0.7119 - val_root_mean_squared_error: 0.3575\n",
            "Epoch 98/100\n",
            "250/250 [==============================] - 1s 2ms/step - loss: 0.6794 - root_mean_squared_error: 0.3354 - val_loss: 0.7126 - val_root_mean_squared_error: 0.3579\n",
            "Epoch 99/100\n",
            "250/250 [==============================] - 1s 6ms/step - loss: 0.6799 - root_mean_squared_error: 0.3357 - val_loss: 0.7124 - val_root_mean_squared_error: 0.3578\n",
            "Epoch 100/100\n",
            "250/250 [==============================] - 1s 2ms/step - loss: 0.6787 - root_mean_squared_error: 0.3349 - val_loss: 0.7125 - val_root_mean_squared_error: 0.3578\n"
          ]
        }
      ],
      "source": [
        "history = model.fit(\n",
        "    x = x_train,\n",
        "    y = y_train,\n",
        "    epochs = 100,\n",
        "    validation_data = (x_test, y_test)\n",
        ")"
      ]
    },
    {
      "cell_type": "markdown",
      "metadata": {
        "id": "czip3luik9Jk"
      },
      "source": [
        "# Evaluasi Model"
      ]
    },
    {
      "cell_type": "code",
      "execution_count": 20,
      "metadata": {
        "colab": {
          "base_uri": "https://localhost:8080/"
        },
        "id": "ipI2DcfYk8c8",
        "outputId": "da095fb1-e35d-4e45-defd-f0ca198cc98f"
      },
      "outputs": [
        {
          "output_type": "stream",
          "name": "stdout",
          "text": [
            "63/63 [==============================] - 0s 1ms/step - loss: 0.7125 - root_mean_squared_error: 0.3578\n"
          ]
        },
        {
          "output_type": "execute_result",
          "data": {
            "text/plain": [
              "[0.7124943733215332, 0.3578300178050995]"
            ]
          },
          "metadata": {},
          "execution_count": 20
        }
      ],
      "source": [
        "model.evaluate(x=x_test, y=y_test)"
      ]
    },
    {
      "cell_type": "code",
      "execution_count": 21,
      "metadata": {
        "colab": {
          "base_uri": "https://localhost:8080/",
          "height": 295
        },
        "id": "rzwPRh8ZlDan",
        "outputId": "29b53c93-2059-4f76-bcce-1ccf5522b05f"
      },
      "outputs": [
        {
          "output_type": "display_data",
          "data": {
            "text/plain": [
              "<Figure size 432x288 with 1 Axes>"
            ],
            "image/png": "[encoded data removed]"
          },
          "metadata": {
            "needs_background": "light"
          }
        }
      ],
      "source": [
        "import matplotlib.pyplot as plt\n",
        "\n",
        "plt.plot(history.history['root_mean_squared_error'])\n",
        "plt.plot(history.history['val_root_mean_squared_error'])\n",
        "plt.title('model_metrics')\n",
        "plt.ylabel('root_mean_squared_error')\n",
        "plt.xlabel('epoch')\n",
        "plt.ylim(ymin=0, ymax=0.4)\n",
        "plt.legend(['train', 'test'], loc='center left')\n",
        "plt.show()"
      ]
    },
    {
      "cell_type": "markdown",
      "metadata": {
        "id": "JFBegpn4lHir"
      },
      "source": [
        "# Penerapan Model"
      ]
    },
    {
      "cell_type": "code",
      "execution_count": 22,
      "metadata": {
        "colab": {
          "base_uri": "https://localhost:8080/"
        },
        "id": "CdU-54iNlHOz",
        "outputId": "d86da7cc-1328-4614-e4e5-0f4607c1b0f9"
      },
      "outputs": [
        {
          "output_type": "execute_result",
          "data": {
            "text/plain": [
              "Index(['Place_Id', 'Kuliner_Name', 'Description', 'Category', 'alamat', 'City',\n",
              "       'Rating', 'Coordinate', 'Lat', 'Long', 'Price', 'Images'],\n",
              "      dtype='object')"
            ]
          },
          "metadata": {},
          "execution_count": 22
        }
      ],
      "source": [
        "kuliner.columns"
      ]
    },
    {
      "cell_type": "code",
      "execution_count": 23,
      "metadata": {
        "id": "lMfjsRSzlOHR"
      },
      "outputs": [],
      "source": [
        "place_df = kuliner[['Place_Id', 'Kuliner_Name', 'Description', 'Category', 'alamat', 'City',\n",
        "       'Rating', 'Coordinate', 'Lat', 'Long', 'Price', 'Images']]\n",
        "place_df.columns = ['Place_Id', 'Kuliner_Name', 'Description', 'Category', 'alamat', 'City',\n",
        "       'Rating', 'Coordinate', 'Lat', 'Long', 'Price', 'Images']\n",
        "df = rating.copy()"
      ]
    },
    {
      "cell_type": "code",
      "execution_count": 24,
      "metadata": {
        "id": "c9w34r00lmN0"
      },
      "outputs": [],
      "source": [
        "# Mengambil sample user\n",
        "user_id = df.User_Id.sample(1).iloc[0]\n",
        "place_visited_by_user = df[df.User_Id == user_id]"
      ]
    },
    {
      "cell_type": "code",
      "execution_count": 25,
      "metadata": {
        "id": "KTkz9LKgloKK"
      },
      "outputs": [],
      "source": [
        "# Membuat data lokasi yang belum dikunjungi user\n",
        "place_not_visited = place_df[~place_df['Place_Id'].isin(place_visited_by_user.Place_Id.values)]['Place_Id'] \n",
        "place_not_visited = list(\n",
        "    set(place_not_visited).intersection(set(place_to_place_encoded.keys()))\n",
        ")\n",
        " \n",
        "place_not_visited = [[place_to_place_encoded.get(x)] for x in place_not_visited]\n",
        "user_encoder = user_to_user_encoded.get(user_id)\n",
        "user_place_array = np.hstack(\n",
        "    ([[user_encoder]] * len(place_not_visited), place_not_visited)\n",
        ")"
      ]
    },
    {
      "cell_type": "code",
      "execution_count": 26,
      "metadata": {
        "colab": {
          "base_uri": "https://localhost:8080/"
        },
        "id": "5VeNUi5QltQe",
        "outputId": "00b5e24e-ba45-4379-8274-b3d94ac77882"
      },
      "outputs": [
        {
          "output_type": "stream",
          "name": "stdout",
          "text": [
            "\n",
            "------------------------------------------------------------\n",
            "Top 5 place recommendation\n",
            "------------------------------------------------------------\n",
            "1 . Kuliner Gudeg Pecel Pasar Beringharjo Bu Yamtini \n",
            "     Jl. Margo Mulyo Jl. Jend. Ahmad Yani, Ngupasan, Kec. Gondomanan, Kota Yogyakarta, Daerah Istimewa Yogyakarta 55122 , titik koordinat  {'lat': -7.79871615565743, 'lng': 110.364959159926} , Rating Wisata  4.2 \n",
            "\n",
            "2 . Pusat Kuliner Leyeh Leyeh \n",
            "     Jl. P. Mangkubumi No.10, Cokrodiningratan, Kec. Jetis, Kota Yogyakarta, Daerah Istimewa Yogyakarta 55233 , titik koordinat  {'lat': -7.78213066768978, 'lng': 110.367302326738} , Rating Wisata  4.5 \n",
            "\n",
            "3 . Sego Koyor Bu Parman \n",
            "     Jl. Brigjen Katamso No.111, Prawirodirjan, Kec. Gondomanan, Kota Yogyakarta, Daerah Istimewa Yogyakarta 55121 , titik koordinat  {'lat': -7.80777001974405, 'lng': 110.369266598691} , Rating Wisata  4.5 \n",
            "\n",
            "4 . Sate Kere Pasar Beringharjo Mbah Suwarni \n",
            "     Jl. Pabringan No.16, Ngupasan, Kec. Gondomanan, Kota Yogyakarta, Daerah Istimewa Yogyakarta 55122 , titik koordinat  {'lat': -7.79910435520786, 'lng': 110.365954853344} , Rating Wisata  4.4 \n",
            "\n",
            "5 . Mie Ayam Bu Tumini Sari Rasa Jati Ayu \n",
            "     Jl. Imogiri Tim. No.187, Giwangan, Kec. Umbulharjo, Kota Yogyakarta, Daerah Istimewa Yogyakarta 55163 , titik koordinat  {'lat': -7.83377252757425, 'lng': 110.390716786114} , Rating Wisata  4.5 \n",
            "\n",
            "=============================================\n"
          ]
        }
      ],
      "source": [
        "# Mengambil top 5 recommendation\n",
        "ratings = model.predict(user_place_array).flatten()\n",
        "top_ratings_indices = ratings.argsort()[-5:][::-1]\n",
        "recommended_place_ids = [\n",
        "    place_encoded_to_place.get(place_not_visited[x][0]) for x in top_ratings_indices\n",
        "]\n",
        " \n",
        "\n",
        "print('')\n",
        "print('----' * 15)\n",
        "print('Top 5 place recommendation')\n",
        "print('----' * 15)\n",
        " \n",
        "recommended_place = place_df[place_df['Place_Id'].isin(recommended_place_ids)]\n",
        "for row, i in zip(recommended_place.itertuples(), range(1,8)):\n",
        "    print(i,'.', row.Kuliner_Name, '\\n    ', row.alamat, ',', 'titik koordinat ', row.Coordinate, ',', 'Rating Wisata ', row.Rating,'\\n')\n",
        "\n",
        "print('==='*15)"
      ]
    },
    {
      "cell_type": "markdown",
      "metadata": {
        "id": "AhUrnLEPmNEF"
      },
      "source": [
        "# Save Model"
      ]
    },
    {
      "cell_type": "code",
      "execution_count": 27,
      "metadata": {
        "id": "X2CsLQlNkQox"
      },
      "outputs": [],
      "source": [
        "model.save_weights('./model_kuliner_bali/my_checkpoint')"
      ]
    },
    {
      "cell_type": "markdown",
      "source": [
        "# load model"
      ],
      "metadata": {
        "id": "Pq0BfAAYsxSq"
      }
    },
    {
      "cell_type": "code",
      "execution_count": 28,
      "metadata": {
        "colab": {
          "base_uri": "https://localhost:8080/"
        },
        "id": "j0Y2p2RTklYO",
        "outputId": "87f60069-9279-4955-8db5-e2fa7fb6b15e"
      },
      "outputs": [
        {
          "output_type": "execute_result",
          "data": {
            "text/plain": [
              "<tensorflow.python.training.tracking.util.CheckpointLoadStatus at 0x7f01010832d0>"
            ]
          },
          "metadata": {},
          "execution_count": 28
        }
      ],
      "source": [
        "model_load = Recommended(num_users, num_place, 50)\n",
        "model_load.compile(\n",
        "    loss = tf.keras.losses.BinaryCrossentropy(),\n",
        "    optimizer = keras.optimizers.Adam(learning_rate=0.0004),\n",
        "    metrics=[tf.keras.metrics.RootMeanSquaredError()]\n",
        ")\n",
        "model_load.load_weights('./model_kuliner_bali/my_checkpoint')"
      ]
    }
  ],
  "metadata": {
    "colab": {
      "collapsed_sections": [],
      "name": "system_recomendation_kuliner_jogja.ipynb",
      "provenance": []
    },
    "kernelspec": {
      "display_name": "Python 3 (ipykernel)",
      "language": "python",
      "name": "python3"
    },
    "language_info": {
      "codemirror_mode": {
        "name": "ipython",
        "version": 3
      },
      "file_extension": ".py",
      "mimetype": "text/x-python",
      "name": "python",
      "nbconvert_exporter": "python",
      "pygments_lexer": "ipython3",
      "version": "3.8.10"
    }
  },
  "nbformat": 4,
  "nbformat_minor": 0
}