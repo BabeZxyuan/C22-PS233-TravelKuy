{
  "nbformat": 4,
  "nbformat_minor": 0,
  "metadata": {
    "colab": {
      "name": "system_recomendation_kuliner_bali.ipynb",
      "provenance": [],
      "collapsed_sections": []
    },
    "kernelspec": {
      "name": "python3",
      "display_name": "Python 3"
    },
    "language_info": {
      "name": "python"
    }
  },
  "cells": [
    {
      "cell_type": "markdown",
      "source": [
        "# Import Package"
      ],
      "metadata": {
        "id": "H4dHySlIgs9p"
      }
    },
    {
      "cell_type": "code",
      "source": [
        "import numpy as np\n",
        "import pandas as pd \n",
        "\n",
        "import tensorflow as tf\n",
        "from tensorflow import keras\n",
        "from tensorflow.keras import layers\n",
        "import pickle"
      ],
      "metadata": {
        "id": "UEw3gFdFgvR9"
      },
      "execution_count": 1,
      "outputs": []
    },
    {
      "cell_type": "code",
      "source": [
        "print(f'''\n",
        "{np.__version__},\n",
        "{pd.__version__},\n",
        "{tf.__version__}''')"
      ],
      "metadata": {
        "colab": {
          "base_uri": "https://localhost:8080/"
        },
        "id": "t4jpyklMTvVQ",
        "outputId": "fe494642-f467-444a-935f-776b85d3954b"
      },
      "execution_count": 2,
      "outputs": [
        {
          "output_type": "stream",
          "name": "stdout",
          "text": [
            "\n",
            "1.21.6,\n",
            "1.3.5,\n",
            "2.8.2\n"
          ]
        }
      ]
    },
    {
      "cell_type": "code",
      "source": [
        "!python --version"
      ],
      "metadata": {
        "colab": {
          "base_uri": "https://localhost:8080/"
        },
        "id": "UU1lEoQYVBYt",
        "outputId": "8ec66fdd-9d10-4f28-ea1f-b1489dcee38e"
      },
      "execution_count": 3,
      "outputs": [
        {
          "output_type": "stream",
          "name": "stdout",
          "text": [
            "Python 3.7.13\n"
          ]
        }
      ]
    },
    {
      "cell_type": "markdown",
      "source": [
        "# Import Dataset"
      ],
      "metadata": {
        "id": "VVF4rN5cgzPr"
      }
    },
    {
      "cell_type": "code",
      "source": [
        "rating = pd.read_csv('/content/kuliner_rating.csv')\n",
        "kuliner = pd.read_csv('/content/Kuliner_dataset_bali.csv')\n",
        "user = pd.read_csv('/content/user.csv')"
      ],
      "metadata": {
        "id": "doIruLZpgxrz"
      },
      "execution_count": 7,
      "outputs": []
    },
    {
      "cell_type": "code",
      "source": [
        "# melihat ukuran data\n",
        "print(f'rating : {rating.shape}')\n",
        "print(f'kuliner : {kuliner.shape}')\n",
        "print(f'user : {user.shape}')"
      ],
      "metadata": {
        "colab": {
          "base_uri": "https://localhost:8080/"
        },
        "id": "9aXx38a0hWeM",
        "outputId": "100b1b8e-06d5-456f-9892-849b6cf27e78"
      },
      "execution_count": 8,
      "outputs": [
        {
          "output_type": "stream",
          "name": "stdout",
          "text": [
            "rating : (10000, 3)\n",
            "kuliner : (50, 8)\n",
            "user : (300, 3)\n"
          ]
        }
      ]
    },
    {
      "cell_type": "markdown",
      "source": [
        "# Persiapan Dataset"
      ],
      "metadata": {
        "id": "To3P2Wgmjz88"
      }
    },
    {
      "cell_type": "code",
      "source": [
        "rating.head()"
      ],
      "metadata": {
        "colab": {
          "base_uri": "https://localhost:8080/",
          "height": 206
        },
        "id": "UXfR_jLyj11O",
        "outputId": "11a14aac-4460-4bcd-ded6-9747c7de0793"
      },
      "execution_count": 9,
      "outputs": [
        {
          "output_type": "execute_result",
          "data": {
            "text/plain": [
              "   User_Id  Place_Id  Place_Ratings\n",
              "0        1        13              3\n",
              "1        1        15              2\n",
              "2        1        21              5\n",
              "3        1        12              3\n",
              "4        1        23              4"
            ],
            "text/html": [
              "\n",
              "  <div id=\"df-e13bcfd6-6664-4b5c-9335-7f3016b88593\">\n",
              "    <div class=\"colab-df-container\">\n",
              "      <div>\n",
              "<style scoped>\n",
              "    .dataframe tbody tr th:only-of-type {\n",
              "        vertical-align: middle;\n",
              "    }\n",
              "\n",
              "    .dataframe tbody tr th {\n",
              "        vertical-align: top;\n",
              "    }\n",
              "\n",
              "    .dataframe thead th {\n",
              "        text-align: right;\n",
              "    }\n",
              "</style>\n",
              "<table border=\"1\" class=\"dataframe\">\n",
              "  <thead>\n",
              "    <tr style=\"text-align: right;\">\n",
              "      <th></th>\n",
              "      <th>User_Id</th>\n",
              "      <th>Place_Id</th>\n",
              "      <th>Place_Ratings</th>\n",
              "    </tr>\n",
              "  </thead>\n",
              "  <tbody>\n",
              "    <tr>\n",
              "      <th>0</th>\n",
              "      <td>1</td>\n",
              "      <td>13</td>\n",
              "      <td>3</td>\n",
              "    </tr>\n",
              "    <tr>\n",
              "      <th>1</th>\n",
              "      <td>1</td>\n",
              "      <td>15</td>\n",
              "      <td>2</td>\n",
              "    </tr>\n",
              "    <tr>\n",
              "      <th>2</th>\n",
              "      <td>1</td>\n",
              "      <td>21</td>\n",
              "      <td>5</td>\n",
              "    </tr>\n",
              "    <tr>\n",
              "      <th>3</th>\n",
              "      <td>1</td>\n",
              "      <td>12</td>\n",
              "      <td>3</td>\n",
              "    </tr>\n",
              "    <tr>\n",
              "      <th>4</th>\n",
              "      <td>1</td>\n",
              "      <td>23</td>\n",
              "      <td>4</td>\n",
              "    </tr>\n",
              "  </tbody>\n",
              "</table>\n",
              "</div>\n",
              "      <button class=\"colab-df-convert\" onclick=\"convertToInteractive('df-e13bcfd6-6664-4b5c-9335-7f3016b88593')\"\n",
              "              title=\"Convert this dataframe to an interactive table.\"\n",
              "              style=\"display:none;\">\n",
              "        \n",
              "  <svg xmlns=\"http://www.w3.org/2000/svg\" height=\"24px\"viewBox=\"0 0 24 24\"\n",
              "       width=\"24px\">\n",
              "    <path d=\"M0 0h24v24H0V0z\" fill=\"none\"/>\n",
              "    <path d=\"M18.56 5.44l.94 2.06.94-2.06 2.06-.94-2.06-.94-.94-2.06-.94 2.06-2.06.94zm-11 1L8.5 8.5l.94-2.06 2.06-.94-2.06-.94L8.5 2.5l-.94 2.06-2.06.94zm10 10l.94 2.06.94-2.06 2.06-.94-2.06-.94-.94-2.06-.94 2.06-2.06.94z\"/><path d=\"M17.41 7.96l-1.37-1.37c-.4-.4-.92-.59-1.43-.59-.52 0-1.04.2-1.43.59L10.3 9.45l-7.72 7.72c-.78.78-.78 2.05 0 2.83L4 21.41c.39.39.9.59 1.41.59.51 0 1.02-.2 1.41-.59l7.78-7.78 2.81-2.81c.8-.78.8-2.07 0-2.86zM5.41 20L4 18.59l7.72-7.72 1.47 1.35L5.41 20z\"/>\n",
              "  </svg>\n",
              "      </button>\n",
              "      \n",
              "  <style>\n",
              "    .colab-df-container {\n",
              "      display:flex;\n",
              "      flex-wrap:wrap;\n",
              "      gap: 12px;\n",
              "    }\n",
              "\n",
              "    .colab-df-convert {\n",
              "      background-color: #E8F0FE;\n",
              "      border: none;\n",
              "      border-radius: 50%;\n",
              "      cursor: pointer;\n",
              "      display: none;\n",
              "      fill: #1967D2;\n",
              "      height: 32px;\n",
              "      padding: 0 0 0 0;\n",
              "      width: 32px;\n",
              "    }\n",
              "\n",
              "    .colab-df-convert:hover {\n",
              "      background-color: #E2EBFA;\n",
              "      box-shadow: 0px 1px 2px rgba(60, 64, 67, 0.3), 0px 1px 3px 1px rgba(60, 64, 67, 0.15);\n",
              "      fill: #174EA6;\n",
              "    }\n",
              "\n",
              "    [theme=dark] .colab-df-convert {\n",
              "      background-color: #3B4455;\n",
              "      fill: #D2E3FC;\n",
              "    }\n",
              "\n",
              "    [theme=dark] .colab-df-convert:hover {\n",
              "      background-color: #434B5C;\n",
              "      box-shadow: 0px 1px 3px 1px rgba(0, 0, 0, 0.15);\n",
              "      filter: drop-shadow(0px 1px 2px rgba(0, 0, 0, 0.3));\n",
              "      fill: #FFFFFF;\n",
              "    }\n",
              "  </style>\n",
              "\n",
              "      <script>\n",
              "        const buttonEl =\n",
              "          document.querySelector('#df-e13bcfd6-6664-4b5c-9335-7f3016b88593 button.colab-df-convert');\n",
              "        buttonEl.style.display =\n",
              "          google.colab.kernel.accessAllowed ? 'block' : 'none';\n",
              "\n",
              "        async function convertToInteractive(key) {\n",
              "          const element = document.querySelector('#df-e13bcfd6-6664-4b5c-9335-7f3016b88593');\n",
              "          const dataTable =\n",
              "            await google.colab.kernel.invokeFunction('convertToInteractive',\n",
              "                                                     [key], {});\n",
              "          if (!dataTable) return;\n",
              "\n",
              "          const docLinkHtml = 'Like what you see? Visit the ' +\n",
              "            '<a target=\"_blank\" href=https://colab.research.google.com/notebooks/data_table.ipynb>data table notebook</a>'\n",
              "            + ' to learn more about interactive tables.';\n",
              "          element.innerHTML = '';\n",
              "          dataTable['output_type'] = 'display_data';\n",
              "          await google.colab.output.renderOutput(dataTable, element);\n",
              "          const docLink = document.createElement('div');\n",
              "          docLink.innerHTML = docLinkHtml;\n",
              "          element.appendChild(docLink);\n",
              "        }\n",
              "      </script>\n",
              "    </div>\n",
              "  </div>\n",
              "  "
            ]
          },
          "metadata": {},
          "execution_count": 9
        }
      ]
    },
    {
      "cell_type": "code",
      "source": [
        "df = rating.copy()"
      ],
      "metadata": {
        "id": "faQmImEHj7lr"
      },
      "execution_count": 10,
      "outputs": []
    },
    {
      "cell_type": "code",
      "source": [
        "#ENCODING\n",
        "def dict_encoder(col, data=df):\n",
        "  unique_val = data[col].unique().tolist()\n",
        "  val_to_val_encoded = {x: i for i, x in enumerate(unique_val)}\n",
        "  val_encoded_to_val = {i: x for i, x in enumerate(unique_val)}\n",
        "  return val_to_val_encoded, val_encoded_to_val"
      ],
      "metadata": {
        "id": "Y2A8gEUfkBO1"
      },
      "execution_count": 11,
      "outputs": []
    },
    {
      "cell_type": "code",
      "source": [
        "user_to_user_encoded, user_encoded_to_user = dict_encoder('User_Id')\n",
        "df['user'] = df['User_Id'].map(user_to_user_encoded)"
      ],
      "metadata": {
        "id": "am59S7y-kEc7"
      },
      "execution_count": 12,
      "outputs": []
    },
    {
      "cell_type": "code",
      "source": [
        "# Encoding Place_Id\n",
        "place_to_place_encoded, place_encoded_to_place = dict_encoder('Place_Id')\n",
        "\n",
        "# Mapping Place_Id ke dataframe place\n",
        "df['place'] = df['Place_Id'].map(place_to_place_encoded)"
      ],
      "metadata": {
        "id": "eQjVlgL7kJR1"
      },
      "execution_count": 13,
      "outputs": []
    },
    {
      "cell_type": "code",
      "source": [
        "# Mendapatkan jumlah user dan hotel\n",
        "num_users, num_place = len(user_to_user_encoded), len(place_to_place_encoded)\n",
        "# mengubah nilai rating menjadi nilai float\n",
        "df['Place_Ratings'] = df['Place_Ratings'].values.astype(np.float32)\n",
        "# Mendapatkan nilai minimum dan maksimum rating\n",
        "min_rating, max_rating = min(df['Place_Ratings']), max(df['Place_Ratings'])"
      ],
      "metadata": {
        "id": "WnHUTDAHkLQt"
      },
      "execution_count": 14,
      "outputs": []
    },
    {
      "cell_type": "code",
      "source": [
        "print(f'Jumlah user : {num_users}')\n",
        "print(f'Jumlah kuliner : {num_place}')\n",
        "print(f'Rating minimum : {min_rating}')\n",
        "print(f'Rating maximum : {max_rating}')"
      ],
      "metadata": {
        "colab": {
          "base_uri": "https://localhost:8080/"
        },
        "id": "0GoFMjOikPeh",
        "outputId": "bc32bdb2-05db-496a-8a2f-e22999ea0bc3"
      },
      "execution_count": 16,
      "outputs": [
        {
          "output_type": "stream",
          "name": "stdout",
          "text": [
            "Jumlah user : 300\n",
            "Jumlah kuliner : 49\n",
            "Rating minimum : 1.0\n",
            "Rating maximum : 5.0\n"
          ]
        }
      ]
    },
    {
      "cell_type": "code",
      "source": [
        "# Mengacak dataset\n",
        "df = df.sample(frac=1, random_state=42)\n",
        "df.head()"
      ],
      "metadata": {
        "colab": {
          "base_uri": "https://localhost:8080/",
          "height": 206
        },
        "id": "LEh4cl9qkVCs",
        "outputId": "e4f50e98-627c-457b-a04e-b125a39dd6c4"
      },
      "execution_count": 15,
      "outputs": [
        {
          "output_type": "execute_result",
          "data": {
            "text/plain": [
              "      User_Id  Place_Id  Place_Ratings  user  place\n",
              "6252      188        16            3.0   187     16\n",
              "4684      142         4            2.0   141     46\n",
              "1731       54        26            3.0    53     25\n",
              "4742      144        49            3.0   143     31\n",
              "4521      138         6            5.0   137     45"
            ],
            "text/html": [
              "\n",
              "  <div id=\"df-4124fb3c-bd2c-4260-84e7-f5def87b7b80\">\n",
              "    <div class=\"colab-df-container\">\n",
              "      <div>\n",
              "<style scoped>\n",
              "    .dataframe tbody tr th:only-of-type {\n",
              "        vertical-align: middle;\n",
              "    }\n",
              "\n",
              "    .dataframe tbody tr th {\n",
              "        vertical-align: top;\n",
              "    }\n",
              "\n",
              "    .dataframe thead th {\n",
              "        text-align: right;\n",
              "    }\n",
              "</style>\n",
              "<table border=\"1\" class=\"dataframe\">\n",
              "  <thead>\n",
              "    <tr style=\"text-align: right;\">\n",
              "      <th></th>\n",
              "      <th>User_Id</th>\n",
              "      <th>Place_Id</th>\n",
              "      <th>Place_Ratings</th>\n",
              "      <th>user</th>\n",
              "      <th>place</th>\n",
              "    </tr>\n",
              "  </thead>\n",
              "  <tbody>\n",
              "    <tr>\n",
              "      <th>6252</th>\n",
              "      <td>188</td>\n",
              "      <td>16</td>\n",
              "      <td>3.0</td>\n",
              "      <td>187</td>\n",
              "      <td>16</td>\n",
              "    </tr>\n",
              "    <tr>\n",
              "      <th>4684</th>\n",
              "      <td>142</td>\n",
              "      <td>4</td>\n",
              "      <td>2.0</td>\n",
              "      <td>141</td>\n",
              "      <td>46</td>\n",
              "    </tr>\n",
              "    <tr>\n",
              "      <th>1731</th>\n",
              "      <td>54</td>\n",
              "      <td>26</td>\n",
              "      <td>3.0</td>\n",
              "      <td>53</td>\n",
              "      <td>25</td>\n",
              "    </tr>\n",
              "    <tr>\n",
              "      <th>4742</th>\n",
              "      <td>144</td>\n",
              "      <td>49</td>\n",
              "      <td>3.0</td>\n",
              "      <td>143</td>\n",
              "      <td>31</td>\n",
              "    </tr>\n",
              "    <tr>\n",
              "      <th>4521</th>\n",
              "      <td>138</td>\n",
              "      <td>6</td>\n",
              "      <td>5.0</td>\n",
              "      <td>137</td>\n",
              "      <td>45</td>\n",
              "    </tr>\n",
              "  </tbody>\n",
              "</table>\n",
              "</div>\n",
              "      <button class=\"colab-df-convert\" onclick=\"convertToInteractive('df-4124fb3c-bd2c-4260-84e7-f5def87b7b80')\"\n",
              "              title=\"Convert this dataframe to an interactive table.\"\n",
              "              style=\"display:none;\">\n",
              "        \n",
              "  <svg xmlns=\"http://www.w3.org/2000/svg\" height=\"24px\"viewBox=\"0 0 24 24\"\n",
              "       width=\"24px\">\n",
              "    <path d=\"M0 0h24v24H0V0z\" fill=\"none\"/>\n",
              "    <path d=\"M18.56 5.44l.94 2.06.94-2.06 2.06-.94-2.06-.94-.94-2.06-.94 2.06-2.06.94zm-11 1L8.5 8.5l.94-2.06 2.06-.94-2.06-.94L8.5 2.5l-.94 2.06-2.06.94zm10 10l.94 2.06.94-2.06 2.06-.94-2.06-.94-.94-2.06-.94 2.06-2.06.94z\"/><path d=\"M17.41 7.96l-1.37-1.37c-.4-.4-.92-.59-1.43-.59-.52 0-1.04.2-1.43.59L10.3 9.45l-7.72 7.72c-.78.78-.78 2.05 0 2.83L4 21.41c.39.39.9.59 1.41.59.51 0 1.02-.2 1.41-.59l7.78-7.78 2.81-2.81c.8-.78.8-2.07 0-2.86zM5.41 20L4 18.59l7.72-7.72 1.47 1.35L5.41 20z\"/>\n",
              "  </svg>\n",
              "      </button>\n",
              "      \n",
              "  <style>\n",
              "    .colab-df-container {\n",
              "      display:flex;\n",
              "      flex-wrap:wrap;\n",
              "      gap: 12px;\n",
              "    }\n",
              "\n",
              "    .colab-df-convert {\n",
              "      background-color: #E8F0FE;\n",
              "      border: none;\n",
              "      border-radius: 50%;\n",
              "      cursor: pointer;\n",
              "      display: none;\n",
              "      fill: #1967D2;\n",
              "      height: 32px;\n",
              "      padding: 0 0 0 0;\n",
              "      width: 32px;\n",
              "    }\n",
              "\n",
              "    .colab-df-convert:hover {\n",
              "      background-color: #E2EBFA;\n",
              "      box-shadow: 0px 1px 2px rgba(60, 64, 67, 0.3), 0px 1px 3px 1px rgba(60, 64, 67, 0.15);\n",
              "      fill: #174EA6;\n",
              "    }\n",
              "\n",
              "    [theme=dark] .colab-df-convert {\n",
              "      background-color: #3B4455;\n",
              "      fill: #D2E3FC;\n",
              "    }\n",
              "\n",
              "    [theme=dark] .colab-df-convert:hover {\n",
              "      background-color: #434B5C;\n",
              "      box-shadow: 0px 1px 3px 1px rgba(0, 0, 0, 0.15);\n",
              "      filter: drop-shadow(0px 1px 2px rgba(0, 0, 0, 0.3));\n",
              "      fill: #FFFFFF;\n",
              "    }\n",
              "  </style>\n",
              "\n",
              "      <script>\n",
              "        const buttonEl =\n",
              "          document.querySelector('#df-4124fb3c-bd2c-4260-84e7-f5def87b7b80 button.colab-df-convert');\n",
              "        buttonEl.style.display =\n",
              "          google.colab.kernel.accessAllowed ? 'block' : 'none';\n",
              "\n",
              "        async function convertToInteractive(key) {\n",
              "          const element = document.querySelector('#df-4124fb3c-bd2c-4260-84e7-f5def87b7b80');\n",
              "          const dataTable =\n",
              "            await google.colab.kernel.invokeFunction('convertToInteractive',\n",
              "                                                     [key], {});\n",
              "          if (!dataTable) return;\n",
              "\n",
              "          const docLinkHtml = 'Like what you see? Visit the ' +\n",
              "            '<a target=\"_blank\" href=https://colab.research.google.com/notebooks/data_table.ipynb>data table notebook</a>'\n",
              "            + ' to learn more about interactive tables.';\n",
              "          element.innerHTML = '';\n",
              "          dataTable['output_type'] = 'display_data';\n",
              "          await google.colab.output.renderOutput(dataTable, element);\n",
              "          const docLink = document.createElement('div');\n",
              "          docLink.innerHTML = docLinkHtml;\n",
              "          element.appendChild(docLink);\n",
              "        }\n",
              "      </script>\n",
              "    </div>\n",
              "  </div>\n",
              "  "
            ]
          },
          "metadata": {},
          "execution_count": 15
        }
      ]
    },
    {
      "cell_type": "markdown",
      "source": [
        "# Splitting Dataset"
      ],
      "metadata": {
        "id": "qa_3eNLukb7w"
      }
    },
    {
      "cell_type": "code",
      "source": [
        "# Mambuat Variable x\n",
        "x = df[['user', 'place']].values\n",
        "# membuat Variable y\n",
        "y = df['Place_Ratings'].apply(lambda x: (x-min_rating)/(max_rating-min_rating)).values\n",
        "\n",
        "# split dataset\n",
        "indices = int(0.8*df.shape[0])\n",
        "x_train, x_test, y_train, y_test = (x[:indices],\n",
        "                                    x[indices:],\n",
        "                                    y[:indices],\n",
        "                                    y[indices:]\n",
        "                                    )\n",
        "print(f'x_train : {x_train.shape}')\n",
        "print(f'x_test : {x_test.shape}')\n",
        "print(f'y_train : {y_train.shape}')\n",
        "print(f'y_test : {y_test.shape}')"
      ],
      "metadata": {
        "colab": {
          "base_uri": "https://localhost:8080/"
        },
        "id": "HaAomUqQkd49",
        "outputId": "41ee041b-0a84-44ca-a2bb-fba9e2385561"
      },
      "execution_count": 17,
      "outputs": [
        {
          "output_type": "stream",
          "name": "stdout",
          "text": [
            "x_train : (8000, 2)\n",
            "x_test : (2000, 2)\n",
            "y_train : (8000,)\n",
            "y_test : (2000,)\n"
          ]
        }
      ]
    },
    {
      "cell_type": "code",
      "source": [
        "class Recommended(keras.Model):\n",
        "  def __init__(self,num_users, num_places, embedding_size, **kwargs):\n",
        "    super(Recommended, self).__init__(**kwargs)\n",
        "    self.num_users = num_users\n",
        "    self.num_places = num_places\n",
        "    self.embedding_size = embedding_size\n",
        "    self.user_embedding = layers.Embedding(num_users,\n",
        "                                           embedding_size,\n",
        "                                           embeddings_initializer = 'he_normal',\n",
        "                                           embeddings_regularizer = keras.regularizers.l2(1e-6)\n",
        "    )\n",
        "    self.user_bias = layers.Embedding(num_users,1)\n",
        "    self.places_embedding = layers.Embedding(num_places,\n",
        "                                             embedding_size,\n",
        "                                             embeddings_initializer='he_normal',\n",
        "                                             embeddings_regularizer= keras.regularizers.l2(1e-6)\n",
        "                                             )\n",
        "    self.places_bias = layers.Embedding(num_places,1)\n",
        "\n",
        "  def call(self, inputs):\n",
        "    user_vec = self.user_embedding(inputs[:,0])\n",
        "    user_bias = self.user_bias(inputs[:,0])\n",
        "    places_vec = self.places_embedding(inputs[:,1])\n",
        "    places_bias = self.places_bias(inputs[:,1])\n",
        "\n",
        "    dot_user_places = tf.tensordot(user_vec, places_vec, 2)\n",
        "\n",
        "    x = dot_user_places + user_bias + places_bias\n",
        "\n",
        "    return tf.nn.sigmoid(x)\n"
      ],
      "metadata": {
        "id": "E2K4DOGpkivb"
      },
      "execution_count": 18,
      "outputs": []
    },
    {
      "cell_type": "code",
      "source": [
        "model = Recommended(num_users, num_place, 50)\n",
        "\n",
        "model.compile(loss = keras.losses.BinaryCrossentropy(),\n",
        "              optimizer= keras.optimizers.Adam(learning_rate=0.0004),\n",
        "              metrics=[keras.metrics.RootMeanSquaredError()]\n",
        "              )"
      ],
      "metadata": {
        "id": "JiXUdNx6kmRB"
      },
      "execution_count": 19,
      "outputs": []
    },
    {
      "cell_type": "markdown",
      "source": [
        "# training Model"
      ],
      "metadata": {
        "id": "nRUMiWeVko_k"
      }
    },
    {
      "cell_type": "code",
      "source": [
        "history = model.fit(\n",
        "    x = x_train,\n",
        "    y = y_train,\n",
        "    epochs = 100,\n",
        "    validation_data = (x_test, y_test)\n",
        ")"
      ],
      "metadata": {
        "colab": {
          "base_uri": "https://localhost:8080/"
        },
        "id": "xROri4O9koRP",
        "outputId": "576bd94b-664d-4771-e234-550cf5afd072"
      },
      "execution_count": 20,
      "outputs": [
        {
          "output_type": "stream",
          "name": "stdout",
          "text": [
            "Epoch 1/100\n",
            "250/250 [==============================] - 2s 3ms/step - loss: 0.7397 - root_mean_squared_error: 0.3743 - val_loss: 0.7364 - val_root_mean_squared_error: 0.3718\n",
            "Epoch 2/100\n",
            "250/250 [==============================] - 1s 2ms/step - loss: 0.7401 - root_mean_squared_error: 0.3741 - val_loss: 0.7328 - val_root_mean_squared_error: 0.3698\n",
            "Epoch 3/100\n",
            "250/250 [==============================] - 1s 2ms/step - loss: 0.7388 - root_mean_squared_error: 0.3738 - val_loss: 0.7311 - val_root_mean_squared_error: 0.3690\n",
            "Epoch 4/100\n",
            "250/250 [==============================] - 1s 3ms/step - loss: 0.7328 - root_mean_squared_error: 0.3699 - val_loss: 0.7286 - val_root_mean_squared_error: 0.3677\n",
            "Epoch 5/100\n",
            "250/250 [==============================] - 1s 3ms/step - loss: 0.7249 - root_mean_squared_error: 0.3654 - val_loss: 0.7283 - val_root_mean_squared_error: 0.3674\n",
            "Epoch 6/100\n",
            "250/250 [==============================] - 1s 2ms/step - loss: 0.7217 - root_mean_squared_error: 0.3633 - val_loss: 0.7257 - val_root_mean_squared_error: 0.3659\n",
            "Epoch 7/100\n",
            "250/250 [==============================] - 1s 2ms/step - loss: 0.7234 - root_mean_squared_error: 0.3642 - val_loss: 0.7246 - val_root_mean_squared_error: 0.3652\n",
            "Epoch 8/100\n",
            "250/250 [==============================] - 1s 2ms/step - loss: 0.7163 - root_mean_squared_error: 0.3601 - val_loss: 0.7245 - val_root_mean_squared_error: 0.3652\n",
            "Epoch 9/100\n",
            "250/250 [==============================] - 1s 3ms/step - loss: 0.7150 - root_mean_squared_error: 0.3591 - val_loss: 0.7239 - val_root_mean_squared_error: 0.3649\n",
            "Epoch 10/100\n",
            "250/250 [==============================] - 1s 2ms/step - loss: 0.7154 - root_mean_squared_error: 0.3597 - val_loss: 0.7226 - val_root_mean_squared_error: 0.3642\n",
            "Epoch 11/100\n",
            "250/250 [==============================] - 1s 2ms/step - loss: 0.7131 - root_mean_squared_error: 0.3583 - val_loss: 0.7213 - val_root_mean_squared_error: 0.3634\n",
            "Epoch 12/100\n",
            "250/250 [==============================] - 1s 2ms/step - loss: 0.7107 - root_mean_squared_error: 0.3567 - val_loss: 0.7197 - val_root_mean_squared_error: 0.3624\n",
            "Epoch 13/100\n",
            "250/250 [==============================] - 1s 3ms/step - loss: 0.7081 - root_mean_squared_error: 0.3549 - val_loss: 0.7194 - val_root_mean_squared_error: 0.3622\n",
            "Epoch 14/100\n",
            "250/250 [==============================] - 1s 2ms/step - loss: 0.7112 - root_mean_squared_error: 0.3569 - val_loss: 0.7185 - val_root_mean_squared_error: 0.3617\n",
            "Epoch 15/100\n",
            "250/250 [==============================] - 1s 2ms/step - loss: 0.7049 - root_mean_squared_error: 0.3531 - val_loss: 0.7187 - val_root_mean_squared_error: 0.3618\n",
            "Epoch 16/100\n",
            "250/250 [==============================] - 1s 3ms/step - loss: 0.7076 - root_mean_squared_error: 0.3549 - val_loss: 0.7176 - val_root_mean_squared_error: 0.3611\n",
            "Epoch 17/100\n",
            "250/250 [==============================] - 1s 2ms/step - loss: 0.7012 - root_mean_squared_error: 0.3506 - val_loss: 0.7170 - val_root_mean_squared_error: 0.3608\n",
            "Epoch 18/100\n",
            "250/250 [==============================] - 1s 3ms/step - loss: 0.7021 - root_mean_squared_error: 0.3511 - val_loss: 0.7167 - val_root_mean_squared_error: 0.3605\n",
            "Epoch 19/100\n",
            "250/250 [==============================] - 1s 2ms/step - loss: 0.7038 - root_mean_squared_error: 0.3524 - val_loss: 0.7162 - val_root_mean_squared_error: 0.3602\n",
            "Epoch 20/100\n",
            "250/250 [==============================] - 1s 3ms/step - loss: 0.7026 - root_mean_squared_error: 0.3513 - val_loss: 0.7150 - val_root_mean_squared_error: 0.3595\n",
            "Epoch 21/100\n",
            "250/250 [==============================] - 1s 3ms/step - loss: 0.7018 - root_mean_squared_error: 0.3510 - val_loss: 0.7152 - val_root_mean_squared_error: 0.3596\n",
            "Epoch 22/100\n",
            "250/250 [==============================] - 1s 3ms/step - loss: 0.6969 - root_mean_squared_error: 0.3477 - val_loss: 0.7149 - val_root_mean_squared_error: 0.3594\n",
            "Epoch 23/100\n",
            "250/250 [==============================] - 1s 3ms/step - loss: 0.6941 - root_mean_squared_error: 0.3457 - val_loss: 0.7138 - val_root_mean_squared_error: 0.3587\n",
            "Epoch 24/100\n",
            "250/250 [==============================] - 1s 2ms/step - loss: 0.6933 - root_mean_squared_error: 0.3452 - val_loss: 0.7137 - val_root_mean_squared_error: 0.3587\n",
            "Epoch 25/100\n",
            "250/250 [==============================] - 1s 3ms/step - loss: 0.6932 - root_mean_squared_error: 0.3451 - val_loss: 0.7128 - val_root_mean_squared_error: 0.3581\n",
            "Epoch 26/100\n",
            "250/250 [==============================] - 1s 3ms/step - loss: 0.6914 - root_mean_squared_error: 0.3439 - val_loss: 0.7126 - val_root_mean_squared_error: 0.3580\n",
            "Epoch 27/100\n",
            "250/250 [==============================] - 1s 3ms/step - loss: 0.6927 - root_mean_squared_error: 0.3448 - val_loss: 0.7127 - val_root_mean_squared_error: 0.3581\n",
            "Epoch 28/100\n",
            "250/250 [==============================] - 1s 2ms/step - loss: 0.6943 - root_mean_squared_error: 0.3459 - val_loss: 0.7146 - val_root_mean_squared_error: 0.3593\n",
            "Epoch 29/100\n",
            "250/250 [==============================] - 1s 3ms/step - loss: 0.6918 - root_mean_squared_error: 0.3441 - val_loss: 0.7138 - val_root_mean_squared_error: 0.3588\n",
            "Epoch 30/100\n",
            "250/250 [==============================] - 1s 3ms/step - loss: 0.6937 - root_mean_squared_error: 0.3455 - val_loss: 0.7131 - val_root_mean_squared_error: 0.3583\n",
            "Epoch 31/100\n",
            "250/250 [==============================] - 1s 3ms/step - loss: 0.6900 - root_mean_squared_error: 0.3429 - val_loss: 0.7118 - val_root_mean_squared_error: 0.3575\n",
            "Epoch 32/100\n",
            "250/250 [==============================] - 1s 2ms/step - loss: 0.6890 - root_mean_squared_error: 0.3422 - val_loss: 0.7121 - val_root_mean_squared_error: 0.3577\n",
            "Epoch 33/100\n",
            "250/250 [==============================] - 1s 2ms/step - loss: 0.6878 - root_mean_squared_error: 0.3414 - val_loss: 0.7108 - val_root_mean_squared_error: 0.3569\n",
            "Epoch 34/100\n",
            "250/250 [==============================] - 1s 2ms/step - loss: 0.6882 - root_mean_squared_error: 0.3417 - val_loss: 0.7120 - val_root_mean_squared_error: 0.3576\n",
            "Epoch 35/100\n",
            "250/250 [==============================] - 1s 3ms/step - loss: 0.6881 - root_mean_squared_error: 0.3416 - val_loss: 0.7120 - val_root_mean_squared_error: 0.3577\n",
            "Epoch 36/100\n",
            "250/250 [==============================] - 1s 3ms/step - loss: 0.6862 - root_mean_squared_error: 0.3403 - val_loss: 0.7119 - val_root_mean_squared_error: 0.3576\n",
            "Epoch 37/100\n",
            "250/250 [==============================] - 1s 2ms/step - loss: 0.6877 - root_mean_squared_error: 0.3413 - val_loss: 0.7108 - val_root_mean_squared_error: 0.3570\n",
            "Epoch 38/100\n",
            "250/250 [==============================] - 1s 3ms/step - loss: 0.6869 - root_mean_squared_error: 0.3407 - val_loss: 0.7105 - val_root_mean_squared_error: 0.3567\n",
            "Epoch 39/100\n",
            "250/250 [==============================] - 1s 2ms/step - loss: 0.6860 - root_mean_squared_error: 0.3401 - val_loss: 0.7103 - val_root_mean_squared_error: 0.3567\n",
            "Epoch 40/100\n",
            "250/250 [==============================] - 1s 3ms/step - loss: 0.6855 - root_mean_squared_error: 0.3397 - val_loss: 0.7088 - val_root_mean_squared_error: 0.3556\n",
            "Epoch 41/100\n",
            "250/250 [==============================] - 1s 2ms/step - loss: 0.6868 - root_mean_squared_error: 0.3406 - val_loss: 0.7082 - val_root_mean_squared_error: 0.3553\n",
            "Epoch 42/100\n",
            "250/250 [==============================] - 1s 3ms/step - loss: 0.6864 - root_mean_squared_error: 0.3404 - val_loss: 0.7081 - val_root_mean_squared_error: 0.3552\n",
            "Epoch 43/100\n",
            "250/250 [==============================] - 1s 2ms/step - loss: 0.6835 - root_mean_squared_error: 0.3383 - val_loss: 0.7073 - val_root_mean_squared_error: 0.3547\n",
            "Epoch 44/100\n",
            "250/250 [==============================] - 1s 3ms/step - loss: 0.6849 - root_mean_squared_error: 0.3393 - val_loss: 0.7077 - val_root_mean_squared_error: 0.3549\n",
            "Epoch 45/100\n",
            "250/250 [==============================] - 1s 2ms/step - loss: 0.6841 - root_mean_squared_error: 0.3388 - val_loss: 0.7084 - val_root_mean_squared_error: 0.3554\n",
            "Epoch 46/100\n",
            "250/250 [==============================] - 1s 2ms/step - loss: 0.6838 - root_mean_squared_error: 0.3385 - val_loss: 0.7074 - val_root_mean_squared_error: 0.3547\n",
            "Epoch 47/100\n",
            "250/250 [==============================] - 1s 3ms/step - loss: 0.6836 - root_mean_squared_error: 0.3384 - val_loss: 0.7074 - val_root_mean_squared_error: 0.3547\n",
            "Epoch 48/100\n",
            "250/250 [==============================] - 1s 2ms/step - loss: 0.6861 - root_mean_squared_error: 0.3402 - val_loss: 0.7066 - val_root_mean_squared_error: 0.3542\n",
            "Epoch 49/100\n",
            "250/250 [==============================] - 1s 3ms/step - loss: 0.6834 - root_mean_squared_error: 0.3383 - val_loss: 0.7066 - val_root_mean_squared_error: 0.3542\n",
            "Epoch 50/100\n",
            "250/250 [==============================] - 1s 2ms/step - loss: 0.6832 - root_mean_squared_error: 0.3381 - val_loss: 0.7078 - val_root_mean_squared_error: 0.3550\n",
            "Epoch 51/100\n",
            "250/250 [==============================] - 1s 3ms/step - loss: 0.6841 - root_mean_squared_error: 0.3388 - val_loss: 0.7071 - val_root_mean_squared_error: 0.3546\n",
            "Epoch 52/100\n",
            "250/250 [==============================] - 1s 3ms/step - loss: 0.6822 - root_mean_squared_error: 0.3374 - val_loss: 0.7073 - val_root_mean_squared_error: 0.3546\n",
            "Epoch 53/100\n",
            "250/250 [==============================] - 1s 2ms/step - loss: 0.6827 - root_mean_squared_error: 0.3377 - val_loss: 0.7086 - val_root_mean_squared_error: 0.3555\n",
            "Epoch 54/100\n",
            "250/250 [==============================] - 1s 3ms/step - loss: 0.6821 - root_mean_squared_error: 0.3373 - val_loss: 0.7091 - val_root_mean_squared_error: 0.3558\n",
            "Epoch 55/100\n",
            "250/250 [==============================] - 1s 3ms/step - loss: 0.6815 - root_mean_squared_error: 0.3369 - val_loss: 0.7101 - val_root_mean_squared_error: 0.3564\n",
            "Epoch 56/100\n",
            "250/250 [==============================] - 1s 3ms/step - loss: 0.6812 - root_mean_squared_error: 0.3367 - val_loss: 0.7096 - val_root_mean_squared_error: 0.3560\n",
            "Epoch 57/100\n",
            "250/250 [==============================] - 1s 2ms/step - loss: 0.6815 - root_mean_squared_error: 0.3369 - val_loss: 0.7099 - val_root_mean_squared_error: 0.3562\n",
            "Epoch 58/100\n",
            "250/250 [==============================] - 1s 3ms/step - loss: 0.6817 - root_mean_squared_error: 0.3370 - val_loss: 0.7094 - val_root_mean_squared_error: 0.3559\n",
            "Epoch 59/100\n",
            "250/250 [==============================] - 1s 2ms/step - loss: 0.6823 - root_mean_squared_error: 0.3375 - val_loss: 0.7095 - val_root_mean_squared_error: 0.3560\n",
            "Epoch 60/100\n",
            "250/250 [==============================] - 1s 2ms/step - loss: 0.6813 - root_mean_squared_error: 0.3367 - val_loss: 0.7087 - val_root_mean_squared_error: 0.3554\n",
            "Epoch 61/100\n",
            "250/250 [==============================] - 1s 3ms/step - loss: 0.6812 - root_mean_squared_error: 0.3367 - val_loss: 0.7088 - val_root_mean_squared_error: 0.3556\n",
            "Epoch 62/100\n",
            "250/250 [==============================] - 1s 2ms/step - loss: 0.6809 - root_mean_squared_error: 0.3365 - val_loss: 0.7091 - val_root_mean_squared_error: 0.3558\n",
            "Epoch 63/100\n",
            "250/250 [==============================] - 1s 3ms/step - loss: 0.6796 - root_mean_squared_error: 0.3355 - val_loss: 0.7094 - val_root_mean_squared_error: 0.3559\n",
            "Epoch 64/100\n",
            "250/250 [==============================] - 1s 2ms/step - loss: 0.6808 - root_mean_squared_error: 0.3364 - val_loss: 0.7092 - val_root_mean_squared_error: 0.3558\n",
            "Epoch 65/100\n",
            "250/250 [==============================] - 1s 3ms/step - loss: 0.6794 - root_mean_squared_error: 0.3354 - val_loss: 0.7092 - val_root_mean_squared_error: 0.3558\n",
            "Epoch 66/100\n",
            "250/250 [==============================] - 1s 3ms/step - loss: 0.6806 - root_mean_squared_error: 0.3363 - val_loss: 0.7097 - val_root_mean_squared_error: 0.3562\n",
            "Epoch 67/100\n",
            "250/250 [==============================] - 1s 2ms/step - loss: 0.6824 - root_mean_squared_error: 0.3376 - val_loss: 0.7090 - val_root_mean_squared_error: 0.3556\n",
            "Epoch 68/100\n",
            "250/250 [==============================] - 1s 2ms/step - loss: 0.6822 - root_mean_squared_error: 0.3374 - val_loss: 0.7088 - val_root_mean_squared_error: 0.3555\n",
            "Epoch 69/100\n",
            "250/250 [==============================] - 1s 3ms/step - loss: 0.6807 - root_mean_squared_error: 0.3363 - val_loss: 0.7084 - val_root_mean_squared_error: 0.3552\n",
            "Epoch 70/100\n",
            "250/250 [==============================] - 1s 3ms/step - loss: 0.6809 - root_mean_squared_error: 0.3365 - val_loss: 0.7081 - val_root_mean_squared_error: 0.3550\n",
            "Epoch 71/100\n",
            "250/250 [==============================] - 1s 2ms/step - loss: 0.6810 - root_mean_squared_error: 0.3365 - val_loss: 0.7074 - val_root_mean_squared_error: 0.3545\n",
            "Epoch 72/100\n",
            "250/250 [==============================] - 1s 3ms/step - loss: 0.6805 - root_mean_squared_error: 0.3362 - val_loss: 0.7065 - val_root_mean_squared_error: 0.3539\n",
            "Epoch 73/100\n",
            "250/250 [==============================] - 1s 3ms/step - loss: 0.6817 - root_mean_squared_error: 0.3370 - val_loss: 0.7071 - val_root_mean_squared_error: 0.3544\n",
            "Epoch 74/100\n",
            "250/250 [==============================] - 1s 2ms/step - loss: 0.6802 - root_mean_squared_error: 0.3359 - val_loss: 0.7080 - val_root_mean_squared_error: 0.3549\n",
            "Epoch 75/100\n",
            "250/250 [==============================] - 1s 2ms/step - loss: 0.6804 - root_mean_squared_error: 0.3361 - val_loss: 0.7076 - val_root_mean_squared_error: 0.3547\n",
            "Epoch 76/100\n",
            "250/250 [==============================] - 1s 2ms/step - loss: 0.6820 - root_mean_squared_error: 0.3373 - val_loss: 0.7073 - val_root_mean_squared_error: 0.3545\n",
            "Epoch 77/100\n",
            "250/250 [==============================] - 1s 3ms/step - loss: 0.6814 - root_mean_squared_error: 0.3368 - val_loss: 0.7054 - val_root_mean_squared_error: 0.3533\n",
            "Epoch 78/100\n",
            "250/250 [==============================] - 1s 2ms/step - loss: 0.6795 - root_mean_squared_error: 0.3354 - val_loss: 0.7054 - val_root_mean_squared_error: 0.3533\n",
            "Epoch 79/100\n",
            "250/250 [==============================] - 1s 3ms/step - loss: 0.6798 - root_mean_squared_error: 0.3357 - val_loss: 0.7060 - val_root_mean_squared_error: 0.3537\n",
            "Epoch 80/100\n",
            "250/250 [==============================] - 1s 2ms/step - loss: 0.6803 - root_mean_squared_error: 0.3360 - val_loss: 0.7073 - val_root_mean_squared_error: 0.3545\n",
            "Epoch 81/100\n",
            "250/250 [==============================] - 1s 2ms/step - loss: 0.6795 - root_mean_squared_error: 0.3355 - val_loss: 0.7066 - val_root_mean_squared_error: 0.3541\n",
            "Epoch 82/100\n",
            "250/250 [==============================] - 1s 2ms/step - loss: 0.6792 - root_mean_squared_error: 0.3352 - val_loss: 0.7070 - val_root_mean_squared_error: 0.3543\n",
            "Epoch 83/100\n",
            "250/250 [==============================] - 1s 6ms/step - loss: 0.6797 - root_mean_squared_error: 0.3356 - val_loss: 0.7080 - val_root_mean_squared_error: 0.3550\n",
            "Epoch 84/100\n",
            "250/250 [==============================] - 1s 2ms/step - loss: 0.6785 - root_mean_squared_error: 0.3347 - val_loss: 0.7088 - val_root_mean_squared_error: 0.3555\n",
            "Epoch 85/100\n",
            "250/250 [==============================] - 1s 2ms/step - loss: 0.6791 - root_mean_squared_error: 0.3352 - val_loss: 0.7088 - val_root_mean_squared_error: 0.3554\n",
            "Epoch 86/100\n",
            "250/250 [==============================] - 1s 2ms/step - loss: 0.6784 - root_mean_squared_error: 0.3347 - val_loss: 0.7083 - val_root_mean_squared_error: 0.3551\n",
            "Epoch 87/100\n",
            "250/250 [==============================] - 1s 2ms/step - loss: 0.6772 - root_mean_squared_error: 0.3338 - val_loss: 0.7085 - val_root_mean_squared_error: 0.3552\n",
            "Epoch 88/100\n",
            "250/250 [==============================] - 1s 2ms/step - loss: 0.6787 - root_mean_squared_error: 0.3349 - val_loss: 0.7091 - val_root_mean_squared_error: 0.3556\n",
            "Epoch 89/100\n",
            "250/250 [==============================] - 1s 2ms/step - loss: 0.6788 - root_mean_squared_error: 0.3350 - val_loss: 0.7088 - val_root_mean_squared_error: 0.3553\n",
            "Epoch 90/100\n",
            "250/250 [==============================] - 1s 3ms/step - loss: 0.6796 - root_mean_squared_error: 0.3355 - val_loss: 0.7090 - val_root_mean_squared_error: 0.3555\n",
            "Epoch 91/100\n",
            "250/250 [==============================] - 1s 2ms/step - loss: 0.6785 - root_mean_squared_error: 0.3347 - val_loss: 0.7092 - val_root_mean_squared_error: 0.3557\n",
            "Epoch 92/100\n",
            "250/250 [==============================] - 1s 2ms/step - loss: 0.6798 - root_mean_squared_error: 0.3357 - val_loss: 0.7090 - val_root_mean_squared_error: 0.3556\n",
            "Epoch 93/100\n",
            "250/250 [==============================] - 1s 3ms/step - loss: 0.6792 - root_mean_squared_error: 0.3352 - val_loss: 0.7093 - val_root_mean_squared_error: 0.3558\n",
            "Epoch 94/100\n",
            "250/250 [==============================] - 1s 3ms/step - loss: 0.6781 - root_mean_squared_error: 0.3344 - val_loss: 0.7092 - val_root_mean_squared_error: 0.3558\n",
            "Epoch 95/100\n",
            "250/250 [==============================] - 1s 3ms/step - loss: 0.6785 - root_mean_squared_error: 0.3347 - val_loss: 0.7089 - val_root_mean_squared_error: 0.3556\n",
            "Epoch 96/100\n",
            "250/250 [==============================] - 1s 4ms/step - loss: 0.6791 - root_mean_squared_error: 0.3351 - val_loss: 0.7080 - val_root_mean_squared_error: 0.3550\n",
            "Epoch 97/100\n",
            "250/250 [==============================] - 1s 4ms/step - loss: 0.6788 - root_mean_squared_error: 0.3349 - val_loss: 0.7075 - val_root_mean_squared_error: 0.3547\n",
            "Epoch 98/100\n",
            "250/250 [==============================] - 1s 3ms/step - loss: 0.6791 - root_mean_squared_error: 0.3351 - val_loss: 0.7070 - val_root_mean_squared_error: 0.3544\n",
            "Epoch 99/100\n",
            "250/250 [==============================] - 1s 2ms/step - loss: 0.6799 - root_mean_squared_error: 0.3358 - val_loss: 0.7075 - val_root_mean_squared_error: 0.3547\n",
            "Epoch 100/100\n",
            "250/250 [==============================] - 1s 2ms/step - loss: 0.6780 - root_mean_squared_error: 0.3344 - val_loss: 0.7082 - val_root_mean_squared_error: 0.3551\n"
          ]
        }
      ]
    },
    {
      "cell_type": "markdown",
      "source": [
        "# Evaluasi Model"
      ],
      "metadata": {
        "id": "czip3luik9Jk"
      }
    },
    {
      "cell_type": "code",
      "source": [
        "model.evaluate(x=x_test, y=y_test)"
      ],
      "metadata": {
        "colab": {
          "base_uri": "https://localhost:8080/"
        },
        "id": "ipI2DcfYk8c8",
        "outputId": "30802cec-32eb-4476-ebc8-259b080c8d3a"
      },
      "execution_count": 21,
      "outputs": [
        {
          "output_type": "stream",
          "name": "stdout",
          "text": [
            "63/63 [==============================] - 0s 1ms/step - loss: 0.7082 - root_mean_squared_error: 0.3551\n"
          ]
        },
        {
          "output_type": "execute_result",
          "data": {
            "text/plain": [
              "[0.7082232236862183, 0.35514259338378906]"
            ]
          },
          "metadata": {},
          "execution_count": 21
        }
      ]
    },
    {
      "cell_type": "code",
      "source": [
        "import matplotlib.pyplot as plt\n",
        "\n",
        "plt.plot(history.history['root_mean_squared_error'])\n",
        "plt.plot(history.history['val_root_mean_squared_error'])\n",
        "plt.title('model_metrics')\n",
        "plt.ylabel('root_mean_squared_error')\n",
        "plt.xlabel('epoch')\n",
        "plt.ylim(ymin=0, ymax=0.4)\n",
        "plt.legend(['train', 'test'], loc='center left')\n",
        "plt.show()"
      ],
      "metadata": {
        "colab": {
          "base_uri": "https://localhost:8080/",
          "height": 295
        },
        "id": "rzwPRh8ZlDan",
        "outputId": "bf951192-7a49-4298-d742-9648fe9817da"
      },
      "execution_count": 22,
      "outputs": [
        {
          "output_type": "display_data",
          "data": {
            "text/plain": [
              "<Figure size 432x288 with 1 Axes>"
            ],
            "image/png": "[encoded data removed]"
          },
          "metadata": {
            "needs_background": "light"
          }
        }
      ]
    },
    {
      "cell_type": "markdown",
      "source": [
        "# Penerapan Model"
      ],
      "metadata": {
        "id": "JFBegpn4lHir"
      }
    },
    {
      "cell_type": "code",
      "source": [
        "kuliner.columns"
      ],
      "metadata": {
        "colab": {
          "base_uri": "https://localhost:8080/"
        },
        "id": "CdU-54iNlHOz",
        "outputId": "467e5729-4ac7-4f91-9731-863d505fb221"
      },
      "execution_count": 23,
      "outputs": [
        {
          "output_type": "execute_result",
          "data": {
            "text/plain": [
              "Index(['Id', 'Name', 'Ratings', 'Addres', 'Coordinate', 'Lat', 'Long',\n",
              "       'Images'],\n",
              "      dtype='object')"
            ]
          },
          "metadata": {},
          "execution_count": 23
        }
      ]
    },
    {
      "cell_type": "code",
      "source": [
        "place_df = kuliner[['Id', 'Name', 'Ratings', 'Addres', 'Coordinate', 'Lat', 'Long',\n",
        "       'Images']]\n",
        "place_df.columns = ['Id', 'Name', 'Ratings', 'Addres', 'Coordinate', 'Lat', 'Long',\n",
        "       'Images']\n",
        "df = rating.copy()"
      ],
      "metadata": {
        "id": "lMfjsRSzlOHR"
      },
      "execution_count": 24,
      "outputs": []
    },
    {
      "cell_type": "code",
      "source": [
        "# Mengambil sample user\n",
        "user_id = df.User_Id.sample(1).iloc[0]\n",
        "place_visited_by_user = df[df.User_Id == user_id]"
      ],
      "metadata": {
        "id": "c9w34r00lmN0"
      },
      "execution_count": 25,
      "outputs": []
    },
    {
      "cell_type": "code",
      "source": [
        "# Membuat data lokasi yang belum dikunjungi user\n",
        "place_not_visited = place_df[~place_df['Id'].isin(place_visited_by_user.Place_Id.values)]['Id'] \n",
        "place_not_visited = list(\n",
        "    set(place_not_visited).intersection(set(place_to_place_encoded.keys()))\n",
        ")\n",
        " \n",
        "place_not_visited = [[place_to_place_encoded.get(x)] for x in place_not_visited]\n",
        "user_encoder = user_to_user_encoded.get(user_id)\n",
        "user_place_array = np.hstack(\n",
        "    ([[user_encoder]] * len(place_not_visited), place_not_visited)\n",
        ")"
      ],
      "metadata": {
        "id": "KTkz9LKgloKK"
      },
      "execution_count": 28,
      "outputs": []
    },
    {
      "cell_type": "code",
      "source": [
        "# Mengambil top 5 recommendation\n",
        "ratings = model.predict(user_place_array).flatten()\n",
        "top_ratings_indices = ratings.argsort()[-5:][::-1]\n",
        "recommended_place_ids = [\n",
        "    place_encoded_to_place.get(place_not_visited[x][0]) for x in top_ratings_indices\n",
        "]\n",
        " \n",
        "\n",
        "print('')\n",
        "print('----' * 15)\n",
        "print('Top 5 place recommendation')\n",
        "print('----' * 15)\n",
        " \n",
        "recommended_place = place_df[place_df['Id'].isin(recommended_place_ids)]\n",
        "for row, i in zip(recommended_place.itertuples(), range(1,8)):\n",
        "    print(i,'.', row.Name, '\\n    ', row.Addres, ',', 'Rating Kuliner ', row.Ratings,'\\n')\n",
        "\n",
        "print('==='*15)"
      ],
      "metadata": {
        "colab": {
          "base_uri": "https://localhost:8080/"
        },
        "id": "5VeNUi5QltQe",
        "outputId": "cc06d7bb-cc7b-4c90-8dca-003c9b9b9801"
      },
      "execution_count": 29,
      "outputs": [
        {
          "output_type": "stream",
          "name": "stdout",
          "text": [
            "\n",
            "------------------------------------------------------------\n",
            "Top 5 place recommendation\n",
            "------------------------------------------------------------\n",
            "1 . Krisna Resto \n",
            "     Jl. Diponegoro No.146, Dauh Puri Klod, Kec. Denpasar Bar., Kota Denpasar, Bali 80232 , Rating Kuliner  4.4 \n",
            "\n",
            "2 . Nasi Ayam Kedewatan Ibu Mangku - Renon (Cabang I) \n",
            "     Jl. Teuku Umar No.8, Dauh Puri Kauh, Kec. Denpasar Bar., Kota Denpasar, Bali 80113 , Rating Kuliner  4.4 \n",
            "\n",
            "3 . Bebek Tepi Sawah Nusa Dua \n",
            "     Kawasan BTDC Area Bali Collection, Nusa Dua, Benoa, Kec. Kuta Sel., Kabupaten Badung, Bali 80363 , Rating Kuliner  4.2 \n",
            "\n",
            "4 . Warung Pojok \n",
            "     Jl. Nangka No.168, Dangin Puri Kaja, Kec. Denpasar Utara, Kota Denpasar, Bali 80234 , Rating Kuliner  4.4 \n",
            "\n",
            "5 . Gosha Kitchen & Patisserie Renon \n",
            "     Jl. Tukad Gangga No.28, Dauh Puri Klod, Kec. Denpasar Bar., Kota Denpasar, Bali 80234 , Rating Kuliner  4.6 \n",
            "\n",
            "=============================================\n"
          ]
        }
      ]
    },
    {
      "cell_type": "markdown",
      "source": [
        "# Save Model"
      ],
      "metadata": {
        "id": "AhUrnLEPmNEF"
      }
    },
    {
      "cell_type": "code",
      "source": [
        "# converter = tf.lite.TFLiteConverter.from_keras_model(model)\n",
        "# tflite_model = converter.convert()\n",
        "\n",
        "# # Save the model.\n",
        "# with open('model.tflite', 'wb') as f:\n",
        "#   f.write(tflite_model)"
      ],
      "metadata": {
        "colab": {
          "base_uri": "https://localhost:8080/"
        },
        "id": "mNXwkrDjmMMs",
        "outputId": "73ef722c-efbc-4734-894a-ba251661b8f8"
      },
      "execution_count": null,
      "outputs": [
        {
          "output_type": "stream",
          "name": "stdout",
          "text": [
            "INFO:tensorflow:Assets written to: /tmp/tmpiqpaze92/assets\n"
          ]
        },
        {
          "output_type": "stream",
          "name": "stderr",
          "text": [
            "WARNING:absl:Buffer deduplication procedure will be skipped when flatbuffer library is not properly loaded\n"
          ]
        }
      ]
    },
    {
      "cell_type": "code",
      "source": [
        "filename = 'kuliner_bali_model.pkl'\n",
        "pickle.dump(model, open(filename, 'wb'))"
      ],
      "metadata": {
        "colab": {
          "base_uri": "https://localhost:8080/"
        },
        "id": "X2CsLQlNkQox",
        "outputId": "60935676-2fa8-4d65-e171-aefb7e300bfa"
      },
      "execution_count": 30,
      "outputs": [
        {
          "output_type": "stream",
          "name": "stdout",
          "text": [
            "INFO:tensorflow:Assets written to: ram://56a65128-c255-4e38-9e93-2c8670ed8050/assets\n"
          ]
        }
      ]
    },
    {
      "cell_type": "code",
      "source": [
        "loaded_model = pickle.load(open(filename, 'rb'))\n",
        "result = loaded_model.evaluate(x=x_test, y=y_test)"
      ],
      "metadata": {
        "colab": {
          "base_uri": "https://localhost:8080/"
        },
        "id": "j0Y2p2RTklYO",
        "outputId": "bb3c0a76-6e5c-4051-d196-83e4d2ea237a"
      },
      "execution_count": 31,
      "outputs": [
        {
          "output_type": "stream",
          "name": "stdout",
          "text": [
            "63/63 [==============================] - 0s 2ms/step - loss: 0.7082 - root_mean_squared_error: 0.3551\n"
          ]
        }
      ]
    }
  ]
}