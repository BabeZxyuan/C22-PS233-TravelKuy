{
 "cells": [
  {
   "cell_type": "markdown",
   "metadata": {
    "id": "H4dHySlIgs9p"
   },
   "source": [
    "# Import Package"
   ]
  },
  {
   "cell_type": "code",
   "execution_count": 1,
   "metadata": {
    "id": "UEw3gFdFgvR9"
   },
   "outputs": [
    {
     "name": "stderr",
     "output_type": "stream",
     "text": [
      "2022-06-09 20:54:27.682022: W tensorflow/stream_executor/platform/default/dso_loader.cc:64] Could not load dynamic library 'libcudart.so.11.0'; dlerror: libcudart.so.11.0: cannot open shared object file: No such file or directory\n",
      "2022-06-09 20:54:27.682061: I tensorflow/stream_executor/cuda/cudart_stub.cc:29] Ignore above cudart dlerror if you do not have a GPU set up on your machine.\n"
     ]
    }
   ],
   "source": [
    "import numpy as np\n",
    "import pandas as pd \n",
    "\n",
    "import tensorflow as tf\n",
    "from tensorflow import keras\n",
    "from tensorflow.keras import layers\n",
    "import pickle"
   ]
  },
  {
   "cell_type": "code",
   "execution_count": 2,
   "metadata": {
    "colab": {
     "base_uri": "https://localhost:8080/"
    },
    "id": "t4jpyklMTvVQ",
    "outputId": "fe494642-f467-444a-935f-776b85d3954b"
   },
   "outputs": [
    {
     "name": "stdout",
     "output_type": "stream",
     "text": [
      "\n",
      "1.22.4,\n",
      "1.4.2,\n",
      "2.9.1\n"
     ]
    }
   ],
   "source": [
    "print(f'''\n",
    "{np.__version__},\n",
    "{pd.__version__},\n",
    "{tf.__version__}''')"
   ]
  },
  {
   "cell_type": "code",
   "execution_count": 3,
   "metadata": {
    "colab": {
     "base_uri": "https://localhost:8080/"
    },
    "id": "UU1lEoQYVBYt",
    "outputId": "8ec66fdd-9d10-4f28-ea1f-b1489dcee38e"
   },
   "outputs": [
    {
     "name": "stdout",
     "output_type": "stream",
     "text": [
      "Python 3.8.10\r\n"
     ]
    }
   ],
   "source": [
    "!python --version"
   ]
  },
  {
   "cell_type": "markdown",
   "metadata": {
    "id": "VVF4rN5cgzPr"
   },
   "source": [
    "# Import Dataset"
   ]
  },
  {
   "cell_type": "code",
   "execution_count": 7,
   "metadata": {
    "id": "doIruLZpgxrz"
   },
   "outputs": [],
   "source": [
    "# package = pd.read_csv('../../data/wisata/package_tourism.csv')\n",
    "rating = pd.read_csv('../../data/rating.csv')\n",
    "kuliner = pd.read_csv('../../data/kuliner.csv')\n",
    "user = pd.read_csv('../../data/user.csv')"
   ]
  },
  {
   "cell_type": "markdown",
   "metadata": {
    "id": "To3P2Wgmjz88"
   },
   "source": [
    "# Persiapan Dataset"
   ]
  },
  {
   "cell_type": "code",
   "execution_count": 9,
   "metadata": {},
   "outputs": [
    {
     "data": {
      "text/html": [
       "<div>\n",
       "<style scoped>\n",
       "    .dataframe tbody tr th:only-of-type {\n",
       "        vertical-align: middle;\n",
       "    }\n",
       "\n",
       "    .dataframe tbody tr th {\n",
       "        vertical-align: top;\n",
       "    }\n",
       "\n",
       "    .dataframe thead th {\n",
       "        text-align: right;\n",
       "    }\n",
       "</style>\n",
       "<table border=\"1\" class=\"dataframe\">\n",
       "  <thead>\n",
       "    <tr style=\"text-align: right;\">\n",
       "      <th></th>\n",
       "      <th>Place_Id</th>\n",
       "      <th>Kuliner_Name</th>\n",
       "      <th>Description</th>\n",
       "      <th>Category</th>\n",
       "      <th>alamat</th>\n",
       "      <th>City</th>\n",
       "      <th>Rating</th>\n",
       "      <th>Coordinate</th>\n",
       "      <th>Lat</th>\n",
       "      <th>Long</th>\n",
       "      <th>Price</th>\n",
       "      <th>Images</th>\n",
       "    </tr>\n",
       "  </thead>\n",
       "  <tbody>\n",
       "    <tr>\n",
       "      <th>33</th>\n",
       "      <td>41</td>\n",
       "      <td>JEBAK ( Jejak Bali Kuliner)</td>\n",
       "      <td>Tempat berkumpulnya para vendor makanan dengan...</td>\n",
       "      <td>Makanan</td>\n",
       "      <td>Jl. Teuku Umar No.212, Dauh Puri Kauh, Kec. De...</td>\n",
       "      <td>Bali</td>\n",
       "      <td>4.3</td>\n",
       "      <td>{'lat': -8.680513334370504, 'lng': 115.2015822...</td>\n",
       "      <td>-8.680.513.334</td>\n",
       "      <td>1.152.015.822</td>\n",
       "      <td>150000</td>\n",
       "      <td>https://www.denpasarkota.go.id/uploads/berita/...</td>\n",
       "    </tr>\n",
       "    <tr>\n",
       "      <th>34</th>\n",
       "      <td>42</td>\n",
       "      <td>Pondok Seafood Cak Har</td>\n",
       "      <td>Ikan bakarnya enaaak... ikan baronangnya neasr...</td>\n",
       "      <td>Makanan</td>\n",
       "      <td>Jl. Teuku Umar No.222, Dauh Puri Kauh, Kec. De...</td>\n",
       "      <td>Bali</td>\n",
       "      <td>4.3</td>\n",
       "      <td>{'lat': -8.680896572457401, 'lng': 115.2005028...</td>\n",
       "      <td>-8.680.896.572</td>\n",
       "      <td>1.152.005.028</td>\n",
       "      <td>100000</td>\n",
       "      <td>https://b.zmtcdn.com/data/pictures/5/1705375/9...</td>\n",
       "    </tr>\n",
       "    <tr>\n",
       "      <th>35</th>\n",
       "      <td>43</td>\n",
       "      <td>Bale Udang Mang Engking Kuta</td>\n",
       "      <td>Tempat makan yg unik memiliki gubug-gubug diat...</td>\n",
       "      <td>Makanan</td>\n",
       "      <td>Jl. Nakula No.88, Pemecutan Klod, Kec. Denpasa...</td>\n",
       "      <td>Bali</td>\n",
       "      <td>4.4</td>\n",
       "      <td>{'lat': -8.699604043838137, 'lng': 115.1830186...</td>\n",
       "      <td>-8.699.604.044</td>\n",
       "      <td>1.151.830.187</td>\n",
       "      <td>-</td>\n",
       "      <td>https://media-cdn.tripadvisor.com/media/photo-...</td>\n",
       "    </tr>\n",
       "    <tr>\n",
       "      <th>36</th>\n",
       "      <td>44</td>\n",
       "      <td>Makan Place</td>\n",
       "      <td>Makan Place memperkenalkan berbagi makanan unt...</td>\n",
       "      <td>Makanan</td>\n",
       "      <td>Jl. Padma No.1, Legian, Kec. Kuta, Kabupaten B...</td>\n",
       "      <td>Bali</td>\n",
       "      <td>4.4</td>\n",
       "      <td>{'lat': -8.706036539694576, 'lng': 115.1682776...</td>\n",
       "      <td>-870.603.654</td>\n",
       "      <td>1.151.682.777</td>\n",
       "      <td>-</td>\n",
       "      <td>https://media-cdn.tripadvisor.com/media/photo-...</td>\n",
       "    </tr>\n",
       "    <tr>\n",
       "      <th>37</th>\n",
       "      <td>45</td>\n",
       "      <td>Kedaton Restaurant</td>\n",
       "      <td>Datang ke sini saat makan siang hari kerja, ti...</td>\n",
       "      <td>Makanan</td>\n",
       "      <td>Jl. Raya Kuta No.62/3, Kuta, Kec. Kuta, Kabupa...</td>\n",
       "      <td>Bali</td>\n",
       "      <td>4.3</td>\n",
       "      <td>{'lat': -8.717579890571328, 'lng': 115.1808039...</td>\n",
       "      <td>-8.717.579.891</td>\n",
       "      <td>115.180.804</td>\n",
       "      <td>-</td>\n",
       "      <td>https://b.zmtcdn.com/data/reviews_photos/eb9/b...</td>\n",
       "    </tr>\n",
       "  </tbody>\n",
       "</table>\n",
       "</div>"
      ],
      "text/plain": [
       "    Place_Id                  Kuliner_Name  \\\n",
       "33        41   JEBAK ( Jejak Bali Kuliner)   \n",
       "34        42        Pondok Seafood Cak Har   \n",
       "35        43  Bale Udang Mang Engking Kuta   \n",
       "36        44                   Makan Place   \n",
       "37        45            Kedaton Restaurant   \n",
       "\n",
       "                                          Description Category  \\\n",
       "33  Tempat berkumpulnya para vendor makanan dengan...  Makanan   \n",
       "34  Ikan bakarnya enaaak... ikan baronangnya neasr...  Makanan   \n",
       "35  Tempat makan yg unik memiliki gubug-gubug diat...  Makanan   \n",
       "36  Makan Place memperkenalkan berbagi makanan unt...  Makanan   \n",
       "37  Datang ke sini saat makan siang hari kerja, ti...  Makanan   \n",
       "\n",
       "                                               alamat  City  Rating  \\\n",
       "33  Jl. Teuku Umar No.212, Dauh Puri Kauh, Kec. De...  Bali     4.3   \n",
       "34  Jl. Teuku Umar No.222, Dauh Puri Kauh, Kec. De...  Bali     4.3   \n",
       "35  Jl. Nakula No.88, Pemecutan Klod, Kec. Denpasa...  Bali     4.4   \n",
       "36  Jl. Padma No.1, Legian, Kec. Kuta, Kabupaten B...  Bali     4.4   \n",
       "37  Jl. Raya Kuta No.62/3, Kuta, Kec. Kuta, Kabupa...  Bali     4.3   \n",
       "\n",
       "                                           Coordinate             Lat  \\\n",
       "33  {'lat': -8.680513334370504, 'lng': 115.2015822...  -8.680.513.334   \n",
       "34  {'lat': -8.680896572457401, 'lng': 115.2005028...  -8.680.896.572   \n",
       "35  {'lat': -8.699604043838137, 'lng': 115.1830186...  -8.699.604.044   \n",
       "36  {'lat': -8.706036539694576, 'lng': 115.1682776...    -870.603.654   \n",
       "37  {'lat': -8.717579890571328, 'lng': 115.1808039...  -8.717.579.891   \n",
       "\n",
       "             Long   Price                                             Images  \n",
       "33  1.152.015.822  150000  https://www.denpasarkota.go.id/uploads/berita/...  \n",
       "34  1.152.005.028  100000  https://b.zmtcdn.com/data/pictures/5/1705375/9...  \n",
       "35  1.151.830.187       -  https://media-cdn.tripadvisor.com/media/photo-...  \n",
       "36  1.151.682.777       -  https://media-cdn.tripadvisor.com/media/photo-...  \n",
       "37    115.180.804       -  https://b.zmtcdn.com/data/reviews_photos/eb9/b...  "
      ]
     },
     "execution_count": 9,
     "metadata": {},
     "output_type": "execute_result"
    }
   ],
   "source": [
    "# Merubah data agar hanya dari Kota Bali\n",
    "\n",
    "kuliner = kuliner[kuliner['City']=='Bali']\n",
    "kuliner.head()\n"
   ]
  },
  {
   "cell_type": "code",
   "execution_count": 10,
   "metadata": {
    "colab": {
     "base_uri": "https://localhost:8080/",
     "height": 206
    },
    "id": "UXfR_jLyj11O",
    "outputId": "11a14aac-4460-4bcd-ded6-9747c7de0793"
   },
   "outputs": [
    {
     "data": {
      "text/html": [
       "<div>\n",
       "<style scoped>\n",
       "    .dataframe tbody tr th:only-of-type {\n",
       "        vertical-align: middle;\n",
       "    }\n",
       "\n",
       "    .dataframe tbody tr th {\n",
       "        vertical-align: top;\n",
       "    }\n",
       "\n",
       "    .dataframe thead th {\n",
       "        text-align: right;\n",
       "    }\n",
       "</style>\n",
       "<table border=\"1\" class=\"dataframe\">\n",
       "  <thead>\n",
       "    <tr style=\"text-align: right;\">\n",
       "      <th></th>\n",
       "      <th>User_Id</th>\n",
       "      <th>Place_Id</th>\n",
       "      <th>Place_Ratings</th>\n",
       "    </tr>\n",
       "  </thead>\n",
       "  <tbody>\n",
       "    <tr>\n",
       "      <th>0</th>\n",
       "      <td>1</td>\n",
       "      <td>179</td>\n",
       "      <td>3</td>\n",
       "    </tr>\n",
       "    <tr>\n",
       "      <th>1</th>\n",
       "      <td>1</td>\n",
       "      <td>344</td>\n",
       "      <td>2</td>\n",
       "    </tr>\n",
       "    <tr>\n",
       "      <th>2</th>\n",
       "      <td>1</td>\n",
       "      <td>5</td>\n",
       "      <td>5</td>\n",
       "    </tr>\n",
       "    <tr>\n",
       "      <th>3</th>\n",
       "      <td>1</td>\n",
       "      <td>373</td>\n",
       "      <td>3</td>\n",
       "    </tr>\n",
       "    <tr>\n",
       "      <th>4</th>\n",
       "      <td>1</td>\n",
       "      <td>101</td>\n",
       "      <td>4</td>\n",
       "    </tr>\n",
       "  </tbody>\n",
       "</table>\n",
       "</div>"
      ],
      "text/plain": [
       "   User_Id  Place_Id  Place_Ratings\n",
       "0        1       179              3\n",
       "1        1       344              2\n",
       "2        1         5              5\n",
       "3        1       373              3\n",
       "4        1       101              4"
      ]
     },
     "execution_count": 10,
     "metadata": {},
     "output_type": "execute_result"
    }
   ],
   "source": [
    "rating.head()"
   ]
  },
  {
   "cell_type": "code",
   "execution_count": 11,
   "metadata": {
    "id": "faQmImEHj7lr"
   },
   "outputs": [],
   "source": [
    "df = rating.copy()"
   ]
  },
  {
   "cell_type": "code",
   "execution_count": 12,
   "metadata": {
    "id": "Y2A8gEUfkBO1"
   },
   "outputs": [],
   "source": [
    "#ENCODING\n",
    "def dict_encoder(col, data=df):\n",
    "  unique_val = data[col].unique().tolist()\n",
    "  val_to_val_encoded = {x: i for i, x in enumerate(unique_val)}\n",
    "  val_encoded_to_val = {i: x for i, x in enumerate(unique_val)}\n",
    "  return val_to_val_encoded, val_encoded_to_val"
   ]
  },
  {
   "cell_type": "code",
   "execution_count": 13,
   "metadata": {
    "id": "am59S7y-kEc7"
   },
   "outputs": [],
   "source": [
    "user_to_user_encoded, user_encoded_to_user = dict_encoder('User_Id')\n",
    "df['user'] = df['User_Id'].map(user_to_user_encoded)"
   ]
  },
  {
   "cell_type": "code",
   "execution_count": 14,
   "metadata": {
    "id": "eQjVlgL7kJR1"
   },
   "outputs": [],
   "source": [
    "# Encoding Place_Id\n",
    "place_to_place_encoded, place_encoded_to_place = dict_encoder('Place_Id')\n",
    "\n",
    "# Mapping Place_Id ke dataframe place\n",
    "df['place'] = df['Place_Id'].map(place_to_place_encoded)"
   ]
  },
  {
   "cell_type": "code",
   "execution_count": 15,
   "metadata": {
    "id": "WnHUTDAHkLQt"
   },
   "outputs": [],
   "source": [
    "# Mendapatkan jumlah user dan hotel\n",
    "num_users, num_place = len(user_to_user_encoded), len(place_to_place_encoded)\n",
    "# mengubah nilai rating menjadi nilai float\n",
    "df['Place_Ratings'] = df['Place_Ratings'].values.astype(np.float32)\n",
    "# Mendapatkan nilai minimum dan maksimum rating\n",
    "min_rating, max_rating = min(df['Place_Ratings']), max(df['Place_Ratings'])"
   ]
  },
  {
   "cell_type": "code",
   "execution_count": 16,
   "metadata": {
    "colab": {
     "base_uri": "https://localhost:8080/"
    },
    "id": "0GoFMjOikPeh",
    "outputId": "bc32bdb2-05db-496a-8a2f-e22999ea0bc3"
   },
   "outputs": [
    {
     "name": "stdout",
     "output_type": "stream",
     "text": [
      "Jumlah user : 300\n",
      "Jumlah kuliner : 437\n",
      "Rating minimum : 1.0\n",
      "Rating maximum : 5.0\n"
     ]
    }
   ],
   "source": [
    "print(f'Jumlah user : {num_users}')\n",
    "print(f'Jumlah kuliner : {num_place}')\n",
    "print(f'Rating minimum : {min_rating}')\n",
    "print(f'Rating maximum : {max_rating}')"
   ]
  },
  {
   "cell_type": "code",
   "execution_count": 17,
   "metadata": {
    "colab": {
     "base_uri": "https://localhost:8080/",
     "height": 206
    },
    "id": "LEh4cl9qkVCs",
    "outputId": "e4f50e98-627c-457b-a04e-b125a39dd6c4"
   },
   "outputs": [
    {
     "data": {
      "text/html": [
       "<div>\n",
       "<style scoped>\n",
       "    .dataframe tbody tr th:only-of-type {\n",
       "        vertical-align: middle;\n",
       "    }\n",
       "\n",
       "    .dataframe tbody tr th {\n",
       "        vertical-align: top;\n",
       "    }\n",
       "\n",
       "    .dataframe thead th {\n",
       "        text-align: right;\n",
       "    }\n",
       "</style>\n",
       "<table border=\"1\" class=\"dataframe\">\n",
       "  <thead>\n",
       "    <tr style=\"text-align: right;\">\n",
       "      <th></th>\n",
       "      <th>User_Id</th>\n",
       "      <th>Place_Id</th>\n",
       "      <th>Place_Ratings</th>\n",
       "      <th>user</th>\n",
       "      <th>place</th>\n",
       "    </tr>\n",
       "  </thead>\n",
       "  <tbody>\n",
       "    <tr>\n",
       "      <th>6252</th>\n",
       "      <td>188</td>\n",
       "      <td>207</td>\n",
       "      <td>3.0</td>\n",
       "      <td>187</td>\n",
       "      <td>262</td>\n",
       "    </tr>\n",
       "    <tr>\n",
       "      <th>4684</th>\n",
       "      <td>142</td>\n",
       "      <td>268</td>\n",
       "      <td>2.0</td>\n",
       "      <td>141</td>\n",
       "      <td>83</td>\n",
       "    </tr>\n",
       "    <tr>\n",
       "      <th>1731</th>\n",
       "      <td>54</td>\n",
       "      <td>103</td>\n",
       "      <td>3.0</td>\n",
       "      <td>53</td>\n",
       "      <td>10</td>\n",
       "    </tr>\n",
       "    <tr>\n",
       "      <th>4742</th>\n",
       "      <td>144</td>\n",
       "      <td>119</td>\n",
       "      <td>3.0</td>\n",
       "      <td>143</td>\n",
       "      <td>141</td>\n",
       "    </tr>\n",
       "    <tr>\n",
       "      <th>4521</th>\n",
       "      <td>138</td>\n",
       "      <td>288</td>\n",
       "      <td>5.0</td>\n",
       "      <td>137</td>\n",
       "      <td>283</td>\n",
       "    </tr>\n",
       "  </tbody>\n",
       "</table>\n",
       "</div>"
      ],
      "text/plain": [
       "      User_Id  Place_Id  Place_Ratings  user  place\n",
       "6252      188       207            3.0   187    262\n",
       "4684      142       268            2.0   141     83\n",
       "1731       54       103            3.0    53     10\n",
       "4742      144       119            3.0   143    141\n",
       "4521      138       288            5.0   137    283"
      ]
     },
     "execution_count": 17,
     "metadata": {},
     "output_type": "execute_result"
    }
   ],
   "source": [
    "# Mengacak dataset\n",
    "df = df.sample(frac=1, random_state=42)\n",
    "df.head()"
   ]
  },
  {
   "cell_type": "markdown",
   "metadata": {
    "id": "qa_3eNLukb7w"
   },
   "source": [
    "# Splitting Dataset"
   ]
  },
  {
   "cell_type": "code",
   "execution_count": 18,
   "metadata": {
    "colab": {
     "base_uri": "https://localhost:8080/"
    },
    "id": "HaAomUqQkd49",
    "outputId": "41ee041b-0a84-44ca-a2bb-fba9e2385561"
   },
   "outputs": [
    {
     "name": "stdout",
     "output_type": "stream",
     "text": [
      "x_train : (8000, 2)\n",
      "x_test : (2000, 2)\n",
      "y_train : (8000,)\n",
      "y_test : (2000,)\n"
     ]
    }
   ],
   "source": [
    "# Mambuat Variable x\n",
    "x = df[['user', 'place']].values\n",
    "# membuat Variable y\n",
    "y = df['Place_Ratings'].apply(lambda x: (x-min_rating)/(max_rating-min_rating)).values\n",
    "\n",
    "# split dataset\n",
    "indices = int(0.8*df.shape[0])\n",
    "x_train, x_test, y_train, y_test = (x[:indices],\n",
    "                                    x[indices:],\n",
    "                                    y[:indices],\n",
    "                                    y[indices:]\n",
    "                                    )\n",
    "print(f'x_train : {x_train.shape}')\n",
    "print(f'x_test : {x_test.shape}')\n",
    "print(f'y_train : {y_train.shape}')\n",
    "print(f'y_test : {y_test.shape}')"
   ]
  },
  {
   "cell_type": "code",
   "execution_count": 19,
   "metadata": {
    "id": "E2K4DOGpkivb"
   },
   "outputs": [],
   "source": [
    "class Recommended(keras.Model):\n",
    "  def __init__(self,num_users, num_places, embedding_size, **kwargs):\n",
    "    super(Recommended, self).__init__(**kwargs)\n",
    "    self.num_users = num_users\n",
    "    self.num_places = num_places\n",
    "    self.embedding_size = embedding_size\n",
    "    self.user_embedding = layers.Embedding(num_users,\n",
    "                                           embedding_size,\n",
    "                                           embeddings_initializer = 'he_normal',\n",
    "                                           embeddings_regularizer = keras.regularizers.l2(1e-6)\n",
    "    )\n",
    "    self.user_bias = layers.Embedding(num_users,1)\n",
    "    self.places_embedding = layers.Embedding(num_places,\n",
    "                                             embedding_size,\n",
    "                                             embeddings_initializer='he_normal',\n",
    "                                             embeddings_regularizer= keras.regularizers.l2(1e-6)\n",
    "                                             )\n",
    "    self.places_bias = layers.Embedding(num_places,1)\n",
    "\n",
    "  def call(self, inputs):\n",
    "    user_vec = self.user_embedding(inputs[:,0])\n",
    "    user_bias = self.user_bias(inputs[:,0])\n",
    "    places_vec = self.places_embedding(inputs[:,1])\n",
    "    places_bias = self.places_bias(inputs[:,1])\n",
    "\n",
    "    dot_user_places = tf.tensordot(user_vec, places_vec, 2)\n",
    "\n",
    "    x = dot_user_places + user_bias + places_bias\n",
    "\n",
    "    return tf.nn.sigmoid(x)\n"
   ]
  },
  {
   "cell_type": "code",
   "execution_count": 20,
   "metadata": {
    "id": "JiXUdNx6kmRB"
   },
   "outputs": [
    {
     "name": "stderr",
     "output_type": "stream",
     "text": [
      "2022-06-09 20:55:24.862140: W tensorflow/stream_executor/platform/default/dso_loader.cc:64] Could not load dynamic library 'libcuda.so.1'; dlerror: libcuda.so.1: cannot open shared object file: No such file or directory\n",
      "2022-06-09 20:55:24.862197: W tensorflow/stream_executor/cuda/cuda_driver.cc:269] failed call to cuInit: UNKNOWN ERROR (303)\n",
      "2022-06-09 20:55:24.862250: I tensorflow/stream_executor/cuda/cuda_diagnostics.cc:156] kernel driver does not appear to be running on this host (wan): /proc/driver/nvidia/version does not exist\n"
     ]
    }
   ],
   "source": [
    "model = Recommended(num_users, num_place, 50)\n",
    "\n",
    "model.compile(loss = keras.losses.BinaryCrossentropy(),\n",
    "              optimizer= keras.optimizers.Adam(learning_rate=0.0004),\n",
    "              metrics=[keras.metrics.RootMeanSquaredError()]\n",
    "              )"
   ]
  },
  {
   "cell_type": "markdown",
   "metadata": {
    "id": "nRUMiWeVko_k"
   },
   "source": [
    "# training Model"
   ]
  },
  {
   "cell_type": "code",
   "execution_count": 21,
   "metadata": {
    "colab": {
     "base_uri": "https://localhost:8080/"
    },
    "id": "xROri4O9koRP",
    "outputId": "576bd94b-664d-4771-e234-550cf5afd072"
   },
   "outputs": [
    {
     "name": "stdout",
     "output_type": "stream",
     "text": [
      "Epoch 1/100\n",
      "250/250 [==============================] - 2s 4ms/step - loss: 0.6984 - root_mean_squared_error: 0.3490 - val_loss: 0.6977 - val_root_mean_squared_error: 0.3482\n",
      "Epoch 2/100\n",
      "250/250 [==============================] - 1s 3ms/step - loss: 0.6968 - root_mean_squared_error: 0.3479 - val_loss: 0.6971 - val_root_mean_squared_error: 0.3478\n",
      "Epoch 3/100\n",
      "250/250 [==============================] - 1s 4ms/step - loss: 0.6967 - root_mean_squared_error: 0.3478 - val_loss: 0.6972 - val_root_mean_squared_error: 0.3478\n",
      "Epoch 4/100\n",
      "250/250 [==============================] - 1s 4ms/step - loss: 0.6927 - root_mean_squared_error: 0.3450 - val_loss: 0.6969 - val_root_mean_squared_error: 0.3477\n",
      "Epoch 5/100\n",
      "250/250 [==============================] - 1s 3ms/step - loss: 0.6924 - root_mean_squared_error: 0.3447 - val_loss: 0.6970 - val_root_mean_squared_error: 0.3477\n",
      "Epoch 6/100\n",
      "250/250 [==============================] - 1s 3ms/step - loss: 0.6917 - root_mean_squared_error: 0.3443 - val_loss: 0.6968 - val_root_mean_squared_error: 0.3475\n",
      "Epoch 7/100\n",
      "250/250 [==============================] - 1s 3ms/step - loss: 0.6895 - root_mean_squared_error: 0.3427 - val_loss: 0.6963 - val_root_mean_squared_error: 0.3472\n",
      "Epoch 8/100\n",
      "250/250 [==============================] - 1s 3ms/step - loss: 0.6899 - root_mean_squared_error: 0.3429 - val_loss: 0.6960 - val_root_mean_squared_error: 0.3470\n",
      "Epoch 9/100\n",
      "250/250 [==============================] - 1s 3ms/step - loss: 0.6874 - root_mean_squared_error: 0.3411 - val_loss: 0.6953 - val_root_mean_squared_error: 0.3465\n",
      "Epoch 10/100\n",
      "250/250 [==============================] - 1s 3ms/step - loss: 0.6867 - root_mean_squared_error: 0.3406 - val_loss: 0.6950 - val_root_mean_squared_error: 0.3462\n",
      "Epoch 11/100\n",
      "250/250 [==============================] - 1s 3ms/step - loss: 0.6861 - root_mean_squared_error: 0.3403 - val_loss: 0.6952 - val_root_mean_squared_error: 0.3464\n",
      "Epoch 12/100\n",
      "250/250 [==============================] - 1s 3ms/step - loss: 0.6862 - root_mean_squared_error: 0.3403 - val_loss: 0.6949 - val_root_mean_squared_error: 0.3462\n",
      "Epoch 13/100\n",
      "250/250 [==============================] - 1s 3ms/step - loss: 0.6859 - root_mean_squared_error: 0.3401 - val_loss: 0.6945 - val_root_mean_squared_error: 0.3459\n",
      "Epoch 14/100\n",
      "250/250 [==============================] - 1s 3ms/step - loss: 0.6827 - root_mean_squared_error: 0.3377 - val_loss: 0.6946 - val_root_mean_squared_error: 0.3460\n",
      "Epoch 15/100\n",
      "250/250 [==============================] - 1s 3ms/step - loss: 0.6845 - root_mean_squared_error: 0.3390 - val_loss: 0.6947 - val_root_mean_squared_error: 0.3460\n",
      "Epoch 16/100\n",
      "250/250 [==============================] - 1s 3ms/step - loss: 0.6837 - root_mean_squared_error: 0.3385 - val_loss: 0.6945 - val_root_mean_squared_error: 0.3459\n",
      "Epoch 17/100\n",
      "250/250 [==============================] - 1s 3ms/step - loss: 0.6818 - root_mean_squared_error: 0.3371 - val_loss: 0.6941 - val_root_mean_squared_error: 0.3456\n",
      "Epoch 18/100\n",
      "250/250 [==============================] - 1s 3ms/step - loss: 0.6797 - root_mean_squared_error: 0.3356 - val_loss: 0.6943 - val_root_mean_squared_error: 0.3458\n",
      "Epoch 19/100\n",
      "250/250 [==============================] - 1s 3ms/step - loss: 0.6802 - root_mean_squared_error: 0.3359 - val_loss: 0.6942 - val_root_mean_squared_error: 0.3457\n",
      "Epoch 20/100\n",
      "250/250 [==============================] - 1s 3ms/step - loss: 0.6802 - root_mean_squared_error: 0.3359 - val_loss: 0.6943 - val_root_mean_squared_error: 0.3458\n",
      "Epoch 21/100\n",
      "250/250 [==============================] - 1s 3ms/step - loss: 0.6793 - root_mean_squared_error: 0.3353 - val_loss: 0.6942 - val_root_mean_squared_error: 0.3457\n",
      "Epoch 22/100\n",
      "250/250 [==============================] - 1s 3ms/step - loss: 0.6785 - root_mean_squared_error: 0.3346 - val_loss: 0.6945 - val_root_mean_squared_error: 0.3459\n",
      "Epoch 23/100\n",
      "250/250 [==============================] - 1s 3ms/step - loss: 0.6793 - root_mean_squared_error: 0.3353 - val_loss: 0.6948 - val_root_mean_squared_error: 0.3461\n",
      "Epoch 24/100\n",
      "250/250 [==============================] - 1s 3ms/step - loss: 0.6779 - root_mean_squared_error: 0.3342 - val_loss: 0.6949 - val_root_mean_squared_error: 0.3462\n",
      "Epoch 25/100\n",
      "250/250 [==============================] - 1s 3ms/step - loss: 0.6758 - root_mean_squared_error: 0.3327 - val_loss: 0.6948 - val_root_mean_squared_error: 0.3461\n",
      "Epoch 26/100\n",
      "250/250 [==============================] - 1s 3ms/step - loss: 0.6743 - root_mean_squared_error: 0.3316 - val_loss: 0.6951 - val_root_mean_squared_error: 0.3463\n",
      "Epoch 27/100\n",
      "250/250 [==============================] - 1s 4ms/step - loss: 0.6746 - root_mean_squared_error: 0.3318 - val_loss: 0.6952 - val_root_mean_squared_error: 0.3464\n",
      "Epoch 28/100\n",
      "250/250 [==============================] - 1s 4ms/step - loss: 0.6748 - root_mean_squared_error: 0.3319 - val_loss: 0.6954 - val_root_mean_squared_error: 0.3466\n",
      "Epoch 29/100\n",
      "250/250 [==============================] - 1s 4ms/step - loss: 0.6747 - root_mean_squared_error: 0.3319 - val_loss: 0.6956 - val_root_mean_squared_error: 0.3467\n",
      "Epoch 30/100\n",
      "250/250 [==============================] - 1s 3ms/step - loss: 0.6743 - root_mean_squared_error: 0.3316 - val_loss: 0.6956 - val_root_mean_squared_error: 0.3467\n",
      "Epoch 31/100\n",
      "250/250 [==============================] - 1s 3ms/step - loss: 0.6739 - root_mean_squared_error: 0.3313 - val_loss: 0.6957 - val_root_mean_squared_error: 0.3467\n",
      "Epoch 32/100\n",
      "250/250 [==============================] - 1s 3ms/step - loss: 0.6715 - root_mean_squared_error: 0.3295 - val_loss: 0.6960 - val_root_mean_squared_error: 0.3469\n",
      "Epoch 33/100\n",
      "250/250 [==============================] - 1s 3ms/step - loss: 0.6729 - root_mean_squared_error: 0.3306 - val_loss: 0.6966 - val_root_mean_squared_error: 0.3474\n",
      "Epoch 34/100\n",
      "250/250 [==============================] - 1s 3ms/step - loss: 0.6721 - root_mean_squared_error: 0.3300 - val_loss: 0.6966 - val_root_mean_squared_error: 0.3473\n",
      "Epoch 35/100\n",
      "250/250 [==============================] - 1s 3ms/step - loss: 0.6722 - root_mean_squared_error: 0.3301 - val_loss: 0.6967 - val_root_mean_squared_error: 0.3474\n",
      "Epoch 36/100\n",
      "250/250 [==============================] - 1s 3ms/step - loss: 0.6716 - root_mean_squared_error: 0.3296 - val_loss: 0.6971 - val_root_mean_squared_error: 0.3477\n",
      "Epoch 37/100\n",
      "250/250 [==============================] - 1s 3ms/step - loss: 0.6707 - root_mean_squared_error: 0.3290 - val_loss: 0.6969 - val_root_mean_squared_error: 0.3476\n",
      "Epoch 38/100\n",
      "250/250 [==============================] - 1s 3ms/step - loss: 0.6714 - root_mean_squared_error: 0.3295 - val_loss: 0.6971 - val_root_mean_squared_error: 0.3477\n",
      "Epoch 39/100\n",
      "250/250 [==============================] - 1s 3ms/step - loss: 0.6710 - root_mean_squared_error: 0.3292 - val_loss: 0.6975 - val_root_mean_squared_error: 0.3479\n",
      "Epoch 40/100\n",
      "250/250 [==============================] - 1s 3ms/step - loss: 0.6687 - root_mean_squared_error: 0.3275 - val_loss: 0.6973 - val_root_mean_squared_error: 0.3478\n",
      "Epoch 41/100\n",
      "250/250 [==============================] - 1s 3ms/step - loss: 0.6690 - root_mean_squared_error: 0.3277 - val_loss: 0.6975 - val_root_mean_squared_error: 0.3479\n",
      "Epoch 42/100\n",
      "250/250 [==============================] - 1s 3ms/step - loss: 0.6695 - root_mean_squared_error: 0.3281 - val_loss: 0.6975 - val_root_mean_squared_error: 0.3479\n",
      "Epoch 43/100\n",
      "250/250 [==============================] - 1s 3ms/step - loss: 0.6690 - root_mean_squared_error: 0.3278 - val_loss: 0.6977 - val_root_mean_squared_error: 0.3481\n",
      "Epoch 44/100\n",
      "250/250 [==============================] - 1s 4ms/step - loss: 0.6698 - root_mean_squared_error: 0.3284 - val_loss: 0.6977 - val_root_mean_squared_error: 0.3481\n",
      "Epoch 45/100\n",
      "250/250 [==============================] - 1s 4ms/step - loss: 0.6684 - root_mean_squared_error: 0.3273 - val_loss: 0.6978 - val_root_mean_squared_error: 0.3482\n",
      "Epoch 46/100\n",
      "250/250 [==============================] - 1s 4ms/step - loss: 0.6691 - root_mean_squared_error: 0.3278 - val_loss: 0.6980 - val_root_mean_squared_error: 0.3483\n",
      "Epoch 47/100\n",
      "250/250 [==============================] - 1s 4ms/step - loss: 0.6691 - root_mean_squared_error: 0.3278 - val_loss: 0.6977 - val_root_mean_squared_error: 0.3481\n",
      "Epoch 48/100\n",
      "250/250 [==============================] - 1s 4ms/step - loss: 0.6681 - root_mean_squared_error: 0.3270 - val_loss: 0.6978 - val_root_mean_squared_error: 0.3482\n",
      "Epoch 49/100\n",
      "250/250 [==============================] - 1s 3ms/step - loss: 0.6680 - root_mean_squared_error: 0.3270 - val_loss: 0.6982 - val_root_mean_squared_error: 0.3484\n",
      "Epoch 50/100\n",
      "250/250 [==============================] - 1s 3ms/step - loss: 0.6680 - root_mean_squared_error: 0.3271 - val_loss: 0.6980 - val_root_mean_squared_error: 0.3483\n",
      "Epoch 51/100\n",
      "250/250 [==============================] - 1s 3ms/step - loss: 0.6678 - root_mean_squared_error: 0.3268 - val_loss: 0.6983 - val_root_mean_squared_error: 0.3485\n",
      "Epoch 52/100\n",
      "250/250 [==============================] - 1s 4ms/step - loss: 0.6684 - root_mean_squared_error: 0.3273 - val_loss: 0.6981 - val_root_mean_squared_error: 0.3483\n",
      "Epoch 53/100\n",
      "250/250 [==============================] - 1s 3ms/step - loss: 0.6675 - root_mean_squared_error: 0.3267 - val_loss: 0.6984 - val_root_mean_squared_error: 0.3485\n",
      "Epoch 54/100\n",
      "250/250 [==============================] - 1s 4ms/step - loss: 0.6674 - root_mean_squared_error: 0.3265 - val_loss: 0.6988 - val_root_mean_squared_error: 0.3488\n",
      "Epoch 55/100\n",
      "250/250 [==============================] - 1s 4ms/step - loss: 0.6665 - root_mean_squared_error: 0.3259 - val_loss: 0.6992 - val_root_mean_squared_error: 0.3490\n",
      "Epoch 56/100\n",
      "250/250 [==============================] - 1s 5ms/step - loss: 0.6670 - root_mean_squared_error: 0.3263 - val_loss: 0.6993 - val_root_mean_squared_error: 0.3491\n",
      "Epoch 57/100\n",
      "250/250 [==============================] - 1s 4ms/step - loss: 0.6672 - root_mean_squared_error: 0.3264 - val_loss: 0.6995 - val_root_mean_squared_error: 0.3492\n",
      "Epoch 58/100\n",
      "250/250 [==============================] - 1s 3ms/step - loss: 0.6662 - root_mean_squared_error: 0.3257 - val_loss: 0.6995 - val_root_mean_squared_error: 0.3492\n",
      "Epoch 59/100\n",
      "250/250 [==============================] - 1s 3ms/step - loss: 0.6663 - root_mean_squared_error: 0.3259 - val_loss: 0.6999 - val_root_mean_squared_error: 0.3495\n",
      "Epoch 60/100\n",
      "250/250 [==============================] - 1s 3ms/step - loss: 0.6651 - root_mean_squared_error: 0.3249 - val_loss: 0.7002 - val_root_mean_squared_error: 0.3497\n",
      "Epoch 61/100\n",
      "250/250 [==============================] - 1s 3ms/step - loss: 0.6659 - root_mean_squared_error: 0.3255 - val_loss: 0.7005 - val_root_mean_squared_error: 0.3499\n",
      "Epoch 62/100\n",
      "250/250 [==============================] - 1s 3ms/step - loss: 0.6666 - root_mean_squared_error: 0.3259 - val_loss: 0.7005 - val_root_mean_squared_error: 0.3499\n",
      "Epoch 63/100\n",
      "250/250 [==============================] - 1s 3ms/step - loss: 0.6648 - root_mean_squared_error: 0.3248 - val_loss: 0.7004 - val_root_mean_squared_error: 0.3498\n",
      "Epoch 64/100\n",
      "250/250 [==============================] - 1s 3ms/step - loss: 0.6659 - root_mean_squared_error: 0.3255 - val_loss: 0.7014 - val_root_mean_squared_error: 0.3505\n",
      "Epoch 65/100\n",
      "250/250 [==============================] - 1s 3ms/step - loss: 0.6652 - root_mean_squared_error: 0.3250 - val_loss: 0.7017 - val_root_mean_squared_error: 0.3507\n",
      "Epoch 66/100\n",
      "250/250 [==============================] - 1s 3ms/step - loss: 0.6664 - root_mean_squared_error: 0.3258 - val_loss: 0.7022 - val_root_mean_squared_error: 0.3510\n",
      "Epoch 67/100\n",
      "250/250 [==============================] - 1s 3ms/step - loss: 0.6656 - root_mean_squared_error: 0.3253 - val_loss: 0.7023 - val_root_mean_squared_error: 0.3511\n",
      "Epoch 68/100\n",
      "250/250 [==============================] - 1s 3ms/step - loss: 0.6669 - root_mean_squared_error: 0.3262 - val_loss: 0.7026 - val_root_mean_squared_error: 0.3513\n",
      "Epoch 69/100\n",
      "250/250 [==============================] - 1s 3ms/step - loss: 0.6647 - root_mean_squared_error: 0.3246 - val_loss: 0.7028 - val_root_mean_squared_error: 0.3514\n",
      "Epoch 70/100\n",
      "250/250 [==============================] - 1s 3ms/step - loss: 0.6656 - root_mean_squared_error: 0.3252 - val_loss: 0.7027 - val_root_mean_squared_error: 0.3514\n",
      "Epoch 71/100\n",
      "250/250 [==============================] - 1s 3ms/step - loss: 0.6661 - root_mean_squared_error: 0.3257 - val_loss: 0.7025 - val_root_mean_squared_error: 0.3512\n",
      "Epoch 72/100\n",
      "250/250 [==============================] - 1s 3ms/step - loss: 0.6651 - root_mean_squared_error: 0.3250 - val_loss: 0.7027 - val_root_mean_squared_error: 0.3514\n",
      "Epoch 73/100\n",
      "250/250 [==============================] - 1s 4ms/step - loss: 0.6651 - root_mean_squared_error: 0.3249 - val_loss: 0.7031 - val_root_mean_squared_error: 0.3516\n",
      "Epoch 74/100\n",
      "250/250 [==============================] - 1s 4ms/step - loss: 0.6652 - root_mean_squared_error: 0.3250 - val_loss: 0.7034 - val_root_mean_squared_error: 0.3518\n",
      "Epoch 75/100\n",
      "250/250 [==============================] - 1s 3ms/step - loss: 0.6651 - root_mean_squared_error: 0.3250 - val_loss: 0.7037 - val_root_mean_squared_error: 0.3520\n",
      "Epoch 76/100\n",
      "250/250 [==============================] - 1s 3ms/step - loss: 0.6664 - root_mean_squared_error: 0.3259 - val_loss: 0.7033 - val_root_mean_squared_error: 0.3517\n",
      "Epoch 77/100\n",
      "250/250 [==============================] - 1s 3ms/step - loss: 0.6649 - root_mean_squared_error: 0.3248 - val_loss: 0.7035 - val_root_mean_squared_error: 0.3518\n",
      "Epoch 78/100\n",
      "250/250 [==============================] - 1s 4ms/step - loss: 0.6653 - root_mean_squared_error: 0.3250 - val_loss: 0.7033 - val_root_mean_squared_error: 0.3517\n",
      "Epoch 79/100\n",
      "250/250 [==============================] - 1s 4ms/step - loss: 0.6650 - root_mean_squared_error: 0.3249 - val_loss: 0.7035 - val_root_mean_squared_error: 0.3519\n",
      "Epoch 80/100\n",
      "250/250 [==============================] - 1s 3ms/step - loss: 0.6635 - root_mean_squared_error: 0.3238 - val_loss: 0.7036 - val_root_mean_squared_error: 0.3519\n",
      "Epoch 81/100\n",
      "250/250 [==============================] - 1s 3ms/step - loss: 0.6636 - root_mean_squared_error: 0.3239 - val_loss: 0.7040 - val_root_mean_squared_error: 0.3522\n",
      "Epoch 82/100\n",
      "250/250 [==============================] - 1s 3ms/step - loss: 0.6636 - root_mean_squared_error: 0.3238 - val_loss: 0.7042 - val_root_mean_squared_error: 0.3523\n",
      "Epoch 83/100\n",
      "250/250 [==============================] - 1s 3ms/step - loss: 0.6645 - root_mean_squared_error: 0.3245 - val_loss: 0.7040 - val_root_mean_squared_error: 0.3522\n",
      "Epoch 84/100\n",
      "250/250 [==============================] - 1s 3ms/step - loss: 0.6645 - root_mean_squared_error: 0.3245 - val_loss: 0.7038 - val_root_mean_squared_error: 0.3520\n",
      "Epoch 85/100\n",
      "250/250 [==============================] - 1s 3ms/step - loss: 0.6646 - root_mean_squared_error: 0.3246 - val_loss: 0.7044 - val_root_mean_squared_error: 0.3524\n",
      "Epoch 86/100\n",
      "250/250 [==============================] - 1s 3ms/step - loss: 0.6646 - root_mean_squared_error: 0.3246 - val_loss: 0.7045 - val_root_mean_squared_error: 0.3525\n",
      "Epoch 87/100\n",
      "250/250 [==============================] - 1s 3ms/step - loss: 0.6638 - root_mean_squared_error: 0.3240 - val_loss: 0.7048 - val_root_mean_squared_error: 0.3527\n",
      "Epoch 88/100\n",
      "250/250 [==============================] - 1s 3ms/step - loss: 0.6628 - root_mean_squared_error: 0.3233 - val_loss: 0.7051 - val_root_mean_squared_error: 0.3528\n",
      "Epoch 89/100\n",
      "250/250 [==============================] - 1s 3ms/step - loss: 0.6637 - root_mean_squared_error: 0.3239 - val_loss: 0.7050 - val_root_mean_squared_error: 0.3528\n",
      "Epoch 90/100\n",
      "250/250 [==============================] - 1s 3ms/step - loss: 0.6642 - root_mean_squared_error: 0.3243 - val_loss: 0.7054 - val_root_mean_squared_error: 0.3531\n",
      "Epoch 91/100\n",
      "250/250 [==============================] - 1s 3ms/step - loss: 0.6627 - root_mean_squared_error: 0.3232 - val_loss: 0.7051 - val_root_mean_squared_error: 0.3529\n",
      "Epoch 92/100\n",
      "250/250 [==============================] - 1s 3ms/step - loss: 0.6638 - root_mean_squared_error: 0.3240 - val_loss: 0.7050 - val_root_mean_squared_error: 0.3528\n",
      "Epoch 93/100\n",
      "250/250 [==============================] - 1s 3ms/step - loss: 0.6645 - root_mean_squared_error: 0.3245 - val_loss: 0.7054 - val_root_mean_squared_error: 0.3530\n",
      "Epoch 94/100\n",
      "250/250 [==============================] - 1s 3ms/step - loss: 0.6635 - root_mean_squared_error: 0.3238 - val_loss: 0.7053 - val_root_mean_squared_error: 0.3530\n",
      "Epoch 95/100\n"
     ]
    },
    {
     "name": "stdout",
     "output_type": "stream",
     "text": [
      "250/250 [==============================] - 1s 3ms/step - loss: 0.6632 - root_mean_squared_error: 0.3236 - val_loss: 0.7060 - val_root_mean_squared_error: 0.3534\n",
      "Epoch 96/100\n",
      "250/250 [==============================] - 1s 3ms/step - loss: 0.6632 - root_mean_squared_error: 0.3236 - val_loss: 0.7058 - val_root_mean_squared_error: 0.3533\n",
      "Epoch 97/100\n",
      "250/250 [==============================] - 1s 3ms/step - loss: 0.6631 - root_mean_squared_error: 0.3234 - val_loss: 0.7056 - val_root_mean_squared_error: 0.3532\n",
      "Epoch 98/100\n",
      "250/250 [==============================] - 1s 3ms/step - loss: 0.6636 - root_mean_squared_error: 0.3239 - val_loss: 0.7059 - val_root_mean_squared_error: 0.3534\n",
      "Epoch 99/100\n",
      "250/250 [==============================] - 1s 3ms/step - loss: 0.6644 - root_mean_squared_error: 0.3244 - val_loss: 0.7061 - val_root_mean_squared_error: 0.3535\n",
      "Epoch 100/100\n",
      "250/250 [==============================] - 1s 3ms/step - loss: 0.6631 - root_mean_squared_error: 0.3235 - val_loss: 0.7060 - val_root_mean_squared_error: 0.3534\n"
     ]
    }
   ],
   "source": [
    "history = model.fit(\n",
    "    x = x_train,\n",
    "    y = y_train,\n",
    "    epochs = 100,\n",
    "    validation_data = (x_test, y_test)\n",
    ")"
   ]
  },
  {
   "cell_type": "markdown",
   "metadata": {
    "id": "czip3luik9Jk"
   },
   "source": [
    "# Evaluasi Model"
   ]
  },
  {
   "cell_type": "code",
   "execution_count": 23,
   "metadata": {
    "colab": {
     "base_uri": "https://localhost:8080/"
    },
    "id": "ipI2DcfYk8c8",
    "outputId": "30802cec-32eb-4476-ebc8-259b080c8d3a"
   },
   "outputs": [
    {
     "name": "stdout",
     "output_type": "stream",
     "text": [
      "63/63 [==============================] - 0s 2ms/step - loss: 0.7060 - root_mean_squared_error: 0.3534\n"
     ]
    },
    {
     "data": {
      "text/plain": [
       "[0.7059913277626038, 0.35343778133392334]"
      ]
     },
     "execution_count": 23,
     "metadata": {},
     "output_type": "execute_result"
    }
   ],
   "source": [
    "model.evaluate(x=x_test, y=y_test)"
   ]
  },
  {
   "cell_type": "code",
   "execution_count": 26,
   "metadata": {
    "colab": {
     "base_uri": "https://localhost:8080/",
     "height": 295
    },
    "id": "rzwPRh8ZlDan",
    "outputId": "bf951192-7a49-4298-d742-9648fe9817da"
   },
   "outputs": [
    {
     "data": {
      "image/png": "[encoded data removed]",
      "text/plain": [
       "<Figure size 432x288 with 1 Axes>"
      ]
     },
     "metadata": {
      "needs_background": "light"
     },
     "output_type": "display_data"
    }
   ],
   "source": [
    "import matplotlib.pyplot as plt\n",
    "\n",
    "plt.plot(history.history['root_mean_squared_error'])\n",
    "plt.plot(history.history['val_root_mean_squared_error'])\n",
    "plt.title('model_metrics')\n",
    "plt.ylabel('root_mean_squared_error')\n",
    "plt.xlabel('epoch')\n",
    "plt.ylim(ymin=0, ymax=0.4)\n",
    "plt.legend(['train', 'test'], loc='center left')\n",
    "plt.show()"
   ]
  },
  {
   "cell_type": "markdown",
   "metadata": {
    "id": "JFBegpn4lHir"
   },
   "source": [
    "# Penerapan Model"
   ]
  },
  {
   "cell_type": "code",
   "execution_count": 27,
   "metadata": {
    "colab": {
     "base_uri": "https://localhost:8080/"
    },
    "id": "CdU-54iNlHOz",
    "outputId": "467e5729-4ac7-4f91-9731-863d505fb221"
   },
   "outputs": [
    {
     "data": {
      "text/plain": [
       "Index(['Place_Id', 'Kuliner_Name', 'Description', 'Category', 'alamat', 'City',\n",
       "       'Rating', 'Coordinate', 'Lat', 'Long', 'Price', 'Images'],\n",
       "      dtype='object')"
      ]
     },
     "execution_count": 27,
     "metadata": {},
     "output_type": "execute_result"
    }
   ],
   "source": [
    "kuliner.columns"
   ]
  },
  {
   "cell_type": "code",
   "execution_count": 28,
   "metadata": {
    "id": "lMfjsRSzlOHR"
   },
   "outputs": [],
   "source": [
    "place_df = kuliner[['Place_Id', 'Kuliner_Name', 'Description', 'Category', 'alamat', 'City', 'Rating',\n",
    "       'Coordinate','Lat','Long','Price','Images']]\n",
    "place_df.columns = ['Place_Id', 'Kuliner_Name', 'Description', 'Category', 'alamat', 'City', 'Rating',\n",
    "       'Coordinate','Lat','Long','Price','Images']\n",
    "df = rating.copy()"
   ]
  },
  {
   "cell_type": "code",
   "execution_count": 29,
   "metadata": {
    "id": "c9w34r00lmN0"
   },
   "outputs": [],
   "source": [
    "# Mengambil sample user\n",
    "user_id = df.User_Id.sample(1).iloc[0]\n",
    "place_visited_by_user = df[df.User_Id == user_id]"
   ]
  },
  {
   "cell_type": "code",
   "execution_count": 30,
   "metadata": {
    "id": "KTkz9LKgloKK"
   },
   "outputs": [],
   "source": [
    "# Membuat data lokasi yang belum dikunjungi user\n",
    "place_not_visited = place_df[~place_df['Place_Id'].isin(place_visited_by_user.Place_Id.values)]['Place_Id'] \n",
    "place_not_visited = list(\n",
    "    set(place_not_visited).intersection(set(place_to_place_encoded.keys()))\n",
    ")\n",
    " \n",
    "place_not_visited = [[place_to_place_encoded.get(x)] for x in place_not_visited]\n",
    "user_encoder = user_to_user_encoded.get(user_id)\n",
    "user_place_array = np.hstack(\n",
    "    ([[user_encoder]] * len(place_not_visited), place_not_visited)\n",
    ")"
   ]
  },
  {
   "cell_type": "code",
   "execution_count": 31,
   "metadata": {
    "colab": {
     "base_uri": "https://localhost:8080/"
    },
    "id": "5VeNUi5QltQe",
    "outputId": "cc06d7bb-cc7b-4c90-8dca-003c9b9b9801",
    "scrolled": true
   },
   "outputs": [
    {
     "name": "stdout",
     "output_type": "stream",
     "text": [
      "2/2 [==============================] - 0s 4ms/step\n",
      "\n",
      "------------------------------------------------------------\n",
      "Top 5 place recommendation\n",
      "------------------------------------------------------------\n",
      "1 . Warung Kampong Pedas \n",
      "     Jl. Dharmawangsa No.18, Benoa, Kec. Kuta Sel., Kabupaten Badung, Bali 80361 , Rating Kuliner  4.0 \n",
      "\n",
      "2 . Warung Pojok \n",
      "     Jl. Nangka No.168, Dangin Puri Kaja, Kec. Denpasar Utara, Kota Denpasar, Bali 80234 , Rating Kuliner  4.4 \n",
      "\n",
      "3 . IBAB BALI \n",
      "     Jl. Dewi Sri No.88xx, Legian, Kec. Kuta, Kabupaten Badung, Bali 80361 , Rating Kuliner  4.4 \n",
      "\n",
      "4 . Laka Leke Restaurant \n",
      "     Jl. Nyuh Bojog No.32, MAS, Kecamatan Ubud, Kabupaten Gianyar, Bali 80571 , Rating Kuliner  4.5 \n",
      "\n",
      "5 . Sate Babi Bawah Pohon \n",
      "     Jalan Dewi Sri IV Campuhan I No.I, Legian, Kec. Kuta, Kabupaten Badung, Bali 80361 , Rating Kuliner  4.5 \n",
      "\n",
      "=============================================\n"
     ]
    }
   ],
   "source": [
    "# Mengambil top 5 recommendation\n",
    "ratings = model.predict(user_place_array).flatten()\n",
    "top_ratings_indices = ratings.argsort()[-5:][::-1]\n",
    "recommended_place_ids = [\n",
    "    place_encoded_to_place.get(place_not_visited[x][0]) for x in top_ratings_indices\n",
    "]\n",
    " \n",
    "\n",
    "print('')\n",
    "print('----' * 15)\n",
    "print('Top 5 place recommendation')\n",
    "print('----' * 15)\n",
    " \n",
    "recommended_place = place_df[place_df['Place_Id'].isin(recommended_place_ids)]\n",
    "for row, i in zip(recommended_place.itertuples(), range(1,8)):\n",
    "    print(i,'.', row.Kuliner_Name, '\\n    ', row.alamat, ',', 'Rating Kuliner ', row.Rating,'\\n')\n",
    "\n",
    "print('==='*15)"
   ]
  },
  {
   "cell_type": "markdown",
   "metadata": {
    "id": "AhUrnLEPmNEF"
   },
   "source": [
    "# Save Model"
   ]
  },
  {
   "cell_type": "code",
   "execution_count": 32,
   "metadata": {
    "colab": {
     "base_uri": "https://localhost:8080/"
    },
    "id": "X2CsLQlNkQox",
    "outputId": "60935676-2fa8-4d65-e171-aefb7e300bfa"
   },
   "outputs": [
    {
     "name": "stdout",
     "output_type": "stream",
     "text": [
      "INFO:tensorflow:Assets written to: ram://69e48968-359c-4765-9645-239212b1e225/assets\n"
     ]
    }
   ],
   "source": [
    "filename = '../../model/kuliner_bali.pkl'\n",
    "pickle.dump(model, open(filename, 'wb'))"
   ]
  },
  {
   "cell_type": "code",
   "execution_count": 33,
   "metadata": {
    "colab": {
     "base_uri": "https://localhost:8080/"
    },
    "id": "j0Y2p2RTklYO",
    "outputId": "bb3c0a76-6e5c-4051-d196-83e4d2ea237a"
   },
   "outputs": [
    {
     "name": "stdout",
     "output_type": "stream",
     "text": [
      "63/63 [==============================] - 0s 3ms/step - loss: 0.7060 - root_mean_squared_error: 0.3534\n"
     ]
    }
   ],
   "source": [
    "loaded_model = pickle.load(open(filename, 'rb'))\n",
    "result = loaded_model.evaluate(x=x_test, y=y_test)"
   ]
  },
  {
   "cell_type": "code",
   "execution_count": null,
   "metadata": {},
   "outputs": [],
   "source": []
  }
 ],
 "metadata": {
  "colab": {
   "collapsed_sections": [],
   "name": "system_recomendation_kuliner_bali.ipynb",
   "provenance": []
  },
  "kernelspec": {
   "display_name": "Python 3 (ipykernel)",
   "language": "python",
   "name": "python3"
  },
  "language_info": {
   "codemirror_mode": {
    "name": "ipython",
    "version": 3
   },
   "file_extension": ".py",
   "mimetype": "text/x-python",
   "name": "python",
   "nbconvert_exporter": "python",
   "pygments_lexer": "ipython3",
   "version": "3.8.10"
  }
 },
 "nbformat": 4,
 "nbformat_minor": 1
}
