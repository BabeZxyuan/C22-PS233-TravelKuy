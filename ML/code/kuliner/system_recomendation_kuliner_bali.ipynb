{
  "cells": [
    {
      "cell_type": "markdown",
      "metadata": {
        "id": "H4dHySlIgs9p"
      },
      "source": [
        "# Import Package"
      ]
    },
    {
      "cell_type": "code",
      "execution_count": 3,
      "metadata": {
        "id": "UEw3gFdFgvR9"
      },
      "outputs": [],
      "source": [
        "import numpy as np\n",
        "import pandas as pd \n",
        "\n",
        "import tensorflow as tf\n",
        "from tensorflow import keras\n",
        "from tensorflow.keras import layers"
      ]
    },
    {
      "cell_type": "code",
      "execution_count": null,
      "metadata": {
        "colab": {
          "base_uri": "https://localhost:8080/"
        },
        "id": "t4jpyklMTvVQ",
        "outputId": "fe494642-f467-444a-935f-776b85d3954b"
      },
      "outputs": [
        {
          "name": "stdout",
          "output_type": "stream",
          "text": [
            "\n",
            "1.22.4,\n",
            "1.4.2,\n",
            "2.9.1\n"
          ]
        }
      ],
      "source": [
        "print(f'''\n",
        "{np.__version__},\n",
        "{pd.__version__},\n",
        "{tf.__version__}''')"
      ]
    },
    {
      "cell_type": "code",
      "execution_count": null,
      "metadata": {
        "colab": {
          "base_uri": "https://localhost:8080/"
        },
        "id": "UU1lEoQYVBYt",
        "outputId": "8ec66fdd-9d10-4f28-ea1f-b1489dcee38e"
      },
      "outputs": [
        {
          "name": "stdout",
          "output_type": "stream",
          "text": [
            "Python 3.8.10\r\n"
          ]
        }
      ],
      "source": [
        "!python --version"
      ]
    },
    {
      "cell_type": "markdown",
      "metadata": {
        "id": "VVF4rN5cgzPr"
      },
      "source": [
        "# Import Dataset"
      ]
    },
    {
      "cell_type": "code",
      "execution_count": 4,
      "metadata": {
        "id": "doIruLZpgxrz"
      },
      "outputs": [],
      "source": [
        "rating = pd.read_csv('rating_kuliner_bali.csv')\n",
        "kuliner = pd.read_csv('kuliner.csv')\n",
        "user = pd.read_csv('user.csv')"
      ]
    },
    {
      "cell_type": "markdown",
      "metadata": {
        "id": "To3P2Wgmjz88"
      },
      "source": [
        "# Persiapan Dataset"
      ]
    },
    {
      "cell_type": "code",
      "execution_count": 5,
      "metadata": {
        "colab": {
          "base_uri": "https://localhost:8080/",
          "height": 687
        },
        "id": "B9ysmbqqv9cH",
        "outputId": "0afeba51-3884-4905-b285-de1062ec90fc"
      },
      "outputs": [
        {
          "output_type": "execute_result",
          "data": {
            "text/plain": [
              "    Place_Id                  Kuliner_Name  \\\n",
              "33        41   JEBAK ( Jejak Bali Kuliner)   \n",
              "34        42        Pondok Seafood Cak Har   \n",
              "35        43  Bale Udang Mang Engking Kuta   \n",
              "36        44                   Makan Place   \n",
              "37        45            Kedaton Restaurant   \n",
              "\n",
              "                                          Description Category  \\\n",
              "33  Tempat berkumpulnya para vendor makanan dengan...  Makanan   \n",
              "34  Ikan bakarnya enaaak... ikan baronangnya neasr...  Makanan   \n",
              "35  Tempat makan yg unik memiliki gubug-gubug diat...  Makanan   \n",
              "36  Makan Place memperkenalkan berbagi makanan unt...  Makanan   \n",
              "37  Datang ke sini saat makan siang hari kerja, ti...  Makanan   \n",
              "\n",
              "                                               alamat  City  Rating  \\\n",
              "33  Jl. Teuku Umar No.212, Dauh Puri Kauh, Kec. De...  Bali     4.3   \n",
              "34  Jl. Teuku Umar No.222, Dauh Puri Kauh, Kec. De...  Bali     4.3   \n",
              "35  Jl. Nakula No.88, Pemecutan Klod, Kec. Denpasa...  Bali     4.4   \n",
              "36  Jl. Padma No.1, Legian, Kec. Kuta, Kabupaten B...  Bali     4.4   \n",
              "37  Jl. Raya Kuta No.62/3, Kuta, Kec. Kuta, Kabupa...  Bali     4.3   \n",
              "\n",
              "                                           Coordinate             Lat  \\\n",
              "33  {'lat': -8.680513334370504, 'lng': 115.2015822...  -8.680.513.334   \n",
              "34  {'lat': -8.680896572457401, 'lng': 115.2005028...  -8.680.896.572   \n",
              "35  {'lat': -8.699604043838137, 'lng': 115.1830186...  -8.699.604.044   \n",
              "36  {'lat': -8.706036539694576, 'lng': 115.1682776...    -870.603.654   \n",
              "37  {'lat': -8.717579890571328, 'lng': 115.1808039...  -8.717.579.891   \n",
              "\n",
              "             Long   Price                                             Images  \n",
              "33  1.152.015.822  150000  https://www.denpasarkota.go.id/uploads/berita/...  \n",
              "34  1.152.005.028  100000  https://b.zmtcdn.com/data/pictures/5/1705375/9...  \n",
              "35  1.151.830.187       -  https://media-cdn.tripadvisor.com/media/photo-...  \n",
              "36  1.151.682.777       -  https://media-cdn.tripadvisor.com/media/photo-...  \n",
              "37    115.180.804       -  https://b.zmtcdn.com/data/reviews_photos/eb9/b...  "
            ],
            "text/html": [
              "\n",
              "  <div id=\"df-9f30e4ee-01a6-49c8-b7db-c41d6c0b6b9d\">\n",
              "    <div class=\"colab-df-container\">\n",
              "      <div>\n",
              "<style scoped>\n",
              "    .dataframe tbody tr th:only-of-type {\n",
              "        vertical-align: middle;\n",
              "    }\n",
              "\n",
              "    .dataframe tbody tr th {\n",
              "        vertical-align: top;\n",
              "    }\n",
              "\n",
              "    .dataframe thead th {\n",
              "        text-align: right;\n",
              "    }\n",
              "</style>\n",
              "<table border=\"1\" class=\"dataframe\">\n",
              "  <thead>\n",
              "    <tr style=\"text-align: right;\">\n",
              "      <th></th>\n",
              "      <th>Place_Id</th>\n",
              "      <th>Kuliner_Name</th>\n",
              "      <th>Description</th>\n",
              "      <th>Category</th>\n",
              "      <th>alamat</th>\n",
              "      <th>City</th>\n",
              "      <th>Rating</th>\n",
              "      <th>Coordinate</th>\n",
              "      <th>Lat</th>\n",
              "      <th>Long</th>\n",
              "      <th>Price</th>\n",
              "      <th>Images</th>\n",
              "    </tr>\n",
              "  </thead>\n",
              "  <tbody>\n",
              "    <tr>\n",
              "      <th>33</th>\n",
              "      <td>41</td>\n",
              "      <td>JEBAK ( Jejak Bali Kuliner)</td>\n",
              "      <td>Tempat berkumpulnya para vendor makanan dengan...</td>\n",
              "      <td>Makanan</td>\n",
              "      <td>Jl. Teuku Umar No.212, Dauh Puri Kauh, Kec. De...</td>\n",
              "      <td>Bali</td>\n",
              "      <td>4.3</td>\n",
              "      <td>{'lat': -8.680513334370504, 'lng': 115.2015822...</td>\n",
              "      <td>-8.680.513.334</td>\n",
              "      <td>1.152.015.822</td>\n",
              "      <td>150000</td>\n",
              "      <td>https://www.denpasarkota.go.id/uploads/berita/...</td>\n",
              "    </tr>\n",
              "    <tr>\n",
              "      <th>34</th>\n",
              "      <td>42</td>\n",
              "      <td>Pondok Seafood Cak Har</td>\n",
              "      <td>Ikan bakarnya enaaak... ikan baronangnya neasr...</td>\n",
              "      <td>Makanan</td>\n",
              "      <td>Jl. Teuku Umar No.222, Dauh Puri Kauh, Kec. De...</td>\n",
              "      <td>Bali</td>\n",
              "      <td>4.3</td>\n",
              "      <td>{'lat': -8.680896572457401, 'lng': 115.2005028...</td>\n",
              "      <td>-8.680.896.572</td>\n",
              "      <td>1.152.005.028</td>\n",
              "      <td>100000</td>\n",
              "      <td>https://b.zmtcdn.com/data/pictures/5/1705375/9...</td>\n",
              "    </tr>\n",
              "    <tr>\n",
              "      <th>35</th>\n",
              "      <td>43</td>\n",
              "      <td>Bale Udang Mang Engking Kuta</td>\n",
              "      <td>Tempat makan yg unik memiliki gubug-gubug diat...</td>\n",
              "      <td>Makanan</td>\n",
              "      <td>Jl. Nakula No.88, Pemecutan Klod, Kec. Denpasa...</td>\n",
              "      <td>Bali</td>\n",
              "      <td>4.4</td>\n",
              "      <td>{'lat': -8.699604043838137, 'lng': 115.1830186...</td>\n",
              "      <td>-8.699.604.044</td>\n",
              "      <td>1.151.830.187</td>\n",
              "      <td>-</td>\n",
              "      <td>https://media-cdn.tripadvisor.com/media/photo-...</td>\n",
              "    </tr>\n",
              "    <tr>\n",
              "      <th>36</th>\n",
              "      <td>44</td>\n",
              "      <td>Makan Place</td>\n",
              "      <td>Makan Place memperkenalkan berbagi makanan unt...</td>\n",
              "      <td>Makanan</td>\n",
              "      <td>Jl. Padma No.1, Legian, Kec. Kuta, Kabupaten B...</td>\n",
              "      <td>Bali</td>\n",
              "      <td>4.4</td>\n",
              "      <td>{'lat': -8.706036539694576, 'lng': 115.1682776...</td>\n",
              "      <td>-870.603.654</td>\n",
              "      <td>1.151.682.777</td>\n",
              "      <td>-</td>\n",
              "      <td>https://media-cdn.tripadvisor.com/media/photo-...</td>\n",
              "    </tr>\n",
              "    <tr>\n",
              "      <th>37</th>\n",
              "      <td>45</td>\n",
              "      <td>Kedaton Restaurant</td>\n",
              "      <td>Datang ke sini saat makan siang hari kerja, ti...</td>\n",
              "      <td>Makanan</td>\n",
              "      <td>Jl. Raya Kuta No.62/3, Kuta, Kec. Kuta, Kabupa...</td>\n",
              "      <td>Bali</td>\n",
              "      <td>4.3</td>\n",
              "      <td>{'lat': -8.717579890571328, 'lng': 115.1808039...</td>\n",
              "      <td>-8.717.579.891</td>\n",
              "      <td>115.180.804</td>\n",
              "      <td>-</td>\n",
              "      <td>https://b.zmtcdn.com/data/reviews_photos/eb9/b...</td>\n",
              "    </tr>\n",
              "  </tbody>\n",
              "</table>\n",
              "</div>\n",
              "      <button class=\"colab-df-convert\" onclick=\"convertToInteractive('df-9f30e4ee-01a6-49c8-b7db-c41d6c0b6b9d')\"\n",
              "              title=\"Convert this dataframe to an interactive table.\"\n",
              "              style=\"display:none;\">\n",
              "        \n",
              "  <svg xmlns=\"http://www.w3.org/2000/svg\" height=\"24px\"viewBox=\"0 0 24 24\"\n",
              "       width=\"24px\">\n",
              "    <path d=\"M0 0h24v24H0V0z\" fill=\"none\"/>\n",
              "    <path d=\"M18.56 5.44l.94 2.06.94-2.06 2.06-.94-2.06-.94-.94-2.06-.94 2.06-2.06.94zm-11 1L8.5 8.5l.94-2.06 2.06-.94-2.06-.94L8.5 2.5l-.94 2.06-2.06.94zm10 10l.94 2.06.94-2.06 2.06-.94-2.06-.94-.94-2.06-.94 2.06-2.06.94z\"/><path d=\"M17.41 7.96l-1.37-1.37c-.4-.4-.92-.59-1.43-.59-.52 0-1.04.2-1.43.59L10.3 9.45l-7.72 7.72c-.78.78-.78 2.05 0 2.83L4 21.41c.39.39.9.59 1.41.59.51 0 1.02-.2 1.41-.59l7.78-7.78 2.81-2.81c.8-.78.8-2.07 0-2.86zM5.41 20L4 18.59l7.72-7.72 1.47 1.35L5.41 20z\"/>\n",
              "  </svg>\n",
              "      </button>\n",
              "      \n",
              "  <style>\n",
              "    .colab-df-container {\n",
              "      display:flex;\n",
              "      flex-wrap:wrap;\n",
              "      gap: 12px;\n",
              "    }\n",
              "\n",
              "    .colab-df-convert {\n",
              "      background-color: #E8F0FE;\n",
              "      border: none;\n",
              "      border-radius: 50%;\n",
              "      cursor: pointer;\n",
              "      display: none;\n",
              "      fill: #1967D2;\n",
              "      height: 32px;\n",
              "      padding: 0 0 0 0;\n",
              "      width: 32px;\n",
              "    }\n",
              "\n",
              "    .colab-df-convert:hover {\n",
              "      background-color: #E2EBFA;\n",
              "      box-shadow: 0px 1px 2px rgba(60, 64, 67, 0.3), 0px 1px 3px 1px rgba(60, 64, 67, 0.15);\n",
              "      fill: #174EA6;\n",
              "    }\n",
              "\n",
              "    [theme=dark] .colab-df-convert {\n",
              "      background-color: #3B4455;\n",
              "      fill: #D2E3FC;\n",
              "    }\n",
              "\n",
              "    [theme=dark] .colab-df-convert:hover {\n",
              "      background-color: #434B5C;\n",
              "      box-shadow: 0px 1px 3px 1px rgba(0, 0, 0, 0.15);\n",
              "      filter: drop-shadow(0px 1px 2px rgba(0, 0, 0, 0.3));\n",
              "      fill: #FFFFFF;\n",
              "    }\n",
              "  </style>\n",
              "\n",
              "      <script>\n",
              "        const buttonEl =\n",
              "          document.querySelector('#df-9f30e4ee-01a6-49c8-b7db-c41d6c0b6b9d button.colab-df-convert');\n",
              "        buttonEl.style.display =\n",
              "          google.colab.kernel.accessAllowed ? 'block' : 'none';\n",
              "\n",
              "        async function convertToInteractive(key) {\n",
              "          const element = document.querySelector('#df-9f30e4ee-01a6-49c8-b7db-c41d6c0b6b9d');\n",
              "          const dataTable =\n",
              "            await google.colab.kernel.invokeFunction('convertToInteractive',\n",
              "                                                     [key], {});\n",
              "          if (!dataTable) return;\n",
              "\n",
              "          const docLinkHtml = 'Like what you see? Visit the ' +\n",
              "            '<a target=\"_blank\" href=https://colab.research.google.com/notebooks/data_table.ipynb>data table notebook</a>'\n",
              "            + ' to learn more about interactive tables.';\n",
              "          element.innerHTML = '';\n",
              "          dataTable['output_type'] = 'display_data';\n",
              "          await google.colab.output.renderOutput(dataTable, element);\n",
              "          const docLink = document.createElement('div');\n",
              "          docLink.innerHTML = docLinkHtml;\n",
              "          element.appendChild(docLink);\n",
              "        }\n",
              "      </script>\n",
              "    </div>\n",
              "  </div>\n",
              "  "
            ]
          },
          "metadata": {},
          "execution_count": 5
        }
      ],
      "source": [
        "# Merubah data agar hanya dari Kota Bali\n",
        "\n",
        "kuliner = kuliner[kuliner['City']=='Bali']\n",
        "kuliner.head()\n"
      ]
    },
    {
      "cell_type": "code",
      "execution_count": 6,
      "metadata": {
        "colab": {
          "base_uri": "https://localhost:8080/",
          "height": 206
        },
        "id": "UXfR_jLyj11O",
        "outputId": "db10e4fb-6989-4aa6-a9ca-c1a3c36fee1d"
      },
      "outputs": [
        {
          "output_type": "execute_result",
          "data": {
            "text/plain": [
              "   User_Id  Place_Id  Place_Ratings\n",
              "0        1        56              3\n",
              "1        1        55              2\n",
              "2        1        50              5\n",
              "3        1        74              3\n",
              "4        1        53              4"
            ],
            "text/html": [
              "\n",
              "  <div id=\"df-54299cbb-7402-415e-98d7-b0d504c6ed27\">\n",
              "    <div class=\"colab-df-container\">\n",
              "      <div>\n",
              "<style scoped>\n",
              "    .dataframe tbody tr th:only-of-type {\n",
              "        vertical-align: middle;\n",
              "    }\n",
              "\n",
              "    .dataframe tbody tr th {\n",
              "        vertical-align: top;\n",
              "    }\n",
              "\n",
              "    .dataframe thead th {\n",
              "        text-align: right;\n",
              "    }\n",
              "</style>\n",
              "<table border=\"1\" class=\"dataframe\">\n",
              "  <thead>\n",
              "    <tr style=\"text-align: right;\">\n",
              "      <th></th>\n",
              "      <th>User_Id</th>\n",
              "      <th>Place_Id</th>\n",
              "      <th>Place_Ratings</th>\n",
              "    </tr>\n",
              "  </thead>\n",
              "  <tbody>\n",
              "    <tr>\n",
              "      <th>0</th>\n",
              "      <td>1</td>\n",
              "      <td>56</td>\n",
              "      <td>3</td>\n",
              "    </tr>\n",
              "    <tr>\n",
              "      <th>1</th>\n",
              "      <td>1</td>\n",
              "      <td>55</td>\n",
              "      <td>2</td>\n",
              "    </tr>\n",
              "    <tr>\n",
              "      <th>2</th>\n",
              "      <td>1</td>\n",
              "      <td>50</td>\n",
              "      <td>5</td>\n",
              "    </tr>\n",
              "    <tr>\n",
              "      <th>3</th>\n",
              "      <td>1</td>\n",
              "      <td>74</td>\n",
              "      <td>3</td>\n",
              "    </tr>\n",
              "    <tr>\n",
              "      <th>4</th>\n",
              "      <td>1</td>\n",
              "      <td>53</td>\n",
              "      <td>4</td>\n",
              "    </tr>\n",
              "  </tbody>\n",
              "</table>\n",
              "</div>\n",
              "      <button class=\"colab-df-convert\" onclick=\"convertToInteractive('df-54299cbb-7402-415e-98d7-b0d504c6ed27')\"\n",
              "              title=\"Convert this dataframe to an interactive table.\"\n",
              "              style=\"display:none;\">\n",
              "        \n",
              "  <svg xmlns=\"http://www.w3.org/2000/svg\" height=\"24px\"viewBox=\"0 0 24 24\"\n",
              "       width=\"24px\">\n",
              "    <path d=\"M0 0h24v24H0V0z\" fill=\"none\"/>\n",
              "    <path d=\"M18.56 5.44l.94 2.06.94-2.06 2.06-.94-2.06-.94-.94-2.06-.94 2.06-2.06.94zm-11 1L8.5 8.5l.94-2.06 2.06-.94-2.06-.94L8.5 2.5l-.94 2.06-2.06.94zm10 10l.94 2.06.94-2.06 2.06-.94-2.06-.94-.94-2.06-.94 2.06-2.06.94z\"/><path d=\"M17.41 7.96l-1.37-1.37c-.4-.4-.92-.59-1.43-.59-.52 0-1.04.2-1.43.59L10.3 9.45l-7.72 7.72c-.78.78-.78 2.05 0 2.83L4 21.41c.39.39.9.59 1.41.59.51 0 1.02-.2 1.41-.59l7.78-7.78 2.81-2.81c.8-.78.8-2.07 0-2.86zM5.41 20L4 18.59l7.72-7.72 1.47 1.35L5.41 20z\"/>\n",
              "  </svg>\n",
              "      </button>\n",
              "      \n",
              "  <style>\n",
              "    .colab-df-container {\n",
              "      display:flex;\n",
              "      flex-wrap:wrap;\n",
              "      gap: 12px;\n",
              "    }\n",
              "\n",
              "    .colab-df-convert {\n",
              "      background-color: #E8F0FE;\n",
              "      border: none;\n",
              "      border-radius: 50%;\n",
              "      cursor: pointer;\n",
              "      display: none;\n",
              "      fill: #1967D2;\n",
              "      height: 32px;\n",
              "      padding: 0 0 0 0;\n",
              "      width: 32px;\n",
              "    }\n",
              "\n",
              "    .colab-df-convert:hover {\n",
              "      background-color: #E2EBFA;\n",
              "      box-shadow: 0px 1px 2px rgba(60, 64, 67, 0.3), 0px 1px 3px 1px rgba(60, 64, 67, 0.15);\n",
              "      fill: #174EA6;\n",
              "    }\n",
              "\n",
              "    [theme=dark] .colab-df-convert {\n",
              "      background-color: #3B4455;\n",
              "      fill: #D2E3FC;\n",
              "    }\n",
              "\n",
              "    [theme=dark] .colab-df-convert:hover {\n",
              "      background-color: #434B5C;\n",
              "      box-shadow: 0px 1px 3px 1px rgba(0, 0, 0, 0.15);\n",
              "      filter: drop-shadow(0px 1px 2px rgba(0, 0, 0, 0.3));\n",
              "      fill: #FFFFFF;\n",
              "    }\n",
              "  </style>\n",
              "\n",
              "      <script>\n",
              "        const buttonEl =\n",
              "          document.querySelector('#df-54299cbb-7402-415e-98d7-b0d504c6ed27 button.colab-df-convert');\n",
              "        buttonEl.style.display =\n",
              "          google.colab.kernel.accessAllowed ? 'block' : 'none';\n",
              "\n",
              "        async function convertToInteractive(key) {\n",
              "          const element = document.querySelector('#df-54299cbb-7402-415e-98d7-b0d504c6ed27');\n",
              "          const dataTable =\n",
              "            await google.colab.kernel.invokeFunction('convertToInteractive',\n",
              "                                                     [key], {});\n",
              "          if (!dataTable) return;\n",
              "\n",
              "          const docLinkHtml = 'Like what you see? Visit the ' +\n",
              "            '<a target=\"_blank\" href=https://colab.research.google.com/notebooks/data_table.ipynb>data table notebook</a>'\n",
              "            + ' to learn more about interactive tables.';\n",
              "          element.innerHTML = '';\n",
              "          dataTable['output_type'] = 'display_data';\n",
              "          await google.colab.output.renderOutput(dataTable, element);\n",
              "          const docLink = document.createElement('div');\n",
              "          docLink.innerHTML = docLinkHtml;\n",
              "          element.appendChild(docLink);\n",
              "        }\n",
              "      </script>\n",
              "    </div>\n",
              "  </div>\n",
              "  "
            ]
          },
          "metadata": {},
          "execution_count": 6
        }
      ],
      "source": [
        "rating.head()"
      ]
    },
    {
      "cell_type": "code",
      "execution_count": 7,
      "metadata": {
        "id": "faQmImEHj7lr"
      },
      "outputs": [],
      "source": [
        "df = rating.copy()"
      ]
    },
    {
      "cell_type": "code",
      "execution_count": 8,
      "metadata": {
        "id": "Y2A8gEUfkBO1"
      },
      "outputs": [],
      "source": [
        "#ENCODING\n",
        "def dict_encoder(col, data=df):\n",
        "  unique_val = data[col].unique().tolist()\n",
        "  val_to_val_encoded = {x: i for i, x in enumerate(unique_val)}\n",
        "  val_encoded_to_val = {i: x for i, x in enumerate(unique_val)}\n",
        "  return val_to_val_encoded, val_encoded_to_val"
      ]
    },
    {
      "cell_type": "code",
      "execution_count": 9,
      "metadata": {
        "id": "am59S7y-kEc7"
      },
      "outputs": [],
      "source": [
        "user_to_user_encoded, user_encoded_to_user = dict_encoder('User_Id')\n",
        "df['user'] = df['User_Id'].map(user_to_user_encoded)"
      ]
    },
    {
      "cell_type": "code",
      "execution_count": 11,
      "metadata": {
        "id": "eQjVlgL7kJR1"
      },
      "outputs": [],
      "source": [
        "# Encoding Place_Id\n",
        "place_to_place_encoded, place_encoded_to_place = dict_encoder('Place_Id')\n",
        "\n",
        "# Mapping Place_Id ke dataframe place\n",
        "df['place'] = df['Place_Id'].map(place_to_place_encoded)"
      ]
    },
    {
      "cell_type": "code",
      "execution_count": 12,
      "metadata": {
        "id": "WnHUTDAHkLQt"
      },
      "outputs": [],
      "source": [
        "# Mendapatkan jumlah user dan hotel\n",
        "num_users, num_place = len(user_to_user_encoded), len(place_to_place_encoded)\n",
        "# mengubah nilai rating menjadi nilai float\n",
        "df['Place_Ratings'] = df['Place_Ratings'].values.astype(np.float32)\n",
        "# Mendapatkan nilai minimum dan maksimum rating\n",
        "min_rating, max_rating = min(df['Place_Ratings']), max(df['Place_Ratings'])"
      ]
    },
    {
      "cell_type": "code",
      "execution_count": 13,
      "metadata": {
        "colab": {
          "base_uri": "https://localhost:8080/"
        },
        "id": "0GoFMjOikPeh",
        "outputId": "a93b5fd9-8329-44cf-e6cf-6c62dc4153bf"
      },
      "outputs": [
        {
          "output_type": "stream",
          "name": "stdout",
          "text": [
            "Jumlah user : 300\n",
            "Jumlah kuliner : 47\n",
            "Rating minimum : 1.0\n",
            "Rating maximum : 5.0\n"
          ]
        }
      ],
      "source": [
        "print(f'Jumlah user : {num_users}')\n",
        "print(f'Jumlah kuliner : {num_place}')\n",
        "print(f'Rating minimum : {min_rating}')\n",
        "print(f'Rating maximum : {max_rating}')"
      ]
    },
    {
      "cell_type": "code",
      "execution_count": 14,
      "metadata": {
        "colab": {
          "base_uri": "https://localhost:8080/",
          "height": 206
        },
        "id": "LEh4cl9qkVCs",
        "outputId": "4b8df45e-80aa-42d5-91af-1c4bd3346bc3"
      },
      "outputs": [
        {
          "output_type": "execute_result",
          "data": {
            "text/plain": [
              "      User_Id  Place_Id  Place_Ratings  user  place\n",
              "6252      188        82            3.0   187     41\n",
              "4684      142        62            2.0   141     11\n",
              "1731       54        64            3.0    53     16\n",
              "4742      144        67            3.0   143     17\n",
              "4521      138        54            5.0   137     23"
            ],
            "text/html": [
              "\n",
              "  <div id=\"df-9034bc5f-9dad-495a-86c9-d76eebac7806\">\n",
              "    <div class=\"colab-df-container\">\n",
              "      <div>\n",
              "<style scoped>\n",
              "    .dataframe tbody tr th:only-of-type {\n",
              "        vertical-align: middle;\n",
              "    }\n",
              "\n",
              "    .dataframe tbody tr th {\n",
              "        vertical-align: top;\n",
              "    }\n",
              "\n",
              "    .dataframe thead th {\n",
              "        text-align: right;\n",
              "    }\n",
              "</style>\n",
              "<table border=\"1\" class=\"dataframe\">\n",
              "  <thead>\n",
              "    <tr style=\"text-align: right;\">\n",
              "      <th></th>\n",
              "      <th>User_Id</th>\n",
              "      <th>Place_Id</th>\n",
              "      <th>Place_Ratings</th>\n",
              "      <th>user</th>\n",
              "      <th>place</th>\n",
              "    </tr>\n",
              "  </thead>\n",
              "  <tbody>\n",
              "    <tr>\n",
              "      <th>6252</th>\n",
              "      <td>188</td>\n",
              "      <td>82</td>\n",
              "      <td>3.0</td>\n",
              "      <td>187</td>\n",
              "      <td>41</td>\n",
              "    </tr>\n",
              "    <tr>\n",
              "      <th>4684</th>\n",
              "      <td>142</td>\n",
              "      <td>62</td>\n",
              "      <td>2.0</td>\n",
              "      <td>141</td>\n",
              "      <td>11</td>\n",
              "    </tr>\n",
              "    <tr>\n",
              "      <th>1731</th>\n",
              "      <td>54</td>\n",
              "      <td>64</td>\n",
              "      <td>3.0</td>\n",
              "      <td>53</td>\n",
              "      <td>16</td>\n",
              "    </tr>\n",
              "    <tr>\n",
              "      <th>4742</th>\n",
              "      <td>144</td>\n",
              "      <td>67</td>\n",
              "      <td>3.0</td>\n",
              "      <td>143</td>\n",
              "      <td>17</td>\n",
              "    </tr>\n",
              "    <tr>\n",
              "      <th>4521</th>\n",
              "      <td>138</td>\n",
              "      <td>54</td>\n",
              "      <td>5.0</td>\n",
              "      <td>137</td>\n",
              "      <td>23</td>\n",
              "    </tr>\n",
              "  </tbody>\n",
              "</table>\n",
              "</div>\n",
              "      <button class=\"colab-df-convert\" onclick=\"convertToInteractive('df-9034bc5f-9dad-495a-86c9-d76eebac7806')\"\n",
              "              title=\"Convert this dataframe to an interactive table.\"\n",
              "              style=\"display:none;\">\n",
              "        \n",
              "  <svg xmlns=\"http://www.w3.org/2000/svg\" height=\"24px\"viewBox=\"0 0 24 24\"\n",
              "       width=\"24px\">\n",
              "    <path d=\"M0 0h24v24H0V0z\" fill=\"none\"/>\n",
              "    <path d=\"M18.56 5.44l.94 2.06.94-2.06 2.06-.94-2.06-.94-.94-2.06-.94 2.06-2.06.94zm-11 1L8.5 8.5l.94-2.06 2.06-.94-2.06-.94L8.5 2.5l-.94 2.06-2.06.94zm10 10l.94 2.06.94-2.06 2.06-.94-2.06-.94-.94-2.06-.94 2.06-2.06.94z\"/><path d=\"M17.41 7.96l-1.37-1.37c-.4-.4-.92-.59-1.43-.59-.52 0-1.04.2-1.43.59L10.3 9.45l-7.72 7.72c-.78.78-.78 2.05 0 2.83L4 21.41c.39.39.9.59 1.41.59.51 0 1.02-.2 1.41-.59l7.78-7.78 2.81-2.81c.8-.78.8-2.07 0-2.86zM5.41 20L4 18.59l7.72-7.72 1.47 1.35L5.41 20z\"/>\n",
              "  </svg>\n",
              "      </button>\n",
              "      \n",
              "  <style>\n",
              "    .colab-df-container {\n",
              "      display:flex;\n",
              "      flex-wrap:wrap;\n",
              "      gap: 12px;\n",
              "    }\n",
              "\n",
              "    .colab-df-convert {\n",
              "      background-color: #E8F0FE;\n",
              "      border: none;\n",
              "      border-radius: 50%;\n",
              "      cursor: pointer;\n",
              "      display: none;\n",
              "      fill: #1967D2;\n",
              "      height: 32px;\n",
              "      padding: 0 0 0 0;\n",
              "      width: 32px;\n",
              "    }\n",
              "\n",
              "    .colab-df-convert:hover {\n",
              "      background-color: #E2EBFA;\n",
              "      box-shadow: 0px 1px 2px rgba(60, 64, 67, 0.3), 0px 1px 3px 1px rgba(60, 64, 67, 0.15);\n",
              "      fill: #174EA6;\n",
              "    }\n",
              "\n",
              "    [theme=dark] .colab-df-convert {\n",
              "      background-color: #3B4455;\n",
              "      fill: #D2E3FC;\n",
              "    }\n",
              "\n",
              "    [theme=dark] .colab-df-convert:hover {\n",
              "      background-color: #434B5C;\n",
              "      box-shadow: 0px 1px 3px 1px rgba(0, 0, 0, 0.15);\n",
              "      filter: drop-shadow(0px 1px 2px rgba(0, 0, 0, 0.3));\n",
              "      fill: #FFFFFF;\n",
              "    }\n",
              "  </style>\n",
              "\n",
              "      <script>\n",
              "        const buttonEl =\n",
              "          document.querySelector('#df-9034bc5f-9dad-495a-86c9-d76eebac7806 button.colab-df-convert');\n",
              "        buttonEl.style.display =\n",
              "          google.colab.kernel.accessAllowed ? 'block' : 'none';\n",
              "\n",
              "        async function convertToInteractive(key) {\n",
              "          const element = document.querySelector('#df-9034bc5f-9dad-495a-86c9-d76eebac7806');\n",
              "          const dataTable =\n",
              "            await google.colab.kernel.invokeFunction('convertToInteractive',\n",
              "                                                     [key], {});\n",
              "          if (!dataTable) return;\n",
              "\n",
              "          const docLinkHtml = 'Like what you see? Visit the ' +\n",
              "            '<a target=\"_blank\" href=https://colab.research.google.com/notebooks/data_table.ipynb>data table notebook</a>'\n",
              "            + ' to learn more about interactive tables.';\n",
              "          element.innerHTML = '';\n",
              "          dataTable['output_type'] = 'display_data';\n",
              "          await google.colab.output.renderOutput(dataTable, element);\n",
              "          const docLink = document.createElement('div');\n",
              "          docLink.innerHTML = docLinkHtml;\n",
              "          element.appendChild(docLink);\n",
              "        }\n",
              "      </script>\n",
              "    </div>\n",
              "  </div>\n",
              "  "
            ]
          },
          "metadata": {},
          "execution_count": 14
        }
      ],
      "source": [
        "# Mengacak dataset\n",
        "df = df.sample(frac=1, random_state=42)\n",
        "df.head()"
      ]
    },
    {
      "cell_type": "markdown",
      "metadata": {
        "id": "qa_3eNLukb7w"
      },
      "source": [
        "# Splitting Dataset"
      ]
    },
    {
      "cell_type": "code",
      "execution_count": 15,
      "metadata": {
        "colab": {
          "base_uri": "https://localhost:8080/"
        },
        "id": "HaAomUqQkd49",
        "outputId": "1f09a432-5fc8-4a0e-cad8-636e966c23fe"
      },
      "outputs": [
        {
          "output_type": "stream",
          "name": "stdout",
          "text": [
            "x_train : (8000, 2)\n",
            "x_test : (2000, 2)\n",
            "y_train : (8000,)\n",
            "y_test : (2000,)\n"
          ]
        }
      ],
      "source": [
        "# Mambuat Variable x\n",
        "x = df[['user', 'place']].values\n",
        "# membuat Variable y\n",
        "y = df['Place_Ratings'].apply(lambda x: (x-min_rating)/(max_rating-min_rating)).values\n",
        "\n",
        "# split dataset\n",
        "indices = int(0.8*df.shape[0])\n",
        "x_train, x_test, y_train, y_test = (x[:indices],\n",
        "                                    x[indices:],\n",
        "                                    y[:indices],\n",
        "                                    y[indices:]\n",
        "                                    )\n",
        "print(f'x_train : {x_train.shape}')\n",
        "print(f'x_test : {x_test.shape}')\n",
        "print(f'y_train : {y_train.shape}')\n",
        "print(f'y_test : {y_test.shape}')"
      ]
    },
    {
      "cell_type": "code",
      "execution_count": 16,
      "metadata": {
        "id": "E2K4DOGpkivb"
      },
      "outputs": [],
      "source": [
        "class Recommended(keras.Model):\n",
        "  def __init__(self,num_users, num_places, embedding_size, **kwargs):\n",
        "    super(Recommended, self).__init__(**kwargs)\n",
        "    self.num_users = num_users\n",
        "    self.num_places = num_places\n",
        "    self.embedding_size = embedding_size\n",
        "    self.user_embedding = layers.Embedding(num_users,\n",
        "                                           embedding_size,\n",
        "                                           embeddings_initializer = 'he_normal',\n",
        "                                           embeddings_regularizer = keras.regularizers.l2(1e-6)\n",
        "    )\n",
        "    self.user_bias = layers.Embedding(num_users,1)\n",
        "    self.places_embedding = layers.Embedding(num_places,\n",
        "                                             embedding_size,\n",
        "                                             embeddings_initializer='he_normal',\n",
        "                                             embeddings_regularizer= keras.regularizers.l2(1e-6)\n",
        "                                             )\n",
        "    self.places_bias = layers.Embedding(num_places,1)\n",
        "\n",
        "  def call(self, inputs):\n",
        "    user_vec = self.user_embedding(inputs[:,0])\n",
        "    user_bias = self.user_bias(inputs[:,0])\n",
        "    places_vec = self.places_embedding(inputs[:,1])\n",
        "    places_bias = self.places_bias(inputs[:,1])\n",
        "\n",
        "    dot_user_places = tf.tensordot(user_vec, places_vec, 2)\n",
        "\n",
        "    x = dot_user_places + user_bias + places_bias\n",
        "\n",
        "    return tf.nn.sigmoid(x)\n"
      ]
    },
    {
      "cell_type": "code",
      "execution_count": 17,
      "metadata": {
        "id": "JiXUdNx6kmRB"
      },
      "outputs": [],
      "source": [
        "model = Recommended(num_users, num_place, 50)\n",
        "\n",
        "model.compile(loss = keras.losses.BinaryCrossentropy(),\n",
        "              optimizer= keras.optimizers.Adam(learning_rate=0.0004),\n",
        "              metrics=[keras.metrics.RootMeanSquaredError()]\n",
        "              )"
      ]
    },
    {
      "cell_type": "markdown",
      "metadata": {
        "id": "nRUMiWeVko_k"
      },
      "source": [
        "# training Model"
      ]
    },
    {
      "cell_type": "code",
      "execution_count": 18,
      "metadata": {
        "colab": {
          "base_uri": "https://localhost:8080/"
        },
        "id": "xROri4O9koRP",
        "outputId": "11ce30e8-f89b-4588-b618-660d1f67f22f"
      },
      "outputs": [
        {
          "output_type": "stream",
          "name": "stdout",
          "text": [
            "Epoch 1/100\n",
            "250/250 [==============================] - 2s 3ms/step - loss: 0.7401 - root_mean_squared_error: 0.3744 - val_loss: 0.7240 - val_root_mean_squared_error: 0.3642\n",
            "Epoch 2/100\n",
            "250/250 [==============================] - 1s 3ms/step - loss: 0.7442 - root_mean_squared_error: 0.3767 - val_loss: 0.7231 - val_root_mean_squared_error: 0.3637\n",
            "Epoch 3/100\n",
            "250/250 [==============================] - 1s 3ms/step - loss: 0.7339 - root_mean_squared_error: 0.3708 - val_loss: 0.7229 - val_root_mean_squared_error: 0.3634\n",
            "Epoch 4/100\n",
            "250/250 [==============================] - 1s 3ms/step - loss: 0.7280 - root_mean_squared_error: 0.3672 - val_loss: 0.7215 - val_root_mean_squared_error: 0.3628\n",
            "Epoch 5/100\n",
            "250/250 [==============================] - 1s 3ms/step - loss: 0.7285 - root_mean_squared_error: 0.3671 - val_loss: 0.7213 - val_root_mean_squared_error: 0.3625\n",
            "Epoch 6/100\n",
            "250/250 [==============================] - 1s 3ms/step - loss: 0.7305 - root_mean_squared_error: 0.3688 - val_loss: 0.7199 - val_root_mean_squared_error: 0.3617\n",
            "Epoch 7/100\n",
            "250/250 [==============================] - 1s 2ms/step - loss: 0.7230 - root_mean_squared_error: 0.3644 - val_loss: 0.7171 - val_root_mean_squared_error: 0.3602\n",
            "Epoch 8/100\n",
            "250/250 [==============================] - 1s 3ms/step - loss: 0.7176 - root_mean_squared_error: 0.3610 - val_loss: 0.7164 - val_root_mean_squared_error: 0.3598\n",
            "Epoch 9/100\n",
            "250/250 [==============================] - 1s 2ms/step - loss: 0.7232 - root_mean_squared_error: 0.3642 - val_loss: 0.7168 - val_root_mean_squared_error: 0.3601\n",
            "Epoch 10/100\n",
            "250/250 [==============================] - 1s 2ms/step - loss: 0.7156 - root_mean_squared_error: 0.3598 - val_loss: 0.7154 - val_root_mean_squared_error: 0.3593\n",
            "Epoch 11/100\n",
            "250/250 [==============================] - 1s 2ms/step - loss: 0.7140 - root_mean_squared_error: 0.3589 - val_loss: 0.7155 - val_root_mean_squared_error: 0.3595\n",
            "Epoch 12/100\n",
            "250/250 [==============================] - 1s 2ms/step - loss: 0.7135 - root_mean_squared_error: 0.3586 - val_loss: 0.7139 - val_root_mean_squared_error: 0.3585\n",
            "Epoch 13/100\n",
            "250/250 [==============================] - 1s 3ms/step - loss: 0.7054 - root_mean_squared_error: 0.3533 - val_loss: 0.7137 - val_root_mean_squared_error: 0.3583\n",
            "Epoch 14/100\n",
            "250/250 [==============================] - 1s 2ms/step - loss: 0.7057 - root_mean_squared_error: 0.3535 - val_loss: 0.7132 - val_root_mean_squared_error: 0.3580\n",
            "Epoch 15/100\n",
            "250/250 [==============================] - 1s 2ms/step - loss: 0.7049 - root_mean_squared_error: 0.3530 - val_loss: 0.7112 - val_root_mean_squared_error: 0.3568\n",
            "Epoch 16/100\n",
            "250/250 [==============================] - 1s 2ms/step - loss: 0.7064 - root_mean_squared_error: 0.3539 - val_loss: 0.7099 - val_root_mean_squared_error: 0.3561\n",
            "Epoch 17/100\n",
            "250/250 [==============================] - 1s 2ms/step - loss: 0.7035 - root_mean_squared_error: 0.3520 - val_loss: 0.7114 - val_root_mean_squared_error: 0.3571\n",
            "Epoch 18/100\n",
            "250/250 [==============================] - 1s 3ms/step - loss: 0.6998 - root_mean_squared_error: 0.3496 - val_loss: 0.7114 - val_root_mean_squared_error: 0.3570\n",
            "Epoch 19/100\n",
            "250/250 [==============================] - 1s 2ms/step - loss: 0.7030 - root_mean_squared_error: 0.3516 - val_loss: 0.7136 - val_root_mean_squared_error: 0.3585\n",
            "Epoch 20/100\n",
            "250/250 [==============================] - 1s 3ms/step - loss: 0.7000 - root_mean_squared_error: 0.3499 - val_loss: 0.7134 - val_root_mean_squared_error: 0.3584\n",
            "Epoch 21/100\n",
            "250/250 [==============================] - 1s 2ms/step - loss: 0.6961 - root_mean_squared_error: 0.3472 - val_loss: 0.7120 - val_root_mean_squared_error: 0.3575\n",
            "Epoch 22/100\n",
            "250/250 [==============================] - 1s 2ms/step - loss: 0.6953 - root_mean_squared_error: 0.3466 - val_loss: 0.7120 - val_root_mean_squared_error: 0.3575\n",
            "Epoch 23/100\n",
            "250/250 [==============================] - 1s 2ms/step - loss: 0.6993 - root_mean_squared_error: 0.3493 - val_loss: 0.7104 - val_root_mean_squared_error: 0.3566\n",
            "Epoch 24/100\n",
            "250/250 [==============================] - 1s 3ms/step - loss: 0.6961 - root_mean_squared_error: 0.3472 - val_loss: 0.7106 - val_root_mean_squared_error: 0.3567\n",
            "Epoch 25/100\n",
            "250/250 [==============================] - 1s 2ms/step - loss: 0.6928 - root_mean_squared_error: 0.3448 - val_loss: 0.7108 - val_root_mean_squared_error: 0.3569\n",
            "Epoch 26/100\n",
            "250/250 [==============================] - 1s 2ms/step - loss: 0.6952 - root_mean_squared_error: 0.3465 - val_loss: 0.7097 - val_root_mean_squared_error: 0.3561\n",
            "Epoch 27/100\n",
            "250/250 [==============================] - 1s 2ms/step - loss: 0.6930 - root_mean_squared_error: 0.3450 - val_loss: 0.7081 - val_root_mean_squared_error: 0.3551\n",
            "Epoch 28/100\n",
            "250/250 [==============================] - 1s 3ms/step - loss: 0.6914 - root_mean_squared_error: 0.3440 - val_loss: 0.7072 - val_root_mean_squared_error: 0.3544\n",
            "Epoch 29/100\n",
            "250/250 [==============================] - 1s 2ms/step - loss: 0.6888 - root_mean_squared_error: 0.3421 - val_loss: 0.7082 - val_root_mean_squared_error: 0.3551\n",
            "Epoch 30/100\n",
            "250/250 [==============================] - 1s 3ms/step - loss: 0.6932 - root_mean_squared_error: 0.3452 - val_loss: 0.7076 - val_root_mean_squared_error: 0.3547\n",
            "Epoch 31/100\n",
            "250/250 [==============================] - 1s 2ms/step - loss: 0.6908 - root_mean_squared_error: 0.3435 - val_loss: 0.7078 - val_root_mean_squared_error: 0.3548\n",
            "Epoch 32/100\n",
            "250/250 [==============================] - 1s 2ms/step - loss: 0.6929 - root_mean_squared_error: 0.3449 - val_loss: 0.7092 - val_root_mean_squared_error: 0.3557\n",
            "Epoch 33/100\n",
            "250/250 [==============================] - 1s 4ms/step - loss: 0.6883 - root_mean_squared_error: 0.3417 - val_loss: 0.7091 - val_root_mean_squared_error: 0.3556\n",
            "Epoch 34/100\n",
            "250/250 [==============================] - 1s 4ms/step - loss: 0.6862 - root_mean_squared_error: 0.3403 - val_loss: 0.7093 - val_root_mean_squared_error: 0.3557\n",
            "Epoch 35/100\n",
            "250/250 [==============================] - 1s 3ms/step - loss: 0.6887 - root_mean_squared_error: 0.3421 - val_loss: 0.7098 - val_root_mean_squared_error: 0.3560\n",
            "Epoch 36/100\n",
            "250/250 [==============================] - 1s 3ms/step - loss: 0.6876 - root_mean_squared_error: 0.3412 - val_loss: 0.7104 - val_root_mean_squared_error: 0.3565\n",
            "Epoch 37/100\n",
            "250/250 [==============================] - 1s 2ms/step - loss: 0.6868 - root_mean_squared_error: 0.3407 - val_loss: 0.7109 - val_root_mean_squared_error: 0.3569\n",
            "Epoch 38/100\n",
            "250/250 [==============================] - 1s 2ms/step - loss: 0.6884 - root_mean_squared_error: 0.3419 - val_loss: 0.7092 - val_root_mean_squared_error: 0.3557\n",
            "Epoch 39/100\n",
            "250/250 [==============================] - 1s 2ms/step - loss: 0.6862 - root_mean_squared_error: 0.3403 - val_loss: 0.7098 - val_root_mean_squared_error: 0.3562\n",
            "Epoch 40/100\n",
            "250/250 [==============================] - 1s 3ms/step - loss: 0.6871 - root_mean_squared_error: 0.3409 - val_loss: 0.7101 - val_root_mean_squared_error: 0.3563\n",
            "Epoch 41/100\n",
            "250/250 [==============================] - 1s 2ms/step - loss: 0.6855 - root_mean_squared_error: 0.3398 - val_loss: 0.7102 - val_root_mean_squared_error: 0.3564\n",
            "Epoch 42/100\n",
            "250/250 [==============================] - 1s 2ms/step - loss: 0.6879 - root_mean_squared_error: 0.3414 - val_loss: 0.7097 - val_root_mean_squared_error: 0.3560\n",
            "Epoch 43/100\n",
            "250/250 [==============================] - 1s 2ms/step - loss: 0.6848 - root_mean_squared_error: 0.3392 - val_loss: 0.7099 - val_root_mean_squared_error: 0.3562\n",
            "Epoch 44/100\n",
            "250/250 [==============================] - 1s 3ms/step - loss: 0.6849 - root_mean_squared_error: 0.3393 - val_loss: 0.7100 - val_root_mean_squared_error: 0.3562\n",
            "Epoch 45/100\n",
            "250/250 [==============================] - 1s 3ms/step - loss: 0.6848 - root_mean_squared_error: 0.3392 - val_loss: 0.7111 - val_root_mean_squared_error: 0.3569\n",
            "Epoch 46/100\n",
            "250/250 [==============================] - 1s 3ms/step - loss: 0.6843 - root_mean_squared_error: 0.3390 - val_loss: 0.7104 - val_root_mean_squared_error: 0.3565\n",
            "Epoch 47/100\n",
            "250/250 [==============================] - 1s 3ms/step - loss: 0.6830 - root_mean_squared_error: 0.3379 - val_loss: 0.7098 - val_root_mean_squared_error: 0.3561\n",
            "Epoch 48/100\n",
            "250/250 [==============================] - 1s 2ms/step - loss: 0.6829 - root_mean_squared_error: 0.3379 - val_loss: 0.7107 - val_root_mean_squared_error: 0.3566\n",
            "Epoch 49/100\n",
            "250/250 [==============================] - 1s 2ms/step - loss: 0.6826 - root_mean_squared_error: 0.3377 - val_loss: 0.7097 - val_root_mean_squared_error: 0.3560\n",
            "Epoch 50/100\n",
            "250/250 [==============================] - 1s 2ms/step - loss: 0.6828 - root_mean_squared_error: 0.3378 - val_loss: 0.7086 - val_root_mean_squared_error: 0.3553\n",
            "Epoch 51/100\n",
            "250/250 [==============================] - 1s 2ms/step - loss: 0.6814 - root_mean_squared_error: 0.3368 - val_loss: 0.7073 - val_root_mean_squared_error: 0.3545\n",
            "Epoch 52/100\n",
            "250/250 [==============================] - 1s 3ms/step - loss: 0.6821 - root_mean_squared_error: 0.3373 - val_loss: 0.7072 - val_root_mean_squared_error: 0.3545\n",
            "Epoch 53/100\n",
            "250/250 [==============================] - 1s 2ms/step - loss: 0.6814 - root_mean_squared_error: 0.3368 - val_loss: 0.7085 - val_root_mean_squared_error: 0.3553\n",
            "Epoch 54/100\n",
            "250/250 [==============================] - 1s 2ms/step - loss: 0.6826 - root_mean_squared_error: 0.3377 - val_loss: 0.7085 - val_root_mean_squared_error: 0.3553\n",
            "Epoch 55/100\n",
            "250/250 [==============================] - 1s 2ms/step - loss: 0.6813 - root_mean_squared_error: 0.3368 - val_loss: 0.7089 - val_root_mean_squared_error: 0.3555\n",
            "Epoch 56/100\n",
            "250/250 [==============================] - 1s 3ms/step - loss: 0.6821 - root_mean_squared_error: 0.3373 - val_loss: 0.7080 - val_root_mean_squared_error: 0.3549\n",
            "Epoch 57/100\n",
            "250/250 [==============================] - 1s 3ms/step - loss: 0.6823 - root_mean_squared_error: 0.3374 - val_loss: 0.7083 - val_root_mean_squared_error: 0.3551\n",
            "Epoch 58/100\n",
            "250/250 [==============================] - 1s 2ms/step - loss: 0.6807 - root_mean_squared_error: 0.3363 - val_loss: 0.7084 - val_root_mean_squared_error: 0.3552\n",
            "Epoch 59/100\n",
            "250/250 [==============================] - 1s 3ms/step - loss: 0.6823 - root_mean_squared_error: 0.3374 - val_loss: 0.7078 - val_root_mean_squared_error: 0.3548\n",
            "Epoch 60/100\n",
            "250/250 [==============================] - 1s 2ms/step - loss: 0.6820 - root_mean_squared_error: 0.3373 - val_loss: 0.7081 - val_root_mean_squared_error: 0.3551\n",
            "Epoch 61/100\n",
            "250/250 [==============================] - 1s 2ms/step - loss: 0.6804 - root_mean_squared_error: 0.3361 - val_loss: 0.7080 - val_root_mean_squared_error: 0.3549\n",
            "Epoch 62/100\n",
            "250/250 [==============================] - 1s 3ms/step - loss: 0.6803 - root_mean_squared_error: 0.3360 - val_loss: 0.7083 - val_root_mean_squared_error: 0.3551\n",
            "Epoch 63/100\n",
            "250/250 [==============================] - 1s 2ms/step - loss: 0.6813 - root_mean_squared_error: 0.3367 - val_loss: 0.7070 - val_root_mean_squared_error: 0.3543\n",
            "Epoch 64/100\n",
            "250/250 [==============================] - 1s 2ms/step - loss: 0.6818 - root_mean_squared_error: 0.3371 - val_loss: 0.7073 - val_root_mean_squared_error: 0.3545\n",
            "Epoch 65/100\n",
            "250/250 [==============================] - 1s 2ms/step - loss: 0.6816 - root_mean_squared_error: 0.3370 - val_loss: 0.7080 - val_root_mean_squared_error: 0.3549\n",
            "Epoch 66/100\n",
            "250/250 [==============================] - 1s 3ms/step - loss: 0.6812 - root_mean_squared_error: 0.3366 - val_loss: 0.7081 - val_root_mean_squared_error: 0.3549\n",
            "Epoch 67/100\n",
            "250/250 [==============================] - 1s 3ms/step - loss: 0.6801 - root_mean_squared_error: 0.3359 - val_loss: 0.7093 - val_root_mean_squared_error: 0.3557\n",
            "Epoch 68/100\n",
            "250/250 [==============================] - 1s 2ms/step - loss: 0.6815 - root_mean_squared_error: 0.3368 - val_loss: 0.7083 - val_root_mean_squared_error: 0.3551\n",
            "Epoch 69/100\n",
            "250/250 [==============================] - 1s 2ms/step - loss: 0.6803 - root_mean_squared_error: 0.3360 - val_loss: 0.7083 - val_root_mean_squared_error: 0.3551\n",
            "Epoch 70/100\n",
            "250/250 [==============================] - 1s 2ms/step - loss: 0.6822 - root_mean_squared_error: 0.3374 - val_loss: 0.7078 - val_root_mean_squared_error: 0.3548\n",
            "Epoch 71/100\n",
            "250/250 [==============================] - 1s 3ms/step - loss: 0.6807 - root_mean_squared_error: 0.3363 - val_loss: 0.7087 - val_root_mean_squared_error: 0.3554\n",
            "Epoch 72/100\n",
            "250/250 [==============================] - 1s 2ms/step - loss: 0.6804 - root_mean_squared_error: 0.3361 - val_loss: 0.7079 - val_root_mean_squared_error: 0.3548\n",
            "Epoch 73/100\n",
            "250/250 [==============================] - 1s 2ms/step - loss: 0.6798 - root_mean_squared_error: 0.3357 - val_loss: 0.7080 - val_root_mean_squared_error: 0.3549\n",
            "Epoch 74/100\n",
            "250/250 [==============================] - 1s 2ms/step - loss: 0.6806 - root_mean_squared_error: 0.3362 - val_loss: 0.7079 - val_root_mean_squared_error: 0.3548\n",
            "Epoch 75/100\n",
            "250/250 [==============================] - 1s 2ms/step - loss: 0.6803 - root_mean_squared_error: 0.3360 - val_loss: 0.7072 - val_root_mean_squared_error: 0.3544\n",
            "Epoch 76/100\n",
            "250/250 [==============================] - 1s 3ms/step - loss: 0.6799 - root_mean_squared_error: 0.3358 - val_loss: 0.7073 - val_root_mean_squared_error: 0.3545\n",
            "Epoch 77/100\n",
            "250/250 [==============================] - 1s 3ms/step - loss: 0.6811 - root_mean_squared_error: 0.3366 - val_loss: 0.7075 - val_root_mean_squared_error: 0.3547\n",
            "Epoch 78/100\n",
            "250/250 [==============================] - 1s 2ms/step - loss: 0.6808 - root_mean_squared_error: 0.3365 - val_loss: 0.7063 - val_root_mean_squared_error: 0.3538\n",
            "Epoch 79/100\n",
            "250/250 [==============================] - 1s 3ms/step - loss: 0.6784 - root_mean_squared_error: 0.3347 - val_loss: 0.7053 - val_root_mean_squared_error: 0.3531\n",
            "Epoch 80/100\n",
            "250/250 [==============================] - 1s 2ms/step - loss: 0.6801 - root_mean_squared_error: 0.3358 - val_loss: 0.7051 - val_root_mean_squared_error: 0.3530\n",
            "Epoch 81/100\n",
            "250/250 [==============================] - 1s 3ms/step - loss: 0.6794 - root_mean_squared_error: 0.3354 - val_loss: 0.7061 - val_root_mean_squared_error: 0.3537\n",
            "Epoch 82/100\n",
            "250/250 [==============================] - 1s 2ms/step - loss: 0.6792 - root_mean_squared_error: 0.3353 - val_loss: 0.7053 - val_root_mean_squared_error: 0.3532\n",
            "Epoch 83/100\n",
            "250/250 [==============================] - 1s 2ms/step - loss: 0.6782 - root_mean_squared_error: 0.3345 - val_loss: 0.7037 - val_root_mean_squared_error: 0.3521\n",
            "Epoch 84/100\n",
            "250/250 [==============================] - 1s 3ms/step - loss: 0.6794 - root_mean_squared_error: 0.3354 - val_loss: 0.7043 - val_root_mean_squared_error: 0.3526\n",
            "Epoch 85/100\n",
            "250/250 [==============================] - 1s 2ms/step - loss: 0.6787 - root_mean_squared_error: 0.3349 - val_loss: 0.7049 - val_root_mean_squared_error: 0.3530\n",
            "Epoch 86/100\n",
            "250/250 [==============================] - 1s 3ms/step - loss: 0.6798 - root_mean_squared_error: 0.3356 - val_loss: 0.7038 - val_root_mean_squared_error: 0.3522\n",
            "Epoch 87/100\n",
            "250/250 [==============================] - 1s 2ms/step - loss: 0.6804 - root_mean_squared_error: 0.3361 - val_loss: 0.7039 - val_root_mean_squared_error: 0.3523\n",
            "Epoch 88/100\n",
            "250/250 [==============================] - 1s 2ms/step - loss: 0.6782 - root_mean_squared_error: 0.3345 - val_loss: 0.7045 - val_root_mean_squared_error: 0.3526\n",
            "Epoch 89/100\n",
            "250/250 [==============================] - 1s 3ms/step - loss: 0.6772 - root_mean_squared_error: 0.3338 - val_loss: 0.7043 - val_root_mean_squared_error: 0.3526\n",
            "Epoch 90/100\n",
            "250/250 [==============================] - 1s 3ms/step - loss: 0.6794 - root_mean_squared_error: 0.3354 - val_loss: 0.7048 - val_root_mean_squared_error: 0.3529\n",
            "Epoch 91/100\n",
            "250/250 [==============================] - 1s 2ms/step - loss: 0.6798 - root_mean_squared_error: 0.3357 - val_loss: 0.7045 - val_root_mean_squared_error: 0.3527\n",
            "Epoch 92/100\n",
            "250/250 [==============================] - 1s 2ms/step - loss: 0.6789 - root_mean_squared_error: 0.3350 - val_loss: 0.7047 - val_root_mean_squared_error: 0.3528\n",
            "Epoch 93/100\n",
            "250/250 [==============================] - 1s 3ms/step - loss: 0.6798 - root_mean_squared_error: 0.3356 - val_loss: 0.7055 - val_root_mean_squared_error: 0.3533\n",
            "Epoch 94/100\n",
            "250/250 [==============================] - 1s 3ms/step - loss: 0.6789 - root_mean_squared_error: 0.3350 - val_loss: 0.7058 - val_root_mean_squared_error: 0.3535\n",
            "Epoch 95/100\n",
            "250/250 [==============================] - 1s 3ms/step - loss: 0.6783 - root_mean_squared_error: 0.3347 - val_loss: 0.7059 - val_root_mean_squared_error: 0.3536\n",
            "Epoch 96/100\n",
            "250/250 [==============================] - 1s 2ms/step - loss: 0.6792 - root_mean_squared_error: 0.3353 - val_loss: 0.7068 - val_root_mean_squared_error: 0.3542\n",
            "Epoch 97/100\n",
            "250/250 [==============================] - 1s 2ms/step - loss: 0.6781 - root_mean_squared_error: 0.3345 - val_loss: 0.7065 - val_root_mean_squared_error: 0.3540\n",
            "Epoch 98/100\n",
            "250/250 [==============================] - 1s 2ms/step - loss: 0.6786 - root_mean_squared_error: 0.3348 - val_loss: 0.7070 - val_root_mean_squared_error: 0.3544\n",
            "Epoch 99/100\n",
            "250/250 [==============================] - 1s 3ms/step - loss: 0.6788 - root_mean_squared_error: 0.3350 - val_loss: 0.7067 - val_root_mean_squared_error: 0.3542\n",
            "Epoch 100/100\n",
            "250/250 [==============================] - 1s 3ms/step - loss: 0.6793 - root_mean_squared_error: 0.3353 - val_loss: 0.7072 - val_root_mean_squared_error: 0.3545\n"
          ]
        }
      ],
      "source": [
        "history = model.fit(\n",
        "    x = x_train,\n",
        "    y = y_train,\n",
        "    epochs = 100,\n",
        "    validation_data = (x_test, y_test)\n",
        ")"
      ]
    },
    {
      "cell_type": "markdown",
      "metadata": {
        "id": "czip3luik9Jk"
      },
      "source": [
        "# Evaluasi Model"
      ]
    },
    {
      "cell_type": "code",
      "execution_count": 21,
      "metadata": {
        "colab": {
          "base_uri": "https://localhost:8080/"
        },
        "id": "ipI2DcfYk8c8",
        "outputId": "3fc8d377-2895-47c7-e316-43455912f23a"
      },
      "outputs": [
        {
          "output_type": "stream",
          "name": "stdout",
          "text": [
            "63/63 [==============================] - 0s 2ms/step - loss: 0.7072 - root_mean_squared_error: 0.3545\n"
          ]
        },
        {
          "output_type": "execute_result",
          "data": {
            "text/plain": [
              "[0.7072129845619202, 0.3545273542404175]"
            ]
          },
          "metadata": {},
          "execution_count": 21
        }
      ],
      "source": [
        "model.evaluate(x=x_test, y=y_test)"
      ]
    },
    {
      "cell_type": "code",
      "execution_count": 20,
      "metadata": {
        "colab": {
          "base_uri": "https://localhost:8080/",
          "height": 295
        },
        "id": "rzwPRh8ZlDan",
        "outputId": "2fb77a57-60eb-4e14-92eb-dedb83300fc2"
      },
      "outputs": [
        {
          "output_type": "display_data",
          "data": {
            "text/plain": [
              "<Figure size 432x288 with 1 Axes>"
            ],
            "image/png": "[encoded data removed]"
          },
          "metadata": {
            "needs_background": "light"
          }
        }
      ],
      "source": [
        "import matplotlib.pyplot as plt\n",
        "\n",
        "plt.plot(history.history['root_mean_squared_error'])\n",
        "plt.plot(history.history['val_root_mean_squared_error'])\n",
        "plt.title('model_metrics')\n",
        "plt.ylabel('root_mean_squared_error')\n",
        "plt.xlabel('epoch')\n",
        "plt.ylim(ymin=0, ymax=0.4)\n",
        "plt.legend(['train', 'test'], loc='center left')\n",
        "plt.show()"
      ]
    },
    {
      "cell_type": "markdown",
      "metadata": {
        "id": "JFBegpn4lHir"
      },
      "source": [
        "# Penerapan Model"
      ]
    },
    {
      "cell_type": "code",
      "execution_count": 22,
      "metadata": {
        "colab": {
          "base_uri": "https://localhost:8080/"
        },
        "id": "CdU-54iNlHOz",
        "outputId": "5e56e52f-0414-4b5a-d677-65959b69e4e0"
      },
      "outputs": [
        {
          "output_type": "execute_result",
          "data": {
            "text/plain": [
              "Index(['Place_Id', 'Kuliner_Name', 'Description', 'Category', 'alamat', 'City',\n",
              "       'Rating', 'Coordinate', 'Lat', 'Long', 'Price', 'Images'],\n",
              "      dtype='object')"
            ]
          },
          "metadata": {},
          "execution_count": 22
        }
      ],
      "source": [
        "kuliner.columns"
      ]
    },
    {
      "cell_type": "code",
      "execution_count": 23,
      "metadata": {
        "id": "lMfjsRSzlOHR"
      },
      "outputs": [],
      "source": [
        "place_df = kuliner[['Place_Id', 'Kuliner_Name', 'Description', 'Category', 'alamat', 'City', 'Rating',\n",
        "       'Coordinate','Lat','Long','Price','Images']]\n",
        "place_df.columns = ['Place_Id', 'Kuliner_Name', 'Description', 'Category', 'alamat', 'City', 'Rating',\n",
        "       'Coordinate','Lat','Long','Price','Images']\n",
        "df = rating.copy()"
      ]
    },
    {
      "cell_type": "code",
      "execution_count": 24,
      "metadata": {
        "id": "c9w34r00lmN0"
      },
      "outputs": [],
      "source": [
        "# Mengambil sample user\n",
        "user_id = df.User_Id.sample(1).iloc[0]\n",
        "place_visited_by_user = df[df.User_Id == user_id]"
      ]
    },
    {
      "cell_type": "code",
      "execution_count": 25,
      "metadata": {
        "id": "KTkz9LKgloKK"
      },
      "outputs": [],
      "source": [
        "# Membuat data lokasi yang belum dikunjungi user\n",
        "place_not_visited = place_df[~place_df['Place_Id'].isin(place_visited_by_user.Place_Id.values)]['Place_Id'] \n",
        "place_not_visited = list(\n",
        "    set(place_not_visited).intersection(set(place_to_place_encoded.keys()))\n",
        ")\n",
        " \n",
        "place_not_visited = [[place_to_place_encoded.get(x)] for x in place_not_visited]\n",
        "user_encoder = user_to_user_encoded.get(user_id)\n",
        "user_place_array = np.hstack(\n",
        "    ([[user_encoder]] * len(place_not_visited), place_not_visited)\n",
        ")"
      ]
    },
    {
      "cell_type": "code",
      "execution_count": 26,
      "metadata": {
        "colab": {
          "base_uri": "https://localhost:8080/"
        },
        "id": "5VeNUi5QltQe",
        "outputId": "d5150e9d-f17d-4bfd-f028-fd05ef5981e3",
        "scrolled": true
      },
      "outputs": [
        {
          "output_type": "stream",
          "name": "stdout",
          "text": [
            "\n",
            "------------------------------------------------------------\n",
            "Top 5 place recommendation\n",
            "------------------------------------------------------------\n",
            "1 . Layana Warung \n",
            "     Jl. Raya Goa Gajah, Bedulu, Kec. Blahbatuh, Kabupaten Gianyar, Bali 80582 , Rating Kuliner  4.5 \n",
            "\n",
            "2 . Warung Be Pasih \n",
            "     Jl. Pemuda III No.24, Renon, Denpasar Selatan, Kota Denpasar, Bali 80239 , Rating Kuliner  4.5 \n",
            "\n",
            "3 . Nasi Ayam Kedewatan Ibu Mangku - Renon (Cabang I) \n",
            "     Jl. Teuku Umar No.8, Dauh Puri Kauh, Kec. Denpasar Bar., Kota Denpasar, Bali 80113 , Rating Kuliner  4.4 \n",
            "\n",
            "4 . Warung Makan Teges \n",
            "     Jalan Cok Rai Pudak,Peliatan,Ubud,Kabupaten Gianyar,Bali 80571, Peliatan, Kecamatan Ubud, Kabupaten Gianyar, Bali 80571 , Rating Kuliner  4.5 \n",
            "\n",
            "5 . Laka Leke Restaurant \n",
            "     Jl. Nyuh Bojog No.32, MAS, Kecamatan Ubud, Kabupaten Gianyar, Bali 80571 , Rating Kuliner  4.5 \n",
            "\n",
            "=============================================\n"
          ]
        }
      ],
      "source": [
        "# Mengambil top 5 recommendation\n",
        "ratings = model.predict(user_place_array).flatten()\n",
        "top_ratings_indices = ratings.argsort()[-5:][::-1]\n",
        "recommended_place_ids = [\n",
        "    place_encoded_to_place.get(place_not_visited[x][0]) for x in top_ratings_indices\n",
        "]\n",
        " \n",
        "\n",
        "print('')\n",
        "print('----' * 15)\n",
        "print('Top 5 place recommendation')\n",
        "print('----' * 15)\n",
        " \n",
        "recommended_place = place_df[place_df['Place_Id'].isin(recommended_place_ids)]\n",
        "for row, i in zip(recommended_place.itertuples(), range(1,8)):\n",
        "    print(i,'.', row.Kuliner_Name, '\\n    ', row.alamat, ',', 'Rating Kuliner ', row.Rating,'\\n')\n",
        "\n",
        "print('==='*15)"
      ]
    },
    {
      "cell_type": "markdown",
      "metadata": {
        "id": "AhUrnLEPmNEF"
      },
      "source": [
        "# Save Model"
      ]
    },
    {
      "cell_type": "code",
      "execution_count": 27,
      "metadata": {
        "id": "X2CsLQlNkQox"
      },
      "outputs": [],
      "source": [
        "model.save_weights('./model_kuliner_bali/my_checkpoint')"
      ]
    },
    {
      "cell_type": "markdown",
      "source": [
        "# Load Model"
      ],
      "metadata": {
        "id": "wx3q1xN-yuHQ"
      }
    },
    {
      "cell_type": "code",
      "execution_count": 28,
      "metadata": {
        "colab": {
          "base_uri": "https://localhost:8080/"
        },
        "id": "j0Y2p2RTklYO",
        "outputId": "219cbfc6-097a-4a10-d4d8-1b1af06b626e"
      },
      "outputs": [
        {
          "output_type": "execute_result",
          "data": {
            "text/plain": [
              "<tensorflow.python.training.tracking.util.CheckpointLoadStatus at 0x7fbff5b7c650>"
            ]
          },
          "metadata": {},
          "execution_count": 28
        }
      ],
      "source": [
        "model_load = Recommended(num_users, num_place, 50)\n",
        "model_load.compile(\n",
        "    loss = tf.keras.losses.BinaryCrossentropy(),\n",
        "    optimizer = keras.optimizers.Adam(learning_rate=0.0004),\n",
        "    metrics=[tf.keras.metrics.RootMeanSquaredError()]\n",
        ")\n",
        "model_load.load_weights('./model_kuliner_bali/my_checkpoint')"
      ]
    },
    {
      "cell_type": "code",
      "execution_count": null,
      "metadata": {
        "id": "KoMajBcRv9cf"
      },
      "outputs": [],
      "source": [
        ""
      ]
    }
  ],
  "metadata": {
    "colab": {
      "collapsed_sections": [],
      "name": "system_recomendation_kuliner_bali.ipynb",
      "provenance": []
    },
    "kernelspec": {
      "display_name": "Python 3 (ipykernel)",
      "language": "python",
      "name": "python3"
    },
    "language_info": {
      "codemirror_mode": {
        "name": "ipython",
        "version": 3
      },
      "file_extension": ".py",
      "mimetype": "text/x-python",
      "name": "python",
      "nbconvert_exporter": "python",
      "pygments_lexer": "ipython3",
      "version": "3.8.10"
    }
  },
  "nbformat": 4,
  "nbformat_minor": 0
}