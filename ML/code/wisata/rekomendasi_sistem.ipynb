{
 "cells": [
  {
   "cell_type": "code",
   "execution_count": 1,
   "id": "78b6bc53",
   "metadata": {},
   "outputs": [
    {
     "name": "stderr",
     "output_type": "stream",
     "text": [
      "2022-06-01 21:13:24.920704: W tensorflow/stream_executor/platform/default/dso_loader.cc:64] Could not load dynamic library 'libcudart.so.11.0'; dlerror: libcudart.so.11.0: cannot open shared object file: No such file or directory\n",
      "2022-06-01 21:13:24.920765: I tensorflow/stream_executor/cuda/cudart_stub.cc:29] Ignore above cudart dlerror if you do not have a GPU set up on your machine.\n"
     ]
    }
   ],
   "source": [
    "import numpy as np\n",
    "import pandas as pd \n",
    "\n",
    "# Untuk visualisasi data\n",
    "import seaborn as sns\n",
    "import matplotlib.pyplot as plt\n",
    "\n",
    "%matplotlib inline\n",
    "sns.set_palette('Set1')\n",
    "sns.set()\n",
    "\n",
    "# Untuk pemodelan\n",
    "import tensorflow as tf\n",
    "from tensorflow import keras\n",
    "from tensorflow.keras import layers\n",
    "# from tensorflow.contrib import liteabs\n",
    "\n",
    "# Untuk menghilangkan warnings saat plotting seaborn\n",
    "import warnings\n",
    "warnings.filterwarnings('ignore')"
   ]
  },
  {
   "cell_type": "code",
   "execution_count": 2,
   "id": "8acc07f3",
   "metadata": {},
   "outputs": [],
   "source": [
    "# package = pd.read_csv('../../data/wisata/package_tourism.csv')\n",
    "rating = pd.read_csv('../../data/wisata/tourism_rating.csv')\n",
    "place = pd.read_csv('../../data/wisata/tourism_with_id.csv')\n",
    "user = pd.read_csv('../../data/wisata/user.csv')"
   ]
  },
  {
   "cell_type": "code",
   "execution_count": 3,
   "id": "5534c700",
   "metadata": {},
   "outputs": [
    {
     "data": {
      "text/html": [
       "<div>\n",
       "<style scoped>\n",
       "    .dataframe tbody tr th:only-of-type {\n",
       "        vertical-align: middle;\n",
       "    }\n",
       "\n",
       "    .dataframe tbody tr th {\n",
       "        vertical-align: top;\n",
       "    }\n",
       "\n",
       "    .dataframe thead th {\n",
       "        text-align: right;\n",
       "    }\n",
       "</style>\n",
       "<table border=\"1\" class=\"dataframe\">\n",
       "  <thead>\n",
       "    <tr style=\"text-align: right;\">\n",
       "      <th></th>\n",
       "      <th>Place_Id</th>\n",
       "      <th>Place_Name</th>\n",
       "      <th>Description</th>\n",
       "      <th>Category</th>\n",
       "      <th>City</th>\n",
       "      <th>Rating</th>\n",
       "      <th>Time_Minutes</th>\n",
       "      <th>Coordinate</th>\n",
       "      <th>Lat</th>\n",
       "      <th>Long</th>\n",
       "      <th>Price</th>\n",
       "      <th>Unnamed: 11</th>\n",
       "    </tr>\n",
       "  </thead>\n",
       "  <tbody>\n",
       "    <tr>\n",
       "      <th>0</th>\n",
       "      <td>1</td>\n",
       "      <td>Monumen Nasional</td>\n",
       "      <td>Monumen Nasional atau yang populer disingkat d...</td>\n",
       "      <td>Budaya</td>\n",
       "      <td>Jakarta</td>\n",
       "      <td>4.6</td>\n",
       "      <td>15.0</td>\n",
       "      <td>{'lat': -6.1753924, 'lng': 106.8271528}</td>\n",
       "      <td>-6.175392</td>\n",
       "      <td>106.827153</td>\n",
       "      <td>20000</td>\n",
       "      <td>1</td>\n",
       "    </tr>\n",
       "    <tr>\n",
       "      <th>1</th>\n",
       "      <td>2</td>\n",
       "      <td>Kota Tua</td>\n",
       "      <td>Kota tua di Jakarta, yang juga bernama Kota Tu...</td>\n",
       "      <td>Budaya</td>\n",
       "      <td>Jakarta</td>\n",
       "      <td>4.6</td>\n",
       "      <td>90.0</td>\n",
       "      <td>{'lat': -6.137644799999999, 'lng': 106.8171245}</td>\n",
       "      <td>-6.137645</td>\n",
       "      <td>106.817125</td>\n",
       "      <td>0</td>\n",
       "      <td>2</td>\n",
       "    </tr>\n",
       "    <tr>\n",
       "      <th>2</th>\n",
       "      <td>3</td>\n",
       "      <td>Dunia Fantasi</td>\n",
       "      <td>Dunia Fantasi atau disebut juga Dufan adalah t...</td>\n",
       "      <td>Taman Hiburan</td>\n",
       "      <td>Jakarta</td>\n",
       "      <td>4.6</td>\n",
       "      <td>360.0</td>\n",
       "      <td>{'lat': -6.125312399999999, 'lng': 106.8335377}</td>\n",
       "      <td>-6.125312</td>\n",
       "      <td>106.833538</td>\n",
       "      <td>270000</td>\n",
       "      <td>3</td>\n",
       "    </tr>\n",
       "    <tr>\n",
       "      <th>3</th>\n",
       "      <td>4</td>\n",
       "      <td>Taman Mini Indonesia Indah (TMII)</td>\n",
       "      <td>Taman Mini Indonesia Indah merupakan suatu kaw...</td>\n",
       "      <td>Taman Hiburan</td>\n",
       "      <td>Jakarta</td>\n",
       "      <td>4.5</td>\n",
       "      <td>NaN</td>\n",
       "      <td>{'lat': -6.302445899999999, 'lng': 106.8951559}</td>\n",
       "      <td>-6.302446</td>\n",
       "      <td>106.895156</td>\n",
       "      <td>10000</td>\n",
       "      <td>4</td>\n",
       "    </tr>\n",
       "    <tr>\n",
       "      <th>4</th>\n",
       "      <td>5</td>\n",
       "      <td>Atlantis Water Adventure</td>\n",
       "      <td>Atlantis Water Adventure atau dikenal dengan A...</td>\n",
       "      <td>Taman Hiburan</td>\n",
       "      <td>Jakarta</td>\n",
       "      <td>4.5</td>\n",
       "      <td>60.0</td>\n",
       "      <td>{'lat': -6.12419, 'lng': 106.839134}</td>\n",
       "      <td>-6.124190</td>\n",
       "      <td>106.839134</td>\n",
       "      <td>94000</td>\n",
       "      <td>5</td>\n",
       "    </tr>\n",
       "  </tbody>\n",
       "</table>\n",
       "</div>"
      ],
      "text/plain": [
       "   Place_Id                         Place_Name  \\\n",
       "0         1                   Monumen Nasional   \n",
       "1         2                           Kota Tua   \n",
       "2         3                      Dunia Fantasi   \n",
       "3         4  Taman Mini Indonesia Indah (TMII)   \n",
       "4         5           Atlantis Water Adventure   \n",
       "\n",
       "                                         Description       Category     City  \\\n",
       "0  Monumen Nasional atau yang populer disingkat d...         Budaya  Jakarta   \n",
       "1  Kota tua di Jakarta, yang juga bernama Kota Tu...         Budaya  Jakarta   \n",
       "2  Dunia Fantasi atau disebut juga Dufan adalah t...  Taman Hiburan  Jakarta   \n",
       "3  Taman Mini Indonesia Indah merupakan suatu kaw...  Taman Hiburan  Jakarta   \n",
       "4  Atlantis Water Adventure atau dikenal dengan A...  Taman Hiburan  Jakarta   \n",
       "\n",
       "   Rating  Time_Minutes                                       Coordinate  \\\n",
       "0     4.6          15.0          {'lat': -6.1753924, 'lng': 106.8271528}   \n",
       "1     4.6          90.0  {'lat': -6.137644799999999, 'lng': 106.8171245}   \n",
       "2     4.6         360.0  {'lat': -6.125312399999999, 'lng': 106.8335377}   \n",
       "3     4.5           NaN  {'lat': -6.302445899999999, 'lng': 106.8951559}   \n",
       "4     4.5          60.0             {'lat': -6.12419, 'lng': 106.839134}   \n",
       "\n",
       "        Lat        Long   Price  Unnamed: 11  \n",
       "0 -6.175392  106.827153   20000            1  \n",
       "1 -6.137645  106.817125       0            2  \n",
       "2 -6.125312  106.833538  270000            3  \n",
       "3 -6.302446  106.895156   10000            4  \n",
       "4 -6.124190  106.839134   94000            5  "
      ]
     },
     "execution_count": 3,
     "metadata": {},
     "output_type": "execute_result"
    }
   ],
   "source": [
    "# Melihat gambaran data place\n",
    "\n",
    "place.head()"
   ]
  },
  {
   "cell_type": "code",
   "execution_count": 4,
   "id": "25c469ad",
   "metadata": {},
   "outputs": [
    {
     "data": {
      "text/html": [
       "<div>\n",
       "<style scoped>\n",
       "    .dataframe tbody tr th:only-of-type {\n",
       "        vertical-align: middle;\n",
       "    }\n",
       "\n",
       "    .dataframe tbody tr th {\n",
       "        vertical-align: top;\n",
       "    }\n",
       "\n",
       "    .dataframe thead th {\n",
       "        text-align: right;\n",
       "    }\n",
       "</style>\n",
       "<table border=\"1\" class=\"dataframe\">\n",
       "  <thead>\n",
       "    <tr style=\"text-align: right;\">\n",
       "      <th></th>\n",
       "      <th>Place_Id</th>\n",
       "      <th>Place_Name</th>\n",
       "      <th>Description</th>\n",
       "      <th>Category</th>\n",
       "      <th>City</th>\n",
       "      <th>Rating</th>\n",
       "      <th>Time_Minutes</th>\n",
       "      <th>Coordinate</th>\n",
       "      <th>Lat</th>\n",
       "      <th>Long</th>\n",
       "      <th>Price</th>\n",
       "    </tr>\n",
       "  </thead>\n",
       "  <tbody>\n",
       "    <tr>\n",
       "      <th>0</th>\n",
       "      <td>1</td>\n",
       "      <td>Monumen Nasional</td>\n",
       "      <td>Monumen Nasional atau yang populer disingkat d...</td>\n",
       "      <td>Budaya</td>\n",
       "      <td>Jakarta</td>\n",
       "      <td>4.6</td>\n",
       "      <td>15.0</td>\n",
       "      <td>{'lat': -6.1753924, 'lng': 106.8271528}</td>\n",
       "      <td>-6.175392</td>\n",
       "      <td>106.827153</td>\n",
       "      <td>20000</td>\n",
       "    </tr>\n",
       "    <tr>\n",
       "      <th>1</th>\n",
       "      <td>2</td>\n",
       "      <td>Kota Tua</td>\n",
       "      <td>Kota tua di Jakarta, yang juga bernama Kota Tu...</td>\n",
       "      <td>Budaya</td>\n",
       "      <td>Jakarta</td>\n",
       "      <td>4.6</td>\n",
       "      <td>90.0</td>\n",
       "      <td>{'lat': -6.137644799999999, 'lng': 106.8171245}</td>\n",
       "      <td>-6.137645</td>\n",
       "      <td>106.817125</td>\n",
       "      <td>0</td>\n",
       "    </tr>\n",
       "    <tr>\n",
       "      <th>2</th>\n",
       "      <td>3</td>\n",
       "      <td>Dunia Fantasi</td>\n",
       "      <td>Dunia Fantasi atau disebut juga Dufan adalah t...</td>\n",
       "      <td>Taman Hiburan</td>\n",
       "      <td>Jakarta</td>\n",
       "      <td>4.6</td>\n",
       "      <td>360.0</td>\n",
       "      <td>{'lat': -6.125312399999999, 'lng': 106.8335377}</td>\n",
       "      <td>-6.125312</td>\n",
       "      <td>106.833538</td>\n",
       "      <td>270000</td>\n",
       "    </tr>\n",
       "    <tr>\n",
       "      <th>3</th>\n",
       "      <td>4</td>\n",
       "      <td>Taman Mini Indonesia Indah (TMII)</td>\n",
       "      <td>Taman Mini Indonesia Indah merupakan suatu kaw...</td>\n",
       "      <td>Taman Hiburan</td>\n",
       "      <td>Jakarta</td>\n",
       "      <td>4.5</td>\n",
       "      <td>NaN</td>\n",
       "      <td>{'lat': -6.302445899999999, 'lng': 106.8951559}</td>\n",
       "      <td>-6.302446</td>\n",
       "      <td>106.895156</td>\n",
       "      <td>10000</td>\n",
       "    </tr>\n",
       "    <tr>\n",
       "      <th>4</th>\n",
       "      <td>5</td>\n",
       "      <td>Atlantis Water Adventure</td>\n",
       "      <td>Atlantis Water Adventure atau dikenal dengan A...</td>\n",
       "      <td>Taman Hiburan</td>\n",
       "      <td>Jakarta</td>\n",
       "      <td>4.5</td>\n",
       "      <td>60.0</td>\n",
       "      <td>{'lat': -6.12419, 'lng': 106.839134}</td>\n",
       "      <td>-6.124190</td>\n",
       "      <td>106.839134</td>\n",
       "      <td>94000</td>\n",
       "    </tr>\n",
       "  </tbody>\n",
       "</table>\n",
       "</div>"
      ],
      "text/plain": [
       "   Place_Id                         Place_Name  \\\n",
       "0         1                   Monumen Nasional   \n",
       "1         2                           Kota Tua   \n",
       "2         3                      Dunia Fantasi   \n",
       "3         4  Taman Mini Indonesia Indah (TMII)   \n",
       "4         5           Atlantis Water Adventure   \n",
       "\n",
       "                                         Description       Category     City  \\\n",
       "0  Monumen Nasional atau yang populer disingkat d...         Budaya  Jakarta   \n",
       "1  Kota tua di Jakarta, yang juga bernama Kota Tu...         Budaya  Jakarta   \n",
       "2  Dunia Fantasi atau disebut juga Dufan adalah t...  Taman Hiburan  Jakarta   \n",
       "3  Taman Mini Indonesia Indah merupakan suatu kaw...  Taman Hiburan  Jakarta   \n",
       "4  Atlantis Water Adventure atau dikenal dengan A...  Taman Hiburan  Jakarta   \n",
       "\n",
       "   Rating  Time_Minutes                                       Coordinate  \\\n",
       "0     4.6          15.0          {'lat': -6.1753924, 'lng': 106.8271528}   \n",
       "1     4.6          90.0  {'lat': -6.137644799999999, 'lng': 106.8171245}   \n",
       "2     4.6         360.0  {'lat': -6.125312399999999, 'lng': 106.8335377}   \n",
       "3     4.5           NaN  {'lat': -6.302445899999999, 'lng': 106.8951559}   \n",
       "4     4.5          60.0             {'lat': -6.12419, 'lng': 106.839134}   \n",
       "\n",
       "        Lat        Long   Price  \n",
       "0 -6.175392  106.827153   20000  \n",
       "1 -6.137645  106.817125       0  \n",
       "2 -6.125312  106.833538  270000  \n",
       "3 -6.302446  106.895156   10000  \n",
       "4 -6.124190  106.839134   94000  "
      ]
     },
     "execution_count": 4,
     "metadata": {},
     "output_type": "execute_result"
    }
   ],
   "source": [
    "# Membuang kolom yang tidak dipakai\n",
    "\n",
    "place = place.drop(['Unnamed: 11'],axis=1)\n",
    "place.head()"
   ]
  },
  {
   "cell_type": "code",
   "execution_count": 5,
   "id": "46880410",
   "metadata": {},
   "outputs": [
    {
     "data": {
      "text/html": [
       "<div>\n",
       "<style scoped>\n",
       "    .dataframe tbody tr th:only-of-type {\n",
       "        vertical-align: middle;\n",
       "    }\n",
       "\n",
       "    .dataframe tbody tr th {\n",
       "        vertical-align: top;\n",
       "    }\n",
       "\n",
       "    .dataframe thead th {\n",
       "        text-align: right;\n",
       "    }\n",
       "</style>\n",
       "<table border=\"1\" class=\"dataframe\">\n",
       "  <thead>\n",
       "    <tr style=\"text-align: right;\">\n",
       "      <th></th>\n",
       "      <th>Place_Id</th>\n",
       "      <th>Place_Name</th>\n",
       "      <th>Description</th>\n",
       "      <th>Category</th>\n",
       "      <th>City</th>\n",
       "      <th>Rating</th>\n",
       "      <th>Time_Minutes</th>\n",
       "      <th>Coordinate</th>\n",
       "      <th>Lat</th>\n",
       "      <th>Long</th>\n",
       "      <th>Price</th>\n",
       "    </tr>\n",
       "  </thead>\n",
       "  <tbody>\n",
       "    <tr>\n",
       "      <th>84</th>\n",
       "      <td>85</td>\n",
       "      <td>Taman Pintar Yogyakarta</td>\n",
       "      <td>Taman Pintar Yogyakarta (bahasa Jawa: Hanacara...</td>\n",
       "      <td>Taman Hiburan</td>\n",
       "      <td>Yogyakarta</td>\n",
       "      <td>4.5</td>\n",
       "      <td>120.0</td>\n",
       "      <td>{'lat': -7.800671500000001, 'lng': 110.3676551}</td>\n",
       "      <td>-7.800671</td>\n",
       "      <td>110.367655</td>\n",
       "      <td>6000</td>\n",
       "    </tr>\n",
       "    <tr>\n",
       "      <th>85</th>\n",
       "      <td>86</td>\n",
       "      <td>Keraton Yogyakarta</td>\n",
       "      <td>Keraton Ngayogyakarta Hadiningrat atau Keraton...</td>\n",
       "      <td>Budaya</td>\n",
       "      <td>Yogyakarta</td>\n",
       "      <td>4.6</td>\n",
       "      <td>NaN</td>\n",
       "      <td>{'lat': -7.8052845, 'lng': 110.3642031}</td>\n",
       "      <td>-7.805284</td>\n",
       "      <td>110.364203</td>\n",
       "      <td>15000</td>\n",
       "    </tr>\n",
       "  </tbody>\n",
       "</table>\n",
       "</div>"
      ],
      "text/plain": [
       "    Place_Id               Place_Name  \\\n",
       "84        85  Taman Pintar Yogyakarta   \n",
       "85        86       Keraton Yogyakarta   \n",
       "\n",
       "                                          Description       Category  \\\n",
       "84  Taman Pintar Yogyakarta (bahasa Jawa: Hanacara...  Taman Hiburan   \n",
       "85  Keraton Ngayogyakarta Hadiningrat atau Keraton...         Budaya   \n",
       "\n",
       "          City  Rating  Time_Minutes  \\\n",
       "84  Yogyakarta     4.5         120.0   \n",
       "85  Yogyakarta     4.6           NaN   \n",
       "\n",
       "                                         Coordinate       Lat        Long  \\\n",
       "84  {'lat': -7.800671500000001, 'lng': 110.3676551} -7.800671  110.367655   \n",
       "85          {'lat': -7.8052845, 'lng': 110.3642031} -7.805284  110.364203   \n",
       "\n",
       "    Price  \n",
       "84   6000  \n",
       "85  15000  "
      ]
     },
     "execution_count": 5,
     "metadata": {},
     "output_type": "execute_result"
    }
   ],
   "source": [
    "# Merubah data agar hanya dari Kota Bandung\n",
    "\n",
    "place = place[place['City']=='Yogyakarta']\n",
    "place.head(2)"
   ]
  },
  {
   "cell_type": "code",
   "execution_count": 6,
   "id": "c9eb773b",
   "metadata": {},
   "outputs": [],
   "source": [
    "# Membuang kolom yang tidak dipakai\n",
    "\n",
    "place = place.drop('Time_Minutes', axis=1)"
   ]
  },
  {
   "cell_type": "code",
   "execution_count": 7,
   "id": "26254753",
   "metadata": {},
   "outputs": [
    {
     "data": {
      "text/html": [
       "<div>\n",
       "<style scoped>\n",
       "    .dataframe tbody tr th:only-of-type {\n",
       "        vertical-align: middle;\n",
       "    }\n",
       "\n",
       "    .dataframe tbody tr th {\n",
       "        vertical-align: top;\n",
       "    }\n",
       "\n",
       "    .dataframe thead th {\n",
       "        text-align: right;\n",
       "    }\n",
       "</style>\n",
       "<table border=\"1\" class=\"dataframe\">\n",
       "  <thead>\n",
       "    <tr style=\"text-align: right;\">\n",
       "      <th></th>\n",
       "      <th>User_Id</th>\n",
       "      <th>Place_Id</th>\n",
       "      <th>Place_Ratings</th>\n",
       "    </tr>\n",
       "  </thead>\n",
       "  <tbody>\n",
       "    <tr>\n",
       "      <th>0</th>\n",
       "      <td>1</td>\n",
       "      <td>179</td>\n",
       "      <td>3</td>\n",
       "    </tr>\n",
       "    <tr>\n",
       "      <th>1</th>\n",
       "      <td>1</td>\n",
       "      <td>344</td>\n",
       "      <td>2</td>\n",
       "    </tr>\n",
       "    <tr>\n",
       "      <th>2</th>\n",
       "      <td>1</td>\n",
       "      <td>5</td>\n",
       "      <td>5</td>\n",
       "    </tr>\n",
       "    <tr>\n",
       "      <th>3</th>\n",
       "      <td>1</td>\n",
       "      <td>373</td>\n",
       "      <td>3</td>\n",
       "    </tr>\n",
       "    <tr>\n",
       "      <th>4</th>\n",
       "      <td>1</td>\n",
       "      <td>101</td>\n",
       "      <td>4</td>\n",
       "    </tr>\n",
       "  </tbody>\n",
       "</table>\n",
       "</div>"
      ],
      "text/plain": [
       "   User_Id  Place_Id  Place_Ratings\n",
       "0        1       179              3\n",
       "1        1       344              2\n",
       "2        1         5              5\n",
       "3        1       373              3\n",
       "4        1       101              4"
      ]
     },
     "execution_count": 7,
     "metadata": {},
     "output_type": "execute_result"
    }
   ],
   "source": [
    "# melihat gambaran data rating\n",
    "\n",
    "rating.head()"
   ]
  },
  {
   "cell_type": "code",
   "execution_count": 8,
   "id": "d861751a",
   "metadata": {},
   "outputs": [
    {
     "data": {
      "text/html": [
       "<div>\n",
       "<style scoped>\n",
       "    .dataframe tbody tr th:only-of-type {\n",
       "        vertical-align: middle;\n",
       "    }\n",
       "\n",
       "    .dataframe tbody tr th {\n",
       "        vertical-align: top;\n",
       "    }\n",
       "\n",
       "    .dataframe thead th {\n",
       "        text-align: right;\n",
       "    }\n",
       "</style>\n",
       "<table border=\"1\" class=\"dataframe\">\n",
       "  <thead>\n",
       "    <tr style=\"text-align: right;\">\n",
       "      <th></th>\n",
       "      <th>User_Id</th>\n",
       "      <th>Place_Id</th>\n",
       "      <th>Place_Ratings</th>\n",
       "    </tr>\n",
       "  </thead>\n",
       "  <tbody>\n",
       "    <tr>\n",
       "      <th>0</th>\n",
       "      <td>2</td>\n",
       "      <td>85</td>\n",
       "      <td>4</td>\n",
       "    </tr>\n",
       "    <tr>\n",
       "      <th>1</th>\n",
       "      <td>23</td>\n",
       "      <td>85</td>\n",
       "      <td>4</td>\n",
       "    </tr>\n",
       "    <tr>\n",
       "      <th>2</th>\n",
       "      <td>25</td>\n",
       "      <td>85</td>\n",
       "      <td>2</td>\n",
       "    </tr>\n",
       "    <tr>\n",
       "      <th>3</th>\n",
       "      <td>39</td>\n",
       "      <td>85</td>\n",
       "      <td>5</td>\n",
       "    </tr>\n",
       "    <tr>\n",
       "      <th>4</th>\n",
       "      <td>43</td>\n",
       "      <td>85</td>\n",
       "      <td>4</td>\n",
       "    </tr>\n",
       "  </tbody>\n",
       "</table>\n",
       "</div>"
      ],
      "text/plain": [
       "   User_Id  Place_Id  Place_Ratings\n",
       "0        2        85              4\n",
       "1       23        85              4\n",
       "2       25        85              2\n",
       "3       39        85              5\n",
       "4       43        85              4"
      ]
     },
     "execution_count": 8,
     "metadata": {},
     "output_type": "execute_result"
    }
   ],
   "source": [
    "# Merubah data rating agar hanya berisi rating pada tempat wisata dari Kota Yogyakarta\n",
    "\n",
    "rating = pd.merge(rating, place[['Place_Id']], how='right', on='Place_Id')\n",
    "rating.head()"
   ]
  },
  {
   "cell_type": "code",
   "execution_count": 9,
   "id": "a83de1e3",
   "metadata": {},
   "outputs": [
    {
     "data": {
      "text/plain": [
       "(2871, 3)"
      ]
     },
     "execution_count": 9,
     "metadata": {},
     "output_type": "execute_result"
    }
   ],
   "source": [
    "# Melihat ukuran dataset rating untuk Kota Yogyakarta\n",
    "\n",
    "rating.shape"
   ]
  },
  {
   "cell_type": "code",
   "execution_count": 10,
   "id": "d8857ec8",
   "metadata": {},
   "outputs": [
    {
     "data": {
      "text/html": [
       "<div>\n",
       "<style scoped>\n",
       "    .dataframe tbody tr th:only-of-type {\n",
       "        vertical-align: middle;\n",
       "    }\n",
       "\n",
       "    .dataframe tbody tr th {\n",
       "        vertical-align: top;\n",
       "    }\n",
       "\n",
       "    .dataframe thead th {\n",
       "        text-align: right;\n",
       "    }\n",
       "</style>\n",
       "<table border=\"1\" class=\"dataframe\">\n",
       "  <thead>\n",
       "    <tr style=\"text-align: right;\">\n",
       "      <th></th>\n",
       "      <th>User_Id</th>\n",
       "      <th>Location</th>\n",
       "      <th>Age</th>\n",
       "    </tr>\n",
       "  </thead>\n",
       "  <tbody>\n",
       "    <tr>\n",
       "      <th>0</th>\n",
       "      <td>1</td>\n",
       "      <td>Semarang, Jawa Tengah</td>\n",
       "      <td>20</td>\n",
       "    </tr>\n",
       "    <tr>\n",
       "      <th>1</th>\n",
       "      <td>2</td>\n",
       "      <td>Bekasi, Jawa Barat</td>\n",
       "      <td>21</td>\n",
       "    </tr>\n",
       "    <tr>\n",
       "      <th>2</th>\n",
       "      <td>3</td>\n",
       "      <td>Cirebon, Jawa Barat</td>\n",
       "      <td>23</td>\n",
       "    </tr>\n",
       "    <tr>\n",
       "      <th>3</th>\n",
       "      <td>4</td>\n",
       "      <td>Bekasi, Jawa Barat</td>\n",
       "      <td>21</td>\n",
       "    </tr>\n",
       "    <tr>\n",
       "      <th>4</th>\n",
       "      <td>5</td>\n",
       "      <td>Lampung, Sumatera Selatan</td>\n",
       "      <td>20</td>\n",
       "    </tr>\n",
       "  </tbody>\n",
       "</table>\n",
       "</div>"
      ],
      "text/plain": [
       "   User_Id                   Location  Age\n",
       "0        1      Semarang, Jawa Tengah   20\n",
       "1        2         Bekasi, Jawa Barat   21\n",
       "2        3        Cirebon, Jawa Barat   23\n",
       "3        4         Bekasi, Jawa Barat   21\n",
       "4        5  Lampung, Sumatera Selatan   20"
      ]
     },
     "execution_count": 10,
     "metadata": {},
     "output_type": "execute_result"
    }
   ],
   "source": [
    "# Melihat gambaran data user\n",
    "\n",
    "user.head()"
   ]
  },
  {
   "cell_type": "code",
   "execution_count": 11,
   "id": "5bdad5b8",
   "metadata": {},
   "outputs": [
    {
     "data": {
      "text/html": [
       "<div>\n",
       "<style scoped>\n",
       "    .dataframe tbody tr th:only-of-type {\n",
       "        vertical-align: middle;\n",
       "    }\n",
       "\n",
       "    .dataframe tbody tr th {\n",
       "        vertical-align: top;\n",
       "    }\n",
       "\n",
       "    .dataframe thead th {\n",
       "        text-align: right;\n",
       "    }\n",
       "</style>\n",
       "<table border=\"1\" class=\"dataframe\">\n",
       "  <thead>\n",
       "    <tr style=\"text-align: right;\">\n",
       "      <th></th>\n",
       "      <th>User_Id</th>\n",
       "      <th>Location</th>\n",
       "      <th>Age</th>\n",
       "    </tr>\n",
       "  </thead>\n",
       "  <tbody>\n",
       "    <tr>\n",
       "      <th>101</th>\n",
       "      <td>1</td>\n",
       "      <td>Semarang, Jawa Tengah</td>\n",
       "      <td>20</td>\n",
       "    </tr>\n",
       "    <tr>\n",
       "      <th>0</th>\n",
       "      <td>2</td>\n",
       "      <td>Bekasi, Jawa Barat</td>\n",
       "      <td>21</td>\n",
       "    </tr>\n",
       "    <tr>\n",
       "      <th>25</th>\n",
       "      <td>3</td>\n",
       "      <td>Cirebon, Jawa Barat</td>\n",
       "      <td>23</td>\n",
       "    </tr>\n",
       "    <tr>\n",
       "      <th>69</th>\n",
       "      <td>4</td>\n",
       "      <td>Bekasi, Jawa Barat</td>\n",
       "      <td>21</td>\n",
       "    </tr>\n",
       "    <tr>\n",
       "      <th>717</th>\n",
       "      <td>5</td>\n",
       "      <td>Lampung, Sumatera Selatan</td>\n",
       "      <td>20</td>\n",
       "    </tr>\n",
       "  </tbody>\n",
       "</table>\n",
       "</div>"
      ],
      "text/plain": [
       "     User_Id                   Location  Age\n",
       "101        1      Semarang, Jawa Tengah   20\n",
       "0          2         Bekasi, Jawa Barat   21\n",
       "25         3        Cirebon, Jawa Barat   23\n",
       "69         4         Bekasi, Jawa Barat   21\n",
       "717        5  Lampung, Sumatera Selatan   20"
      ]
     },
     "execution_count": 11,
     "metadata": {},
     "output_type": "execute_result"
    }
   ],
   "source": [
    "# Merubah data user agar hanya berisi user yang pernah megunjungi wisata di Kota Yogyakarta\n",
    "\n",
    "user = pd.merge(user, rating[['User_Id']], how='right', on='User_Id').drop_duplicates().sort_values('User_Id')\n",
    "user.head()"
   ]
  },
  {
   "cell_type": "code",
   "execution_count": 12,
   "id": "18b00178",
   "metadata": {},
   "outputs": [
    {
     "data": {
      "text/plain": [
       "(300, 3)"
      ]
     },
     "execution_count": 12,
     "metadata": {},
     "output_type": "execute_result"
    }
   ],
   "source": [
    "# Melihat dataset user yang pernah memberi rating pada wisata di Kota Yogyakarta\n",
    "\n",
    "user.shape"
   ]
  },
  {
   "cell_type": "code",
   "execution_count": 13,
   "id": "d7172f5b",
   "metadata": {},
   "outputs": [
    {
     "data": {
      "image/png": "[encoded data removed]",
      "text/plain": [
       "<Figure size 576x360 with 1 Axes>"
      ]
     },
     "metadata": {},
     "output_type": "display_data"
    }
   ],
   "source": [
    "# Membuat dataframe berisi lokasi dengan jumlah rating terbanyak\n",
    "top_10 = rating['Place_Id'].value_counts().reset_index()[0:10]\n",
    "top_10 = pd.merge(top_10, place[['Place_Id','Place_Name']], how='left', left_on='index', right_on='Place_Id')\n",
    "\n",
    "# Membuat visualisasi wisata dengan jumlah rating terbanyak\n",
    "plt.figure(figsize=(8,5))\n",
    "sns.barplot('Place_Id_x', 'Place_Name', data=top_10)\n",
    "plt.title('Jumlah Tempat Wisata dengan Rating Terbanyak', pad=20)\n",
    "plt.ylabel('Jumlah Rating')\n",
    "plt.xlabel('Nama Lokasi')\n",
    "plt.show()"
   ]
  },
  {
   "cell_type": "code",
   "execution_count": 14,
   "id": "a982916a",
   "metadata": {},
   "outputs": [
    {
     "data": {
      "image/png": "[encoded data removed]",
      "text/plain": [
       "<Figure size 432x288 with 1 Axes>"
      ]
     },
     "metadata": {},
     "output_type": "display_data"
    }
   ],
   "source": [
    "# Membuat visualisasi jumlah kategori wisata di Kota Yogyakarta\n",
    "\n",
    "sns.countplot(y='Category', data=place)\n",
    "plt.title('Perbandingan Jumlah Kategori Wisata di Kota Yogyakarta', pad=20)\n",
    "plt.show()"
   ]
  },
  {
   "cell_type": "code",
   "execution_count": 15,
   "id": "79f1bb7b",
   "metadata": {},
   "outputs": [
    {
     "data": {
      "image/png": "[encoded data removed]",
      "text/plain": [
       "<Figure size 360x216 with 1 Axes>"
      ]
     },
     "metadata": {},
     "output_type": "display_data"
    }
   ],
   "source": [
    "# Membuat visualisasi distribusi usia user\n",
    "\n",
    "plt.figure(figsize=(5,3))\n",
    "sns.boxplot(user['Age']);\n",
    "plt.title('Distribusi Usia User', pad=20)\n",
    "plt.show()"
   ]
  },
  {
   "cell_type": "code",
   "execution_count": 16,
   "id": "db39a394",
   "metadata": {},
   "outputs": [
    {
     "data": {
      "image/png": "[encoded data removed]",
      "text/plain": [
       "<Figure size 504x216 with 1 Axes>"
      ]
     },
     "metadata": {},
     "output_type": "display_data"
    }
   ],
   "source": [
    "# Membuat visualisasi distribusi harga masuk tempat wisata\n",
    "\n",
    "plt.figure(figsize=(7,3))\n",
    "sns.boxplot(place['Price'])\n",
    "plt.title('Distribusi Harga Masuk Wisata di Kota Yogyakarta', pad=20)\n",
    "plt.show()"
   ]
  },
  {
   "cell_type": "code",
   "execution_count": 17,
   "id": "09bbfef2",
   "metadata": {},
   "outputs": [
    {
     "data": {
      "image/png": "[encoded data removed]",
      "text/plain": [
       "<Figure size 576x432 with 1 Axes>"
      ]
     },
     "metadata": {},
     "output_type": "display_data"
    }
   ],
   "source": [
    "# Memfilter asal kota dari user\n",
    "askot = user['Location'].apply(lambda x : x.split(',')[0])\n",
    "\n",
    "# Visualisasi asal kota dari user\n",
    "plt.figure(figsize=(8,6))\n",
    "sns.countplot(y=askot)\n",
    "plt.title('Jumlah Asal Kota dari User')\n",
    "plt.show()"
   ]
  },
  {
   "cell_type": "markdown",
   "id": "4d73a02f",
   "metadata": {},
   "source": [
    " # MODELING"
   ]
  },
  {
   "cell_type": "code",
   "execution_count": 18,
   "id": "b4bf1ece",
   "metadata": {},
   "outputs": [
    {
     "data": {
      "text/html": [
       "<div>\n",
       "<style scoped>\n",
       "    .dataframe tbody tr th:only-of-type {\n",
       "        vertical-align: middle;\n",
       "    }\n",
       "\n",
       "    .dataframe tbody tr th {\n",
       "        vertical-align: top;\n",
       "    }\n",
       "\n",
       "    .dataframe thead th {\n",
       "        text-align: right;\n",
       "    }\n",
       "</style>\n",
       "<table border=\"1\" class=\"dataframe\">\n",
       "  <thead>\n",
       "    <tr style=\"text-align: right;\">\n",
       "      <th></th>\n",
       "      <th>User_Id</th>\n",
       "      <th>Place_Id</th>\n",
       "      <th>Place_Ratings</th>\n",
       "    </tr>\n",
       "  </thead>\n",
       "  <tbody>\n",
       "    <tr>\n",
       "      <th>0</th>\n",
       "      <td>2</td>\n",
       "      <td>85</td>\n",
       "      <td>4</td>\n",
       "    </tr>\n",
       "    <tr>\n",
       "      <th>1</th>\n",
       "      <td>23</td>\n",
       "      <td>85</td>\n",
       "      <td>4</td>\n",
       "    </tr>\n",
       "    <tr>\n",
       "      <th>2</th>\n",
       "      <td>25</td>\n",
       "      <td>85</td>\n",
       "      <td>2</td>\n",
       "    </tr>\n",
       "    <tr>\n",
       "      <th>3</th>\n",
       "      <td>39</td>\n",
       "      <td>85</td>\n",
       "      <td>5</td>\n",
       "    </tr>\n",
       "    <tr>\n",
       "      <th>4</th>\n",
       "      <td>43</td>\n",
       "      <td>85</td>\n",
       "      <td>4</td>\n",
       "    </tr>\n",
       "  </tbody>\n",
       "</table>\n",
       "</div>"
      ],
      "text/plain": [
       "   User_Id  Place_Id  Place_Ratings\n",
       "0        2        85              4\n",
       "1       23        85              4\n",
       "2       25        85              2\n",
       "3       39        85              5\n",
       "4       43        85              4"
      ]
     },
     "execution_count": 18,
     "metadata": {},
     "output_type": "execute_result"
    }
   ],
   "source": [
    "# Membaca dataset untuk dilakukan encoding\n",
    " \n",
    "df = rating.copy()\n",
    "df.head()"
   ]
  },
  {
   "cell_type": "code",
   "execution_count": 19,
   "id": "8d8264f5",
   "metadata": {},
   "outputs": [],
   "source": [
    "#ENCODING\n",
    "def dict_encoder(col, data=df):\n",
    "\n",
    "  # Mengubah kolom suatu dataframe menjadi list tanpa nilai yang sama\n",
    "  unique_val = data[col].unique().tolist()\n",
    "\n",
    "  # Melakukan encoding value kolom suatu dataframe ke angka\n",
    "  val_to_val_encoded = {x: i for i, x in enumerate(unique_val)}\n",
    "\n",
    "  # Melakukan proses encoding angka ke value dari kolom suatu dataframe\n",
    "  val_encoded_to_val = {i: x for i, x in enumerate(unique_val)}\n",
    "  return val_to_val_encoded, val_encoded_to_val"
   ]
  },
  {
   "cell_type": "code",
   "execution_count": 20,
   "id": "ad188ea7",
   "metadata": {},
   "outputs": [],
   "source": [
    "# ENCODING + MAPING \n",
    "\n",
    "# Encoding User_Id\n",
    "user_to_user_encoded, user_encoded_to_user = dict_encoder('User_Id')\n",
    "\n",
    "# Mapping User_Id ke dataframe\n",
    "df['user'] = df['User_Id'].map(user_to_user_encoded)"
   ]
  },
  {
   "cell_type": "code",
   "execution_count": 21,
   "id": "4f3ec03b",
   "metadata": {},
   "outputs": [],
   "source": [
    "# Encoding Place_Id\n",
    "place_to_place_encoded, place_encoded_to_place = dict_encoder('Place_Id')\n",
    "\n",
    "# Mapping Place_Id ke dataframe place\n",
    "df['place'] = df['Place_Id'].map(place_to_place_encoded)"
   ]
  },
  {
   "cell_type": "code",
   "execution_count": 22,
   "id": "0b789325",
   "metadata": {},
   "outputs": [
    {
     "name": "stdout",
     "output_type": "stream",
     "text": [
      "Number of User: 300, Number of Place: 126, Min Rating: 1.0, Max Rating: 5.0\n"
     ]
    }
   ],
   "source": [
    "# Mendapatkan jumlah user dan place\n",
    "num_users, num_place = len(user_to_user_encoded), len(place_to_place_encoded)\n",
    " \n",
    "# Mengubah rating menjadi nilai float\n",
    "df['Place_Ratings'] = df['Place_Ratings'].values.astype(np.float32)\n",
    " \n",
    "# Mendapatkan nilai minimum dan maksimum rating\n",
    "min_rating, max_rating = min(df['Place_Ratings']), max(df['Place_Ratings'])\n",
    " \n",
    "print(f'Number of User: {num_users}, Number of Place: {num_place}, Min Rating: {min_rating}, Max Rating: {max_rating}')"
   ]
  },
  {
   "cell_type": "code",
   "execution_count": 23,
   "id": "098596e3",
   "metadata": {},
   "outputs": [
    {
     "data": {
      "text/html": [
       "<div>\n",
       "<style scoped>\n",
       "    .dataframe tbody tr th:only-of-type {\n",
       "        vertical-align: middle;\n",
       "    }\n",
       "\n",
       "    .dataframe tbody tr th {\n",
       "        vertical-align: top;\n",
       "    }\n",
       "\n",
       "    .dataframe thead th {\n",
       "        text-align: right;\n",
       "    }\n",
       "</style>\n",
       "<table border=\"1\" class=\"dataframe\">\n",
       "  <thead>\n",
       "    <tr style=\"text-align: right;\">\n",
       "      <th></th>\n",
       "      <th>User_Id</th>\n",
       "      <th>Place_Id</th>\n",
       "      <th>Place_Ratings</th>\n",
       "      <th>user</th>\n",
       "      <th>place</th>\n",
       "    </tr>\n",
       "  </thead>\n",
       "  <tbody>\n",
       "    <tr>\n",
       "      <th>729</th>\n",
       "      <td>194</td>\n",
       "      <td>115</td>\n",
       "      <td>4.0</td>\n",
       "      <td>130</td>\n",
       "      <td>30</td>\n",
       "    </tr>\n",
       "    <tr>\n",
       "      <th>2067</th>\n",
       "      <td>276</td>\n",
       "      <td>176</td>\n",
       "      <td>2.0</td>\n",
       "      <td>23</td>\n",
       "      <td>91</td>\n",
       "    </tr>\n",
       "  </tbody>\n",
       "</table>\n",
       "</div>"
      ],
      "text/plain": [
       "      User_Id  Place_Id  Place_Ratings  user  place\n",
       "729       194       115            4.0   130     30\n",
       "2067      276       176            2.0    23     91"
      ]
     },
     "execution_count": 23,
     "metadata": {},
     "output_type": "execute_result"
    }
   ],
   "source": [
    "# Mengacak dataset\n",
    "df = df.sample(frac=1, random_state=42)\n",
    "df.head(2)"
   ]
  },
  {
   "cell_type": "code",
   "execution_count": 24,
   "id": "2841414a",
   "metadata": {},
   "outputs": [],
   "source": [
    "# Membuat variabel x untuk mencocokkan data user dan place menjadi satu value\n",
    "x = df[['user', 'place']].values\n",
    " \n",
    "# Membuat variabel y untuk membuat rating dari hasil \n",
    "y = df['Place_Ratings'].apply(lambda x: (x - min_rating) / (max_rating - min_rating)).values\n",
    " \n",
    "# Membagi menjadi 80% data train dan 20% data validasi\n",
    "train_indices = int(0.8 * df.shape[0])\n",
    "x_train, x_val, y_train, y_val = (\n",
    "    x[:train_indices],\n",
    "    x[train_indices:],\n",
    "    y[:train_indices],\n",
    "    y[train_indices:]\n",
    ")"
   ]
  },
  {
   "cell_type": "code",
   "execution_count": 25,
   "id": "894b8bb3",
   "metadata": {},
   "outputs": [],
   "source": [
    "class RecommenderNet(tf.keras.Model):\n",
    " \n",
    "  # Insialisasi fungsi\n",
    "  def __init__(self, num_users, num_places, embedding_size, **kwargs):\n",
    "    super(RecommenderNet, self).__init__(**kwargs)\n",
    "    self.num_users = num_users\n",
    "    self.num_places = num_places\n",
    "    self.embedding_size = embedding_size\n",
    "    self.user_embedding = layers.Embedding( # layer embedding user\n",
    "        num_users,\n",
    "        embedding_size,\n",
    "        embeddings_initializer = 'he_normal',\n",
    "        embeddings_regularizer = keras.regularizers.l2(1e-6)\n",
    "    )\n",
    "    self.user_bias = layers.Embedding(num_users, 1) # layer embedding user bias\n",
    "    self.places_embedding = layers.Embedding( # layer embeddings places\n",
    "        num_places,\n",
    "        embedding_size,\n",
    "        embeddings_initializer = 'he_normal',\n",
    "        embeddings_regularizer = keras.regularizers.l2(1e-6)\n",
    "    )\n",
    "    self.places_bias = layers.Embedding(num_places, 1) # layer embedding places bias\n",
    " \n",
    "  def call(self, inputs):\n",
    "    user_vector = self.user_embedding(inputs[:,0]) # memanggil layer embedding 1\n",
    "    user_bias = self.user_bias(inputs[:, 0]) # memanggil layer embedding 2\n",
    "    places_vector = self.places_embedding(inputs[:, 1]) # memanggil layer embedding 3\n",
    "    places_bias = self.places_bias(inputs[:, 1]) # memanggil layer embedding 4\n",
    " \n",
    "    dot_user_places = tf.tensordot(user_vector, places_vector, 2) \n",
    " \n",
    "    x = dot_user_places + user_bias + places_bias\n",
    "    \n",
    "    return tf.nn.sigmoid(x) # activation sigmoid"
   ]
  },
  {
   "cell_type": "code",
   "execution_count": 26,
   "id": "20300a62",
   "metadata": {},
   "outputs": [
    {
     "name": "stderr",
     "output_type": "stream",
     "text": [
      "2022-06-01 21:14:14.826227: W tensorflow/stream_executor/platform/default/dso_loader.cc:64] Could not load dynamic library 'libcuda.so.1'; dlerror: libcuda.so.1: cannot open shared object file: No such file or directory\n",
      "2022-06-01 21:14:14.826276: W tensorflow/stream_executor/cuda/cuda_driver.cc:269] failed call to cuInit: UNKNOWN ERROR (303)\n",
      "2022-06-01 21:14:14.826302: I tensorflow/stream_executor/cuda/cuda_diagnostics.cc:156] kernel driver does not appear to be running on this host (wan): /proc/driver/nvidia/version does not exist\n"
     ]
    }
   ],
   "source": [
    "model = RecommenderNet(num_users, num_place, 50) # inisialisasi model\n",
    " \n",
    "# model compile\n",
    "model.compile(\n",
    "    loss = tf.keras.losses.BinaryCrossentropy(),\n",
    "    optimizer = keras.optimizers.Adam(learning_rate=0.0004),\n",
    "    metrics=[tf.keras.metrics.RootMeanSquaredError()]\n",
    ")"
   ]
  },
  {
   "cell_type": "code",
   "execution_count": 27,
   "id": "5c9128d4",
   "metadata": {},
   "outputs": [],
   "source": [
    " class myCallback(tf.keras.callbacks.Callback):\n",
    "  def on_epoch_end(self, epoch, logs={}):\n",
    "    if(logs.get('val_root_mean_squared_error')<0.25):\n",
    "      print('Lapor! Metriks validasi sudah sesuai harapan')\n",
    "      self.model.stop_training = True"
   ]
  },
  {
   "cell_type": "code",
   "execution_count": 28,
   "id": "c386d342",
   "metadata": {},
   "outputs": [
    {
     "name": "stdout",
     "output_type": "stream",
     "text": [
      "Epoch 1/100\n",
      "72/72 [==============================] - 2s 7ms/step - loss: 0.7146 - root_mean_squared_error: 0.3655 - val_loss: 0.7022 - val_root_mean_squared_error: 0.3473\n",
      "Epoch 2/100\n",
      "72/72 [==============================] - 0s 4ms/step - loss: 0.7157 - root_mean_squared_error: 0.3661 - val_loss: 0.7020 - val_root_mean_squared_error: 0.3471\n",
      "Epoch 3/100\n",
      "72/72 [==============================] - 0s 4ms/step - loss: 0.7042 - root_mean_squared_error: 0.3588 - val_loss: 0.7022 - val_root_mean_squared_error: 0.3472\n",
      "Epoch 4/100\n",
      "72/72 [==============================] - 0s 4ms/step - loss: 0.7134 - root_mean_squared_error: 0.3648 - val_loss: 0.7022 - val_root_mean_squared_error: 0.3472\n",
      "Epoch 5/100\n",
      "72/72 [==============================] - 0s 4ms/step - loss: 0.7093 - root_mean_squared_error: 0.3617 - val_loss: 0.7028 - val_root_mean_squared_error: 0.3476\n",
      "Epoch 6/100\n",
      "72/72 [==============================] - 0s 4ms/step - loss: 0.7049 - root_mean_squared_error: 0.3589 - val_loss: 0.7029 - val_root_mean_squared_error: 0.3476\n",
      "Epoch 7/100\n",
      "72/72 [==============================] - 0s 4ms/step - loss: 0.7016 - root_mean_squared_error: 0.3571 - val_loss: 0.7035 - val_root_mean_squared_error: 0.3480\n",
      "Epoch 8/100\n",
      "72/72 [==============================] - 0s 4ms/step - loss: 0.6998 - root_mean_squared_error: 0.3556 - val_loss: 0.7043 - val_root_mean_squared_error: 0.3486\n",
      "Epoch 9/100\n",
      "72/72 [==============================] - 0s 4ms/step - loss: 0.7014 - root_mean_squared_error: 0.3568 - val_loss: 0.7048 - val_root_mean_squared_error: 0.3490\n",
      "Epoch 10/100\n",
      "72/72 [==============================] - 0s 4ms/step - loss: 0.7022 - root_mean_squared_error: 0.3574 - val_loss: 0.7049 - val_root_mean_squared_error: 0.3490\n",
      "Epoch 11/100\n",
      "72/72 [==============================] - 0s 4ms/step - loss: 0.6984 - root_mean_squared_error: 0.3547 - val_loss: 0.7055 - val_root_mean_squared_error: 0.3494\n",
      "Epoch 12/100\n",
      "72/72 [==============================] - 0s 4ms/step - loss: 0.6920 - root_mean_squared_error: 0.3504 - val_loss: 0.7054 - val_root_mean_squared_error: 0.3494\n",
      "Epoch 13/100\n",
      "72/72 [==============================] - 0s 4ms/step - loss: 0.7020 - root_mean_squared_error: 0.3570 - val_loss: 0.7050 - val_root_mean_squared_error: 0.3491\n",
      "Epoch 14/100\n",
      "72/72 [==============================] - 0s 4ms/step - loss: 0.6950 - root_mean_squared_error: 0.3525 - val_loss: 0.7056 - val_root_mean_squared_error: 0.3495\n",
      "Epoch 15/100\n",
      "72/72 [==============================] - 0s 4ms/step - loss: 0.6953 - root_mean_squared_error: 0.3525 - val_loss: 0.7053 - val_root_mean_squared_error: 0.3494\n",
      "Epoch 16/100\n",
      "72/72 [==============================] - 0s 4ms/step - loss: 0.6945 - root_mean_squared_error: 0.3521 - val_loss: 0.7055 - val_root_mean_squared_error: 0.3494\n",
      "Epoch 17/100\n",
      "72/72 [==============================] - 0s 5ms/step - loss: 0.6889 - root_mean_squared_error: 0.3482 - val_loss: 0.7057 - val_root_mean_squared_error: 0.3496\n",
      "Epoch 18/100\n",
      "72/72 [==============================] - 0s 4ms/step - loss: 0.6932 - root_mean_squared_error: 0.3511 - val_loss: 0.7064 - val_root_mean_squared_error: 0.3500\n",
      "Epoch 19/100\n",
      "72/72 [==============================] - 0s 4ms/step - loss: 0.6903 - root_mean_squared_error: 0.3492 - val_loss: 0.7070 - val_root_mean_squared_error: 0.3505\n",
      "Epoch 20/100\n",
      "72/72 [==============================] - 0s 4ms/step - loss: 0.6898 - root_mean_squared_error: 0.3488 - val_loss: 0.7081 - val_root_mean_squared_error: 0.3512\n",
      "Epoch 21/100\n",
      "72/72 [==============================] - 0s 4ms/step - loss: 0.6866 - root_mean_squared_error: 0.3466 - val_loss: 0.7095 - val_root_mean_squared_error: 0.3521\n",
      "Epoch 22/100\n",
      "72/72 [==============================] - 0s 4ms/step - loss: 0.6883 - root_mean_squared_error: 0.3478 - val_loss: 0.7095 - val_root_mean_squared_error: 0.3520\n",
      "Epoch 23/100\n",
      "72/72 [==============================] - 0s 4ms/step - loss: 0.6885 - root_mean_squared_error: 0.3478 - val_loss: 0.7080 - val_root_mean_squared_error: 0.3511\n",
      "Epoch 24/100\n",
      "72/72 [==============================] - 0s 4ms/step - loss: 0.6852 - root_mean_squared_error: 0.3456 - val_loss: 0.7076 - val_root_mean_squared_error: 0.3508\n",
      "Epoch 25/100\n",
      "72/72 [==============================] - 0s 4ms/step - loss: 0.6822 - root_mean_squared_error: 0.3435 - val_loss: 0.7074 - val_root_mean_squared_error: 0.3506\n",
      "Epoch 26/100\n",
      "72/72 [==============================] - 0s 4ms/step - loss: 0.6862 - root_mean_squared_error: 0.3463 - val_loss: 0.7076 - val_root_mean_squared_error: 0.3507\n",
      "Epoch 27/100\n",
      "72/72 [==============================] - 0s 4ms/step - loss: 0.6802 - root_mean_squared_error: 0.3421 - val_loss: 0.7072 - val_root_mean_squared_error: 0.3505\n",
      "Epoch 28/100\n",
      "72/72 [==============================] - 0s 4ms/step - loss: 0.6821 - root_mean_squared_error: 0.3434 - val_loss: 0.7074 - val_root_mean_squared_error: 0.3507\n",
      "Epoch 29/100\n",
      "72/72 [==============================] - 0s 4ms/step - loss: 0.6821 - root_mean_squared_error: 0.3434 - val_loss: 0.7073 - val_root_mean_squared_error: 0.3505\n",
      "Epoch 30/100\n",
      "72/72 [==============================] - 0s 4ms/step - loss: 0.6784 - root_mean_squared_error: 0.3408 - val_loss: 0.7074 - val_root_mean_squared_error: 0.3506\n",
      "Epoch 31/100\n",
      "72/72 [==============================] - 0s 4ms/step - loss: 0.6786 - root_mean_squared_error: 0.3410 - val_loss: 0.7078 - val_root_mean_squared_error: 0.3509\n",
      "Epoch 32/100\n",
      "72/72 [==============================] - 0s 4ms/step - loss: 0.6818 - root_mean_squared_error: 0.3432 - val_loss: 0.7076 - val_root_mean_squared_error: 0.3508\n",
      "Epoch 33/100\n",
      "72/72 [==============================] - 0s 4ms/step - loss: 0.6792 - root_mean_squared_error: 0.3414 - val_loss: 0.7071 - val_root_mean_squared_error: 0.3504\n",
      "Epoch 34/100\n",
      "72/72 [==============================] - 0s 4ms/step - loss: 0.6776 - root_mean_squared_error: 0.3402 - val_loss: 0.7063 - val_root_mean_squared_error: 0.3499\n",
      "Epoch 35/100\n",
      "72/72 [==============================] - 0s 4ms/step - loss: 0.6767 - root_mean_squared_error: 0.3395 - val_loss: 0.7061 - val_root_mean_squared_error: 0.3498\n",
      "Epoch 36/100\n",
      "72/72 [==============================] - 0s 4ms/step - loss: 0.6774 - root_mean_squared_error: 0.3400 - val_loss: 0.7061 - val_root_mean_squared_error: 0.3497\n",
      "Epoch 37/100\n",
      "72/72 [==============================] - 0s 4ms/step - loss: 0.6742 - root_mean_squared_error: 0.3378 - val_loss: 0.7062 - val_root_mean_squared_error: 0.3497\n",
      "Epoch 38/100\n",
      "72/72 [==============================] - 0s 4ms/step - loss: 0.6707 - root_mean_squared_error: 0.3352 - val_loss: 0.7061 - val_root_mean_squared_error: 0.3497\n",
      "Epoch 39/100\n",
      "72/72 [==============================] - 0s 4ms/step - loss: 0.6752 - root_mean_squared_error: 0.3385 - val_loss: 0.7064 - val_root_mean_squared_error: 0.3499\n",
      "Epoch 40/100\n",
      "72/72 [==============================] - 0s 4ms/step - loss: 0.6727 - root_mean_squared_error: 0.3367 - val_loss: 0.7069 - val_root_mean_squared_error: 0.3502\n",
      "Epoch 41/100\n",
      "72/72 [==============================] - 0s 4ms/step - loss: 0.6718 - root_mean_squared_error: 0.3360 - val_loss: 0.7070 - val_root_mean_squared_error: 0.3502\n",
      "Epoch 42/100\n",
      "72/72 [==============================] - 0s 4ms/step - loss: 0.6716 - root_mean_squared_error: 0.3359 - val_loss: 0.7077 - val_root_mean_squared_error: 0.3507\n",
      "Epoch 43/100\n",
      "72/72 [==============================] - 0s 4ms/step - loss: 0.6705 - root_mean_squared_error: 0.3351 - val_loss: 0.7074 - val_root_mean_squared_error: 0.3505\n",
      "Epoch 44/100\n",
      "72/72 [==============================] - 0s 4ms/step - loss: 0.6699 - root_mean_squared_error: 0.3347 - val_loss: 0.7071 - val_root_mean_squared_error: 0.3503\n",
      "Epoch 45/100\n",
      "72/72 [==============================] - 0s 4ms/step - loss: 0.6707 - root_mean_squared_error: 0.3352 - val_loss: 0.7077 - val_root_mean_squared_error: 0.3507\n",
      "Epoch 46/100\n",
      "72/72 [==============================] - 0s 4ms/step - loss: 0.6691 - root_mean_squared_error: 0.3340 - val_loss: 0.7075 - val_root_mean_squared_error: 0.3506\n",
      "Epoch 47/100\n",
      "72/72 [==============================] - 0s 4ms/step - loss: 0.6674 - root_mean_squared_error: 0.3328 - val_loss: 0.7073 - val_root_mean_squared_error: 0.3504\n",
      "Epoch 48/100\n",
      "72/72 [==============================] - 0s 4ms/step - loss: 0.6687 - root_mean_squared_error: 0.3338 - val_loss: 0.7073 - val_root_mean_squared_error: 0.3505\n"
     ]
    },
    {
     "name": "stdout",
     "output_type": "stream",
     "text": [
      "Epoch 49/100\n",
      "72/72 [==============================] - 0s 4ms/step - loss: 0.6711 - root_mean_squared_error: 0.3355 - val_loss: 0.7081 - val_root_mean_squared_error: 0.3509\n",
      "Epoch 50/100\n",
      "72/72 [==============================] - 0s 4ms/step - loss: 0.6674 - root_mean_squared_error: 0.3329 - val_loss: 0.7079 - val_root_mean_squared_error: 0.3508\n",
      "Epoch 51/100\n",
      "72/72 [==============================] - 0s 4ms/step - loss: 0.6673 - root_mean_squared_error: 0.3327 - val_loss: 0.7088 - val_root_mean_squared_error: 0.3514\n",
      "Epoch 52/100\n",
      "72/72 [==============================] - 0s 4ms/step - loss: 0.6684 - root_mean_squared_error: 0.3336 - val_loss: 0.7096 - val_root_mean_squared_error: 0.3519\n",
      "Epoch 53/100\n",
      "72/72 [==============================] - 0s 4ms/step - loss: 0.6686 - root_mean_squared_error: 0.3337 - val_loss: 0.7098 - val_root_mean_squared_error: 0.3520\n",
      "Epoch 54/100\n",
      "72/72 [==============================] - 0s 4ms/step - loss: 0.6647 - root_mean_squared_error: 0.3309 - val_loss: 0.7101 - val_root_mean_squared_error: 0.3522\n",
      "Epoch 55/100\n",
      "72/72 [==============================] - 0s 4ms/step - loss: 0.6661 - root_mean_squared_error: 0.3318 - val_loss: 0.7093 - val_root_mean_squared_error: 0.3517\n",
      "Epoch 56/100\n",
      "72/72 [==============================] - 0s 4ms/step - loss: 0.6639 - root_mean_squared_error: 0.3303 - val_loss: 0.7098 - val_root_mean_squared_error: 0.3520\n",
      "Epoch 57/100\n",
      "72/72 [==============================] - 0s 5ms/step - loss: 0.6662 - root_mean_squared_error: 0.3320 - val_loss: 0.7099 - val_root_mean_squared_error: 0.3521\n",
      "Epoch 58/100\n",
      "72/72 [==============================] - 0s 4ms/step - loss: 0.6645 - root_mean_squared_error: 0.3306 - val_loss: 0.7096 - val_root_mean_squared_error: 0.3518\n",
      "Epoch 59/100\n",
      "72/72 [==============================] - 0s 4ms/step - loss: 0.6648 - root_mean_squared_error: 0.3310 - val_loss: 0.7095 - val_root_mean_squared_error: 0.3518\n",
      "Epoch 60/100\n",
      "72/72 [==============================] - 0s 4ms/step - loss: 0.6648 - root_mean_squared_error: 0.3309 - val_loss: 0.7105 - val_root_mean_squared_error: 0.3524\n",
      "Epoch 61/100\n",
      "72/72 [==============================] - 0s 4ms/step - loss: 0.6636 - root_mean_squared_error: 0.3301 - val_loss: 0.7107 - val_root_mean_squared_error: 0.3525\n",
      "Epoch 62/100\n",
      "72/72 [==============================] - 0s 4ms/step - loss: 0.6597 - root_mean_squared_error: 0.3272 - val_loss: 0.7107 - val_root_mean_squared_error: 0.3525\n",
      "Epoch 63/100\n",
      "72/72 [==============================] - 0s 4ms/step - loss: 0.6608 - root_mean_squared_error: 0.3280 - val_loss: 0.7109 - val_root_mean_squared_error: 0.3526\n",
      "Epoch 64/100\n",
      "72/72 [==============================] - 0s 4ms/step - loss: 0.6608 - root_mean_squared_error: 0.3280 - val_loss: 0.7110 - val_root_mean_squared_error: 0.3527\n",
      "Epoch 65/100\n",
      "72/72 [==============================] - 0s 4ms/step - loss: 0.6617 - root_mean_squared_error: 0.3287 - val_loss: 0.7106 - val_root_mean_squared_error: 0.3524\n",
      "Epoch 66/100\n",
      "72/72 [==============================] - 0s 4ms/step - loss: 0.6647 - root_mean_squared_error: 0.3309 - val_loss: 0.7111 - val_root_mean_squared_error: 0.3528\n",
      "Epoch 67/100\n",
      "72/72 [==============================] - 0s 4ms/step - loss: 0.6605 - root_mean_squared_error: 0.3278 - val_loss: 0.7116 - val_root_mean_squared_error: 0.3531\n",
      "Epoch 68/100\n",
      "72/72 [==============================] - 0s 4ms/step - loss: 0.6631 - root_mean_squared_error: 0.3297 - val_loss: 0.7111 - val_root_mean_squared_error: 0.3528\n",
      "Epoch 69/100\n",
      "72/72 [==============================] - 0s 4ms/step - loss: 0.6575 - root_mean_squared_error: 0.3256 - val_loss: 0.7115 - val_root_mean_squared_error: 0.3530\n",
      "Epoch 70/100\n",
      "72/72 [==============================] - 0s 4ms/step - loss: 0.6602 - root_mean_squared_error: 0.3275 - val_loss: 0.7114 - val_root_mean_squared_error: 0.3530\n",
      "Epoch 71/100\n",
      "72/72 [==============================] - 0s 4ms/step - loss: 0.6599 - root_mean_squared_error: 0.3273 - val_loss: 0.7111 - val_root_mean_squared_error: 0.3528\n",
      "Epoch 72/100\n",
      "72/72 [==============================] - 0s 4ms/step - loss: 0.6608 - root_mean_squared_error: 0.3280 - val_loss: 0.7121 - val_root_mean_squared_error: 0.3534\n",
      "Epoch 73/100\n",
      "72/72 [==============================] - 0s 4ms/step - loss: 0.6606 - root_mean_squared_error: 0.3278 - val_loss: 0.7118 - val_root_mean_squared_error: 0.3532\n",
      "Epoch 74/100\n",
      "72/72 [==============================] - 0s 4ms/step - loss: 0.6585 - root_mean_squared_error: 0.3264 - val_loss: 0.7121 - val_root_mean_squared_error: 0.3533\n",
      "Epoch 75/100\n",
      "72/72 [==============================] - 0s 4ms/step - loss: 0.6595 - root_mean_squared_error: 0.3270 - val_loss: 0.7124 - val_root_mean_squared_error: 0.3535\n",
      "Epoch 76/100\n",
      "72/72 [==============================] - 0s 4ms/step - loss: 0.6574 - root_mean_squared_error: 0.3255 - val_loss: 0.7127 - val_root_mean_squared_error: 0.3536\n",
      "Epoch 77/100\n",
      "72/72 [==============================] - 0s 5ms/step - loss: 0.6599 - root_mean_squared_error: 0.3273 - val_loss: 0.7130 - val_root_mean_squared_error: 0.3538\n",
      "Epoch 78/100\n",
      "72/72 [==============================] - 0s 4ms/step - loss: 0.6563 - root_mean_squared_error: 0.3248 - val_loss: 0.7137 - val_root_mean_squared_error: 0.3542\n",
      "Epoch 79/100\n",
      "72/72 [==============================] - 0s 4ms/step - loss: 0.6600 - root_mean_squared_error: 0.3274 - val_loss: 0.7134 - val_root_mean_squared_error: 0.3541\n",
      "Epoch 80/100\n",
      "72/72 [==============================] - 0s 4ms/step - loss: 0.6575 - root_mean_squared_error: 0.3256 - val_loss: 0.7130 - val_root_mean_squared_error: 0.3538\n",
      "Epoch 81/100\n",
      "72/72 [==============================] - 0s 4ms/step - loss: 0.6568 - root_mean_squared_error: 0.3250 - val_loss: 0.7133 - val_root_mean_squared_error: 0.3540\n",
      "Epoch 82/100\n",
      "72/72 [==============================] - 0s 4ms/step - loss: 0.6575 - root_mean_squared_error: 0.3257 - val_loss: 0.7123 - val_root_mean_squared_error: 0.3534\n",
      "Epoch 83/100\n",
      "72/72 [==============================] - 0s 4ms/step - loss: 0.6583 - root_mean_squared_error: 0.3261 - val_loss: 0.7119 - val_root_mean_squared_error: 0.3531\n",
      "Epoch 84/100\n",
      "72/72 [==============================] - 0s 4ms/step - loss: 0.6572 - root_mean_squared_error: 0.3253 - val_loss: 0.7121 - val_root_mean_squared_error: 0.3533\n",
      "Epoch 85/100\n",
      "72/72 [==============================] - 0s 5ms/step - loss: 0.6575 - root_mean_squared_error: 0.3255 - val_loss: 0.7123 - val_root_mean_squared_error: 0.3534\n",
      "Epoch 86/100\n",
      "72/72 [==============================] - 0s 4ms/step - loss: 0.6561 - root_mean_squared_error: 0.3245 - val_loss: 0.7124 - val_root_mean_squared_error: 0.3535\n",
      "Epoch 87/100\n",
      "72/72 [==============================] - 0s 4ms/step - loss: 0.6534 - root_mean_squared_error: 0.3227 - val_loss: 0.7123 - val_root_mean_squared_error: 0.3534\n",
      "Epoch 88/100\n",
      "72/72 [==============================] - 0s 4ms/step - loss: 0.6556 - root_mean_squared_error: 0.3242 - val_loss: 0.7126 - val_root_mean_squared_error: 0.3536\n",
      "Epoch 89/100\n",
      "72/72 [==============================] - 0s 5ms/step - loss: 0.6551 - root_mean_squared_error: 0.3238 - val_loss: 0.7131 - val_root_mean_squared_error: 0.3539\n",
      "Epoch 90/100\n",
      "72/72 [==============================] - 0s 4ms/step - loss: 0.6569 - root_mean_squared_error: 0.3251 - val_loss: 0.7121 - val_root_mean_squared_error: 0.3533\n",
      "Epoch 91/100\n",
      "72/72 [==============================] - 0s 4ms/step - loss: 0.6549 - root_mean_squared_error: 0.3237 - val_loss: 0.7121 - val_root_mean_squared_error: 0.3533\n",
      "Epoch 92/100\n",
      "72/72 [==============================] - 0s 4ms/step - loss: 0.6560 - root_mean_squared_error: 0.3245 - val_loss: 0.7116 - val_root_mean_squared_error: 0.3529\n",
      "Epoch 93/100\n",
      "72/72 [==============================] - 0s 4ms/step - loss: 0.6538 - root_mean_squared_error: 0.3229 - val_loss: 0.7115 - val_root_mean_squared_error: 0.3529\n",
      "Epoch 94/100\n",
      "72/72 [==============================] - 0s 4ms/step - loss: 0.6537 - root_mean_squared_error: 0.3229 - val_loss: 0.7113 - val_root_mean_squared_error: 0.3528\n",
      "Epoch 95/100\n",
      "72/72 [==============================] - 0s 4ms/step - loss: 0.6540 - root_mean_squared_error: 0.3230 - val_loss: 0.7111 - val_root_mean_squared_error: 0.3526\n",
      "Epoch 96/100\n"
     ]
    },
    {
     "name": "stdout",
     "output_type": "stream",
     "text": [
      "72/72 [==============================] - 0s 3ms/step - loss: 0.6534 - root_mean_squared_error: 0.3226 - val_loss: 0.7112 - val_root_mean_squared_error: 0.3526\n",
      "Epoch 97/100\n",
      "72/72 [==============================] - 0s 4ms/step - loss: 0.6532 - root_mean_squared_error: 0.3224 - val_loss: 0.7105 - val_root_mean_squared_error: 0.3522\n",
      "Epoch 98/100\n",
      "72/72 [==============================] - 0s 4ms/step - loss: 0.6529 - root_mean_squared_error: 0.3223 - val_loss: 0.7104 - val_root_mean_squared_error: 0.3521\n",
      "Epoch 99/100\n",
      "72/72 [==============================] - 0s 4ms/step - loss: 0.6527 - root_mean_squared_error: 0.3222 - val_loss: 0.7099 - val_root_mean_squared_error: 0.3518\n",
      "Epoch 100/100\n",
      "72/72 [==============================] - 0s 4ms/step - loss: 0.6553 - root_mean_squared_error: 0.3240 - val_loss: 0.7109 - val_root_mean_squared_error: 0.3524\n"
     ]
    }
   ],
   "source": [
    "# Memulai training\n",
    " \n",
    "history = model.fit(\n",
    "    x = x_train,\n",
    "    y = y_train,\n",
    "    epochs = 100,\n",
    "    validation_data = (x_val, y_val),\n",
    "    callbacks = [myCallback()]\n",
    ")"
   ]
  },
  {
   "cell_type": "code",
   "execution_count": 29,
   "id": "e594072b",
   "metadata": {},
   "outputs": [
    {
     "name": "stdout",
     "output_type": "stream",
     "text": [
      "18/18 [==============================] - 0s 2ms/step - loss: 0.7109 - root_mean_squared_error: 0.3524\n"
     ]
    },
    {
     "data": {
      "text/plain": [
       "[0.7108805179595947, 0.3523852825164795]"
      ]
     },
     "execution_count": 29,
     "metadata": {},
     "output_type": "execute_result"
    }
   ],
   "source": [
    "model.evaluate(x=x_val, y=y_val)"
   ]
  },
  {
   "cell_type": "code",
   "execution_count": 30,
   "id": "64c24c4f",
   "metadata": {},
   "outputs": [
    {
     "name": "stdout",
     "output_type": "stream",
     "text": [
      "INFO:tensorflow:Assets written to: /tmp/tmpo_ejf4ye/assets\n"
     ]
    },
    {
     "name": "stderr",
     "output_type": "stream",
     "text": [
      "2022-06-01 21:15:14.466829: W tensorflow/compiler/mlir/lite/python/tf_tfl_flatbuffer_helpers.cc:362] Ignored output_format.\n",
      "2022-06-01 21:15:14.466881: W tensorflow/compiler/mlir/lite/python/tf_tfl_flatbuffer_helpers.cc:365] Ignored drop_control_dependency.\n",
      "2022-06-01 21:15:14.467740: I tensorflow/cc/saved_model/reader.cc:43] Reading SavedModel from: /tmp/tmpo_ejf4ye\n",
      "2022-06-01 21:15:14.469783: I tensorflow/cc/saved_model/reader.cc:81] Reading meta graph with tags { serve }\n",
      "2022-06-01 21:15:14.469823: I tensorflow/cc/saved_model/reader.cc:122] Reading SavedModel debug info (if present) from: /tmp/tmpo_ejf4ye\n",
      "2022-06-01 21:15:14.477274: I tensorflow/compiler/mlir/mlir_graph_optimization_pass.cc:354] MLIR V1 optimization pass is not enabled\n",
      "2022-06-01 21:15:14.478528: I tensorflow/cc/saved_model/loader.cc:228] Restoring SavedModel bundle.\n",
      "2022-06-01 21:15:14.542961: I tensorflow/cc/saved_model/loader.cc:212] Running initialization op on SavedModel bundle at path: /tmp/tmpo_ejf4ye\n",
      "2022-06-01 21:15:14.573502: I tensorflow/cc/saved_model/loader.cc:301] SavedModel load for tags { serve }; Status: success: OK. Took 105758 microseconds.\n",
      "2022-06-01 21:15:14.628213: I tensorflow/compiler/mlir/tensorflow/utils/dump_mlir_util.cc:263] disabling MLIR crash reproducer, set env var `MLIR_CRASH_REPRODUCER_DIRECTORY` to enable.\n"
     ]
    }
   ],
   "source": [
    "converter = tf.lite.TFLiteConverter.from_keras_model(model)\n",
    "tflite_model = converter.convert()\n",
    "\n",
    "# Save the model.\n",
    "with open('model.tflite', 'wb') as f:\n",
    "  f.write(tflite_model)"
   ]
  },
  {
   "cell_type": "code",
   "execution_count": 31,
   "id": "76765814",
   "metadata": {},
   "outputs": [
    {
     "data": {
      "image/png": "[encoded data removed]",
      "text/plain": [
       "<Figure size 432x288 with 1 Axes>"
      ]
     },
     "metadata": {},
     "output_type": "display_data"
    }
   ],
   "source": [
    "# Menampilkan plot loss dan validation\n",
    "\n",
    "plt.plot(history.history['root_mean_squared_error'])\n",
    "plt.plot(history.history['val_root_mean_squared_error'])\n",
    "plt.title('model_metrics')\n",
    "plt.ylabel('root_mean_squared_error')\n",
    "plt.xlabel('epoch')\n",
    "plt.ylim(ymin=0, ymax=0.4)\n",
    "plt.legend(['train', 'test'], loc='center left')\n",
    "plt.show()"
   ]
  },
  {
   "cell_type": "markdown",
   "id": "20f05ac8",
   "metadata": {},
   "source": [
    "# MEMBUAT TOP 5 REKOMENDASI"
   ]
  },
  {
   "cell_type": "code",
   "execution_count": 32,
   "id": "1d490ce0",
   "metadata": {},
   "outputs": [],
   "source": [
    "# Menyiapkan dataframe\n",
    "place_df = place[['Place_Id','Place_Name','Category','Rating','Price']]\n",
    "place_df.columns = ['id','place_name','category','rating','price']\n",
    "df = rating.copy()"
   ]
  },
  {
   "cell_type": "code",
   "execution_count": 33,
   "id": "26da7702",
   "metadata": {},
   "outputs": [],
   "source": [
    "# Mengambil sample user\n",
    "user_id = df.User_Id.sample(1).iloc[0]\n",
    "place_visited_by_user = df[df.User_Id == user_id]"
   ]
  },
  {
   "cell_type": "code",
   "execution_count": 34,
   "id": "46ec8731",
   "metadata": {},
   "outputs": [],
   "source": [
    "# Membuat data lokasi yang belum dikunjungi user\n",
    "place_not_visited = place_df[~place_df['id'].isin(place_visited_by_user.Place_Id.values)]['id'] \n",
    "place_not_visited = list(\n",
    "    set(place_not_visited)\n",
    "    .intersection(set(place_to_place_encoded.keys()))\n",
    ")\n",
    " \n",
    "place_not_visited = [[place_to_place_encoded.get(x)] for x in place_not_visited]\n",
    "user_encoder = user_to_user_encoded.get(user_id)\n",
    "user_place_array = np.hstack(\n",
    "    ([[user_encoder]] * len(place_not_visited), place_not_visited)\n",
    ")"
   ]
  },
  {
   "cell_type": "code",
   "execution_count": 35,
   "id": "9c776472",
   "metadata": {},
   "outputs": [
    {
     "name": "stdout",
     "output_type": "stream",
     "text": [
      "4/4 [==============================] - 0s 3ms/step\n",
      "\n",
      "------------------------------------------------------------\n",
      "Top 5 place recommendation\n",
      "------------------------------------------------------------\n",
      "1 . Sumur Gumuling \n",
      "     Taman Hiburan , Harga Tiket Masuk  7000 , Rating Wisata  4.5 \n",
      "\n",
      "2 . Monumen Yogya Kembali \n",
      "     Budaya , Harga Tiket Masuk  15000 , Rating Wisata  4.5 \n",
      "\n",
      "3 . The World Landmarks - Merapi Park Yogyakarta \n",
      "     Taman Hiburan , Harga Tiket Masuk  22000 , Rating Wisata  4.2 \n",
      "\n",
      "4 . Pantai Baron \n",
      "     Bahari , Harga Tiket Masuk  10000 , Rating Wisata  4.4 \n",
      "\n",
      "5 . Pintoe Langit Dahromo \n",
      "     Cagar Alam , Harga Tiket Masuk  2500 , Rating Wisata  4.4 \n",
      "\n",
      "=============================================\n"
     ]
    }
   ],
   "source": [
    "# Mengambil top 5 recommendation\n",
    "ratings = model.predict(user_place_array).flatten()\n",
    "top_ratings_indices = ratings.argsort()[-5:][::-1]\n",
    "recommended_place_ids = [\n",
    "    place_encoded_to_place.get(place_not_visited[x][0]) for x in top_ratings_indices\n",
    "]\n",
    " \n",
    "\n",
    "print('')\n",
    "print('----' * 15)\n",
    "print('Top 5 place recommendation')\n",
    "print('----' * 15)\n",
    " \n",
    "recommended_place = place_df[place_df['id'].isin(recommended_place_ids)]\n",
    "for row, i in zip(recommended_place.itertuples(), range(1,8)):\n",
    "    print(i,'.', row.place_name, '\\n    ', row.category, ',', 'Harga Tiket Masuk ', row.price, ',', 'Rating Wisata ', row.rating,'\\n')\n",
    "\n",
    "print('==='*15)"
   ]
  },
  {
   "cell_type": "code",
   "execution_count": 36,
   "id": "c6bffe46",
   "metadata": {},
   "outputs": [],
   "source": [
    "recommended = recommended_place.to_csv('rekomendasi.csv', index=False)"
   ]
  },
  {
   "cell_type": "code",
   "execution_count": 37,
   "id": "d3d76092",
   "metadata": {},
   "outputs": [
    {
     "data": {
      "text/html": [
       "<div>\n",
       "<style scoped>\n",
       "    .dataframe tbody tr th:only-of-type {\n",
       "        vertical-align: middle;\n",
       "    }\n",
       "\n",
       "    .dataframe tbody tr th {\n",
       "        vertical-align: top;\n",
       "    }\n",
       "\n",
       "    .dataframe thead th {\n",
       "        text-align: right;\n",
       "    }\n",
       "</style>\n",
       "<table border=\"1\" class=\"dataframe\">\n",
       "  <thead>\n",
       "    <tr style=\"text-align: right;\">\n",
       "      <th></th>\n",
       "      <th>id</th>\n",
       "      <th>place_name</th>\n",
       "      <th>category</th>\n",
       "      <th>rating</th>\n",
       "      <th>price</th>\n",
       "    </tr>\n",
       "  </thead>\n",
       "  <tbody>\n",
       "    <tr>\n",
       "      <th>0</th>\n",
       "      <td>94</td>\n",
       "      <td>Sumur Gumuling</td>\n",
       "      <td>Taman Hiburan</td>\n",
       "      <td>4.5</td>\n",
       "      <td>7000</td>\n",
       "    </tr>\n",
       "    <tr>\n",
       "      <th>1</th>\n",
       "      <td>97</td>\n",
       "      <td>Monumen Yogya Kembali</td>\n",
       "      <td>Budaya</td>\n",
       "      <td>4.5</td>\n",
       "      <td>15000</td>\n",
       "    </tr>\n",
       "    <tr>\n",
       "      <th>2</th>\n",
       "      <td>117</td>\n",
       "      <td>The World Landmarks - Merapi Park Yogyakarta</td>\n",
       "      <td>Taman Hiburan</td>\n",
       "      <td>4.2</td>\n",
       "      <td>22000</td>\n",
       "    </tr>\n",
       "    <tr>\n",
       "      <th>3</th>\n",
       "      <td>157</td>\n",
       "      <td>Pantai Baron</td>\n",
       "      <td>Bahari</td>\n",
       "      <td>4.4</td>\n",
       "      <td>10000</td>\n",
       "    </tr>\n",
       "    <tr>\n",
       "      <th>4</th>\n",
       "      <td>164</td>\n",
       "      <td>Pintoe Langit Dahromo</td>\n",
       "      <td>Cagar Alam</td>\n",
       "      <td>4.4</td>\n",
       "      <td>2500</td>\n",
       "    </tr>\n",
       "  </tbody>\n",
       "</table>\n",
       "</div>"
      ],
      "text/plain": [
       "    id                                    place_name       category  rating  \\\n",
       "0   94                                Sumur Gumuling  Taman Hiburan     4.5   \n",
       "1   97                         Monumen Yogya Kembali         Budaya     4.5   \n",
       "2  117  The World Landmarks - Merapi Park Yogyakarta  Taman Hiburan     4.2   \n",
       "3  157                                  Pantai Baron         Bahari     4.4   \n",
       "4  164                         Pintoe Langit Dahromo     Cagar Alam     4.4   \n",
       "\n",
       "   price  \n",
       "0   7000  \n",
       "1  15000  \n",
       "2  22000  \n",
       "3  10000  \n",
       "4   2500  "
      ]
     },
     "execution_count": 37,
     "metadata": {},
     "output_type": "execute_result"
    }
   ],
   "source": [
    "pd.read_csv('rekomendasi.csv')"
   ]
  },
  {
   "cell_type": "code",
   "execution_count": null,
   "id": "73e885bc",
   "metadata": {},
   "outputs": [],
   "source": []
  },
  {
   "cell_type": "code",
   "execution_count": null,
   "id": "8ee416b2",
   "metadata": {},
   "outputs": [],
   "source": []
  }
 ],
 "metadata": {
  "kernelspec": {
   "display_name": "Python 3 (ipykernel)",
   "language": "python",
   "name": "python3"
  },
  "language_info": {
   "codemirror_mode": {
    "name": "ipython",
    "version": 3
   },
   "file_extension": ".py",
   "mimetype": "text/x-python",
   "name": "python",
   "nbconvert_exporter": "python",
   "pygments_lexer": "ipython3",
   "version": "3.8.10"
  }
 },
 "nbformat": 4,
 "nbformat_minor": 5
}
