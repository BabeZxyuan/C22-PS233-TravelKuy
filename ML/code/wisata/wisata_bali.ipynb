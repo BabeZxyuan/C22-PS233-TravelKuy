{
 "cells": [
  {
   "cell_type": "code",
   "execution_count": 1,
   "id": "78b6bc53",
   "metadata": {},
   "outputs": [
    {
     "name": "stderr",
     "output_type": "stream",
     "text": [
      "2022-06-09 10:46:36.255835: W tensorflow/stream_executor/platform/default/dso_loader.cc:64] Could not load dynamic library 'libcudart.so.11.0'; dlerror: libcudart.so.11.0: cannot open shared object file: No such file or directory\n",
      "2022-06-09 10:46:36.255874: I tensorflow/stream_executor/cuda/cudart_stub.cc:29] Ignore above cudart dlerror if you do not have a GPU set up on your machine.\n"
     ]
    }
   ],
   "source": [
    "import numpy as np\n",
    "import pandas as pd \n",
    "\n",
    "# Untuk visualisasi data\n",
    "import seaborn as sns\n",
    "import matplotlib.pyplot as plt\n",
    "\n",
    "%matplotlib inline\n",
    "sns.set_palette('Set1')\n",
    "sns.set()\n",
    "\n",
    "# Untuk pemodelan\n",
    "import tensorflow as tf\n",
    "from tensorflow import keras\n",
    "from tensorflow.keras import layers\n",
    "\n",
    "# Untuk menghilangkan warnings saat plotting seaborn\n",
    "import warnings\n",
    "warnings.filterwarnings('ignore')"
   ]
  },
  {
   "cell_type": "code",
   "execution_count": 8,
   "id": "8acc07f3",
   "metadata": {},
   "outputs": [],
   "source": [
    "# package = pd.read_csv('../../data/wisata/package_tourism.csv')\n",
    "rating = pd.read_csv('../../data/rating.csv')\n",
    "place = pd.read_csv('../../data/wisata.csv')\n",
    "user = pd.read_csv('../../data/user.csv')"
   ]
  },
  {
   "cell_type": "code",
   "execution_count": 9,
   "id": "5534c700",
   "metadata": {},
   "outputs": [
    {
     "data": {
      "text/html": [
       "<div>\n",
       "<style scoped>\n",
       "    .dataframe tbody tr th:only-of-type {\n",
       "        vertical-align: middle;\n",
       "    }\n",
       "\n",
       "    .dataframe tbody tr th {\n",
       "        vertical-align: top;\n",
       "    }\n",
       "\n",
       "    .dataframe thead th {\n",
       "        text-align: right;\n",
       "    }\n",
       "</style>\n",
       "<table border=\"1\" class=\"dataframe\">\n",
       "  <thead>\n",
       "    <tr style=\"text-align: right;\">\n",
       "      <th></th>\n",
       "      <th>Place_Id</th>\n",
       "      <th>Place_Name</th>\n",
       "      <th>Description</th>\n",
       "      <th>Category</th>\n",
       "      <th>City</th>\n",
       "      <th>Rating</th>\n",
       "      <th>Coordinate</th>\n",
       "      <th>Lat</th>\n",
       "      <th>Long</th>\n",
       "      <th>Price</th>\n",
       "      <th>Image</th>\n",
       "    </tr>\n",
       "  </thead>\n",
       "  <tbody>\n",
       "    <tr>\n",
       "      <th>0</th>\n",
       "      <td>1</td>\n",
       "      <td>The Keranjang Bali</td>\n",
       "      <td>Disini Anda akan dapat menemukan banyak spot y...</td>\n",
       "      <td>Rekreasi</td>\n",
       "      <td>Bali</td>\n",
       "      <td>4.0</td>\n",
       "      <td>{'lat' : -8731451, 'lng': 115178175}</td>\n",
       "      <td>-873145</td>\n",
       "      <td>115178175</td>\n",
       "      <td>150000</td>\n",
       "      <td>https://arsitagx-master.s3.ap-southeast-1.amaz...</td>\n",
       "    </tr>\n",
       "    <tr>\n",
       "      <th>1</th>\n",
       "      <td>2</td>\n",
       "      <td>Bukit Campuhan</td>\n",
       "      <td>Perbukitan yang hijau dipenuhi dengan pepohona...</td>\n",
       "      <td>Cagar Alam</td>\n",
       "      <td>Bali</td>\n",
       "      <td>NaN</td>\n",
       "      <td>{'lat' :-873145, 'lng: 11525503}</td>\n",
       "      <td>-849933</td>\n",
       "      <td>11525503</td>\n",
       "      <td>0</td>\n",
       "      <td>https://3.bp.blogspot.com/-BJETbctdU3k/VcF9eXe...</td>\n",
       "    </tr>\n",
       "    <tr>\n",
       "      <th>2</th>\n",
       "      <td>3</td>\n",
       "      <td>Pantai Pandawa</td>\n",
       "      <td>Pantai Pandawa yang berpasir putih ini cukup p...</td>\n",
       "      <td>Bahari</td>\n",
       "      <td>Bali</td>\n",
       "      <td>4.6</td>\n",
       "      <td>{'lat' : -884527, 'lng': 11518707}</td>\n",
       "      <td>-884527</td>\n",
       "      <td>11518707</td>\n",
       "      <td>8000</td>\n",
       "      <td>https://arifsetiawan.com/wp-content/uploads/20...</td>\n",
       "    </tr>\n",
       "    <tr>\n",
       "      <th>3</th>\n",
       "      <td>4</td>\n",
       "      <td>Waterbom Bali</td>\n",
       "      <td>Wisata taman air di Pulau Bali ini sudah 3 tah...</td>\n",
       "      <td>Bahari</td>\n",
       "      <td>Bali</td>\n",
       "      <td>4.7</td>\n",
       "      <td>{'lat' : -872857, 'lng' : 11516938}</td>\n",
       "      <td>-872857</td>\n",
       "      <td>11516938</td>\n",
       "      <td>220000</td>\n",
       "      <td>https://www.whitewaterwest.com/wp-content/uplo...</td>\n",
       "    </tr>\n",
       "    <tr>\n",
       "      <th>4</th>\n",
       "      <td>5</td>\n",
       "      <td>Garuda Wisnu Kencana</td>\n",
       "      <td>Garuda Wisnu Kencana atau GWK merupakan salah ...</td>\n",
       "      <td>Sejarah</td>\n",
       "      <td>Bali</td>\n",
       "      <td>4.5</td>\n",
       "      <td>{'lat' : -881041, 'lng' : 11516760}</td>\n",
       "      <td>-881041</td>\n",
       "      <td>11516760</td>\n",
       "      <td>95000</td>\n",
       "      <td>https://img.jakpost.net/c/2018/11/28/2018_11_2...</td>\n",
       "    </tr>\n",
       "  </tbody>\n",
       "</table>\n",
       "</div>"
      ],
      "text/plain": [
       "   Place_Id            Place_Name  \\\n",
       "0         1    The Keranjang Bali   \n",
       "1         2        Bukit Campuhan   \n",
       "2         3        Pantai Pandawa   \n",
       "3         4         Waterbom Bali   \n",
       "4         5  Garuda Wisnu Kencana   \n",
       "\n",
       "                                         Description    Category  City  \\\n",
       "0  Disini Anda akan dapat menemukan banyak spot y...    Rekreasi  Bali   \n",
       "1  Perbukitan yang hijau dipenuhi dengan pepohona...  Cagar Alam  Bali   \n",
       "2  Pantai Pandawa yang berpasir putih ini cukup p...      Bahari  Bali   \n",
       "3  Wisata taman air di Pulau Bali ini sudah 3 tah...      Bahari  Bali   \n",
       "4  Garuda Wisnu Kencana atau GWK merupakan salah ...     Sejarah  Bali   \n",
       "\n",
       "   Rating                            Coordinate      Lat       Long   Price  \\\n",
       "0     4.0  {'lat' : -8731451, 'lng': 115178175}  -873145  115178175  150000   \n",
       "1     NaN     {'lat' :-873145, 'lng: 11525503}   -849933   11525503       0   \n",
       "2     4.6    {'lat' : -884527, 'lng': 11518707}  -884527   11518707    8000   \n",
       "3     4.7   {'lat' : -872857, 'lng' : 11516938}  -872857   11516938  220000   \n",
       "4     4.5   {'lat' : -881041, 'lng' : 11516760}  -881041   11516760   95000   \n",
       "\n",
       "                                               Image  \n",
       "0  https://arsitagx-master.s3.ap-southeast-1.amaz...  \n",
       "1  https://3.bp.blogspot.com/-BJETbctdU3k/VcF9eXe...  \n",
       "2  https://arifsetiawan.com/wp-content/uploads/20...  \n",
       "3  https://www.whitewaterwest.com/wp-content/uplo...  \n",
       "4  https://img.jakpost.net/c/2018/11/28/2018_11_2...  "
      ]
     },
     "execution_count": 9,
     "metadata": {},
     "output_type": "execute_result"
    }
   ],
   "source": [
    "# Melihat gambaran data place\n",
    "\n",
    "place.head()"
   ]
  },
  {
   "cell_type": "code",
   "execution_count": 10,
   "id": "46880410",
   "metadata": {},
   "outputs": [
    {
     "data": {
      "text/html": [
       "<div>\n",
       "<style scoped>\n",
       "    .dataframe tbody tr th:only-of-type {\n",
       "        vertical-align: middle;\n",
       "    }\n",
       "\n",
       "    .dataframe tbody tr th {\n",
       "        vertical-align: top;\n",
       "    }\n",
       "\n",
       "    .dataframe thead th {\n",
       "        text-align: right;\n",
       "    }\n",
       "</style>\n",
       "<table border=\"1\" class=\"dataframe\">\n",
       "  <thead>\n",
       "    <tr style=\"text-align: right;\">\n",
       "      <th></th>\n",
       "      <th>Place_Id</th>\n",
       "      <th>Place_Name</th>\n",
       "      <th>Description</th>\n",
       "      <th>Category</th>\n",
       "      <th>City</th>\n",
       "      <th>Rating</th>\n",
       "      <th>Coordinate</th>\n",
       "      <th>Lat</th>\n",
       "      <th>Long</th>\n",
       "      <th>Price</th>\n",
       "      <th>Image</th>\n",
       "    </tr>\n",
       "  </thead>\n",
       "  <tbody>\n",
       "    <tr>\n",
       "      <th>0</th>\n",
       "      <td>1</td>\n",
       "      <td>The Keranjang Bali</td>\n",
       "      <td>Disini Anda akan dapat menemukan banyak spot y...</td>\n",
       "      <td>Rekreasi</td>\n",
       "      <td>Bali</td>\n",
       "      <td>4.0</td>\n",
       "      <td>{'lat' : -8731451, 'lng': 115178175}</td>\n",
       "      <td>-873145</td>\n",
       "      <td>115178175</td>\n",
       "      <td>150000</td>\n",
       "      <td>https://arsitagx-master.s3.ap-southeast-1.amaz...</td>\n",
       "    </tr>\n",
       "    <tr>\n",
       "      <th>1</th>\n",
       "      <td>2</td>\n",
       "      <td>Bukit Campuhan</td>\n",
       "      <td>Perbukitan yang hijau dipenuhi dengan pepohona...</td>\n",
       "      <td>Cagar Alam</td>\n",
       "      <td>Bali</td>\n",
       "      <td>NaN</td>\n",
       "      <td>{'lat' :-873145, 'lng: 11525503}</td>\n",
       "      <td>-849933</td>\n",
       "      <td>11525503</td>\n",
       "      <td>0</td>\n",
       "      <td>https://3.bp.blogspot.com/-BJETbctdU3k/VcF9eXe...</td>\n",
       "    </tr>\n",
       "    <tr>\n",
       "      <th>2</th>\n",
       "      <td>3</td>\n",
       "      <td>Pantai Pandawa</td>\n",
       "      <td>Pantai Pandawa yang berpasir putih ini cukup p...</td>\n",
       "      <td>Bahari</td>\n",
       "      <td>Bali</td>\n",
       "      <td>4.6</td>\n",
       "      <td>{'lat' : -884527, 'lng': 11518707}</td>\n",
       "      <td>-884527</td>\n",
       "      <td>11518707</td>\n",
       "      <td>8000</td>\n",
       "      <td>https://arifsetiawan.com/wp-content/uploads/20...</td>\n",
       "    </tr>\n",
       "    <tr>\n",
       "      <th>3</th>\n",
       "      <td>4</td>\n",
       "      <td>Waterbom Bali</td>\n",
       "      <td>Wisata taman air di Pulau Bali ini sudah 3 tah...</td>\n",
       "      <td>Bahari</td>\n",
       "      <td>Bali</td>\n",
       "      <td>4.7</td>\n",
       "      <td>{'lat' : -872857, 'lng' : 11516938}</td>\n",
       "      <td>-872857</td>\n",
       "      <td>11516938</td>\n",
       "      <td>220000</td>\n",
       "      <td>https://www.whitewaterwest.com/wp-content/uplo...</td>\n",
       "    </tr>\n",
       "    <tr>\n",
       "      <th>4</th>\n",
       "      <td>5</td>\n",
       "      <td>Garuda Wisnu Kencana</td>\n",
       "      <td>Garuda Wisnu Kencana atau GWK merupakan salah ...</td>\n",
       "      <td>Sejarah</td>\n",
       "      <td>Bali</td>\n",
       "      <td>4.5</td>\n",
       "      <td>{'lat' : -881041, 'lng' : 11516760}</td>\n",
       "      <td>-881041</td>\n",
       "      <td>11516760</td>\n",
       "      <td>95000</td>\n",
       "      <td>https://img.jakpost.net/c/2018/11/28/2018_11_2...</td>\n",
       "    </tr>\n",
       "  </tbody>\n",
       "</table>\n",
       "</div>"
      ],
      "text/plain": [
       "   Place_Id            Place_Name  \\\n",
       "0         1    The Keranjang Bali   \n",
       "1         2        Bukit Campuhan   \n",
       "2         3        Pantai Pandawa   \n",
       "3         4         Waterbom Bali   \n",
       "4         5  Garuda Wisnu Kencana   \n",
       "\n",
       "                                         Description    Category  City  \\\n",
       "0  Disini Anda akan dapat menemukan banyak spot y...    Rekreasi  Bali   \n",
       "1  Perbukitan yang hijau dipenuhi dengan pepohona...  Cagar Alam  Bali   \n",
       "2  Pantai Pandawa yang berpasir putih ini cukup p...      Bahari  Bali   \n",
       "3  Wisata taman air di Pulau Bali ini sudah 3 tah...      Bahari  Bali   \n",
       "4  Garuda Wisnu Kencana atau GWK merupakan salah ...     Sejarah  Bali   \n",
       "\n",
       "   Rating                            Coordinate      Lat       Long   Price  \\\n",
       "0     4.0  {'lat' : -8731451, 'lng': 115178175}  -873145  115178175  150000   \n",
       "1     NaN     {'lat' :-873145, 'lng: 11525503}   -849933   11525503       0   \n",
       "2     4.6    {'lat' : -884527, 'lng': 11518707}  -884527   11518707    8000   \n",
       "3     4.7   {'lat' : -872857, 'lng' : 11516938}  -872857   11516938  220000   \n",
       "4     4.5   {'lat' : -881041, 'lng' : 11516760}  -881041   11516760   95000   \n",
       "\n",
       "                                               Image  \n",
       "0  https://arsitagx-master.s3.ap-southeast-1.amaz...  \n",
       "1  https://3.bp.blogspot.com/-BJETbctdU3k/VcF9eXe...  \n",
       "2  https://arifsetiawan.com/wp-content/uploads/20...  \n",
       "3  https://www.whitewaterwest.com/wp-content/uplo...  \n",
       "4  https://img.jakpost.net/c/2018/11/28/2018_11_2...  "
      ]
     },
     "execution_count": 10,
     "metadata": {},
     "output_type": "execute_result"
    }
   ],
   "source": [
    "# Merubah data agar hanya dari Kota Bandung\n",
    "\n",
    "place = place[place['City']=='Bali']\n",
    "place.head()\n"
   ]
  },
  {
   "cell_type": "code",
   "execution_count": 11,
   "id": "26254753",
   "metadata": {},
   "outputs": [
    {
     "data": {
      "text/html": [
       "<div>\n",
       "<style scoped>\n",
       "    .dataframe tbody tr th:only-of-type {\n",
       "        vertical-align: middle;\n",
       "    }\n",
       "\n",
       "    .dataframe tbody tr th {\n",
       "        vertical-align: top;\n",
       "    }\n",
       "\n",
       "    .dataframe thead th {\n",
       "        text-align: right;\n",
       "    }\n",
       "</style>\n",
       "<table border=\"1\" class=\"dataframe\">\n",
       "  <thead>\n",
       "    <tr style=\"text-align: right;\">\n",
       "      <th></th>\n",
       "      <th>User_Id</th>\n",
       "      <th>Place_Id</th>\n",
       "      <th>Place_Ratings</th>\n",
       "    </tr>\n",
       "  </thead>\n",
       "  <tbody>\n",
       "    <tr>\n",
       "      <th>0</th>\n",
       "      <td>1</td>\n",
       "      <td>179</td>\n",
       "      <td>3</td>\n",
       "    </tr>\n",
       "    <tr>\n",
       "      <th>1</th>\n",
       "      <td>1</td>\n",
       "      <td>344</td>\n",
       "      <td>2</td>\n",
       "    </tr>\n",
       "    <tr>\n",
       "      <th>2</th>\n",
       "      <td>1</td>\n",
       "      <td>5</td>\n",
       "      <td>5</td>\n",
       "    </tr>\n",
       "    <tr>\n",
       "      <th>3</th>\n",
       "      <td>1</td>\n",
       "      <td>373</td>\n",
       "      <td>3</td>\n",
       "    </tr>\n",
       "    <tr>\n",
       "      <th>4</th>\n",
       "      <td>1</td>\n",
       "      <td>101</td>\n",
       "      <td>4</td>\n",
       "    </tr>\n",
       "  </tbody>\n",
       "</table>\n",
       "</div>"
      ],
      "text/plain": [
       "   User_Id  Place_Id  Place_Ratings\n",
       "0        1       179              3\n",
       "1        1       344              2\n",
       "2        1         5              5\n",
       "3        1       373              3\n",
       "4        1       101              4"
      ]
     },
     "execution_count": 11,
     "metadata": {},
     "output_type": "execute_result"
    }
   ],
   "source": [
    "# melihat gambaran data rating\n",
    "\n",
    "rating.head()"
   ]
  },
  {
   "cell_type": "code",
   "execution_count": 12,
   "id": "d861751a",
   "metadata": {},
   "outputs": [
    {
     "data": {
      "text/html": [
       "<div>\n",
       "<style scoped>\n",
       "    .dataframe tbody tr th:only-of-type {\n",
       "        vertical-align: middle;\n",
       "    }\n",
       "\n",
       "    .dataframe tbody tr th {\n",
       "        vertical-align: top;\n",
       "    }\n",
       "\n",
       "    .dataframe thead th {\n",
       "        text-align: right;\n",
       "    }\n",
       "</style>\n",
       "<table border=\"1\" class=\"dataframe\">\n",
       "  <thead>\n",
       "    <tr style=\"text-align: right;\">\n",
       "      <th></th>\n",
       "      <th>User_Id</th>\n",
       "      <th>Place_Id</th>\n",
       "      <th>Place_Ratings</th>\n",
       "    </tr>\n",
       "  </thead>\n",
       "  <tbody>\n",
       "    <tr>\n",
       "      <th>0</th>\n",
       "      <td>36</td>\n",
       "      <td>1</td>\n",
       "      <td>4</td>\n",
       "    </tr>\n",
       "    <tr>\n",
       "      <th>1</th>\n",
       "      <td>38</td>\n",
       "      <td>1</td>\n",
       "      <td>2</td>\n",
       "    </tr>\n",
       "    <tr>\n",
       "      <th>2</th>\n",
       "      <td>64</td>\n",
       "      <td>1</td>\n",
       "      <td>2</td>\n",
       "    </tr>\n",
       "    <tr>\n",
       "      <th>3</th>\n",
       "      <td>74</td>\n",
       "      <td>1</td>\n",
       "      <td>2</td>\n",
       "    </tr>\n",
       "    <tr>\n",
       "      <th>4</th>\n",
       "      <td>86</td>\n",
       "      <td>1</td>\n",
       "      <td>4</td>\n",
       "    </tr>\n",
       "  </tbody>\n",
       "</table>\n",
       "</div>"
      ],
      "text/plain": [
       "   User_Id  Place_Id  Place_Ratings\n",
       "0       36         1              4\n",
       "1       38         1              2\n",
       "2       64         1              2\n",
       "3       74         1              2\n",
       "4       86         1              4"
      ]
     },
     "execution_count": 12,
     "metadata": {},
     "output_type": "execute_result"
    }
   ],
   "source": [
    "# Merubah data rating agar hanya berisi rating pada tempat wisata dari Kota Yogyakarta\n",
    "\n",
    "rating = pd.merge(rating, place[['Place_Id']], how='right', on='Place_Id')\n",
    "rating.head()"
   ]
  },
  {
   "cell_type": "code",
   "execution_count": 13,
   "id": "a83de1e3",
   "metadata": {},
   "outputs": [
    {
     "data": {
      "text/plain": [
       "(434, 3)"
      ]
     },
     "execution_count": 13,
     "metadata": {},
     "output_type": "execute_result"
    }
   ],
   "source": [
    "# Melihat ukuran dataset rating untuk Kota Yogyakarta\n",
    "\n",
    "rating.shape"
   ]
  },
  {
   "cell_type": "code",
   "execution_count": 14,
   "id": "d8857ec8",
   "metadata": {},
   "outputs": [
    {
     "data": {
      "text/html": [
       "<div>\n",
       "<style scoped>\n",
       "    .dataframe tbody tr th:only-of-type {\n",
       "        vertical-align: middle;\n",
       "    }\n",
       "\n",
       "    .dataframe tbody tr th {\n",
       "        vertical-align: top;\n",
       "    }\n",
       "\n",
       "    .dataframe thead th {\n",
       "        text-align: right;\n",
       "    }\n",
       "</style>\n",
       "<table border=\"1\" class=\"dataframe\">\n",
       "  <thead>\n",
       "    <tr style=\"text-align: right;\">\n",
       "      <th></th>\n",
       "      <th>User_Id</th>\n",
       "      <th>Location</th>\n",
       "      <th>Age</th>\n",
       "    </tr>\n",
       "  </thead>\n",
       "  <tbody>\n",
       "    <tr>\n",
       "      <th>0</th>\n",
       "      <td>1</td>\n",
       "      <td>Semarang, Jawa Tengah</td>\n",
       "      <td>20</td>\n",
       "    </tr>\n",
       "    <tr>\n",
       "      <th>1</th>\n",
       "      <td>2</td>\n",
       "      <td>Bekasi, Jawa Barat</td>\n",
       "      <td>21</td>\n",
       "    </tr>\n",
       "    <tr>\n",
       "      <th>2</th>\n",
       "      <td>3</td>\n",
       "      <td>Cirebon, Jawa Barat</td>\n",
       "      <td>23</td>\n",
       "    </tr>\n",
       "    <tr>\n",
       "      <th>3</th>\n",
       "      <td>4</td>\n",
       "      <td>Bekasi, Jawa Barat</td>\n",
       "      <td>21</td>\n",
       "    </tr>\n",
       "    <tr>\n",
       "      <th>4</th>\n",
       "      <td>5</td>\n",
       "      <td>Lampung, Sumatera Selatan</td>\n",
       "      <td>20</td>\n",
       "    </tr>\n",
       "  </tbody>\n",
       "</table>\n",
       "</div>"
      ],
      "text/plain": [
       "   User_Id                   Location  Age\n",
       "0        1      Semarang, Jawa Tengah   20\n",
       "1        2         Bekasi, Jawa Barat   21\n",
       "2        3        Cirebon, Jawa Barat   23\n",
       "3        4         Bekasi, Jawa Barat   21\n",
       "4        5  Lampung, Sumatera Selatan   20"
      ]
     },
     "execution_count": 14,
     "metadata": {},
     "output_type": "execute_result"
    }
   ],
   "source": [
    "# Melihat gambaran data user\n",
    "\n",
    "user.head()"
   ]
  },
  {
   "cell_type": "code",
   "execution_count": 15,
   "id": "5bdad5b8",
   "metadata": {},
   "outputs": [
    {
     "data": {
      "text/html": [
       "<div>\n",
       "<style scoped>\n",
       "    .dataframe tbody tr th:only-of-type {\n",
       "        vertical-align: middle;\n",
       "    }\n",
       "\n",
       "    .dataframe tbody tr th {\n",
       "        vertical-align: top;\n",
       "    }\n",
       "\n",
       "    .dataframe thead th {\n",
       "        text-align: right;\n",
       "    }\n",
       "</style>\n",
       "<table border=\"1\" class=\"dataframe\">\n",
       "  <thead>\n",
       "    <tr style=\"text-align: right;\">\n",
       "      <th></th>\n",
       "      <th>User_Id</th>\n",
       "      <th>Location</th>\n",
       "      <th>Age</th>\n",
       "    </tr>\n",
       "  </thead>\n",
       "  <tbody>\n",
       "    <tr>\n",
       "      <th>83</th>\n",
       "      <td>1</td>\n",
       "      <td>Semarang, Jawa Tengah</td>\n",
       "      <td>20</td>\n",
       "    </tr>\n",
       "    <tr>\n",
       "      <th>18</th>\n",
       "      <td>2</td>\n",
       "      <td>Bekasi, Jawa Barat</td>\n",
       "      <td>21</td>\n",
       "    </tr>\n",
       "    <tr>\n",
       "      <th>345</th>\n",
       "      <td>3</td>\n",
       "      <td>Cirebon, Jawa Barat</td>\n",
       "      <td>23</td>\n",
       "    </tr>\n",
       "    <tr>\n",
       "      <th>62</th>\n",
       "      <td>4</td>\n",
       "      <td>Bekasi, Jawa Barat</td>\n",
       "      <td>21</td>\n",
       "    </tr>\n",
       "    <tr>\n",
       "      <th>63</th>\n",
       "      <td>5</td>\n",
       "      <td>Lampung, Sumatera Selatan</td>\n",
       "      <td>20</td>\n",
       "    </tr>\n",
       "  </tbody>\n",
       "</table>\n",
       "</div>"
      ],
      "text/plain": [
       "     User_Id                   Location  Age\n",
       "83         1      Semarang, Jawa Tengah   20\n",
       "18         2         Bekasi, Jawa Barat   21\n",
       "345        3        Cirebon, Jawa Barat   23\n",
       "62         4         Bekasi, Jawa Barat   21\n",
       "63         5  Lampung, Sumatera Selatan   20"
      ]
     },
     "execution_count": 15,
     "metadata": {},
     "output_type": "execute_result"
    }
   ],
   "source": [
    "# Merubah data user agar hanya berisi user yang pernah megunjungi wisata di Kota Yogyakarta\n",
    "\n",
    "user = pd.merge(user, rating[['User_Id']], how='right', on='User_Id').drop_duplicates().sort_values('User_Id')\n",
    "user.head()"
   ]
  },
  {
   "cell_type": "code",
   "execution_count": 16,
   "id": "18b00178",
   "metadata": {},
   "outputs": [
    {
     "data": {
      "text/plain": [
       "(232, 3)"
      ]
     },
     "execution_count": 16,
     "metadata": {},
     "output_type": "execute_result"
    }
   ],
   "source": [
    "# Melihat dataset user yang pernah memberi rating pada wisata di Kota Yogyakarta\n",
    "\n",
    "user.shape"
   ]
  },
  {
   "cell_type": "code",
   "execution_count": 17,
   "id": "d7172f5b",
   "metadata": {},
   "outputs": [
    {
     "data": {
      "image/png": "[encoded data removed]",
      "text/plain": [
       "<Figure size 576x360 with 1 Axes>"
      ]
     },
     "metadata": {},
     "output_type": "display_data"
    }
   ],
   "source": [
    "# Membuat dataframe berisi lokasi dengan jumlah rating terbanyak\n",
    "top_10 = rating['Place_Id'].value_counts().reset_index()[0:10]\n",
    "top_10 = pd.merge(top_10, place[['Place_Id','Place_Name']], how='left', left_on='index', right_on='Place_Id')\n",
    "\n",
    "# Membuat visualisasi wisata dengan jumlah rating terbanyak\n",
    "plt.figure(figsize=(8,5))\n",
    "sns.barplot('Place_Id_x', 'Place_Name', data=top_10)\n",
    "plt.title('Jumlah Tempat Wisata dengan Rating Terbanyak', pad=20)\n",
    "plt.ylabel('Jumlah Rating')\n",
    "plt.xlabel('Nama Lokasi')\n",
    "plt.show()"
   ]
  },
  {
   "cell_type": "code",
   "execution_count": 18,
   "id": "a982916a",
   "metadata": {},
   "outputs": [
    {
     "data": {
      "image/png": "[encoded data removed]",
      "text/plain": [
       "<Figure size 432x288 with 1 Axes>"
      ]
     },
     "metadata": {},
     "output_type": "display_data"
    }
   ],
   "source": [
    "# Membuat visualisasi jumlah kategori wisata di Kota Yogyakarta\n",
    "\n",
    "sns.countplot(y='Category', data=place)\n",
    "plt.title('Perbandingan Jumlah Kategori Wisata di Kota Yogyakarta', pad=20)\n",
    "plt.show()"
   ]
  },
  {
   "cell_type": "code",
   "execution_count": 19,
   "id": "79f1bb7b",
   "metadata": {},
   "outputs": [
    {
     "data": {
      "image/png": "[encoded data removed]",
      "text/plain": [
       "<Figure size 360x216 with 1 Axes>"
      ]
     },
     "metadata": {},
     "output_type": "display_data"
    }
   ],
   "source": [
    "# Membuat visualisasi distribusi usia user\n",
    "\n",
    "plt.figure(figsize=(5,3))\n",
    "sns.boxplot(user['Age']);\n",
    "plt.title('Distribusi Usia User', pad=20)\n",
    "plt.show()"
   ]
  },
  {
   "cell_type": "code",
   "execution_count": 20,
   "id": "db39a394",
   "metadata": {},
   "outputs": [
    {
     "data": {
      "image/png": "[encoded data removed]",
      "text/plain": [
       "<Figure size 504x216 with 1 Axes>"
      ]
     },
     "metadata": {},
     "output_type": "display_data"
    }
   ],
   "source": [
    "# Membuat visualisasi distribusi harga masuk tempat wisata\n",
    "\n",
    "plt.figure(figsize=(7,3))\n",
    "sns.boxplot(place['Price'])\n",
    "plt.title('Distribusi Harga Masuk Wisata di Kota Yogyakarta', pad=20)\n",
    "plt.show()"
   ]
  },
  {
   "cell_type": "code",
   "execution_count": 21,
   "id": "09bbfef2",
   "metadata": {},
   "outputs": [
    {
     "data": {
      "image/png": "[encoded data removed]",
      "text/plain": [
       "<Figure size 576x432 with 1 Axes>"
      ]
     },
     "metadata": {},
     "output_type": "display_data"
    }
   ],
   "source": [
    "# Memfilter asal kota dari user\n",
    "askot = user['Location'].apply(lambda x : x.split(',')[0])\n",
    "\n",
    "# Visualisasi asal kota dari user\n",
    "plt.figure(figsize=(8,6))\n",
    "sns.countplot(y=askot)\n",
    "plt.title('Jumlah Asal Kota dari User')\n",
    "plt.show()"
   ]
  },
  {
   "cell_type": "markdown",
   "id": "4d73a02f",
   "metadata": {},
   "source": [
    " # MODELING"
   ]
  },
  {
   "cell_type": "code",
   "execution_count": 22,
   "id": "b4bf1ece",
   "metadata": {},
   "outputs": [
    {
     "data": {
      "text/html": [
       "<div>\n",
       "<style scoped>\n",
       "    .dataframe tbody tr th:only-of-type {\n",
       "        vertical-align: middle;\n",
       "    }\n",
       "\n",
       "    .dataframe tbody tr th {\n",
       "        vertical-align: top;\n",
       "    }\n",
       "\n",
       "    .dataframe thead th {\n",
       "        text-align: right;\n",
       "    }\n",
       "</style>\n",
       "<table border=\"1\" class=\"dataframe\">\n",
       "  <thead>\n",
       "    <tr style=\"text-align: right;\">\n",
       "      <th></th>\n",
       "      <th>User_Id</th>\n",
       "      <th>Place_Id</th>\n",
       "      <th>Place_Ratings</th>\n",
       "    </tr>\n",
       "  </thead>\n",
       "  <tbody>\n",
       "    <tr>\n",
       "      <th>0</th>\n",
       "      <td>36</td>\n",
       "      <td>1</td>\n",
       "      <td>4</td>\n",
       "    </tr>\n",
       "    <tr>\n",
       "      <th>1</th>\n",
       "      <td>38</td>\n",
       "      <td>1</td>\n",
       "      <td>2</td>\n",
       "    </tr>\n",
       "    <tr>\n",
       "      <th>2</th>\n",
       "      <td>64</td>\n",
       "      <td>1</td>\n",
       "      <td>2</td>\n",
       "    </tr>\n",
       "    <tr>\n",
       "      <th>3</th>\n",
       "      <td>74</td>\n",
       "      <td>1</td>\n",
       "      <td>2</td>\n",
       "    </tr>\n",
       "    <tr>\n",
       "      <th>4</th>\n",
       "      <td>86</td>\n",
       "      <td>1</td>\n",
       "      <td>4</td>\n",
       "    </tr>\n",
       "  </tbody>\n",
       "</table>\n",
       "</div>"
      ],
      "text/plain": [
       "   User_Id  Place_Id  Place_Ratings\n",
       "0       36         1              4\n",
       "1       38         1              2\n",
       "2       64         1              2\n",
       "3       74         1              2\n",
       "4       86         1              4"
      ]
     },
     "execution_count": 22,
     "metadata": {},
     "output_type": "execute_result"
    }
   ],
   "source": [
    "# Membaca dataset untuk dilakukan encoding\n",
    " \n",
    "df = rating.copy()\n",
    "df.head()"
   ]
  },
  {
   "cell_type": "code",
   "execution_count": 23,
   "id": "8d8264f5",
   "metadata": {},
   "outputs": [],
   "source": [
    "#ENCODING\n",
    "def dict_encoder(col, data=df):\n",
    "\n",
    "  # Mengubah kolom suatu dataframe menjadi list tanpa nilai yang sama\n",
    "  unique_val = data[col].unique().tolist()\n",
    "\n",
    "  # Melakukan encoding value kolom suatu dataframe ke angka\n",
    "  val_to_val_encoded = {x: i for i, x in enumerate(unique_val)}\n",
    "\n",
    "  # Melakukan proses encoding angka ke value dari kolom suatu dataframe\n",
    "  val_encoded_to_val = {i: x for i, x in enumerate(unique_val)}\n",
    "  return val_to_val_encoded, val_encoded_to_val"
   ]
  },
  {
   "cell_type": "code",
   "execution_count": 24,
   "id": "ad188ea7",
   "metadata": {},
   "outputs": [],
   "source": [
    "# ENCODING + MAPING \n",
    "\n",
    "# Encoding User_Id\n",
    "user_to_user_encoded, user_encoded_to_user = dict_encoder('User_Id')\n",
    "\n",
    "# Mapping User_Id ke dataframe\n",
    "df['user'] = df['User_Id'].map(user_to_user_encoded)"
   ]
  },
  {
   "cell_type": "code",
   "execution_count": 25,
   "id": "4f3ec03b",
   "metadata": {},
   "outputs": [],
   "source": [
    "# Encoding Place_Id\n",
    "place_to_place_encoded, place_encoded_to_place = dict_encoder('Place_Id')\n",
    "\n",
    "# Mapping Place_Id ke dataframe place\n",
    "df['place'] = df['Place_Id'].map(place_to_place_encoded)"
   ]
  },
  {
   "cell_type": "code",
   "execution_count": 26,
   "id": "0b789325",
   "metadata": {},
   "outputs": [
    {
     "name": "stdout",
     "output_type": "stream",
     "text": [
      "Number of User: 232, Number of Place: 20, Min Rating: 1.0, Max Rating: 5.0\n"
     ]
    }
   ],
   "source": [
    "# Mendapatkan jumlah user dan place\n",
    "num_users, num_place = len(user_to_user_encoded), len(place_to_place_encoded)\n",
    " \n",
    "# Mengubah rating menjadi nilai float\n",
    "df['Place_Ratings'] = df['Place_Ratings'].values.astype(np.float32)\n",
    " \n",
    "# Mendapatkan nilai minimum dan maksimum rating\n",
    "min_rating, max_rating = min(df['Place_Ratings']), max(df['Place_Ratings'])\n",
    " \n",
    "print(f'Number of User: {num_users}, Number of Place: {num_place}, Min Rating: {min_rating}, Max Rating: {max_rating}')"
   ]
  },
  {
   "cell_type": "code",
   "execution_count": 27,
   "id": "098596e3",
   "metadata": {},
   "outputs": [
    {
     "data": {
      "text/html": [
       "<div>\n",
       "<style scoped>\n",
       "    .dataframe tbody tr th:only-of-type {\n",
       "        vertical-align: middle;\n",
       "    }\n",
       "\n",
       "    .dataframe tbody tr th {\n",
       "        vertical-align: top;\n",
       "    }\n",
       "\n",
       "    .dataframe thead th {\n",
       "        text-align: right;\n",
       "    }\n",
       "</style>\n",
       "<table border=\"1\" class=\"dataframe\">\n",
       "  <thead>\n",
       "    <tr style=\"text-align: right;\">\n",
       "      <th></th>\n",
       "      <th>User_Id</th>\n",
       "      <th>Place_Id</th>\n",
       "      <th>Place_Ratings</th>\n",
       "      <th>user</th>\n",
       "      <th>place</th>\n",
       "    </tr>\n",
       "  </thead>\n",
       "  <tbody>\n",
       "    <tr>\n",
       "      <th>280</th>\n",
       "      <td>299</td>\n",
       "      <td>13</td>\n",
       "      <td>1.0</td>\n",
       "      <td>136</td>\n",
       "      <td>12</td>\n",
       "    </tr>\n",
       "    <tr>\n",
       "      <th>78</th>\n",
       "      <td>220</td>\n",
       "      <td>4</td>\n",
       "      <td>4.0</td>\n",
       "      <td>46</td>\n",
       "      <td>3</td>\n",
       "    </tr>\n",
       "  </tbody>\n",
       "</table>\n",
       "</div>"
      ],
      "text/plain": [
       "     User_Id  Place_Id  Place_Ratings  user  place\n",
       "280      299        13            1.0   136     12\n",
       "78       220         4            4.0    46      3"
      ]
     },
     "execution_count": 27,
     "metadata": {},
     "output_type": "execute_result"
    }
   ],
   "source": [
    "# Mengacak dataset\n",
    "df = df.sample(frac=1, random_state=42)\n",
    "df.head(2)"
   ]
  },
  {
   "cell_type": "code",
   "execution_count": 28,
   "id": "2841414a",
   "metadata": {},
   "outputs": [],
   "source": [
    "# Membuat variabel x untuk mencocokkan data user dan place menjadi satu value\n",
    "x = df[['user', 'place']].values\n",
    " \n",
    "# Membuat variabel y untuk membuat rating dari hasil \n",
    "y = df['Place_Ratings'].apply(lambda x: (x - min_rating) / (max_rating - min_rating)).values\n",
    " \n",
    "# Membagi menjadi 80% data train dan 20% data validasi\n",
    "train_indices = int(0.8 * df.shape[0])\n",
    "x_train, x_val, y_train, y_val = (\n",
    "    x[:train_indices],\n",
    "    x[train_indices:],\n",
    "    y[:train_indices],\n",
    "    y[train_indices:]\n",
    ")"
   ]
  },
  {
   "cell_type": "code",
   "execution_count": 29,
   "id": "894b8bb3",
   "metadata": {},
   "outputs": [],
   "source": [
    "class RecommenderNet(tf.keras.Model):\n",
    " \n",
    "  # Insialisasi fungsi\n",
    "  def __init__(self, num_users, num_places, embedding_size, **kwargs):\n",
    "    super(RecommenderNet, self).__init__(**kwargs)\n",
    "    self.num_users = num_users\n",
    "    self.num_places = num_places\n",
    "    self.embedding_size = embedding_size\n",
    "    self.user_embedding = layers.Embedding( # layer embedding user\n",
    "        num_users,\n",
    "        embedding_size,\n",
    "        embeddings_initializer = 'he_normal',\n",
    "        embeddings_regularizer = keras.regularizers.l2(1e-6)\n",
    "    )\n",
    "    self.user_bias = layers.Embedding(num_users, 1) # layer embedding user bias\n",
    "    self.places_embedding = layers.Embedding( # layer embeddings places\n",
    "        num_places,\n",
    "        embedding_size,\n",
    "        embeddings_initializer = 'he_normal',\n",
    "        embeddings_regularizer = keras.regularizers.l2(1e-6)\n",
    "    )\n",
    "    self.places_bias = layers.Embedding(num_places, 1) # layer embedding places bias\n",
    " \n",
    "  def call(self, inputs):\n",
    "    user_vector = self.user_embedding(inputs[:,0]) # memanggil layer embedding 1\n",
    "    user_bias = self.user_bias(inputs[:, 0]) # memanggil layer embedding 2\n",
    "    places_vector = self.places_embedding(inputs[:, 1]) # memanggil layer embedding 3\n",
    "    places_bias = self.places_bias(inputs[:, 1]) # memanggil layer embedding 4\n",
    " \n",
    "    dot_user_places = tf.tensordot(user_vector, places_vector, 2) \n",
    " \n",
    "    x = dot_user_places + user_bias + places_bias\n",
    "    \n",
    "    return tf.nn.sigmoid(x) # activation sigmoid"
   ]
  },
  {
   "cell_type": "code",
   "execution_count": 30,
   "id": "20300a62",
   "metadata": {},
   "outputs": [
    {
     "name": "stderr",
     "output_type": "stream",
     "text": [
      "2022-06-09 10:48:04.838321: W tensorflow/stream_executor/platform/default/dso_loader.cc:64] Could not load dynamic library 'libcuda.so.1'; dlerror: libcuda.so.1: cannot open shared object file: No such file or directory\n",
      "2022-06-09 10:48:04.838363: W tensorflow/stream_executor/cuda/cuda_driver.cc:269] failed call to cuInit: UNKNOWN ERROR (303)\n",
      "2022-06-09 10:48:04.838406: I tensorflow/stream_executor/cuda/cuda_diagnostics.cc:156] kernel driver does not appear to be running on this host (wan): /proc/driver/nvidia/version does not exist\n"
     ]
    }
   ],
   "source": [
    "model = RecommenderNet(num_users, num_place, 50) # inisialisasi model\n",
    " \n",
    "# model compile\n",
    "model.compile(\n",
    "    loss = tf.keras.losses.BinaryCrossentropy(),\n",
    "    optimizer = keras.optimizers.Adam(learning_rate=0.0004),\n",
    "    metrics=[tf.keras.metrics.RootMeanSquaredError()]\n",
    ")"
   ]
  },
  {
   "cell_type": "code",
   "execution_count": 31,
   "id": "5c9128d4",
   "metadata": {},
   "outputs": [],
   "source": [
    " class myCallback(tf.keras.callbacks.Callback):\n",
    "  def on_epoch_end(self, epoch, logs={}):\n",
    "    if(logs.get('val_root_mean_squared_error')<0.25):\n",
    "      print('Lapor! Metriks validasi sudah sesuai harapan')\n",
    "      self.model.stop_training = True"
   ]
  },
  {
   "cell_type": "code",
   "execution_count": 32,
   "id": "c386d342",
   "metadata": {},
   "outputs": [
    {
     "name": "stdout",
     "output_type": "stream",
     "text": [
      "Epoch 1/100\n",
      "11/11 [==============================] - 1s 31ms/step - loss: 0.7910 - root_mean_squared_error: 0.4149 - val_loss: 0.8583 - val_root_mean_squared_error: 0.4498\n",
      "Epoch 2/100\n",
      "11/11 [==============================] - 0s 7ms/step - loss: 0.7645 - root_mean_squared_error: 0.4069 - val_loss: 0.8533 - val_root_mean_squared_error: 0.4478\n",
      "Epoch 3/100\n",
      "11/11 [==============================] - 0s 6ms/step - loss: 0.7681 - root_mean_squared_error: 0.4077 - val_loss: 0.8499 - val_root_mean_squared_error: 0.4464\n",
      "Epoch 4/100\n",
      "11/11 [==============================] - 0s 7ms/step - loss: 0.7234 - root_mean_squared_error: 0.3843 - val_loss: 0.8478 - val_root_mean_squared_error: 0.4455\n",
      "Epoch 5/100\n",
      "11/11 [==============================] - 0s 6ms/step - loss: 0.7930 - root_mean_squared_error: 0.4160 - val_loss: 0.8476 - val_root_mean_squared_error: 0.4453\n",
      "Epoch 6/100\n",
      "11/11 [==============================] - 0s 6ms/step - loss: 0.7784 - root_mean_squared_error: 0.4134 - val_loss: 0.8487 - val_root_mean_squared_error: 0.4459\n",
      "Epoch 7/100\n",
      "11/11 [==============================] - 0s 7ms/step - loss: 0.8005 - root_mean_squared_error: 0.4194 - val_loss: 0.8492 - val_root_mean_squared_error: 0.4460\n",
      "Epoch 8/100\n",
      "11/11 [==============================] - 0s 5ms/step - loss: 0.7889 - root_mean_squared_error: 0.4150 - val_loss: 0.8494 - val_root_mean_squared_error: 0.4459\n",
      "Epoch 9/100\n",
      "11/11 [==============================] - 0s 6ms/step - loss: 0.7731 - root_mean_squared_error: 0.4088 - val_loss: 0.8508 - val_root_mean_squared_error: 0.4466\n",
      "Epoch 10/100\n",
      "11/11 [==============================] - 0s 6ms/step - loss: 0.8044 - root_mean_squared_error: 0.4220 - val_loss: 0.8500 - val_root_mean_squared_error: 0.4463\n",
      "Epoch 11/100\n",
      "11/11 [==============================] - 0s 7ms/step - loss: 0.9151 - root_mean_squared_error: 0.4699 - val_loss: 0.8461 - val_root_mean_squared_error: 0.4452\n",
      "Epoch 12/100\n",
      "11/11 [==============================] - 0s 6ms/step - loss: 0.8125 - root_mean_squared_error: 0.4216 - val_loss: 0.8452 - val_root_mean_squared_error: 0.4450\n",
      "Epoch 13/100\n",
      "11/11 [==============================] - 0s 8ms/step - loss: 0.7920 - root_mean_squared_error: 0.4169 - val_loss: 0.8465 - val_root_mean_squared_error: 0.4459\n",
      "Epoch 14/100\n",
      "11/11 [==============================] - 0s 6ms/step - loss: 0.7403 - root_mean_squared_error: 0.3927 - val_loss: 0.8468 - val_root_mean_squared_error: 0.4463\n",
      "Epoch 15/100\n",
      "11/11 [==============================] - 0s 6ms/step - loss: 0.8293 - root_mean_squared_error: 0.4313 - val_loss: 0.8456 - val_root_mean_squared_error: 0.4456\n",
      "Epoch 16/100\n",
      "11/11 [==============================] - 0s 6ms/step - loss: 0.8332 - root_mean_squared_error: 0.4274 - val_loss: 0.8445 - val_root_mean_squared_error: 0.4450\n",
      "Epoch 17/100\n",
      "11/11 [==============================] - 0s 7ms/step - loss: 0.8044 - root_mean_squared_error: 0.4181 - val_loss: 0.8409 - val_root_mean_squared_error: 0.4437\n",
      "Epoch 18/100\n",
      "11/11 [==============================] - 0s 6ms/step - loss: 0.7784 - root_mean_squared_error: 0.4028 - val_loss: 0.8377 - val_root_mean_squared_error: 0.4422\n",
      "Epoch 19/100\n",
      "11/11 [==============================] - 0s 7ms/step - loss: 0.7152 - root_mean_squared_error: 0.3774 - val_loss: 0.8352 - val_root_mean_squared_error: 0.4411\n",
      "Epoch 20/100\n",
      "11/11 [==============================] - 0s 6ms/step - loss: 0.7557 - root_mean_squared_error: 0.3998 - val_loss: 0.8323 - val_root_mean_squared_error: 0.4398\n",
      "Epoch 21/100\n",
      "11/11 [==============================] - 0s 7ms/step - loss: 0.7272 - root_mean_squared_error: 0.3840 - val_loss: 0.8312 - val_root_mean_squared_error: 0.4394\n",
      "Epoch 22/100\n",
      "11/11 [==============================] - 0s 6ms/step - loss: 0.7719 - root_mean_squared_error: 0.4036 - val_loss: 0.8296 - val_root_mean_squared_error: 0.4388\n",
      "Epoch 23/100\n",
      "11/11 [==============================] - 0s 7ms/step - loss: 0.7124 - root_mean_squared_error: 0.3770 - val_loss: 0.8275 - val_root_mean_squared_error: 0.4380\n",
      "Epoch 24/100\n",
      "11/11 [==============================] - 0s 6ms/step - loss: 0.8409 - root_mean_squared_error: 0.4336 - val_loss: 0.8250 - val_root_mean_squared_error: 0.4370\n",
      "Epoch 25/100\n",
      "11/11 [==============================] - 0s 6ms/step - loss: 0.7284 - root_mean_squared_error: 0.3862 - val_loss: 0.8218 - val_root_mean_squared_error: 0.4357\n",
      "Epoch 26/100\n",
      "11/11 [==============================] - 0s 6ms/step - loss: 0.7602 - root_mean_squared_error: 0.4013 - val_loss: 0.8209 - val_root_mean_squared_error: 0.4352\n",
      "Epoch 27/100\n",
      "11/11 [==============================] - 0s 7ms/step - loss: 0.7461 - root_mean_squared_error: 0.3929 - val_loss: 0.8193 - val_root_mean_squared_error: 0.4345\n",
      "Epoch 28/100\n",
      "11/11 [==============================] - 0s 6ms/step - loss: 0.7422 - root_mean_squared_error: 0.3929 - val_loss: 0.8184 - val_root_mean_squared_error: 0.4341\n",
      "Epoch 29/100\n",
      "11/11 [==============================] - 0s 7ms/step - loss: 0.7918 - root_mean_squared_error: 0.4127 - val_loss: 0.8174 - val_root_mean_squared_error: 0.4336\n",
      "Epoch 30/100\n",
      "11/11 [==============================] - 0s 6ms/step - loss: 0.7456 - root_mean_squared_error: 0.3955 - val_loss: 0.8173 - val_root_mean_squared_error: 0.4337\n",
      "Epoch 31/100\n",
      "11/11 [==============================] - 0s 7ms/step - loss: 0.7723 - root_mean_squared_error: 0.4065 - val_loss: 0.8152 - val_root_mean_squared_error: 0.4329\n",
      "Epoch 32/100\n",
      "11/11 [==============================] - 0s 6ms/step - loss: 0.7247 - root_mean_squared_error: 0.3828 - val_loss: 0.8147 - val_root_mean_squared_error: 0.4328\n",
      "Epoch 33/100\n",
      "11/11 [==============================] - 0s 6ms/step - loss: 0.7529 - root_mean_squared_error: 0.3988 - val_loss: 0.8113 - val_root_mean_squared_error: 0.4312\n",
      "Epoch 34/100\n",
      "11/11 [==============================] - 0s 7ms/step - loss: 0.7493 - root_mean_squared_error: 0.3929 - val_loss: 0.8080 - val_root_mean_squared_error: 0.4297\n",
      "Epoch 35/100\n",
      "11/11 [==============================] - 0s 8ms/step - loss: 0.7062 - root_mean_squared_error: 0.3697 - val_loss: 0.8080 - val_root_mean_squared_error: 0.4297\n",
      "Epoch 36/100\n",
      "11/11 [==============================] - 0s 11ms/step - loss: 0.7820 - root_mean_squared_error: 0.4162 - val_loss: 0.8068 - val_root_mean_squared_error: 0.4292\n",
      "Epoch 37/100\n",
      "11/11 [==============================] - 0s 10ms/step - loss: 0.7399 - root_mean_squared_error: 0.3904 - val_loss: 0.8050 - val_root_mean_squared_error: 0.4286\n",
      "Epoch 38/100\n",
      "11/11 [==============================] - 0s 9ms/step - loss: 0.7379 - root_mean_squared_error: 0.3914 - val_loss: 0.8054 - val_root_mean_squared_error: 0.4289\n",
      "Epoch 39/100\n",
      "11/11 [==============================] - 0s 10ms/step - loss: 0.7267 - root_mean_squared_error: 0.3808 - val_loss: 0.8050 - val_root_mean_squared_error: 0.4289\n",
      "Epoch 40/100\n",
      "11/11 [==============================] - 0s 11ms/step - loss: 0.6944 - root_mean_squared_error: 0.3654 - val_loss: 0.8031 - val_root_mean_squared_error: 0.4279\n",
      "Epoch 41/100\n",
      "11/11 [==============================] - 0s 9ms/step - loss: 0.6944 - root_mean_squared_error: 0.3655 - val_loss: 0.8012 - val_root_mean_squared_error: 0.4269\n",
      "Epoch 42/100\n",
      "11/11 [==============================] - 0s 7ms/step - loss: 0.7133 - root_mean_squared_error: 0.3773 - val_loss: 0.8010 - val_root_mean_squared_error: 0.4267\n",
      "Epoch 43/100\n",
      "11/11 [==============================] - 0s 7ms/step - loss: 0.7173 - root_mean_squared_error: 0.3790 - val_loss: 0.8005 - val_root_mean_squared_error: 0.4265\n",
      "Epoch 44/100\n",
      "11/11 [==============================] - 0s 7ms/step - loss: 0.7096 - root_mean_squared_error: 0.3750 - val_loss: 0.8029 - val_root_mean_squared_error: 0.4277\n",
      "Epoch 45/100\n",
      "11/11 [==============================] - 0s 8ms/step - loss: 0.7035 - root_mean_squared_error: 0.3714 - val_loss: 0.8047 - val_root_mean_squared_error: 0.4286\n",
      "Epoch 46/100\n",
      "11/11 [==============================] - 0s 8ms/step - loss: 0.7077 - root_mean_squared_error: 0.3726 - val_loss: 0.8044 - val_root_mean_squared_error: 0.4285\n",
      "Epoch 47/100\n",
      "11/11 [==============================] - 0s 7ms/step - loss: 0.6900 - root_mean_squared_error: 0.3623 - val_loss: 0.8038 - val_root_mean_squared_error: 0.4283\n",
      "Epoch 48/100\n",
      "11/11 [==============================] - 0s 7ms/step - loss: 0.6950 - root_mean_squared_error: 0.3657 - val_loss: 0.8019 - val_root_mean_squared_error: 0.4273\n"
     ]
    },
    {
     "name": "stdout",
     "output_type": "stream",
     "text": [
      "Epoch 49/100\n",
      "11/11 [==============================] - 0s 8ms/step - loss: 0.7149 - root_mean_squared_error: 0.3774 - val_loss: 0.8024 - val_root_mean_squared_error: 0.4275\n",
      "Epoch 50/100\n",
      "11/11 [==============================] - 0s 7ms/step - loss: 0.6882 - root_mean_squared_error: 0.3608 - val_loss: 0.8028 - val_root_mean_squared_error: 0.4276\n",
      "Epoch 51/100\n",
      "11/11 [==============================] - 0s 7ms/step - loss: 0.7119 - root_mean_squared_error: 0.3739 - val_loss: 0.8034 - val_root_mean_squared_error: 0.4280\n",
      "Epoch 52/100\n",
      "11/11 [==============================] - 0s 8ms/step - loss: 0.6897 - root_mean_squared_error: 0.3618 - val_loss: 0.8053 - val_root_mean_squared_error: 0.4288\n",
      "Epoch 53/100\n",
      "11/11 [==============================] - 0s 7ms/step - loss: 0.6875 - root_mean_squared_error: 0.3607 - val_loss: 0.8076 - val_root_mean_squared_error: 0.4298\n",
      "Epoch 54/100\n",
      "11/11 [==============================] - 0s 6ms/step - loss: 0.7093 - root_mean_squared_error: 0.3755 - val_loss: 0.8083 - val_root_mean_squared_error: 0.4301\n",
      "Epoch 55/100\n",
      "11/11 [==============================] - 0s 6ms/step - loss: 0.7090 - root_mean_squared_error: 0.3749 - val_loss: 0.8074 - val_root_mean_squared_error: 0.4296\n",
      "Epoch 56/100\n",
      "11/11 [==============================] - 0s 7ms/step - loss: 0.6890 - root_mean_squared_error: 0.3622 - val_loss: 0.8045 - val_root_mean_squared_error: 0.4281\n",
      "Epoch 57/100\n",
      "11/11 [==============================] - 0s 6ms/step - loss: 0.7041 - root_mean_squared_error: 0.3705 - val_loss: 0.8033 - val_root_mean_squared_error: 0.4274\n",
      "Epoch 58/100\n",
      "11/11 [==============================] - 0s 7ms/step - loss: 0.7048 - root_mean_squared_error: 0.3699 - val_loss: 0.8043 - val_root_mean_squared_error: 0.4279\n",
      "Epoch 59/100\n",
      "11/11 [==============================] - 0s 7ms/step - loss: 0.7244 - root_mean_squared_error: 0.3836 - val_loss: 0.8053 - val_root_mean_squared_error: 0.4282\n",
      "Epoch 60/100\n",
      "11/11 [==============================] - 0s 6ms/step - loss: 0.7078 - root_mean_squared_error: 0.3741 - val_loss: 0.8048 - val_root_mean_squared_error: 0.4280\n",
      "Epoch 61/100\n",
      "11/11 [==============================] - 0s 6ms/step - loss: 0.6992 - root_mean_squared_error: 0.3680 - val_loss: 0.8044 - val_root_mean_squared_error: 0.4278\n",
      "Epoch 62/100\n",
      "11/11 [==============================] - 0s 6ms/step - loss: 0.6748 - root_mean_squared_error: 0.3523 - val_loss: 0.8033 - val_root_mean_squared_error: 0.4273\n",
      "Epoch 63/100\n",
      "11/11 [==============================] - 0s 7ms/step - loss: 0.6890 - root_mean_squared_error: 0.3623 - val_loss: 0.8027 - val_root_mean_squared_error: 0.4269\n",
      "Epoch 64/100\n",
      "11/11 [==============================] - 0s 9ms/step - loss: 0.7021 - root_mean_squared_error: 0.3703 - val_loss: 0.8017 - val_root_mean_squared_error: 0.4264\n",
      "Epoch 65/100\n",
      "11/11 [==============================] - 0s 8ms/step - loss: 0.6972 - root_mean_squared_error: 0.3672 - val_loss: 0.8015 - val_root_mean_squared_error: 0.4263\n",
      "Epoch 66/100\n",
      "11/11 [==============================] - 0s 7ms/step - loss: 0.6960 - root_mean_squared_error: 0.3662 - val_loss: 0.8025 - val_root_mean_squared_error: 0.4269\n",
      "Epoch 67/100\n",
      "11/11 [==============================] - 0s 7ms/step - loss: 0.7105 - root_mean_squared_error: 0.3752 - val_loss: 0.8019 - val_root_mean_squared_error: 0.4267\n",
      "Epoch 68/100\n",
      "11/11 [==============================] - 0s 6ms/step - loss: 0.6770 - root_mean_squared_error: 0.3538 - val_loss: 0.8027 - val_root_mean_squared_error: 0.4271\n",
      "Epoch 69/100\n",
      "11/11 [==============================] - 0s 8ms/step - loss: 0.7017 - root_mean_squared_error: 0.3706 - val_loss: 0.8029 - val_root_mean_squared_error: 0.4272\n",
      "Epoch 70/100\n",
      "11/11 [==============================] - 0s 8ms/step - loss: 0.6799 - root_mean_squared_error: 0.3552 - val_loss: 0.8025 - val_root_mean_squared_error: 0.4270\n",
      "Epoch 71/100\n",
      "11/11 [==============================] - 0s 8ms/step - loss: 0.6782 - root_mean_squared_error: 0.3547 - val_loss: 0.8024 - val_root_mean_squared_error: 0.4269\n",
      "Epoch 72/100\n",
      "11/11 [==============================] - 0s 7ms/step - loss: 0.6950 - root_mean_squared_error: 0.3659 - val_loss: 0.8024 - val_root_mean_squared_error: 0.4267\n",
      "Epoch 73/100\n",
      "11/11 [==============================] - 0s 5ms/step - loss: 0.6890 - root_mean_squared_error: 0.3618 - val_loss: 0.8015 - val_root_mean_squared_error: 0.4262\n",
      "Epoch 74/100\n",
      "11/11 [==============================] - 0s 6ms/step - loss: 0.7025 - root_mean_squared_error: 0.3707 - val_loss: 0.7994 - val_root_mean_squared_error: 0.4251\n",
      "Epoch 75/100\n",
      "11/11 [==============================] - 0s 6ms/step - loss: 0.6878 - root_mean_squared_error: 0.3613 - val_loss: 0.7990 - val_root_mean_squared_error: 0.4249\n",
      "Epoch 76/100\n",
      "11/11 [==============================] - 0s 7ms/step - loss: 0.6904 - root_mean_squared_error: 0.3632 - val_loss: 0.7987 - val_root_mean_squared_error: 0.4246\n",
      "Epoch 77/100\n",
      "11/11 [==============================] - 0s 6ms/step - loss: 0.6637 - root_mean_squared_error: 0.3447 - val_loss: 0.7982 - val_root_mean_squared_error: 0.4244\n",
      "Epoch 78/100\n",
      "11/11 [==============================] - 0s 7ms/step - loss: 0.6883 - root_mean_squared_error: 0.3616 - val_loss: 0.7991 - val_root_mean_squared_error: 0.4249\n",
      "Epoch 79/100\n",
      "11/11 [==============================] - 0s 8ms/step - loss: 0.6947 - root_mean_squared_error: 0.3661 - val_loss: 0.8000 - val_root_mean_squared_error: 0.4256\n",
      "Epoch 80/100\n",
      "11/11 [==============================] - 0s 6ms/step - loss: 0.6971 - root_mean_squared_error: 0.3663 - val_loss: 0.8005 - val_root_mean_squared_error: 0.4260\n",
      "Epoch 81/100\n",
      "11/11 [==============================] - 0s 7ms/step - loss: 0.6934 - root_mean_squared_error: 0.3644 - val_loss: 0.8017 - val_root_mean_squared_error: 0.4266\n",
      "Epoch 82/100\n",
      "11/11 [==============================] - 0s 7ms/step - loss: 0.6989 - root_mean_squared_error: 0.3671 - val_loss: 0.8016 - val_root_mean_squared_error: 0.4267\n",
      "Epoch 83/100\n",
      "11/11 [==============================] - 0s 7ms/step - loss: 0.6659 - root_mean_squared_error: 0.3462 - val_loss: 0.8026 - val_root_mean_squared_error: 0.4271\n",
      "Epoch 84/100\n",
      "11/11 [==============================] - 0s 7ms/step - loss: 0.6983 - root_mean_squared_error: 0.3676 - val_loss: 0.8017 - val_root_mean_squared_error: 0.4267\n",
      "Epoch 85/100\n",
      "11/11 [==============================] - 0s 7ms/step - loss: 0.6696 - root_mean_squared_error: 0.3488 - val_loss: 0.8017 - val_root_mean_squared_error: 0.4267\n",
      "Epoch 86/100\n",
      "11/11 [==============================] - 0s 8ms/step - loss: 0.6685 - root_mean_squared_error: 0.3480 - val_loss: 0.8020 - val_root_mean_squared_error: 0.4269\n",
      "Epoch 87/100\n",
      "11/11 [==============================] - 0s 6ms/step - loss: 0.6791 - root_mean_squared_error: 0.3550 - val_loss: 0.8022 - val_root_mean_squared_error: 0.4268\n",
      "Epoch 88/100\n",
      "11/11 [==============================] - 0s 9ms/step - loss: 0.6659 - root_mean_squared_error: 0.3465 - val_loss: 0.8021 - val_root_mean_squared_error: 0.4265\n",
      "Epoch 89/100\n",
      "11/11 [==============================] - 0s 6ms/step - loss: 0.6764 - root_mean_squared_error: 0.3518 - val_loss: 0.8021 - val_root_mean_squared_error: 0.4264\n",
      "Epoch 90/100\n",
      "11/11 [==============================] - 0s 6ms/step - loss: 0.6630 - root_mean_squared_error: 0.3444 - val_loss: 0.8010 - val_root_mean_squared_error: 0.4259\n",
      "Epoch 91/100\n",
      "11/11 [==============================] - 0s 6ms/step - loss: 0.6798 - root_mean_squared_error: 0.3554 - val_loss: 0.8006 - val_root_mean_squared_error: 0.4256\n",
      "Epoch 92/100\n",
      "11/11 [==============================] - 0s 5ms/step - loss: 0.6686 - root_mean_squared_error: 0.3482 - val_loss: 0.7993 - val_root_mean_squared_error: 0.4249\n",
      "Epoch 93/100\n",
      "11/11 [==============================] - 0s 7ms/step - loss: 0.6565 - root_mean_squared_error: 0.3398 - val_loss: 0.7990 - val_root_mean_squared_error: 0.4246\n",
      "Epoch 94/100\n",
      "11/11 [==============================] - 0s 7ms/step - loss: 0.6611 - root_mean_squared_error: 0.3426 - val_loss: 0.7986 - val_root_mean_squared_error: 0.4244\n",
      "Epoch 95/100\n",
      "11/11 [==============================] - 0s 6ms/step - loss: 0.6560 - root_mean_squared_error: 0.3396 - val_loss: 0.7977 - val_root_mean_squared_error: 0.4240\n",
      "Epoch 96/100\n"
     ]
    },
    {
     "name": "stdout",
     "output_type": "stream",
     "text": [
      "11/11 [==============================] - 0s 6ms/step - loss: 0.6703 - root_mean_squared_error: 0.3495 - val_loss: 0.7988 - val_root_mean_squared_error: 0.4244\n",
      "Epoch 97/100\n",
      "11/11 [==============================] - 0s 6ms/step - loss: 0.6593 - root_mean_squared_error: 0.3411 - val_loss: 0.7996 - val_root_mean_squared_error: 0.4249\n",
      "Epoch 98/100\n",
      "11/11 [==============================] - 0s 6ms/step - loss: 0.6571 - root_mean_squared_error: 0.3397 - val_loss: 0.7996 - val_root_mean_squared_error: 0.4249\n",
      "Epoch 99/100\n",
      "11/11 [==============================] - 0s 6ms/step - loss: 0.6568 - root_mean_squared_error: 0.3400 - val_loss: 0.8003 - val_root_mean_squared_error: 0.4253\n",
      "Epoch 100/100\n",
      "11/11 [==============================] - 0s 6ms/step - loss: 0.6716 - root_mean_squared_error: 0.3499 - val_loss: 0.8000 - val_root_mean_squared_error: 0.4251\n"
     ]
    }
   ],
   "source": [
    "# Memulai training\n",
    " \n",
    "history = model.fit(\n",
    "    x = x_train,\n",
    "    y = y_train,\n",
    "    epochs = 100,\n",
    "    validation_data = (x_val, y_val),\n",
    "    callbacks = [myCallback()]\n",
    ")"
   ]
  },
  {
   "cell_type": "code",
   "execution_count": 35,
   "id": "76765814",
   "metadata": {},
   "outputs": [
    {
     "data": {
      "image/png": "[encoded data removed]",
      "text/plain": [
       "<Figure size 432x288 with 1 Axes>"
      ]
     },
     "metadata": {},
     "output_type": "display_data"
    }
   ],
   "source": [
    "# Menampilkan plot loss dan validation\n",
    "\n",
    "plt.plot(history.history['root_mean_squared_error'])\n",
    "plt.plot(history.history['val_root_mean_squared_error'])\n",
    "plt.title('model_metrics')\n",
    "plt.ylabel('root_mean_squared_error')\n",
    "plt.xlabel('epoch')\n",
    "plt.ylim(ymin=0, ymax=0.9)\n",
    "plt.legend(['train', 'test'], loc='center left')\n",
    "plt.show()"
   ]
  },
  {
   "cell_type": "markdown",
   "id": "20f05ac8",
   "metadata": {},
   "source": [
    "# MEMBUAT TOP 5 REKOMENDASI"
   ]
  },
  {
   "cell_type": "code",
   "execution_count": 36,
   "id": "1d490ce0",
   "metadata": {},
   "outputs": [],
   "source": [
    "# Menyiapkan dataframe\n",
    "place_df = place[['Place_Id','Place_Name','Category','Rating','Price','Image']]\n",
    "place_df.columns = ['id','place_name','category','rating','price','image']\n",
    "df = rating.copy()"
   ]
  },
  {
   "cell_type": "code",
   "execution_count": 37,
   "id": "26da7702",
   "metadata": {},
   "outputs": [],
   "source": [
    "# Mengambil sample user\n",
    "user_id = df.User_Id.sample(1).iloc[0]\n",
    "place_visited_by_user = df[df.User_Id == user_id]"
   ]
  },
  {
   "cell_type": "code",
   "execution_count": 38,
   "id": "46ec8731",
   "metadata": {},
   "outputs": [],
   "source": [
    "# Membuat data lokasi yang belum dikunjungi user\n",
    "place_not_visited = place_df[~place_df['id'].isin(place_visited_by_user.Place_Id.values)]['id'] \n",
    "place_not_visited = list(\n",
    "    set(place_not_visited)\n",
    "    .intersection(set(place_to_place_encoded.keys()))\n",
    ")\n",
    " \n",
    "place_not_visited = [[place_to_place_encoded.get(x)] for x in place_not_visited]\n",
    "user_encoder = user_to_user_encoded.get(user_id)\n",
    "user_place_array = np.hstack(\n",
    "    ([[user_encoder]] * len(place_not_visited), place_not_visited)\n",
    ")"
   ]
  },
  {
   "cell_type": "code",
   "execution_count": 39,
   "id": "9c776472",
   "metadata": {},
   "outputs": [
    {
     "name": "stdout",
     "output_type": "stream",
     "text": [
      "1/1 [==============================] - 0s 144ms/step\n",
      "\n",
      "------------------------------------------------------------\n",
      "Top 5 place recommendation\n",
      "------------------------------------------------------------\n",
      "1 . The Keranjang Bali \n",
      "     Rekreasi , Harga Tiket Masuk  150000 , Rating Wisata  4.0 , https://arsitagx-master.s3.ap-southeast-1.amazonaws.com/img-medium/22921/12577/cata-interiors-the-keranjang-bali1571046637-m.jpeg \n",
      "\n",
      "2 . Garuda Wisnu Kencana \n",
      "     Sejarah , Harga Tiket Masuk  95000 , Rating Wisata  4.5 , https://img.jakpost.net/c/2018/11/28/2018_11_28_59559_1543399591._large.jpg \n",
      "\n",
      "3 . Pantai Tanjung Benoa \n",
      "     Bahari , Harga Tiket Masuk  50000 , Rating Wisata  4.5 , https://www.referensiwisata.com/wp-content/uploads/2019/05/keindahan-pantai-tanjung-benoa-bali.png \n",
      "\n",
      "4 . Sawah Terasering Tegalalang \n",
      "     Cagar Alam , Harga Tiket Masuk  0 , Rating Wisata  4.5 , https://www.baligetaway.co.id/wp-content/uploads/2014/10/wisata-tegalalang-sawah-terasering.jpg \n",
      "\n",
      "5 . Air Terjun Sekumpul \n",
      "     Cagar Alam , Harga Tiket Masuk  50000 , Rating Wisata  4.5 , https://travelspromo.com/wp-content/uploads/2020/03/Air-Terjun-Sekumpul-Buleleng-Bali-memiliki-dua-buah-aliran-air-terjun-dengan-sumber-air-yang-berbeda-waterfall_sekumpul-e1584965595347.jpg \n",
      "\n",
      "=============================================\n"
     ]
    }
   ],
   "source": [
    "# Mengambil top 5 recommendation\n",
    "ratings = model.predict(user_place_array).flatten()\n",
    "top_ratings_indices = ratings.argsort()[-5:][::-1]\n",
    "recommended_place_ids = [\n",
    "    place_encoded_to_place.get(place_not_visited[x][0]) for x in top_ratings_indices\n",
    "]\n",
    " \n",
    "\n",
    "print('')\n",
    "print('----' * 15)\n",
    "print('Top 5 place recommendation')\n",
    "print('----' * 15)\n",
    " \n",
    "recommended_place = place_df[place_df['id'].isin(recommended_place_ids)]\n",
    "for row, i in zip(recommended_place.itertuples(), range(1,8)):\n",
    "    print(i,'.', row.place_name, '\\n    ', row.category, ',', 'Harga Tiket Masuk ', row.price, ',', 'Rating Wisata ',row.rating, ',', row.image,'\\n')\n",
    "\n",
    "print('==='*15)"
   ]
  },
  {
   "cell_type": "code",
   "execution_count": 40,
   "id": "c6bffe46",
   "metadata": {},
   "outputs": [],
   "source": [
    "# recommended = recommended_place.to_csv('rekomendasi.csv', index=False)"
   ]
  },
  {
   "cell_type": "code",
   "execution_count": 41,
   "id": "d3d76092",
   "metadata": {},
   "outputs": [],
   "source": [
    "# pd.read_csv('rekomendasi.csv')"
   ]
  },
  {
   "cell_type": "code",
   "execution_count": 42,
   "id": "73e885bc",
   "metadata": {
    "scrolled": true
   },
   "outputs": [
    {
     "name": "stdout",
     "output_type": "stream",
     "text": [
      "INFO:tensorflow:Assets written to: ram://4b3ede25-0171-42ed-9c01-ed0e227f201c/assets\n"
     ]
    }
   ],
   "source": [
    "import pickle\n",
    "filename = '../../model/wiata_bali.pkl'\n",
    "pickle.dump(model, open(filename, 'wb'))"
   ]
  },
  {
   "cell_type": "code",
   "execution_count": 43,
   "id": "8ee416b2",
   "metadata": {},
   "outputs": [
    {
     "data": {
      "text/plain": [
       "<keras.saving.saved_model.load.RecommenderNet at 0x7f1a0e2bfc40>"
      ]
     },
     "execution_count": 43,
     "metadata": {},
     "output_type": "execute_result"
    }
   ],
   "source": [
    "loaded_model = pickle.load(open(filename, 'rb'))\n",
    "loaded_model"
   ]
  },
  {
   "cell_type": "code",
   "execution_count": null,
   "id": "b266f6fd",
   "metadata": {},
   "outputs": [],
   "source": []
  }
 ],
 "metadata": {
  "kernelspec": {
   "display_name": "Python 3 (ipykernel)",
   "language": "python",
   "name": "python3"
  },
  "language_info": {
   "codemirror_mode": {
    "name": "ipython",
    "version": 3
   },
   "file_extension": ".py",
   "mimetype": "text/x-python",
   "name": "python",
   "nbconvert_exporter": "python",
   "pygments_lexer": "ipython3",
   "version": "3.8.10"
  }
 },
 "nbformat": 4,
 "nbformat_minor": 5
}
