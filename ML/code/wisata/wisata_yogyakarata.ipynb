{
  "cells": [
    {
      "cell_type": "code",
      "execution_count": 1,
      "id": "78b6bc53",
      "metadata": {
        "id": "78b6bc53"
      },
      "outputs": [],
      "source": [
        "import numpy as np\n",
        "import pandas as pd \n",
        "\n",
        "# Untuk visualisasi data\n",
        "import seaborn as sns\n",
        "import matplotlib.pyplot as plt\n",
        "\n",
        "%matplotlib inline\n",
        "sns.set_palette('Set1')\n",
        "sns.set()\n",
        "\n",
        "# Untuk pemodelan\n",
        "import tensorflow as tf\n",
        "from tensorflow import keras\n",
        "from tensorflow.keras import layers\n",
        "\n",
        "# Untuk menghilangkan warnings saat plotting seaborn\n",
        "import warnings\n",
        "warnings.filterwarnings('ignore')"
      ]
    },
    {
      "cell_type": "code",
      "execution_count": 26,
      "id": "8acc07f3",
      "metadata": {
        "id": "8acc07f3"
      },
      "outputs": [],
      "source": [
        "# package = pd.read_csv('../../data/wisata/package_tourism.csv')\n",
        "rating = pd.read_csv('rating_wisata_yogyakarta.csv')\n",
        "place = pd.read_csv('wisata.csv')\n",
        "user = pd.read_csv('user.csv')"
      ]
    },
    {
      "cell_type": "code",
      "execution_count": 27,
      "id": "5534c700",
      "metadata": {
        "colab": {
          "base_uri": "https://localhost:8080/",
          "height": 652
        },
        "id": "5534c700",
        "outputId": "ba591a99-248d-422d-cee0-b9b144dc8eff"
      },
      "outputs": [
        {
          "output_type": "execute_result",
          "data": {
            "text/plain": [
              "   Place_Id            Place_Name  \\\n",
              "0         1    The Keranjang Bali   \n",
              "1         2        Bukit Campuhan   \n",
              "2         3        Pantai Pandawa   \n",
              "3         4         Waterbom Bali   \n",
              "4         5  Garuda Wisnu Kencana   \n",
              "\n",
              "                                         Description    Category  City  \\\n",
              "0  Disini Anda akan dapat menemukan banyak spot y...    Rekreasi  Bali   \n",
              "1  Perbukitan yang hijau dipenuhi dengan pepohona...  Cagar Alam  Bali   \n",
              "2  Pantai Pandawa yang berpasir putih ini cukup p...      Bahari  Bali   \n",
              "3  Wisata taman air di Pulau Bali ini sudah 3 tah...      Bahari  Bali   \n",
              "4  Garuda Wisnu Kencana atau GWK merupakan salah ...     Sejarah  Bali   \n",
              "\n",
              "   Rating                            Coordinate      Lat       Long   Price  \\\n",
              "0     4.0  {'lat' : -8731451, 'lng': 115178175}  -873145  115178175  150000   \n",
              "1     NaN     {'lat' :-873145, 'lng: 11525503}   -849933   11525503       0   \n",
              "2     4.6    {'lat' : -884527, 'lng': 11518707}  -884527   11518707    8000   \n",
              "3     4.7   {'lat' : -872857, 'lng' : 11516938}  -872857   11516938  220000   \n",
              "4     4.5   {'lat' : -881041, 'lng' : 11516760}  -881041   11516760   95000   \n",
              "\n",
              "                                               Image  \n",
              "0  https://arsitagx-master.s3.ap-southeast-1.amaz...  \n",
              "1  https://3.bp.blogspot.com/-BJETbctdU3k/VcF9eXe...  \n",
              "2  https://arifsetiawan.com/wp-content/uploads/20...  \n",
              "3  https://www.whitewaterwest.com/wp-content/uplo...  \n",
              "4  https://img.jakpost.net/c/2018/11/28/2018_11_2...  "
            ],
            "text/html": [
              "\n",
              "  <div id=\"df-eeb28f7c-f7c2-497b-a4f8-6a50ec834d3a\">\n",
              "    <div class=\"colab-df-container\">\n",
              "      <div>\n",
              "<style scoped>\n",
              "    .dataframe tbody tr th:only-of-type {\n",
              "        vertical-align: middle;\n",
              "    }\n",
              "\n",
              "    .dataframe tbody tr th {\n",
              "        vertical-align: top;\n",
              "    }\n",
              "\n",
              "    .dataframe thead th {\n",
              "        text-align: right;\n",
              "    }\n",
              "</style>\n",
              "<table border=\"1\" class=\"dataframe\">\n",
              "  <thead>\n",
              "    <tr style=\"text-align: right;\">\n",
              "      <th></th>\n",
              "      <th>Place_Id</th>\n",
              "      <th>Place_Name</th>\n",
              "      <th>Description</th>\n",
              "      <th>Category</th>\n",
              "      <th>City</th>\n",
              "      <th>Rating</th>\n",
              "      <th>Coordinate</th>\n",
              "      <th>Lat</th>\n",
              "      <th>Long</th>\n",
              "      <th>Price</th>\n",
              "      <th>Image</th>\n",
              "    </tr>\n",
              "  </thead>\n",
              "  <tbody>\n",
              "    <tr>\n",
              "      <th>0</th>\n",
              "      <td>1</td>\n",
              "      <td>The Keranjang Bali</td>\n",
              "      <td>Disini Anda akan dapat menemukan banyak spot y...</td>\n",
              "      <td>Rekreasi</td>\n",
              "      <td>Bali</td>\n",
              "      <td>4.0</td>\n",
              "      <td>{'lat' : -8731451, 'lng': 115178175}</td>\n",
              "      <td>-873145</td>\n",
              "      <td>115178175</td>\n",
              "      <td>150000</td>\n",
              "      <td>https://arsitagx-master.s3.ap-southeast-1.amaz...</td>\n",
              "    </tr>\n",
              "    <tr>\n",
              "      <th>1</th>\n",
              "      <td>2</td>\n",
              "      <td>Bukit Campuhan</td>\n",
              "      <td>Perbukitan yang hijau dipenuhi dengan pepohona...</td>\n",
              "      <td>Cagar Alam</td>\n",
              "      <td>Bali</td>\n",
              "      <td>NaN</td>\n",
              "      <td>{'lat' :-873145, 'lng: 11525503}</td>\n",
              "      <td>-849933</td>\n",
              "      <td>11525503</td>\n",
              "      <td>0</td>\n",
              "      <td>https://3.bp.blogspot.com/-BJETbctdU3k/VcF9eXe...</td>\n",
              "    </tr>\n",
              "    <tr>\n",
              "      <th>2</th>\n",
              "      <td>3</td>\n",
              "      <td>Pantai Pandawa</td>\n",
              "      <td>Pantai Pandawa yang berpasir putih ini cukup p...</td>\n",
              "      <td>Bahari</td>\n",
              "      <td>Bali</td>\n",
              "      <td>4.6</td>\n",
              "      <td>{'lat' : -884527, 'lng': 11518707}</td>\n",
              "      <td>-884527</td>\n",
              "      <td>11518707</td>\n",
              "      <td>8000</td>\n",
              "      <td>https://arifsetiawan.com/wp-content/uploads/20...</td>\n",
              "    </tr>\n",
              "    <tr>\n",
              "      <th>3</th>\n",
              "      <td>4</td>\n",
              "      <td>Waterbom Bali</td>\n",
              "      <td>Wisata taman air di Pulau Bali ini sudah 3 tah...</td>\n",
              "      <td>Bahari</td>\n",
              "      <td>Bali</td>\n",
              "      <td>4.7</td>\n",
              "      <td>{'lat' : -872857, 'lng' : 11516938}</td>\n",
              "      <td>-872857</td>\n",
              "      <td>11516938</td>\n",
              "      <td>220000</td>\n",
              "      <td>https://www.whitewaterwest.com/wp-content/uplo...</td>\n",
              "    </tr>\n",
              "    <tr>\n",
              "      <th>4</th>\n",
              "      <td>5</td>\n",
              "      <td>Garuda Wisnu Kencana</td>\n",
              "      <td>Garuda Wisnu Kencana atau GWK merupakan salah ...</td>\n",
              "      <td>Sejarah</td>\n",
              "      <td>Bali</td>\n",
              "      <td>4.5</td>\n",
              "      <td>{'lat' : -881041, 'lng' : 11516760}</td>\n",
              "      <td>-881041</td>\n",
              "      <td>11516760</td>\n",
              "      <td>95000</td>\n",
              "      <td>https://img.jakpost.net/c/2018/11/28/2018_11_2...</td>\n",
              "    </tr>\n",
              "  </tbody>\n",
              "</table>\n",
              "</div>\n",
              "      <button class=\"colab-df-convert\" onclick=\"convertToInteractive('df-eeb28f7c-f7c2-497b-a4f8-6a50ec834d3a')\"\n",
              "              title=\"Convert this dataframe to an interactive table.\"\n",
              "              style=\"display:none;\">\n",
              "        \n",
              "  <svg xmlns=\"http://www.w3.org/2000/svg\" height=\"24px\"viewBox=\"0 0 24 24\"\n",
              "       width=\"24px\">\n",
              "    <path d=\"M0 0h24v24H0V0z\" fill=\"none\"/>\n",
              "    <path d=\"M18.56 5.44l.94 2.06.94-2.06 2.06-.94-2.06-.94-.94-2.06-.94 2.06-2.06.94zm-11 1L8.5 8.5l.94-2.06 2.06-.94-2.06-.94L8.5 2.5l-.94 2.06-2.06.94zm10 10l.94 2.06.94-2.06 2.06-.94-2.06-.94-.94-2.06-.94 2.06-2.06.94z\"/><path d=\"M17.41 7.96l-1.37-1.37c-.4-.4-.92-.59-1.43-.59-.52 0-1.04.2-1.43.59L10.3 9.45l-7.72 7.72c-.78.78-.78 2.05 0 2.83L4 21.41c.39.39.9.59 1.41.59.51 0 1.02-.2 1.41-.59l7.78-7.78 2.81-2.81c.8-.78.8-2.07 0-2.86zM5.41 20L4 18.59l7.72-7.72 1.47 1.35L5.41 20z\"/>\n",
              "  </svg>\n",
              "      </button>\n",
              "      \n",
              "  <style>\n",
              "    .colab-df-container {\n",
              "      display:flex;\n",
              "      flex-wrap:wrap;\n",
              "      gap: 12px;\n",
              "    }\n",
              "\n",
              "    .colab-df-convert {\n",
              "      background-color: #E8F0FE;\n",
              "      border: none;\n",
              "      border-radius: 50%;\n",
              "      cursor: pointer;\n",
              "      display: none;\n",
              "      fill: #1967D2;\n",
              "      height: 32px;\n",
              "      padding: 0 0 0 0;\n",
              "      width: 32px;\n",
              "    }\n",
              "\n",
              "    .colab-df-convert:hover {\n",
              "      background-color: #E2EBFA;\n",
              "      box-shadow: 0px 1px 2px rgba(60, 64, 67, 0.3), 0px 1px 3px 1px rgba(60, 64, 67, 0.15);\n",
              "      fill: #174EA6;\n",
              "    }\n",
              "\n",
              "    [theme=dark] .colab-df-convert {\n",
              "      background-color: #3B4455;\n",
              "      fill: #D2E3FC;\n",
              "    }\n",
              "\n",
              "    [theme=dark] .colab-df-convert:hover {\n",
              "      background-color: #434B5C;\n",
              "      box-shadow: 0px 1px 3px 1px rgba(0, 0, 0, 0.15);\n",
              "      filter: drop-shadow(0px 1px 2px rgba(0, 0, 0, 0.3));\n",
              "      fill: #FFFFFF;\n",
              "    }\n",
              "  </style>\n",
              "\n",
              "      <script>\n",
              "        const buttonEl =\n",
              "          document.querySelector('#df-eeb28f7c-f7c2-497b-a4f8-6a50ec834d3a button.colab-df-convert');\n",
              "        buttonEl.style.display =\n",
              "          google.colab.kernel.accessAllowed ? 'block' : 'none';\n",
              "\n",
              "        async function convertToInteractive(key) {\n",
              "          const element = document.querySelector('#df-eeb28f7c-f7c2-497b-a4f8-6a50ec834d3a');\n",
              "          const dataTable =\n",
              "            await google.colab.kernel.invokeFunction('convertToInteractive',\n",
              "                                                     [key], {});\n",
              "          if (!dataTable) return;\n",
              "\n",
              "          const docLinkHtml = 'Like what you see? Visit the ' +\n",
              "            '<a target=\"_blank\" href=https://colab.research.google.com/notebooks/data_table.ipynb>data table notebook</a>'\n",
              "            + ' to learn more about interactive tables.';\n",
              "          element.innerHTML = '';\n",
              "          dataTable['output_type'] = 'display_data';\n",
              "          await google.colab.output.renderOutput(dataTable, element);\n",
              "          const docLink = document.createElement('div');\n",
              "          docLink.innerHTML = docLinkHtml;\n",
              "          element.appendChild(docLink);\n",
              "        }\n",
              "      </script>\n",
              "    </div>\n",
              "  </div>\n",
              "  "
            ]
          },
          "metadata": {},
          "execution_count": 27
        }
      ],
      "source": [
        "# Melihat gambaran data place\n",
        "\n",
        "place.head()"
      ]
    },
    {
      "cell_type": "code",
      "execution_count": 28,
      "id": "46880410",
      "metadata": {
        "colab": {
          "base_uri": "https://localhost:8080/",
          "height": 565
        },
        "id": "46880410",
        "outputId": "736c618b-5859-4d9f-feec-ed0040f27dbd"
      },
      "outputs": [
        {
          "output_type": "execute_result",
          "data": {
            "text/plain": [
              "    Place_Id                           Place_Name  \\\n",
              "20        21              Taman Pintar Yogyakarta   \n",
              "21        22                   Keraton Yogyakarta   \n",
              "22        23           Sindu Kusuma Edupark (SKE)   \n",
              "23        24  Museum Benteng Vredeburg Yogyakarta   \n",
              "24        25                 De Mata Museum Jogja   \n",
              "\n",
              "                                          Description       Category  \\\n",
              "20  Taman Pintar Yogyakarta (bahasa Jawa: Hanacara...  Taman Hiburan   \n",
              "21  Keraton Ngayogyakarta Hadiningrat atau Keraton...         Budaya   \n",
              "22  Sindu Kusuma Edupark (SKE) merupakan sebuah de...  Taman Hiburan   \n",
              "23  Museum Benteng Vredeburg (bahasa Jawa: ꦩꦸꦱꦶꦪꦸꦩ...         Budaya   \n",
              "24  Museum De Mata merupakan salah satu museum yan...         Budaya   \n",
              "\n",
              "          City  Rating                                       Coordinate  \\\n",
              "20  Yogyakarta     4.5  {'lat': -7.800671500000001, 'lng': 110.3676551}   \n",
              "21  Yogyakarta     4.6          {'lat': -7.8052845, 'lng': 110.3642031}   \n",
              "22  Yogyakarta     4.2  {'lat': -7.767297300000001, 'lng': 110.3542486}   \n",
              "23  Yogyakarta     4.6  {'lat': -7.800201599999999, 'lng': 110.3663044}   \n",
              "24  Yogyakarta     4.4  {'lat': -7.816315599999999, 'lng': 110.3871442}   \n",
              "\n",
              "            Lat        Long  Price  \\\n",
              "20  -78.006.715  1103676551   6000   \n",
              "21  -78.052.845  1103642031  15000   \n",
              "22  -77.672.973  1103542486  20000   \n",
              "23  -78.002.016  1103663044   3000   \n",
              "24  -78.163.156  1103871442  50000   \n",
              "\n",
              "                                                Image  \n",
              "20  https://idetrips.com/wp-content/uploads/2018/0...  \n",
              "21  http://www.justgoindonesia.com/wp-content/uplo...  \n",
              "22  https://www.sobatjogja.com/wp-content/uploads/...  \n",
              "23  https://www.dejogjaadventure.com/wp-content/up...  \n",
              "24  https://sanjayatour.com/wp-content/uploads/202...  "
            ],
            "text/html": [
              "\n",
              "  <div id=\"df-081b589a-d58f-4d41-8843-9ac0fa52432e\">\n",
              "    <div class=\"colab-df-container\">\n",
              "      <div>\n",
              "<style scoped>\n",
              "    .dataframe tbody tr th:only-of-type {\n",
              "        vertical-align: middle;\n",
              "    }\n",
              "\n",
              "    .dataframe tbody tr th {\n",
              "        vertical-align: top;\n",
              "    }\n",
              "\n",
              "    .dataframe thead th {\n",
              "        text-align: right;\n",
              "    }\n",
              "</style>\n",
              "<table border=\"1\" class=\"dataframe\">\n",
              "  <thead>\n",
              "    <tr style=\"text-align: right;\">\n",
              "      <th></th>\n",
              "      <th>Place_Id</th>\n",
              "      <th>Place_Name</th>\n",
              "      <th>Description</th>\n",
              "      <th>Category</th>\n",
              "      <th>City</th>\n",
              "      <th>Rating</th>\n",
              "      <th>Coordinate</th>\n",
              "      <th>Lat</th>\n",
              "      <th>Long</th>\n",
              "      <th>Price</th>\n",
              "      <th>Image</th>\n",
              "    </tr>\n",
              "  </thead>\n",
              "  <tbody>\n",
              "    <tr>\n",
              "      <th>20</th>\n",
              "      <td>21</td>\n",
              "      <td>Taman Pintar Yogyakarta</td>\n",
              "      <td>Taman Pintar Yogyakarta (bahasa Jawa: Hanacara...</td>\n",
              "      <td>Taman Hiburan</td>\n",
              "      <td>Yogyakarta</td>\n",
              "      <td>4.5</td>\n",
              "      <td>{'lat': -7.800671500000001, 'lng': 110.3676551}</td>\n",
              "      <td>-78.006.715</td>\n",
              "      <td>1103676551</td>\n",
              "      <td>6000</td>\n",
              "      <td>https://idetrips.com/wp-content/uploads/2018/0...</td>\n",
              "    </tr>\n",
              "    <tr>\n",
              "      <th>21</th>\n",
              "      <td>22</td>\n",
              "      <td>Keraton Yogyakarta</td>\n",
              "      <td>Keraton Ngayogyakarta Hadiningrat atau Keraton...</td>\n",
              "      <td>Budaya</td>\n",
              "      <td>Yogyakarta</td>\n",
              "      <td>4.6</td>\n",
              "      <td>{'lat': -7.8052845, 'lng': 110.3642031}</td>\n",
              "      <td>-78.052.845</td>\n",
              "      <td>1103642031</td>\n",
              "      <td>15000</td>\n",
              "      <td>http://www.justgoindonesia.com/wp-content/uplo...</td>\n",
              "    </tr>\n",
              "    <tr>\n",
              "      <th>22</th>\n",
              "      <td>23</td>\n",
              "      <td>Sindu Kusuma Edupark (SKE)</td>\n",
              "      <td>Sindu Kusuma Edupark (SKE) merupakan sebuah de...</td>\n",
              "      <td>Taman Hiburan</td>\n",
              "      <td>Yogyakarta</td>\n",
              "      <td>4.2</td>\n",
              "      <td>{'lat': -7.767297300000001, 'lng': 110.3542486}</td>\n",
              "      <td>-77.672.973</td>\n",
              "      <td>1103542486</td>\n",
              "      <td>20000</td>\n",
              "      <td>https://www.sobatjogja.com/wp-content/uploads/...</td>\n",
              "    </tr>\n",
              "    <tr>\n",
              "      <th>23</th>\n",
              "      <td>24</td>\n",
              "      <td>Museum Benteng Vredeburg Yogyakarta</td>\n",
              "      <td>Museum Benteng Vredeburg (bahasa Jawa: ꦩꦸꦱꦶꦪꦸꦩ...</td>\n",
              "      <td>Budaya</td>\n",
              "      <td>Yogyakarta</td>\n",
              "      <td>4.6</td>\n",
              "      <td>{'lat': -7.800201599999999, 'lng': 110.3663044}</td>\n",
              "      <td>-78.002.016</td>\n",
              "      <td>1103663044</td>\n",
              "      <td>3000</td>\n",
              "      <td>https://www.dejogjaadventure.com/wp-content/up...</td>\n",
              "    </tr>\n",
              "    <tr>\n",
              "      <th>24</th>\n",
              "      <td>25</td>\n",
              "      <td>De Mata Museum Jogja</td>\n",
              "      <td>Museum De Mata merupakan salah satu museum yan...</td>\n",
              "      <td>Budaya</td>\n",
              "      <td>Yogyakarta</td>\n",
              "      <td>4.4</td>\n",
              "      <td>{'lat': -7.816315599999999, 'lng': 110.3871442}</td>\n",
              "      <td>-78.163.156</td>\n",
              "      <td>1103871442</td>\n",
              "      <td>50000</td>\n",
              "      <td>https://sanjayatour.com/wp-content/uploads/202...</td>\n",
              "    </tr>\n",
              "  </tbody>\n",
              "</table>\n",
              "</div>\n",
              "      <button class=\"colab-df-convert\" onclick=\"convertToInteractive('df-081b589a-d58f-4d41-8843-9ac0fa52432e')\"\n",
              "              title=\"Convert this dataframe to an interactive table.\"\n",
              "              style=\"display:none;\">\n",
              "        \n",
              "  <svg xmlns=\"http://www.w3.org/2000/svg\" height=\"24px\"viewBox=\"0 0 24 24\"\n",
              "       width=\"24px\">\n",
              "    <path d=\"M0 0h24v24H0V0z\" fill=\"none\"/>\n",
              "    <path d=\"M18.56 5.44l.94 2.06.94-2.06 2.06-.94-2.06-.94-.94-2.06-.94 2.06-2.06.94zm-11 1L8.5 8.5l.94-2.06 2.06-.94-2.06-.94L8.5 2.5l-.94 2.06-2.06.94zm10 10l.94 2.06.94-2.06 2.06-.94-2.06-.94-.94-2.06-.94 2.06-2.06.94z\"/><path d=\"M17.41 7.96l-1.37-1.37c-.4-.4-.92-.59-1.43-.59-.52 0-1.04.2-1.43.59L10.3 9.45l-7.72 7.72c-.78.78-.78 2.05 0 2.83L4 21.41c.39.39.9.59 1.41.59.51 0 1.02-.2 1.41-.59l7.78-7.78 2.81-2.81c.8-.78.8-2.07 0-2.86zM5.41 20L4 18.59l7.72-7.72 1.47 1.35L5.41 20z\"/>\n",
              "  </svg>\n",
              "      </button>\n",
              "      \n",
              "  <style>\n",
              "    .colab-df-container {\n",
              "      display:flex;\n",
              "      flex-wrap:wrap;\n",
              "      gap: 12px;\n",
              "    }\n",
              "\n",
              "    .colab-df-convert {\n",
              "      background-color: #E8F0FE;\n",
              "      border: none;\n",
              "      border-radius: 50%;\n",
              "      cursor: pointer;\n",
              "      display: none;\n",
              "      fill: #1967D2;\n",
              "      height: 32px;\n",
              "      padding: 0 0 0 0;\n",
              "      width: 32px;\n",
              "    }\n",
              "\n",
              "    .colab-df-convert:hover {\n",
              "      background-color: #E2EBFA;\n",
              "      box-shadow: 0px 1px 2px rgba(60, 64, 67, 0.3), 0px 1px 3px 1px rgba(60, 64, 67, 0.15);\n",
              "      fill: #174EA6;\n",
              "    }\n",
              "\n",
              "    [theme=dark] .colab-df-convert {\n",
              "      background-color: #3B4455;\n",
              "      fill: #D2E3FC;\n",
              "    }\n",
              "\n",
              "    [theme=dark] .colab-df-convert:hover {\n",
              "      background-color: #434B5C;\n",
              "      box-shadow: 0px 1px 3px 1px rgba(0, 0, 0, 0.15);\n",
              "      filter: drop-shadow(0px 1px 2px rgba(0, 0, 0, 0.3));\n",
              "      fill: #FFFFFF;\n",
              "    }\n",
              "  </style>\n",
              "\n",
              "      <script>\n",
              "        const buttonEl =\n",
              "          document.querySelector('#df-081b589a-d58f-4d41-8843-9ac0fa52432e button.colab-df-convert');\n",
              "        buttonEl.style.display =\n",
              "          google.colab.kernel.accessAllowed ? 'block' : 'none';\n",
              "\n",
              "        async function convertToInteractive(key) {\n",
              "          const element = document.querySelector('#df-081b589a-d58f-4d41-8843-9ac0fa52432e');\n",
              "          const dataTable =\n",
              "            await google.colab.kernel.invokeFunction('convertToInteractive',\n",
              "                                                     [key], {});\n",
              "          if (!dataTable) return;\n",
              "\n",
              "          const docLinkHtml = 'Like what you see? Visit the ' +\n",
              "            '<a target=\"_blank\" href=https://colab.research.google.com/notebooks/data_table.ipynb>data table notebook</a>'\n",
              "            + ' to learn more about interactive tables.';\n",
              "          element.innerHTML = '';\n",
              "          dataTable['output_type'] = 'display_data';\n",
              "          await google.colab.output.renderOutput(dataTable, element);\n",
              "          const docLink = document.createElement('div');\n",
              "          docLink.innerHTML = docLinkHtml;\n",
              "          element.appendChild(docLink);\n",
              "        }\n",
              "      </script>\n",
              "    </div>\n",
              "  </div>\n",
              "  "
            ]
          },
          "metadata": {},
          "execution_count": 28
        }
      ],
      "source": [
        "# Merubah data agar hanya dari Kota Yogyakarta\n",
        "\n",
        "place = place[place['City']=='Yogyakarta']\n",
        "place.head()"
      ]
    },
    {
      "cell_type": "code",
      "execution_count": 29,
      "id": "26254753",
      "metadata": {
        "colab": {
          "base_uri": "https://localhost:8080/",
          "height": 206
        },
        "id": "26254753",
        "outputId": "5d25e96e-be50-4d84-8d61-a9ce58b094e0"
      },
      "outputs": [
        {
          "output_type": "execute_result",
          "data": {
            "text/plain": [
              "   Unnamed: 0  User_Id  Place_Id  Place_Ratings\n",
              "0           0        1        45              3\n",
              "1           1        1        94              2\n",
              "2           2        1        79              5\n",
              "3           3        1        47              3\n",
              "4           4        1        70              4"
            ],
            "text/html": [
              "\n",
              "  <div id=\"df-866107ea-fe61-4090-beb6-971e8163b021\">\n",
              "    <div class=\"colab-df-container\">\n",
              "      <div>\n",
              "<style scoped>\n",
              "    .dataframe tbody tr th:only-of-type {\n",
              "        vertical-align: middle;\n",
              "    }\n",
              "\n",
              "    .dataframe tbody tr th {\n",
              "        vertical-align: top;\n",
              "    }\n",
              "\n",
              "    .dataframe thead th {\n",
              "        text-align: right;\n",
              "    }\n",
              "</style>\n",
              "<table border=\"1\" class=\"dataframe\">\n",
              "  <thead>\n",
              "    <tr style=\"text-align: right;\">\n",
              "      <th></th>\n",
              "      <th>Unnamed: 0</th>\n",
              "      <th>User_Id</th>\n",
              "      <th>Place_Id</th>\n",
              "      <th>Place_Ratings</th>\n",
              "    </tr>\n",
              "  </thead>\n",
              "  <tbody>\n",
              "    <tr>\n",
              "      <th>0</th>\n",
              "      <td>0</td>\n",
              "      <td>1</td>\n",
              "      <td>45</td>\n",
              "      <td>3</td>\n",
              "    </tr>\n",
              "    <tr>\n",
              "      <th>1</th>\n",
              "      <td>1</td>\n",
              "      <td>1</td>\n",
              "      <td>94</td>\n",
              "      <td>2</td>\n",
              "    </tr>\n",
              "    <tr>\n",
              "      <th>2</th>\n",
              "      <td>2</td>\n",
              "      <td>1</td>\n",
              "      <td>79</td>\n",
              "      <td>5</td>\n",
              "    </tr>\n",
              "    <tr>\n",
              "      <th>3</th>\n",
              "      <td>3</td>\n",
              "      <td>1</td>\n",
              "      <td>47</td>\n",
              "      <td>3</td>\n",
              "    </tr>\n",
              "    <tr>\n",
              "      <th>4</th>\n",
              "      <td>4</td>\n",
              "      <td>1</td>\n",
              "      <td>70</td>\n",
              "      <td>4</td>\n",
              "    </tr>\n",
              "  </tbody>\n",
              "</table>\n",
              "</div>\n",
              "      <button class=\"colab-df-convert\" onclick=\"convertToInteractive('df-866107ea-fe61-4090-beb6-971e8163b021')\"\n",
              "              title=\"Convert this dataframe to an interactive table.\"\n",
              "              style=\"display:none;\">\n",
              "        \n",
              "  <svg xmlns=\"http://www.w3.org/2000/svg\" height=\"24px\"viewBox=\"0 0 24 24\"\n",
              "       width=\"24px\">\n",
              "    <path d=\"M0 0h24v24H0V0z\" fill=\"none\"/>\n",
              "    <path d=\"M18.56 5.44l.94 2.06.94-2.06 2.06-.94-2.06-.94-.94-2.06-.94 2.06-2.06.94zm-11 1L8.5 8.5l.94-2.06 2.06-.94-2.06-.94L8.5 2.5l-.94 2.06-2.06.94zm10 10l.94 2.06.94-2.06 2.06-.94-2.06-.94-.94-2.06-.94 2.06-2.06.94z\"/><path d=\"M17.41 7.96l-1.37-1.37c-.4-.4-.92-.59-1.43-.59-.52 0-1.04.2-1.43.59L10.3 9.45l-7.72 7.72c-.78.78-.78 2.05 0 2.83L4 21.41c.39.39.9.59 1.41.59.51 0 1.02-.2 1.41-.59l7.78-7.78 2.81-2.81c.8-.78.8-2.07 0-2.86zM5.41 20L4 18.59l7.72-7.72 1.47 1.35L5.41 20z\"/>\n",
              "  </svg>\n",
              "      </button>\n",
              "      \n",
              "  <style>\n",
              "    .colab-df-container {\n",
              "      display:flex;\n",
              "      flex-wrap:wrap;\n",
              "      gap: 12px;\n",
              "    }\n",
              "\n",
              "    .colab-df-convert {\n",
              "      background-color: #E8F0FE;\n",
              "      border: none;\n",
              "      border-radius: 50%;\n",
              "      cursor: pointer;\n",
              "      display: none;\n",
              "      fill: #1967D2;\n",
              "      height: 32px;\n",
              "      padding: 0 0 0 0;\n",
              "      width: 32px;\n",
              "    }\n",
              "\n",
              "    .colab-df-convert:hover {\n",
              "      background-color: #E2EBFA;\n",
              "      box-shadow: 0px 1px 2px rgba(60, 64, 67, 0.3), 0px 1px 3px 1px rgba(60, 64, 67, 0.15);\n",
              "      fill: #174EA6;\n",
              "    }\n",
              "\n",
              "    [theme=dark] .colab-df-convert {\n",
              "      background-color: #3B4455;\n",
              "      fill: #D2E3FC;\n",
              "    }\n",
              "\n",
              "    [theme=dark] .colab-df-convert:hover {\n",
              "      background-color: #434B5C;\n",
              "      box-shadow: 0px 1px 3px 1px rgba(0, 0, 0, 0.15);\n",
              "      filter: drop-shadow(0px 1px 2px rgba(0, 0, 0, 0.3));\n",
              "      fill: #FFFFFF;\n",
              "    }\n",
              "  </style>\n",
              "\n",
              "      <script>\n",
              "        const buttonEl =\n",
              "          document.querySelector('#df-866107ea-fe61-4090-beb6-971e8163b021 button.colab-df-convert');\n",
              "        buttonEl.style.display =\n",
              "          google.colab.kernel.accessAllowed ? 'block' : 'none';\n",
              "\n",
              "        async function convertToInteractive(key) {\n",
              "          const element = document.querySelector('#df-866107ea-fe61-4090-beb6-971e8163b021');\n",
              "          const dataTable =\n",
              "            await google.colab.kernel.invokeFunction('convertToInteractive',\n",
              "                                                     [key], {});\n",
              "          if (!dataTable) return;\n",
              "\n",
              "          const docLinkHtml = 'Like what you see? Visit the ' +\n",
              "            '<a target=\"_blank\" href=https://colab.research.google.com/notebooks/data_table.ipynb>data table notebook</a>'\n",
              "            + ' to learn more about interactive tables.';\n",
              "          element.innerHTML = '';\n",
              "          dataTable['output_type'] = 'display_data';\n",
              "          await google.colab.output.renderOutput(dataTable, element);\n",
              "          const docLink = document.createElement('div');\n",
              "          docLink.innerHTML = docLinkHtml;\n",
              "          element.appendChild(docLink);\n",
              "        }\n",
              "      </script>\n",
              "    </div>\n",
              "  </div>\n",
              "  "
            ]
          },
          "metadata": {},
          "execution_count": 29
        }
      ],
      "source": [
        "# melihat gambaran data rating\n",
        "\n",
        "rating.head()"
      ]
    },
    {
      "cell_type": "code",
      "source": [
        "rating.drop(columns=\"Unnamed: 0\", inplace=True)"
      ],
      "metadata": {
        "id": "TbJXFpEaj8aI"
      },
      "id": "TbJXFpEaj8aI",
      "execution_count": 30,
      "outputs": []
    },
    {
      "cell_type": "code",
      "execution_count": 31,
      "id": "a83de1e3",
      "metadata": {
        "colab": {
          "base_uri": "https://localhost:8080/"
        },
        "id": "a83de1e3",
        "outputId": "4b2706af-a6a8-4b87-c527-c2a6b25eecb6"
      },
      "outputs": [
        {
          "output_type": "execute_result",
          "data": {
            "text/plain": [
              "(10000, 3)"
            ]
          },
          "metadata": {},
          "execution_count": 31
        }
      ],
      "source": [
        "# Melihat ukuran dataset rating untuk Kota Yogyakarta\n",
        "\n",
        "rating.shape"
      ]
    },
    {
      "cell_type": "code",
      "execution_count": 32,
      "id": "d8857ec8",
      "metadata": {
        "colab": {
          "base_uri": "https://localhost:8080/",
          "height": 206
        },
        "id": "d8857ec8",
        "outputId": "2cbc37ed-9bd6-4c74-f98d-6b0ab3dcb2f8"
      },
      "outputs": [
        {
          "output_type": "execute_result",
          "data": {
            "text/plain": [
              "   User_Id                   Location  Age\n",
              "0        1      Semarang, Jawa Tengah   20\n",
              "1        2         Bekasi, Jawa Barat   21\n",
              "2        3        Cirebon, Jawa Barat   23\n",
              "3        4         Bekasi, Jawa Barat   21\n",
              "4        5  Lampung, Sumatera Selatan   20"
            ],
            "text/html": [
              "\n",
              "  <div id=\"df-df6b5e84-d338-44c0-bcd4-8edbb20b45da\">\n",
              "    <div class=\"colab-df-container\">\n",
              "      <div>\n",
              "<style scoped>\n",
              "    .dataframe tbody tr th:only-of-type {\n",
              "        vertical-align: middle;\n",
              "    }\n",
              "\n",
              "    .dataframe tbody tr th {\n",
              "        vertical-align: top;\n",
              "    }\n",
              "\n",
              "    .dataframe thead th {\n",
              "        text-align: right;\n",
              "    }\n",
              "</style>\n",
              "<table border=\"1\" class=\"dataframe\">\n",
              "  <thead>\n",
              "    <tr style=\"text-align: right;\">\n",
              "      <th></th>\n",
              "      <th>User_Id</th>\n",
              "      <th>Location</th>\n",
              "      <th>Age</th>\n",
              "    </tr>\n",
              "  </thead>\n",
              "  <tbody>\n",
              "    <tr>\n",
              "      <th>0</th>\n",
              "      <td>1</td>\n",
              "      <td>Semarang, Jawa Tengah</td>\n",
              "      <td>20</td>\n",
              "    </tr>\n",
              "    <tr>\n",
              "      <th>1</th>\n",
              "      <td>2</td>\n",
              "      <td>Bekasi, Jawa Barat</td>\n",
              "      <td>21</td>\n",
              "    </tr>\n",
              "    <tr>\n",
              "      <th>2</th>\n",
              "      <td>3</td>\n",
              "      <td>Cirebon, Jawa Barat</td>\n",
              "      <td>23</td>\n",
              "    </tr>\n",
              "    <tr>\n",
              "      <th>3</th>\n",
              "      <td>4</td>\n",
              "      <td>Bekasi, Jawa Barat</td>\n",
              "      <td>21</td>\n",
              "    </tr>\n",
              "    <tr>\n",
              "      <th>4</th>\n",
              "      <td>5</td>\n",
              "      <td>Lampung, Sumatera Selatan</td>\n",
              "      <td>20</td>\n",
              "    </tr>\n",
              "  </tbody>\n",
              "</table>\n",
              "</div>\n",
              "      <button class=\"colab-df-convert\" onclick=\"convertToInteractive('df-df6b5e84-d338-44c0-bcd4-8edbb20b45da')\"\n",
              "              title=\"Convert this dataframe to an interactive table.\"\n",
              "              style=\"display:none;\">\n",
              "        \n",
              "  <svg xmlns=\"http://www.w3.org/2000/svg\" height=\"24px\"viewBox=\"0 0 24 24\"\n",
              "       width=\"24px\">\n",
              "    <path d=\"M0 0h24v24H0V0z\" fill=\"none\"/>\n",
              "    <path d=\"M18.56 5.44l.94 2.06.94-2.06 2.06-.94-2.06-.94-.94-2.06-.94 2.06-2.06.94zm-11 1L8.5 8.5l.94-2.06 2.06-.94-2.06-.94L8.5 2.5l-.94 2.06-2.06.94zm10 10l.94 2.06.94-2.06 2.06-.94-2.06-.94-.94-2.06-.94 2.06-2.06.94z\"/><path d=\"M17.41 7.96l-1.37-1.37c-.4-.4-.92-.59-1.43-.59-.52 0-1.04.2-1.43.59L10.3 9.45l-7.72 7.72c-.78.78-.78 2.05 0 2.83L4 21.41c.39.39.9.59 1.41.59.51 0 1.02-.2 1.41-.59l7.78-7.78 2.81-2.81c.8-.78.8-2.07 0-2.86zM5.41 20L4 18.59l7.72-7.72 1.47 1.35L5.41 20z\"/>\n",
              "  </svg>\n",
              "      </button>\n",
              "      \n",
              "  <style>\n",
              "    .colab-df-container {\n",
              "      display:flex;\n",
              "      flex-wrap:wrap;\n",
              "      gap: 12px;\n",
              "    }\n",
              "\n",
              "    .colab-df-convert {\n",
              "      background-color: #E8F0FE;\n",
              "      border: none;\n",
              "      border-radius: 50%;\n",
              "      cursor: pointer;\n",
              "      display: none;\n",
              "      fill: #1967D2;\n",
              "      height: 32px;\n",
              "      padding: 0 0 0 0;\n",
              "      width: 32px;\n",
              "    }\n",
              "\n",
              "    .colab-df-convert:hover {\n",
              "      background-color: #E2EBFA;\n",
              "      box-shadow: 0px 1px 2px rgba(60, 64, 67, 0.3), 0px 1px 3px 1px rgba(60, 64, 67, 0.15);\n",
              "      fill: #174EA6;\n",
              "    }\n",
              "\n",
              "    [theme=dark] .colab-df-convert {\n",
              "      background-color: #3B4455;\n",
              "      fill: #D2E3FC;\n",
              "    }\n",
              "\n",
              "    [theme=dark] .colab-df-convert:hover {\n",
              "      background-color: #434B5C;\n",
              "      box-shadow: 0px 1px 3px 1px rgba(0, 0, 0, 0.15);\n",
              "      filter: drop-shadow(0px 1px 2px rgba(0, 0, 0, 0.3));\n",
              "      fill: #FFFFFF;\n",
              "    }\n",
              "  </style>\n",
              "\n",
              "      <script>\n",
              "        const buttonEl =\n",
              "          document.querySelector('#df-df6b5e84-d338-44c0-bcd4-8edbb20b45da button.colab-df-convert');\n",
              "        buttonEl.style.display =\n",
              "          google.colab.kernel.accessAllowed ? 'block' : 'none';\n",
              "\n",
              "        async function convertToInteractive(key) {\n",
              "          const element = document.querySelector('#df-df6b5e84-d338-44c0-bcd4-8edbb20b45da');\n",
              "          const dataTable =\n",
              "            await google.colab.kernel.invokeFunction('convertToInteractive',\n",
              "                                                     [key], {});\n",
              "          if (!dataTable) return;\n",
              "\n",
              "          const docLinkHtml = 'Like what you see? Visit the ' +\n",
              "            '<a target=\"_blank\" href=https://colab.research.google.com/notebooks/data_table.ipynb>data table notebook</a>'\n",
              "            + ' to learn more about interactive tables.';\n",
              "          element.innerHTML = '';\n",
              "          dataTable['output_type'] = 'display_data';\n",
              "          await google.colab.output.renderOutput(dataTable, element);\n",
              "          const docLink = document.createElement('div');\n",
              "          docLink.innerHTML = docLinkHtml;\n",
              "          element.appendChild(docLink);\n",
              "        }\n",
              "      </script>\n",
              "    </div>\n",
              "  </div>\n",
              "  "
            ]
          },
          "metadata": {},
          "execution_count": 32
        }
      ],
      "source": [
        "# Melihat gambaran data user\n",
        "\n",
        "user.head()"
      ]
    },
    {
      "cell_type": "code",
      "execution_count": 33,
      "id": "5bdad5b8",
      "metadata": {
        "colab": {
          "base_uri": "https://localhost:8080/",
          "height": 206
        },
        "id": "5bdad5b8",
        "outputId": "2fd033a5-78f8-49f3-c728-bd6d17a2d6fa"
      },
      "outputs": [
        {
          "output_type": "execute_result",
          "data": {
            "text/plain": [
              "     User_Id                   Location  Age\n",
              "0          1      Semarang, Jawa Tengah   20\n",
              "30         2         Bekasi, Jawa Barat   21\n",
              "59         3        Cirebon, Jawa Barat   23\n",
              "89         4         Bekasi, Jawa Barat   21\n",
              "115        5  Lampung, Sumatera Selatan   20"
            ],
            "text/html": [
              "\n",
              "  <div id=\"df-ca7eff17-a517-4d2f-bd09-a9cbd11be62d\">\n",
              "    <div class=\"colab-df-container\">\n",
              "      <div>\n",
              "<style scoped>\n",
              "    .dataframe tbody tr th:only-of-type {\n",
              "        vertical-align: middle;\n",
              "    }\n",
              "\n",
              "    .dataframe tbody tr th {\n",
              "        vertical-align: top;\n",
              "    }\n",
              "\n",
              "    .dataframe thead th {\n",
              "        text-align: right;\n",
              "    }\n",
              "</style>\n",
              "<table border=\"1\" class=\"dataframe\">\n",
              "  <thead>\n",
              "    <tr style=\"text-align: right;\">\n",
              "      <th></th>\n",
              "      <th>User_Id</th>\n",
              "      <th>Location</th>\n",
              "      <th>Age</th>\n",
              "    </tr>\n",
              "  </thead>\n",
              "  <tbody>\n",
              "    <tr>\n",
              "      <th>0</th>\n",
              "      <td>1</td>\n",
              "      <td>Semarang, Jawa Tengah</td>\n",
              "      <td>20</td>\n",
              "    </tr>\n",
              "    <tr>\n",
              "      <th>30</th>\n",
              "      <td>2</td>\n",
              "      <td>Bekasi, Jawa Barat</td>\n",
              "      <td>21</td>\n",
              "    </tr>\n",
              "    <tr>\n",
              "      <th>59</th>\n",
              "      <td>3</td>\n",
              "      <td>Cirebon, Jawa Barat</td>\n",
              "      <td>23</td>\n",
              "    </tr>\n",
              "    <tr>\n",
              "      <th>89</th>\n",
              "      <td>4</td>\n",
              "      <td>Bekasi, Jawa Barat</td>\n",
              "      <td>21</td>\n",
              "    </tr>\n",
              "    <tr>\n",
              "      <th>115</th>\n",
              "      <td>5</td>\n",
              "      <td>Lampung, Sumatera Selatan</td>\n",
              "      <td>20</td>\n",
              "    </tr>\n",
              "  </tbody>\n",
              "</table>\n",
              "</div>\n",
              "      <button class=\"colab-df-convert\" onclick=\"convertToInteractive('df-ca7eff17-a517-4d2f-bd09-a9cbd11be62d')\"\n",
              "              title=\"Convert this dataframe to an interactive table.\"\n",
              "              style=\"display:none;\">\n",
              "        \n",
              "  <svg xmlns=\"http://www.w3.org/2000/svg\" height=\"24px\"viewBox=\"0 0 24 24\"\n",
              "       width=\"24px\">\n",
              "    <path d=\"M0 0h24v24H0V0z\" fill=\"none\"/>\n",
              "    <path d=\"M18.56 5.44l.94 2.06.94-2.06 2.06-.94-2.06-.94-.94-2.06-.94 2.06-2.06.94zm-11 1L8.5 8.5l.94-2.06 2.06-.94-2.06-.94L8.5 2.5l-.94 2.06-2.06.94zm10 10l.94 2.06.94-2.06 2.06-.94-2.06-.94-.94-2.06-.94 2.06-2.06.94z\"/><path d=\"M17.41 7.96l-1.37-1.37c-.4-.4-.92-.59-1.43-.59-.52 0-1.04.2-1.43.59L10.3 9.45l-7.72 7.72c-.78.78-.78 2.05 0 2.83L4 21.41c.39.39.9.59 1.41.59.51 0 1.02-.2 1.41-.59l7.78-7.78 2.81-2.81c.8-.78.8-2.07 0-2.86zM5.41 20L4 18.59l7.72-7.72 1.47 1.35L5.41 20z\"/>\n",
              "  </svg>\n",
              "      </button>\n",
              "      \n",
              "  <style>\n",
              "    .colab-df-container {\n",
              "      display:flex;\n",
              "      flex-wrap:wrap;\n",
              "      gap: 12px;\n",
              "    }\n",
              "\n",
              "    .colab-df-convert {\n",
              "      background-color: #E8F0FE;\n",
              "      border: none;\n",
              "      border-radius: 50%;\n",
              "      cursor: pointer;\n",
              "      display: none;\n",
              "      fill: #1967D2;\n",
              "      height: 32px;\n",
              "      padding: 0 0 0 0;\n",
              "      width: 32px;\n",
              "    }\n",
              "\n",
              "    .colab-df-convert:hover {\n",
              "      background-color: #E2EBFA;\n",
              "      box-shadow: 0px 1px 2px rgba(60, 64, 67, 0.3), 0px 1px 3px 1px rgba(60, 64, 67, 0.15);\n",
              "      fill: #174EA6;\n",
              "    }\n",
              "\n",
              "    [theme=dark] .colab-df-convert {\n",
              "      background-color: #3B4455;\n",
              "      fill: #D2E3FC;\n",
              "    }\n",
              "\n",
              "    [theme=dark] .colab-df-convert:hover {\n",
              "      background-color: #434B5C;\n",
              "      box-shadow: 0px 1px 3px 1px rgba(0, 0, 0, 0.15);\n",
              "      filter: drop-shadow(0px 1px 2px rgba(0, 0, 0, 0.3));\n",
              "      fill: #FFFFFF;\n",
              "    }\n",
              "  </style>\n",
              "\n",
              "      <script>\n",
              "        const buttonEl =\n",
              "          document.querySelector('#df-ca7eff17-a517-4d2f-bd09-a9cbd11be62d button.colab-df-convert');\n",
              "        buttonEl.style.display =\n",
              "          google.colab.kernel.accessAllowed ? 'block' : 'none';\n",
              "\n",
              "        async function convertToInteractive(key) {\n",
              "          const element = document.querySelector('#df-ca7eff17-a517-4d2f-bd09-a9cbd11be62d');\n",
              "          const dataTable =\n",
              "            await google.colab.kernel.invokeFunction('convertToInteractive',\n",
              "                                                     [key], {});\n",
              "          if (!dataTable) return;\n",
              "\n",
              "          const docLinkHtml = 'Like what you see? Visit the ' +\n",
              "            '<a target=\"_blank\" href=https://colab.research.google.com/notebooks/data_table.ipynb>data table notebook</a>'\n",
              "            + ' to learn more about interactive tables.';\n",
              "          element.innerHTML = '';\n",
              "          dataTable['output_type'] = 'display_data';\n",
              "          await google.colab.output.renderOutput(dataTable, element);\n",
              "          const docLink = document.createElement('div');\n",
              "          docLink.innerHTML = docLinkHtml;\n",
              "          element.appendChild(docLink);\n",
              "        }\n",
              "      </script>\n",
              "    </div>\n",
              "  </div>\n",
              "  "
            ]
          },
          "metadata": {},
          "execution_count": 33
        }
      ],
      "source": [
        "# Merubah data user agar hanya berisi user yang pernah megunjungi wisata di Kota Yogyakarta\n",
        "\n",
        "user = pd.merge(user, rating[['User_Id']], how='right', on='User_Id').drop_duplicates().sort_values('User_Id')\n",
        "user.head()"
      ]
    },
    {
      "cell_type": "code",
      "execution_count": 34,
      "id": "18b00178",
      "metadata": {
        "colab": {
          "base_uri": "https://localhost:8080/"
        },
        "id": "18b00178",
        "outputId": "5674a353-4e0c-4857-fe40-3dedde512579"
      },
      "outputs": [
        {
          "output_type": "execute_result",
          "data": {
            "text/plain": [
              "(300, 3)"
            ]
          },
          "metadata": {},
          "execution_count": 34
        }
      ],
      "source": [
        "# Melihat dataset user yang pernah memberi rating pada wisata di Kota Yogyakarta\n",
        "\n",
        "user.shape"
      ]
    },
    {
      "cell_type": "code",
      "execution_count": 35,
      "id": "d7172f5b",
      "metadata": {
        "colab": {
          "base_uri": "https://localhost:8080/",
          "height": 369
        },
        "id": "d7172f5b",
        "outputId": "b5da0983-93c9-4c34-992b-a1e129afabc6"
      },
      "outputs": [
        {
          "output_type": "display_data",
          "data": {
            "text/plain": [
              "<Figure size 576x360 with 1 Axes>"
            ],
            "image/png": "[encoded data removed]"
          },
          "metadata": {
            "needs_background": "light"
          }
        }
      ],
      "source": [
        "# Membuat dataframe berisi lokasi dengan jumlah rating terbanyak\n",
        "top_10 = rating['Place_Id'].value_counts().reset_index()[0:10]\n",
        "top_10 = pd.merge(top_10, place[['Place_Id','Place_Name']], how='left', left_on='index', right_on='Place_Id')\n",
        "\n",
        "# Membuat visualisasi wisata dengan jumlah rating terbanyak\n",
        "plt.figure(figsize=(8,5))\n",
        "sns.barplot('Place_Id_x', 'Place_Name', data=top_10)\n",
        "plt.title('Jumlah Tempat Wisata dengan Rating Terbanyak', pad=20)\n",
        "plt.ylabel('Jumlah Rating')\n",
        "plt.xlabel('Nama Lokasi')\n",
        "plt.show()"
      ]
    },
    {
      "cell_type": "code",
      "execution_count": 36,
      "id": "a982916a",
      "metadata": {
        "colab": {
          "base_uri": "https://localhost:8080/",
          "height": 315
        },
        "id": "a982916a",
        "outputId": "44692c75-6919-410a-d81e-d47c5057a21e"
      },
      "outputs": [
        {
          "output_type": "display_data",
          "data": {
            "text/plain": [
              "<Figure size 432x288 with 1 Axes>"
            ],
            "image/png": "[encoded data removed]"
          },
          "metadata": {
            "needs_background": "light"
          }
        }
      ],
      "source": [
        "# Membuat visualisasi jumlah kategori wisata di Kota Yogyakarta\n",
        "\n",
        "sns.countplot(y='Category', data=place)\n",
        "plt.title('Perbandingan Jumlah Kategori Wisata di Kota Yogyakarta', pad=20)\n",
        "plt.show()"
      ]
    },
    {
      "cell_type": "code",
      "execution_count": 37,
      "id": "79f1bb7b",
      "metadata": {
        "colab": {
          "base_uri": "https://localhost:8080/",
          "height": 260
        },
        "id": "79f1bb7b",
        "outputId": "edc360c4-0119-441d-9e32-91b260ef4e06"
      },
      "outputs": [
        {
          "output_type": "display_data",
          "data": {
            "text/plain": [
              "<Figure size 360x216 with 1 Axes>"
            ],
            "image/png": "[encoded data removed]"
          },
          "metadata": {
            "needs_background": "light"
          }
        }
      ],
      "source": [
        "# Membuat visualisasi distribusi usia user\n",
        "\n",
        "plt.figure(figsize=(5,3))\n",
        "sns.boxplot(user['Age']);\n",
        "plt.title('Distribusi Usia User', pad=20)\n",
        "plt.show()"
      ]
    },
    {
      "cell_type": "code",
      "execution_count": 38,
      "id": "db39a394",
      "metadata": {
        "colab": {
          "base_uri": "https://localhost:8080/",
          "height": 260
        },
        "id": "db39a394",
        "outputId": "bb04187a-a55d-4344-8d35-8ff46466e7ab"
      },
      "outputs": [
        {
          "output_type": "display_data",
          "data": {
            "text/plain": [
              "<Figure size 504x216 with 1 Axes>"
            ],
            "image/png": "[encoded data removed]"
          },
          "metadata": {
            "needs_background": "light"
          }
        }
      ],
      "source": [
        "# Membuat visualisasi distribusi harga masuk tempat wisata\n",
        "\n",
        "plt.figure(figsize=(7,3))\n",
        "sns.boxplot(place['Price'])\n",
        "plt.title('Distribusi Harga Masuk Wisata di Kota Yogyakarta', pad=20)\n",
        "plt.show()"
      ]
    },
    {
      "cell_type": "code",
      "execution_count": 39,
      "id": "09bbfef2",
      "metadata": {
        "colab": {
          "base_uri": "https://localhost:8080/",
          "height": 410
        },
        "id": "09bbfef2",
        "outputId": "d5b506ea-ed3d-47c3-cab9-6ed12910ad2a"
      },
      "outputs": [
        {
          "output_type": "display_data",
          "data": {
            "text/plain": [
              "<Figure size 576x432 with 1 Axes>"
            ],
            "image/png": "[encoded data removed]"
          },
          "metadata": {
            "needs_background": "light"
          }
        }
      ],
      "source": [
        "# Memfilter asal kota dari user\n",
        "askot = user['Location'].apply(lambda x : x.split(',')[0])\n",
        "\n",
        "# Visualisasi asal kota dari user\n",
        "plt.figure(figsize=(8,6))\n",
        "sns.countplot(y=askot)\n",
        "plt.title('Jumlah Asal Kota dari User')\n",
        "plt.show()"
      ]
    },
    {
      "cell_type": "markdown",
      "id": "4d73a02f",
      "metadata": {
        "id": "4d73a02f"
      },
      "source": [
        " # MODELING"
      ]
    },
    {
      "cell_type": "code",
      "execution_count": 40,
      "id": "b4bf1ece",
      "metadata": {
        "colab": {
          "base_uri": "https://localhost:8080/",
          "height": 206
        },
        "id": "b4bf1ece",
        "outputId": "690db0b8-a711-4d85-e43d-80a93aec6839"
      },
      "outputs": [
        {
          "output_type": "execute_result",
          "data": {
            "text/plain": [
              "   User_Id  Place_Id  Place_Ratings\n",
              "0        1        45              3\n",
              "1        1        94              2\n",
              "2        1        79              5\n",
              "3        1        47              3\n",
              "4        1        70              4"
            ],
            "text/html": [
              "\n",
              "  <div id=\"df-bf1b655a-1cc5-489b-b8f6-d2c2ff1d2594\">\n",
              "    <div class=\"colab-df-container\">\n",
              "      <div>\n",
              "<style scoped>\n",
              "    .dataframe tbody tr th:only-of-type {\n",
              "        vertical-align: middle;\n",
              "    }\n",
              "\n",
              "    .dataframe tbody tr th {\n",
              "        vertical-align: top;\n",
              "    }\n",
              "\n",
              "    .dataframe thead th {\n",
              "        text-align: right;\n",
              "    }\n",
              "</style>\n",
              "<table border=\"1\" class=\"dataframe\">\n",
              "  <thead>\n",
              "    <tr style=\"text-align: right;\">\n",
              "      <th></th>\n",
              "      <th>User_Id</th>\n",
              "      <th>Place_Id</th>\n",
              "      <th>Place_Ratings</th>\n",
              "    </tr>\n",
              "  </thead>\n",
              "  <tbody>\n",
              "    <tr>\n",
              "      <th>0</th>\n",
              "      <td>1</td>\n",
              "      <td>45</td>\n",
              "      <td>3</td>\n",
              "    </tr>\n",
              "    <tr>\n",
              "      <th>1</th>\n",
              "      <td>1</td>\n",
              "      <td>94</td>\n",
              "      <td>2</td>\n",
              "    </tr>\n",
              "    <tr>\n",
              "      <th>2</th>\n",
              "      <td>1</td>\n",
              "      <td>79</td>\n",
              "      <td>5</td>\n",
              "    </tr>\n",
              "    <tr>\n",
              "      <th>3</th>\n",
              "      <td>1</td>\n",
              "      <td>47</td>\n",
              "      <td>3</td>\n",
              "    </tr>\n",
              "    <tr>\n",
              "      <th>4</th>\n",
              "      <td>1</td>\n",
              "      <td>70</td>\n",
              "      <td>4</td>\n",
              "    </tr>\n",
              "  </tbody>\n",
              "</table>\n",
              "</div>\n",
              "      <button class=\"colab-df-convert\" onclick=\"convertToInteractive('df-bf1b655a-1cc5-489b-b8f6-d2c2ff1d2594')\"\n",
              "              title=\"Convert this dataframe to an interactive table.\"\n",
              "              style=\"display:none;\">\n",
              "        \n",
              "  <svg xmlns=\"http://www.w3.org/2000/svg\" height=\"24px\"viewBox=\"0 0 24 24\"\n",
              "       width=\"24px\">\n",
              "    <path d=\"M0 0h24v24H0V0z\" fill=\"none\"/>\n",
              "    <path d=\"M18.56 5.44l.94 2.06.94-2.06 2.06-.94-2.06-.94-.94-2.06-.94 2.06-2.06.94zm-11 1L8.5 8.5l.94-2.06 2.06-.94-2.06-.94L8.5 2.5l-.94 2.06-2.06.94zm10 10l.94 2.06.94-2.06 2.06-.94-2.06-.94-.94-2.06-.94 2.06-2.06.94z\"/><path d=\"M17.41 7.96l-1.37-1.37c-.4-.4-.92-.59-1.43-.59-.52 0-1.04.2-1.43.59L10.3 9.45l-7.72 7.72c-.78.78-.78 2.05 0 2.83L4 21.41c.39.39.9.59 1.41.59.51 0 1.02-.2 1.41-.59l7.78-7.78 2.81-2.81c.8-.78.8-2.07 0-2.86zM5.41 20L4 18.59l7.72-7.72 1.47 1.35L5.41 20z\"/>\n",
              "  </svg>\n",
              "      </button>\n",
              "      \n",
              "  <style>\n",
              "    .colab-df-container {\n",
              "      display:flex;\n",
              "      flex-wrap:wrap;\n",
              "      gap: 12px;\n",
              "    }\n",
              "\n",
              "    .colab-df-convert {\n",
              "      background-color: #E8F0FE;\n",
              "      border: none;\n",
              "      border-radius: 50%;\n",
              "      cursor: pointer;\n",
              "      display: none;\n",
              "      fill: #1967D2;\n",
              "      height: 32px;\n",
              "      padding: 0 0 0 0;\n",
              "      width: 32px;\n",
              "    }\n",
              "\n",
              "    .colab-df-convert:hover {\n",
              "      background-color: #E2EBFA;\n",
              "      box-shadow: 0px 1px 2px rgba(60, 64, 67, 0.3), 0px 1px 3px 1px rgba(60, 64, 67, 0.15);\n",
              "      fill: #174EA6;\n",
              "    }\n",
              "\n",
              "    [theme=dark] .colab-df-convert {\n",
              "      background-color: #3B4455;\n",
              "      fill: #D2E3FC;\n",
              "    }\n",
              "\n",
              "    [theme=dark] .colab-df-convert:hover {\n",
              "      background-color: #434B5C;\n",
              "      box-shadow: 0px 1px 3px 1px rgba(0, 0, 0, 0.15);\n",
              "      filter: drop-shadow(0px 1px 2px rgba(0, 0, 0, 0.3));\n",
              "      fill: #FFFFFF;\n",
              "    }\n",
              "  </style>\n",
              "\n",
              "      <script>\n",
              "        const buttonEl =\n",
              "          document.querySelector('#df-bf1b655a-1cc5-489b-b8f6-d2c2ff1d2594 button.colab-df-convert');\n",
              "        buttonEl.style.display =\n",
              "          google.colab.kernel.accessAllowed ? 'block' : 'none';\n",
              "\n",
              "        async function convertToInteractive(key) {\n",
              "          const element = document.querySelector('#df-bf1b655a-1cc5-489b-b8f6-d2c2ff1d2594');\n",
              "          const dataTable =\n",
              "            await google.colab.kernel.invokeFunction('convertToInteractive',\n",
              "                                                     [key], {});\n",
              "          if (!dataTable) return;\n",
              "\n",
              "          const docLinkHtml = 'Like what you see? Visit the ' +\n",
              "            '<a target=\"_blank\" href=https://colab.research.google.com/notebooks/data_table.ipynb>data table notebook</a>'\n",
              "            + ' to learn more about interactive tables.';\n",
              "          element.innerHTML = '';\n",
              "          dataTable['output_type'] = 'display_data';\n",
              "          await google.colab.output.renderOutput(dataTable, element);\n",
              "          const docLink = document.createElement('div');\n",
              "          docLink.innerHTML = docLinkHtml;\n",
              "          element.appendChild(docLink);\n",
              "        }\n",
              "      </script>\n",
              "    </div>\n",
              "  </div>\n",
              "  "
            ]
          },
          "metadata": {},
          "execution_count": 40
        }
      ],
      "source": [
        "# Membaca dataset untuk dilakukan encoding\n",
        " \n",
        "df = rating.copy()\n",
        "df.head()"
      ]
    },
    {
      "cell_type": "code",
      "execution_count": 41,
      "id": "8d8264f5",
      "metadata": {
        "id": "8d8264f5"
      },
      "outputs": [],
      "source": [
        "#ENCODING\n",
        "def dict_encoder(col, data=df):\n",
        "\n",
        "  # Mengubah kolom suatu dataframe menjadi list tanpa nilai yang sama\n",
        "  unique_val = data[col].unique().tolist()\n",
        "\n",
        "  # Melakukan encoding value kolom suatu dataframe ke angka\n",
        "  val_to_val_encoded = {x: i for i, x in enumerate(unique_val)}\n",
        "\n",
        "  # Melakukan proses encoding angka ke value dari kolom suatu dataframe\n",
        "  val_encoded_to_val = {i: x for i, x in enumerate(unique_val)}\n",
        "  return val_to_val_encoded, val_encoded_to_val"
      ]
    },
    {
      "cell_type": "code",
      "execution_count": 42,
      "id": "ad188ea7",
      "metadata": {
        "id": "ad188ea7"
      },
      "outputs": [],
      "source": [
        "# ENCODING + MAPING \n",
        "\n",
        "# Encoding User_Id\n",
        "user_to_user_encoded, user_encoded_to_user = dict_encoder('User_Id')\n",
        "\n",
        "# Mapping User_Id ke dataframe\n",
        "df['user'] = df['User_Id'].map(user_to_user_encoded)"
      ]
    },
    {
      "cell_type": "code",
      "execution_count": 43,
      "id": "4f3ec03b",
      "metadata": {
        "id": "4f3ec03b"
      },
      "outputs": [],
      "source": [
        "# Encoding Place_Id\n",
        "place_to_place_encoded, place_encoded_to_place = dict_encoder('Place_Id')\n",
        "\n",
        "# Mapping Place_Id ke dataframe place\n",
        "df['place'] = df['Place_Id'].map(place_to_place_encoded)"
      ]
    },
    {
      "cell_type": "code",
      "execution_count": 44,
      "id": "0b789325",
      "metadata": {
        "colab": {
          "base_uri": "https://localhost:8080/"
        },
        "id": "0b789325",
        "outputId": "2f25df4a-c2dc-4fd4-d99e-afea01485173"
      },
      "outputs": [
        {
          "output_type": "stream",
          "name": "stdout",
          "text": [
            "Number of User: 300, Number of Place: 125, Min Rating: 1.0, Max Rating: 5.0\n"
          ]
        }
      ],
      "source": [
        "# Mendapatkan jumlah user dan place\n",
        "num_users, num_place = len(user_to_user_encoded), len(place_to_place_encoded)\n",
        " \n",
        "# Mengubah rating menjadi nilai float\n",
        "df['Place_Ratings'] = df['Place_Ratings'].values.astype(np.float32)\n",
        " \n",
        "# Mendapatkan nilai minimum dan maksimum rating\n",
        "min_rating, max_rating = min(df['Place_Ratings']), max(df['Place_Ratings'])\n",
        " \n",
        "print(f'Number of User: {num_users}, Number of Place: {num_place}, Min Rating: {min_rating}, Max Rating: {max_rating}')"
      ]
    },
    {
      "cell_type": "code",
      "execution_count": 45,
      "id": "098596e3",
      "metadata": {
        "colab": {
          "base_uri": "https://localhost:8080/",
          "height": 112
        },
        "id": "098596e3",
        "outputId": "bd3a2ad2-d9a7-42dc-cb27-f576bf45b5c6"
      },
      "outputs": [
        {
          "output_type": "execute_result",
          "data": {
            "text/plain": [
              "      User_Id  Place_Id  Place_Ratings  user  place\n",
              "6252      188        92            3.0   187    121\n",
              "4684      142        98            2.0   141     67"
            ],
            "text/html": [
              "\n",
              "  <div id=\"df-af7d788a-e123-4384-b647-b448bb6d9343\">\n",
              "    <div class=\"colab-df-container\">\n",
              "      <div>\n",
              "<style scoped>\n",
              "    .dataframe tbody tr th:only-of-type {\n",
              "        vertical-align: middle;\n",
              "    }\n",
              "\n",
              "    .dataframe tbody tr th {\n",
              "        vertical-align: top;\n",
              "    }\n",
              "\n",
              "    .dataframe thead th {\n",
              "        text-align: right;\n",
              "    }\n",
              "</style>\n",
              "<table border=\"1\" class=\"dataframe\">\n",
              "  <thead>\n",
              "    <tr style=\"text-align: right;\">\n",
              "      <th></th>\n",
              "      <th>User_Id</th>\n",
              "      <th>Place_Id</th>\n",
              "      <th>Place_Ratings</th>\n",
              "      <th>user</th>\n",
              "      <th>place</th>\n",
              "    </tr>\n",
              "  </thead>\n",
              "  <tbody>\n",
              "    <tr>\n",
              "      <th>6252</th>\n",
              "      <td>188</td>\n",
              "      <td>92</td>\n",
              "      <td>3.0</td>\n",
              "      <td>187</td>\n",
              "      <td>121</td>\n",
              "    </tr>\n",
              "    <tr>\n",
              "      <th>4684</th>\n",
              "      <td>142</td>\n",
              "      <td>98</td>\n",
              "      <td>2.0</td>\n",
              "      <td>141</td>\n",
              "      <td>67</td>\n",
              "    </tr>\n",
              "  </tbody>\n",
              "</table>\n",
              "</div>\n",
              "      <button class=\"colab-df-convert\" onclick=\"convertToInteractive('df-af7d788a-e123-4384-b647-b448bb6d9343')\"\n",
              "              title=\"Convert this dataframe to an interactive table.\"\n",
              "              style=\"display:none;\">\n",
              "        \n",
              "  <svg xmlns=\"http://www.w3.org/2000/svg\" height=\"24px\"viewBox=\"0 0 24 24\"\n",
              "       width=\"24px\">\n",
              "    <path d=\"M0 0h24v24H0V0z\" fill=\"none\"/>\n",
              "    <path d=\"M18.56 5.44l.94 2.06.94-2.06 2.06-.94-2.06-.94-.94-2.06-.94 2.06-2.06.94zm-11 1L8.5 8.5l.94-2.06 2.06-.94-2.06-.94L8.5 2.5l-.94 2.06-2.06.94zm10 10l.94 2.06.94-2.06 2.06-.94-2.06-.94-.94-2.06-.94 2.06-2.06.94z\"/><path d=\"M17.41 7.96l-1.37-1.37c-.4-.4-.92-.59-1.43-.59-.52 0-1.04.2-1.43.59L10.3 9.45l-7.72 7.72c-.78.78-.78 2.05 0 2.83L4 21.41c.39.39.9.59 1.41.59.51 0 1.02-.2 1.41-.59l7.78-7.78 2.81-2.81c.8-.78.8-2.07 0-2.86zM5.41 20L4 18.59l7.72-7.72 1.47 1.35L5.41 20z\"/>\n",
              "  </svg>\n",
              "      </button>\n",
              "      \n",
              "  <style>\n",
              "    .colab-df-container {\n",
              "      display:flex;\n",
              "      flex-wrap:wrap;\n",
              "      gap: 12px;\n",
              "    }\n",
              "\n",
              "    .colab-df-convert {\n",
              "      background-color: #E8F0FE;\n",
              "      border: none;\n",
              "      border-radius: 50%;\n",
              "      cursor: pointer;\n",
              "      display: none;\n",
              "      fill: #1967D2;\n",
              "      height: 32px;\n",
              "      padding: 0 0 0 0;\n",
              "      width: 32px;\n",
              "    }\n",
              "\n",
              "    .colab-df-convert:hover {\n",
              "      background-color: #E2EBFA;\n",
              "      box-shadow: 0px 1px 2px rgba(60, 64, 67, 0.3), 0px 1px 3px 1px rgba(60, 64, 67, 0.15);\n",
              "      fill: #174EA6;\n",
              "    }\n",
              "\n",
              "    [theme=dark] .colab-df-convert {\n",
              "      background-color: #3B4455;\n",
              "      fill: #D2E3FC;\n",
              "    }\n",
              "\n",
              "    [theme=dark] .colab-df-convert:hover {\n",
              "      background-color: #434B5C;\n",
              "      box-shadow: 0px 1px 3px 1px rgba(0, 0, 0, 0.15);\n",
              "      filter: drop-shadow(0px 1px 2px rgba(0, 0, 0, 0.3));\n",
              "      fill: #FFFFFF;\n",
              "    }\n",
              "  </style>\n",
              "\n",
              "      <script>\n",
              "        const buttonEl =\n",
              "          document.querySelector('#df-af7d788a-e123-4384-b647-b448bb6d9343 button.colab-df-convert');\n",
              "        buttonEl.style.display =\n",
              "          google.colab.kernel.accessAllowed ? 'block' : 'none';\n",
              "\n",
              "        async function convertToInteractive(key) {\n",
              "          const element = document.querySelector('#df-af7d788a-e123-4384-b647-b448bb6d9343');\n",
              "          const dataTable =\n",
              "            await google.colab.kernel.invokeFunction('convertToInteractive',\n",
              "                                                     [key], {});\n",
              "          if (!dataTable) return;\n",
              "\n",
              "          const docLinkHtml = 'Like what you see? Visit the ' +\n",
              "            '<a target=\"_blank\" href=https://colab.research.google.com/notebooks/data_table.ipynb>data table notebook</a>'\n",
              "            + ' to learn more about interactive tables.';\n",
              "          element.innerHTML = '';\n",
              "          dataTable['output_type'] = 'display_data';\n",
              "          await google.colab.output.renderOutput(dataTable, element);\n",
              "          const docLink = document.createElement('div');\n",
              "          docLink.innerHTML = docLinkHtml;\n",
              "          element.appendChild(docLink);\n",
              "        }\n",
              "      </script>\n",
              "    </div>\n",
              "  </div>\n",
              "  "
            ]
          },
          "metadata": {},
          "execution_count": 45
        }
      ],
      "source": [
        "# Mengacak dataset\n",
        "df = df.sample(frac=1, random_state=42)\n",
        "df.head(2)"
      ]
    },
    {
      "cell_type": "code",
      "execution_count": 46,
      "id": "2841414a",
      "metadata": {
        "id": "2841414a"
      },
      "outputs": [],
      "source": [
        "# Membuat variabel x untuk mencocokkan data user dan place menjadi satu value\n",
        "x = df[['user', 'place']].values\n",
        " \n",
        "# Membuat variabel y untuk membuat rating dari hasil \n",
        "y = df['Place_Ratings'].apply(lambda x: (x - min_rating) / (max_rating - min_rating)).values\n",
        " \n",
        "# Membagi menjadi 80% data train dan 20% data validasi\n",
        "train_indices = int(0.8 * df.shape[0])\n",
        "x_train, x_val, y_train, y_val = (\n",
        "    x[:train_indices],\n",
        "    x[train_indices:],\n",
        "    y[:train_indices],\n",
        "    y[train_indices:]\n",
        ")"
      ]
    },
    {
      "cell_type": "code",
      "execution_count": 47,
      "id": "894b8bb3",
      "metadata": {
        "id": "894b8bb3"
      },
      "outputs": [],
      "source": [
        "class RecommenderNet(tf.keras.Model):\n",
        " \n",
        "  # Insialisasi fungsi\n",
        "  def __init__(self, num_users, num_places, embedding_size, **kwargs):\n",
        "    super(RecommenderNet, self).__init__(**kwargs)\n",
        "    self.num_users = num_users\n",
        "    self.num_places = num_places\n",
        "    self.embedding_size = embedding_size\n",
        "    self.user_embedding = layers.Embedding( # layer embedding user\n",
        "        num_users,\n",
        "        embedding_size,\n",
        "        embeddings_initializer = 'he_normal',\n",
        "        embeddings_regularizer = keras.regularizers.l2(1e-6)\n",
        "    )\n",
        "    self.user_bias = layers.Embedding(num_users, 1) # layer embedding user bias\n",
        "    self.places_embedding = layers.Embedding( # layer embeddings places\n",
        "        num_places,\n",
        "        embedding_size,\n",
        "        embeddings_initializer = 'he_normal',\n",
        "        embeddings_regularizer = keras.regularizers.l2(1e-6)\n",
        "    )\n",
        "    self.places_bias = layers.Embedding(num_places, 1) # layer embedding places bias\n",
        " \n",
        "  def call(self, inputs):\n",
        "    user_vector = self.user_embedding(inputs[:,0]) # memanggil layer embedding 1\n",
        "    user_bias = self.user_bias(inputs[:, 0]) # memanggil layer embedding 2\n",
        "    places_vector = self.places_embedding(inputs[:, 1]) # memanggil layer embedding 3\n",
        "    places_bias = self.places_bias(inputs[:, 1]) # memanggil layer embedding 4\n",
        " \n",
        "    dot_user_places = tf.tensordot(user_vector, places_vector, 2) \n",
        " \n",
        "    x = dot_user_places + user_bias + places_bias\n",
        "    \n",
        "    return tf.nn.sigmoid(x) # activation sigmoid"
      ]
    },
    {
      "cell_type": "code",
      "execution_count": 48,
      "id": "20300a62",
      "metadata": {
        "id": "20300a62"
      },
      "outputs": [],
      "source": [
        "model = RecommenderNet(num_users, num_place, 50) # inisialisasi model\n",
        " \n",
        "# model compile\n",
        "model.compile(\n",
        "    loss = tf.keras.losses.BinaryCrossentropy(),\n",
        "    optimizer = keras.optimizers.Adam(learning_rate=0.0004),\n",
        "    metrics=[tf.keras.metrics.RootMeanSquaredError()]\n",
        ")"
      ]
    },
    {
      "cell_type": "code",
      "execution_count": 49,
      "id": "5c9128d4",
      "metadata": {
        "id": "5c9128d4"
      },
      "outputs": [],
      "source": [
        " class myCallback(tf.keras.callbacks.Callback):\n",
        "  def on_epoch_end(self, epoch, logs={}):\n",
        "    if(logs.get('val_root_mean_squared_error')<0.25):\n",
        "      print('Lapor! Metriks validasi sudah sesuai harapan')\n",
        "      self.model.stop_training = True"
      ]
    },
    {
      "cell_type": "code",
      "execution_count": 50,
      "id": "c386d342",
      "metadata": {
        "colab": {
          "base_uri": "https://localhost:8080/"
        },
        "id": "c386d342",
        "outputId": "26b6785d-7732-4d44-9aac-93449d8a068c"
      },
      "outputs": [
        {
          "output_type": "stream",
          "name": "stdout",
          "text": [
            "Epoch 1/100\n",
            "250/250 [==============================] - 2s 4ms/step - loss: 0.7190 - root_mean_squared_error: 0.3624 - val_loss: 0.7155 - val_root_mean_squared_error: 0.3603\n",
            "Epoch 2/100\n",
            "250/250 [==============================] - 1s 3ms/step - loss: 0.7118 - root_mean_squared_error: 0.3578 - val_loss: 0.7142 - val_root_mean_squared_error: 0.3594\n",
            "Epoch 3/100\n",
            "250/250 [==============================] - 1s 3ms/step - loss: 0.7086 - root_mean_squared_error: 0.3558 - val_loss: 0.7129 - val_root_mean_squared_error: 0.3586\n",
            "Epoch 4/100\n",
            "250/250 [==============================] - 1s 2ms/step - loss: 0.7054 - root_mean_squared_error: 0.3536 - val_loss: 0.7114 - val_root_mean_squared_error: 0.3576\n",
            "Epoch 5/100\n",
            "250/250 [==============================] - 1s 2ms/step - loss: 0.7069 - root_mean_squared_error: 0.3546 - val_loss: 0.7102 - val_root_mean_squared_error: 0.3568\n",
            "Epoch 6/100\n",
            "250/250 [==============================] - 1s 3ms/step - loss: 0.7020 - root_mean_squared_error: 0.3513 - val_loss: 0.7099 - val_root_mean_squared_error: 0.3566\n",
            "Epoch 7/100\n",
            "250/250 [==============================] - 1s 3ms/step - loss: 0.7024 - root_mean_squared_error: 0.3516 - val_loss: 0.7091 - val_root_mean_squared_error: 0.3560\n",
            "Epoch 8/100\n",
            "250/250 [==============================] - 1s 2ms/step - loss: 0.6994 - root_mean_squared_error: 0.3496 - val_loss: 0.7083 - val_root_mean_squared_error: 0.3555\n",
            "Epoch 9/100\n",
            "250/250 [==============================] - 1s 2ms/step - loss: 0.7019 - root_mean_squared_error: 0.3512 - val_loss: 0.7071 - val_root_mean_squared_error: 0.3547\n",
            "Epoch 10/100\n",
            "250/250 [==============================] - 1s 2ms/step - loss: 0.6971 - root_mean_squared_error: 0.3479 - val_loss: 0.7075 - val_root_mean_squared_error: 0.3549\n",
            "Epoch 11/100\n",
            "250/250 [==============================] - 1s 3ms/step - loss: 0.6961 - root_mean_squared_error: 0.3472 - val_loss: 0.7071 - val_root_mean_squared_error: 0.3547\n",
            "Epoch 12/100\n",
            "250/250 [==============================] - 1s 2ms/step - loss: 0.6986 - root_mean_squared_error: 0.3489 - val_loss: 0.7070 - val_root_mean_squared_error: 0.3546\n",
            "Epoch 13/100\n",
            "250/250 [==============================] - 1s 3ms/step - loss: 0.6960 - root_mean_squared_error: 0.3472 - val_loss: 0.7063 - val_root_mean_squared_error: 0.3542\n",
            "Epoch 14/100\n",
            "250/250 [==============================] - 1s 2ms/step - loss: 0.6918 - root_mean_squared_error: 0.3443 - val_loss: 0.7068 - val_root_mean_squared_error: 0.3545\n",
            "Epoch 15/100\n",
            "250/250 [==============================] - 1s 2ms/step - loss: 0.6945 - root_mean_squared_error: 0.3461 - val_loss: 0.7059 - val_root_mean_squared_error: 0.3539\n",
            "Epoch 16/100\n",
            "250/250 [==============================] - 1s 3ms/step - loss: 0.6928 - root_mean_squared_error: 0.3449 - val_loss: 0.7049 - val_root_mean_squared_error: 0.3532\n",
            "Epoch 17/100\n",
            "250/250 [==============================] - 1s 3ms/step - loss: 0.6916 - root_mean_squared_error: 0.3441 - val_loss: 0.7048 - val_root_mean_squared_error: 0.3531\n",
            "Epoch 18/100\n",
            "250/250 [==============================] - 1s 2ms/step - loss: 0.6907 - root_mean_squared_error: 0.3435 - val_loss: 0.7045 - val_root_mean_squared_error: 0.3529\n",
            "Epoch 19/100\n",
            "250/250 [==============================] - 1s 2ms/step - loss: 0.6894 - root_mean_squared_error: 0.3425 - val_loss: 0.7043 - val_root_mean_squared_error: 0.3527\n",
            "Epoch 20/100\n",
            "250/250 [==============================] - 1s 3ms/step - loss: 0.6893 - root_mean_squared_error: 0.3425 - val_loss: 0.7030 - val_root_mean_squared_error: 0.3519\n",
            "Epoch 21/100\n",
            "250/250 [==============================] - 1s 2ms/step - loss: 0.6885 - root_mean_squared_error: 0.3419 - val_loss: 0.7029 - val_root_mean_squared_error: 0.3518\n",
            "Epoch 22/100\n",
            "250/250 [==============================] - 1s 3ms/step - loss: 0.6886 - root_mean_squared_error: 0.3419 - val_loss: 0.7022 - val_root_mean_squared_error: 0.3513\n",
            "Epoch 23/100\n",
            "250/250 [==============================] - 1s 3ms/step - loss: 0.6881 - root_mean_squared_error: 0.3416 - val_loss: 0.7023 - val_root_mean_squared_error: 0.3514\n",
            "Epoch 24/100\n",
            "250/250 [==============================] - 1s 3ms/step - loss: 0.6854 - root_mean_squared_error: 0.3397 - val_loss: 0.7029 - val_root_mean_squared_error: 0.3518\n",
            "Epoch 25/100\n",
            "250/250 [==============================] - 1s 3ms/step - loss: 0.6877 - root_mean_squared_error: 0.3413 - val_loss: 0.7036 - val_root_mean_squared_error: 0.3523\n",
            "Epoch 26/100\n",
            "250/250 [==============================] - 1s 3ms/step - loss: 0.6853 - root_mean_squared_error: 0.3396 - val_loss: 0.7041 - val_root_mean_squared_error: 0.3526\n",
            "Epoch 27/100\n",
            "250/250 [==============================] - 1s 2ms/step - loss: 0.6835 - root_mean_squared_error: 0.3383 - val_loss: 0.7042 - val_root_mean_squared_error: 0.3527\n",
            "Epoch 28/100\n",
            "250/250 [==============================] - 1s 2ms/step - loss: 0.6825 - root_mean_squared_error: 0.3376 - val_loss: 0.7043 - val_root_mean_squared_error: 0.3527\n",
            "Epoch 29/100\n",
            "250/250 [==============================] - 1s 3ms/step - loss: 0.6853 - root_mean_squared_error: 0.3397 - val_loss: 0.7040 - val_root_mean_squared_error: 0.3525\n",
            "Epoch 30/100\n",
            "250/250 [==============================] - 1s 3ms/step - loss: 0.6842 - root_mean_squared_error: 0.3388 - val_loss: 0.7044 - val_root_mean_squared_error: 0.3528\n",
            "Epoch 31/100\n",
            "250/250 [==============================] - 1s 2ms/step - loss: 0.6825 - root_mean_squared_error: 0.3376 - val_loss: 0.7037 - val_root_mean_squared_error: 0.3523\n",
            "Epoch 32/100\n",
            "250/250 [==============================] - 1s 2ms/step - loss: 0.6827 - root_mean_squared_error: 0.3378 - val_loss: 0.7032 - val_root_mean_squared_error: 0.3520\n",
            "Epoch 33/100\n",
            "250/250 [==============================] - 1s 3ms/step - loss: 0.6811 - root_mean_squared_error: 0.3367 - val_loss: 0.7033 - val_root_mean_squared_error: 0.3521\n",
            "Epoch 34/100\n",
            "250/250 [==============================] - 1s 2ms/step - loss: 0.6817 - root_mean_squared_error: 0.3370 - val_loss: 0.7035 - val_root_mean_squared_error: 0.3521\n",
            "Epoch 35/100\n",
            "250/250 [==============================] - 1s 2ms/step - loss: 0.6825 - root_mean_squared_error: 0.3376 - val_loss: 0.7035 - val_root_mean_squared_error: 0.3521\n",
            "Epoch 36/100\n",
            "250/250 [==============================] - 1s 2ms/step - loss: 0.6810 - root_mean_squared_error: 0.3365 - val_loss: 0.7032 - val_root_mean_squared_error: 0.3519\n",
            "Epoch 37/100\n",
            "250/250 [==============================] - 1s 2ms/step - loss: 0.6804 - root_mean_squared_error: 0.3361 - val_loss: 0.7037 - val_root_mean_squared_error: 0.3523\n",
            "Epoch 38/100\n",
            "250/250 [==============================] - 1s 3ms/step - loss: 0.6806 - root_mean_squared_error: 0.3363 - val_loss: 0.7039 - val_root_mean_squared_error: 0.3524\n",
            "Epoch 39/100\n",
            "250/250 [==============================] - 1s 3ms/step - loss: 0.6809 - root_mean_squared_error: 0.3365 - val_loss: 0.7038 - val_root_mean_squared_error: 0.3524\n",
            "Epoch 40/100\n",
            "250/250 [==============================] - 1s 2ms/step - loss: 0.6788 - root_mean_squared_error: 0.3349 - val_loss: 0.7029 - val_root_mean_squared_error: 0.3517\n",
            "Epoch 41/100\n",
            "250/250 [==============================] - 1s 3ms/step - loss: 0.6796 - root_mean_squared_error: 0.3355 - val_loss: 0.7042 - val_root_mean_squared_error: 0.3527\n",
            "Epoch 42/100\n",
            "250/250 [==============================] - 1s 2ms/step - loss: 0.6791 - root_mean_squared_error: 0.3351 - val_loss: 0.7042 - val_root_mean_squared_error: 0.3527\n",
            "Epoch 43/100\n",
            "250/250 [==============================] - 1s 2ms/step - loss: 0.6801 - root_mean_squared_error: 0.3359 - val_loss: 0.7040 - val_root_mean_squared_error: 0.3525\n",
            "Epoch 44/100\n",
            "250/250 [==============================] - 1s 2ms/step - loss: 0.6786 - root_mean_squared_error: 0.3348 - val_loss: 0.7040 - val_root_mean_squared_error: 0.3525\n",
            "Epoch 45/100\n",
            "250/250 [==============================] - 1s 3ms/step - loss: 0.6796 - root_mean_squared_error: 0.3355 - val_loss: 0.7044 - val_root_mean_squared_error: 0.3528\n",
            "Epoch 46/100\n",
            "250/250 [==============================] - 1s 2ms/step - loss: 0.6789 - root_mean_squared_error: 0.3350 - val_loss: 0.7046 - val_root_mean_squared_error: 0.3529\n",
            "Epoch 47/100\n",
            "250/250 [==============================] - 1s 3ms/step - loss: 0.6777 - root_mean_squared_error: 0.3342 - val_loss: 0.7051 - val_root_mean_squared_error: 0.3532\n",
            "Epoch 48/100\n",
            "250/250 [==============================] - 1s 3ms/step - loss: 0.6795 - root_mean_squared_error: 0.3355 - val_loss: 0.7048 - val_root_mean_squared_error: 0.3530\n",
            "Epoch 49/100\n",
            "250/250 [==============================] - 1s 2ms/step - loss: 0.6780 - root_mean_squared_error: 0.3344 - val_loss: 0.7055 - val_root_mean_squared_error: 0.3535\n",
            "Epoch 50/100\n",
            "250/250 [==============================] - 1s 3ms/step - loss: 0.6781 - root_mean_squared_error: 0.3345 - val_loss: 0.7055 - val_root_mean_squared_error: 0.3535\n",
            "Epoch 51/100\n",
            "250/250 [==============================] - 1s 3ms/step - loss: 0.6772 - root_mean_squared_error: 0.3337 - val_loss: 0.7049 - val_root_mean_squared_error: 0.3531\n",
            "Epoch 52/100\n",
            "250/250 [==============================] - 1s 2ms/step - loss: 0.6771 - root_mean_squared_error: 0.3337 - val_loss: 0.7045 - val_root_mean_squared_error: 0.3528\n",
            "Epoch 53/100\n",
            "250/250 [==============================] - 1s 3ms/step - loss: 0.6770 - root_mean_squared_error: 0.3337 - val_loss: 0.7047 - val_root_mean_squared_error: 0.3529\n",
            "Epoch 54/100\n",
            "250/250 [==============================] - 1s 2ms/step - loss: 0.6774 - root_mean_squared_error: 0.3339 - val_loss: 0.7047 - val_root_mean_squared_error: 0.3530\n",
            "Epoch 55/100\n",
            "250/250 [==============================] - 1s 2ms/step - loss: 0.6756 - root_mean_squared_error: 0.3326 - val_loss: 0.7049 - val_root_mean_squared_error: 0.3531\n",
            "Epoch 56/100\n",
            "250/250 [==============================] - 1s 2ms/step - loss: 0.6764 - root_mean_squared_error: 0.3332 - val_loss: 0.7049 - val_root_mean_squared_error: 0.3531\n",
            "Epoch 57/100\n",
            "250/250 [==============================] - 1s 2ms/step - loss: 0.6775 - root_mean_squared_error: 0.3340 - val_loss: 0.7042 - val_root_mean_squared_error: 0.3526\n",
            "Epoch 58/100\n",
            "250/250 [==============================] - 1s 2ms/step - loss: 0.6769 - root_mean_squared_error: 0.3336 - val_loss: 0.7048 - val_root_mean_squared_error: 0.3530\n",
            "Epoch 59/100\n",
            "250/250 [==============================] - 1s 3ms/step - loss: 0.6777 - root_mean_squared_error: 0.3342 - val_loss: 0.7042 - val_root_mean_squared_error: 0.3526\n",
            "Epoch 60/100\n",
            "250/250 [==============================] - 1s 2ms/step - loss: 0.6764 - root_mean_squared_error: 0.3332 - val_loss: 0.7053 - val_root_mean_squared_error: 0.3533\n",
            "Epoch 61/100\n",
            "250/250 [==============================] - 1s 3ms/step - loss: 0.6767 - root_mean_squared_error: 0.3334 - val_loss: 0.7052 - val_root_mean_squared_error: 0.3533\n",
            "Epoch 62/100\n",
            "250/250 [==============================] - 1s 2ms/step - loss: 0.6761 - root_mean_squared_error: 0.3329 - val_loss: 0.7055 - val_root_mean_squared_error: 0.3535\n",
            "Epoch 63/100\n",
            "250/250 [==============================] - 1s 2ms/step - loss: 0.6762 - root_mean_squared_error: 0.3330 - val_loss: 0.7054 - val_root_mean_squared_error: 0.3535\n",
            "Epoch 64/100\n",
            "250/250 [==============================] - 1s 3ms/step - loss: 0.6761 - root_mean_squared_error: 0.3330 - val_loss: 0.7058 - val_root_mean_squared_error: 0.3537\n",
            "Epoch 65/100\n",
            "250/250 [==============================] - 1s 2ms/step - loss: 0.6752 - root_mean_squared_error: 0.3323 - val_loss: 0.7058 - val_root_mean_squared_error: 0.3537\n",
            "Epoch 66/100\n",
            "250/250 [==============================] - 1s 3ms/step - loss: 0.6755 - root_mean_squared_error: 0.3325 - val_loss: 0.7052 - val_root_mean_squared_error: 0.3533\n",
            "Epoch 67/100\n",
            "250/250 [==============================] - 1s 2ms/step - loss: 0.6766 - root_mean_squared_error: 0.3334 - val_loss: 0.7046 - val_root_mean_squared_error: 0.3529\n",
            "Epoch 68/100\n",
            "250/250 [==============================] - 1s 3ms/step - loss: 0.6755 - root_mean_squared_error: 0.3326 - val_loss: 0.7046 - val_root_mean_squared_error: 0.3529\n",
            "Epoch 69/100\n",
            "250/250 [==============================] - 1s 2ms/step - loss: 0.6765 - root_mean_squared_error: 0.3333 - val_loss: 0.7050 - val_root_mean_squared_error: 0.3531\n",
            "Epoch 70/100\n",
            "250/250 [==============================] - 1s 3ms/step - loss: 0.6759 - root_mean_squared_error: 0.3329 - val_loss: 0.7052 - val_root_mean_squared_error: 0.3532\n",
            "Epoch 71/100\n",
            "250/250 [==============================] - 1s 3ms/step - loss: 0.6762 - root_mean_squared_error: 0.3331 - val_loss: 0.7056 - val_root_mean_squared_error: 0.3535\n",
            "Epoch 72/100\n",
            "250/250 [==============================] - 1s 3ms/step - loss: 0.6763 - root_mean_squared_error: 0.3330 - val_loss: 0.7053 - val_root_mean_squared_error: 0.3533\n",
            "Epoch 73/100\n",
            "250/250 [==============================] - 1s 2ms/step - loss: 0.6753 - root_mean_squared_error: 0.3324 - val_loss: 0.7046 - val_root_mean_squared_error: 0.3529\n",
            "Epoch 74/100\n",
            "250/250 [==============================] - 1s 3ms/step - loss: 0.6760 - root_mean_squared_error: 0.3329 - val_loss: 0.7053 - val_root_mean_squared_error: 0.3533\n",
            "Epoch 75/100\n",
            "250/250 [==============================] - 1s 3ms/step - loss: 0.6773 - root_mean_squared_error: 0.3339 - val_loss: 0.7056 - val_root_mean_squared_error: 0.3535\n",
            "Epoch 76/100\n",
            "250/250 [==============================] - 1s 3ms/step - loss: 0.6745 - root_mean_squared_error: 0.3318 - val_loss: 0.7056 - val_root_mean_squared_error: 0.3535\n",
            "Epoch 77/100\n",
            "250/250 [==============================] - 1s 3ms/step - loss: 0.6748 - root_mean_squared_error: 0.3320 - val_loss: 0.7056 - val_root_mean_squared_error: 0.3535\n",
            "Epoch 78/100\n",
            "250/250 [==============================] - 1s 2ms/step - loss: 0.6748 - root_mean_squared_error: 0.3320 - val_loss: 0.7059 - val_root_mean_squared_error: 0.3537\n",
            "Epoch 79/100\n",
            "250/250 [==============================] - 1s 2ms/step - loss: 0.6746 - root_mean_squared_error: 0.3319 - val_loss: 0.7067 - val_root_mean_squared_error: 0.3542\n",
            "Epoch 80/100\n",
            "250/250 [==============================] - 1s 3ms/step - loss: 0.6750 - root_mean_squared_error: 0.3322 - val_loss: 0.7072 - val_root_mean_squared_error: 0.3546\n",
            "Epoch 81/100\n",
            "250/250 [==============================] - 1s 2ms/step - loss: 0.6759 - root_mean_squared_error: 0.3329 - val_loss: 0.7066 - val_root_mean_squared_error: 0.3542\n",
            "Epoch 82/100\n",
            "250/250 [==============================] - 1s 3ms/step - loss: 0.6755 - root_mean_squared_error: 0.3325 - val_loss: 0.7066 - val_root_mean_squared_error: 0.3542\n",
            "Epoch 83/100\n",
            "250/250 [==============================] - 1s 2ms/step - loss: 0.6751 - root_mean_squared_error: 0.3322 - val_loss: 0.7072 - val_root_mean_squared_error: 0.3545\n",
            "Epoch 84/100\n",
            "250/250 [==============================] - 1s 3ms/step - loss: 0.6757 - root_mean_squared_error: 0.3327 - val_loss: 0.7068 - val_root_mean_squared_error: 0.3543\n",
            "Epoch 85/100\n",
            "250/250 [==============================] - 1s 3ms/step - loss: 0.6756 - root_mean_squared_error: 0.3326 - val_loss: 0.7060 - val_root_mean_squared_error: 0.3538\n",
            "Epoch 86/100\n",
            "250/250 [==============================] - 1s 2ms/step - loss: 0.6752 - root_mean_squared_error: 0.3323 - val_loss: 0.7065 - val_root_mean_squared_error: 0.3541\n",
            "Epoch 87/100\n",
            "250/250 [==============================] - 1s 3ms/step - loss: 0.6747 - root_mean_squared_error: 0.3320 - val_loss: 0.7062 - val_root_mean_squared_error: 0.3539\n",
            "Epoch 88/100\n",
            "250/250 [==============================] - 1s 2ms/step - loss: 0.6754 - root_mean_squared_error: 0.3325 - val_loss: 0.7059 - val_root_mean_squared_error: 0.3537\n",
            "Epoch 89/100\n",
            "250/250 [==============================] - 1s 3ms/step - loss: 0.6749 - root_mean_squared_error: 0.3321 - val_loss: 0.7058 - val_root_mean_squared_error: 0.3537\n",
            "Epoch 90/100\n",
            "250/250 [==============================] - 1s 3ms/step - loss: 0.6735 - root_mean_squared_error: 0.3311 - val_loss: 0.7058 - val_root_mean_squared_error: 0.3536\n",
            "Epoch 91/100\n",
            "250/250 [==============================] - 1s 3ms/step - loss: 0.6735 - root_mean_squared_error: 0.3311 - val_loss: 0.7061 - val_root_mean_squared_error: 0.3538\n",
            "Epoch 92/100\n",
            "250/250 [==============================] - 1s 3ms/step - loss: 0.6745 - root_mean_squared_error: 0.3318 - val_loss: 0.7058 - val_root_mean_squared_error: 0.3536\n",
            "Epoch 93/100\n",
            "250/250 [==============================] - 1s 2ms/step - loss: 0.6747 - root_mean_squared_error: 0.3320 - val_loss: 0.7066 - val_root_mean_squared_error: 0.3542\n",
            "Epoch 94/100\n",
            "250/250 [==============================] - 1s 2ms/step - loss: 0.6749 - root_mean_squared_error: 0.3321 - val_loss: 0.7058 - val_root_mean_squared_error: 0.3536\n",
            "Epoch 95/100\n",
            "250/250 [==============================] - 1s 3ms/step - loss: 0.6747 - root_mean_squared_error: 0.3319 - val_loss: 0.7064 - val_root_mean_squared_error: 0.3540\n",
            "Epoch 96/100\n",
            "250/250 [==============================] - 1s 3ms/step - loss: 0.6745 - root_mean_squared_error: 0.3318 - val_loss: 0.7068 - val_root_mean_squared_error: 0.3543\n",
            "Epoch 97/100\n",
            "250/250 [==============================] - 1s 2ms/step - loss: 0.6744 - root_mean_squared_error: 0.3318 - val_loss: 0.7067 - val_root_mean_squared_error: 0.3542\n",
            "Epoch 98/100\n",
            "250/250 [==============================] - 1s 3ms/step - loss: 0.6753 - root_mean_squared_error: 0.3324 - val_loss: 0.7066 - val_root_mean_squared_error: 0.3541\n",
            "Epoch 99/100\n",
            "250/250 [==============================] - 1s 3ms/step - loss: 0.6743 - root_mean_squared_error: 0.3317 - val_loss: 0.7062 - val_root_mean_squared_error: 0.3539\n",
            "Epoch 100/100\n",
            "250/250 [==============================] - 1s 2ms/step - loss: 0.6750 - root_mean_squared_error: 0.3322 - val_loss: 0.7064 - val_root_mean_squared_error: 0.3540\n"
          ]
        }
      ],
      "source": [
        "# Memulai training\n",
        " \n",
        "history = model.fit(\n",
        "    x = x_train,\n",
        "    y = y_train,\n",
        "    epochs = 100,\n",
        "    validation_data = (x_val, y_val),\n",
        "    callbacks = [myCallback()]\n",
        ")"
      ]
    },
    {
      "cell_type": "code",
      "execution_count": 51,
      "id": "76765814",
      "metadata": {
        "colab": {
          "base_uri": "https://localhost:8080/",
          "height": 301
        },
        "id": "76765814",
        "outputId": "5ae3db1d-777a-4dec-92dc-7b2a61faba1c"
      },
      "outputs": [
        {
          "output_type": "display_data",
          "data": {
            "text/plain": [
              "<Figure size 432x288 with 1 Axes>"
            ],
            "image/png": "[encoded data removed]"
          },
          "metadata": {
            "needs_background": "light"
          }
        }
      ],
      "source": [
        "# Menampilkan plot loss dan validation\n",
        "\n",
        "plt.plot(history.history['root_mean_squared_error'])\n",
        "plt.plot(history.history['val_root_mean_squared_error'])\n",
        "plt.title('model_metrics')\n",
        "plt.ylabel('root_mean_squared_error')\n",
        "plt.xlabel('epoch')\n",
        "plt.ylim(ymin=0, ymax=0.4)\n",
        "plt.legend(['train', 'test'], loc='center left')\n",
        "plt.show()"
      ]
    },
    {
      "cell_type": "markdown",
      "id": "20f05ac8",
      "metadata": {
        "id": "20f05ac8"
      },
      "source": [
        "# MEMBUAT TOP 5 REKOMENDASI"
      ]
    },
    {
      "cell_type": "code",
      "source": [
        "place.columns"
      ],
      "metadata": {
        "colab": {
          "base_uri": "https://localhost:8080/"
        },
        "id": "wX4XLA0tWYe1",
        "outputId": "8abe8ba4-472b-4104-a31b-06806313c69d"
      },
      "id": "wX4XLA0tWYe1",
      "execution_count": 52,
      "outputs": [
        {
          "output_type": "execute_result",
          "data": {
            "text/plain": [
              "Index(['Place_Id', 'Place_Name', 'Description', 'Category', 'City', 'Rating',\n",
              "       'Coordinate', 'Lat', 'Long', 'Price', 'Image'],\n",
              "      dtype='object')"
            ]
          },
          "metadata": {},
          "execution_count": 52
        }
      ]
    },
    {
      "cell_type": "code",
      "execution_count": 54,
      "id": "1d490ce0",
      "metadata": {
        "id": "1d490ce0"
      },
      "outputs": [],
      "source": [
        "# Menyiapkan dataframe\n",
        "place_df = place[['Place_Id', 'Place_Name', 'Description', 'Category', 'City', 'Rating',\n",
        "       'Coordinate', 'Lat', 'Long', 'Price', 'Image']]\n",
        "place_df.columns = ['Place_Id', 'Place_Name', 'Description', 'Category', 'City', 'Rating',\n",
        "       'Coordinate', 'Lat', 'Long', 'Price', 'Image']\n",
        "df = rating.copy()"
      ]
    },
    {
      "cell_type": "code",
      "execution_count": 55,
      "id": "26da7702",
      "metadata": {
        "id": "26da7702"
      },
      "outputs": [],
      "source": [
        "# Mengambil sample user\n",
        "user_id = df.User_Id.sample(1).iloc[0]\n",
        "place_visited_by_user = df[df.User_Id == user_id]"
      ]
    },
    {
      "cell_type": "code",
      "execution_count": 56,
      "id": "46ec8731",
      "metadata": {
        "id": "46ec8731"
      },
      "outputs": [],
      "source": [
        "# Membuat data lokasi yang belum dikunjungi user\n",
        "place_not_visited = place_df[~place_df['Place_Id'].isin(place_visited_by_user.Place_Id.values)]['Place_Id'] \n",
        "place_not_visited = list(\n",
        "    set(place_not_visited)\n",
        "    .intersection(set(place_to_place_encoded.keys()))\n",
        ")\n",
        " \n",
        "place_not_visited = [[place_to_place_encoded.get(x)] for x in place_not_visited]\n",
        "user_encoder = user_to_user_encoded.get(user_id)\n",
        "user_place_array = np.hstack(\n",
        "    ([[user_encoder]] * len(place_not_visited), place_not_visited)\n",
        ")"
      ]
    },
    {
      "cell_type": "code",
      "execution_count": 57,
      "id": "9c776472",
      "metadata": {
        "colab": {
          "base_uri": "https://localhost:8080/"
        },
        "id": "9c776472",
        "outputId": "2302d0af-ec35-4061-876b-1754c1b8651b"
      },
      "outputs": [
        {
          "output_type": "stream",
          "name": "stdout",
          "text": [
            "\n",
            "------------------------------------------------------------\n",
            "Top 5 place recommendation\n",
            "------------------------------------------------------------\n",
            "1 . Taman Pintar Yogyakarta \n",
            "     Taman Hiburan , Harga Tiket Masuk  6000 , Rating Wisata  4.5 \n",
            "\n",
            "2 . Monumen Serangan Umum 1 Maret \n",
            "     Taman Hiburan , Harga Tiket Masuk  3000 , Rating Wisata  4.6 \n",
            "\n",
            "3 . Pantai Pok Tunggal \n",
            "     Bahari , Harga Tiket Masuk  10000 , Rating Wisata  4.5 \n",
            "\n",
            "4 . Museum Gunung Merapi \n",
            "     Budaya , Harga Tiket Masuk  10000 , Rating Wisata  4.4 \n",
            "\n",
            "5 . Pantai Ngrenehan \n",
            "     Bahari , Harga Tiket Masuk  3000 , Rating Wisata  4.4 \n",
            "\n",
            "=============================================\n"
          ]
        }
      ],
      "source": [
        "# Mengambil top 5 recommendation\n",
        "ratings = model.predict(user_place_array).flatten()\n",
        "top_ratings_indices = ratings.argsort()[-5:][::-1]\n",
        "recommended_place_ids = [\n",
        "    place_encoded_to_place.get(place_not_visited[x][0]) for x in top_ratings_indices\n",
        "]\n",
        " \n",
        "\n",
        "print('')\n",
        "print('----' * 15)\n",
        "print('Top 5 place recommendation')\n",
        "print('----' * 15)\n",
        " \n",
        "recommended_place = place_df[place_df['Place_Id'].isin(recommended_place_ids)]\n",
        "for row, i in zip(recommended_place.itertuples(), range(1,8)):\n",
        "    print(i,'.', row.Place_Name, '\\n    ', row.Category, ',', 'Harga Tiket Masuk ', row.Price, ',', 'Rating Wisata ',row.Rating,'\\n')\n",
        "\n",
        "print('==='*15)"
      ]
    },
    {
      "cell_type": "markdown",
      "source": [
        "## Save Model"
      ],
      "metadata": {
        "id": "5glov2DYOi4q"
      },
      "id": "5glov2DYOi4q"
    },
    {
      "cell_type": "code",
      "execution_count": 58,
      "id": "73e885bc",
      "metadata": {
        "id": "73e885bc"
      },
      "outputs": [],
      "source": [
        "model.save_weights('./checkpoints/my_checkpoint')"
      ]
    },
    {
      "cell_type": "markdown",
      "source": [
        "## Load Model"
      ],
      "metadata": {
        "id": "sEuM9i_9Olp2"
      },
      "id": "sEuM9i_9Olp2"
    },
    {
      "cell_type": "code",
      "execution_count": null,
      "id": "8ee416b2",
      "metadata": {
        "id": "8ee416b2",
        "colab": {
          "base_uri": "https://localhost:8080/"
        },
        "outputId": "51b46f03-401d-45cc-e01d-e164579a940a"
      },
      "outputs": [
        {
          "output_type": "execute_result",
          "data": {
            "text/plain": [
              "<tensorflow.python.training.tracking.util.CheckpointLoadStatus at 0x7f9269e2b0d0>"
            ]
          },
          "metadata": {},
          "execution_count": 34
        }
      ],
      "source": [
        "model_load = RecommenderNet(num_users, num_place, 50)\n",
        "model_load.compile(\n",
        "    loss = tf.keras.losses.BinaryCrossentropy(),\n",
        "    optimizer = keras.optimizers.Adam(learning_rate=0.0004),\n",
        "    metrics=[tf.keras.metrics.RootMeanSquaredError()]\n",
        ")\n",
        "model_load.load_weights('./checkpoints/my_checkpoint')"
      ]
    },
    {
      "cell_type": "code",
      "execution_count": null,
      "id": "b266f6fd",
      "metadata": {
        "id": "b266f6fd",
        "colab": {
          "base_uri": "https://localhost:8080/"
        },
        "outputId": "1cdd6ae8-90a0-4869-954c-279d4102874c"
      },
      "outputs": [
        {
          "output_type": "stream",
          "name": "stdout",
          "text": [
            "18/18 [==============================] - 0s 2ms/step - loss: 0.7175 - root_mean_squared_error: 0.3575\n"
          ]
        },
        {
          "output_type": "execute_result",
          "data": {
            "text/plain": [
              "[0.7174824476242065, 0.3574642241001129]"
            ]
          },
          "metadata": {},
          "execution_count": 35
        }
      ],
      "source": [
        "model.evaluate(x=x_val, y=y_val)"
      ]
    },
    {
      "cell_type": "code",
      "source": [
        "model_load.evaluate(x=x_val, y=y_val)"
      ],
      "metadata": {
        "colab": {
          "base_uri": "https://localhost:8080/"
        },
        "id": "4Pe0i6bTOI9f",
        "outputId": "702b2595-c785-46df-86be-65576600a969"
      },
      "id": "4Pe0i6bTOI9f",
      "execution_count": null,
      "outputs": [
        {
          "output_type": "stream",
          "name": "stdout",
          "text": [
            "18/18 [==============================] - 0s 2ms/step - loss: 0.7175 - root_mean_squared_error: 0.3575\n"
          ]
        },
        {
          "output_type": "execute_result",
          "data": {
            "text/plain": [
              "[0.7174824476242065, 0.3574642241001129]"
            ]
          },
          "metadata": {},
          "execution_count": 36
        }
      ]
    },
    {
      "cell_type": "code",
      "source": [
        "# Mengambil top 5 recommendation\n",
        "ratings = model_load.predict(user_place_array).flatten()\n",
        "top_ratings_indices = ratings.argsort()[-5:][::-1]\n",
        "recommended_place_ids = [\n",
        "    place_encoded_to_place.get(place_not_visited[x][0]) for x in top_ratings_indices\n",
        "]\n",
        " \n",
        "\n",
        "print('')\n",
        "print('----' * 15)\n",
        "print('Top 5 place recommendation')\n",
        "print('----' * 15)\n",
        " \n",
        "recommended_place = place_df[place_df['Place_Id'].isin(recommended_place_ids)]\n",
        "for row, i in zip(recommended_place.itertuples(), range(1,8)):\n",
        "    print(i,'.', row.Place_Name, '\\n    ', row.Category, ',', 'Harga Tiket Masuk ', row.Price, ',', 'Rating Wisata ',row.Rating,'\\n')\n",
        "\n",
        "print('==='*15)"
      ],
      "metadata": {
        "colab": {
          "base_uri": "https://localhost:8080/"
        },
        "id": "d7posYVTOXSn",
        "outputId": "b43daf31-8bc1-47d9-c84b-d4332b89e538"
      },
      "id": "d7posYVTOXSn",
      "execution_count": null,
      "outputs": [
        {
          "output_type": "stream",
          "name": "stdout",
          "text": [
            "\n",
            "------------------------------------------------------------\n",
            "Top 5 place recommendation\n",
            "------------------------------------------------------------\n",
            "1 . Situs Warungboto \n",
            "     Taman Hiburan , Harga Tiket Masuk  0 , Rating Wisata  4.4 \n",
            "\n",
            "2 . Sumur Gumuling \n",
            "     Taman Hiburan , Harga Tiket Masuk  7000 , Rating Wisata  4.5 \n",
            "\n",
            "3 . Monumen Yogya Kembali \n",
            "     Budaya , Harga Tiket Masuk  15000 , Rating Wisata  4.5 \n",
            "\n",
            "4 . Bukit Bintang Yogyakarta \n",
            "     Taman Hiburan , Harga Tiket Masuk  25000 , Rating Wisata  4.5 \n",
            "\n",
            "5 . The World Landmarks - Merapi Park Yogyakarta \n",
            "     Taman Hiburan , Harga Tiket Masuk  22000 , Rating Wisata  4.2 \n",
            "\n",
            "=============================================\n"
          ]
        }
      ]
    }
  ],
  "metadata": {
    "kernelspec": {
      "display_name": "Python 3 (ipykernel)",
      "language": "python",
      "name": "python3"
    },
    "language_info": {
      "codemirror_mode": {
        "name": "ipython",
        "version": 3
      },
      "file_extension": ".py",
      "mimetype": "text/x-python",
      "name": "python",
      "nbconvert_exporter": "python",
      "pygments_lexer": "ipython3",
      "version": "3.8.10"
    },
    "colab": {
      "name": "wisata_yogyakarata.ipynb",
      "provenance": []
    }
  },
  "nbformat": 4,
  "nbformat_minor": 5
}