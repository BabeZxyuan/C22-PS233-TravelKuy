{
 "cells": [
  {
   "cell_type": "code",
   "execution_count": 4,
   "id": "78b6bc53",
   "metadata": {},
   "outputs": [],
   "source": [
    "import numpy as np\n",
    "import pandas as pd \n",
    "\n",
    "# Untuk visualisasi data\n",
    "import seaborn as sns\n",
    "import matplotlib.pyplot as plt\n",
    "\n",
    "%matplotlib inline\n",
    "sns.set_palette('Set1')\n",
    "sns.set()\n",
    "\n",
    "# Untuk pemodelan\n",
    "import tensorflow as tf\n",
    "from tensorflow import keras\n",
    "from tensorflow.keras import layers\n",
    "\n",
    "# Untuk menghilangkan warnings saat plotting seaborn\n",
    "import warnings\n",
    "warnings.filterwarnings('ignore')"
   ]
  },
  {
   "cell_type": "code",
   "execution_count": 5,
   "id": "8acc07f3",
   "metadata": {},
   "outputs": [],
   "source": [
    "# package = pd.read_csv('../../data/wisata/package_tourism.csv')\n",
    "rating = pd.read_csv('../../data/rating.csv')\n",
    "place = pd.read_csv('../../data/wisata.csv')\n",
    "user = pd.read_csv('../../data/user.csv')"
   ]
  },
  {
   "cell_type": "code",
   "execution_count": 6,
   "id": "5534c700",
   "metadata": {},
   "outputs": [
    {
     "data": {
      "text/html": [
       "<div>\n",
       "<style scoped>\n",
       "    .dataframe tbody tr th:only-of-type {\n",
       "        vertical-align: middle;\n",
       "    }\n",
       "\n",
       "    .dataframe tbody tr th {\n",
       "        vertical-align: top;\n",
       "    }\n",
       "\n",
       "    .dataframe thead th {\n",
       "        text-align: right;\n",
       "    }\n",
       "</style>\n",
       "<table border=\"1\" class=\"dataframe\">\n",
       "  <thead>\n",
       "    <tr style=\"text-align: right;\">\n",
       "      <th></th>\n",
       "      <th>Place_Id</th>\n",
       "      <th>Place_Name</th>\n",
       "      <th>Description</th>\n",
       "      <th>Category</th>\n",
       "      <th>City</th>\n",
       "      <th>Rating</th>\n",
       "      <th>Coordinate</th>\n",
       "      <th>Lat</th>\n",
       "      <th>Long</th>\n",
       "      <th>Price</th>\n",
       "      <th>Image</th>\n",
       "    </tr>\n",
       "  </thead>\n",
       "  <tbody>\n",
       "    <tr>\n",
       "      <th>0</th>\n",
       "      <td>1</td>\n",
       "      <td>The Keranjang Bali</td>\n",
       "      <td>Disini Anda akan dapat menemukan banyak spot y...</td>\n",
       "      <td>Rekreasi</td>\n",
       "      <td>Bali</td>\n",
       "      <td>4.0</td>\n",
       "      <td>{'lat' : -8731451, 'lng': 115178175}</td>\n",
       "      <td>-873145</td>\n",
       "      <td>115178175</td>\n",
       "      <td>150000</td>\n",
       "      <td>https://arsitagx-master.s3.ap-southeast-1.amaz...</td>\n",
       "    </tr>\n",
       "    <tr>\n",
       "      <th>1</th>\n",
       "      <td>2</td>\n",
       "      <td>Bukit Campuhan</td>\n",
       "      <td>Perbukitan yang hijau dipenuhi dengan pepohona...</td>\n",
       "      <td>Cagar Alam</td>\n",
       "      <td>Bali</td>\n",
       "      <td>NaN</td>\n",
       "      <td>{'lat' :-873145, 'lng: 11525503}</td>\n",
       "      <td>-849933</td>\n",
       "      <td>11525503</td>\n",
       "      <td>0</td>\n",
       "      <td>https://3.bp.blogspot.com/-BJETbctdU3k/VcF9eXe...</td>\n",
       "    </tr>\n",
       "    <tr>\n",
       "      <th>2</th>\n",
       "      <td>3</td>\n",
       "      <td>Pantai Pandawa</td>\n",
       "      <td>Pantai Pandawa yang berpasir putih ini cukup p...</td>\n",
       "      <td>Bahari</td>\n",
       "      <td>Bali</td>\n",
       "      <td>4.6</td>\n",
       "      <td>{'lat' : -884527, 'lng': 11518707}</td>\n",
       "      <td>-884527</td>\n",
       "      <td>11518707</td>\n",
       "      <td>8000</td>\n",
       "      <td>https://arifsetiawan.com/wp-content/uploads/20...</td>\n",
       "    </tr>\n",
       "    <tr>\n",
       "      <th>3</th>\n",
       "      <td>4</td>\n",
       "      <td>Waterbom Bali</td>\n",
       "      <td>Wisata taman air di Pulau Bali ini sudah 3 tah...</td>\n",
       "      <td>Bahari</td>\n",
       "      <td>Bali</td>\n",
       "      <td>4.7</td>\n",
       "      <td>{'lat' : -872857, 'lng' : 11516938}</td>\n",
       "      <td>-872857</td>\n",
       "      <td>11516938</td>\n",
       "      <td>220000</td>\n",
       "      <td>https://www.whitewaterwest.com/wp-content/uplo...</td>\n",
       "    </tr>\n",
       "    <tr>\n",
       "      <th>4</th>\n",
       "      <td>5</td>\n",
       "      <td>Garuda Wisnu Kencana</td>\n",
       "      <td>Garuda Wisnu Kencana atau GWK merupakan salah ...</td>\n",
       "      <td>Sejarah</td>\n",
       "      <td>Bali</td>\n",
       "      <td>4.5</td>\n",
       "      <td>{'lat' : -881041, 'lng' : 11516760}</td>\n",
       "      <td>-881041</td>\n",
       "      <td>11516760</td>\n",
       "      <td>95000</td>\n",
       "      <td>https://img.jakpost.net/c/2018/11/28/2018_11_2...</td>\n",
       "    </tr>\n",
       "  </tbody>\n",
       "</table>\n",
       "</div>"
      ],
      "text/plain": [
       "   Place_Id            Place_Name  \\\n",
       "0         1    The Keranjang Bali   \n",
       "1         2        Bukit Campuhan   \n",
       "2         3        Pantai Pandawa   \n",
       "3         4         Waterbom Bali   \n",
       "4         5  Garuda Wisnu Kencana   \n",
       "\n",
       "                                         Description    Category  City  \\\n",
       "0  Disini Anda akan dapat menemukan banyak spot y...    Rekreasi  Bali   \n",
       "1  Perbukitan yang hijau dipenuhi dengan pepohona...  Cagar Alam  Bali   \n",
       "2  Pantai Pandawa yang berpasir putih ini cukup p...      Bahari  Bali   \n",
       "3  Wisata taman air di Pulau Bali ini sudah 3 tah...      Bahari  Bali   \n",
       "4  Garuda Wisnu Kencana atau GWK merupakan salah ...     Sejarah  Bali   \n",
       "\n",
       "   Rating                            Coordinate      Lat       Long   Price  \\\n",
       "0     4.0  {'lat' : -8731451, 'lng': 115178175}  -873145  115178175  150000   \n",
       "1     NaN     {'lat' :-873145, 'lng: 11525503}   -849933   11525503       0   \n",
       "2     4.6    {'lat' : -884527, 'lng': 11518707}  -884527   11518707    8000   \n",
       "3     4.7   {'lat' : -872857, 'lng' : 11516938}  -872857   11516938  220000   \n",
       "4     4.5   {'lat' : -881041, 'lng' : 11516760}  -881041   11516760   95000   \n",
       "\n",
       "                                               Image  \n",
       "0  https://arsitagx-master.s3.ap-southeast-1.amaz...  \n",
       "1  https://3.bp.blogspot.com/-BJETbctdU3k/VcF9eXe...  \n",
       "2  https://arifsetiawan.com/wp-content/uploads/20...  \n",
       "3  https://www.whitewaterwest.com/wp-content/uplo...  \n",
       "4  https://img.jakpost.net/c/2018/11/28/2018_11_2...  "
      ]
     },
     "execution_count": 6,
     "metadata": {},
     "output_type": "execute_result"
    }
   ],
   "source": [
    "# Melihat gambaran data place\n",
    "\n",
    "place.head()"
   ]
  },
  {
   "cell_type": "code",
   "execution_count": 7,
   "id": "46880410",
   "metadata": {},
   "outputs": [
    {
     "data": {
      "text/html": [
       "<div>\n",
       "<style scoped>\n",
       "    .dataframe tbody tr th:only-of-type {\n",
       "        vertical-align: middle;\n",
       "    }\n",
       "\n",
       "    .dataframe tbody tr th {\n",
       "        vertical-align: top;\n",
       "    }\n",
       "\n",
       "    .dataframe thead th {\n",
       "        text-align: right;\n",
       "    }\n",
       "</style>\n",
       "<table border=\"1\" class=\"dataframe\">\n",
       "  <thead>\n",
       "    <tr style=\"text-align: right;\">\n",
       "      <th></th>\n",
       "      <th>Place_Id</th>\n",
       "      <th>Place_Name</th>\n",
       "      <th>Description</th>\n",
       "      <th>Category</th>\n",
       "      <th>City</th>\n",
       "      <th>Rating</th>\n",
       "      <th>Coordinate</th>\n",
       "      <th>Lat</th>\n",
       "      <th>Long</th>\n",
       "      <th>Price</th>\n",
       "      <th>Image</th>\n",
       "    </tr>\n",
       "  </thead>\n",
       "  <tbody>\n",
       "    <tr>\n",
       "      <th>20</th>\n",
       "      <td>21</td>\n",
       "      <td>Taman Pintar Yogyakarta</td>\n",
       "      <td>Taman Pintar Yogyakarta (bahasa Jawa: Hanacara...</td>\n",
       "      <td>Taman Hiburan</td>\n",
       "      <td>Yogyakarta</td>\n",
       "      <td>4.5</td>\n",
       "      <td>{'lat': -7.800671500000001, 'lng': 110.3676551}</td>\n",
       "      <td>-78.006.715</td>\n",
       "      <td>1103676551</td>\n",
       "      <td>6000</td>\n",
       "      <td>https://idetrips.com/wp-content/uploads/2018/0...</td>\n",
       "    </tr>\n",
       "    <tr>\n",
       "      <th>21</th>\n",
       "      <td>22</td>\n",
       "      <td>Keraton Yogyakarta</td>\n",
       "      <td>Keraton Ngayogyakarta Hadiningrat atau Keraton...</td>\n",
       "      <td>Budaya</td>\n",
       "      <td>Yogyakarta</td>\n",
       "      <td>4.6</td>\n",
       "      <td>{'lat': -7.8052845, 'lng': 110.3642031}</td>\n",
       "      <td>-78.052.845</td>\n",
       "      <td>1103642031</td>\n",
       "      <td>15000</td>\n",
       "      <td>http://www.justgoindonesia.com/wp-content/uplo...</td>\n",
       "    </tr>\n",
       "    <tr>\n",
       "      <th>22</th>\n",
       "      <td>23</td>\n",
       "      <td>Sindu Kusuma Edupark (SKE)</td>\n",
       "      <td>Sindu Kusuma Edupark (SKE) merupakan sebuah de...</td>\n",
       "      <td>Taman Hiburan</td>\n",
       "      <td>Yogyakarta</td>\n",
       "      <td>4.2</td>\n",
       "      <td>{'lat': -7.767297300000001, 'lng': 110.3542486}</td>\n",
       "      <td>-77.672.973</td>\n",
       "      <td>1103542486</td>\n",
       "      <td>20000</td>\n",
       "      <td>https://www.sobatjogja.com/wp-content/uploads/...</td>\n",
       "    </tr>\n",
       "    <tr>\n",
       "      <th>23</th>\n",
       "      <td>24</td>\n",
       "      <td>Museum Benteng Vredeburg Yogyakarta</td>\n",
       "      <td>Museum Benteng Vredeburg (bahasa Jawa: ꦩꦸꦱꦶꦪꦸꦩ...</td>\n",
       "      <td>Budaya</td>\n",
       "      <td>Yogyakarta</td>\n",
       "      <td>4.6</td>\n",
       "      <td>{'lat': -7.800201599999999, 'lng': 110.3663044}</td>\n",
       "      <td>-78.002.016</td>\n",
       "      <td>1103663044</td>\n",
       "      <td>3000</td>\n",
       "      <td>https://www.dejogjaadventure.com/wp-content/up...</td>\n",
       "    </tr>\n",
       "    <tr>\n",
       "      <th>24</th>\n",
       "      <td>25</td>\n",
       "      <td>De Mata Museum Jogja</td>\n",
       "      <td>Museum De Mata merupakan salah satu museum yan...</td>\n",
       "      <td>Budaya</td>\n",
       "      <td>Yogyakarta</td>\n",
       "      <td>4.4</td>\n",
       "      <td>{'lat': -7.816315599999999, 'lng': 110.3871442}</td>\n",
       "      <td>-78.163.156</td>\n",
       "      <td>1103871442</td>\n",
       "      <td>50000</td>\n",
       "      <td>https://sanjayatour.com/wp-content/uploads/202...</td>\n",
       "    </tr>\n",
       "  </tbody>\n",
       "</table>\n",
       "</div>"
      ],
      "text/plain": [
       "    Place_Id                           Place_Name  \\\n",
       "20        21              Taman Pintar Yogyakarta   \n",
       "21        22                   Keraton Yogyakarta   \n",
       "22        23           Sindu Kusuma Edupark (SKE)   \n",
       "23        24  Museum Benteng Vredeburg Yogyakarta   \n",
       "24        25                 De Mata Museum Jogja   \n",
       "\n",
       "                                          Description       Category  \\\n",
       "20  Taman Pintar Yogyakarta (bahasa Jawa: Hanacara...  Taman Hiburan   \n",
       "21  Keraton Ngayogyakarta Hadiningrat atau Keraton...         Budaya   \n",
       "22  Sindu Kusuma Edupark (SKE) merupakan sebuah de...  Taman Hiburan   \n",
       "23  Museum Benteng Vredeburg (bahasa Jawa: ꦩꦸꦱꦶꦪꦸꦩ...         Budaya   \n",
       "24  Museum De Mata merupakan salah satu museum yan...         Budaya   \n",
       "\n",
       "          City  Rating                                       Coordinate  \\\n",
       "20  Yogyakarta     4.5  {'lat': -7.800671500000001, 'lng': 110.3676551}   \n",
       "21  Yogyakarta     4.6          {'lat': -7.8052845, 'lng': 110.3642031}   \n",
       "22  Yogyakarta     4.2  {'lat': -7.767297300000001, 'lng': 110.3542486}   \n",
       "23  Yogyakarta     4.6  {'lat': -7.800201599999999, 'lng': 110.3663044}   \n",
       "24  Yogyakarta     4.4  {'lat': -7.816315599999999, 'lng': 110.3871442}   \n",
       "\n",
       "            Lat        Long  Price  \\\n",
       "20  -78.006.715  1103676551   6000   \n",
       "21  -78.052.845  1103642031  15000   \n",
       "22  -77.672.973  1103542486  20000   \n",
       "23  -78.002.016  1103663044   3000   \n",
       "24  -78.163.156  1103871442  50000   \n",
       "\n",
       "                                                Image  \n",
       "20  https://idetrips.com/wp-content/uploads/2018/0...  \n",
       "21  http://www.justgoindonesia.com/wp-content/uplo...  \n",
       "22  https://www.sobatjogja.com/wp-content/uploads/...  \n",
       "23  https://www.dejogjaadventure.com/wp-content/up...  \n",
       "24  https://sanjayatour.com/wp-content/uploads/202...  "
      ]
     },
     "execution_count": 7,
     "metadata": {},
     "output_type": "execute_result"
    }
   ],
   "source": [
    "# Merubah data agar hanya dari Kota Yogyakarta\n",
    "\n",
    "place = place[place['City']=='Yogyakarta']\n",
    "place.head()"
   ]
  },
  {
   "cell_type": "code",
   "execution_count": 8,
   "id": "26254753",
   "metadata": {},
   "outputs": [
    {
     "data": {
      "text/html": [
       "<div>\n",
       "<style scoped>\n",
       "    .dataframe tbody tr th:only-of-type {\n",
       "        vertical-align: middle;\n",
       "    }\n",
       "\n",
       "    .dataframe tbody tr th {\n",
       "        vertical-align: top;\n",
       "    }\n",
       "\n",
       "    .dataframe thead th {\n",
       "        text-align: right;\n",
       "    }\n",
       "</style>\n",
       "<table border=\"1\" class=\"dataframe\">\n",
       "  <thead>\n",
       "    <tr style=\"text-align: right;\">\n",
       "      <th></th>\n",
       "      <th>User_Id</th>\n",
       "      <th>Place_Id</th>\n",
       "      <th>Place_Ratings</th>\n",
       "    </tr>\n",
       "  </thead>\n",
       "  <tbody>\n",
       "    <tr>\n",
       "      <th>0</th>\n",
       "      <td>1</td>\n",
       "      <td>179</td>\n",
       "      <td>3</td>\n",
       "    </tr>\n",
       "    <tr>\n",
       "      <th>1</th>\n",
       "      <td>1</td>\n",
       "      <td>344</td>\n",
       "      <td>2</td>\n",
       "    </tr>\n",
       "    <tr>\n",
       "      <th>2</th>\n",
       "      <td>1</td>\n",
       "      <td>5</td>\n",
       "      <td>5</td>\n",
       "    </tr>\n",
       "    <tr>\n",
       "      <th>3</th>\n",
       "      <td>1</td>\n",
       "      <td>373</td>\n",
       "      <td>3</td>\n",
       "    </tr>\n",
       "    <tr>\n",
       "      <th>4</th>\n",
       "      <td>1</td>\n",
       "      <td>101</td>\n",
       "      <td>4</td>\n",
       "    </tr>\n",
       "  </tbody>\n",
       "</table>\n",
       "</div>"
      ],
      "text/plain": [
       "   User_Id  Place_Id  Place_Ratings\n",
       "0        1       179              3\n",
       "1        1       344              2\n",
       "2        1         5              5\n",
       "3        1       373              3\n",
       "4        1       101              4"
      ]
     },
     "execution_count": 8,
     "metadata": {},
     "output_type": "execute_result"
    }
   ],
   "source": [
    "# melihat gambaran data rating\n",
    "\n",
    "rating.head()"
   ]
  },
  {
   "cell_type": "code",
   "execution_count": 9,
   "id": "d861751a",
   "metadata": {},
   "outputs": [
    {
     "data": {
      "text/html": [
       "<div>\n",
       "<style scoped>\n",
       "    .dataframe tbody tr th:only-of-type {\n",
       "        vertical-align: middle;\n",
       "    }\n",
       "\n",
       "    .dataframe tbody tr th {\n",
       "        vertical-align: top;\n",
       "    }\n",
       "\n",
       "    .dataframe thead th {\n",
       "        text-align: right;\n",
       "    }\n",
       "</style>\n",
       "<table border=\"1\" class=\"dataframe\">\n",
       "  <thead>\n",
       "    <tr style=\"text-align: right;\">\n",
       "      <th></th>\n",
       "      <th>User_Id</th>\n",
       "      <th>Place_Id</th>\n",
       "      <th>Place_Ratings</th>\n",
       "    </tr>\n",
       "  </thead>\n",
       "  <tbody>\n",
       "    <tr>\n",
       "      <th>0</th>\n",
       "      <td>1</td>\n",
       "      <td>21</td>\n",
       "      <td>2</td>\n",
       "    </tr>\n",
       "    <tr>\n",
       "      <th>1</th>\n",
       "      <td>15</td>\n",
       "      <td>21</td>\n",
       "      <td>2</td>\n",
       "    </tr>\n",
       "    <tr>\n",
       "      <th>2</th>\n",
       "      <td>20</td>\n",
       "      <td>21</td>\n",
       "      <td>3</td>\n",
       "    </tr>\n",
       "    <tr>\n",
       "      <th>3</th>\n",
       "      <td>40</td>\n",
       "      <td>21</td>\n",
       "      <td>4</td>\n",
       "    </tr>\n",
       "    <tr>\n",
       "      <th>4</th>\n",
       "      <td>44</td>\n",
       "      <td>21</td>\n",
       "      <td>4</td>\n",
       "    </tr>\n",
       "  </tbody>\n",
       "</table>\n",
       "</div>"
      ],
      "text/plain": [
       "   User_Id  Place_Id  Place_Ratings\n",
       "0        1        21              2\n",
       "1       15        21              2\n",
       "2       20        21              3\n",
       "3       40        21              4\n",
       "4       44        21              4"
      ]
     },
     "execution_count": 9,
     "metadata": {},
     "output_type": "execute_result"
    }
   ],
   "source": [
    "# Merubah data rating agar hanya berisi rating pada tempat wisata dari Kota Yogyakarta\n",
    "\n",
    "rating = pd.merge(rating, place[['Place_Id']], how='right', on='Place_Id')\n",
    "rating.head()"
   ]
  },
  {
   "cell_type": "code",
   "execution_count": 10,
   "id": "a83de1e3",
   "metadata": {},
   "outputs": [
    {
     "data": {
      "text/plain": [
       "(2795, 3)"
      ]
     },
     "execution_count": 10,
     "metadata": {},
     "output_type": "execute_result"
    }
   ],
   "source": [
    "# Melihat ukuran dataset rating untuk Kota Yogyakarta\n",
    "\n",
    "rating.shape"
   ]
  },
  {
   "cell_type": "code",
   "execution_count": 11,
   "id": "d8857ec8",
   "metadata": {},
   "outputs": [
    {
     "data": {
      "text/html": [
       "<div>\n",
       "<style scoped>\n",
       "    .dataframe tbody tr th:only-of-type {\n",
       "        vertical-align: middle;\n",
       "    }\n",
       "\n",
       "    .dataframe tbody tr th {\n",
       "        vertical-align: top;\n",
       "    }\n",
       "\n",
       "    .dataframe thead th {\n",
       "        text-align: right;\n",
       "    }\n",
       "</style>\n",
       "<table border=\"1\" class=\"dataframe\">\n",
       "  <thead>\n",
       "    <tr style=\"text-align: right;\">\n",
       "      <th></th>\n",
       "      <th>User_Id</th>\n",
       "      <th>Location</th>\n",
       "      <th>Age</th>\n",
       "    </tr>\n",
       "  </thead>\n",
       "  <tbody>\n",
       "    <tr>\n",
       "      <th>0</th>\n",
       "      <td>1</td>\n",
       "      <td>Semarang, Jawa Tengah</td>\n",
       "      <td>20</td>\n",
       "    </tr>\n",
       "    <tr>\n",
       "      <th>1</th>\n",
       "      <td>2</td>\n",
       "      <td>Bekasi, Jawa Barat</td>\n",
       "      <td>21</td>\n",
       "    </tr>\n",
       "    <tr>\n",
       "      <th>2</th>\n",
       "      <td>3</td>\n",
       "      <td>Cirebon, Jawa Barat</td>\n",
       "      <td>23</td>\n",
       "    </tr>\n",
       "    <tr>\n",
       "      <th>3</th>\n",
       "      <td>4</td>\n",
       "      <td>Bekasi, Jawa Barat</td>\n",
       "      <td>21</td>\n",
       "    </tr>\n",
       "    <tr>\n",
       "      <th>4</th>\n",
       "      <td>5</td>\n",
       "      <td>Lampung, Sumatera Selatan</td>\n",
       "      <td>20</td>\n",
       "    </tr>\n",
       "  </tbody>\n",
       "</table>\n",
       "</div>"
      ],
      "text/plain": [
       "   User_Id                   Location  Age\n",
       "0        1      Semarang, Jawa Tengah   20\n",
       "1        2         Bekasi, Jawa Barat   21\n",
       "2        3        Cirebon, Jawa Barat   23\n",
       "3        4         Bekasi, Jawa Barat   21\n",
       "4        5  Lampung, Sumatera Selatan   20"
      ]
     },
     "execution_count": 11,
     "metadata": {},
     "output_type": "execute_result"
    }
   ],
   "source": [
    "# Melihat gambaran data user\n",
    "\n",
    "user.head()"
   ]
  },
  {
   "cell_type": "code",
   "execution_count": 12,
   "id": "5bdad5b8",
   "metadata": {},
   "outputs": [
    {
     "data": {
      "text/html": [
       "<div>\n",
       "<style scoped>\n",
       "    .dataframe tbody tr th:only-of-type {\n",
       "        vertical-align: middle;\n",
       "    }\n",
       "\n",
       "    .dataframe tbody tr th {\n",
       "        vertical-align: top;\n",
       "    }\n",
       "\n",
       "    .dataframe thead th {\n",
       "        text-align: right;\n",
       "    }\n",
       "</style>\n",
       "<table border=\"1\" class=\"dataframe\">\n",
       "  <thead>\n",
       "    <tr style=\"text-align: right;\">\n",
       "      <th></th>\n",
       "      <th>User_Id</th>\n",
       "      <th>Location</th>\n",
       "      <th>Age</th>\n",
       "    </tr>\n",
       "  </thead>\n",
       "  <tbody>\n",
       "    <tr>\n",
       "      <th>0</th>\n",
       "      <td>1</td>\n",
       "      <td>Semarang, Jawa Tengah</td>\n",
       "      <td>20</td>\n",
       "    </tr>\n",
       "    <tr>\n",
       "      <th>46</th>\n",
       "      <td>2</td>\n",
       "      <td>Bekasi, Jawa Barat</td>\n",
       "      <td>21</td>\n",
       "    </tr>\n",
       "    <tr>\n",
       "      <th>69</th>\n",
       "      <td>3</td>\n",
       "      <td>Cirebon, Jawa Barat</td>\n",
       "      <td>23</td>\n",
       "    </tr>\n",
       "    <tr>\n",
       "      <th>477</th>\n",
       "      <td>4</td>\n",
       "      <td>Bekasi, Jawa Barat</td>\n",
       "      <td>21</td>\n",
       "    </tr>\n",
       "    <tr>\n",
       "      <th>144</th>\n",
       "      <td>5</td>\n",
       "      <td>Lampung, Sumatera Selatan</td>\n",
       "      <td>20</td>\n",
       "    </tr>\n",
       "  </tbody>\n",
       "</table>\n",
       "</div>"
      ],
      "text/plain": [
       "     User_Id                   Location  Age\n",
       "0          1      Semarang, Jawa Tengah   20\n",
       "46         2         Bekasi, Jawa Barat   21\n",
       "69         3        Cirebon, Jawa Barat   23\n",
       "477        4         Bekasi, Jawa Barat   21\n",
       "144        5  Lampung, Sumatera Selatan   20"
      ]
     },
     "execution_count": 12,
     "metadata": {},
     "output_type": "execute_result"
    }
   ],
   "source": [
    "# Merubah data user agar hanya berisi user yang pernah megunjungi wisata di Kota Yogyakarta\n",
    "\n",
    "user = pd.merge(user, rating[['User_Id']], how='right', on='User_Id').drop_duplicates().sort_values('User_Id')\n",
    "user.head()"
   ]
  },
  {
   "cell_type": "code",
   "execution_count": 13,
   "id": "18b00178",
   "metadata": {},
   "outputs": [
    {
     "data": {
      "text/plain": [
       "(300, 3)"
      ]
     },
     "execution_count": 13,
     "metadata": {},
     "output_type": "execute_result"
    }
   ],
   "source": [
    "# Melihat dataset user yang pernah memberi rating pada wisata di Kota Yogyakarta\n",
    "\n",
    "user.shape"
   ]
  },
  {
   "cell_type": "code",
   "execution_count": 14,
   "id": "d7172f5b",
   "metadata": {},
   "outputs": [
    {
     "data": {
      "image/png": "[encoded data removed]",
      "text/plain": [
       "<Figure size 576x360 with 1 Axes>"
      ]
     },
     "metadata": {},
     "output_type": "display_data"
    }
   ],
   "source": [
    "# Membuat dataframe berisi lokasi dengan jumlah rating terbanyak\n",
    "top_10 = rating['Place_Id'].value_counts().reset_index()[0:10]\n",
    "top_10 = pd.merge(top_10, place[['Place_Id','Place_Name']], how='left', left_on='index', right_on='Place_Id')\n",
    "\n",
    "# Membuat visualisasi wisata dengan jumlah rating terbanyak\n",
    "plt.figure(figsize=(8,5))\n",
    "sns.barplot('Place_Id_x', 'Place_Name', data=top_10)\n",
    "plt.title('Jumlah Tempat Wisata dengan Rating Terbanyak', pad=20)\n",
    "plt.ylabel('Jumlah Rating')\n",
    "plt.xlabel('Nama Lokasi')\n",
    "plt.show()"
   ]
  },
  {
   "cell_type": "code",
   "execution_count": 15,
   "id": "a982916a",
   "metadata": {},
   "outputs": [
    {
     "data": {
      "image/png": "[encoded data removed]",
      "text/plain": [
       "<Figure size 432x288 with 1 Axes>"
      ]
     },
     "metadata": {},
     "output_type": "display_data"
    }
   ],
   "source": [
    "# Membuat visualisasi jumlah kategori wisata di Kota Yogyakarta\n",
    "\n",
    "sns.countplot(y='Category', data=place)\n",
    "plt.title('Perbandingan Jumlah Kategori Wisata di Kota Yogyakarta', pad=20)\n",
    "plt.show()"
   ]
  },
  {
   "cell_type": "code",
   "execution_count": 16,
   "id": "79f1bb7b",
   "metadata": {},
   "outputs": [
    {
     "data": {
      "image/png": "[encoded data removed]",
      "text/plain": [
       "<Figure size 360x216 with 1 Axes>"
      ]
     },
     "metadata": {},
     "output_type": "display_data"
    }
   ],
   "source": [
    "# Membuat visualisasi distribusi usia user\n",
    "\n",
    "plt.figure(figsize=(5,3))\n",
    "sns.boxplot(user['Age']);\n",
    "plt.title('Distribusi Usia User', pad=20)\n",
    "plt.show()"
   ]
  },
  {
   "cell_type": "code",
   "execution_count": 17,
   "id": "db39a394",
   "metadata": {},
   "outputs": [
    {
     "data": {
      "image/png": "[encoded data removed]",
      "text/plain": [
       "<Figure size 504x216 with 1 Axes>"
      ]
     },
     "metadata": {},
     "output_type": "display_data"
    }
   ],
   "source": [
    "# Membuat visualisasi distribusi harga masuk tempat wisata\n",
    "\n",
    "plt.figure(figsize=(7,3))\n",
    "sns.boxplot(place['Price'])\n",
    "plt.title('Distribusi Harga Masuk Wisata di Kota Yogyakarta', pad=20)\n",
    "plt.show()"
   ]
  },
  {
   "cell_type": "code",
   "execution_count": 18,
   "id": "09bbfef2",
   "metadata": {},
   "outputs": [
    {
     "data": {
      "image/png": "[encoded data removed]",
      "text/plain": [
       "<Figure size 576x432 with 1 Axes>"
      ]
     },
     "metadata": {},
     "output_type": "display_data"
    }
   ],
   "source": [
    "# Memfilter asal kota dari user\n",
    "askot = user['Location'].apply(lambda x : x.split(',')[0])\n",
    "\n",
    "# Visualisasi asal kota dari user\n",
    "plt.figure(figsize=(8,6))\n",
    "sns.countplot(y=askot)\n",
    "plt.title('Jumlah Asal Kota dari User')\n",
    "plt.show()"
   ]
  },
  {
   "cell_type": "markdown",
   "id": "4d73a02f",
   "metadata": {},
   "source": [
    " # MODELING"
   ]
  },
  {
   "cell_type": "code",
   "execution_count": 31,
   "id": "b4bf1ece",
   "metadata": {},
   "outputs": [
    {
     "data": {
      "text/html": [
       "<div>\n",
       "<style scoped>\n",
       "    .dataframe tbody tr th:only-of-type {\n",
       "        vertical-align: middle;\n",
       "    }\n",
       "\n",
       "    .dataframe tbody tr th {\n",
       "        vertical-align: top;\n",
       "    }\n",
       "\n",
       "    .dataframe thead th {\n",
       "        text-align: right;\n",
       "    }\n",
       "</style>\n",
       "<table border=\"1\" class=\"dataframe\">\n",
       "  <thead>\n",
       "    <tr style=\"text-align: right;\">\n",
       "      <th></th>\n",
       "      <th>User_Id</th>\n",
       "      <th>Place_Id</th>\n",
       "      <th>Place_Ratings</th>\n",
       "    </tr>\n",
       "  </thead>\n",
       "  <tbody>\n",
       "    <tr>\n",
       "      <th>0</th>\n",
       "      <td>1</td>\n",
       "      <td>21</td>\n",
       "      <td>2</td>\n",
       "    </tr>\n",
       "    <tr>\n",
       "      <th>1</th>\n",
       "      <td>15</td>\n",
       "      <td>21</td>\n",
       "      <td>2</td>\n",
       "    </tr>\n",
       "    <tr>\n",
       "      <th>2</th>\n",
       "      <td>20</td>\n",
       "      <td>21</td>\n",
       "      <td>3</td>\n",
       "    </tr>\n",
       "    <tr>\n",
       "      <th>3</th>\n",
       "      <td>40</td>\n",
       "      <td>21</td>\n",
       "      <td>4</td>\n",
       "    </tr>\n",
       "    <tr>\n",
       "      <th>4</th>\n",
       "      <td>44</td>\n",
       "      <td>21</td>\n",
       "      <td>4</td>\n",
       "    </tr>\n",
       "  </tbody>\n",
       "</table>\n",
       "</div>"
      ],
      "text/plain": [
       "   User_Id  Place_Id  Place_Ratings\n",
       "0        1        21              2\n",
       "1       15        21              2\n",
       "2       20        21              3\n",
       "3       40        21              4\n",
       "4       44        21              4"
      ]
     },
     "execution_count": 31,
     "metadata": {},
     "output_type": "execute_result"
    }
   ],
   "source": [
    "# Membaca dataset untuk dilakukan encoding\n",
    " \n",
    "df = rating.copy()\n",
    "df.head()"
   ]
  },
  {
   "cell_type": "code",
   "execution_count": 32,
   "id": "8d8264f5",
   "metadata": {},
   "outputs": [],
   "source": [
    "#ENCODING\n",
    "def dict_encoder(col, data=df):\n",
    "\n",
    "  # Mengubah kolom suatu dataframe menjadi list tanpa nilai yang sama\n",
    "  unique_val = data[col].unique().tolist()\n",
    "\n",
    "  # Melakukan encoding value kolom suatu dataframe ke angka\n",
    "  val_to_val_encoded = {x: i for i, x in enumerate(unique_val)}\n",
    "\n",
    "  # Melakukan proses encoding angka ke value dari kolom suatu dataframe\n",
    "  val_encoded_to_val = {i: x for i, x in enumerate(unique_val)}\n",
    "  return val_to_val_encoded, val_encoded_to_val"
   ]
  },
  {
   "cell_type": "code",
   "execution_count": 33,
   "id": "ad188ea7",
   "metadata": {},
   "outputs": [],
   "source": [
    "# ENCODING + MAPING \n",
    "\n",
    "# Encoding User_Id\n",
    "user_to_user_encoded, user_encoded_to_user = dict_encoder('User_Id')\n",
    "\n",
    "# Mapping User_Id ke dataframe\n",
    "df['user'] = df['User_Id'].map(user_to_user_encoded)"
   ]
  },
  {
   "cell_type": "code",
   "execution_count": 34,
   "id": "4f3ec03b",
   "metadata": {},
   "outputs": [],
   "source": [
    "# Encoding Place_Id\n",
    "place_to_place_encoded, place_encoded_to_place = dict_encoder('Place_Id')\n",
    "\n",
    "# Mapping Place_Id ke dataframe place\n",
    "df['place'] = df['Place_Id'].map(place_to_place_encoded)"
   ]
  },
  {
   "cell_type": "code",
   "execution_count": 35,
   "id": "0b789325",
   "metadata": {},
   "outputs": [
    {
     "name": "stdout",
     "output_type": "stream",
     "text": [
      "Number of User: 300, Number of Place: 123, Min Rating: 1.0, Max Rating: 5.0\n"
     ]
    }
   ],
   "source": [
    "# Mendapatkan jumlah user dan place\n",
    "num_users, num_place = len(user_to_user_encoded), len(place_to_place_encoded)\n",
    " \n",
    "# Mengubah rating menjadi nilai float\n",
    "df['Place_Ratings'] = df['Place_Ratings'].values.astype(np.float32)\n",
    " \n",
    "# Mendapatkan nilai minimum dan maksimum rating\n",
    "min_rating, max_rating = min(df['Place_Ratings']), max(df['Place_Ratings'])\n",
    " \n",
    "print(f'Number of User: {num_users}, Number of Place: {num_place}, Min Rating: {min_rating}, Max Rating: {max_rating}')"
   ]
  },
  {
   "cell_type": "code",
   "execution_count": 36,
   "id": "098596e3",
   "metadata": {},
   "outputs": [
    {
     "data": {
      "text/html": [
       "<div>\n",
       "<style scoped>\n",
       "    .dataframe tbody tr th:only-of-type {\n",
       "        vertical-align: middle;\n",
       "    }\n",
       "\n",
       "    .dataframe tbody tr th {\n",
       "        vertical-align: top;\n",
       "    }\n",
       "\n",
       "    .dataframe thead th {\n",
       "        text-align: right;\n",
       "    }\n",
       "</style>\n",
       "<table border=\"1\" class=\"dataframe\">\n",
       "  <thead>\n",
       "    <tr style=\"text-align: right;\">\n",
       "      <th></th>\n",
       "      <th>User_Id</th>\n",
       "      <th>Place_Id</th>\n",
       "      <th>Place_Ratings</th>\n",
       "      <th>user</th>\n",
       "      <th>place</th>\n",
       "    </tr>\n",
       "  </thead>\n",
       "  <tbody>\n",
       "    <tr>\n",
       "      <th>1025</th>\n",
       "      <td>5</td>\n",
       "      <td>67</td>\n",
       "      <td>4.0</td>\n",
       "      <td>112</td>\n",
       "      <td>44</td>\n",
       "    </tr>\n",
       "    <tr>\n",
       "      <th>2407</th>\n",
       "      <td>127</td>\n",
       "      <td>128</td>\n",
       "      <td>4.0</td>\n",
       "      <td>183</td>\n",
       "      <td>104</td>\n",
       "    </tr>\n",
       "  </tbody>\n",
       "</table>\n",
       "</div>"
      ],
      "text/plain": [
       "      User_Id  Place_Id  Place_Ratings  user  place\n",
       "1025        5        67            4.0   112     44\n",
       "2407      127       128            4.0   183    104"
      ]
     },
     "execution_count": 36,
     "metadata": {},
     "output_type": "execute_result"
    }
   ],
   "source": [
    "# Mengacak dataset\n",
    "df = df.sample(frac=1, random_state=42)\n",
    "df.head(2)"
   ]
  },
  {
   "cell_type": "code",
   "execution_count": 37,
   "id": "2841414a",
   "metadata": {},
   "outputs": [],
   "source": [
    "# Membuat variabel x untuk mencocokkan data user dan place menjadi satu value\n",
    "x = df[['user', 'place']].values\n",
    " \n",
    "# Membuat variabel y untuk membuat rating dari hasil \n",
    "y = df['Place_Ratings'].apply(lambda x: (x - min_rating) / (max_rating - min_rating)).values\n",
    " \n",
    "# Membagi menjadi 80% data train dan 20% data validasi\n",
    "train_indices = int(0.8 * df.shape[0])\n",
    "x_train, x_val, y_train, y_val = (\n",
    "    x[:train_indices],\n",
    "    x[train_indices:],\n",
    "    y[:train_indices],\n",
    "    y[train_indices:]\n",
    ")"
   ]
  },
  {
   "cell_type": "code",
   "execution_count": 38,
   "id": "894b8bb3",
   "metadata": {},
   "outputs": [],
   "source": [
    "class RecommenderNet(tf.keras.Model):\n",
    " \n",
    "  # Insialisasi fungsi\n",
    "  def __init__(self, num_users, num_places, embedding_size, **kwargs):\n",
    "    super(RecommenderNet, self).__init__(**kwargs)\n",
    "    self.num_users = num_users\n",
    "    self.num_places = num_places\n",
    "    self.embedding_size = embedding_size\n",
    "    self.user_embedding = layers.Embedding( # layer embedding user\n",
    "        num_users,\n",
    "        embedding_size,\n",
    "        embeddings_initializer = 'he_normal',\n",
    "        embeddings_regularizer = keras.regularizers.l2(1e-6)\n",
    "    )\n",
    "    self.user_bias = layers.Embedding(num_users, 1) # layer embedding user bias\n",
    "    self.places_embedding = layers.Embedding( # layer embeddings places\n",
    "        num_places,\n",
    "        embedding_size,\n",
    "        embeddings_initializer = 'he_normal',\n",
    "        embeddings_regularizer = keras.regularizers.l2(1e-6)\n",
    "    )\n",
    "    self.places_bias = layers.Embedding(num_places, 1) # layer embedding places bias\n",
    " \n",
    "  def call(self, inputs):\n",
    "    user_vector = self.user_embedding(inputs[:,0]) # memanggil layer embedding 1\n",
    "    user_bias = self.user_bias(inputs[:, 0]) # memanggil layer embedding 2\n",
    "    places_vector = self.places_embedding(inputs[:, 1]) # memanggil layer embedding 3\n",
    "    places_bias = self.places_bias(inputs[:, 1]) # memanggil layer embedding 4\n",
    " \n",
    "    dot_user_places = tf.tensordot(user_vector, places_vector, 2) \n",
    " \n",
    "    x = dot_user_places + user_bias + places_bias\n",
    "    \n",
    "    return tf.nn.sigmoid(x) # activation sigmoid"
   ]
  },
  {
   "cell_type": "code",
   "execution_count": 39,
   "id": "20300a62",
   "metadata": {},
   "outputs": [
    {
     "name": "stderr",
     "output_type": "stream",
     "text": [
      "2022-06-09 10:33:04.835674: W tensorflow/stream_executor/platform/default/dso_loader.cc:64] Could not load dynamic library 'libcuda.so.1'; dlerror: libcuda.so.1: cannot open shared object file: No such file or directory\n",
      "2022-06-09 10:33:04.835745: W tensorflow/stream_executor/cuda/cuda_driver.cc:269] failed call to cuInit: UNKNOWN ERROR (303)\n",
      "2022-06-09 10:33:04.835799: I tensorflow/stream_executor/cuda/cuda_diagnostics.cc:156] kernel driver does not appear to be running on this host (wan): /proc/driver/nvidia/version does not exist\n"
     ]
    }
   ],
   "source": [
    "model = RecommenderNet(num_users, num_place, 50) # inisialisasi model\n",
    " \n",
    "# model compile\n",
    "model.compile(\n",
    "    loss = tf.keras.losses.BinaryCrossentropy(),\n",
    "    optimizer = keras.optimizers.Adam(learning_rate=0.0004),\n",
    "    metrics=[tf.keras.metrics.RootMeanSquaredError()]\n",
    ")"
   ]
  },
  {
   "cell_type": "code",
   "execution_count": 40,
   "id": "5c9128d4",
   "metadata": {},
   "outputs": [],
   "source": [
    " class myCallback(tf.keras.callbacks.Callback):\n",
    "  def on_epoch_end(self, epoch, logs={}):\n",
    "    if(logs.get('val_root_mean_squared_error')<0.25):\n",
    "      print('Lapor! Metriks validasi sudah sesuai harapan')\n",
    "      self.model.stop_training = True"
   ]
  },
  {
   "cell_type": "code",
   "execution_count": 41,
   "id": "c386d342",
   "metadata": {},
   "outputs": [
    {
     "name": "stdout",
     "output_type": "stream",
     "text": [
      "Epoch 1/100\n",
      "70/70 [==============================] - 2s 7ms/step - loss: 0.7161 - root_mean_squared_error: 0.3587 - val_loss: 0.7135 - val_root_mean_squared_error: 0.3635\n",
      "Epoch 2/100\n",
      "70/70 [==============================] - 0s 3ms/step - loss: 0.7076 - root_mean_squared_error: 0.3533 - val_loss: 0.7136 - val_root_mean_squared_error: 0.3636\n",
      "Epoch 3/100\n",
      "70/70 [==============================] - 0s 3ms/step - loss: 0.7077 - root_mean_squared_error: 0.3536 - val_loss: 0.7135 - val_root_mean_squared_error: 0.3635\n",
      "Epoch 4/100\n",
      "70/70 [==============================] - 0s 5ms/step - loss: 0.7075 - root_mean_squared_error: 0.3532 - val_loss: 0.7118 - val_root_mean_squared_error: 0.3625\n",
      "Epoch 5/100\n",
      "70/70 [==============================] - 0s 5ms/step - loss: 0.7089 - root_mean_squared_error: 0.3544 - val_loss: 0.7111 - val_root_mean_squared_error: 0.3620\n",
      "Epoch 6/100\n",
      "70/70 [==============================] - 0s 5ms/step - loss: 0.7023 - root_mean_squared_error: 0.3499 - val_loss: 0.7101 - val_root_mean_squared_error: 0.3613\n",
      "Epoch 7/100\n",
      "70/70 [==============================] - 0s 5ms/step - loss: 0.7023 - root_mean_squared_error: 0.3500 - val_loss: 0.7099 - val_root_mean_squared_error: 0.3612\n",
      "Epoch 8/100\n",
      "70/70 [==============================] - 0s 4ms/step - loss: 0.7075 - root_mean_squared_error: 0.3533 - val_loss: 0.7084 - val_root_mean_squared_error: 0.3602\n",
      "Epoch 9/100\n",
      "70/70 [==============================] - 0s 4ms/step - loss: 0.6996 - root_mean_squared_error: 0.3479 - val_loss: 0.7093 - val_root_mean_squared_error: 0.3608\n",
      "Epoch 10/100\n",
      "70/70 [==============================] - 0s 5ms/step - loss: 0.6985 - root_mean_squared_error: 0.3473 - val_loss: 0.7099 - val_root_mean_squared_error: 0.3612\n",
      "Epoch 11/100\n",
      "70/70 [==============================] - 0s 4ms/step - loss: 0.6957 - root_mean_squared_error: 0.3452 - val_loss: 0.7091 - val_root_mean_squared_error: 0.3606\n",
      "Epoch 12/100\n",
      "70/70 [==============================] - 0s 4ms/step - loss: 0.6974 - root_mean_squared_error: 0.3463 - val_loss: 0.7086 - val_root_mean_squared_error: 0.3603\n",
      "Epoch 13/100\n",
      "70/70 [==============================] - 0s 4ms/step - loss: 0.6978 - root_mean_squared_error: 0.3466 - val_loss: 0.7088 - val_root_mean_squared_error: 0.3604\n",
      "Epoch 14/100\n",
      "70/70 [==============================] - 0s 4ms/step - loss: 0.6946 - root_mean_squared_error: 0.3446 - val_loss: 0.7094 - val_root_mean_squared_error: 0.3608\n",
      "Epoch 15/100\n",
      "70/70 [==============================] - 0s 5ms/step - loss: 0.6967 - root_mean_squared_error: 0.3460 - val_loss: 0.7098 - val_root_mean_squared_error: 0.3611\n",
      "Epoch 16/100\n",
      "70/70 [==============================] - 0s 4ms/step - loss: 0.6915 - root_mean_squared_error: 0.3423 - val_loss: 0.7101 - val_root_mean_squared_error: 0.3613\n",
      "Epoch 17/100\n",
      "70/70 [==============================] - 0s 5ms/step - loss: 0.6934 - root_mean_squared_error: 0.3436 - val_loss: 0.7093 - val_root_mean_squared_error: 0.3608\n",
      "Epoch 18/100\n",
      "70/70 [==============================] - 0s 4ms/step - loss: 0.6923 - root_mean_squared_error: 0.3429 - val_loss: 0.7099 - val_root_mean_squared_error: 0.3611\n",
      "Epoch 19/100\n",
      "70/70 [==============================] - 0s 4ms/step - loss: 0.6937 - root_mean_squared_error: 0.3438 - val_loss: 0.7101 - val_root_mean_squared_error: 0.3613\n",
      "Epoch 20/100\n",
      "70/70 [==============================] - 0s 3ms/step - loss: 0.6839 - root_mean_squared_error: 0.3368 - val_loss: 0.7104 - val_root_mean_squared_error: 0.3615\n",
      "Epoch 21/100\n",
      "70/70 [==============================] - 0s 3ms/step - loss: 0.6883 - root_mean_squared_error: 0.3399 - val_loss: 0.7094 - val_root_mean_squared_error: 0.3608\n",
      "Epoch 22/100\n",
      "70/70 [==============================] - 0s 4ms/step - loss: 0.6861 - root_mean_squared_error: 0.3384 - val_loss: 0.7090 - val_root_mean_squared_error: 0.3605\n",
      "Epoch 23/100\n",
      "70/70 [==============================] - 0s 4ms/step - loss: 0.6879 - root_mean_squared_error: 0.3396 - val_loss: 0.7097 - val_root_mean_squared_error: 0.3610\n",
      "Epoch 24/100\n",
      "70/70 [==============================] - 0s 4ms/step - loss: 0.6863 - root_mean_squared_error: 0.3386 - val_loss: 0.7097 - val_root_mean_squared_error: 0.3610\n",
      "Epoch 25/100\n",
      "70/70 [==============================] - 0s 4ms/step - loss: 0.6824 - root_mean_squared_error: 0.3358 - val_loss: 0.7103 - val_root_mean_squared_error: 0.3614\n",
      "Epoch 26/100\n",
      "70/70 [==============================] - 0s 4ms/step - loss: 0.6846 - root_mean_squared_error: 0.3374 - val_loss: 0.7100 - val_root_mean_squared_error: 0.3613\n",
      "Epoch 27/100\n",
      "70/70 [==============================] - 0s 3ms/step - loss: 0.6806 - root_mean_squared_error: 0.3344 - val_loss: 0.7092 - val_root_mean_squared_error: 0.3607\n",
      "Epoch 28/100\n",
      "70/70 [==============================] - 0s 4ms/step - loss: 0.6827 - root_mean_squared_error: 0.3359 - val_loss: 0.7078 - val_root_mean_squared_error: 0.3598\n",
      "Epoch 29/100\n",
      "70/70 [==============================] - 0s 3ms/step - loss: 0.6814 - root_mean_squared_error: 0.3350 - val_loss: 0.7069 - val_root_mean_squared_error: 0.3592\n",
      "Epoch 30/100\n",
      "70/70 [==============================] - 0s 4ms/step - loss: 0.6812 - root_mean_squared_error: 0.3349 - val_loss: 0.7070 - val_root_mean_squared_error: 0.3592\n",
      "Epoch 31/100\n",
      "70/70 [==============================] - 0s 4ms/step - loss: 0.6823 - root_mean_squared_error: 0.3356 - val_loss: 0.7072 - val_root_mean_squared_error: 0.3593\n",
      "Epoch 32/100\n",
      "70/70 [==============================] - 0s 4ms/step - loss: 0.6796 - root_mean_squared_error: 0.3336 - val_loss: 0.7072 - val_root_mean_squared_error: 0.3593\n",
      "Epoch 33/100\n",
      "70/70 [==============================] - 0s 4ms/step - loss: 0.6806 - root_mean_squared_error: 0.3345 - val_loss: 0.7066 - val_root_mean_squared_error: 0.3589\n",
      "Epoch 34/100\n",
      "70/70 [==============================] - 0s 3ms/step - loss: 0.6766 - root_mean_squared_error: 0.3316 - val_loss: 0.7079 - val_root_mean_squared_error: 0.3598\n",
      "Epoch 35/100\n",
      "70/70 [==============================] - 0s 4ms/step - loss: 0.6759 - root_mean_squared_error: 0.3310 - val_loss: 0.7078 - val_root_mean_squared_error: 0.3597\n",
      "Epoch 36/100\n",
      "70/70 [==============================] - 0s 4ms/step - loss: 0.6747 - root_mean_squared_error: 0.3301 - val_loss: 0.7079 - val_root_mean_squared_error: 0.3598\n",
      "Epoch 37/100\n",
      "70/70 [==============================] - 0s 4ms/step - loss: 0.6765 - root_mean_squared_error: 0.3315 - val_loss: 0.7079 - val_root_mean_squared_error: 0.3598\n",
      "Epoch 38/100\n",
      "70/70 [==============================] - 0s 3ms/step - loss: 0.6722 - root_mean_squared_error: 0.3282 - val_loss: 0.7075 - val_root_mean_squared_error: 0.3595\n",
      "Epoch 39/100\n",
      "70/70 [==============================] - 0s 4ms/step - loss: 0.6745 - root_mean_squared_error: 0.3300 - val_loss: 0.7071 - val_root_mean_squared_error: 0.3593\n",
      "Epoch 40/100\n",
      "70/70 [==============================] - 0s 4ms/step - loss: 0.6744 - root_mean_squared_error: 0.3299 - val_loss: 0.7076 - val_root_mean_squared_error: 0.3596\n",
      "Epoch 41/100\n",
      "70/70 [==============================] - 0s 4ms/step - loss: 0.6744 - root_mean_squared_error: 0.3299 - val_loss: 0.7070 - val_root_mean_squared_error: 0.3592\n",
      "Epoch 42/100\n",
      "70/70 [==============================] - 0s 4ms/step - loss: 0.6718 - root_mean_squared_error: 0.3280 - val_loss: 0.7070 - val_root_mean_squared_error: 0.3593\n",
      "Epoch 43/100\n",
      "70/70 [==============================] - 0s 4ms/step - loss: 0.6739 - root_mean_squared_error: 0.3295 - val_loss: 0.7063 - val_root_mean_squared_error: 0.3588\n",
      "Epoch 44/100\n",
      "70/70 [==============================] - 0s 4ms/step - loss: 0.6710 - root_mean_squared_error: 0.3274 - val_loss: 0.7066 - val_root_mean_squared_error: 0.3590\n",
      "Epoch 45/100\n",
      "70/70 [==============================] - 0s 3ms/step - loss: 0.6713 - root_mean_squared_error: 0.3276 - val_loss: 0.7081 - val_root_mean_squared_error: 0.3600\n",
      "Epoch 46/100\n",
      "70/70 [==============================] - 0s 4ms/step - loss: 0.6724 - root_mean_squared_error: 0.3284 - val_loss: 0.7082 - val_root_mean_squared_error: 0.3600\n",
      "Epoch 47/100\n",
      "70/70 [==============================] - 0s 4ms/step - loss: 0.6706 - root_mean_squared_error: 0.3271 - val_loss: 0.7088 - val_root_mean_squared_error: 0.3604\n",
      "Epoch 48/100\n",
      "70/70 [==============================] - 0s 3ms/step - loss: 0.6712 - root_mean_squared_error: 0.3275 - val_loss: 0.7090 - val_root_mean_squared_error: 0.3606\n"
     ]
    },
    {
     "name": "stdout",
     "output_type": "stream",
     "text": [
      "Epoch 49/100\n",
      "70/70 [==============================] - 0s 3ms/step - loss: 0.6685 - root_mean_squared_error: 0.3255 - val_loss: 0.7090 - val_root_mean_squared_error: 0.3605\n",
      "Epoch 50/100\n",
      "70/70 [==============================] - 0s 3ms/step - loss: 0.6694 - root_mean_squared_error: 0.3262 - val_loss: 0.7084 - val_root_mean_squared_error: 0.3601\n",
      "Epoch 51/100\n",
      "70/70 [==============================] - 0s 3ms/step - loss: 0.6697 - root_mean_squared_error: 0.3264 - val_loss: 0.7079 - val_root_mean_squared_error: 0.3598\n",
      "Epoch 52/100\n",
      "70/70 [==============================] - 0s 4ms/step - loss: 0.6672 - root_mean_squared_error: 0.3246 - val_loss: 0.7079 - val_root_mean_squared_error: 0.3598\n",
      "Epoch 53/100\n",
      "70/70 [==============================] - 0s 3ms/step - loss: 0.6672 - root_mean_squared_error: 0.3245 - val_loss: 0.7084 - val_root_mean_squared_error: 0.3601\n",
      "Epoch 54/100\n",
      "70/70 [==============================] - 0s 4ms/step - loss: 0.6656 - root_mean_squared_error: 0.3233 - val_loss: 0.7089 - val_root_mean_squared_error: 0.3605\n",
      "Epoch 55/100\n",
      "70/70 [==============================] - 0s 4ms/step - loss: 0.6685 - root_mean_squared_error: 0.3255 - val_loss: 0.7090 - val_root_mean_squared_error: 0.3606\n",
      "Epoch 56/100\n",
      "70/70 [==============================] - 0s 3ms/step - loss: 0.6635 - root_mean_squared_error: 0.3218 - val_loss: 0.7093 - val_root_mean_squared_error: 0.3607\n",
      "Epoch 57/100\n",
      "70/70 [==============================] - 0s 3ms/step - loss: 0.6672 - root_mean_squared_error: 0.3245 - val_loss: 0.7091 - val_root_mean_squared_error: 0.3606\n",
      "Epoch 58/100\n",
      "70/70 [==============================] - 0s 4ms/step - loss: 0.6614 - root_mean_squared_error: 0.3201 - val_loss: 0.7085 - val_root_mean_squared_error: 0.3602\n",
      "Epoch 59/100\n",
      "70/70 [==============================] - 0s 4ms/step - loss: 0.6651 - root_mean_squared_error: 0.3229 - val_loss: 0.7090 - val_root_mean_squared_error: 0.3605\n",
      "Epoch 60/100\n",
      "70/70 [==============================] - 0s 3ms/step - loss: 0.6611 - root_mean_squared_error: 0.3200 - val_loss: 0.7094 - val_root_mean_squared_error: 0.3608\n",
      "Epoch 61/100\n",
      "70/70 [==============================] - 0s 4ms/step - loss: 0.6638 - root_mean_squared_error: 0.3220 - val_loss: 0.7100 - val_root_mean_squared_error: 0.3611\n",
      "Epoch 62/100\n",
      "70/70 [==============================] - 0s 3ms/step - loss: 0.6632 - root_mean_squared_error: 0.3215 - val_loss: 0.7098 - val_root_mean_squared_error: 0.3610\n",
      "Epoch 63/100\n",
      "70/70 [==============================] - 0s 4ms/step - loss: 0.6642 - root_mean_squared_error: 0.3223 - val_loss: 0.7091 - val_root_mean_squared_error: 0.3605\n",
      "Epoch 64/100\n",
      "70/70 [==============================] - 0s 3ms/step - loss: 0.6636 - root_mean_squared_error: 0.3218 - val_loss: 0.7096 - val_root_mean_squared_error: 0.3609\n",
      "Epoch 65/100\n",
      "70/70 [==============================] - 0s 3ms/step - loss: 0.6647 - root_mean_squared_error: 0.3227 - val_loss: 0.7093 - val_root_mean_squared_error: 0.3607\n",
      "Epoch 66/100\n",
      "70/70 [==============================] - 0s 3ms/step - loss: 0.6630 - root_mean_squared_error: 0.3214 - val_loss: 0.7091 - val_root_mean_squared_error: 0.3606\n",
      "Epoch 67/100\n",
      "70/70 [==============================] - 0s 3ms/step - loss: 0.6630 - root_mean_squared_error: 0.3214 - val_loss: 0.7085 - val_root_mean_squared_error: 0.3601\n",
      "Epoch 68/100\n",
      "70/70 [==============================] - 0s 3ms/step - loss: 0.6587 - root_mean_squared_error: 0.3182 - val_loss: 0.7087 - val_root_mean_squared_error: 0.3603\n",
      "Epoch 69/100\n",
      "70/70 [==============================] - 0s 3ms/step - loss: 0.6628 - root_mean_squared_error: 0.3212 - val_loss: 0.7093 - val_root_mean_squared_error: 0.3607\n",
      "Epoch 70/100\n",
      "70/70 [==============================] - 0s 3ms/step - loss: 0.6601 - root_mean_squared_error: 0.3191 - val_loss: 0.7097 - val_root_mean_squared_error: 0.3609\n",
      "Epoch 71/100\n",
      "70/70 [==============================] - 0s 4ms/step - loss: 0.6565 - root_mean_squared_error: 0.3166 - val_loss: 0.7098 - val_root_mean_squared_error: 0.3610\n",
      "Epoch 72/100\n",
      "70/70 [==============================] - 0s 4ms/step - loss: 0.6579 - root_mean_squared_error: 0.3175 - val_loss: 0.7100 - val_root_mean_squared_error: 0.3611\n",
      "Epoch 73/100\n",
      "70/70 [==============================] - 0s 4ms/step - loss: 0.6575 - root_mean_squared_error: 0.3172 - val_loss: 0.7102 - val_root_mean_squared_error: 0.3612\n",
      "Epoch 74/100\n",
      "70/70 [==============================] - 0s 3ms/step - loss: 0.6587 - root_mean_squared_error: 0.3182 - val_loss: 0.7098 - val_root_mean_squared_error: 0.3610\n",
      "Epoch 75/100\n",
      "70/70 [==============================] - 0s 4ms/step - loss: 0.6577 - root_mean_squared_error: 0.3175 - val_loss: 0.7091 - val_root_mean_squared_error: 0.3605\n",
      "Epoch 76/100\n",
      "70/70 [==============================] - 0s 4ms/step - loss: 0.6594 - root_mean_squared_error: 0.3188 - val_loss: 0.7087 - val_root_mean_squared_error: 0.3603\n",
      "Epoch 77/100\n",
      "70/70 [==============================] - 0s 3ms/step - loss: 0.6575 - root_mean_squared_error: 0.3172 - val_loss: 0.7081 - val_root_mean_squared_error: 0.3599\n",
      "Epoch 78/100\n",
      "70/70 [==============================] - 0s 4ms/step - loss: 0.6573 - root_mean_squared_error: 0.3171 - val_loss: 0.7080 - val_root_mean_squared_error: 0.3598\n",
      "Epoch 79/100\n",
      "70/70 [==============================] - 0s 4ms/step - loss: 0.6597 - root_mean_squared_error: 0.3189 - val_loss: 0.7078 - val_root_mean_squared_error: 0.3597\n",
      "Epoch 80/100\n",
      "70/70 [==============================] - 0s 4ms/step - loss: 0.6571 - root_mean_squared_error: 0.3170 - val_loss: 0.7071 - val_root_mean_squared_error: 0.3592\n",
      "Epoch 81/100\n",
      "70/70 [==============================] - 0s 3ms/step - loss: 0.6569 - root_mean_squared_error: 0.3167 - val_loss: 0.7069 - val_root_mean_squared_error: 0.3591\n",
      "Epoch 82/100\n",
      "70/70 [==============================] - 0s 3ms/step - loss: 0.6576 - root_mean_squared_error: 0.3173 - val_loss: 0.7069 - val_root_mean_squared_error: 0.3591\n",
      "Epoch 83/100\n",
      "70/70 [==============================] - 0s 3ms/step - loss: 0.6572 - root_mean_squared_error: 0.3172 - val_loss: 0.7055 - val_root_mean_squared_error: 0.3582\n",
      "Epoch 84/100\n",
      "70/70 [==============================] - 0s 3ms/step - loss: 0.6569 - root_mean_squared_error: 0.3168 - val_loss: 0.7058 - val_root_mean_squared_error: 0.3584\n",
      "Epoch 85/100\n",
      "70/70 [==============================] - 0s 4ms/step - loss: 0.6573 - root_mean_squared_error: 0.3171 - val_loss: 0.7067 - val_root_mean_squared_error: 0.3589\n",
      "Epoch 86/100\n",
      "70/70 [==============================] - 0s 3ms/step - loss: 0.6568 - root_mean_squared_error: 0.3167 - val_loss: 0.7072 - val_root_mean_squared_error: 0.3593\n",
      "Epoch 87/100\n",
      "70/70 [==============================] - 0s 4ms/step - loss: 0.6563 - root_mean_squared_error: 0.3163 - val_loss: 0.7075 - val_root_mean_squared_error: 0.3594\n",
      "Epoch 88/100\n",
      "70/70 [==============================] - 0s 4ms/step - loss: 0.6558 - root_mean_squared_error: 0.3160 - val_loss: 0.7070 - val_root_mean_squared_error: 0.3591\n",
      "Epoch 89/100\n",
      "70/70 [==============================] - 0s 4ms/step - loss: 0.6562 - root_mean_squared_error: 0.3164 - val_loss: 0.7073 - val_root_mean_squared_error: 0.3593\n",
      "Epoch 90/100\n",
      "70/70 [==============================] - 0s 4ms/step - loss: 0.6540 - root_mean_squared_error: 0.3148 - val_loss: 0.7069 - val_root_mean_squared_error: 0.3590\n",
      "Epoch 91/100\n",
      "70/70 [==============================] - 0s 3ms/step - loss: 0.6554 - root_mean_squared_error: 0.3158 - val_loss: 0.7071 - val_root_mean_squared_error: 0.3592\n",
      "Epoch 92/100\n",
      "70/70 [==============================] - 0s 4ms/step - loss: 0.6544 - root_mean_squared_error: 0.3150 - val_loss: 0.7076 - val_root_mean_squared_error: 0.3595\n",
      "Epoch 93/100\n",
      "70/70 [==============================] - 0s 4ms/step - loss: 0.6551 - root_mean_squared_error: 0.3155 - val_loss: 0.7078 - val_root_mean_squared_error: 0.3596\n",
      "Epoch 94/100\n",
      "70/70 [==============================] - 0s 4ms/step - loss: 0.6556 - root_mean_squared_error: 0.3159 - val_loss: 0.7076 - val_root_mean_squared_error: 0.3595\n",
      "Epoch 95/100\n",
      "70/70 [==============================] - 0s 4ms/step - loss: 0.6562 - root_mean_squared_error: 0.3163 - val_loss: 0.7076 - val_root_mean_squared_error: 0.3595\n",
      "Epoch 96/100\n",
      "70/70 [==============================] - 0s 3ms/step - loss: 0.6523 - root_mean_squared_error: 0.3135 - val_loss: 0.7081 - val_root_mean_squared_error: 0.3598\n",
      "Epoch 97/100\n",
      "70/70 [==============================] - 0s 4ms/step - loss: 0.6505 - root_mean_squared_error: 0.3120 - val_loss: 0.7090 - val_root_mean_squared_error: 0.3604\n",
      "Epoch 98/100\n",
      "70/70 [==============================] - 0s 4ms/step - loss: 0.6529 - root_mean_squared_error: 0.3139 - val_loss: 0.7090 - val_root_mean_squared_error: 0.3604\n",
      "Epoch 99/100\n",
      "70/70 [==============================] - 0s 4ms/step - loss: 0.6522 - root_mean_squared_error: 0.3133 - val_loss: 0.7090 - val_root_mean_squared_error: 0.3604\n",
      "Epoch 100/100\n",
      "70/70 [==============================] - 0s 5ms/step - loss: 0.6526 - root_mean_squared_error: 0.3136 - val_loss: 0.7083 - val_root_mean_squared_error: 0.3600\n"
     ]
    }
   ],
   "source": [
    "# Memulai training\n",
    " \n",
    "history = model.fit(\n",
    "    x = x_train,\n",
    "    y = y_train,\n",
    "    epochs = 100,\n",
    "    validation_data = (x_val, y_val),\n",
    "    callbacks = [myCallback()]\n",
    ")"
   ]
  },
  {
   "cell_type": "code",
   "execution_count": 42,
   "id": "76765814",
   "metadata": {},
   "outputs": [
    {
     "data": {
      "image/png": "[encoded data removed]",
      "text/plain": [
       "<Figure size 432x288 with 1 Axes>"
      ]
     },
     "metadata": {},
     "output_type": "display_data"
    }
   ],
   "source": [
    "# Menampilkan plot loss dan validation\n",
    "\n",
    "plt.plot(history.history['root_mean_squared_error'])\n",
    "plt.plot(history.history['val_root_mean_squared_error'])\n",
    "plt.title('model_metrics')\n",
    "plt.ylabel('root_mean_squared_error')\n",
    "plt.xlabel('epoch')\n",
    "plt.ylim(ymin=0, ymax=0.4)\n",
    "plt.legend(['train', 'test'], loc='center left')\n",
    "plt.show()"
   ]
  },
  {
   "cell_type": "markdown",
   "id": "20f05ac8",
   "metadata": {},
   "source": [
    "# MEMBUAT TOP 5 REKOMENDASI"
   ]
  },
  {
   "cell_type": "code",
   "execution_count": 43,
   "id": "1d490ce0",
   "metadata": {},
   "outputs": [],
   "source": [
    "# Menyiapkan dataframe\n",
    "place_df = place[['Place_Id','Place_Name','Category','Rating','Price','Image']]\n",
    "place_df.columns = ['id','place_name','category','rating','price','image']\n",
    "df = rating.copy()"
   ]
  },
  {
   "cell_type": "code",
   "execution_count": 44,
   "id": "26da7702",
   "metadata": {},
   "outputs": [],
   "source": [
    "# Mengambil sample user\n",
    "user_id = df.User_Id.sample(1).iloc[0]\n",
    "place_visited_by_user = df[df.User_Id == user_id]"
   ]
  },
  {
   "cell_type": "code",
   "execution_count": 45,
   "id": "46ec8731",
   "metadata": {},
   "outputs": [],
   "source": [
    "# Membuat data lokasi yang belum dikunjungi user\n",
    "place_not_visited = place_df[~place_df['id'].isin(place_visited_by_user.Place_Id.values)]['id'] \n",
    "place_not_visited = list(\n",
    "    set(place_not_visited)\n",
    "    .intersection(set(place_to_place_encoded.keys()))\n",
    ")\n",
    " \n",
    "place_not_visited = [[place_to_place_encoded.get(x)] for x in place_not_visited]\n",
    "user_encoder = user_to_user_encoded.get(user_id)\n",
    "user_place_array = np.hstack(\n",
    "    ([[user_encoder]] * len(place_not_visited), place_not_visited)\n",
    ")"
   ]
  },
  {
   "cell_type": "code",
   "execution_count": 46,
   "id": "9c776472",
   "metadata": {},
   "outputs": [
    {
     "name": "stdout",
     "output_type": "stream",
     "text": [
      "4/4 [==============================] - 0s 4ms/step\n",
      "\n",
      "------------------------------------------------------------\n",
      "Top 5 place recommendation\n",
      "------------------------------------------------------------\n",
      "1 . Pantai Ngrenehan \n",
      "     Bahari , Harga Tiket Masuk  3000 , Rating Wisata  4.4 , https://mytrip123.com/wp-content/uploads/2019/05/ff-1.jpg \n",
      "\n",
      "2 . Pantai Greweng \n",
      "     Bahari , Harga Tiket Masuk  5000 , Rating Wisata  4.6 , https://nginapdijogja.com/wp-content/uploads/2020/10/Pantai-Greweng.jpg \n",
      "\n",
      "3 . Galaxy Waterpark Jogja \n",
      "     Taman Hiburan , Harga Tiket Masuk  40000 , Rating Wisata  4.3 , https://www.hargatiket.net/wp-content/uploads/2018/09/Wahana-Galaxy-Waterpark-Yogyakarta.jpg \n",
      "\n",
      "4 . Heha Sky View \n",
      "     Taman Hiburan , Harga Tiket Masuk  15000 , Rating Wisata  4.4 , https://i1.wp.com/advontura.com/wp-content/uploads/2020/10/heha-sky-view-min.jpg?fit=1000%2C562&ssl=1 \n",
      "\n",
      "5 . Pantai Congot \n",
      "     Bahari , Harga Tiket Masuk  3000 , Rating Wisata  4.3 , https://mytrip123.com/wp-content/uploads/2018/10/alamat-pantai-congot.jpg \n",
      "\n",
      "=============================================\n"
     ]
    }
   ],
   "source": [
    "# Mengambil top 5 recommendation\n",
    "ratings = model.predict(user_place_array).flatten()\n",
    "top_ratings_indices = ratings.argsort()[-5:][::-1]\n",
    "recommended_place_ids = [\n",
    "    place_encoded_to_place.get(place_not_visited[x][0]) for x in top_ratings_indices\n",
    "]\n",
    " \n",
    "\n",
    "print('')\n",
    "print('----' * 15)\n",
    "print('Top 5 place recommendation')\n",
    "print('----' * 15)\n",
    " \n",
    "recommended_place = place_df[place_df['id'].isin(recommended_place_ids)]\n",
    "for row, i in zip(recommended_place.itertuples(), range(1,8)):\n",
    "    print(i,'.', row.place_name, '\\n    ', row.category, ',', 'Harga Tiket Masuk ', row.price, ',', 'Rating Wisata ',row.rating, ',', row.image,'\\n')\n",
    "\n",
    "print('==='*15)"
   ]
  },
  {
   "cell_type": "code",
   "execution_count": 47,
   "id": "c6bffe46",
   "metadata": {},
   "outputs": [],
   "source": [
    "# recommended = recommended_place.to_csv('rekomendasi.csv', index=False)"
   ]
  },
  {
   "cell_type": "code",
   "execution_count": 48,
   "id": "d3d76092",
   "metadata": {},
   "outputs": [],
   "source": [
    "# pd.read_csv('rekomendasi.csv')"
   ]
  },
  {
   "cell_type": "code",
   "execution_count": 51,
   "id": "73e885bc",
   "metadata": {},
   "outputs": [
    {
     "name": "stdout",
     "output_type": "stream",
     "text": [
      "INFO:tensorflow:Assets written to: ram://325fd870-bf80-4506-aa22-86642a4a6980/assets\n"
     ]
    }
   ],
   "source": [
    "import pickle\n",
    "filename = '../../model/wisata.pkl'\n",
    "pickle.dump(model, open(filename, 'wb'))"
   ]
  },
  {
   "cell_type": "code",
   "execution_count": 52,
   "id": "8ee416b2",
   "metadata": {},
   "outputs": [
    {
     "data": {
      "text/plain": [
       "<keras.saving.saved_model.load.RecommenderNet at 0x7ffb16ff5d30>"
      ]
     },
     "execution_count": 52,
     "metadata": {},
     "output_type": "execute_result"
    }
   ],
   "source": [
    "loaded_model = pickle.load(open(filename, 'rb'))\n",
    "loaded_model"
   ]
  },
  {
   "cell_type": "code",
   "execution_count": null,
   "id": "b266f6fd",
   "metadata": {},
   "outputs": [],
   "source": []
  }
 ],
 "metadata": {
  "kernelspec": {
   "display_name": "Python 3 (ipykernel)",
   "language": "python",
   "name": "python3"
  },
  "language_info": {
   "codemirror_mode": {
    "name": "ipython",
    "version": 3
   },
   "file_extension": ".py",
   "mimetype": "text/x-python",
   "name": "python",
   "nbconvert_exporter": "python",
   "pygments_lexer": "ipython3",
   "version": "3.8.10"
  }
 },
 "nbformat": 4,
 "nbformat_minor": 5
}
